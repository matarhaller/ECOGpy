{
 "metadata": {
  "name": "",
  "signature": "sha256:186288b1ca0d69664761fd6c14f8c2172c73b216dd92fccb34705861fd71129b"
 },
 "nbformat": 3,
 "nbformat_minor": 0,
 "worksheets": [
  {
   "cells": [
    {
     "cell_type": "code",
     "collapsed": false,
     "input": [
      "%reset\n",
      "%pylab inline"
     ],
     "language": "python",
     "metadata": {},
     "outputs": [
      {
       "name": "stdout",
       "output_type": "stream",
       "stream": "stdout",
       "text": [
        "Once deleted, variables cannot be recovered. Proceed (y/[n])? y\n"
       ]
      },
      {
       "output_type": "stream",
       "stream": "stdout",
       "text": [
        "Populating the interactive namespace from numpy and matplotlib\n"
       ]
      }
     ],
     "prompt_number": 226
    },
    {
     "cell_type": "code",
     "collapsed": false,
     "input": [
      "from HG_regression_revised import plot_figures\n",
      "import cPickle as pickle\n",
      "import os\n",
      "import pandas as pd\n",
      "from __future__ import division\n",
      "\n",
      "SJdir = '/home/knight/matar/MATLAB/DATA/Avgusta'\n"
     ],
     "language": "python",
     "metadata": {},
     "outputs": [],
     "prompt_number": 227
    },
    {
     "cell_type": "markdown",
     "metadata": {},
     "source": [
      "## ridge regression for HG properties for active elecs within duration cluster (vs RT)"
     ]
    },
    {
     "cell_type": "markdown",
     "metadata": {},
     "source": [
      "## combine individual subj/task csvs from static 250ms windows into large csv with pattern designation\n",
      "* either stim or response locked windows\n",
      "* from ShadePlots_elecs_stats_static250.py"
     ]
    },
    {
     "cell_type": "code",
     "collapsed": false,
     "input": [
      "folder = 'maxes_medians_stds'\n",
      "SJdir = '/home/knight/matar/MATLAB/DATA/Avgusta'\n",
      "df_pattern = pd.read_csv(os.path.join(SJdir, 'PCA','Stats', 'single_electrode_windows_csvs', 'single_electrode_windows_withdesignation_EDITED_dropped_withROI.csv'))\n",
      "\n",
      "lock = 'resp'\n",
      "\n",
      "subj_task = df_pattern[['subj', 'task']].drop_duplicates()\n",
      "\n",
      "#df_all = pd.DataFrame({'medians':[], 'maxes_rel':[], 'stds':[], 'pred_score':[], 'pval_predscore':[], 'alpha':[]})\n",
      "df_all = pd.DataFrame({'coef':[], 'pred_score':[], 'pval_predscore':[], 'alpha':[]})\n",
      "\n",
      "\n",
      "for s_t in subj_task.itertuples():\n",
      "    _, subj, task = s_t\n",
      "\n",
      "    filename = os.path.join(SJdir, 'PCA','Stats','Regression', 'unsmoothed', folder, 'static_250windows', lock, '_'.join([subj, task,'regression_values', lock+'.csv']))    \n",
      "    if os.path.exists(filename):\n",
      "        df = pd.read_csv(filename)\n",
      "    else:\n",
      "        print('skipping %s %s\\n' %(subj, task))\n",
      "        continue\n",
      "    \n",
      "    colnames = list(df.columns)\n",
      "    colnames.pop(0)\n",
      "    colnames.insert(0, 'elec')\n",
      "    df.columns = colnames\n",
      "    \n",
      "    df['subj'] = [subj] * len(df)\n",
      "    df['task'] = [task] * len(df)\n",
      "    \n",
      "    df_all = df_all.append(df)"
     ],
     "language": "python",
     "metadata": {},
     "outputs": [
      {
       "output_type": "stream",
       "stream": "stdout",
       "text": [
        "skipping GP44 DecisionAud\n",
        "\n"
       ]
      }
     ],
     "prompt_number": 250
    },
    {
     "cell_type": "code",
     "collapsed": false,
     "input": [
      "df_all = pd.merge(df_all, df_pattern[['subj','task','elec', 'pattern', 'ROI']], how = 'inner')\n",
      "df_all = df_all[['subj','task','elec','pattern','score', 'pval','alpha', 'coef', 'ROI']]"
     ],
     "language": "python",
     "metadata": {},
     "outputs": [],
     "prompt_number": 257
    },
    {
     "cell_type": "code",
     "collapsed": false,
     "input": [
      "df_sig = df_all[(df_all.pval<0.05)]"
     ],
     "language": "python",
     "metadata": {},
     "outputs": [],
     "prompt_number": 289
    },
    {
     "cell_type": "code",
     "collapsed": false,
     "input": [
      "filename = os.path.join(SJdir, 'PCA','Stats','Regression', 'unsmoothed', folder, 'static_250windows', lock, 'all_regression_values_'+lock+'.csv')    \n",
      "df_all.to_csv(filename)\n",
      "filename"
     ],
     "language": "python",
     "metadata": {},
     "outputs": [
      {
       "metadata": {},
       "output_type": "pyout",
       "prompt_number": 262,
       "text": [
        "'/home/knight/matar/MATLAB/DATA/Avgusta/PCA/Stats/Regression/unsmoothed/maxes_medians_stds/static_250windows/resp/all_regression_values_resp.csv'"
       ]
      }
     ],
     "prompt_number": 262
    },
    {
     "cell_type": "code",
     "collapsed": false,
     "input": [
      "df_sig[df_sig.pattern == 'D']"
     ],
     "language": "python",
     "metadata": {},
     "outputs": [
      {
       "html": [
        "<div style=\"max-height:1000px;max-width:1500px;overflow:auto;\">\n",
        "<table border=\"1\" class=\"dataframe\">\n",
        "  <thead>\n",
        "    <tr style=\"text-align: right;\">\n",
        "      <th></th>\n",
        "      <th>subj</th>\n",
        "      <th>task</th>\n",
        "      <th>elec</th>\n",
        "      <th>pattern</th>\n",
        "      <th>score</th>\n",
        "      <th>pval</th>\n",
        "      <th>alpha</th>\n",
        "      <th>coef</th>\n",
        "      <th>ROI</th>\n",
        "    </tr>\n",
        "  </thead>\n",
        "  <tbody>\n",
        "    <tr>\n",
        "      <th>39 </th>\n",
        "      <td> GP15</td>\n",
        "      <td>      EmoGen</td>\n",
        "      <td>  52</td>\n",
        "      <td> D</td>\n",
        "      <td> 0.330812</td>\n",
        "      <td> 0.036</td>\n",
        "      <td> 166.810054</td>\n",
        "      <td> [-0.08702679 -0.09670608 -0.05701522  0.08782355]</td>\n",
        "      <td>        STG</td>\n",
        "    </tr>\n",
        "    <tr>\n",
        "      <th>41 </th>\n",
        "      <td> GP15</td>\n",
        "      <td>      EmoGen</td>\n",
        "      <td>  54</td>\n",
        "      <td> D</td>\n",
        "      <td> 0.332554</td>\n",
        "      <td> 0.044</td>\n",
        "      <td> 166.810054</td>\n",
        "      <td> [-0.07643945 -0.0662021  -0.13794059  0.06396059]</td>\n",
        "      <td>        STG</td>\n",
        "    </tr>\n",
        "    <tr>\n",
        "      <th>87 </th>\n",
        "      <td> GP15</td>\n",
        "      <td>     FaceEmo</td>\n",
        "      <td>  74</td>\n",
        "      <td> D</td>\n",
        "      <td> 0.325125</td>\n",
        "      <td> 0.047</td>\n",
        "      <td>  21.544347</td>\n",
        "      <td> [ 0.04050358 -0.18953443 -0.10238047  0.0258695 ]</td>\n",
        "      <td>        NaN</td>\n",
        "    </tr>\n",
        "    <tr>\n",
        "      <th>303</th>\n",
        "      <td> GP35</td>\n",
        "      <td>     FaceGen</td>\n",
        "      <td>  55</td>\n",
        "      <td> D</td>\n",
        "      <td> 0.515166</td>\n",
        "      <td> 0.015</td>\n",
        "      <td>  21.544347</td>\n",
        "      <td> [ 0.01067839  0.19339067 -0.1123397  -0.38968869]</td>\n",
        "      <td> Pre_centrl</td>\n",
        "    </tr>\n",
        "    <tr>\n",
        "      <th>307</th>\n",
        "      <td> GP35</td>\n",
        "      <td>     FaceGen</td>\n",
        "      <td>  61</td>\n",
        "      <td> D</td>\n",
        "      <td> 0.480053</td>\n",
        "      <td> 0.018</td>\n",
        "      <td>  21.544347</td>\n",
        "      <td> [-0.10153386 -0.10518317 -0.15633535 -0.11193761]</td>\n",
        "      <td>        MFG</td>\n",
        "    </tr>\n",
        "    <tr>\n",
        "      <th>452</th>\n",
        "      <td>  JH2</td>\n",
        "      <td>     FaceEmo</td>\n",
        "      <td> 133</td>\n",
        "      <td> D</td>\n",
        "      <td> 0.533592</td>\n",
        "      <td> 0.002</td>\n",
        "      <td>  21.544347</td>\n",
        "      <td> [ 0.03708454 -0.23821139 -0.23689842 -0.16071252]</td>\n",
        "      <td>    Area_37</td>\n",
        "    </tr>\n",
        "    <tr>\n",
        "      <th>586</th>\n",
        "      <td> ST27</td>\n",
        "      <td> DecisionVis</td>\n",
        "      <td>  15</td>\n",
        "      <td> D</td>\n",
        "      <td> 0.258406</td>\n",
        "      <td> 0.014</td>\n",
        "      <td> 166.810054</td>\n",
        "      <td> [-0.04397094 -0.05848319 -0.10393368  0.11984816]</td>\n",
        "      <td> MFG_premot</td>\n",
        "    </tr>\n",
        "    <tr>\n",
        "      <th>588</th>\n",
        "      <td> ST27</td>\n",
        "      <td> DecisionVis</td>\n",
        "      <td>  28</td>\n",
        "      <td> D</td>\n",
        "      <td> 0.187058</td>\n",
        "      <td> 0.041</td>\n",
        "      <td> 166.810054</td>\n",
        "      <td> [-0.05657613 -0.03534848 -0.06918893 -0.07262355]</td>\n",
        "      <td>        SFG</td>\n",
        "    </tr>\n",
        "    <tr>\n",
        "      <th>596</th>\n",
        "      <td> ST27</td>\n",
        "      <td> DecisionVis</td>\n",
        "      <td>  39</td>\n",
        "      <td> D</td>\n",
        "      <td> 0.267828</td>\n",
        "      <td> 0.012</td>\n",
        "      <td> 166.810054</td>\n",
        "      <td> [-0.07395546 -0.04025109 -0.10046494  0.10796337]</td>\n",
        "      <td>        SPL</td>\n",
        "    </tr>\n",
        "    <tr>\n",
        "      <th>607</th>\n",
        "      <td> ST27</td>\n",
        "      <td> DecisionVis</td>\n",
        "      <td>  80</td>\n",
        "      <td> D</td>\n",
        "      <td> 0.213562</td>\n",
        "      <td> 0.037</td>\n",
        "      <td> 166.810054</td>\n",
        "      <td> [ 0.04842417  0.09692213  0.067342    0.01624772]</td>\n",
        "      <td>       dACC</td>\n",
        "    </tr>\n",
        "    <tr>\n",
        "      <th>613</th>\n",
        "      <td> ST27</td>\n",
        "      <td> DecisionVis</td>\n",
        "      <td> 103</td>\n",
        "      <td> D</td>\n",
        "      <td> 0.185720</td>\n",
        "      <td> 0.040</td>\n",
        "      <td> 166.810054</td>\n",
        "      <td> [ 0.0367054   0.1200643  -0.00642099  0.08427724]</td>\n",
        "      <td>        MFG</td>\n",
        "    </tr>\n",
        "    <tr>\n",
        "      <th>630</th>\n",
        "      <td> ST28</td>\n",
        "      <td> DecisionVis</td>\n",
        "      <td> 111</td>\n",
        "      <td> D</td>\n",
        "      <td> 0.358666</td>\n",
        "      <td> 0.008</td>\n",
        "      <td> 166.810054</td>\n",
        "      <td> [-0.05104321 -0.14950948 -0.10463252  0.05735135]</td>\n",
        "      <td>          R</td>\n",
        "    </tr>\n",
        "    <tr>\n",
        "      <th>640</th>\n",
        "      <td> ST32</td>\n",
        "      <td> DecisionVis</td>\n",
        "      <td>   9</td>\n",
        "      <td> D</td>\n",
        "      <td> 0.257130</td>\n",
        "      <td> 0.024</td>\n",
        "      <td>  21.544347</td>\n",
        "      <td> [ 0.13412998 -0.11673337 -0.23122309 -0.07287559]</td>\n",
        "      <td>        ITG</td>\n",
        "    </tr>\n",
        "  </tbody>\n",
        "</table>\n",
        "</div>"
       ],
       "metadata": {},
       "output_type": "pyout",
       "prompt_number": 292,
       "text": [
        "     subj         task  elec pattern     score   pval       alpha  \\\n",
        "39   GP15       EmoGen    52       D  0.330812  0.036  166.810054   \n",
        "41   GP15       EmoGen    54       D  0.332554  0.044  166.810054   \n",
        "87   GP15      FaceEmo    74       D  0.325125  0.047   21.544347   \n",
        "303  GP35      FaceGen    55       D  0.515166  0.015   21.544347   \n",
        "307  GP35      FaceGen    61       D  0.480053  0.018   21.544347   \n",
        "452   JH2      FaceEmo   133       D  0.533592  0.002   21.544347   \n",
        "586  ST27  DecisionVis    15       D  0.258406  0.014  166.810054   \n",
        "588  ST27  DecisionVis    28       D  0.187058  0.041  166.810054   \n",
        "596  ST27  DecisionVis    39       D  0.267828  0.012  166.810054   \n",
        "607  ST27  DecisionVis    80       D  0.213562  0.037  166.810054   \n",
        "613  ST27  DecisionVis   103       D  0.185720  0.040  166.810054   \n",
        "630  ST28  DecisionVis   111       D  0.358666  0.008  166.810054   \n",
        "640  ST32  DecisionVis     9       D  0.257130  0.024   21.544347   \n",
        "\n",
        "                                                  coef         ROI  \n",
        "39   [-0.08702679 -0.09670608 -0.05701522  0.08782355]         STG  \n",
        "41   [-0.07643945 -0.0662021  -0.13794059  0.06396059]         STG  \n",
        "87   [ 0.04050358 -0.18953443 -0.10238047  0.0258695 ]         NaN  \n",
        "303  [ 0.01067839  0.19339067 -0.1123397  -0.38968869]  Pre_centrl  \n",
        "307  [-0.10153386 -0.10518317 -0.15633535 -0.11193761]         MFG  \n",
        "452  [ 0.03708454 -0.23821139 -0.23689842 -0.16071252]     Area_37  \n",
        "586  [-0.04397094 -0.05848319 -0.10393368  0.11984816]  MFG_premot  \n",
        "588  [-0.05657613 -0.03534848 -0.06918893 -0.07262355]         SFG  \n",
        "596  [-0.07395546 -0.04025109 -0.10046494  0.10796337]         SPL  \n",
        "607  [ 0.04842417  0.09692213  0.067342    0.01624772]        dACC  \n",
        "613  [ 0.0367054   0.1200643  -0.00642099  0.08427724]         MFG  \n",
        "630  [-0.05104321 -0.14950948 -0.10463252  0.05735135]           R  \n",
        "640  [ 0.13412998 -0.11673337 -0.23122309 -0.07287559]         ITG  "
       ]
      }
     ],
     "prompt_number": 292
    },
    {
     "cell_type": "code",
     "collapsed": false,
     "input": [
      "df_edit"
     ],
     "language": "python",
     "metadata": {},
     "outputs": [
      {
       "html": [
        "<div style=\"max-height:1000px;max-width:1500px;overflow:auto;\">\n",
        "<table border=\"1\" class=\"dataframe\">\n",
        "  <thead>\n",
        "    <tr style=\"text-align: right;\">\n",
        "      <th></th>\n",
        "      <th>subj</th>\n",
        "      <th>task</th>\n",
        "      <th>elec</th>\n",
        "      <th>real_score</th>\n",
        "      <th>real_score_p</th>\n",
        "      <th>pval_surr</th>\n",
        "      <th>surr_score</th>\n",
        "      <th>surr_score_std</th>\n",
        "      <th>ROI</th>\n",
        "      <th>pattern</th>\n",
        "    </tr>\n",
        "  </thead>\n",
        "  <tbody>\n",
        "    <tr>\n",
        "      <th>9  </th>\n",
        "      <td> GP15</td>\n",
        "      <td>      EmoGen</td>\n",
        "      <td>  18</td>\n",
        "      <td> 0.537850</td>\n",
        "      <td> 0.001</td>\n",
        "      <td> 0.027</td>\n",
        "      <td> 0.345075</td>\n",
        "      <td> 0.101924</td>\n",
        "      <td>   Broca</td>\n",
        "      <td> D</td>\n",
        "    </tr>\n",
        "    <tr>\n",
        "      <th>25 </th>\n",
        "      <td> GP15</td>\n",
        "      <td>     FaceEmo</td>\n",
        "      <td>   3</td>\n",
        "      <td> 0.408883</td>\n",
        "      <td> 0.017</td>\n",
        "      <td> 0.020</td>\n",
        "      <td> 0.178382</td>\n",
        "      <td> 0.123206</td>\n",
        "      <td>     MFG</td>\n",
        "      <td> D</td>\n",
        "    </tr>\n",
        "    <tr>\n",
        "      <th>64 </th>\n",
        "      <td> GP35</td>\n",
        "      <td>      EmoGen</td>\n",
        "      <td>   5</td>\n",
        "      <td> 0.456908</td>\n",
        "      <td> 0.041</td>\n",
        "      <td> 0.028</td>\n",
        "      <td> 0.197028</td>\n",
        "      <td> 0.148112</td>\n",
        "      <td>   Broca</td>\n",
        "      <td> D</td>\n",
        "    </tr>\n",
        "    <tr>\n",
        "      <th>69 </th>\n",
        "      <td> GP35</td>\n",
        "      <td>      EmoGen</td>\n",
        "      <td>  24</td>\n",
        "      <td> 0.475434</td>\n",
        "      <td> 0.027</td>\n",
        "      <td> 0.019</td>\n",
        "      <td> 0.195261</td>\n",
        "      <td> 0.146002</td>\n",
        "      <td>     IPL</td>\n",
        "      <td> D</td>\n",
        "    </tr>\n",
        "    <tr>\n",
        "      <th>127</th>\n",
        "      <td> JH17</td>\n",
        "      <td>     SelfAud</td>\n",
        "      <td>  24</td>\n",
        "      <td> 0.596383</td>\n",
        "      <td> 0.020</td>\n",
        "      <td> 0.004</td>\n",
        "      <td> 0.214976</td>\n",
        "      <td> 0.173918</td>\n",
        "      <td>     IFG</td>\n",
        "      <td> D</td>\n",
        "    </tr>\n",
        "    <tr>\n",
        "      <th>131</th>\n",
        "      <td> JH17</td>\n",
        "      <td>     SelfAud</td>\n",
        "      <td>  52</td>\n",
        "      <td> 0.692078</td>\n",
        "      <td> 0.013</td>\n",
        "      <td> 0.021</td>\n",
        "      <td> 0.456348</td>\n",
        "      <td> 0.129130</td>\n",
        "      <td>     MTG</td>\n",
        "      <td> D</td>\n",
        "    </tr>\n",
        "    <tr>\n",
        "      <th>145</th>\n",
        "      <td> JH17</td>\n",
        "      <td>     SelfVis</td>\n",
        "      <td>  40</td>\n",
        "      <td> 0.652365</td>\n",
        "      <td> 0.006</td>\n",
        "      <td> 0.001</td>\n",
        "      <td> 0.300336</td>\n",
        "      <td> 0.144685</td>\n",
        "      <td>     OFC</td>\n",
        "      <td> D</td>\n",
        "    </tr>\n",
        "    <tr>\n",
        "      <th>156</th>\n",
        "      <td>  JH2</td>\n",
        "      <td>      EmoGen</td>\n",
        "      <td>  11</td>\n",
        "      <td> 0.671941</td>\n",
        "      <td> 0.015</td>\n",
        "      <td> 0.020</td>\n",
        "      <td> 0.428754</td>\n",
        "      <td> 0.141141</td>\n",
        "      <td>   Broca</td>\n",
        "      <td> D</td>\n",
        "    </tr>\n",
        "    <tr>\n",
        "      <th>182</th>\n",
        "      <td>  JH2</td>\n",
        "      <td>     FaceEmo</td>\n",
        "      <td> 133</td>\n",
        "      <td> 0.379580</td>\n",
        "      <td> 0.047</td>\n",
        "      <td> 0.015</td>\n",
        "      <td> 0.092781</td>\n",
        "      <td> 0.144280</td>\n",
        "      <td> Area_37</td>\n",
        "      <td> D</td>\n",
        "    </tr>\n",
        "    <tr>\n",
        "      <th>241</th>\n",
        "      <td> ST27</td>\n",
        "      <td> DecisionVis</td>\n",
        "      <td>  99</td>\n",
        "      <td> 0.232029</td>\n",
        "      <td> 0.020</td>\n",
        "      <td> 0.015</td>\n",
        "      <td> 0.098806</td>\n",
        "      <td> 0.068731</td>\n",
        "      <td>  FrPole</td>\n",
        "      <td> D</td>\n",
        "    </tr>\n",
        "    <tr>\n",
        "      <th>242</th>\n",
        "      <td> ST27</td>\n",
        "      <td> DecisionVis</td>\n",
        "      <td> 102</td>\n",
        "      <td> 0.244742</td>\n",
        "      <td> 0.012</td>\n",
        "      <td> 0.009</td>\n",
        "      <td> 0.088754</td>\n",
        "      <td> 0.072960</td>\n",
        "      <td>     MFG</td>\n",
        "      <td> D</td>\n",
        "    </tr>\n",
        "    <tr>\n",
        "      <th>243</th>\n",
        "      <td> ST27</td>\n",
        "      <td> DecisionVis</td>\n",
        "      <td> 103</td>\n",
        "      <td> 0.253222</td>\n",
        "      <td> 0.010</td>\n",
        "      <td> 0.009</td>\n",
        "      <td> 0.090481</td>\n",
        "      <td> 0.071536</td>\n",
        "      <td>     MFG</td>\n",
        "      <td> D</td>\n",
        "    </tr>\n",
        "    <tr>\n",
        "      <th>260</th>\n",
        "      <td> ST32</td>\n",
        "      <td> DecisionVis</td>\n",
        "      <td>   9</td>\n",
        "      <td> 0.245008</td>\n",
        "      <td> 0.033</td>\n",
        "      <td> 0.017</td>\n",
        "      <td> 0.069815</td>\n",
        "      <td> 0.087993</td>\n",
        "      <td>     ITG</td>\n",
        "      <td> D</td>\n",
        "    </tr>\n",
        "  </tbody>\n",
        "</table>\n",
        "</div>"
       ],
       "metadata": {},
       "output_type": "pyout",
       "prompt_number": 288,
       "text": [
        "     subj         task  elec  real_score  real_score_p  pval_surr  surr_score  \\\n",
        "9    GP15       EmoGen    18    0.537850         0.001      0.027    0.345075   \n",
        "25   GP15      FaceEmo     3    0.408883         0.017      0.020    0.178382   \n",
        "64   GP35       EmoGen     5    0.456908         0.041      0.028    0.197028   \n",
        "69   GP35       EmoGen    24    0.475434         0.027      0.019    0.195261   \n",
        "127  JH17      SelfAud    24    0.596383         0.020      0.004    0.214976   \n",
        "131  JH17      SelfAud    52    0.692078         0.013      0.021    0.456348   \n",
        "145  JH17      SelfVis    40    0.652365         0.006      0.001    0.300336   \n",
        "156   JH2       EmoGen    11    0.671941         0.015      0.020    0.428754   \n",
        "182   JH2      FaceEmo   133    0.379580         0.047      0.015    0.092781   \n",
        "241  ST27  DecisionVis    99    0.232029         0.020      0.015    0.098806   \n",
        "242  ST27  DecisionVis   102    0.244742         0.012      0.009    0.088754   \n",
        "243  ST27  DecisionVis   103    0.253222         0.010      0.009    0.090481   \n",
        "260  ST32  DecisionVis     9    0.245008         0.033      0.017    0.069815   \n",
        "\n",
        "     surr_score_std      ROI pattern  \n",
        "9          0.101924    Broca       D  \n",
        "25         0.123206      MFG       D  \n",
        "64         0.148112    Broca       D  \n",
        "69         0.146002      IPL       D  \n",
        "127        0.173918      IFG       D  \n",
        "131        0.129130      MTG       D  \n",
        "145        0.144685      OFC       D  \n",
        "156        0.141141    Broca       D  \n",
        "182        0.144280  Area_37       D  \n",
        "241        0.068731   FrPole       D  \n",
        "242        0.072960      MFG       D  \n",
        "243        0.071536      MFG       D  \n",
        "260        0.087993      ITG       D  "
       ]
      }
     ],
     "prompt_number": 288
    },
    {
     "cell_type": "code",
     "collapsed": false,
     "input": [
      "\n",
      "df_edit.merge(df_sig)"
     ],
     "language": "python",
     "metadata": {},
     "outputs": [
      {
       "html": [
        "<div style=\"max-height:1000px;max-width:1500px;overflow:auto;\">\n",
        "<table border=\"1\" class=\"dataframe\">\n",
        "  <thead>\n",
        "    <tr style=\"text-align: right;\">\n",
        "      <th></th>\n",
        "      <th>subj</th>\n",
        "      <th>task</th>\n",
        "      <th>elec</th>\n",
        "      <th>real_score</th>\n",
        "      <th>real_score_p</th>\n",
        "      <th>pval_surr</th>\n",
        "      <th>surr_score</th>\n",
        "      <th>surr_score_std</th>\n",
        "      <th>ROI</th>\n",
        "      <th>pattern</th>\n",
        "      <th>score</th>\n",
        "      <th>pval</th>\n",
        "      <th>alpha</th>\n",
        "      <th>coef</th>\n",
        "    </tr>\n",
        "  </thead>\n",
        "  <tbody>\n",
        "    <tr>\n",
        "      <th>0</th>\n",
        "      <td>  JH2</td>\n",
        "      <td>     FaceEmo</td>\n",
        "      <td> 133</td>\n",
        "      <td> 0.379580</td>\n",
        "      <td> 0.047</td>\n",
        "      <td> 0.015</td>\n",
        "      <td> 0.092781</td>\n",
        "      <td> 0.144280</td>\n",
        "      <td> Area_37</td>\n",
        "      <td> D</td>\n",
        "      <td> 0.533592</td>\n",
        "      <td> 0.002</td>\n",
        "      <td>  21.544347</td>\n",
        "      <td> [ 0.03708454 -0.23821139 -0.23689842 -0.16071252]</td>\n",
        "    </tr>\n",
        "    <tr>\n",
        "      <th>1</th>\n",
        "      <td> ST27</td>\n",
        "      <td> DecisionVis</td>\n",
        "      <td> 103</td>\n",
        "      <td> 0.253222</td>\n",
        "      <td> 0.010</td>\n",
        "      <td> 0.009</td>\n",
        "      <td> 0.090481</td>\n",
        "      <td> 0.071536</td>\n",
        "      <td>     MFG</td>\n",
        "      <td> D</td>\n",
        "      <td> 0.185720</td>\n",
        "      <td> 0.040</td>\n",
        "      <td> 166.810054</td>\n",
        "      <td> [ 0.0367054   0.1200643  -0.00642099  0.08427724]</td>\n",
        "    </tr>\n",
        "    <tr>\n",
        "      <th>2</th>\n",
        "      <td> ST32</td>\n",
        "      <td> DecisionVis</td>\n",
        "      <td>   9</td>\n",
        "      <td> 0.245008</td>\n",
        "      <td> 0.033</td>\n",
        "      <td> 0.017</td>\n",
        "      <td> 0.069815</td>\n",
        "      <td> 0.087993</td>\n",
        "      <td>     ITG</td>\n",
        "      <td> D</td>\n",
        "      <td> 0.257130</td>\n",
        "      <td> 0.024</td>\n",
        "      <td>  21.544347</td>\n",
        "      <td> [ 0.13412998 -0.11673337 -0.23122309 -0.07287559]</td>\n",
        "    </tr>\n",
        "  </tbody>\n",
        "</table>\n",
        "</div>"
       ],
       "metadata": {},
       "output_type": "pyout",
       "prompt_number": 282,
       "text": [
        "   subj         task  elec  real_score  real_score_p  pval_surr  surr_score  \\\n",
        "0   JH2      FaceEmo   133    0.379580         0.047      0.015    0.092781   \n",
        "1  ST27  DecisionVis   103    0.253222         0.010      0.009    0.090481   \n",
        "2  ST32  DecisionVis     9    0.245008         0.033      0.017    0.069815   \n",
        "\n",
        "   surr_score_std      ROI pattern     score   pval       alpha  \\\n",
        "0        0.144280  Area_37       D  0.533592  0.002   21.544347   \n",
        "1        0.071536      MFG       D  0.185720  0.040  166.810054   \n",
        "2        0.087993      ITG       D  0.257130  0.024   21.544347   \n",
        "\n",
        "                                                coef  \n",
        "0  [ 0.03708454 -0.23821139 -0.23689842 -0.16071252]  \n",
        "1  [ 0.0367054   0.1200643  -0.00642099  0.08427724]  \n",
        "2  [ 0.13412998 -0.11673337 -0.23122309 -0.07287559]  "
       ]
      }
     ],
     "prompt_number": 282
    },
    {
     "cell_type": "markdown",
     "metadata": {},
     "source": [
      "### histogram of surrogate distribution results versus real prediction score\n",
      "* after running 1000 surrogate regressions, plots histograms and calculates pvalues"
     ]
    },
    {
     "cell_type": "code",
     "collapsed": false,
     "input": [
      "dplot = False\n",
      "df = pd.read_csv(os.path.join(SJdir, 'PCA','Stats','single_electrode_windows_csvs', 'single_electrode_windows_withdesignation_EDITED_dropped.csv'))\n",
      "\n",
      "subjs, tasks, elecs, real_scores, real_scores_p, pvals, surr_scores, surr_scores_std = [[] for i in range(8)]\n",
      "\n",
      "subj_task = df[['subj', 'task']].drop_duplicates()\n",
      "\n",
      "for s_t in subj_task.itertuples():\n",
      "    _, subj, task = s_t\n",
      "    DATASET = '_'.join([subj, task])\n",
      "    \n",
      "    filename = os.path.join(SJdir, 'PCA','Stats', 'Regression','unsmoothed','maxes_medians','surr_distributions', 'Jan09', '_'.join([DATASET, 'scores_surr_dist.csv']))\n",
      "    if not(os.path.exists(filename)):\n",
      "        continue\n",
      "    df_surr = pd.read_csv(filename)\n",
      "\n",
      "    filename = os.path.join(SJdir, 'PCA','Stats', 'Regression','unsmoothed','maxes_medians', 'no_short_windows', '_'.join([DATASET, 'coefs.csv']))\n",
      "    df_real = pd.read_csv(filename)\n",
      "    \n",
      "    dur_elecs = [int(e) for e in df_surr.columns[1:]]\n",
      "    for e in dur_elecs:\n",
      "    \n",
      "        real_score = df_real[df_real[\"Unnamed: 0\"] == e].pred_score.iloc[0]\n",
      "        real_score_p = df_real[df_real[\"Unnamed: 0\"] == e].pval_predscore.iloc[0]\n",
      "        \n",
      "        surr_score_mean = df_surr[str(e)].mean()\n",
      "        surr_score_std = df_surr[str(e)].std()\n",
      "\n",
      "        if real_score > surr_score_mean : #surrogate dist not centered at zero\n",
      "            pval = sum(df_surr[str(e)]>real_score)/df_surr.shape[0]\n",
      "        else:\n",
      "            pval = sum(df_surr[str(e)]<real_score)/df_surr.shape[0]\n",
      "        \n",
      "        if dplot:\n",
      "            #plot\n",
      "            f, ax = plt.subplots()\n",
      "            df_surr[str(e)].hist(ax = ax)\n",
      "            plt.axvline(x = real_score, color = 'red', lw = 2)\n",
      "            ax.set_title('%s e%i, pval %.2f' %(DATASET, e, pval))\n",
      "            filename = os.path.join(SJdir, 'PCA','Stats', 'Regression','unsmoothed','maxes_medians','surr_distributions', 'images', '_'.join([DATASET, 'e'+str(e)]))\n",
      "            plt.savefig( filename + '.png')\n",
      "            plt.close()\n",
      "\n",
      "        subjs.append(subj)\n",
      "        tasks.append(task)\n",
      "        elecs.append(e)\n",
      "        real_scores.append(real_score)\n",
      "        real_scores_p.append(real_score_p)\n",
      "        pvals.append(pval)\n",
      "        surr_scores.append(surr_score_mean)\n",
      "        surr_scores_std.append(surr_score_std)\n",
      "    \n",
      "    df = pd.DataFrame({'subj':subjs, 'task':tasks, 'elec':elecs, 'real_score':real_scores, 'real_score_p':real_scores_p, 'pval_surr':pvals, 'surr_score':surr_scores, 'surr_score_std': surr_scores_std})\n",
      "    df = df[['subj','task','elec','real_score','real_score_p','pval_surr', 'surr_score','surr_score_std']]\n",
      "    filename = os.path.join(SJdir, 'PCA','Stats', 'Regression','unsmoothed','maxes_medians','surr_distributions', 'pvals_dur_elecs.csv')\n",
      "    df.to_csv(filename, index = False)"
     ],
     "language": "python",
     "metadata": {},
     "outputs": [],
     "prompt_number": 275
    },
    {
     "cell_type": "code",
     "collapsed": false,
     "input": [
      "#add ROI\n",
      "df_pattern = pd.read_csv(os.path.join(SJdir, 'PCA','Stats','single_electrode_windows_csvs', 'single_electrode_windows_withdesignation_EDITED_dropped_withROI.csv'))\n",
      "df = df.merge(df_pattern[['subj','task','elec','ROI', 'pattern']])\n",
      "df = df[df.pattern == 'D']\n",
      "filename = os.path.join(SJdir, 'PCA','Stats', 'Regression','unsmoothed','maxes_medians','surr_distributions', 'pvals_dur_elecs_ROI.csv')\n",
      "df.to_csv(filename, index = False)"
     ],
     "language": "python",
     "metadata": {},
     "outputs": [],
     "prompt_number": 276
    },
    {
     "cell_type": "code",
     "collapsed": false,
     "input": [
      "tmp = df.query(\"subj not in ['GP44','ST28','GP27', 'JH5'] and task not in ['EmoRep'] and real_score_p<0.05\")"
     ],
     "language": "python",
     "metadata": {},
     "outputs": [],
     "prompt_number": 277
    },
    {
     "cell_type": "code",
     "collapsed": false,
     "input": [
      "df_edit = df.query(\"subj not in ['GP44','ST28','GP27', 'JH5'] and task not in ['EmoRep']\")\n",
      "df_edit.shape"
     ],
     "language": "python",
     "metadata": {},
     "outputs": [
      {
       "metadata": {},
       "output_type": "pyout",
       "prompt_number": 278,
       "text": [
        "(218, 10)"
       ]
      }
     ],
     "prompt_number": 278
    },
    {
     "cell_type": "code",
     "collapsed": false,
     "input": [
      "df_edit = df.query(\"subj not in ['GP44','ST28','GP27', 'JH5'] and task not in ['EmoRep']\")\n",
      "df_edit = df_edit[(df_edit.real_score_p<0.05) & (df_edit.pval_surr <0.05)]\n",
      "print df_edit.shape\n",
      "df_edit"
     ],
     "language": "python",
     "metadata": {},
     "outputs": [
      {
       "output_type": "stream",
       "stream": "stdout",
       "text": [
        "(13, 10)\n"
       ]
      },
      {
       "html": [
        "<div style=\"max-height:1000px;max-width:1500px;overflow:auto;\">\n",
        "<table border=\"1\" class=\"dataframe\">\n",
        "  <thead>\n",
        "    <tr style=\"text-align: right;\">\n",
        "      <th></th>\n",
        "      <th>subj</th>\n",
        "      <th>task</th>\n",
        "      <th>elec</th>\n",
        "      <th>real_score</th>\n",
        "      <th>real_score_p</th>\n",
        "      <th>pval_surr</th>\n",
        "      <th>surr_score</th>\n",
        "      <th>surr_score_std</th>\n",
        "      <th>ROI</th>\n",
        "      <th>pattern</th>\n",
        "    </tr>\n",
        "  </thead>\n",
        "  <tbody>\n",
        "    <tr>\n",
        "      <th>9  </th>\n",
        "      <td> GP15</td>\n",
        "      <td>      EmoGen</td>\n",
        "      <td>  18</td>\n",
        "      <td> 0.537850</td>\n",
        "      <td> 0.001</td>\n",
        "      <td> 0.027</td>\n",
        "      <td> 0.345075</td>\n",
        "      <td> 0.101924</td>\n",
        "      <td>   Broca</td>\n",
        "      <td> D</td>\n",
        "    </tr>\n",
        "    <tr>\n",
        "      <th>25 </th>\n",
        "      <td> GP15</td>\n",
        "      <td>     FaceEmo</td>\n",
        "      <td>   3</td>\n",
        "      <td> 0.408883</td>\n",
        "      <td> 0.017</td>\n",
        "      <td> 0.020</td>\n",
        "      <td> 0.178382</td>\n",
        "      <td> 0.123206</td>\n",
        "      <td>     MFG</td>\n",
        "      <td> D</td>\n",
        "    </tr>\n",
        "    <tr>\n",
        "      <th>64 </th>\n",
        "      <td> GP35</td>\n",
        "      <td>      EmoGen</td>\n",
        "      <td>   5</td>\n",
        "      <td> 0.456908</td>\n",
        "      <td> 0.041</td>\n",
        "      <td> 0.028</td>\n",
        "      <td> 0.197028</td>\n",
        "      <td> 0.148112</td>\n",
        "      <td>   Broca</td>\n",
        "      <td> D</td>\n",
        "    </tr>\n",
        "    <tr>\n",
        "      <th>69 </th>\n",
        "      <td> GP35</td>\n",
        "      <td>      EmoGen</td>\n",
        "      <td>  24</td>\n",
        "      <td> 0.475434</td>\n",
        "      <td> 0.027</td>\n",
        "      <td> 0.019</td>\n",
        "      <td> 0.195261</td>\n",
        "      <td> 0.146002</td>\n",
        "      <td>     IPL</td>\n",
        "      <td> D</td>\n",
        "    </tr>\n",
        "    <tr>\n",
        "      <th>127</th>\n",
        "      <td> JH17</td>\n",
        "      <td>     SelfAud</td>\n",
        "      <td>  24</td>\n",
        "      <td> 0.596383</td>\n",
        "      <td> 0.020</td>\n",
        "      <td> 0.004</td>\n",
        "      <td> 0.214976</td>\n",
        "      <td> 0.173918</td>\n",
        "      <td>     IFG</td>\n",
        "      <td> D</td>\n",
        "    </tr>\n",
        "    <tr>\n",
        "      <th>131</th>\n",
        "      <td> JH17</td>\n",
        "      <td>     SelfAud</td>\n",
        "      <td>  52</td>\n",
        "      <td> 0.692078</td>\n",
        "      <td> 0.013</td>\n",
        "      <td> 0.021</td>\n",
        "      <td> 0.456348</td>\n",
        "      <td> 0.129130</td>\n",
        "      <td>     MTG</td>\n",
        "      <td> D</td>\n",
        "    </tr>\n",
        "    <tr>\n",
        "      <th>145</th>\n",
        "      <td> JH17</td>\n",
        "      <td>     SelfVis</td>\n",
        "      <td>  40</td>\n",
        "      <td> 0.652365</td>\n",
        "      <td> 0.006</td>\n",
        "      <td> 0.001</td>\n",
        "      <td> 0.300336</td>\n",
        "      <td> 0.144685</td>\n",
        "      <td>     OFC</td>\n",
        "      <td> D</td>\n",
        "    </tr>\n",
        "    <tr>\n",
        "      <th>156</th>\n",
        "      <td>  JH2</td>\n",
        "      <td>      EmoGen</td>\n",
        "      <td>  11</td>\n",
        "      <td> 0.671941</td>\n",
        "      <td> 0.015</td>\n",
        "      <td> 0.020</td>\n",
        "      <td> 0.428754</td>\n",
        "      <td> 0.141141</td>\n",
        "      <td>   Broca</td>\n",
        "      <td> D</td>\n",
        "    </tr>\n",
        "    <tr>\n",
        "      <th>182</th>\n",
        "      <td>  JH2</td>\n",
        "      <td>     FaceEmo</td>\n",
        "      <td> 133</td>\n",
        "      <td> 0.379580</td>\n",
        "      <td> 0.047</td>\n",
        "      <td> 0.015</td>\n",
        "      <td> 0.092781</td>\n",
        "      <td> 0.144280</td>\n",
        "      <td> Area_37</td>\n",
        "      <td> D</td>\n",
        "    </tr>\n",
        "    <tr>\n",
        "      <th>241</th>\n",
        "      <td> ST27</td>\n",
        "      <td> DecisionVis</td>\n",
        "      <td>  99</td>\n",
        "      <td> 0.232029</td>\n",
        "      <td> 0.020</td>\n",
        "      <td> 0.015</td>\n",
        "      <td> 0.098806</td>\n",
        "      <td> 0.068731</td>\n",
        "      <td>  FrPole</td>\n",
        "      <td> D</td>\n",
        "    </tr>\n",
        "    <tr>\n",
        "      <th>242</th>\n",
        "      <td> ST27</td>\n",
        "      <td> DecisionVis</td>\n",
        "      <td> 102</td>\n",
        "      <td> 0.244742</td>\n",
        "      <td> 0.012</td>\n",
        "      <td> 0.009</td>\n",
        "      <td> 0.088754</td>\n",
        "      <td> 0.072960</td>\n",
        "      <td>     MFG</td>\n",
        "      <td> D</td>\n",
        "    </tr>\n",
        "    <tr>\n",
        "      <th>243</th>\n",
        "      <td> ST27</td>\n",
        "      <td> DecisionVis</td>\n",
        "      <td> 103</td>\n",
        "      <td> 0.253222</td>\n",
        "      <td> 0.010</td>\n",
        "      <td> 0.009</td>\n",
        "      <td> 0.090481</td>\n",
        "      <td> 0.071536</td>\n",
        "      <td>     MFG</td>\n",
        "      <td> D</td>\n",
        "    </tr>\n",
        "    <tr>\n",
        "      <th>260</th>\n",
        "      <td> ST32</td>\n",
        "      <td> DecisionVis</td>\n",
        "      <td>   9</td>\n",
        "      <td> 0.245008</td>\n",
        "      <td> 0.033</td>\n",
        "      <td> 0.017</td>\n",
        "      <td> 0.069815</td>\n",
        "      <td> 0.087993</td>\n",
        "      <td>     ITG</td>\n",
        "      <td> D</td>\n",
        "    </tr>\n",
        "  </tbody>\n",
        "</table>\n",
        "</div>"
       ],
       "metadata": {},
       "output_type": "pyout",
       "prompt_number": 279,
       "text": [
        "     subj         task  elec  real_score  real_score_p  pval_surr  surr_score  \\\n",
        "9    GP15       EmoGen    18    0.537850         0.001      0.027    0.345075   \n",
        "25   GP15      FaceEmo     3    0.408883         0.017      0.020    0.178382   \n",
        "64   GP35       EmoGen     5    0.456908         0.041      0.028    0.197028   \n",
        "69   GP35       EmoGen    24    0.475434         0.027      0.019    0.195261   \n",
        "127  JH17      SelfAud    24    0.596383         0.020      0.004    0.214976   \n",
        "131  JH17      SelfAud    52    0.692078         0.013      0.021    0.456348   \n",
        "145  JH17      SelfVis    40    0.652365         0.006      0.001    0.300336   \n",
        "156   JH2       EmoGen    11    0.671941         0.015      0.020    0.428754   \n",
        "182   JH2      FaceEmo   133    0.379580         0.047      0.015    0.092781   \n",
        "241  ST27  DecisionVis    99    0.232029         0.020      0.015    0.098806   \n",
        "242  ST27  DecisionVis   102    0.244742         0.012      0.009    0.088754   \n",
        "243  ST27  DecisionVis   103    0.253222         0.010      0.009    0.090481   \n",
        "260  ST32  DecisionVis     9    0.245008         0.033      0.017    0.069815   \n",
        "\n",
        "     surr_score_std      ROI pattern  \n",
        "9          0.101924    Broca       D  \n",
        "25         0.123206      MFG       D  \n",
        "64         0.148112    Broca       D  \n",
        "69         0.146002      IPL       D  \n",
        "127        0.173918      IFG       D  \n",
        "131        0.129130      MTG       D  \n",
        "145        0.144685      OFC       D  \n",
        "156        0.141141    Broca       D  \n",
        "182        0.144280  Area_37       D  \n",
        "241        0.068731   FrPole       D  \n",
        "242        0.072960      MFG       D  \n",
        "243        0.071536      MFG       D  \n",
        "260        0.087993      ITG       D  "
       ]
      }
     ],
     "prompt_number": 279
    },
    {
     "cell_type": "markdown",
     "metadata": {},
     "source": [
      "### plot results of HG_regression_revised"
     ]
    },
    {
     "cell_type": "code",
     "collapsed": false,
     "input": [
      "df = pd.read_csv(os.path.join(SJdir, 'PCA','Stats', 'single_electrode_windows_withdesignation_EDITED_dropped.csv'))\n",
      "\n",
      "subj_task = df[['subj', 'task']].drop_duplicates()\n",
      "\n",
      "\n",
      "subj_task = df[['subj','task']].iloc[204:].drop_duplicates() #starting at JH5_EmoRep bc that's where it crashed.\n",
      "\n",
      "\n",
      "for s_t in subj_task.itertuples():\n",
      "    _, subj, task = s_t\n",
      "    print (subj, task)\n",
      "    filename = os.path.join(SJdir, 'PCA', 'Stats', 'Regression', '_'.join([subj, task])+'.p')\n",
      "    reg_dict = pickle.load(open(filename, 'rb'))\n",
      "\n",
      "    plot_figures(subj, task, reg_dict)\n",
      "    plt.close()"
     ],
     "language": "python",
     "metadata": {},
     "outputs": [],
     "prompt_number": 218
    },
    {
     "cell_type": "markdown",
     "metadata": {},
     "source": [
      "## combine individual subj/task csvs into large csv with pattern designation\n",
      "* for surr or real or circshift or surr random\n",
      "* with or without outlier rejection"
     ]
    },
    {
     "cell_type": "code",
     "collapsed": false,
     "input": [
      "folder = 'maxes_medians'\n",
      "SJdir = '/home/knight/matar/MATLAB/DATA/Avgusta'\n",
      "df_pattern = pd.read_csv(os.path.join(SJdir, 'PCA','Stats', 'single_electrode_windows_csvs', 'single_electrode_windows_withdesignation_EDITED_dropped.csv'))\n",
      "\n",
      "id_num = 99 #for surrogate\n",
      "\n",
      "subj_task = df_pattern[['subj', 'task']].drop_duplicates()\n",
      "\n",
      "df_all = pd.DataFrame({'medians':[], 'maxes_rel':[], 'pred_score':[], 'pval_predscore':[], 'alpha':[], 'ci_low pred score':[], 'ci_high pred score' : []})\n",
      "\n",
      "\n",
      "for s_t in subj_task.itertuples():\n",
      "    _, subj, task = s_t\n",
      "\n",
      "    if subj == 'GP44': #skipping GP44\n",
      "        continue\n",
      "\n",
      "    #real data\n",
      "    #filename = os.path.join(SJdir, 'PCA','Stats','Regression', 'unsmoothed', folder, 'no_short_windows', '_'.join([subj, task,'coefs.csv']))\n",
      "    #surr:\n",
      "    #filename = os.path.join(SJdir, 'PCA','Stats','Regression', 'unsmoothed', folder, 'no_short_windows', 'surr_'+str(id_num), '_'.join([subj, task,'coefs_surr.csv']))\n",
      "    #circshift\n",
      "    #filename = os.path.join(SJdir, 'PCA', 'Stats', 'Regression', 'unsmoothed', folder, 'no_short_windows', 'circshift', '_'.join([subj, task, 'coefs_circ.csv']))\n",
      "    #surr random:\n",
      "    filename = os.path.join(SJdir, 'PCA','Stats','Regression', 'unsmoothed', folder, 'no_short_windows', 'surr_rand_'+str(id_num), '_'.join([subj, task,'coefs_surr_rand.csv']))\n",
      "    \n",
      "    df = pd.read_csv(filename)\n",
      "    \n",
      "    colnames = list(df.columns)\n",
      "    colnames.pop(0)\n",
      "    colnames.insert(0, 'elec')\n",
      "    df.columns = colnames\n",
      "\n",
      "    df['subj'] = [subj] * len(df)\n",
      "    df['task'] = [task] * len(df)\n",
      "    df_all = df_all.append(df)"
     ],
     "language": "python",
     "metadata": {},
     "outputs": [],
     "prompt_number": 143
    },
    {
     "cell_type": "code",
     "collapsed": false,
     "input": [
      "df_all = pd.merge(df_all, df_pattern[['subj','task','elec', 'pattern']], how = 'inner')"
     ],
     "language": "python",
     "metadata": {},
     "outputs": [],
     "prompt_number": 144
    },
    {
     "cell_type": "code",
     "collapsed": false,
     "input": [
      "df_all.columns"
     ],
     "language": "python",
     "metadata": {},
     "outputs": [
      {
       "metadata": {},
       "output_type": "pyout",
       "prompt_number": 145,
       "text": [
        "Index([u'alpha', u'ci_high pred score', u'ci_low pred score', u'elec', u'maxes_rel', u'medians', u'pred_score', u'pval_predscore', u'subj', u'task', u'pattern'], dtype='object')"
       ]
      }
     ],
     "prompt_number": 145
    },
    {
     "cell_type": "code",
     "collapsed": false,
     "input": [
      "df_all = df_all[['subj','task','elec','pattern','maxes_rel','medians','pred_score','ci_low pred score', 'ci_high pred score', 'pval_predscore','alpha']]"
     ],
     "language": "python",
     "metadata": {},
     "outputs": [],
     "prompt_number": 147
    },
    {
     "cell_type": "code",
     "collapsed": false,
     "input": [
      "df_all.query(\"subj == 'GP15' and task == 'EmoGen'\").head()"
     ],
     "language": "python",
     "metadata": {},
     "outputs": [
      {
       "html": [
        "<div style=\"max-height:1000px;max-width:1500px;overflow:auto;\">\n",
        "<table border=\"1\" class=\"dataframe\">\n",
        "  <thead>\n",
        "    <tr style=\"text-align: right;\">\n",
        "      <th></th>\n",
        "      <th>subj</th>\n",
        "      <th>task</th>\n",
        "      <th>elec</th>\n",
        "      <th>pattern</th>\n",
        "      <th>maxes_rel</th>\n",
        "      <th>medians</th>\n",
        "      <th>pred_score</th>\n",
        "      <th>ci_low pred score</th>\n",
        "      <th>ci_high pred score</th>\n",
        "      <th>pval_predscore</th>\n",
        "      <th>alpha</th>\n",
        "    </tr>\n",
        "  </thead>\n",
        "  <tbody>\n",
        "    <tr>\n",
        "      <th>17</th>\n",
        "      <td> GP15</td>\n",
        "      <td> EmoGen</td>\n",
        "      <td>  5</td>\n",
        "      <td> D</td>\n",
        "      <td> 0.303472</td>\n",
        "      <td>-0.052682</td>\n",
        "      <td> 0.347005</td>\n",
        "      <td> 0.087130</td>\n",
        "      <td> 0.555379</td>\n",
        "      <td> 0.025</td>\n",
        "      <td> 21.544347</td>\n",
        "    </tr>\n",
        "    <tr>\n",
        "      <th>18</th>\n",
        "      <td> GP15</td>\n",
        "      <td> EmoGen</td>\n",
        "      <td>  9</td>\n",
        "      <td> D</td>\n",
        "      <td> 0.129414</td>\n",
        "      <td>-0.058692</td>\n",
        "      <td> 0.181619</td>\n",
        "      <td>-0.081864</td>\n",
        "      <td> 0.436096</td>\n",
        "      <td> 0.153</td>\n",
        "      <td> 21.544347</td>\n",
        "    </tr>\n",
        "    <tr>\n",
        "      <th>19</th>\n",
        "      <td> GP15</td>\n",
        "      <td> EmoGen</td>\n",
        "      <td> 10</td>\n",
        "      <td> D</td>\n",
        "      <td> 0.224795</td>\n",
        "      <td>-0.029944</td>\n",
        "      <td> 0.289726</td>\n",
        "      <td> 0.017637</td>\n",
        "      <td> 0.531193</td>\n",
        "      <td> 0.058</td>\n",
        "      <td> 21.544347</td>\n",
        "    </tr>\n",
        "    <tr>\n",
        "      <th>20</th>\n",
        "      <td> GP15</td>\n",
        "      <td> EmoGen</td>\n",
        "      <td> 12</td>\n",
        "      <td> D</td>\n",
        "      <td> 0.409680</td>\n",
        "      <td>-0.044591</td>\n",
        "      <td> 0.481356</td>\n",
        "      <td> 0.200978</td>\n",
        "      <td> 0.659187</td>\n",
        "      <td> 0.007</td>\n",
        "      <td> 21.544347</td>\n",
        "    </tr>\n",
        "    <tr>\n",
        "      <th>21</th>\n",
        "      <td> GP15</td>\n",
        "      <td> EmoGen</td>\n",
        "      <td> 13</td>\n",
        "      <td> D</td>\n",
        "      <td> 0.172536</td>\n",
        "      <td> 0.048549</td>\n",
        "      <td> 0.225273</td>\n",
        "      <td>-0.048929</td>\n",
        "      <td> 0.465586</td>\n",
        "      <td> 0.114</td>\n",
        "      <td> 21.544347</td>\n",
        "    </tr>\n",
        "  </tbody>\n",
        "</table>\n",
        "</div>"
       ],
       "metadata": {},
       "output_type": "pyout",
       "prompt_number": 148,
       "text": [
        "    subj    task  elec pattern  maxes_rel   medians  pred_score  \\\n",
        "17  GP15  EmoGen     5       D   0.303472 -0.052682    0.347005   \n",
        "18  GP15  EmoGen     9       D   0.129414 -0.058692    0.181619   \n",
        "19  GP15  EmoGen    10       D   0.224795 -0.029944    0.289726   \n",
        "20  GP15  EmoGen    12       D   0.409680 -0.044591    0.481356   \n",
        "21  GP15  EmoGen    13       D   0.172536  0.048549    0.225273   \n",
        "\n",
        "    ci_low pred score  ci_high pred score  pval_predscore      alpha  \n",
        "17           0.087130            0.555379           0.025  21.544347  \n",
        "18          -0.081864            0.436096           0.153  21.544347  \n",
        "19           0.017637            0.531193           0.058  21.544347  \n",
        "20           0.200978            0.659187           0.007  21.544347  \n",
        "21          -0.048929            0.465586           0.114  21.544347  "
       ]
      }
     ],
     "prompt_number": 148
    },
    {
     "cell_type": "code",
     "collapsed": false,
     "input": [
      "#filename = os.path.join(SJdir, 'PCA','Stats','Regression', 'unsmoothed', folder, 'no_short_windows', 'all_coefs_withpatterns.csv')\n",
      "#filename = os.path.join(SJdir, 'PCA','Stats','Regression', 'unsmoothed', folder, 'no_short_windows','surr_'+str(id_num), 'all_coefs_withpatterns_surr.csv')\n",
      "#filename = os.path.join(SJdir, 'PCA', 'Stats', 'Regression', 'unsmoothed', folder, 'no_short_windows', 'circshift', 'all_coefs_withpatterns_circ.csv')\n",
      "filename = os.path.join(SJdir, 'PCA','Stats','Regression', 'unsmoothed', folder, 'no_short_windows','surr_rand_'+str(id_num), 'all_coefs_withpatterns_surr_rand.csv')\n",
      "df_all.to_csv(filename, index = False)"
     ],
     "language": "python",
     "metadata": {},
     "outputs": [],
     "prompt_number": 149
    },
    {
     "cell_type": "markdown",
     "metadata": {},
     "source": [
      "## add ROIs to all_coefs_withpatterns.csv\n",
      "* for surr or for real or for coefs"
     ]
    },
    {
     "cell_type": "code",
     "collapsed": false,
     "input": [
      "import loadmat"
     ],
     "language": "python",
     "metadata": {},
     "outputs": [],
     "prompt_number": 95
    },
    {
     "cell_type": "code",
     "collapsed": false,
     "input": [
      "filename = 'brain_ROI.mat'\n",
      "filename = os.path.join(SJdir, 'ROIs', 'brain_ROI.mat')\n",
      "data = loadmat.loadmat(filename)\n",
      "brain_ROI = data['brain_ROI']"
     ],
     "language": "python",
     "metadata": {},
     "outputs": [],
     "prompt_number": 96
    },
    {
     "cell_type": "code",
     "collapsed": false,
     "input": [
      "def get_ROI(subj, e, brain_ROI, task = None):\n",
      "    '''\n",
      "    Returns an ROI for a given subj and elec.\n",
      "    If subject is GP35 then must give a task argument so knows which ROIs to pull\n",
      "    '''\n",
      "    \n",
      "    if (subj == 'GP35') & ((task == 'EmoRep') | (task == 'EmoGen')):\n",
      "        subj = 'GP35_words'\n",
      "    elif (subj == 'GP35') & ((task == 'FaceEmo') | (task == 'FaceGen')):\n",
      "        subj = 'GP35_face'\n",
      "    \n",
      "    try:\n",
      "        rois = brain_ROI[subj]\n",
      "    except:\n",
      "        return None\n",
      "    else:\n",
      "        for roi, elecs in rois.iteritems():\n",
      "            if np.in1d(e, elecs):\n",
      "                return roi"
     ],
     "language": "python",
     "metadata": {},
     "outputs": [],
     "prompt_number": 97
    },
    {
     "cell_type": "code",
     "collapsed": false,
     "input": [
      "df_all['ROI'] = df_all.apply(lambda x:get_ROI(x.subj, x.elec, brain_ROI, task = x.task), axis = 1)"
     ],
     "language": "python",
     "metadata": {},
     "outputs": [],
     "prompt_number": 98
    },
    {
     "cell_type": "code",
     "collapsed": false,
     "input": [
      "#filename = os.path.join(SJdir, 'PCA','Stats','Regression','unsmoothed',folder,'no_rejection', 'all_coefs_withpatterns_withROIs.csv')\n",
      "filename = os.path.join(SJdir, 'PCA','Stats','Regression','unsmoothed',folder,'no_short_windows','surr_'+str(id_num), 'all_coefs_withpatterns_withROIs_surr.csv')\n",
      "#filename = os.path.join(SJdir, 'PCA', 'Stats', 'Regression', 'unsmoothed', folder, 'no_short_windows', 'circshift', 'all_coefs_withpatterns_withROIs_circ.csv')\n",
      "df_all.to_csv(filename, index = False)"
     ],
     "language": "python",
     "metadata": {},
     "outputs": [],
     "prompt_number": 99
    },
    {
     "cell_type": "markdown",
     "metadata": {},
     "source": [
      "## compare surrogate scores and real coefficient scores csv "
     ]
    },
    {
     "cell_type": "code",
     "collapsed": false,
     "input": [
      "id_num = 99\n",
      "folder = 'maxes_medians'\n",
      "filename = os.path.join(SJdir, 'PCA','Stats','Regression','unsmoothed',folder,'no_short_windows','surr_rand_'+str(id_num), 'all_coefs_withpatterns_surr_rand.csv')\n",
      "df_surr = pd.read_csv(filename)\n",
      "filename = os.path.join(SJdir, 'PCA','Stats','Regression','unsmoothed',folder,'no_short_windows', 'all_coefs_withpatterns.csv')\n",
      "df_real = pd.read_csv(filename)\n",
      "df_real = df_real[df_real.subj!='GP44']\n",
      "\n",
      "#pd.concat([df_real[['subj','task','elec','pattern', 'pred_score','pval_predscore']],df_surr[['elec', 'pred_score','pval_predscore','ROI']]], axis = 1)\n",
      "#pd.concat([df_real.maxes_rel, df_surr.maxes_rel], axis = 1)"
     ],
     "language": "python",
     "metadata": {},
     "outputs": [],
     "prompt_number": 165
    },
    {
     "cell_type": "code",
     "collapsed": false,
     "input": [
      "#compare prediction and zscores\n",
      "#print ('for surr %i' %(id_num))\n",
      "print ('pred score correlation %.2f' %(np.corrcoef(df_surr.pred_score, df_real.pred_score)[0,1]))\n",
      "print ('pred score correlation (duration) %.2f' %(np.corrcoef(df_surr[df_surr.pattern=='D'].pred_score, df_real[df_real.pattern=='D'].pred_score)[0,1]))\n",
      "print ('pred score correlation (other) %.2f' %(np.corrcoef(df_surr[df_surr.pattern!='D'].pred_score, df_real[df_real.pattern!='D'].pred_score)[0,1]))\n",
      "print\n",
      "print ('max beta correlation %.2f' %(np.corrcoef(df_surr.maxes_rel, df_real.maxes_rel)[0,1]))\n",
      "print ('max beta correlation (duration) %.2f' %(np.corrcoef(df_surr[df_surr.pattern=='D'].maxes_rel, df_real[df_real.pattern=='D'].maxes_rel)[0,1]))\n",
      "print ('max beta correlation (other) %.2f' %(np.corrcoef(df_surr[df_surr.pattern!='D'].maxes_rel, df_real[df_real.pattern!='D'].maxes_rel)[0,1]))\n",
      "print\n",
      "print ('median beta corrleation %.2f' %(np.corrcoef(df_surr.medians, df_real.medians)[0,1]))\n",
      "print ('median beta correlation (duration) %.2f' %(np.corrcoef(df_surr[df_surr.pattern=='D'].medians, df_real[df_real.pattern=='D'].medians)[0,1]))\n",
      "print ('median beta correlation (other) %.2f' %(np.corrcoef(df_surr[df_surr.pattern!='D'].medians, df_real[df_real.pattern!='D'].medians)[0,1]))\n",
      "\n",
      "\n",
      "#drop subjs/tasks that aren't used\n",
      "bad_subj = ['GP44','ST28','GP27', 'JH5']\n",
      "bad_task = ['EmoRep']\n",
      "\n",
      "df_real_r = df_real.query(\"subj not in ['GP44','ST28','GP27', 'JH5'] and task not in ['EmoRep']\")\n",
      "df_surr_r = df_surr.query(\"subj not in ['GP44','ST28','GP27', 'JH5'] and task not in ['EmoRep']\")\n",
      "print ('\\ndropping %s and %s' %(bad_subj, bad_task))\n",
      "print ('pred score correlation %.2f' %(np.corrcoef(df_surr_r.pred_score, df_real_r.pred_score)[0,1]))\n",
      "print ('pred score correlation (duration) %.2f' %(np.corrcoef(df_surr_r[df_surr_r.pattern=='D'].pred_score, df_real_r[df_real_r.pattern=='D'].pred_score)[0,1]))\n",
      "print ('pred score correlation (other) %.2f' %(np.corrcoef(df_surr_r[df_surr_r.pattern!='D'].pred_score, df_real_r[df_real_r.pattern!='D'].pred_score)[0,1]))\n",
      "print\n",
      "print ('max beta correlation %.2f' %(np.corrcoef(df_surr_r.maxes_rel, df_real_r.maxes_rel)[0,1]))\n",
      "print ('max beta correlation (duration) %.2f' %(np.corrcoef(df_surr_r[df_surr_r.pattern=='D'].maxes_rel, df_real_r[df_real_r.pattern=='D'].maxes_rel)[0,1]))\n",
      "print ('max beta correlation (other) %.2f' %(np.corrcoef(df_surr_r[df_surr_r.pattern!='D'].maxes_rel, df_real_r[df_real_r.pattern!='D'].maxes_rel)[0,1]))\n",
      "print\n",
      "print ('median beta corrleation %.2f' %(np.corrcoef(df_surr_r.medians, df_real_r.medians)[0,1]))\n",
      "print ('median beta correlation (duration) %.2f' %(np.corrcoef(df_surr_r[df_surr_r.pattern=='D'].medians, df_real_r[df_real_r.pattern=='D'].medians)[0,1]))\n",
      "print ('median beta correlation (other) %.2f' %(np.corrcoef(df_surr_r[df_surr_r.pattern!='D'].medians, df_real_r[df_real_r.pattern!='D'].medians)[0,1]))\n",
      "\n"
     ],
     "language": "python",
     "metadata": {},
     "outputs": [
      {
       "output_type": "stream",
       "stream": "stdout",
       "text": [
        "pred score correlation 0.38\n",
        "pred score correlation (duration) 0.41\n",
        "pred score correlation (other) -0.02\n",
        "\n",
        "max beta correlation 0.68\n",
        "max beta correlation (duration) 0.50\n",
        "max beta correlation (other) 0.07\n",
        "\n",
        "median beta corrleation 0.04\n",
        "median beta correlation (duration) 0.01\n",
        "median beta correlation (other) 0.00\n",
        "\n",
        "dropping ['GP44', 'ST28', 'GP27', 'JH5'] and ['EmoRep']\n",
        "pred score correlation 0.43\n",
        "pred score correlation (duration) 0.40\n",
        "pred score correlation (other) -0.01\n",
        "\n",
        "max beta correlation 0.69\n",
        "max beta correlation (duration) 0.49\n",
        "max beta correlation (other) 0.06\n",
        "\n",
        "median beta corrleation 0.06\n",
        "median beta correlation (duration) 0.02\n",
        "median beta correlation (other) 0.02\n"
       ]
      }
     ],
     "prompt_number": 166
    },
    {
     "cell_type": "markdown",
     "metadata": {},
     "source": [
      "## calculate confidence intervals on betas\n",
      "* create csv that can then be merged with all_coefs"
     ]
    },
    {
     "cell_type": "code",
     "collapsed": false,
     "input": [
      "SJdir = '/home/knight/matar/MATLAB/DATA/Avgusta'\n",
      "\n",
      "filename = os.path.join(SJdir, 'PCA','Stats','Regression', 'unsmoothed', 'no_stds', 'no_short_windows','all_coefs_withpatterns_withROIs.csv')\n",
      "df_all = pd.read_csv(filename)\n",
      "\n",
      "betas, ci_low, ci_high, feature_list,elec_list, subjs, tasks = [[] for i in range(7)]\n",
      "\n",
      "subj_task = df_all[['subj', 'task']].drop_duplicates()\n",
      "\n",
      "for s_t in subj_task.itertuples():\n",
      "\n",
      "    _, subj, task = s_t\n",
      "    \n",
      "    filename = os.path.join(SJdir, 'PCA','Stats','Regression', 'unsmoothed', 'no_stds', 'no_short_windows', '_'.join([subj, task+'.p']))\n",
      "        \n",
      "    reg_dict = pickle.load(open(filename, 'rb'))\n",
      "    elecs, coefs, features, zcoefs = [reg_dict[k] for k in ['elecs', 'coefs', 'features', 'zcoefs']] \n",
      "    \n",
      "    for i, e in enumerate(elecs):\n",
      "        cis = np.percentile(coefs[i], [5, 95], axis = 0)\n",
      "        low = cis[0,:]\n",
      "        high = cis[1,:]\n",
      "        \n",
      "        betas.extend(zcoefs[i])\n",
      "        ci_low.extend(low)\n",
      "        ci_high.extend(high)\n",
      "        feature_list.extend(features)\n",
      "        subjs.extend([subj]*2)\n",
      "        tasks.extend([task]*2)\n",
      "        elec_list.extend([e]*2)\n",
      "        #subjs.extend([subj]*3)\n",
      "        #tasks.extend([task]*3)\n",
      "        #elec_list.extend([e]*3)\n",
      "        "
     ],
     "language": "python",
     "metadata": {},
     "outputs": [],
     "prompt_number": 58
    },
    {
     "cell_type": "code",
     "collapsed": false,
     "input": [
      "df_coefs = pd.DataFrame({'subj':subjs, 'task':tasks, 'elec': elec_list, 'feature':feature_list, 'coef':betas, 'ci_low':ci_low, 'ci_high':ci_high})\n",
      "df_coefs = df_coefs[['subj','task','elec','feature','coef','ci_low','ci_high']]"
     ],
     "language": "python",
     "metadata": {},
     "outputs": [],
     "prompt_number": 59
    },
    {
     "cell_type": "code",
     "collapsed": false,
     "input": [
      "df_coefs = df_coefs.merge(df_all[['subj','task','elec','pattern','ROI']])"
     ],
     "language": "python",
     "metadata": {},
     "outputs": [],
     "prompt_number": 60
    },
    {
     "cell_type": "code",
     "collapsed": false,
     "input": [
      "filename = os.path.join(SJdir, 'PCA', 'Stats', 'Regression', 'unsmoothed','no_stds','no_short_windows','all_coefs_CIs.csv')\n",
      "df_coefs.to_csv(filename, index = False)"
     ],
     "language": "python",
     "metadata": {},
     "outputs": [],
     "prompt_number": 61
    },
    {
     "cell_type": "markdown",
     "metadata": {},
     "source": [
      "#plot predictive electrodes on brain"
     ]
    },
    {
     "cell_type": "code",
     "collapsed": false,
     "input": [
      "import brain_clusters"
     ],
     "language": "python",
     "metadata": {},
     "outputs": [],
     "prompt_number": 117
    },
    {
     "cell_type": "code",
     "collapsed": false,
     "input": [
      "reconlist = os.path.join(SJdir, 'PCA','reconlist.csv')\n",
      "reconlist = pd.read_csv(reconlist)"
     ],
     "language": "python",
     "metadata": {},
     "outputs": [],
     "prompt_number": 118
    },
    {
     "cell_type": "code",
     "collapsed": false,
     "input": [
      "filename = os.path.join(SJdir, 'PCA','Stats','Regression','with_stds', 'all_coefs_withpatterns.csv')\n",
      "df_all = pd.read_csv(filename)"
     ],
     "language": "python",
     "metadata": {},
     "outputs": [],
     "prompt_number": 123
    },
    {
     "cell_type": "code",
     "collapsed": false,
     "input": [
      "subj_task = df_all[['subj', 'task']].drop_duplicates()\n",
      "\n",
      "for s_t in subj_task.itertuples():\n",
      "    subj, task = s_t[1:]\n",
      "    \n",
      "    xycoords = reconlist[reconlist.subj_task == '_'.join([subj, task])].xyfile.iloc[0]\n",
      "    if isinstance(xycoords, float): #no explicit xycoord path\n",
      "        xycoords = 'xycoords.p'\n",
      "    \n",
      "    reconfile = reconlist[reconlist.subj_task == '_'.join([subj, task])].reconfile.iloc[0]\n",
      "    if len(reconfile)>0:\n",
      "        recon_filepath = os.path.join(SJdir, 'Subjs', subj, reconfile)\n",
      "    else:\n",
      "        print 'skipping %s %s' %(subj, task)\n",
      "        continue #skip this subj if no reconfile\n",
      "        \n",
      "    #open xycoords dictionary                                                                                           \n",
      "    filename = os.path.join(SJdir, 'Subjs',subj, xycoords)\n",
      "    with open(filename, 'r') as f:\n",
      "        xycoords = pickle.load(f)\n",
      "        f.close()\n",
      "\n",
      "    xycoords = pd.DataFrame(np.array(xycoords.values()), columns=['x_2d', 'y_2d'], index=np.array(xycoords.keys())+1)\n",
      "    \n",
      "    #color stuff\n",
      "    import matplotlib\n",
      "    color_list = ['crimson', 'skyblue','lime', 'goldenrod'] #duration, response, stimulus, sustained\n",
      "\n",
      "    custom_cmap = matplotlib.colors.ListedColormap(color_list, name = 'custom_cmap')\n",
      "    \n",
      "    #get elecs of interest (for PC of interest)\n",
      "    pred = df_all[(df_all.subj == subj) & (df_all.task == task) & (df_all.pval_predscore<0.05)]\n",
      "    \n",
      "    weights = pred[['elec','pattern']]\n",
      "    weights.columns = ['elec','group']\n",
      "    weights = weights.set_index('elec')\n",
      "\n",
      "    #create list of colors for scatter\n",
      "    c = list()\n",
      "    #create list of colors for scatter (dur = red, resp = blue, stim = green, sustain = yellow)\n",
      "    c = list()\n",
      "    u = np.unique(weights.group)\n",
      "    for i in weights.group:\n",
      "        if i == 'D':\n",
      "            c.append(color_list[0])\n",
      "        elif i == 'R':\n",
      "            c.append(color_list[1])\n",
      "        elif ((i == 'S') or (i == 'SR')) :\n",
      "            c.append(color_list[2])\n",
      "        else:\n",
      "            c.append(color_list[3])\n",
      "            \n",
      "        #figure properties\n",
      "    f, ax1 = plt.subplots(figsize = (10,10))\n",
      "    ax1.set_title('%s %s predictive elecs' %(subj, task))\n",
      "    \n",
      "    #plot recon\n",
      "    brain_clusters.plot_xy_map(weights, locs = xycoords.loc[weights.index], ax = ax1, colors = c, cmap = custom_cmap, szmult=200, im_path = os.path.join(SJdir,'Subjs', subj, reconfile))    \n",
      "    \n",
      "    filename = os.path.join(SJdir, 'PCA', 'Stats', 'Regression', 'with_stds','images', '_'.join([subj, task+'.png']))\n",
      "    plt.savefig(filename)\n",
      "    plt.close()"
     ],
     "language": "python",
     "metadata": {},
     "outputs": [],
     "prompt_number": 124
    },
    {
     "cell_type": "code",
     "collapsed": false,
     "input": [
      "df_all.query(\"subj=='GP15' and task == 'EmoGen' and pval_predscore<0.05\").shape"
     ],
     "language": "python",
     "metadata": {},
     "outputs": [
      {
       "metadata": {},
       "output_type": "pyout",
       "prompt_number": 122,
       "text": [
        "(10, 12)"
       ]
      }
     ],
     "prompt_number": 122
    },
    {
     "cell_type": "markdown",
     "metadata": {},
     "source": [
      "### run every subj/task separately. different model for each electrode"
     ]
    },
    {
     "cell_type": "markdown",
     "metadata": {},
     "source": [
      "split data into train and test sets (100 times, random shuffle on each iteration). \n",
      "each time fit 10 models with different alphas, find best model.\n",
      "store the best model's alpha, beta, and prediction score (also permute and get a fake prediction score)\n",
      "at end, get 100 best alphas, betas, scores and fake scores. \n",
      "because subsampled data, betas are normally distributed - zscore betas. \n",
      "get pvalue for scores by looking at null distribution of fake scores"
     ]
    },
    {
     "cell_type": "code",
     "collapsed": false,
     "input": [
      "import os\n",
      "import pandas as pd\n",
      "import numpy as np\n",
      "import scipy.io as spio\n",
      "from __future__ import division\n",
      "import glob\n",
      "import cPickle as pickle\n",
      "\n",
      "from sklearn import cross_validation, grid_search\n",
      "from sklearn.linear_model import Ridge, Lasso\n",
      "from sklearn.preprocessing import scale\n",
      "\n",
      "from collections import Counter"
     ],
     "language": "python",
     "metadata": {},
     "outputs": [],
     "prompt_number": 163
    },
    {
     "cell_type": "code",
     "collapsed": false,
     "input": [
      "SJdir = '/Users/matar/Documents/MATLAB/DATA/Avgusta/'\n",
      "SJdir = '/home/knight/matar/MATLAB/DATA/Avgusta'"
     ],
     "language": "python",
     "metadata": {},
     "outputs": [],
     "prompt_number": 164
    },
    {
     "cell_type": "code",
     "collapsed": false,
     "input": [
      "subj = 'GP15'\n",
      "task = 'EmoGen'"
     ],
     "language": "python",
     "metadata": {},
     "outputs": [],
     "prompt_number": 231
    },
    {
     "cell_type": "code",
     "collapsed": false,
     "input": [
      "#features = ['maxes','means','stds','sums','lats_pro']\n",
      "features = ['maxes','means','stds', 'lats_pro']\n",
      "predictor = 'RTs'"
     ],
     "language": "python",
     "metadata": {},
     "outputs": [],
     "prompt_number": 166
    },
    {
     "cell_type": "code",
     "collapsed": false,
     "input": [
      "filename = os.path.join(SJdir, 'PCA', 'ShadePlots_hclust', 'elecs', 'significance_windows', 'data', ''.join([subj, '_', task, '.p']))\n",
      "data_dict = pickle.load( open(filename, \"rb\" ) )"
     ],
     "language": "python",
     "metadata": {},
     "outputs": [],
     "prompt_number": 232
    },
    {
     "cell_type": "code",
     "collapsed": false,
     "input": [
      "active_elecs = data_dict['means'].keys()\n",
      "elec = active_elecs[1] \n",
      "#gp15 emogen e12 is dur, e10 is in resp cluster\n",
      "#jh2 self vis e3 is in dur cluster"
     ],
     "language": "python",
     "metadata": {},
     "outputs": [],
     "prompt_number": 285
    },
    {
     "cell_type": "code",
     "collapsed": false,
     "input": [
      "X = np.array([data_dict[x][elec] for x in features]).T\n",
      "Y = data_dict[predictor][elec]\n",
      "\n",
      "#drop nans\n",
      "mask = np.all(np.isnan(X), axis = 1)\n",
      "X = X[~mask]\n",
      "mask = np.isnan(Y)\n",
      "Y = Y[~mask]"
     ],
     "language": "python",
     "metadata": {},
     "outputs": [],
     "prompt_number": 286
    },
    {
     "cell_type": "code",
     "collapsed": false,
     "input": [
      "#split data into training and test sets for the number of CV folds\n",
      "cvs = cross_validation.ShuffleSplit(len(Y), n_iter = 100, test_size = 0.2)"
     ],
     "language": "python",
     "metadata": {},
     "outputs": [],
     "prompt_number": 287
    },
    {
     "cell_type": "code",
     "collapsed": false,
     "input": [
      "alphas, models, scores, coefs, scores_null = [[] for i in range(5)]\n",
      "\n",
      "for train, test in cvs:\n",
      "    #scale training and test data\n",
      "    X_train = scale(X[train].astype(float))\n",
      "    X_test = scale(X[test].astype(float))\n",
      "    y_train = scale(Y[train].astype(float))\n",
      "    y_test = scale(Y[test].astype(float))\n",
      "    \n",
      "    #define model (search over 10 alphas)\n",
      "    model = Ridge(solver = 'lsqr', normalize=False, fit_intercept=False)\n",
      "    params_grid = {'alpha': np.logspace(-4, 4, 10)}\n",
      "    ridge_grid = grid_search.GridSearchCV(model, params_grid, cv = 10)\n",
      "    \n",
      "    #fit and find best model\n",
      "    ridge_grid.fit(X_train, y_train)\n",
      "    mod = ridge_grid.best_estimator_\n",
      "    score = np.corrcoef(mod.predict(X_test), y_test)[1,0]\n",
      "    coef = mod.coef_\n",
      "    a = mod.alpha\n",
      "    \n",
      "    #calculate permuted score\n",
      "    idx = numpy.random.permutation(len(y_test))\n",
      "    null_score = np.corrcoef(mod.predict(X_test), y_test[idx])[1,0] #predict on shuffled test set\n",
      "    \n",
      "    #add to list\n",
      "    alphas.append(a)\n",
      "    models.append(mod)\n",
      "    scores.append(score)\n",
      "    coefs.append(coef)\n",
      "    scores_null.append(null_score)"
     ],
     "language": "python",
     "metadata": {},
     "outputs": [],
     "prompt_number": 288
    },
    {
     "cell_type": "code",
     "collapsed": false,
     "input": [
      "count_dict = Counter(alphas)\n",
      "i = np.argsort(count_dict.keys())\n",
      "sorted_values = np.array(count_dict.values())[i]\n",
      "sorted_keys = np.array(count_dict.keys())[i]\n",
      "\n",
      "f, ax = plt.subplots()\n",
      "ax.plot(sorted_values)\n",
      "ax.set_xticks(range(len(sorted_keys)))\n",
      "ax.set_xticklabels(['%.2f' %x for x in sorted_keys])\n",
      "ax.set_title('distribution of alphas')\n",
      "\n",
      "print mean(alphas)\n",
      "print median(alphas)"
     ],
     "language": "python",
     "metadata": {},
     "outputs": [
      {
       "output_type": "stream",
       "stream": "stdout",
       "text": [
        "203.464915381\n",
        "2.78255940221\n"
       ]
      },
      {
       "metadata": {},
       "output_type": "display_data",
       "png": "[encoded data removed]",
       "text": [
        "<matplotlib.figure.Figure at 0x7fa7b2c5d050>"
       ]
      }
     ],
     "prompt_number": 289
    },
    {
     "cell_type": "code",
     "collapsed": false,
     "input": [
      "plt.hist(scores)\n",
      "plt.hist(scores_null, color = 'r', alpha = 0.5)\n",
      "plt.title('distribution of scores')\n",
      "print median(scores)\n",
      "\n",
      "pval = 1 - (sum(median(scores)>scores_null)/len(scores_null))\n",
      "print 'pval %.2f' %pval"
     ],
     "language": "python",
     "metadata": {},
     "outputs": [
      {
       "output_type": "stream",
       "stream": "stdout",
       "text": [
        "0.287981225541\n",
        "pval 0.04\n"
       ]
      },
      {
       "metadata": {},
       "output_type": "display_data",
       "png": "[encoded data removed]",
       "text": [
        "<matplotlib.figure.Figure at 0x7fa7b2388fd0>"
       ]
      }
     ],
     "prompt_number": 290
    },
    {
     "cell_type": "code",
     "collapsed": false,
     "input": [
      "'''\n",
      "plot betas - expected to be normal?\n",
      "'''\n",
      "f,ax = plt.subplots(2,2, figsize = (10,7))\n",
      "for i, x in enumerate(features):\n",
      "    idx = np.unravel_index(i, (2,2))\n",
      "    ax[idx].hist(np.array(coefs)[:,i])\n",
      "    ax[idx].set_title(x)\n",
      "f.suptitle('betas')"
     ],
     "language": "python",
     "metadata": {},
     "outputs": [
      {
       "metadata": {},
       "output_type": "pyout",
       "prompt_number": 291,
       "text": [
        "<matplotlib.text.Text at 0x7fa7b2e5e3d0>"
       ]
      },
      {
       "metadata": {},
       "output_type": "display_data",
       "png": "[encoded data removed]",
       "text": [
        "<matplotlib.figure.Figure at 0x7fa7b3af3050>"
       ]
      }
     ],
     "prompt_number": 291
    },
    {
     "cell_type": "code",
     "collapsed": false,
     "input": [
      "'''\n",
      "autocorrelation - looks as though there is autocorrelation in predictors.\n",
      "need to take blocked shuffle split, so that don't take too complicated models\n",
      "'''\n",
      "\n",
      "#from pandas.tools.plotting import autocorrelation_plot\n",
      "#autocorrelation_plot(pd.Series(X[:,1]))\n",
      "\n",
      "f,ax = plt.subplots(2,2, sharex = True)\n",
      "for i, x in enumerate(features):\n",
      "    idx = np.unravel_index(i, (2,2))\n",
      "    ax[idx].acorr(X[:,i])\n",
      "    ax[idx].set_title(x)\n",
      "f.suptitle('autocorrelation')"
     ],
     "language": "python",
     "metadata": {},
     "outputs": [
      {
       "metadata": {},
       "output_type": "pyout",
       "prompt_number": 185,
       "text": [
        "<matplotlib.text.Text at 0x7fa7b3bf6710>"
       ]
      },
      {
       "metadata": {},
       "output_type": "display_data",
       "png": "[encoded data removed]",
       "text": [
        "<matplotlib.figure.Figure at 0x7fa7b3913750>"
       ]
      }
     ],
     "prompt_number": 185
    },
    {
     "cell_type": "markdown",
     "metadata": {},
     "source": [
      "##older method\n",
      "### use cv to find best alpha (median), use that alpha to fit on train, score on test, save out coefs for later pca"
     ]
    },
    {
     "cell_type": "code",
     "collapsed": false,
     "input": [
      "import os\n",
      "import pandas as pd\n",
      "import numpy as np\n",
      "import scipy.io as spio\n",
      "from __future__ import division\n",
      "import glob\n",
      "import cPickle as pickle\n",
      "\n",
      "from sklearn import cross_validation, grid_search\n",
      "from sklearn.linear_model import Ridge, Lasso\n",
      "from sklearn.preprocessing import scale"
     ],
     "language": "python",
     "metadata": {},
     "outputs": [],
     "prompt_number": 182
    },
    {
     "cell_type": "code",
     "collapsed": false,
     "input": [
      "SJdir = '/Users/matar/Documents/MATLAB/DATA/Avgusta/'\n",
      "SJdir = '/home/knight/matar/MATLAB/DATA/Avgusta'"
     ],
     "language": "python",
     "metadata": {},
     "outputs": [],
     "prompt_number": 183
    },
    {
     "cell_type": "code",
     "collapsed": false,
     "input": [
      "subj = 'JH2'\n",
      "task = 'SelfVis'"
     ],
     "language": "python",
     "metadata": {},
     "outputs": [],
     "prompt_number": 184
    },
    {
     "cell_type": "code",
     "collapsed": false,
     "input": [
      "#features = ['maxes','means','stds','sums','lats_pro']\n",
      "features = ['maxes','means','stds', 'lats_pro']\n",
      "predictor = 'RTs'"
     ],
     "language": "python",
     "metadata": {},
     "outputs": [],
     "prompt_number": 185
    },
    {
     "cell_type": "code",
     "collapsed": false,
     "input": [
      "filename = os.path.join(SJdir, 'PCA', 'ShadePlots_hclust', 'elecs', 'significance_windows', 'data', ''.join([subj, '_', task, '.p']))\n",
      "data_dict = pickle.load( open(filename, \"rb\" ) )"
     ],
     "language": "python",
     "metadata": {},
     "outputs": [],
     "prompt_number": 186
    },
    {
     "cell_type": "code",
     "collapsed": false,
     "input": [
      "active_elecs = data_dict['means'].keys()\n",
      "print active_elecs"
     ],
     "language": "python",
     "metadata": {},
     "outputs": [
      {
       "output_type": "stream",
       "stream": "stdout",
       "text": [
        "[2, 3, 4, 133, 134, 7, 132, 12, 14, 15, 131, 20, 22, 24, 25, 26, 27, 28, 5, 32, 40, 48, 31, 84]\n"
       ]
      }
     ],
     "prompt_number": 187
    },
    {
     "cell_type": "code",
     "collapsed": false,
     "input": [
      "elec = active_elecs[1] #jh2 self vis e3 is in dur cluster"
     ],
     "language": "python",
     "metadata": {},
     "outputs": [],
     "prompt_number": 188
    },
    {
     "cell_type": "code",
     "collapsed": false,
     "input": [
      "X = np.array([data_dict[x][elec] for x in features]).T\n",
      "Y = data_dict[predictor][elec]"
     ],
     "language": "python",
     "metadata": {},
     "outputs": [],
     "prompt_number": 190
    },
    {
     "cell_type": "code",
     "collapsed": false,
     "input": [
      "#drop nans\n",
      "mask = np.all(np.isnan(X), axis = 1)\n",
      "X = X[~mask]\n",
      "mask = np.isnan(Y)\n",
      "Y = Y[~mask]"
     ],
     "language": "python",
     "metadata": {},
     "outputs": [],
     "prompt_number": 191
    },
    {
     "cell_type": "code",
     "collapsed": false,
     "input": [
      "#split data into training and test\n",
      "X_train, X_test, y_train, y_test = cross_validation.train_test_split(X, Y, test_size=0.2)"
     ],
     "language": "python",
     "metadata": {},
     "outputs": [],
     "prompt_number": 192
    },
    {
     "cell_type": "code",
     "collapsed": false,
     "input": [
      "#scale training and test data\n",
      "X_train = scale(X_train.astype(float))\n",
      "X_test = scale(X_test.astype(float))\n",
      "y_train = scale(y_train.astype(float))\n",
      "y_test = scale(y_test.astype(float))"
     ],
     "language": "python",
     "metadata": {},
     "outputs": [],
     "prompt_number": 193
    },
    {
     "cell_type": "code",
     "collapsed": false,
     "input": [
      "cvs = cross_validation.ShuffleSplit(len(y_train), n_iter=100, test_size= 0.2)"
     ],
     "language": "python",
     "metadata": {},
     "outputs": [],
     "prompt_number": 194
    },
    {
     "cell_type": "code",
     "collapsed": false,
     "input": [
      "model = Ridge(solver = 'lsqr', normalize=False, fit_intercept=False)\n",
      "#model = Lasso(normalize = True, fit_intercept=True)\n",
      "params_grid = {'alpha': np.logspace(-3, 3, 10)}\n",
      "ridge_grid = grid_search.GridSearchCV(model, params_grid, cv = 10)\n"
     ],
     "language": "python",
     "metadata": {},
     "outputs": [],
     "prompt_number": 195
    },
    {
     "cell_type": "code",
     "collapsed": false,
     "input": [
      "#find the best alpha - get 100 best alphas (10 fold within each CV fold)\n",
      "alphas, models, scores, coefs = [[] for i in range(4)]\n",
      "\n",
      "for train, test in cvs:\n",
      "    ridge_grid.fit(X_train[train],y_train[train])\n",
      "    a = ridge_grid.best_params_.values()[0]\n",
      "    mod = ridge_grid.best_estimator_\n",
      "    score = np.corrcoef(mod.predict(X_train[test]), y_train[test])[1,0]\n",
      "    #coef = mod.coef_\n",
      "    \n",
      "    alphas.append(a)\n",
      "    #models.append(mod)\n",
      "    scores.append(score)\n",
      "    #coefs.append(coef)"
     ],
     "language": "python",
     "metadata": {},
     "outputs": [],
     "prompt_number": 156
    },
    {
     "cell_type": "code",
     "collapsed": false,
     "input": [
      "f, ax = plt.subplots(1,2)\n",
      "ax[0].hist(alphas) \n",
      "ax[1].hist(scores)\n",
      "\n",
      "print ('mean alpha', np.mean(alphas))\n",
      "print ('median alpha', np.median(alphas))\n",
      "print ('mean score', np.mean(scores)) #inflated"
     ],
     "language": "python",
     "metadata": {},
     "outputs": [
      {
       "output_type": "stream",
       "stream": "stdout",
       "text": [
        "('mean alpha', 212.63528731673298)\n",
        "('median alpha', 46.415888336127729)\n",
        "('mean score', 0.33880190977313601)\n"
       ]
      }
     ],
     "prompt_number": 157
    },
    {
     "cell_type": "code",
     "collapsed": false,
     "input": [
      "#define model on all of training with best alpha\n",
      "model = Ridge(solver = 'lsqr', alpha = np.median(alphas), normalize = False, fit_intercept= False)\n",
      "#model = Lasso(alpha = median(alphas), normalize = True, fit_intercept = True)"
     ],
     "language": "python",
     "metadata": {},
     "outputs": [],
     "prompt_number": 164
    },
    {
     "cell_type": "code",
     "collapsed": false,
     "input": [
      "#fit and score model\n",
      "model.fit(X_train, y_train)\n",
      "score = np.corrcoef(model.predict(X_test), y_test)[0,1]"
     ],
     "language": "python",
     "metadata": {},
     "outputs": [],
     "prompt_number": 165
    },
    {
     "cell_type": "code",
     "collapsed": false,
     "input": [
      "print score"
     ],
     "language": "python",
     "metadata": {},
     "outputs": [
      {
       "output_type": "stream",
       "stream": "stdout",
       "text": [
        "0.325779107524\n"
       ]
      }
     ],
     "prompt_number": 166
    },
    {
     "cell_type": "code",
     "collapsed": false,
     "input": [
      "zip(features, mod.coef_)"
     ],
     "language": "python",
     "metadata": {},
     "outputs": [
      {
       "metadata": {},
       "output_type": "pyout",
       "prompt_number": 167,
       "text": [
        "[('maxes', 0.52926412222834551),\n",
        " ('means', -0.37121709032799688),\n",
        " ('stds', 0.0098097858082628678),\n",
        " ('lats_pro', -0.1973425865440098)]"
       ]
      }
     ],
     "prompt_number": 167
    },
    {
     "cell_type": "code",
     "collapsed": false,
     "input": [
      "## test how many cv folds to make for external loop\n",
      "mean_scores = dict()\n",
      "std_scores = dict()\n",
      "#for nfolds in np.arange(10,110,10): #how many cv folds\n",
      "nfolds = 100\n",
      "scores, coefs = [[] for i in range(2)]\n",
      "\n",
      "for n in np.arange(nfolds):\n",
      "    #split data into train and test\n",
      "    X_train, X_test, y_train, y_test = cross_validation.train_test_split(X, Y, test_size=0.2)\n",
      "\n",
      "    #scale training and test data\n",
      "    X_train = scale(X_train.astype(float))\n",
      "    X_test = scale(X_test.astype(float))\n",
      "    y_train = scale(y_train.astype(float))\n",
      "    y_test = scale(y_test.astype(float))\n",
      "\n",
      "    #internal cross validation folds for alpha\n",
      "    cvs = cross_validation.ShuffleSplit(len(y_train), n_iter=10, test_size= 0.2)\n",
      "    model = Ridge(solver = 'lsqr', normalize=False, fit_intercept=False)\n",
      "    params_grid = {'alpha': np.logspace(-3, 3, 10)}\n",
      "    ridge_grid = grid_search.GridSearchCV(model, params_grid, cv = 10)\n",
      "\n",
      "    alphas = list()\n",
      "    for train, test in cvs:\n",
      "        ridge_grid.fit(X_train[train],y_train[train])\n",
      "        a = ridge_grid.best_params_.values()[0]\n",
      "        alphas.append(a)\n",
      "\n",
      "    #model with best alpha\n",
      "    model = Ridge(solver = 'lsqr', alpha = np.mean(alphas), normalize = False, fit_intercept= False) #using median alpha\n",
      "\n",
      "    model.fit(X_train, y_train)\n",
      "    score = np.corrcoef(model.predict(X_test), y_test)[0,1]\n",
      "    scores.append(score)\n",
      "    coefs.append(model.coef_)\n",
      "    \n",
      "#mean_scores[nfolds] = np.mean(scores)\n",
      "#std_scores[nfolds] = np.std(scores)\n",
      "#print (nfolds, mean_scores[nfolds], std_scores[nfolds])"
     ],
     "language": "python",
     "metadata": {},
     "outputs": [],
     "prompt_number": 254
    },
    {
     "cell_type": "code",
     "collapsed": false,
     "input": [
      "print np.mean(coefs, axis = 0)\n",
      "print np.median(coefs, axis = 0)\n",
      "print ''\n",
      "hist(np.array(coefs)[:,0])"
     ],
     "language": "python",
     "metadata": {},
     "outputs": [
      {
       "output_type": "stream",
       "stream": "stdout",
       "text": [
        "[ 0.04633456 -0.02909264  0.02181182 -0.0594879 ]\n",
        "[ 0.03388635 -0.01928304  0.01594399 -0.04567312]\n",
        "\n"
       ]
      },
      {
       "metadata": {},
       "output_type": "pyout",
       "prompt_number": 262,
       "text": [
        "(array([ 33.,  29.,  16.,   8.,   4.,   1.,   3.,   4.,   0.,   2.]),\n",
        " array([ 0.00262008,  0.0224418 ,  0.04226351,  0.06208523,  0.08190695,\n",
        "         0.10172867,  0.12155039,  0.14137211,  0.16119383,  0.18101555,\n",
        "         0.20083727]),\n",
        " <a list of 10 Patch objects>)"
       ]
      }
     ],
     "prompt_number": 262
    },
    {
     "cell_type": "code",
     "collapsed": false,
     "input": [
      "f, ax = plt.subplots()\n",
      "plt.plot(mean_scores.keys(), mean_scores.values(), '.')\n",
      "ax.set_xlim(0, 110)\n",
      "ax.set_ylim(0, 1)\n",
      "ax.set_xlabel('number of external cv folds')\n",
      "ax.set_ylabel('mean prediction score')\n",
      "plt.savefig('/home/knight/matar/MATLAB/DATA/Avgusta/PCA/Stats/Regression/external_cv_JH2_SelfVis_meanalpha.png')"
     ],
     "language": "python",
     "metadata": {},
     "outputs": [],
     "prompt_number": 197
    },
    {
     "cell_type": "code",
     "collapsed": false,
     "input": [
      "hist(scores)\n",
      "print mean(scores)\n",
      "print median(scores)"
     ],
     "language": "python",
     "metadata": {},
     "outputs": [
      {
       "output_type": "stream",
       "stream": "stdout",
       "text": [
        "0.324656823353\n",
        "0.35171638898\n"
       ]
      }
     ],
     "prompt_number": 198
    },
    {
     "cell_type": "code",
     "collapsed": false,
     "input": [
      "#see when alpha levels off\n",
      "#(from the internal cross validation folds for alpha)\n",
      "mean_alphas, std_alphas, median_alphas = [dict() for x in np.arange(3)]\n",
      "for n_iter in np.arange(10, 110, 5):\n",
      "    cvs = cross_validation.ShuffleSplit(len(y_train), n_iter=10, test_size= 0.2)\n",
      "    model = Ridge(solver = 'lsqr', normalize=False, fit_intercept=False)\n",
      "    params_grid = {'alpha': np.logspace(-3, 3, 10)}\n",
      "    ridge_grid = grid_search.GridSearchCV(model, params_grid, cv = 10)\n",
      "\n",
      "    alphas = list()\n",
      "    for train, test in cvs:\n",
      "        ridge_grid.fit(X_train[train],y_train[train])\n",
      "        a = ridge_grid.best_params_.values()[0]\n",
      "        alphas.append(a)\n",
      "    mean_alphas[n_iter] = np.mean(alphas)\n",
      "    median_alphas[n_iter] = np.median(alphas)\n",
      "    std_alphas[n_iter] = np.std(alphas)\n",
      "    print (n_iter, mean_alphas[n_iter], median_alphas[n_iter], std_alphas[n_iter])"
     ],
     "language": "python",
     "metadata": {},
     "outputs": [
      {
       "output_type": "stream",
       "stream": "stdout",
       "text": [
        "(10, 330.40137920293478, 28.207944168063865, 442.41657414963311)\n",
        "(15, 252.73028263425039, 28.207944168063865, 381.67528787680322)"
       ]
      },
      {
       "output_type": "stream",
       "stream": "stdout",
       "text": [
        "\n",
        "(20, 135.25841150555073, 10.0, 294.64990447373469)"
       ]
      },
      {
       "output_type": "stream",
       "stream": "stdout",
       "text": [
        "\n",
        "(25, 117.57109690784787, 10.0, 294.71131647010958)"
       ]
      },
      {
       "output_type": "stream",
       "stream": "stdout",
       "text": [
        "\n",
        "(30, 429.40137920293472, 130.92967866965799, 469.57635374890492)"
       ]
      },
      {
       "output_type": "stream",
       "stream": "stdout",
       "text": [
        "\n",
        "(35, 262.66504913508868, 46.415888336127729, 375.71535037325759)"
       ]
      },
      {
       "output_type": "stream",
       "stream": "stdout",
       "text": [
        "\n",
        "(40, 214.32959355556167, 10.0, 393.12050799807048)"
       ]
      },
      {
       "output_type": "stream",
       "stream": "stdout",
       "text": [
        "\n",
        "(45, 231.18603573393156, 10.0, 389.17868541885133)"
       ]
      },
      {
       "output_type": "stream",
       "stream": "stdout",
       "text": [
        "\n",
        "(50, 515.92476650083836, 523.20794416806382, 484.23957471283262)"
       ]
      },
      {
       "output_type": "stream",
       "stream": "stdout",
       "text": [
        "\n",
        "(55, 57.418287356199322, 10.0, 80.419067556517604)"
       ]
      },
      {
       "output_type": "stream",
       "stream": "stdout",
       "text": [
        "\n",
        "(60, 40.469213401157148, 10.0, 60.8289569811446)"
       ]
      },
      {
       "output_type": "stream",
       "stream": "stdout",
       "text": [
        "\n",
        "(65, 142.12080223476988, 46.415888336127729, 292.10450404242476)"
       ]
      },
      {
       "output_type": "stream",
       "stream": "stdout",
       "text": [
        "\n",
        "(70, 432.82762456754443, 130.92967866965799, 466.6398216857794)"
       ]
      },
      {
       "output_type": "stream",
       "stream": "stdout",
       "text": [
        "\n",
        "(75, 156.58731493686639, 28.207944168063865, 291.95023816564685)"
       ]
      },
      {
       "output_type": "stream",
       "stream": "stdout",
       "text": [
        "\n",
        "(80, 160.05987618981209, 46.415888336127729, 290.41412784622594)"
       ]
      },
      {
       "output_type": "stream",
       "stream": "stdout",
       "text": [
        "\n",
        "(85, 61.228903770479143, 28.207944168063865, 78.87327542446728)"
       ]
      },
      {
       "output_type": "stream",
       "stream": "stdout",
       "text": [
        "\n",
        "(90, 276.91621836818206, 130.92967866965799, 371.08363133330198)"
       ]
      },
      {
       "output_type": "stream",
       "stream": "stdout",
       "text": [
        "\n",
        "(95, 205.7437429357264, 130.92967866965799, 277.68262720822412)"
       ]
      },
      {
       "output_type": "stream",
       "stream": "stdout",
       "text": [
        "\n",
        "(100, 255.4182873561993, 46.415888336127729, 380.138901763033)"
       ]
      },
      {
       "output_type": "stream",
       "stream": "stdout",
       "text": [
        "\n",
        "(105, 184.2458119237437, 46.415888336127729, 284.34141926521789)"
       ]
      },
      {
       "output_type": "stream",
       "stream": "stdout",
       "text": [
        "\n"
       ]
      }
     ],
     "prompt_number": 199
    },
    {
     "cell_type": "code",
     "collapsed": false,
     "input": [
      "f, ax  = plt.subplots(2,1)\n",
      "ax[0].plot(mean_alphas.keys(), mean_alphas.values(),'.')\n",
      "ax[0].set_xlim(0, 110)\n",
      "ax[0].set_ylabel('mean alpha value')\n",
      "\n",
      "ax[1].plot(median_alphas.keys(), median_alphas.values(),'.')\n",
      "ax[1].set_xlim(0, 110)\n",
      "ax[1].set_xlabel('number of cv folds')\n",
      "ax[1].set_ylabel('median alpha value')\n",
      "\n",
      "\n",
      "plt.savefig('/home/knight/matar/MATLAB/DATA/Avgusta/PCA/Stats/Regression/alpha_cv_JH2_SelfVis_alphas.png')"
     ],
     "language": "python",
     "metadata": {},
     "outputs": [],
     "prompt_number": 209
    },
    {
     "cell_type": "code",
     "collapsed": false,
     "input": [
      "x = hist(alphas)\n",
      "x[1][np.argmax(x[0])]\n",
      "print x\n",
      "print alphas"
     ],
     "language": "python",
     "metadata": {},
     "outputs": [
      {
       "output_type": "stream",
       "stream": "stdout",
       "text": [
        "(array([ 6.,  0.,  3.,  0.,  0.,  0.,  0.,  0.,  0.,  1.]), array([  4.64158883e-01,   1.00417743e+02,   2.00371327e+02,\n",
        "         3.00324911e+02,   4.00278495e+02,   5.00232079e+02,\n",
        "         6.00185664e+02,   7.00139248e+02,   8.00092832e+02,\n",
        "         9.00046416e+02,   1.00000000e+03]), <a list of 10 Patch objects>)\n",
        "[46.415888336127729, 46.415888336127729, 0.46415888336127775, 215.44346900318823, 46.415888336127729, 215.44346900318823, 46.415888336127729, 215.44346900318823, 1000.0, 10.0]\n"
       ]
      }
     ],
     "prompt_number": 223
    },
    {
     "cell_type": "code",
     "collapsed": false,
     "input": [],
     "language": "python",
     "metadata": {},
     "outputs": []
    },
    {
     "cell_type": "code",
     "collapsed": false,
     "input": [
      "#old \n",
      "reconlist = os.path.join(SJdir, 'PCA', 'reconlist.xlsx')\n",
      "reconlist = pd.ExcelFile(reconlist).parse('Sheet1')"
     ],
     "language": "python",
     "metadata": {},
     "outputs": []
    },
    {
     "cell_type": "code",
     "collapsed": false,
     "input": [
      "df = pd.DataFrame.from_csv(os.path.join(SJdir, 'PCA', 'duration_dict', 'groupidx_activeclusters_hclust_withduration_thresh15.csv'))\n",
      "df = df.loc[(df.Rvals>0.1) & (df.pvals<0.05) & (df.best_offset>-300)] #only duration clusters (need to tweak criteria)"
     ],
     "language": "python",
     "metadata": {},
     "outputs": [],
     "prompt_number": 6
    },
    {
     "cell_type": "code",
     "collapsed": false,
     "input": [
      "for x in reconlist.values[[0]]:\n",
      "    subj_task, recon, _, _ = x\n",
      "    subj, task = subj_task.split('_')\n",
      "    subj_task = df.loc[(df.subj == subj) & (df.task == task)]\n",
      "\n",
      "    filename = os.path.join(SJdir,'Subjs', subj, task, 'HG_elecMTX_percent.mat')\n",
      "    data = spio.loadmat(filename, struct_as_record = True)\n",
      "    active_elecs = data['active_elecs'].squeeze()\n",
      "    RTs = data['RTs'].squeeze()\n",
      "    srate = data['srate']\n",
      "    data = data['data_percent'] #elecs x trials x time\n",
      "    \n",
      "    idx = np.in1d(active_elecs, subj_task.active_elecs)    \n",
      "    data = data[idx,:,:]\n",
      "    \n",
      "    latencies = pd.DataFrame(np.argmax(data, axis = 2).transpose(), columns = map(lambda x: ''.join(['lat_e', str(x)]), subj_task.active_elecs.values))#trials x elecs \n",
      "    peaks = pd.DataFrame(np.max(data, axis = 2).transpose(), columns = map(lambda x: ''.join(['peak_e', str(x)]), subj_task.active_elecs.values))#trials x elecs \n",
      "    means = pd.DataFrame(np.mean(data, axis = 2).transpose(), columns = map(lambda x: ''.join(['mean_e', str(x)]), subj_task.active_elecs.values))#trials x elecs \n",
      "    sums = pd.DataFrame(np.sum(data, axis = 2).transpose(), columns = map(lambda x: ''.join(['sum_e', str(x)]), subj_task.active_elecs.values))#trials x elecs \n",
      "    \n",
      "    df = pd.concat([latencies, peaks, means, sums], axis = 1)\n",
      "    \n",
      "    #res = pd.ols(y=RTs, x=df) \n",
      "    \n",
      "    #clf = linear_model.RidgeCV(alphas=[0.1, 1.0, 10.0]\n",
      "    #clf.fit([[0, 0], [0, 0], [1, 1]], [0, .1, 1])\n",
      "    \n",
      "    \n",
      "    "
     ],
     "language": "python",
     "metadata": {},
     "outputs": [],
     "prompt_number": 7
    },
    {
     "cell_type": "code",
     "collapsed": false,
     "input": [
      "\n",
      "X = df\n",
      "y = np.array(RTs)\n",
      "y = y.reshape((y.shape[0],-1)) #add dimension\n",
      "X_train, X_test, y_train, y_test = train_test_split(X, y, test_size=0.25)"
     ],
     "language": "python",
     "metadata": {},
     "outputs": [],
     "prompt_number": 68
    },
    {
     "cell_type": "code",
     "collapsed": false,
     "input": [
      "print X.shape\n",
      "print X_train.shape\n",
      "print X_test.shape\n",
      "print y.shape"
     ],
     "language": "python",
     "metadata": {},
     "outputs": [
      {
       "output_type": "stream",
       "stream": "stdout",
       "text": [
        "(138, 56)\n",
        "(103, 56)\n",
        "(35, 56)\n",
        "(138, 1)\n"
       ]
      }
     ],
     "prompt_number": 69
    },
    {
     "cell_type": "code",
     "collapsed": false,
     "input": [
      "#clf = linear_model.RidgeCV(alphas = [0.1, 1, 10])\n",
      "#clf.fit(df, RTs)\n",
      "#clf.best_alpha\n",
      "\n",
      "#clf = linear_model.MultiTaskLassoCV()\n",
      "ridge = linear_model.RidgeCV()\n",
      "y_pred = ridge.fit(X_train, y_train).predict(X_test)\n",
      "\n",
      "print \"r^2 on test data : %f\" % (1 - np.linalg.norm(y_test - y_pred)**2\n",
      "                                      / np.linalg.norm(y_test)**2)\n",
      "print \"R^2 score : %f\" % (ridge.score(X_test, y_test))"
     ],
     "language": "python",
     "metadata": {},
     "outputs": [
      {
       "output_type": "stream",
       "stream": "stdout",
       "text": [
        "r^2 on test data : -1.167184\n",
        "R^2 score : -0.352633\n"
       ]
      }
     ],
     "prompt_number": 106
    },
    {
     "cell_type": "code",
     "collapsed": false,
     "input": [
      "plot(ridge.coef_.flatten(),'.')"
     ],
     "language": "python",
     "metadata": {},
     "outputs": [
      {
       "metadata": {},
       "output_type": "pyout",
       "prompt_number": 96,
       "text": [
        "[<matplotlib.lines.Line2D at 0x84cd510>]"
       ]
      },
      {
       "metadata": {},
       "output_type": "display_data",
       "png": "[encoded data removed]",
       "text": [
        "<matplotlib.figure.Figure at 0x82d7210>"
       ]
      }
     ],
     "prompt_number": 96
    },
    {
     "cell_type": "code",
     "collapsed": false,
     "input": [
      "xaxis = np.arange(df.shape[1])\n",
      "bar(xaxis, ridge.coef_.flatten())\n",
      "#plt.xticks(xaxis, df.columns, rotation = 90)"
     ],
     "language": "python",
     "metadata": {},
     "outputs": [
      {
       "metadata": {},
       "output_type": "pyout",
       "prompt_number": 98,
       "text": [
        "<Container object of 56 artists>"
       ]
      },
      {
       "metadata": {},
       "output_type": "display_data",
       "png": "[encoded data removed]",
       "text": [
        "<matplotlib.figure.Figure at 0x849b890>"
       ]
      }
     ],
     "prompt_number": 98
    },
    {
     "cell_type": "code",
     "collapsed": false,
     "input": [
      "plot(y_pred, y_test,'.')"
     ],
     "language": "python",
     "metadata": {},
     "outputs": [
      {
       "metadata": {},
       "output_type": "pyout",
       "prompt_number": 80,
       "text": [
        "[<matplotlib.lines.Line2D at 0x6827d50>]"
       ]
      },
      {
       "metadata": {},
       "output_type": "display_data",
       "png": "[encoded data removed]",
       "text": [
        "<matplotlib.figure.Figure at 0x6a7f050>"
       ]
      }
     ],
     "prompt_number": 80
    },
    {
     "cell_type": "code",
     "collapsed": false,
     "input": [
      "X = df\n",
      "y = np.array(RTs)\n",
      "y = y.reshape((y.shape[0],-1)) #add dimension\n",
      "clf = linear_model.RidgeCV(alphas = [0.1, 1, 10, 100, 1000])\n",
      "\n",
      "X_train, X_test, y_train, y_test = train_test_split(X, y, test_size=0.25)"
     ],
     "language": "python",
     "metadata": {},
     "outputs": [
      {
       "ename": "NameError",
       "evalue": "name 'train_test_split' is not defined",
       "output_type": "pyerr",
       "traceback": [
        "\u001b[1;31m---------------------------------------------------------------------------\u001b[0m\n\u001b[1;31mNameError\u001b[0m                                 Traceback (most recent call last)",
        "\u001b[1;32m<ipython-input-164-07d9aa1f999a>\u001b[0m in \u001b[0;36m<module>\u001b[1;34m()\u001b[0m\n\u001b[0;32m      4\u001b[0m \u001b[0mclf\u001b[0m \u001b[1;33m=\u001b[0m \u001b[0mlinear_model\u001b[0m\u001b[1;33m.\u001b[0m\u001b[0mRidgeCV\u001b[0m\u001b[1;33m(\u001b[0m\u001b[0malphas\u001b[0m \u001b[1;33m=\u001b[0m \u001b[1;33m[\u001b[0m\u001b[1;36m0.1\u001b[0m\u001b[1;33m,\u001b[0m \u001b[1;36m1\u001b[0m\u001b[1;33m,\u001b[0m \u001b[1;36m10\u001b[0m\u001b[1;33m,\u001b[0m \u001b[1;36m100\u001b[0m\u001b[1;33m,\u001b[0m \u001b[1;36m1000\u001b[0m\u001b[1;33m]\u001b[0m\u001b[1;33m)\u001b[0m\u001b[1;33m\u001b[0m\u001b[0m\n\u001b[0;32m      5\u001b[0m \u001b[1;33m\u001b[0m\u001b[0m\n\u001b[1;32m----> 6\u001b[1;33m \u001b[0mX_train\u001b[0m\u001b[1;33m,\u001b[0m \u001b[0mX_test\u001b[0m\u001b[1;33m,\u001b[0m \u001b[0my_train\u001b[0m\u001b[1;33m,\u001b[0m \u001b[0my_test\u001b[0m \u001b[1;33m=\u001b[0m \u001b[0mtrain_test_split\u001b[0m\u001b[1;33m(\u001b[0m\u001b[0mX\u001b[0m\u001b[1;33m,\u001b[0m \u001b[0my\u001b[0m\u001b[1;33m,\u001b[0m \u001b[0mtest_size\u001b[0m\u001b[1;33m=\u001b[0m\u001b[1;36m0.25\u001b[0m\u001b[1;33m)\u001b[0m\u001b[1;33m\u001b[0m\u001b[0m\n\u001b[0m",
        "\u001b[1;31mNameError\u001b[0m: name 'train_test_split' is not defined"
       ]
      }
     ],
     "prompt_number": 164
    },
    {
     "cell_type": "markdown",
     "metadata": {},
     "source": [
      "###calculate regression for HG properties for each active elec - vs RT (old)"
     ]
    },
    {
     "cell_type": "code",
     "collapsed": false,
     "input": [
      "import os\n",
      "import pandas as pd\n",
      "import numpy as np\n",
      "import scipy.io as spio\n",
      "from __future__ import division\n",
      "import glob\n"
     ],
     "language": "python",
     "metadata": {},
     "outputs": [],
     "prompt_number": 174
    },
    {
     "cell_type": "code",
     "collapsed": false,
     "input": [
      "datafolder = '/Users/matar/Dropbox/PCA_elecs/'\n",
      "SJdir = '/Users/matar/Documents/MATLAB/DATA/Avgusta/'\n",
      "SJdir = '/Users/matar/Documents/MATLAB/DATA/Avgusta/Subjs'\n",
      "savedir = '/Users/matar/Dropbox/PCA_elecs/regression/'"
     ],
     "language": "python",
     "metadata": {},
     "outputs": [],
     "prompt_number": 15
    },
    {
     "cell_type": "code",
     "collapsed": false,
     "input": [
      "#get list of subj_task\n",
      "text_file = open(os.path.join(datafolder, 'test.subjects'),'r')\n",
      "lines = text_file.readlines()\n",
      "text_file.close()\n",
      "lines = [x[0:-1] for x in lines]"
     ],
     "language": "python",
     "metadata": {},
     "outputs": [],
     "prompt_number": 13
    },
    {
     "cell_type": "code",
     "collapsed": false,
     "input": [
      "#for i in np.arange(len(lines)):\n",
      "for i in [37]:\n",
      "    [subj, task] = lines[i].split('_')\n",
      "    \n",
      "    filename = os.path.join(SJdir, subj, task, 'HG_elecMTX_percent.mat')\n",
      "    data = spio.loadmat(filename, struct_as_record = True)\n",
      "    active_elecs = data['active_elecs'].squeeze()\n",
      "    RTs = data['RTs'].squeeze()\n",
      "    srate = data['srate']\n",
      "    HGdata = data['data_percent'] #elecs x trials x time\n",
      "    \n",
      "    for j, a in enumerate(active_elecs):\n",
      "                    \n",
      "        edata = HGdata[j,:,:]\n",
      "        \n",
      "        #take mean of every 4 trials and every 4 RTs\n",
      "        total = edata.shape[0]/4\n",
      "        idx = np.hstack([tile(j,4) for j in np.arange(total)])\n",
      "        edata4 = pd.DataFrame(edata)\n",
      "        edata4 = edata4.groupby(idx[0:edata4.shape[0]]).apply(mean)\n",
      "        \n",
      "        RT4 = pd.DataFrame(RTs)\n",
      "        RT4 = RT4.groupby(idx[0:RT4.shape[0]]).apply(mean).squeeze()\n",
      "\n",
      "        #calculate time to peak, peak value, \n",
      "        latencies = edata4.idxmax(axis = 1)-500 #to account for bl\n",
      "        peaks = edata4.max(axis = 1)\n",
      "        \n",
      "        # fit regression model (using pandas framework)\n",
      "        res = ols(y=RT4, x=latencies) \n",
      "        offset = res.beta.intercept\n",
      "        pval = res.f_stat['p-value']\n",
      "        offset = res.beta.intercept\n",
      "        beta = res.beta['x']\n",
      "        \n",
      "        #plot\n",
      "        figure(figsize=(10, 10), facecolor='w', edgecolor='k')\n",
      "        plt.subplot(221)\n",
      "        \n",
      "        plt.autoscale(enable = True, tight = True)\n",
      "        cax = plt.pcolormesh(np.arange(-500, cdata4.shape[1]-500), np.arange(0, cdata4.shape[0]), np.array(cdata4), zorder = 0)\n",
      "        cbar = plt.colorbar(cax, ticks = [-150, 0 , 150], orientation = 'vertical')\n",
      "        cax.set_clim(vmin=-150,vmax=150)\n",
      "        \n",
      "        for j in np.arange(len(RT4)):\n",
      "            plt.plot((RT4[j], RT4[j]), (j-0.5, j+0.5), 'k', linewidth = 3,zorder = 1)\n",
      "            #plt.plot((latencies[j], latencies[j]), (j-0.5, j+0.5),'b',linewidth = 3, zorder = 1)\n",
      "        title(\"%s %s cluster %i, grouped trials\" %(subj, task, g))\n",
      "        \n",
      "        plt.subplot(222)\n",
      "        plt.autoscale(enable = True, tight = True)\n",
      "        plt.plot(latencies,np.arange(len(RT4)),'g.')\n",
      "        plt.plot(RT4, np.arange(len(RT4)),'ks')\n",
      "        xlabel('time')\n",
      "        ylabel('trials')\n",
      "        title(\"HG peak latencies\")\n",
      "\n",
      "        plt.subplot(223)\n",
      "        iqr = np.percentile(latencies, [25, 75])\n",
      "        iqr = max(iqr)-min(iqr)\n",
      "        binsize = 2 * iqr * (len(latencies)**-1/3) #Freedman\u2013Diaconis rule\n",
      "        nbins = (max(latencies)-min(latencies))/binsize\n",
      "        n, bins, patches = plt.hist(latencies, bins = nbins, normed=0)\n",
      "        h = plt.setp(patches, 'facecolor', 'g', 'alpha', 0.75)\n",
      "        xlabel(\"latencies\")\n",
      "        ylabel(\"count\")\n",
      "        \n",
      "        #y = normpdf( bins, mean(latencies), std(latencies))# add a line showing the expected normal distribution (only works of normed =1)\n",
      "        #l = plt.plot(bins, y, 'r--', linewidth=1.5)\n",
      "        #plt.legend(['normpdf','latencies'])\n",
      "        \n",
      "        plt.subplot(224)\n",
      "        plt.scatter(latencies, RT4,s = 20)\n",
      "        plt.hold(True)\n",
      "        x = np.array([min(latencies), max(latencies)])\n",
      "        y = offset + beta * x\n",
      "        plt.plot(x,y,'r')\n",
      "        title(\"offset %dms, slope %0.2f, pval %f\" %(offset, beta, pval))\n",
      "        xlabel('latencies')\n",
      "        ylabel('RTs')\n",
      "        \n",
      "        filename = os.path.join(savedir, ''.join([lines[i], '_c', str(g+1), '.png']))\n",
      "        plt.savefig(filename)  \n",
      "        plt.close()\n"
     ],
     "language": "python",
     "metadata": {},
     "outputs": []
    },
    {
     "cell_type": "code",
     "collapsed": false,
     "input": [
      "#for i in np.arange(len(lines)):\n",
      "latencies = list(); peaks = list(); elecs = list(); RTs_all = list(); means = list(); sums  =list()\n",
      "for i in [37]:\n",
      "    [subj, task] = lines[i].split('_')\n",
      "    \n",
      "    filename = os.path.join(SJdir, 'Subjs',subj, task, 'time_windows_onsets_stim.mat')\n",
      "    stim_onsets = spio.loadmat(filename, struct_as_record = True)['time_windows_onsets_stim']\n",
      "    filename = os.path.join(SJdir, 'Subjs',subj, task,'time_windows_onsets_resp.mat')\n",
      "    resp_onsets = spio.loadmat(filename, struct_as_record = True)['time_windows_onsets_resp']\n",
      "     \n",
      "    filename = os.path.join(SJdir, 'Subjs', subj, task, 'HG_elecMTX_percent.mat')\n",
      "    data = spio.loadmat(filename, struct_as_record = True)\n",
      "    active_elecs = data['active_elecs'].squeeze()\n",
      "    RTs = data['RTs'].squeeze()\n",
      "    srate = data['srate']\n",
      "    HGdata = data['data_percent'] #elecs x trials x time\n",
      "    \n",
      "    for j, a in enumerate(active_elecs):\n",
      "            \n",
      "        #define onset of HG\n",
      "        onset = int(stim_onsets[a-1]/1000*srate)\n",
      "        if onset<0:\n",
      "            onset = int(resp_onsets[a-1]/1000*srate)\n",
      "        onset = int(np.round(onset + 500/1000*srate))#to account for baseline\n",
      "\n",
      "        edata = HGdata[j,:,onset::] #drop everything before onset of HG\n",
      "        \n",
      "        #take mean of every 4 trials and every 4 RTs\n",
      "        total = edata.shape[0]/4\n",
      "        idx = np.hstack([tile(j,4) for j in np.arange(total)])\n",
      "        edata4 = pd.DataFrame(edata)\n",
      "        edata4 = edata4.groupby(idx[0:edata4.shape[0]]).apply(mean)\n",
      "            \n",
      "        RT4 = pd.DataFrame(RTs)\n",
      "        RT4 = RT4.groupby(idx[0:RT4.shape[0]]).apply(mean).squeeze()\n",
      "\n",
      "        #calculate time to peak, peak value, \n",
      "        latencies.append(edata4.idxmax(axis = 1)) #to account for bl\n",
      "        peaks.append(edata4.max(axis = 1))\n",
      "        elecs.append(tile(a, edata4.shape[0]))\n",
      "        means.append(edata4.mean(axis = 1))\n",
      "        sums.append(sum(edata4, axis = 1))\n",
      "        \n",
      "        #if a == 1:\n",
      "        #    plt.plot(edata4.transpose())\n",
      "        #    plot(edata4.idxmax(axis = 1), edata4.max(axis=1), 'ko')\n",
      "\n",
      "latencies = np.array(latencies).transpose() #trials x elecs\n",
      "peaks = np.array(peaks).transpose() \n",
      "means = np.array(means).transpose() \n",
      "sums = np.array(sums).transpose() "
     ],
     "language": "python",
     "metadata": {},
     "outputs": [],
     "prompt_number": 305
    },
    {
     "cell_type": "code",
     "collapsed": false,
     "input": [
      "from sklearn import linear_model, metrics, cross_validation\n",
      "from sklearn.cross_validation import LeaveOneOut, train_test_split, StratifiedKFold\n",
      "from sklearn.feature_selection import RFECV\n",
      "from sklearn.metrics import zero_one_loss\n"
     ],
     "language": "python",
     "metadata": {},
     "outputs": [],
     "prompt_number": 178
    },
    {
     "cell_type": "code",
     "collapsed": false,
     "input": [
      "betas.shape"
     ],
     "language": "python",
     "metadata": {},
     "outputs": [
      {
       "metadata": {},
       "output_type": "pyout",
       "prompt_number": 330,
       "text": [
        "(24, 64)"
       ]
      }
     ],
     "prompt_number": 330
    },
    {
     "cell_type": "code",
     "collapsed": false,
     "input": [
      "X = hstack([latencies, peaks, means, sums])\n",
      "y = np.array(RT4)\n",
      "y = y.reshape((y.shape[0],-1)) #add dimension\n",
      "clf = linear_model.RidgeCV(alphas = [0.1, 1, 10, 100, 1000])\n",
      "\n",
      "X_train, X_test, y_train, y_test = train_test_split(X, y, test_size=0.25)"
     ],
     "language": "python",
     "metadata": {},
     "outputs": [],
     "prompt_number": 316
    },
    {
     "cell_type": "code",
     "collapsed": false,
     "input": [
      "from sklearn.linear_model import (ElasticNet, LassoCV)\n",
      "from sklearn.metrics import r2_score\n",
      "from sklearn.svm import SVR\n",
      "\n",
      "svr_rbf = SVR(kernel='rbf', C=1e3, gamma=0.1)\n",
      "svr_lin = SVR(kernel='linear', C=1e3)\n",
      "y_rbf = svr_rbf.fit(X, y.squeeze()).predict(X)\n",
      "y_lin = svr_lin.fit(X, y.squeeze()).predict(X)\n",
      "\n",
      "#alpha = 0.1\n",
      "lasso = Lasso(alpha=alpha)\n",
      "\n",
      "y_pred_lasso = lasso.fit(X_train, y_train).predict(X_test)\n",
      "r2_score_lasso = r2_score(y_test, y_pred_lasso)\n",
      "print(lasso)\n",
      "print(\"r^2 on test data : %f\" % r2_score_lasso)\n",
      "\n",
      "enet = ElasticNet(alpha=alpha, l1_ratio=0.7)\n",
      "\n",
      "y_pred_enet = enet.fit(X_train, y_train).predict(X_test)\n",
      "r2_score_enet = r2_score(y_test, y_pred_enet)\n",
      "print(enet)\n",
      "print(\"r^2 on test data : %f\" % r2_score_enet)\n",
      "\n",
      "plot(enet.coef_, label='Elastic net coefficients')\n",
      "plot(lasso.coef_, label='Lasso coefficients')\n",
      "legend(loc='best')\n",
      "title(\"Lasso R^2: %f, Elastic Net R^2: %f\"\n",
      "         % (r2_score_lasso, r2_score_enet))\n"
     ],
     "language": "python",
     "metadata": {},
     "outputs": [
      {
       "output_type": "stream",
       "stream": "stdout",
       "text": [
        "Lasso(alpha=0.1, copy_X=True, fit_intercept=True, max_iter=1000,\n",
        "   normalize=False, positive=False, precompute=auto, tol=0.0001,\n",
        "   warm_start=False)\n",
        "r^2 on test data : -0.816221\n",
        "ElasticNet(alpha=0.1, copy_X=True, fit_intercept=True, l1_ratio=0.7,\n",
        "      max_iter=1000, normalize=False, positive=False, precompute=auto,\n",
        "      rho=None, tol=0.0001, warm_start=False)\n",
        "r^2 on test data : -0.811179\n"
       ]
      },
      {
       "metadata": {},
       "output_type": "pyout",
       "prompt_number": 366,
       "text": [
        "<matplotlib.text.Text at 0x1116d58d0>"
       ]
      },
      {
       "metadata": {},
       "output_type": "display_data",
       "png": "[encoded data removed]",
       "text": [
        "<matplotlib.figure.Figure at 0x111665950>"
       ]
      }
     ],
     "prompt_number": 366
    },
    {
     "cell_type": "code",
     "collapsed": false,
     "input": [
      "#fit regression model (using sklearn)\n",
      "betas = np.zeros((len(y_train),X.shape[1]))\n",
      "for train, test, in LeaveOneOut(len(y_train)): #per trial\n",
      "    xtrain, xtest, ytrain, ytest = X_train[train], X_train[test], y_train[train], y_train[test]\n",
      "    \n",
      "    clf.fit(xtrain, ytrain)\n",
      "    betas[test,:] = (clf.coef_.squeeze())\n",
      "\n",
      "#take mean of betas across all folds (1 weight per elec feature)\n",
      "betas = betas.mean(axis = 0)\n",
      "\n",
      "##calculate R2 on held out test set (X_test) compare to y_test)\n",
      "yhat = clf.predict(xtest)\n"
     ],
     "language": "python",
     "metadata": {},
     "outputs": [],
     "prompt_number": 337
    },
    {
     "cell_type": "code",
     "collapsed": false,
     "input": [],
     "language": "python",
     "metadata": {},
     "outputs": [
      {
       "metadata": {},
       "output_type": "pyout",
       "prompt_number": 339,
       "text": [
        "RidgeCV(alphas=[0.1, 1, 10, 100, 1000], cv=None, fit_intercept=True,\n",
        "    gcv_mode=None, loss_func=None, normalize=False, score_func=None,\n",
        "    scoring=None, store_cv_values=False)"
       ]
      }
     ],
     "prompt_number": 339
    },
    {
     "cell_type": "code",
     "collapsed": false,
     "input": [
      "# fit regression model (pandas framework)\n",
      "df = pd.DataFrame([elecs, peaks, latencies, means, RTs_all]).transpose()\n",
      "df.columns = ['elec','peaks','latencies', 'means','RTs']\n",
      "\n",
      "res = pd.ols(y=df['RTs'], x=df[['peaks','latencies','means']])\n",
      "#offset = res.beta.intercept\n",
      "#pval = res.f_stat['p-value']\n",
      "#offset = res.beta.intercept\n",
      "#beta = res.beta['x']"
     ],
     "language": "python",
     "metadata": {},
     "outputs": []
    },
    {
     "cell_type": "markdown",
     "metadata": {},
     "source": [
      "FUNCTIONS"
     ]
    },
    {
     "cell_type": "code",
     "collapsed": false,
     "input": [
      "def get_ROI(subj, e, brain_ROI):\n",
      "    try:\n",
      "        rois = brain_ROI[subj]\n",
      "    except:\n",
      "        return None\n",
      "    else:\n",
      "        for roi, elecs in rois.iteritems():\n",
      "            if np.in1d(e, elecs):\n",
      "                return roi"
     ],
     "language": "python",
     "metadata": {},
     "outputs": [],
     "prompt_number": 217
    },
    {
     "cell_type": "code",
     "collapsed": false,
     "input": [
      "#get all ROIs\n",
      "import itertools\n",
      "datafile = os.path.join('/Users/matar/Dropbox/PCA_elecs','brain_ROI.mat')\n",
      "data = loadmat(datafile)\n",
      "brain_ROI = data['brain_ROI']\n",
      "\n",
      "ROIs = list()\n",
      "subjs = brain_ROI.keys()\n",
      "ROIs = [ROIs + brain_ROI[s].keys() for s in subjs]\n",
      "ROIs = list(set(itertools.chain(*ROIs))) #merge lists, keep only unique ROIS\n",
      "\n",
      "#make color dict\n",
      "color_dict = dict()\n",
      "\n",
      "#R hemisphere (gray)\n",
      "vals = [x for x in ROIs if 'R_' in x]\n",
      "color_dict.update({key: 'grey' for key in vals})\n",
      "#remove Rhemisphere from ROIs\n",
      "[ROIs.remove(i) for i in vals]\n",
      "\n",
      "#OFC, frontal pole (green)\n",
      "vals = [x for x in ROIs if 'OFC' in x]\n",
      "[vals.append(x) for x in ROIs if 'FrPole' in x]\n",
      "color_dict.update({key: 'green' for key in vals})\n",
      "\n",
      "#IFG and Broca (blue)\n",
      "vals = [x for x in ROIs if 'IFG' in x]\n",
      "[vals.append(x) for x in ROIs if 'Broca' in x]\n",
      "color_dict.update({key: 'blue' for key in vals})\n",
      "\n",
      "#MTG and STG and ITG (orange)\n",
      "vals = [x for x in ROIs if 'MTG' in x]\n",
      "[vals.append(x) for x in ROIs if 'STG' in x]\n",
      "[vals.append(x) for x in ROIs if 'ITG' in x]\n",
      "color_dict.update({key: 'orange' for key in vals})\n",
      "\n",
      "#Visual (purple)\n",
      "vals = [x for x in ROIs if 'Occip' in x]\n",
      "[vals.append(x) for x in ROIs if 'Area_37' in x]\n",
      "[vals.append(x) for x in ROIs if 'InfTemp' in x]\n",
      "color_dict.update({key: 'purple' for key in vals})\n",
      "\n",
      "#Medial (pink)\n",
      "vals = [x for x in ROIs if 'Med' in x]\n",
      "vals = [vals.append(x) for x in ROIs if 'CC' in x]\n",
      "color_dict.update({key: 'pink' for key in vals})\n",
      "\n",
      "#Precentral/Postcentral (cyan)\n",
      "vals = [x for x in ROIs if 'centrl' in x]\n",
      "color_dict.update({key: 'cyan' for key in vals})\n",
      "\n",
      "#MFG and SFG (red)\n",
      "vals = [x for x in ROIs if 'MFG' in x]\n",
      "[vals.append(x) for x in ROIs if 'SFG' in x]\n",
      "color_dict.update({key: 'red' for key in vals})"
     ],
     "language": "python",
     "metadata": {},
     "outputs": [],
     "prompt_number": 218
    },
    {
     "cell_type": "code",
     "collapsed": false,
     "input": [
      "\"\"\"\n",
      "helper function from:\n",
      "http://stackoverflow.com/questions/7008608/scipy-io-loadmat-nested-structures-i-e-dictionaries\n",
      "to pull out nested structures (such as brain_ROI)\n",
      "\"\"\"\n",
      "def loadmat(filename):\n",
      "    \"\"\"\n",
      "    this function should be called instead of direct spio.loadmat\n",
      "    as it cures the problem of not properly recovering python dictionaries\n",
      "    from mat files. It calls the function check keys to cure all entries\n",
      "    which are still mat-objects\n",
      "    \"\"\"\n",
      "    data = spio.loadmat(filename, struct_as_record=False, squeeze_me=True)\n",
      "    return _check_keys(data)\n",
      "\n",
      "def _check_keys(dict):\n",
      "    \"\"\"\n",
      "    checks if entries in dictionary are mat-objects. If yes\n",
      "    todict is called to change them to nested dictionaries\n",
      "    \"\"\"\n",
      "    for key in dict:\n",
      "        if isinstance(dict[key], spio.matlab.mio5_params.mat_struct):\n",
      "            dict[key] = _todict(dict[key])\n",
      "    return dict        \n",
      "\n",
      "def _todict(matobj):\n",
      "    \"\"\"\n",
      "    A recursive function which constructs from matobjects nested dictionaries\n",
      "    \"\"\"\n",
      "    dict = {}\n",
      "    for strg in matobj._fieldnames:\n",
      "        elem = matobj.__dict__[strg]\n",
      "        if isinstance(elem, spio.matlab.mio5_params.mat_struct):\n",
      "            dict[strg] = _todict(elem)\n",
      "        else:\n",
      "            dict[strg] = elem\n",
      "    return dict"
     ],
     "language": "python",
     "metadata": {},
     "outputs": [],
     "prompt_number": 215
    }
   ],
   "metadata": {}
  }
 ]
}