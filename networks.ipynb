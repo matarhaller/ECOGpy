{
 "metadata": {
  "name": "",
  "signature": "sha256:8b48adb569f72e895dedfe1ad8454d6da3bf26b18e032bdfea0d66dd3bd658cd"
 },
 "nbformat": 3,
 "nbformat_minor": 0,
 "worksheets": [
  {
   "cells": [
    {
     "cell_type": "code",
     "collapsed": false,
     "input": [
      "%reset"
     ],
     "language": "python",
     "metadata": {},
     "outputs": [
      {
       "name": "stdout",
       "output_type": "stream",
       "stream": "stdout",
       "text": [
        "Once deleted, variables cannot be recovered. Proceed (y/[n])? y\n"
       ]
      }
     ],
     "prompt_number": 1
    },
    {
     "cell_type": "code",
     "collapsed": false,
     "input": [
      "import pandas as pd\n",
      "import os\n",
      "from __future__ import division\n",
      "import numpy as np\n",
      "import cPickle as pickle\n",
      "import matplotlib.pyplot as plt\n",
      "from scipy import stats\n",
      "import loadmat"
     ],
     "language": "python",
     "metadata": {},
     "outputs": [],
     "prompt_number": 2
    },
    {
     "cell_type": "code",
     "collapsed": false,
     "input": [
      "SJdir = '/home/knight/matar/MATLAB/DATA/Avgusta/'"
     ],
     "language": "python",
     "metadata": {},
     "outputs": [],
     "prompt_number": 3
    },
    {
     "cell_type": "markdown",
     "metadata": {},
     "source": [
      "##combine all of df_thresh into 1 csv\n",
      "* thresholded PC loading matrices"
     ]
    },
    {
     "cell_type": "code",
     "collapsed": false,
     "input": [
      "params = ['means', 'medians', 'maxes', 'maxes_rel', 'stds']\n",
      "\n",
      "df_pattern = pd.read_csv(os.path.join(SJdir, 'PCA','Stats', 'single_electrode_windows_csvs', 'single_electrode_windows_withdesignation_EDITED_dropped.csv'))\n",
      "\n",
      "subj_task = df_pattern[['subj', 'task']].drop_duplicates()\n",
      "\n",
      "for param in params:\n",
      "    df_all = pd.DataFrame({'subj':[],'task':[], 'elec':[], 'pattern':[], 'ROI':[], 'max_pc':[], 'pc_list':[]})\n",
      "\n",
      "    for s_t in subj_task.itertuples():\n",
      "        _, subj, task = s_t\n",
      "        filename = os.path.join(SJdir, 'PCA','Stats','Networks','unsmoothed','PCA_'+ param,'networks', '_'.join([subj, task,'thresh.csv']))\n",
      "        if os.path.isfile(filename):\n",
      "            df = pd.read_csv(filename)\n",
      "            df= df[['subj','task','elec','pattern','ROI','max_pc','pc_list']]\n",
      "            df_all = df_all.append(df)\n",
      "    df_all = df_all[['subj','task','elec','ROI','pattern','max_pc','pc_list']]\n",
      "    filename = os.path.join(SJdir, 'PCA','Stats', 'Networks', 'unsmoothed', 'PCA_'+ param, 'networks', 'all_subjects_thresh_'+ param +'.csv')\n",
      "    df_all.to_csv(filename)"
     ],
     "language": "python",
     "metadata": {},
     "outputs": [],
     "prompt_number": 5
    },
    {
     "cell_type": "markdown",
     "metadata": {},
     "source": [
      "##threshold correlation matrices based on threshholded PC1 (or PC2 - whichever predicts RT)"
     ]
    },
    {
     "cell_type": "code",
     "collapsed": false,
     "input": [
      "df = pd.read_csv(os.path.join(SJdir, 'PCA','Stats', 'single_electrode_windows_csvs', 'single_electrode_windows_withdesignation_EDITED_dropped.csv'))\n",
      "\n",
      "subj_task = df[['subj', 'task']].drop_duplicates()\n",
      "\n",
      "param = 'stds'\n",
      "pc = 'PC2'\n",
      "\n",
      "for s_t in subj_task.itertuples():\n",
      "    _, subj, task = s_t\n",
      "\n",
      "    filename = os.path.join(SJdir, 'PCA','Stats', 'Networks', 'unsmoothed', 'PCA_'+param,'networks', '_'.join([subj, task, 'thresh.csv']))\n",
      "    df_thresh = pd.read_csv(filename)\n",
      "\n",
      "    filename = os.path.join(SJdir, 'PCA','Stats','outliers', 'for_PCA','unsmoothed', '_'.join([subj, task, param+'.csv']))\n",
      "    df_data = pd.read_csv(filename)\n",
      "    df_corr = df_data.corr()\n",
      "    \n",
      "    #skip PC2 for subj/task that only have PC1\n",
      "    if not(pc in df_thresh.columns):\n",
      "        continue\n",
      "        \n",
      "    #find elecs that belong to PC group\n",
      "    idx = ~np.isnan(df_thresh[pc])\n",
      "    a = df_thresh[idx].elec\n",
      "    \n",
      "    #index into correlation matrix\n",
      "    a = [str(x) for x in a]\n",
      "    df_corr = df_corr.loc[a,a]\n",
      "    \n",
      "    #save df_corr\n",
      "    filename = os.path.join(SJdir, 'PCA', 'Stats', 'Networks', 'unsmoothed', 'PCA_'+param, 'networks', 'thresholded_correlations', '%s_%s_%s.csv' %(subj, task, pc))\n",
      "    df_corr.to_csv(filename)\n",
      "    \n",
      "    #plot\n",
      "    f, ax = plt.subplots()\n",
      "\n",
      "    df_thresh[idx][['elec', 'pattern', 'ROI']]\n",
      "    b = zip(df_thresh[idx].elec, df_thresh[idx].pattern, df_thresh[idx].ROI)\n",
      "    b = ['%i - %s - %s' %(x) for x in b]\n",
      "\n",
      "    plt.imshow(df_corr, vmin = -1, vmax = 1, interpolation = 'none', cmap = plt.cm.RdBu_r)\n",
      "    ax.set_xticks(range(len(a)))\n",
      "    ax.set_yticks(range(len(a)))\n",
      "    ax.set_xticklabels(a)\n",
      "    ax.set_yticklabels(b)\n",
      "    plt.colorbar()\n",
      "    ax.set_title('%s %s - %s - %s' %(subj, task, param, pc))\n",
      "    \n",
      "    filename = os.path.join(SJdir, 'PCA', 'Stats', 'Networks', 'unsmoothed', 'PCA_'+param, 'networks', 'thresholded_correlations', '%s_%s_%s.png' %(subj, task, pc))\n",
      "    plt.savefig(filename)\n",
      "    plt.close()"
     ],
     "language": "python",
     "metadata": {},
     "outputs": [
      {
       "output_type": "stream",
       "stream": "stderr",
       "text": [
        "/usr/local/anaconda/lib/python2.7/site-packages/matplotlib/axes/_base.py:2544: UserWarning: Attempting to set identical left==right results\n",
        "in singular transformations; automatically expanding.\n",
        "left=-0.5, right=-0.5\n",
        "  'left=%s, right=%s') % (left, right))\n",
        "/usr/local/anaconda/lib/python2.7/site-packages/matplotlib/axes/_base.py:2791: UserWarning: Attempting to set identical bottom==top results\n",
        "in singular transformations; automatically expanding.\n",
        "bottom=-0.5, top=-0.5\n",
        "  'bottom=%s, top=%s') % (bottom, top))\n"
       ]
      }
     ],
     "prompt_number": 38
    },
    {
     "cell_type": "code",
     "collapsed": false,
     "input": [],
     "language": "python",
     "metadata": {},
     "outputs": []
    }
   ],
   "metadata": {}
  }
 ]
}