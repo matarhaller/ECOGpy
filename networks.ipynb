{
 "metadata": {
  "name": "",
  "signature": "sha256:88ded71123b2c48d61c1799c6148ba3517af84a1fd79c76be6372304cfe73479"
 },
 "nbformat": 3,
 "nbformat_minor": 0,
 "worksheets": [
  {
   "cells": [
    {
     "cell_type": "code",
     "collapsed": false,
     "input": [
      "import pandas as pd\n",
      "import os\n",
      "from __future__ import division\n",
      "import numpy as np\n",
      "import cPickle as pickle\n",
      "import matplotlib.pyplot as plt\n",
      "from scipy import stats\n",
      "import loadmat"
     ],
     "language": "python",
     "metadata": {},
     "outputs": [],
     "prompt_number": 2
    },
    {
     "cell_type": "code",
     "collapsed": false,
     "input": [
      "SJdir = '/home/knight/matar/MATLAB/DATA/Avgusta/'"
     ],
     "language": "python",
     "metadata": {},
     "outputs": [],
     "prompt_number": 4
    },
    {
     "cell_type": "markdown",
     "metadata": {},
     "source": [
      "##combine all of df_thresh into 1 csv"
     ]
    },
    {
     "cell_type": "code",
     "collapsed": false,
     "input": [
      "param = 'medians'\n",
      "SJdir = '/home/knight/matar/MATLAB/DATA/Avgusta'\n",
      "df_pattern = pd.read_csv(os.path.join(SJdir, 'PCA','Stats', 'single_electrode_windows_withdesignation_EDITED_dropped.csv'))\n",
      "\n",
      "subj_task = df_pattern[['subj', 'task']].drop_duplicates()\n",
      "\n",
      "df_all = pd.DataFrame({'subj':[],'task':[], 'elec':[], 'pattern':[], 'ROI':[], 'max_pc':[], 'pc_list':[]})\n",
      "\n",
      "for s_t in subj_task.itertuples():\n",
      "    _, subj, task = s_t\n",
      "    filename = os.path.join(SJdir, 'PCA','Stats','PCA_'+ param,'networks', '_'.join([subj, task,'thresh.csv']))\n",
      "    if os.path.isfile(filename):\n",
      "        df = pd.read_csv(filename)\n",
      "        df= df[['subj','task','elec','pattern','ROI','max_pc','pc_list']]\n",
      "        df_all = df_all.append(df)\n",
      "df_all = df_all[['subj','task','elec','ROI','pattern','max_pc','pc_list']]\n",
      "filename = os.path.join(SJdir, 'PCA','Stats','PCA_'+ param,'networks', '_'.join(['all_subjects_thresh.csv']))\n",
      "df_all.to_csv(filename)"
     ],
     "language": "python",
     "metadata": {},
     "outputs": []
    },
    {
     "cell_type": "markdown",
     "metadata": {},
     "source": [
      "##threshold correlation matrices based on threshholded PC1 (or PC2 - whichever predicts RT)"
     ]
    },
    {
     "cell_type": "code",
     "collapsed": false,
     "input": [
      "subj, task, param = ('JH17','SelfAud', 'maxes_rel')\n",
      "\n",
      "df = pd.read_csv(os.path.join(SJdir, 'PCA','Stats', 'single_electrode_windows_withdesignation_EDITED_dropped.csv'))\n",
      "\n",
      "subj_task = df[['subj', 'task']].drop_duplicates()\n",
      "\n",
      "param = 'maxes_rel'\n",
      "pc = 'PC1'\n",
      "\n",
      "for s_t in subj_task.itertuples():\n",
      "    _, subj, task = s_t\n",
      "\n",
      "    filename = os.path.join(SJdir, 'PCA','Stats', 'PCA_'+param,'networks', '_'.join([subj, task, 'thresh.csv']))\n",
      "    df_thresh = pd.read_csv(filename)\n",
      "\n",
      "    filename = os.path.join(SJdir, 'PCA','Stats','outliers','for_PCA','_'.join([subj, task, param+'.csv']))\n",
      "    df_data = pd.read_csv(filename)\n",
      "    df_corr = df_data.corr()\n",
      "    \n",
      "    #find elecs that belong to PC1 group\n",
      "    idx = ~np.isnan(df_thresh[pc])\n",
      "    a = df_thresh[idx].elec\n",
      "    \n",
      "    #index into correlation matrix\n",
      "    a = [str(x) for x in a]\n",
      "    df_corr = df_corr.loc[a,a]\n",
      "    \n",
      "    #save df_corr\n",
      "    filename = os.path.join(SJdir, 'PCA', 'Stats', 'PCA_'+param, 'networks', 'thresholded_correlations', '%s_%s_%s.csv' %(subj, task, pc))\n",
      "    df_corr.to_csv(filename)\n",
      "    \n",
      "    #plot\n",
      "    f, ax = plt.subplots()\n",
      "\n",
      "    df_thresh[idx][['elec', 'pattern', 'ROI']]\n",
      "    b = zip(df_thresh[idx].elec, df_thresh[idx].pattern, df_thresh[idx].ROI)\n",
      "    b = ['%i - %s - %s' %(x) for x in b]\n",
      "\n",
      "    plt.imshow(df_corr, vmin = -1, vmax = 1, interpolation = 'none', cmap = plt.cm.RdBu_r)\n",
      "    ax.set_xticks(range(len(a)))\n",
      "    ax.set_yticks(range(len(a)))\n",
      "    ax.set_xticklabels(a)\n",
      "    ax.set_yticklabels(b)\n",
      "    colorbar()\n",
      "    ax.set_title('%s %s - %s - %s' %(subj, task, param, pc))\n",
      "    \n",
      "    filename = os.path.join(SJdir, 'PCA', 'Stats', 'PCA_'+param, 'networks', 'thresholded_correlations', '%s_%s_%s.png' %(subj, task, pc))\n",
      "    plt.savefig(filename)\n",
      "    plt.close()"
     ],
     "language": "python",
     "metadata": {},
     "outputs": [],
     "prompt_number": 105
    },
    {
     "cell_type": "code",
     "collapsed": false,
     "input": [
      "pc = 'PC1'\n",
      "filename = os.path.join(SJdir, 'PCA', 'Stats', 'PCA_'+param, 'networks', 'thresholded_correlations', '%s_%s_%s.png' %(subj, task, pc))\n",
      "\n",
      "filename"
     ],
     "language": "python",
     "metadata": {},
     "outputs": [
      {
       "metadata": {},
       "output_type": "pyout",
       "prompt_number": 98,
       "text": [
        "'/home/knight/matar/MATLAB/DATA/Avgusta/PCA/Stats/PCA_maxes_rel/networks/thresholded_correlations/JH17_SelfAud_PC1.png'"
       ]
      }
     ],
     "prompt_number": 98
    },
    {
     "cell_type": "code",
     "collapsed": false,
     "input": [],
     "language": "python",
     "metadata": {},
     "outputs": [],
     "prompt_number": 77
    },
    {
     "cell_type": "code",
     "collapsed": false,
     "input": [
      "plt.pcolor(df_corr, vmin = 1, vmax = 0)\n",
      "plt.colorbar()"
     ],
     "language": "python",
     "metadata": {},
     "outputs": []
    },
    {
     "cell_type": "code",
     "collapsed": false,
     "input": [],
     "language": "python",
     "metadata": {},
     "outputs": []
    }
   ],
   "metadata": {}
  }
 ]
}