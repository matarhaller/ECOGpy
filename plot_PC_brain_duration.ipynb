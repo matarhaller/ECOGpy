{
 "metadata": {
  "name": "",
  "signature": "sha256:f984218d7af378f82100b0c736ce53decc9cacc056558a0b49526520d19bc213"
 },
 "nbformat": 3,
 "nbformat_minor": 0,
 "worksheets": [
  {
   "cells": [
    {
     "cell_type": "code",
     "collapsed": false,
     "input": [
      "%reset"
     ],
     "language": "python",
     "metadata": {},
     "outputs": [
      {
       "name": "stdout",
       "output_type": "stream",
       "stream": "stdout",
       "text": [
        "Once deleted, variables cannot be recovered. Proceed (y/[n])? t\n"
       ]
      },
      {
       "name": "stdout",
       "output_type": "stream",
       "stream": "stdout",
       "text": [
        "Once deleted, variables cannot be recovered. Proceed (y/[n])? y\n"
       ]
      }
     ],
     "prompt_number": 1
    },
    {
     "cell_type": "code",
     "collapsed": false,
     "input": [
      "import brain_clusters\n",
      "import os\n",
      "import pandas as pd\n",
      "import numpy as np\n",
      "import pandas as pd\n",
      "import scipy.io as spio\n",
      "import matplotlib.gridspec as gridspec\n",
      "import cPickle as pickle\n",
      "import scipy.stats as stats\n",
      "import matplotlib.pyplot as plt"
     ],
     "language": "python",
     "metadata": {},
     "outputs": [],
     "prompt_number": 2
    },
    {
     "cell_type": "code",
     "collapsed": false,
     "input": [
      "brain_clusters = reload(brain_clusters)"
     ],
     "language": "python",
     "metadata": {},
     "outputs": [],
     "prompt_number": 4
    },
    {
     "cell_type": "markdown",
     "metadata": {},
     "source": [
      "## plot PC thresholded elecs on brain"
     ]
    },
    {
     "cell_type": "code",
     "collapsed": false,
     "input": [
      "param = 'means'\n",
      "PC = 'PC1'"
     ],
     "language": "python",
     "metadata": {},
     "outputs": [],
     "prompt_number": 12
    },
    {
     "cell_type": "code",
     "collapsed": false,
     "input": [
      "SJdir = '/home/knight/matar/MATLAB/DATA/Avgusta'"
     ],
     "language": "python",
     "metadata": {},
     "outputs": [],
     "prompt_number": 4
    },
    {
     "cell_type": "code",
     "collapsed": false,
     "input": [
      "filename = os.path.join(SJdir,'PCA', 'Stats', 'single_electrode_windows_csvs', 'single_electrode_windows_withdesignation_EDITED.csv')\n",
      "df_all = pd.read_csv(filename)"
     ],
     "language": "python",
     "metadata": {},
     "outputs": []
    },
    {
     "cell_type": "code",
     "collapsed": false,
     "input": [
      "reconlist = os.path.join(SJdir, 'PCA','reconlist.csv')\n",
      "reconlist = pd.read_csv(reconlist)"
     ],
     "language": "python",
     "metadata": {},
     "outputs": [],
     "prompt_number": 5
    },
    {
     "cell_type": "code",
     "collapsed": false,
     "input": [
      "saveDir = os.path.join(SJdir, 'PCA', 'Stats', 'Networks', 'unsmoothed', 'PCA_'+param, 'networks', 'brains')\n",
      "os.mkdir(saveDir)\n",
      "\n",
      "subj_task = df_all[['subj', 'task']].drop_duplicates()\n",
      "\n",
      "for s_t in subj_task.itertuples():\n",
      "    subj, task = s_t[1:]\n",
      "    \n",
      "    \n",
      "    xycoords = reconlist[reconlist.subj_task == '_'.join([subj, task])].xyfile.iloc[0]\n",
      "    if isinstance(xycoords, float): #no explicit xycoord path\n",
      "        xycoords = 'xycoords.p'\n",
      "    \n",
      "    reconfile = reconlist[reconlist.subj_task == '_'.join([subj, task])].reconfile.iloc[0]\n",
      "    if len(reconfile)>0:\n",
      "        recon_filepath = os.path.join(SJdir, 'Subjs', subj, reconfile)\n",
      "    else:\n",
      "        print 'skipping %s %s' %(subj, task)\n",
      "        continue #skip this subj if no reconfile\n",
      "        \n",
      "    #open xycoords dictionary                                                                                           \n",
      "    filename = os.path.join(SJdir, 'Subjs',subj, xycoords)\n",
      "    with open(filename, 'r') as f:\n",
      "        xycoords = pickle.load(f)\n",
      "        f.close()\n",
      "\n",
      "    xycoords = pd.DataFrame(np.array(xycoords.values()), columns=['x_2d', 'y_2d'], index=np.array(xycoords.keys())+1)\n",
      "    \n",
      "    #color stuff\n",
      "    #import matplotlib\n",
      "    color_list = ['crimson', 'skyblue','lime', 'goldenrod'] #duration, response, stimulus, sustained\n",
      "\n",
      "    custom_cmap = matplotlib.colors.ListedColormap(color_list, name = 'custom_cmap')\n",
      "    \n",
      "    #get elecs of interest (for PC of interest)\n",
      "    pc = df_thresh[(df_thresh.subj == subj) & (df_thresh.task == task) & (df_thresh.max_pc== PC)]\n",
      "    \n",
      "    weights = pc[['elec','pattern']]\n",
      "    weights.columns = ['elec','group']\n",
      "    weights = weights.set_index('elec')\n",
      "\n",
      "    #create list of colors for scatter\n",
      "    c = list()\n",
      "    #create list of colors for scatter (dur = red, resp = blue, stim = green, sustain = yellow)\n",
      "    c = list()\n",
      "    u = np.unique(weights.group)\n",
      "    for i in weights.group:\n",
      "        if i == 'D':\n",
      "            c.append(color_list[0])\n",
      "        elif i == 'R':\n",
      "            c.append(color_list[1])\n",
      "        elif ((i == 'S') or (i == 'SR')) :\n",
      "            c.append(color_list[2])\n",
      "        else:\n",
      "            c.append(color_list[3])\n",
      "            \n",
      "    #figure properties\n",
      "    f, ax1 = plt.subplots(figsize = (10,10))\n",
      "    ax1.set_title('%s %s %s' %(subj, task, PC))\n",
      "    \n",
      "    #plot recon\n",
      "    brain_clusters.plot_xy_map(weights, locs = xycoords.loc[weights.index], ax = ax1, colors = c, cmap = custom_cmap, szmult=200, im_path = os.path.join(SJdir,'Subjs', subj, reconfile))    \n",
      "    \n",
      "    filename = os.path.join(saveDir, '_'.join([subj, task, PC+'.png']))\n",
      "    plt.savefig(filename)\n",
      "    plt.close()"
     ],
     "language": "python",
     "metadata": {},
     "outputs": [],
     "prompt_number": 14
    },
    {
     "cell_type": "markdown",
     "metadata": {},
     "source": [
      "## correlate PC1 and PC2 scores for different parameters with RTs"
     ]
    },
    {
     "cell_type": "code",
     "collapsed": false,
     "input": [
      "SJdir = '/home/knight/matar/MATLAB/DATA/Avgusta/'\n",
      "filename = os.path.join(SJdir,'PCA', 'Stats', 'single_electrode_windows_csvs', 'single_electrode_windows_withdesignation_EDITED.csv')\n",
      "df_all = pd.read_csv(filename)\n",
      "\n",
      "subjs, tasks, elecs, Rs_PC1, Rs_PC2, ps_PC1, ps_PC2,feats  = [[] for i in range(8)]\n",
      "R, pval = [dict() for i in range(2)]\n",
      "\n",
      "features_to_consider = ['medians','means', 'stds']\n",
      "\n",
      "for s_t in df_all.groupby(['subj','task']):\n",
      " \n",
      "    subj, task = s_t[0]\n",
      "    #if s_t[0]!=('CP7','DecisionAud'):\n",
      "    #    continue\n",
      "\n",
      "    for f in features_to_consider:\n",
      "\n",
      "        filename = os.path.join(SJdir, 'PCA','Stats', 'Networks', 'unsmoothed', 'PCA_'+f, '_'.join([subj, task, 'scores.csv']))\n",
      "        df = pd.read_csv(filename)\n",
      "        filename = os.path.join(SJdir, 'PCA','Stats', 'outliers', 'for_PCA', 'unsmoothed', '_'.join([subj, task, f, 'RTs.csv']))\n",
      "        df_RTs = pd.read_csv(filename)\n",
      "        df_RTs = df_RTs.iloc[:,0]\n",
      "        \n",
      "        if not('PC2' in df.columns):\n",
      "            df['PC2'] = np.nan\n",
      "\n",
      "        for p in ['PC1','PC2']:\n",
      "            R[p], pval[p] = stats.pearsonr(df[p], df_RTs)\n",
      "\n",
      "        subjs.append(subj)\n",
      "        tasks.append(task)\n",
      "        Rs_PC1.append(R['PC1'])\n",
      "        ps_PC1.append(pval['PC1'])\n",
      "        Rs_PC2.append(R['PC2'])\n",
      "        ps_PC2.append(pval['PC2'])\n",
      "        feats.append(f)\n",
      "\n",
      "        #plot\n",
      "        fig, ax = plt.subplots(1,2, figsize= (10,3))\n",
      "        colors = ['goldenrod','maroon']\n",
      "\n",
      "        for i, p in enumerate(['PC1','PC2']):\n",
      "            A = np.vstack([df_RTs,np.ones(len(df_RTs))]).T\n",
      "            m,c = np.linalg.lstsq(A,np.array(df[p]))[0]\n",
      "\n",
      "            ax[i].scatter(df_RTs, df[p], edgecolor = 'k', facecolor = colors[i], s = 75)\n",
      "            ax[i].plot(df_RTs,df_RTs*m+c, color = 'k', linewidth = 4) \n",
      "\n",
      "            ax[i].set_title('R=%.2f, p= %.3f' %(R[p], pval[p]))\n",
      "            ax[i].set_xlabel('RTs (ms)')\n",
      "            ax[i].set_ylabel('%s score' %(p))\n",
      "        fig.suptitle(f, size = 14)\n",
      "\n",
      "        filename = os.path.join(SJdir, 'PCA', 'Stats', 'Correlations', 'unsmoothed', 'RTs_vs_PCs', '_'.join([subj, task, f]))\n",
      "        plt.savefig(filename+'.png')\n",
      "        plt.close()\n",
      "\n",
      "df_all = pd.DataFrame({'subj':subjs, 'task':tasks, 'feature':feats, 'R_PC1':Rs_PC1, 'p_PC1':ps_PC1, 'R_PC2':Rs_PC2, 'p_PC2':ps_PC2})\n",
      "df_all = df_all[['subj','task','feature','R_PC1','p_PC1','R_PC2','p_PC2']]\n",
      "\n",
      "filename = os.path.join(SJdir, 'PCA','Stats', 'Correlations', 'unsmoothed', 'RTs_vs_PCs', 'RTs_vs_PCs_corr.csv')\n",
      "df_all.to_csv(filename)"
     ],
     "language": "python",
     "metadata": {},
     "outputs": [],
     "prompt_number": 7
    },
    {
     "cell_type": "code",
     "collapsed": false,
     "input": [
      "df_all"
     ],
     "language": "python",
     "metadata": {},
     "outputs": [
      {
       "html": [
        "<div style=\"max-height:1000px;max-width:1500px;overflow:auto;\">\n",
        "<table border=\"1\" class=\"dataframe\">\n",
        "  <thead>\n",
        "    <tr style=\"text-align: right;\">\n",
        "      <th></th>\n",
        "      <th>subj</th>\n",
        "      <th>task</th>\n",
        "      <th>feature</th>\n",
        "      <th>R_PC1</th>\n",
        "      <th>p_PC1</th>\n",
        "      <th>R_PC2</th>\n",
        "      <th>p_PC2</th>\n",
        "    </tr>\n",
        "  </thead>\n",
        "  <tbody>\n",
        "    <tr>\n",
        "      <th>0</th>\n",
        "      <td> CP7</td>\n",
        "      <td> DecisionAud</td>\n",
        "      <td>   medians</td>\n",
        "      <td>-0.084817</td>\n",
        "      <td> 0.352961</td>\n",
        "      <td> 0.042555</td>\n",
        "      <td> 0.641643</td>\n",
        "    </tr>\n",
        "    <tr>\n",
        "      <th>1</th>\n",
        "      <td> CP7</td>\n",
        "      <td> DecisionAud</td>\n",
        "      <td> maxes_rel</td>\n",
        "      <td>-0.089282</td>\n",
        "      <td> 0.342679</td>\n",
        "      <td> 0.089592</td>\n",
        "      <td> 0.341000</td>\n",
        "    </tr>\n",
        "  </tbody>\n",
        "</table>\n",
        "</div>"
       ],
       "metadata": {},
       "output_type": "pyout",
       "prompt_number": 77,
       "text": [
        "  subj         task    feature     R_PC1     p_PC1     R_PC2     p_PC2\n",
        "0  CP7  DecisionAud    medians -0.084817  0.352961  0.042555  0.641643\n",
        "1  CP7  DecisionAud  maxes_rel -0.089282  0.342679  0.089592  0.341000"
       ]
      }
     ],
     "prompt_number": 77
    },
    {
     "cell_type": "code",
     "collapsed": false,
     "input": [],
     "language": "python",
     "metadata": {},
     "outputs": []
    }
   ],
   "metadata": {}
  }
 ]
}