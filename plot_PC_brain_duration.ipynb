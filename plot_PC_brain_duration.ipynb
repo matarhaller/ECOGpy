{
 "cells": [
  {
   "cell_type": "code",
   "execution_count": 1,
   "metadata": {
    "collapsed": false
   },
   "outputs": [
    {
     "name": "stdout",
     "output_type": "stream",
     "text": [
      "Once deleted, variables cannot be recovered. Proceed (y/[n])? t\n",
      "Once deleted, variables cannot be recovered. Proceed (y/[n])? y\n"
     ]
    }
   ],
   "source": [
    "%reset"
   ]
  },
  {
   "cell_type": "code",
   "execution_count": 2,
   "metadata": {
    "collapsed": false
   },
   "outputs": [],
   "source": [
    "import brain_clusters\n",
    "import os\n",
    "import pandas as pd\n",
    "import numpy as np\n",
    "import pandas as pd\n",
    "import scipy.io as spio\n",
    "import matplotlib.gridspec as gridspec\n",
    "import cPickle as pickle\n",
    "import scipy.stats as stats\n",
    "import matplotlib.pyplot as plt"
   ]
  },
  {
   "cell_type": "code",
   "execution_count": 4,
   "metadata": {
    "collapsed": false
   },
   "outputs": [],
   "source": [
    "brain_clusters = reload(brain_clusters)"
   ]
  },
  {
   "cell_type": "markdown",
   "metadata": {},
   "source": [
    "## calculate percent variance explained by PC1 for each dataset"
   ]
  },
  {
   "cell_type": "code",
   "execution_count": 3,
   "metadata": {
    "collapsed": false
   },
   "outputs": [],
   "source": [
    "SJdir = '/home/knight/matar/MATLAB/DATA/Avgusta'\n",
    "df = pd.read_csv(os.path.join(SJdir, 'PCA', 'csvs_FINAL', 'mean_traces_all_subjs.csv'))"
   ]
  },
  {
   "cell_type": "code",
   "execution_count": 4,
   "metadata": {
    "collapsed": false
   },
   "outputs": [
    {
     "data": {
      "text/html": [
       "<div>\n",
       "<table border=\"1\" class=\"dataframe\">\n",
       "  <thead>\n",
       "    <tr style=\"text-align: right;\">\n",
       "      <th></th>\n",
       "      <th>subj</th>\n",
       "      <th>task</th>\n",
       "      <th>elec</th>\n",
       "      <th>pattern</th>\n",
       "      <th>cluster</th>\n",
       "      <th>start_idx</th>\n",
       "      <th>end_idx</th>\n",
       "      <th>start_idx_resp</th>\n",
       "      <th>end_idx_resp</th>\n",
       "      <th>RTs</th>\n",
       "      <th>RTs_median</th>\n",
       "      <th>RTs_min</th>\n",
       "      <th>lats</th>\n",
       "      <th>lats_semi_static</th>\n",
       "      <th>lats_static</th>\n",
       "      <th>maxes</th>\n",
       "      <th>ROI</th>\n",
       "    </tr>\n",
       "  </thead>\n",
       "  <tbody>\n",
       "    <tr>\n",
       "      <th>0</th>\n",
       "      <td>CP7</td>\n",
       "      <td>DecisionAud</td>\n",
       "      <td>11</td>\n",
       "      <td>SR</td>\n",
       "      <td>1</td>\n",
       "      <td>600</td>\n",
       "      <td>1381</td>\n",
       "      <td>57</td>\n",
       "      <td>500</td>\n",
       "      <td>2064.096774</td>\n",
       "      <td>1827</td>\n",
       "      <td>1253</td>\n",
       "      <td>89</td>\n",
       "      <td>89</td>\n",
       "      <td>689</td>\n",
       "      <td>136.943860</td>\n",
       "      <td>R</td>\n",
       "    </tr>\n",
       "    <tr>\n",
       "      <th>1</th>\n",
       "      <td>CP7</td>\n",
       "      <td>DecisionAud</td>\n",
       "      <td>12</td>\n",
       "      <td>S</td>\n",
       "      <td>2</td>\n",
       "      <td>600</td>\n",
       "      <td>983</td>\n",
       "      <td>0</td>\n",
       "      <td>0</td>\n",
       "      <td>2064.096774</td>\n",
       "      <td>1827</td>\n",
       "      <td>1253</td>\n",
       "      <td>100</td>\n",
       "      <td>100</td>\n",
       "      <td>700</td>\n",
       "      <td>133.239600</td>\n",
       "      <td>R</td>\n",
       "    </tr>\n",
       "    <tr>\n",
       "      <th>2</th>\n",
       "      <td>CP7</td>\n",
       "      <td>DecisionAud</td>\n",
       "      <td>14</td>\n",
       "      <td>S</td>\n",
       "      <td>2</td>\n",
       "      <td>600</td>\n",
       "      <td>1091</td>\n",
       "      <td>0</td>\n",
       "      <td>0</td>\n",
       "      <td>2064.096774</td>\n",
       "      <td>1827</td>\n",
       "      <td>1253</td>\n",
       "      <td>156</td>\n",
       "      <td>156</td>\n",
       "      <td>756</td>\n",
       "      <td>33.416164</td>\n",
       "      <td>R</td>\n",
       "    </tr>\n",
       "    <tr>\n",
       "      <th>3</th>\n",
       "      <td>CP7</td>\n",
       "      <td>DecisionAud</td>\n",
       "      <td>17</td>\n",
       "      <td>sustained</td>\n",
       "      <td>3</td>\n",
       "      <td>612</td>\n",
       "      <td>2230</td>\n",
       "      <td>-240</td>\n",
       "      <td>500</td>\n",
       "      <td>2064.096774</td>\n",
       "      <td>1827</td>\n",
       "      <td>1253</td>\n",
       "      <td>101</td>\n",
       "      <td>4112</td>\n",
       "      <td>4724</td>\n",
       "      <td>15.105470</td>\n",
       "      <td>R</td>\n",
       "    </tr>\n",
       "    <tr>\n",
       "      <th>4</th>\n",
       "      <td>CP7</td>\n",
       "      <td>DecisionAud</td>\n",
       "      <td>18</td>\n",
       "      <td>R</td>\n",
       "      <td>4</td>\n",
       "      <td>1454</td>\n",
       "      <td>3049</td>\n",
       "      <td>-344</td>\n",
       "      <td>500</td>\n",
       "      <td>2064.096774</td>\n",
       "      <td>1827</td>\n",
       "      <td>1253</td>\n",
       "      <td>723</td>\n",
       "      <td>723</td>\n",
       "      <td>2177</td>\n",
       "      <td>51.039216</td>\n",
       "      <td>R</td>\n",
       "    </tr>\n",
       "  </tbody>\n",
       "</table>\n",
       "</div>"
      ],
      "text/plain": [
       "  subj         task  elec    pattern  cluster  start_idx  end_idx  \\\n",
       "0  CP7  DecisionAud    11         SR        1        600     1381   \n",
       "1  CP7  DecisionAud    12          S        2        600      983   \n",
       "2  CP7  DecisionAud    14          S        2        600     1091   \n",
       "3  CP7  DecisionAud    17  sustained        3        612     2230   \n",
       "4  CP7  DecisionAud    18          R        4       1454     3049   \n",
       "\n",
       "   start_idx_resp  end_idx_resp          RTs  RTs_median  RTs_min  lats  \\\n",
       "0              57           500  2064.096774        1827     1253    89   \n",
       "1               0             0  2064.096774        1827     1253   100   \n",
       "2               0             0  2064.096774        1827     1253   156   \n",
       "3            -240           500  2064.096774        1827     1253   101   \n",
       "4            -344           500  2064.096774        1827     1253   723   \n",
       "\n",
       "   lats_semi_static  lats_static       maxes ROI  \n",
       "0                89          689  136.943860   R  \n",
       "1               100          700  133.239600   R  \n",
       "2               156          756   33.416164   R  \n",
       "3              4112         4724   15.105470   R  \n",
       "4               723         2177   51.039216   R  "
      ]
     },
     "execution_count": 4,
     "metadata": {},
     "output_type": "execute_result"
    }
   ],
   "source": [
    "df.head()"
   ]
  },
  {
   "cell_type": "code",
   "execution_count": 12,
   "metadata": {
    "collapsed": true
   },
   "outputs": [],
   "source": [
    "pc1 = []\n",
    "for i in df.groupby(['subj','task']):\n",
    "    subj, task = i[0]\n",
    "\n",
    "    filename = os.path.join(SJdir, 'PCA','Stats', 'Networks','unsmoothed','PCA_means','%s_%s_summary.txt' %(subj, task))\n",
    "    list_of_lists = []\n",
    "    with open(filename,'r') as f:\n",
    "        for line in f:\n",
    "            inner_list = [elt.strip() for elt in line.split(',')]\n",
    "            # in alternative, if you need to use the file content as numbers\n",
    "            # inner_list = [int(elt.strip()) for elt in line.split(',')]\n",
    "            list_of_lists.append(inner_list)\n",
    "        f.close()\n",
    "\n",
    "    tmp = [x[0].split(' ') for x in list_of_lists if x[0].split(' ')[0:2] == ['Proportion', 'Var']][0]\n",
    "    tmp = [t for t in tmp if len(t)>0]\n",
    "    pc1.append(np.float(tmp[2]))"
   ]
  },
  {
   "cell_type": "code",
   "execution_count": 13,
   "metadata": {
    "collapsed": false
   },
   "outputs": [
    {
     "data": {
      "text/plain": [
       "0.20351351351351352"
      ]
     },
     "execution_count": 13,
     "metadata": {},
     "output_type": "execute_result"
    }
   ],
   "source": [
    "np.mean(pc1) #average percent variance accounted for by first PC in single trial PCA"
   ]
  },
  {
   "cell_type": "markdown",
   "metadata": {},
   "source": [
    "## plot PC thresholded elecs on brain"
   ]
  },
  {
   "cell_type": "code",
   "execution_count": 12,
   "metadata": {
    "collapsed": false
   },
   "outputs": [],
   "source": [
    "param = 'means'\n",
    "PC = 'PC1'"
   ]
  },
  {
   "cell_type": "code",
   "execution_count": 4,
   "metadata": {
    "collapsed": false
   },
   "outputs": [],
   "source": [
    "SJdir = '/home/knight/matar/MATLAB/DATA/Avgusta'"
   ]
  },
  {
   "cell_type": "code",
   "execution_count": null,
   "metadata": {
    "collapsed": false
   },
   "outputs": [],
   "source": [
    "filename = os.path.join(SJdir,'PCA', 'Stats', 'single_electrode_windows_csvs', 'single_electrode_windows_withdesignation_EDITED.csv')\n",
    "df_all = pd.read_csv(filename)"
   ]
  },
  {
   "cell_type": "code",
   "execution_count": 5,
   "metadata": {
    "collapsed": false
   },
   "outputs": [],
   "source": [
    "reconlist = os.path.join(SJdir, 'PCA','reconlist.csv')\n",
    "reconlist = pd.read_csv(reconlist)"
   ]
  },
  {
   "cell_type": "code",
   "execution_count": 14,
   "metadata": {
    "collapsed": false
   },
   "outputs": [],
   "source": [
    "saveDir = os.path.join(SJdir, 'PCA', 'Stats', 'Networks', 'unsmoothed', 'PCA_'+param, 'networks', 'brains')\n",
    "os.mkdir(saveDir)\n",
    "\n",
    "subj_task = df_all[['subj', 'task']].drop_duplicates()\n",
    "\n",
    "for s_t in subj_task.itertuples():\n",
    "    subj, task = s_t[1:]\n",
    "    \n",
    "    \n",
    "    xycoords = reconlist[reconlist.subj_task == '_'.join([subj, task])].xyfile.iloc[0]\n",
    "    if isinstance(xycoords, float): #no explicit xycoord path\n",
    "        xycoords = 'xycoords.p'\n",
    "    \n",
    "    reconfile = reconlist[reconlist.subj_task == '_'.join([subj, task])].reconfile.iloc[0]\n",
    "    if len(reconfile)>0:\n",
    "        recon_filepath = os.path.join(SJdir, 'Subjs', subj, reconfile)\n",
    "    else:\n",
    "        print 'skipping %s %s' %(subj, task)\n",
    "        continue #skip this subj if no reconfile\n",
    "        \n",
    "    #open xycoords dictionary                                                                                           \n",
    "    filename = os.path.join(SJdir, 'Subjs',subj, xycoords)\n",
    "    with open(filename, 'r') as f:\n",
    "        xycoords = pickle.load(f)\n",
    "        f.close()\n",
    "\n",
    "    xycoords = pd.DataFrame(np.array(xycoords.values()), columns=['x_2d', 'y_2d'], index=np.array(xycoords.keys())+1)\n",
    "    \n",
    "    #color stuff\n",
    "    #import matplotlib\n",
    "    color_list = ['crimson', 'skyblue','lime', 'goldenrod'] #duration, response, stimulus, sustained\n",
    "\n",
    "    custom_cmap = matplotlib.colors.ListedColormap(color_list, name = 'custom_cmap')\n",
    "    \n",
    "    #get elecs of interest (for PC of interest)\n",
    "    pc = df_thresh[(df_thresh.subj == subj) & (df_thresh.task == task) & (df_thresh.max_pc== PC)]\n",
    "    \n",
    "    weights = pc[['elec','pattern']]\n",
    "    weights.columns = ['elec','group']\n",
    "    weights = weights.set_index('elec')\n",
    "\n",
    "    #create list of colors for scatter\n",
    "    c = list()\n",
    "    #create list of colors for scatter (dur = red, resp = blue, stim = green, sustain = yellow)\n",
    "    c = list()\n",
    "    u = np.unique(weights.group)\n",
    "    for i in weights.group:\n",
    "        if i == 'D':\n",
    "            c.append(color_list[0])\n",
    "        elif i == 'R':\n",
    "            c.append(color_list[1])\n",
    "        elif ((i == 'S') or (i == 'SR')) :\n",
    "            c.append(color_list[2])\n",
    "        else:\n",
    "            c.append(color_list[3])\n",
    "            \n",
    "    #figure properties\n",
    "    f, ax1 = plt.subplots(figsize = (10,10))\n",
    "    ax1.set_title('%s %s %s' %(subj, task, PC))\n",
    "    \n",
    "    #plot recon\n",
    "    brain_clusters.plot_xy_map(weights, locs = xycoords.loc[weights.index], ax = ax1, colors = c, cmap = custom_cmap, szmult=200, im_path = os.path.join(SJdir,'Subjs', subj, reconfile))    \n",
    "    \n",
    "    filename = os.path.join(saveDir, '_'.join([subj, task, PC+'.png']))\n",
    "    plt.savefig(filename)\n",
    "    plt.close()"
   ]
  },
  {
   "cell_type": "markdown",
   "metadata": {},
   "source": [
    "## correlate PC1 and PC2 scores for different parameters with RTs"
   ]
  },
  {
   "cell_type": "code",
   "execution_count": 7,
   "metadata": {
    "collapsed": false
   },
   "outputs": [],
   "source": [
    "SJdir = '/home/knight/matar/MATLAB/DATA/Avgusta/'\n",
    "filename = os.path.join(SJdir,'PCA', 'Stats', 'single_electrode_windows_csvs', 'single_electrode_windows_withdesignation_EDITED.csv')\n",
    "df_all = pd.read_csv(filename)\n",
    "\n",
    "subjs, tasks, elecs, Rs_PC1, Rs_PC2, ps_PC1, ps_PC2,feats  = [[] for i in range(8)]\n",
    "R, pval = [dict() for i in range(2)]\n",
    "\n",
    "features_to_consider = ['medians','means', 'stds']\n",
    "\n",
    "for s_t in df_all.groupby(['subj','task']):\n",
    " \n",
    "    subj, task = s_t[0]\n",
    "    #if s_t[0]!=('CP7','DecisionAud'):\n",
    "    #    continue\n",
    "\n",
    "    for f in features_to_consider:\n",
    "\n",
    "        filename = os.path.join(SJdir, 'PCA','Stats', 'Networks', 'unsmoothed', 'PCA_'+f, '_'.join([subj, task, 'scores.csv']))\n",
    "        df = pd.read_csv(filename)\n",
    "        filename = os.path.join(SJdir, 'PCA','Stats', 'outliers', 'for_PCA', 'unsmoothed', '_'.join([subj, task, f, 'RTs.csv']))\n",
    "        df_RTs = pd.read_csv(filename)\n",
    "        df_RTs = df_RTs.iloc[:,0]\n",
    "        \n",
    "        if not('PC2' in df.columns):\n",
    "            df['PC2'] = np.nan\n",
    "\n",
    "        for p in ['PC1','PC2']:\n",
    "            R[p], pval[p] = stats.pearsonr(df[p], df_RTs)\n",
    "\n",
    "        subjs.append(subj)\n",
    "        tasks.append(task)\n",
    "        Rs_PC1.append(R['PC1'])\n",
    "        ps_PC1.append(pval['PC1'])\n",
    "        Rs_PC2.append(R['PC2'])\n",
    "        ps_PC2.append(pval['PC2'])\n",
    "        feats.append(f)\n",
    "\n",
    "        #plot\n",
    "        fig, ax = plt.subplots(1,2, figsize= (10,3))\n",
    "        colors = ['goldenrod','maroon']\n",
    "\n",
    "        for i, p in enumerate(['PC1','PC2']):\n",
    "            A = np.vstack([df_RTs,np.ones(len(df_RTs))]).T\n",
    "            m,c = np.linalg.lstsq(A,np.array(df[p]))[0]\n",
    "\n",
    "            ax[i].scatter(df_RTs, df[p], edgecolor = 'k', facecolor = colors[i], s = 75)\n",
    "            ax[i].plot(df_RTs,df_RTs*m+c, color = 'k', linewidth = 4) \n",
    "\n",
    "            ax[i].set_title('R=%.2f, p= %.3f' %(R[p], pval[p]))\n",
    "            ax[i].set_xlabel('RTs (ms)')\n",
    "            ax[i].set_ylabel('%s score' %(p))\n",
    "        fig.suptitle(f, size = 14)\n",
    "\n",
    "        filename = os.path.join(SJdir, 'PCA', 'Stats', 'Correlations', 'unsmoothed', 'RTs_vs_PCs', '_'.join([subj, task, f]))\n",
    "        plt.savefig(filename+'.png')\n",
    "        plt.close()\n",
    "\n",
    "df_all = pd.DataFrame({'subj':subjs, 'task':tasks, 'feature':feats, 'R_PC1':Rs_PC1, 'p_PC1':ps_PC1, 'R_PC2':Rs_PC2, 'p_PC2':ps_PC2})\n",
    "df_all = df_all[['subj','task','feature','R_PC1','p_PC1','R_PC2','p_PC2']]\n",
    "\n",
    "filename = os.path.join(SJdir, 'PCA','Stats', 'Correlations', 'unsmoothed', 'RTs_vs_PCs', 'RTs_vs_PCs_corr.csv')\n",
    "df_all.to_csv(filename)"
   ]
  },
  {
   "cell_type": "code",
   "execution_count": 77,
   "metadata": {
    "collapsed": false
   },
   "outputs": [
    {
     "data": {
      "text/html": [
       "<div style=\"max-height:1000px;max-width:1500px;overflow:auto;\">\n",
       "<table border=\"1\" class=\"dataframe\">\n",
       "  <thead>\n",
       "    <tr style=\"text-align: right;\">\n",
       "      <th></th>\n",
       "      <th>subj</th>\n",
       "      <th>task</th>\n",
       "      <th>feature</th>\n",
       "      <th>R_PC1</th>\n",
       "      <th>p_PC1</th>\n",
       "      <th>R_PC2</th>\n",
       "      <th>p_PC2</th>\n",
       "    </tr>\n",
       "  </thead>\n",
       "  <tbody>\n",
       "    <tr>\n",
       "      <th>0</th>\n",
       "      <td> CP7</td>\n",
       "      <td> DecisionAud</td>\n",
       "      <td>   medians</td>\n",
       "      <td>-0.084817</td>\n",
       "      <td> 0.352961</td>\n",
       "      <td> 0.042555</td>\n",
       "      <td> 0.641643</td>\n",
       "    </tr>\n",
       "    <tr>\n",
       "      <th>1</th>\n",
       "      <td> CP7</td>\n",
       "      <td> DecisionAud</td>\n",
       "      <td> maxes_rel</td>\n",
       "      <td>-0.089282</td>\n",
       "      <td> 0.342679</td>\n",
       "      <td> 0.089592</td>\n",
       "      <td> 0.341000</td>\n",
       "    </tr>\n",
       "  </tbody>\n",
       "</table>\n",
       "</div>"
      ],
      "text/plain": [
       "  subj         task    feature     R_PC1     p_PC1     R_PC2     p_PC2\n",
       "0  CP7  DecisionAud    medians -0.084817  0.352961  0.042555  0.641643\n",
       "1  CP7  DecisionAud  maxes_rel -0.089282  0.342679  0.089592  0.341000"
      ]
     },
     "execution_count": 77,
     "metadata": {},
     "output_type": "execute_result"
    }
   ],
   "source": [
    "df_all"
   ]
  },
  {
   "cell_type": "code",
   "execution_count": null,
   "metadata": {
    "collapsed": false
   },
   "outputs": [],
   "source": []
  }
 ],
 "metadata": {
  "kernelspec": {
   "display_name": "Python 2",
   "language": "python",
   "name": "python2"
  },
  "language_info": {
   "codemirror_mode": {
    "name": "ipython",
    "version": 2
   },
   "file_extension": ".py",
   "mimetype": "text/x-python",
   "name": "python",
   "nbconvert_exporter": "python",
   "pygments_lexer": "ipython2",
   "version": "2.7.10"
  }
 },
 "nbformat": 4,
 "nbformat_minor": 0
}
