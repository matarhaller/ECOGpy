{
 "cells": [
  {
   "cell_type": "code",
   "execution_count": 1,
   "metadata": {
    "collapsed": false
   },
   "outputs": [
    {
     "name": "stdout",
     "output_type": "stream",
     "text": [
      "Populating the interactive namespace from numpy and matplotlib\n"
     ]
    }
   ],
   "source": [
    "%pylab inline\n"
   ]
  },
  {
   "cell_type": "code",
   "execution_count": 2,
   "metadata": {
    "collapsed": false
   },
   "outputs": [],
   "source": [
    "import os\n",
    "import pandas as pd\n",
    "from sklearn import linear_model\n"
   ]
  },
  {
   "cell_type": "code",
   "execution_count": 3,
   "metadata": {
    "collapsed": true
   },
   "outputs": [],
   "source": [
    "base = '/home/knight/matar/MATLAB/DATA/Avgusta/PCA/'\n"
   ]
  },
  {
   "cell_type": "markdown",
   "metadata": {},
   "source": [
    "## regression on ROI"
   ]
  },
  {
   "cell_type": "code",
   "execution_count": null,
   "metadata": {
    "collapsed": true
   },
   "outputs": [],
   "source": [
    "filename = os.path.join(base, 'csvs_FINAL', 'ROI_cross.csv')\n",
    "ROI_cross = pd.read_csv(filename)"
   ]
  },
  {
   "cell_type": "code",
   "execution_count": null,
   "metadata": {
    "collapsed": true
   },
   "outputs": [],
   "source": []
  },
  {
   "cell_type": "markdown",
   "metadata": {},
   "source": [
    "## regressions on bin parameters"
   ]
  },
  {
   "cell_type": "code",
   "execution_count": 175,
   "metadata": {
    "collapsed": true
   },
   "outputs": [],
   "source": [
    "filename = os.path.join(base, 'csvs_FINAL', 'regression_data.csv')\n",
    "regression_data = pd.read_csv(filename)\n",
    "\n",
    "filename = os.path.join(base, 'csvs_FINAL', 'Dur_offsets.csv')\n",
    "dur_offsets = pd.read_csv(filename)\n",
    "\n",
    "filename = os.path.join(base, 'csvs_FINAL', 'Bin_Stats_v1_D+R.csv')\n",
    "bin_stats = pd.read_csv(filename)\n",
    "\n",
    "filename = os.path.join(base, 'csvs_FINAL', 'resp_onsets.csv')\n",
    "resp_onsets = pd.read_csv(filename)\n",
    "\n",
    "filename = os.path.join(base, 'csvs_FINAL', 'ROI_cross.csv')\n",
    "ROI_cross = pd.read_csv(filename)"
   ]
  },
  {
   "cell_type": "code",
   "execution_count": 192,
   "metadata": {
    "collapsed": true
   },
   "outputs": [],
   "source": [
    "def model_output(X, y, to_plot = True):\n",
    "    \n",
    "    lm = linear_model.LinearRegression()\n",
    "    lm.fit(X, y)\n",
    "\n",
    "    # The mean square error\n",
    "    print(\"Residual sum of squares: %.2f\"\n",
    "          % np.mean((lm.predict(X) - y) ** 2))\n",
    "\n",
    "    # Explained variance score: 1 is perfect prediction\n",
    "    print('R2: %.3f' % lm.score(X, y))\n",
    "    \n",
    "    # coefficient\n",
    "    print('coefficient: {0}'.format(lm.coef_))\n",
    "\n",
    "    if to_plot:\n",
    "        # Plot outputs\n",
    "        f, ax = plt.subplots()\n",
    "        ax.scatter(X, y,  color='black')\n",
    "        ax.plot(X, lm.predict(X), color='blue',\n",
    "                 linewidth=3)\n",
    "        return lm, ax\n",
    "    else:\n",
    "        return lm"
   ]
  },
  {
   "cell_type": "code",
   "execution_count": 202,
   "metadata": {
    "collapsed": false
   },
   "outputs": [
    {
     "name": "stdout",
     "output_type": "stream",
     "text": [
      "response onset\n",
      "Residual sum of squares: 56643.41\n",
      "R2: 0.710\n",
      "coefficient: [[ 0.81214856]]\n"
     ]
    },
    {
     "data": {
      "text/plain": [
       "<matplotlib.text.Text at 0x7f30b996dc50>"
      ]
     },
     "execution_count": 202,
     "metadata": {},
     "output_type": "execute_result"
    },
    {
     "data": {
      "image/png": "[encoded data removed]",
      "text/plain": [
       "<matplotlib.figure.Figure at 0x7f30b946cb90>"
      ]
     },
     "metadata": {},
     "output_type": "display_data"
    }
   ],
   "source": [
    "# response onset\n",
    "print('response onset')\n",
    "X = resp_onsets['Start'].values.reshape(-1, 1)\n",
    "y = resp_onsets['RT'].values.reshape(-1,1)\n",
    "\n",
    "lm, ax = model_output(X,y)\n",
    "ax.set_title('resp onset, R2 = %.3f' % lm.score(X, y))\n",
    "ax.set_xlabel('resp onset')\n",
    "ax.set_ylabel('RT')"
   ]
  },
  {
   "cell_type": "code",
   "execution_count": 193,
   "metadata": {
    "collapsed": false
   },
   "outputs": [
    {
     "name": "stdout",
     "output_type": "stream",
     "text": [
      "duration offset\n",
      "Residual sum of squares: 14816.76\n",
      "R2: 0.924\n",
      "coefficient: [[ 0.90191726]]\n"
     ]
    },
    {
     "data": {
      "text/plain": [
       "<matplotlib.text.Text at 0x7f30b9591bd0>"
      ]
     },
     "execution_count": 193,
     "metadata": {},
     "output_type": "execute_result"
    },
    {
     "data": {
      "image/png": "[encoded data removed]",
      "text/plain": [
       "<matplotlib.figure.Figure at 0x7f30b9841750>"
      ]
     },
     "metadata": {},
     "output_type": "display_data"
    }
   ],
   "source": [
    "# duration offset\n",
    "print('duration offset')\n",
    "X = dur_offsets['end_idx'].values.reshape(-1, 1)\n",
    "y = dur_offsets['RT'].values.reshape(-1,1)\n",
    "\n",
    "lm, ax = model_output(X,y)\n",
    "ax.set_title('duration offset, R2 = %.3f' % lm.score(X, y))\n",
    "ax.set_xlabel('duration offset')\n",
    "ax.set_ylabel('RT')"
   ]
  },
  {
   "cell_type": "code",
   "execution_count": 195,
   "metadata": {
    "collapsed": false
   },
   "outputs": [
    {
     "name": "stdout",
     "output_type": "stream",
     "text": [
      "resp peak latency\n",
      "Residual sum of squares: 2274.56\n",
      "R2: 0.988\n",
      "coefficient: [[ 0.97744761]]\n"
     ]
    },
    {
     "data": {
      "text/plain": [
       "<matplotlib.text.Text at 0x7f30b948f950>"
      ]
     },
     "execution_count": 195,
     "metadata": {},
     "output_type": "execute_result"
    },
    {
     "data": {
      "image/png": "[encoded data removed]",
      "text/plain": [
       "<matplotlib.figure.Figure at 0x7f30b9635f10>"
      ]
     },
     "metadata": {},
     "output_type": "display_data"
    }
   ],
   "source": [
    "# resp peak latency\n",
    "print ('resp peak latency')\n",
    "X = bin_stats[bin_stats.RT.isin(dur_offsets.RT.values)]['resp peak lat'].values.reshape(-1, 1)\n",
    "y = bin_stats[bin_stats.RT.isin(dur_offsets.RT.values)]['RT'].values.reshape(-1, 1)\n",
    "\n",
    "lm, ax = model_output(X,y)\n",
    "ax.set_title('resp peak latency,  R2 = %.3f' % lm.score(X, y))\n",
    "ax.set_xlabel('resp peak latency')\n",
    "ax.set_ylabel('RT')"
   ]
  },
  {
   "cell_type": "code",
   "execution_count": 197,
   "metadata": {
    "collapsed": false
   },
   "outputs": [
    {
     "name": "stdout",
     "output_type": "stream",
     "text": [
      "cross over point\n",
      "Residual sum of squares: 1287.64\n",
      "R2: 0.993\n",
      "coefficient: [[ 1.0453391]]\n"
     ]
    },
    {
     "data": {
      "text/plain": [
       "<matplotlib.text.Text at 0x7f30b92a3910>"
      ]
     },
     "execution_count": 197,
     "metadata": {},
     "output_type": "execute_result"
    },
    {
     "data": {
      "image/png": "[encoded data removed]",
      "text/plain": [
       "<matplotlib.figure.Figure at 0x7f30b9362dd0>"
      ]
     },
     "metadata": {},
     "output_type": "display_data"
    }
   ],
   "source": [
    "#cross over point\n",
    "print('cross over point')\n",
    "X = regression_data['t2 (last cross)'].values.reshape(-1, 1)\n",
    "y = regression_data['RT SR'].values.reshape(-1,1)\n",
    "\n",
    "lm, ax = model_output(X,y)\n",
    "ax.set_title('crossover vs RT, R2 = %.3f' % lm.score(X, y))\n",
    "ax.set_xlabel('crossover point')\n",
    "ax.set_ylabel('RT')"
   ]
  },
  {
   "cell_type": "code",
   "execution_count": 173,
   "metadata": {
    "collapsed": false
   },
   "outputs": [
    {
     "name": "stdout",
     "output_type": "stream",
     "text": [
      "duration offset and resp peak latency\n",
      "Residual sum of squares: 1702.72\n",
      "R2: 0.991\n",
      "coefficient: [[ 0.81564942  0.16253166]]\n"
     ]
    }
   ],
   "source": [
    "# duration offset and resp peak latency\n",
    "print('duration offset and resp peak latency')\n",
    "X1 = bin_stats[bin_stats.RT.isin(dur_offsets.RT.values)]['resp peak lat'].values\n",
    "X2 = dur_offsets['end_idx'].values\n",
    "X = pd.DataFrame([X1, X2]).transpose()\n",
    "y = dur_offsets['RT'].values.reshape(-1,1)\n",
    "\n",
    "model_output(X,y, to_plot = False)\n"
   ]
  },
  {
   "cell_type": "code",
   "execution_count": 168,
   "metadata": {
    "collapsed": false
   },
   "outputs": [
    {
     "name": "stdout",
     "output_type": "stream",
     "text": [
      "duration offest and resp onset\n",
      "Residual sum of squares: 14114.38\n",
      "R2: 0.928\n",
      "coefficient: [[ 0.81376825  0.10744355]]\n"
     ]
    }
   ],
   "source": [
    "# duration offset and resp onset\n",
    "print('duration offest and resp onset')\n",
    "X1 = dur_offsets['end_idx'].values\n",
    "X2 = resp_onsets['Start'].values\n",
    "X = pd.DataFrame([X1, X2]).transpose()\n",
    "y = dur_offsets['RT'].values.reshape(-1,1)\n",
    "\n",
    "model_output(X,y, to_plot = False)\n"
   ]
  },
  {
   "cell_type": "code",
   "execution_count": 198,
   "metadata": {
    "collapsed": false
   },
   "outputs": [
    {
     "name": "stdout",
     "output_type": "stream",
     "text": [
      "ROI cross over point\n",
      "Residual sum of squares: 21300.85\n",
      "R2: 0.890\n",
      "coefficient: [[ 0.74684048]]\n"
     ]
    },
    {
     "data": {
      "text/plain": [
       "<matplotlib.text.Text at 0x7f30b92aff10>"
      ]
     },
     "execution_count": 198,
     "metadata": {},
     "output_type": "execute_result"
    },
    {
     "data": {
      "image/png": "[encoded data removed]",
      "text/plain": [
       "<matplotlib.figure.Figure at 0x7f30b96d2fd0>"
      ]
     },
     "metadata": {},
     "output_type": "display_data"
    }
   ],
   "source": [
    "#crossover point for ROIs (PFC vs motor)\n",
    "print('ROI cross over point')\n",
    "X = ROI_cross['ROI_Cross_automatic'].values.reshape(-1, 1)\n",
    "y = ROI_cross['RT'].values.reshape(-1,1)\n",
    "\n",
    "lm, ax = model_output(X,y)\n",
    "ax.set_title('ROI crossover vs RT, R2 = %.3f' % lm.score(X, y))\n",
    "ax.set_xlabel('crossover point')\n",
    "ax.set_ylabel('RT')"
   ]
  },
  {
   "cell_type": "markdown",
   "metadata": {},
   "source": [
    "## variability for difference between RT and :\n",
    "* response peak latency\n",
    "* duration offset\n",
    "\n",
    "For bins"
   ]
  },
  {
   "cell_type": "code",
   "execution_count": 147,
   "metadata": {
    "collapsed": false
   },
   "outputs": [
    {
     "name": "stdout",
     "output_type": "stream",
     "text": [
      "resp peak latency - RT:\n",
      "\tmean: 87.767\n",
      "\tstd: 48.56\n",
      "dur offset - RT:\n",
      "\tmean: 353.567\n",
      "\tstd: 132.42\n"
     ]
    }
   ],
   "source": [
    "x = bin_stats['resp peak lat'] - bin_stats.RT\n",
    "print 'resp peak latency - RT:\\n\\tmean: %.3f\\n\\tstd: %.2f' %(x.mean(), x.std())\n",
    "\n",
    "x = dur_offsets.end_idx - dur_offsets.RT\n",
    "print 'dur offset - RT:\\n\\tmean: %.3f\\n\\tstd: %.2f' %(x.mean(), x.std())"
   ]
  },
  {
   "cell_type": "markdown",
   "metadata": {},
   "source": [
    "## dictionary values - \n",
    "### variability in best offsets for duration clusters only"
   ]
  },
  {
   "cell_type": "code",
   "execution_count": 127,
   "metadata": {
    "collapsed": false
   },
   "outputs": [],
   "source": [
    "tmpall = pd.DataFrame()\n",
    "df = pd.read_csv( '/home/knight/matar/MATLAB/DATA/Avgusta/PCA/csvs_FINAL/mean_traces_all_subjs_dropSR.csv')\n",
    "for j in df[['subj','task']].drop_duplicates().values:\n",
    "    subj, task = j\n",
    "    filename = os.path.join(base, 'duration_dict_500_FINAL', '{0}_{1}.csv'.format(subj, task))\n",
    "    tmp = pd.read_csv(filename)\n",
    "    tmp['subj'] = subj\n",
    "    tmp['task'] = task\n",
    "    dur_clusters = df[(df.subj == subj) & (df.task == task) & (df.pattern == 'D')].cluster.unique()\n",
    "    tmp['cluster'] = tmp.clusters.apply(lambda x: int(x.split('_')[-1].split('.')[0][1:]))\n",
    "    tmp = tmp[tmp.cluster.isin(dur_clusters)]\n",
    "    tmpall = tmpall.append(tmp[['subj','task','best_onset']])"
   ]
  },
  {
   "cell_type": "code",
   "execution_count": 137,
   "metadata": {
    "collapsed": false
   },
   "outputs": [],
   "source": [
    "def func(x):\n",
    "    c = x['best_onset'].count()\n",
    "    mn = x['best_onset'].mean()\n",
    "    s = x['best_onset'].std()\n",
    "    mini = x['best_onset'].min()\n",
    "    maxi = x['best_onset'].max()\n",
    "    r = maxi - mini\n",
    "    return pd.Series([c, mn, s, mini, maxi, r], index=['count','mean', 'std', 'min','max', 'range'])\n"
   ]
  },
  {
   "cell_type": "code",
   "execution_count": 138,
   "metadata": {
    "collapsed": false
   },
   "outputs": [
    {
     "name": "stdout",
     "output_type": "stream",
     "text": [
      "mean: 103.578\n",
      "std: 207.253\n",
      "min -325.000, max 500.000\n"
     ]
    }
   ],
   "source": [
    "print 'mean: %.3f' %(tmpall.best_onset.mean())\n",
    "print 'std: %.3f' %(tmpall.best_onset.std())\n",
    "print 'min %.3f, max %.3f' %(tmpall.best_onset.min(), tmpall.best_onset.max())"
   ]
  },
  {
   "cell_type": "code",
   "execution_count": 139,
   "metadata": {
    "collapsed": true
   },
   "outputs": [
    {
     "data": {
      "text/html": [
       "<div>\n",
       "<table border=\"1\" class=\"dataframe\">\n",
       "  <thead>\n",
       "    <tr style=\"text-align: right;\">\n",
       "      <th></th>\n",
       "      <th>count</th>\n",
       "      <th>mean</th>\n",
       "      <th>std</th>\n",
       "      <th>min</th>\n",
       "      <th>max</th>\n",
       "      <th>range</th>\n",
       "    </tr>\n",
       "    <tr>\n",
       "      <th>subj</th>\n",
       "      <th></th>\n",
       "      <th></th>\n",
       "      <th></th>\n",
       "      <th></th>\n",
       "      <th></th>\n",
       "      <th></th>\n",
       "    </tr>\n",
       "  </thead>\n",
       "  <tbody>\n",
       "    <tr>\n",
       "      <th>CP7</th>\n",
       "      <td>1.0</td>\n",
       "      <td>125.000000</td>\n",
       "      <td>NaN</td>\n",
       "      <td>125.0</td>\n",
       "      <td>125.0</td>\n",
       "      <td>0.0</td>\n",
       "    </tr>\n",
       "    <tr>\n",
       "      <th>GP15</th>\n",
       "      <td>11.0</td>\n",
       "      <td>137.909091</td>\n",
       "      <td>187.476641</td>\n",
       "      <td>-125.0</td>\n",
       "      <td>349.0</td>\n",
       "      <td>474.0</td>\n",
       "    </tr>\n",
       "    <tr>\n",
       "      <th>GP28</th>\n",
       "      <td>1.0</td>\n",
       "      <td>-75.000000</td>\n",
       "      <td>NaN</td>\n",
       "      <td>-75.0</td>\n",
       "      <td>-75.0</td>\n",
       "      <td>0.0</td>\n",
       "    </tr>\n",
       "    <tr>\n",
       "      <th>GP35</th>\n",
       "      <td>5.0</td>\n",
       "      <td>149.200000</td>\n",
       "      <td>120.883001</td>\n",
       "      <td>0.0</td>\n",
       "      <td>324.0</td>\n",
       "      <td>324.0</td>\n",
       "    </tr>\n",
       "    <tr>\n",
       "      <th>JH10</th>\n",
       "      <td>1.0</td>\n",
       "      <td>475.000000</td>\n",
       "      <td>NaN</td>\n",
       "      <td>475.0</td>\n",
       "      <td>475.0</td>\n",
       "      <td>0.0</td>\n",
       "    </tr>\n",
       "    <tr>\n",
       "      <th>JH17</th>\n",
       "      <td>4.0</td>\n",
       "      <td>43.750000</td>\n",
       "      <td>315.155385</td>\n",
       "      <td>-200.0</td>\n",
       "      <td>500.0</td>\n",
       "      <td>700.0</td>\n",
       "    </tr>\n",
       "    <tr>\n",
       "      <th>JH2</th>\n",
       "      <td>9.0</td>\n",
       "      <td>44.444444</td>\n",
       "      <td>191.938213</td>\n",
       "      <td>-325.0</td>\n",
       "      <td>250.0</td>\n",
       "      <td>575.0</td>\n",
       "    </tr>\n",
       "    <tr>\n",
       "      <th>JH5</th>\n",
       "      <td>1.0</td>\n",
       "      <td>-125.000000</td>\n",
       "      <td>NaN</td>\n",
       "      <td>-125.0</td>\n",
       "      <td>-125.0</td>\n",
       "      <td>0.0</td>\n",
       "    </tr>\n",
       "    <tr>\n",
       "      <th>JH6</th>\n",
       "      <td>4.0</td>\n",
       "      <td>112.500000</td>\n",
       "      <td>261.804635</td>\n",
       "      <td>-175.0</td>\n",
       "      <td>450.0</td>\n",
       "      <td>625.0</td>\n",
       "    </tr>\n",
       "    <tr>\n",
       "      <th>ST1</th>\n",
       "      <td>2.0</td>\n",
       "      <td>162.000000</td>\n",
       "      <td>405.879292</td>\n",
       "      <td>-125.0</td>\n",
       "      <td>449.0</td>\n",
       "      <td>574.0</td>\n",
       "    </tr>\n",
       "    <tr>\n",
       "      <th>ST15</th>\n",
       "      <td>1.0</td>\n",
       "      <td>-250.000000</td>\n",
       "      <td>NaN</td>\n",
       "      <td>-250.0</td>\n",
       "      <td>-250.0</td>\n",
       "      <td>0.0</td>\n",
       "    </tr>\n",
       "    <tr>\n",
       "      <th>ST27</th>\n",
       "      <td>1.0</td>\n",
       "      <td>100.000000</td>\n",
       "      <td>NaN</td>\n",
       "      <td>100.0</td>\n",
       "      <td>100.0</td>\n",
       "      <td>0.0</td>\n",
       "    </tr>\n",
       "    <tr>\n",
       "      <th>ST32</th>\n",
       "      <td>3.0</td>\n",
       "      <td>175.000000</td>\n",
       "      <td>156.124950</td>\n",
       "      <td>50.0</td>\n",
       "      <td>350.0</td>\n",
       "      <td>300.0</td>\n",
       "    </tr>\n",
       "    <tr>\n",
       "      <th>ST4</th>\n",
       "      <td>1.0</td>\n",
       "      <td>274.000000</td>\n",
       "      <td>NaN</td>\n",
       "      <td>274.0</td>\n",
       "      <td>274.0</td>\n",
       "      <td>0.0</td>\n",
       "    </tr>\n",
       "  </tbody>\n",
       "</table>\n",
       "</div>"
      ],
      "text/plain": [
       "      count        mean         std    min    max  range\n",
       "subj                                                    \n",
       "CP7     1.0  125.000000         NaN  125.0  125.0    0.0\n",
       "GP15   11.0  137.909091  187.476641 -125.0  349.0  474.0\n",
       "GP28    1.0  -75.000000         NaN  -75.0  -75.0    0.0\n",
       "GP35    5.0  149.200000  120.883001    0.0  324.0  324.0\n",
       "JH10    1.0  475.000000         NaN  475.0  475.0    0.0\n",
       "JH17    4.0   43.750000  315.155385 -200.0  500.0  700.0\n",
       "JH2     9.0   44.444444  191.938213 -325.0  250.0  575.0\n",
       "JH5     1.0 -125.000000         NaN -125.0 -125.0    0.0\n",
       "JH6     4.0  112.500000  261.804635 -175.0  450.0  625.0\n",
       "ST1     2.0  162.000000  405.879292 -125.0  449.0  574.0\n",
       "ST15    1.0 -250.000000         NaN -250.0 -250.0    0.0\n",
       "ST27    1.0  100.000000         NaN  100.0  100.0    0.0\n",
       "ST32    3.0  175.000000  156.124950   50.0  350.0  300.0\n",
       "ST4     1.0  274.000000         NaN  274.0  274.0    0.0"
      ]
     },
     "execution_count": 139,
     "metadata": {},
     "output_type": "execute_result"
    }
   ],
   "source": [
    "tmp = tmpall.groupby(['subj']).apply(func)\n",
    "filename = os.path.join(base, 'regression', 'best_offsets_bysubj_duronly.csv' )\n",
    "tmp.to_csv(filename)"
   ]
  },
  {
   "cell_type": "code",
   "execution_count": 140,
   "metadata": {
    "collapsed": true
   },
   "outputs": [
    {
     "data": {
      "text/html": [
       "<div>\n",
       "<table border=\"1\" class=\"dataframe\">\n",
       "  <thead>\n",
       "    <tr style=\"text-align: right;\">\n",
       "      <th></th>\n",
       "      <th></th>\n",
       "      <th>count</th>\n",
       "      <th>mean</th>\n",
       "      <th>std</th>\n",
       "      <th>min</th>\n",
       "      <th>max</th>\n",
       "      <th>range</th>\n",
       "    </tr>\n",
       "    <tr>\n",
       "      <th>subj</th>\n",
       "      <th>task</th>\n",
       "      <th></th>\n",
       "      <th></th>\n",
       "      <th></th>\n",
       "      <th></th>\n",
       "      <th></th>\n",
       "      <th></th>\n",
       "    </tr>\n",
       "  </thead>\n",
       "  <tbody>\n",
       "    <tr>\n",
       "      <th>CP7</th>\n",
       "      <th>DecisionAud</th>\n",
       "      <td>1.0</td>\n",
       "      <td>125.000000</td>\n",
       "      <td>NaN</td>\n",
       "      <td>125.0</td>\n",
       "      <td>125.0</td>\n",
       "      <td>0.0</td>\n",
       "    </tr>\n",
       "    <tr>\n",
       "      <th rowspan=\"6\" valign=\"top\">GP15</th>\n",
       "      <th>EmoGen</th>\n",
       "      <td>3.0</td>\n",
       "      <td>332.333333</td>\n",
       "      <td>14.433757</td>\n",
       "      <td>324.0</td>\n",
       "      <td>349.0</td>\n",
       "      <td>25.0</td>\n",
       "    </tr>\n",
       "    <tr>\n",
       "      <th>EmoRep</th>\n",
       "      <td>1.0</td>\n",
       "      <td>49.000000</td>\n",
       "      <td>NaN</td>\n",
       "      <td>49.0</td>\n",
       "      <td>49.0</td>\n",
       "      <td>0.0</td>\n",
       "    </tr>\n",
       "    <tr>\n",
       "      <th>FaceEmo</th>\n",
       "      <td>2.0</td>\n",
       "      <td>-13.000000</td>\n",
       "      <td>158.391919</td>\n",
       "      <td>-125.0</td>\n",
       "      <td>99.0</td>\n",
       "      <td>224.0</td>\n",
       "    </tr>\n",
       "    <tr>\n",
       "      <th>FaceGen</th>\n",
       "      <td>2.0</td>\n",
       "      <td>-0.500000</td>\n",
       "      <td>176.069589</td>\n",
       "      <td>-125.0</td>\n",
       "      <td>124.0</td>\n",
       "      <td>249.0</td>\n",
       "    </tr>\n",
       "    <tr>\n",
       "      <th>SelfAud</th>\n",
       "      <td>1.0</td>\n",
       "      <td>274.000000</td>\n",
       "      <td>NaN</td>\n",
       "      <td>274.0</td>\n",
       "      <td>274.0</td>\n",
       "      <td>0.0</td>\n",
       "    </tr>\n",
       "    <tr>\n",
       "      <th>SelfVis</th>\n",
       "      <td>2.0</td>\n",
       "      <td>112.000000</td>\n",
       "      <td>264.457936</td>\n",
       "      <td>-75.0</td>\n",
       "      <td>299.0</td>\n",
       "      <td>374.0</td>\n",
       "    </tr>\n",
       "    <tr>\n",
       "      <th>GP28</th>\n",
       "      <th>SelfAud</th>\n",
       "      <td>1.0</td>\n",
       "      <td>-75.000000</td>\n",
       "      <td>NaN</td>\n",
       "      <td>-75.0</td>\n",
       "      <td>-75.0</td>\n",
       "      <td>0.0</td>\n",
       "    </tr>\n",
       "    <tr>\n",
       "      <th rowspan=\"4\" valign=\"top\">GP35</th>\n",
       "      <th>EmoGen</th>\n",
       "      <td>2.0</td>\n",
       "      <td>99.500000</td>\n",
       "      <td>140.714249</td>\n",
       "      <td>0.0</td>\n",
       "      <td>199.0</td>\n",
       "      <td>199.0</td>\n",
       "    </tr>\n",
       "    <tr>\n",
       "      <th>EmoRep</th>\n",
       "      <td>1.0</td>\n",
       "      <td>324.000000</td>\n",
       "      <td>NaN</td>\n",
       "      <td>324.0</td>\n",
       "      <td>324.0</td>\n",
       "      <td>0.0</td>\n",
       "    </tr>\n",
       "    <tr>\n",
       "      <th>FaceEmo</th>\n",
       "      <td>1.0</td>\n",
       "      <td>99.000000</td>\n",
       "      <td>NaN</td>\n",
       "      <td>99.0</td>\n",
       "      <td>99.0</td>\n",
       "      <td>0.0</td>\n",
       "    </tr>\n",
       "    <tr>\n",
       "      <th>FaceGen</th>\n",
       "      <td>1.0</td>\n",
       "      <td>124.000000</td>\n",
       "      <td>NaN</td>\n",
       "      <td>124.0</td>\n",
       "      <td>124.0</td>\n",
       "      <td>0.0</td>\n",
       "    </tr>\n",
       "    <tr>\n",
       "      <th>JH10</th>\n",
       "      <th>SelfAud</th>\n",
       "      <td>1.0</td>\n",
       "      <td>475.000000</td>\n",
       "      <td>NaN</td>\n",
       "      <td>475.0</td>\n",
       "      <td>475.0</td>\n",
       "      <td>0.0</td>\n",
       "    </tr>\n",
       "    <tr>\n",
       "      <th rowspan=\"2\" valign=\"top\">JH17</th>\n",
       "      <th>SelfAud</th>\n",
       "      <td>2.0</td>\n",
       "      <td>187.500000</td>\n",
       "      <td>441.941738</td>\n",
       "      <td>-125.0</td>\n",
       "      <td>500.0</td>\n",
       "      <td>625.0</td>\n",
       "    </tr>\n",
       "    <tr>\n",
       "      <th>SelfVis</th>\n",
       "      <td>2.0</td>\n",
       "      <td>-100.000000</td>\n",
       "      <td>141.421356</td>\n",
       "      <td>-200.0</td>\n",
       "      <td>0.0</td>\n",
       "      <td>200.0</td>\n",
       "    </tr>\n",
       "    <tr>\n",
       "      <th rowspan=\"4\" valign=\"top\">JH2</th>\n",
       "      <th>EmoGen</th>\n",
       "      <td>3.0</td>\n",
       "      <td>225.000000</td>\n",
       "      <td>25.000000</td>\n",
       "      <td>200.0</td>\n",
       "      <td>250.0</td>\n",
       "      <td>50.0</td>\n",
       "    </tr>\n",
       "    <tr>\n",
       "      <th>FaceEmo</th>\n",
       "      <td>3.0</td>\n",
       "      <td>8.333333</td>\n",
       "      <td>87.797115</td>\n",
       "      <td>-75.0</td>\n",
       "      <td>100.0</td>\n",
       "      <td>175.0</td>\n",
       "    </tr>\n",
       "    <tr>\n",
       "      <th>SelfAud</th>\n",
       "      <td>1.0</td>\n",
       "      <td>-325.000000</td>\n",
       "      <td>NaN</td>\n",
       "      <td>-325.0</td>\n",
       "      <td>-325.0</td>\n",
       "      <td>0.0</td>\n",
       "    </tr>\n",
       "    <tr>\n",
       "      <th>SelfVis</th>\n",
       "      <td>2.0</td>\n",
       "      <td>12.500000</td>\n",
       "      <td>194.454365</td>\n",
       "      <td>-125.0</td>\n",
       "      <td>150.0</td>\n",
       "      <td>275.0</td>\n",
       "    </tr>\n",
       "    <tr>\n",
       "      <th>JH5</th>\n",
       "      <th>EmoRep</th>\n",
       "      <td>1.0</td>\n",
       "      <td>-125.000000</td>\n",
       "      <td>NaN</td>\n",
       "      <td>-125.0</td>\n",
       "      <td>-125.0</td>\n",
       "      <td>0.0</td>\n",
       "    </tr>\n",
       "    <tr>\n",
       "      <th rowspan=\"2\" valign=\"top\">JH6</th>\n",
       "      <th>FaceEmo</th>\n",
       "      <td>2.0</td>\n",
       "      <td>87.500000</td>\n",
       "      <td>88.388348</td>\n",
       "      <td>25.0</td>\n",
       "      <td>150.0</td>\n",
       "      <td>125.0</td>\n",
       "    </tr>\n",
       "    <tr>\n",
       "      <th>SelfAud</th>\n",
       "      <td>2.0</td>\n",
       "      <td>137.500000</td>\n",
       "      <td>441.941738</td>\n",
       "      <td>-175.0</td>\n",
       "      <td>450.0</td>\n",
       "      <td>625.0</td>\n",
       "    </tr>\n",
       "    <tr>\n",
       "      <th rowspan=\"2\" valign=\"top\">ST1</th>\n",
       "      <th>EmoGen</th>\n",
       "      <td>1.0</td>\n",
       "      <td>-125.000000</td>\n",
       "      <td>NaN</td>\n",
       "      <td>-125.0</td>\n",
       "      <td>-125.0</td>\n",
       "      <td>0.0</td>\n",
       "    </tr>\n",
       "    <tr>\n",
       "      <th>SelfAud</th>\n",
       "      <td>1.0</td>\n",
       "      <td>449.000000</td>\n",
       "      <td>NaN</td>\n",
       "      <td>449.0</td>\n",
       "      <td>449.0</td>\n",
       "      <td>0.0</td>\n",
       "    </tr>\n",
       "    <tr>\n",
       "      <th>ST15</th>\n",
       "      <th>SelfAud</th>\n",
       "      <td>1.0</td>\n",
       "      <td>-250.000000</td>\n",
       "      <td>NaN</td>\n",
       "      <td>-250.0</td>\n",
       "      <td>-250.0</td>\n",
       "      <td>0.0</td>\n",
       "    </tr>\n",
       "    <tr>\n",
       "      <th>ST27</th>\n",
       "      <th>DecisionVis</th>\n",
       "      <td>1.0</td>\n",
       "      <td>100.000000</td>\n",
       "      <td>NaN</td>\n",
       "      <td>100.0</td>\n",
       "      <td>100.0</td>\n",
       "      <td>0.0</td>\n",
       "    </tr>\n",
       "    <tr>\n",
       "      <th>ST32</th>\n",
       "      <th>DecisionVis</th>\n",
       "      <td>3.0</td>\n",
       "      <td>175.000000</td>\n",
       "      <td>156.124950</td>\n",
       "      <td>50.0</td>\n",
       "      <td>350.0</td>\n",
       "      <td>300.0</td>\n",
       "    </tr>\n",
       "    <tr>\n",
       "      <th>ST4</th>\n",
       "      <th>EmoRep</th>\n",
       "      <td>1.0</td>\n",
       "      <td>274.000000</td>\n",
       "      <td>NaN</td>\n",
       "      <td>274.0</td>\n",
       "      <td>274.0</td>\n",
       "      <td>0.0</td>\n",
       "    </tr>\n",
       "  </tbody>\n",
       "</table>\n",
       "</div>"
      ],
      "text/plain": [
       "                  count        mean         std    min    max  range\n",
       "subj task                                                           \n",
       "CP7  DecisionAud    1.0  125.000000         NaN  125.0  125.0    0.0\n",
       "GP15 EmoGen         3.0  332.333333   14.433757  324.0  349.0   25.0\n",
       "     EmoRep         1.0   49.000000         NaN   49.0   49.0    0.0\n",
       "     FaceEmo        2.0  -13.000000  158.391919 -125.0   99.0  224.0\n",
       "     FaceGen        2.0   -0.500000  176.069589 -125.0  124.0  249.0\n",
       "     SelfAud        1.0  274.000000         NaN  274.0  274.0    0.0\n",
       "     SelfVis        2.0  112.000000  264.457936  -75.0  299.0  374.0\n",
       "GP28 SelfAud        1.0  -75.000000         NaN  -75.0  -75.0    0.0\n",
       "GP35 EmoGen         2.0   99.500000  140.714249    0.0  199.0  199.0\n",
       "     EmoRep         1.0  324.000000         NaN  324.0  324.0    0.0\n",
       "     FaceEmo        1.0   99.000000         NaN   99.0   99.0    0.0\n",
       "     FaceGen        1.0  124.000000         NaN  124.0  124.0    0.0\n",
       "JH10 SelfAud        1.0  475.000000         NaN  475.0  475.0    0.0\n",
       "JH17 SelfAud        2.0  187.500000  441.941738 -125.0  500.0  625.0\n",
       "     SelfVis        2.0 -100.000000  141.421356 -200.0    0.0  200.0\n",
       "JH2  EmoGen         3.0  225.000000   25.000000  200.0  250.0   50.0\n",
       "     FaceEmo        3.0    8.333333   87.797115  -75.0  100.0  175.0\n",
       "     SelfAud        1.0 -325.000000         NaN -325.0 -325.0    0.0\n",
       "     SelfVis        2.0   12.500000  194.454365 -125.0  150.0  275.0\n",
       "JH5  EmoRep         1.0 -125.000000         NaN -125.0 -125.0    0.0\n",
       "JH6  FaceEmo        2.0   87.500000   88.388348   25.0  150.0  125.0\n",
       "     SelfAud        2.0  137.500000  441.941738 -175.0  450.0  625.0\n",
       "ST1  EmoGen         1.0 -125.000000         NaN -125.0 -125.0    0.0\n",
       "     SelfAud        1.0  449.000000         NaN  449.0  449.0    0.0\n",
       "ST15 SelfAud        1.0 -250.000000         NaN -250.0 -250.0    0.0\n",
       "ST27 DecisionVis    1.0  100.000000         NaN  100.0  100.0    0.0\n",
       "ST32 DecisionVis    3.0  175.000000  156.124950   50.0  350.0  300.0\n",
       "ST4  EmoRep         1.0  274.000000         NaN  274.0  274.0    0.0"
      ]
     },
     "execution_count": 140,
     "metadata": {},
     "output_type": "execute_result"
    }
   ],
   "source": [
    "tmp = tmpall.groupby(['subj', 'task']).apply(func)\n",
    "filename = os.path.join(base, 'regression', 'best_offsets_bydataset_duronly.csv' )\n",
    "tmp.to_csv(filename)"
   ]
  },
  {
   "cell_type": "markdown",
   "metadata": {
    "collapsed": true
   },
   "source": [
    "## Variability in offsets for duration electrodes"
   ]
  },
  {
   "cell_type": "code",
   "execution_count": 75,
   "metadata": {
    "collapsed": true
   },
   "outputs": [],
   "source": [
    "def func(x):\n",
    "    c = x['end_idx_resp'].count()\n",
    "    mn = x['end_idx_resp'].mean()\n",
    "    s = x['end_idx_resp'].std()\n",
    "    r = x['end_idx_resp'].max() - x['end_idx_resp'].min()\n",
    "    return pd.Series([c, mn, s, r], index=['count','mean', 'std', 'range'])"
   ]
  },
  {
   "cell_type": "code",
   "execution_count": 77,
   "metadata": {
    "collapsed": false
   },
   "outputs": [],
   "source": [
    "filename = os.path.join(base, 'regression', 'end_idx_bydataset_duronly.csv' )\n",
    "tmp = df[df.pattern == 'D'].groupby(['subj','task']).apply(func)\n",
    "tmp.to_csv(filename)"
   ]
  },
  {
   "cell_type": "code",
   "execution_count": 78,
   "metadata": {
    "collapsed": true
   },
   "outputs": [],
   "source": [
    "filename = os.path.join(base, 'regression', 'end_idx_bysubj_duronly.csv' )\n",
    "tmp = df[df.pattern == 'D'].groupby(['subj']).apply(func)\n",
    "tmp.to_csv(filename)"
   ]
  }
 ],
 "metadata": {
  "kernelspec": {
   "display_name": "Python 2",
   "language": "python",
   "name": "python2"
  },
  "language_info": {
   "codemirror_mode": {
    "name": "ipython",
    "version": 2
   },
   "file_extension": ".py",
   "mimetype": "text/x-python",
   "name": "python",
   "nbconvert_exporter": "python",
   "pygments_lexer": "ipython2",
   "version": "2.7.11"
  }
 },
 "nbformat": 4,
 "nbformat_minor": 0
}
