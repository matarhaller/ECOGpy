{
 "metadata": {
  "name": "",
  "signature": "sha256:54a1bc9aeb07f393b67faabb1552d8e45c2ebd5ae40c0639d1413e4ce7aee836"
 },
 "nbformat": 3,
 "nbformat_minor": 0,
 "worksheets": [
  {
   "cells": [
    {
     "cell_type": "markdown",
     "metadata": {},
     "source": [
      "## calculate the correlation between RT and max (grouped by trials) for a cluster\n",
      "### positive correlation means that threshold increases as RT gets longer (more noise)"
     ]
    },
    {
     "cell_type": "code",
     "collapsed": false,
     "input": [
      "import pandas as pd\n",
      "import os\n",
      "from __future__ import division\n",
      "import numpy as np\n",
      "import cPickle as pickle\n",
      "import matplotlib.pyplot as plt\n",
      "from scipy import stats"
     ],
     "language": "python",
     "metadata": {},
     "outputs": [],
     "prompt_number": 1
    },
    {
     "cell_type": "code",
     "collapsed": false,
     "input": [
      "SJdir = '/home/knight/matar/MATLAB/DATA/Avgusta/'"
     ],
     "language": "python",
     "metadata": {},
     "outputs": [],
     "prompt_number": 2
    },
    {
     "cell_type": "code",
     "collapsed": false,
     "input": [
      "subj = 'GP15'\n",
      "task = 'EmoGen'\n",
      "cluster = 6\n",
      "numelecs = 6"
     ],
     "language": "python",
     "metadata": {},
     "outputs": [],
     "prompt_number": 300
    },
    {
     "cell_type": "code",
     "collapsed": false,
     "input": [
      "data_dict.keys()"
     ],
     "language": "python",
     "metadata": {},
     "outputs": [
      {
       "metadata": {},
       "output_type": "pyout",
       "prompt_number": 301,
       "text": [
        "['end_idx_resp',\n",
        " 'st_resp',\n",
        " 'lats_stim',\n",
        " 'cdata_dur_stim',\n",
        " 'means',\n",
        " 'pattern',\n",
        " 'lats_pro_resp',\n",
        " 'maxes',\n",
        " 'sums',\n",
        " 'bl_st',\n",
        " 'lats_resp',\n",
        " 'lats_pro_stim',\n",
        " 'en_resp',\n",
        " 'RTs',\n",
        " 'srate',\n",
        " 'start_idx',\n",
        " 'stds',\n",
        " 'cdata_dur_resp']"
       ]
      }
     ],
     "prompt_number": 301
    },
    {
     "cell_type": "code",
     "collapsed": false,
     "input": [
      "filename = os.path.join(SJdir, 'PCA', 'ShadePlots_hclust', 'significance_windows', ''.join([subj, '_', task, '_c', str(cluster), '.p']))\n",
      "\n",
      "#load data\n",
      "with open(filename, 'r') as x:\n",
      "    data_dict = pickle.load(x)\n",
      "    x.close()\n",
      "    \n",
      "means, maxes, lats_stim, lats_pro, sums, stds, RTs = [data_dict.get(k) for k in ['means','maxes','lats_stim','lats_pro','sums','stds', 'RTs']]\n"
     ],
     "language": "python",
     "metadata": {},
     "outputs": [],
     "prompt_number": 302
    },
    {
     "cell_type": "code",
     "collapsed": false,
     "input": [
      "maxes = data_dict['maxes_stim']"
     ],
     "language": "python",
     "metadata": {},
     "outputs": [],
     "prompt_number": 246
    },
    {
     "cell_type": "code",
     "collapsed": false,
     "input": [
      "idx = np.repeat(np.arange(0,RTs.shape[0] / numelecs), numelecs)"
     ],
     "language": "python",
     "metadata": {},
     "outputs": [],
     "prompt_number": 303
    },
    {
     "cell_type": "code",
     "collapsed": false,
     "input": [
      "tmp = pd.DataFrame([RTs, maxes]).transpose()\n"
     ],
     "language": "python",
     "metadata": {},
     "outputs": [],
     "prompt_number": 304
    },
    {
     "cell_type": "code",
     "collapsed": false,
     "input": [
      "tmp = tmp.set_index(idx)\n",
      "tmp.columns = ['RTs','maxes']"
     ],
     "language": "python",
     "metadata": {},
     "outputs": [],
     "prompt_number": 305
    },
    {
     "cell_type": "code",
     "collapsed": false,
     "input": [
      "tmp = tmp.groupby('RTs').mean()"
     ],
     "language": "python",
     "metadata": {},
     "outputs": [],
     "prompt_number": 306
    },
    {
     "cell_type": "code",
     "collapsed": false,
     "input": [
      "tmp.plot(marker = '.', linewidth = 0, grid = 'off')"
     ],
     "language": "python",
     "metadata": {},
     "outputs": [
      {
       "metadata": {},
       "output_type": "pyout",
       "prompt_number": 307,
       "text": [
        "<matplotlib.axes.AxesSubplot at 0x7ffdf8f9fc90>"
       ]
      },
      {
       "metadata": {},
       "output_type": "display_data",
       "png": "[encoded data removed]",
       "text": [
        "<matplotlib.figure.Figure at 0x7ffdf910ef50>"
       ]
      }
     ],
     "prompt_number": 307
    },
    {
     "cell_type": "code",
     "collapsed": false,
     "input": [
      "R, pval = stats.pearsonr(tmp.index, tmp['maxes'])"
     ],
     "language": "python",
     "metadata": {},
     "outputs": [],
     "prompt_number": 308
    },
    {
     "cell_type": "code",
     "collapsed": false,
     "input": [
      "x = tmp.index\n",
      "y = tmp['maxes']"
     ],
     "language": "python",
     "metadata": {},
     "outputs": [],
     "prompt_number": 309
    },
    {
     "cell_type": "code",
     "collapsed": false,
     "input": [
      "import statsmodels.api as sm\n",
      "from statsmodels.stats.outliers_influence import summary_table\n"
     ],
     "language": "python",
     "metadata": {},
     "outputs": [],
     "prompt_number": 310
    },
    {
     "cell_type": "code",
     "collapsed": false,
     "input": [
      "X = sm.add_constant(x, prepend=True) #Add a column of ones to allow the calculation of the intercept\n",
      "ols_test = sm.OLS(y, X,missing='drop').fit()\n",
      "X = sm.add_constant(x)"
     ],
     "language": "python",
     "metadata": {},
     "outputs": [],
     "prompt_number": 311
    },
    {
     "cell_type": "code",
     "collapsed": false,
     "input": [
      "intercept, slope = ols_test.params\n",
      "y = intercept + slope * x\n"
     ],
     "language": "python",
     "metadata": {},
     "outputs": [],
     "prompt_number": 312
    },
    {
     "cell_type": "code",
     "collapsed": false,
     "input": [
      "f, ax = plt.subplots()\n",
      "ax.patch.set_facecolor('white')\n",
      "ax.autoscale(tight=False)\n",
      "ax.spines['top'].set_visible(False)\n",
      "ax.spines['right'].set_visible(False)\n",
      "ax.get_xaxis().tick_bottom()\n",
      "ax.get_yaxis().tick_left()\n",
      "ax.set_xlabel('RTs')\n",
      "ax.set_ylabel('HG peak value')\n",
      "\n",
      "ax.set_title((R, pval))\n",
      "plt.plot(tmp.index, tmp.maxes, 'o')\n",
      "plt.plot(x, y, 'r-', linewidth = 3)\n",
      "\n",
      "\n",
      "filename = os.path.join(SJdir, 'PCA','Stats', ''.join([subj, '_', task, '_c', str(cluster), '_RTs_vs_max.png']))\n",
      "plt.savefig(filename, dpi = 300)\n",
      "filename"
     ],
     "language": "python",
     "metadata": {},
     "outputs": [
      {
       "metadata": {},
       "output_type": "pyout",
       "prompt_number": 313,
       "text": [
        "'/home/knight/matar/MATLAB/DATA/Avgusta/PCA/Stats/GP15_EmoGen_c6_RTs_vs_max.png'"
       ]
      },
      {
       "metadata": {},
       "output_type": "display_data",
       "png": "[encoded data removed]",
       "text": [
        "<matplotlib.figure.Figure at 0x7ffdf92655d0>"
       ]
      }
     ],
     "prompt_number": 313
    },
    {
     "cell_type": "code",
     "collapsed": false,
     "input": [
      "re = ols_test\n",
      "st, data, ss2 = summary_table(re, alpha=0.05)\n",
      "\n",
      "fittedvalues = data[:,2]\n",
      "predict_mean_se  = data[:,3]\n",
      "predict_mean_ci_low, predict_mean_ci_upp = data[:,4:6].T\n",
      "predict_ci_low, predict_ci_upp = data[:,6:8].T\n",
      "\n",
      "\n",
      "# check we got the right things\n",
      "#print np.max(np.abs(re.fittedvalues - fittedvalues))\n",
      "#print np.max(np.abs(iv_l - predict_ci_low))\n",
      "#print np.max(np.abs(iv_u - predict_ci_upp))\n",
      "\n",
      "#plt.plot(x, y, 'o')\n",
      "plt.plot(x, fittedvalues, '-', lw=2)\n",
      "plt.plot(tmp.index, tmp.maxes, 'o')\n",
      "\n",
      "plt.plot(x, predict_ci_low, 'r--', lw=2)\n",
      "plt.plot(x, predict_ci_upp, 'r--', lw=2)\n",
      "plt.plot(x, predict_mean_ci_low, 'r--', lw=2)\n",
      "plt.plot(x, predict_mean_ci_upp, 'r--', lw=2)\n",
      "plt.show()"
     ],
     "language": "python",
     "metadata": {},
     "outputs": [
      {
       "metadata": {},
       "output_type": "display_data",
       "png": "[encoded data removed]",
       "text": [
        "<matplotlib.figure.Figure at 0x7ffdf4295950>"
       ]
      }
     ],
     "prompt_number": 99
    },
    {
     "cell_type": "markdown",
     "metadata": {},
     "source": [
      "## split trials by RTs"
     ]
    },
    {
     "cell_type": "code",
     "collapsed": false,
     "input": [
      "filename = os.path.join(SJdir,'PCA','Stats', 'significance_windows_stats.csv')\n",
      "df = pd.read_csv(filename)\n",
      "\n",
      "filename = os.path.join(SJdir,'PCA','RTs','RT_summary_offsets.csv')\n",
      "df_RTs = pd.read_csv(filename)\n",
      "\n",
      "filename = os.path.join(SJdir, 'PCA', 'duration_dict_500_FINAL', 'groupidx_activeclusters_hclust_withduration_maxRTlocked_withcriteria_labeled.csv')\n",
      "df_group = pd.read_csv(filename)\n",
      "\n",
      "filename = os.path.join(SJdir,'PCA','Stats', 'significance_windows_stats_RTsplit.csv')\n",
      "df_split = pd.read_csv(filename)"
     ],
     "language": "python",
     "metadata": {},
     "outputs": [],
     "prompt_number": 688
    },
    {
     "cell_type": "code",
     "collapsed": false,
     "input": [
      "df_split.columns"
     ],
     "language": "python",
     "metadata": {},
     "outputs": [
      {
       "metadata": {},
       "output_type": "pyout",
       "prompt_number": 315,
       "text": [
        "Index([u'Unnamed: 0', u'subj', u'task', u'cluster', u'pattern', u'mean_slow_mean_stim', u'mean_fast_mean_stim', u'mean_p_stim', u'mean_slow_mean_resp', u'mean_fast_mean_resp', u'mean_p_resp', u'std_slow_mean_stim', u'std_fast_mean_stim', u'std_p_stim', u'std_slow_mean_resp', u'std_fast_mean_resp', u'std_p_resp', u'max_slow_mean_stim', u'max_fast_mean_stim', u'max_p_stim', u'max_slow_mean_resp', u'max_fast_mean_resp', u'max_p_resp', u'sums_slow_mean_stim', u'sums_fast_mean_stim', u'sum_p_stim', u'sums_slow_mean_resp', u'sums_fast_mean_resp', u'sum_p_resp', u'lats_slow_mean_stim', u'lats_fast_mean_stim', u'lat_p_stim', u'lat_p_resp', u'lats_slow_mean_resp', u'lats_fast_mean_resp', u'lats_pro_slow_mean_stim', u'lats_pro_fast_mean_stim', u'lat_pro_p_stim', u'lats_pro_slow_mean_resp', u'lats_pro_fast_mean_resp', u'lat_pro_p_resp', u'lats_pro_slow_std_stim', u'lats_pro_fast_std_stim', u'lats_pro_slow_std_resp', u'lats_pro_fast_std_resp'], dtype='object')"
       ]
      }
     ],
     "prompt_number": 315
    },
    {
     "cell_type": "code",
     "collapsed": false,
     "input": [
      "data = df_split.query('pattern == \"D\"')[['max_slow_mean_stim', 'max_fast_mean_stim', 'mean_slow_mean_stim','mean_fast_mean_stim', 'lats_slow_mean_stim','lats_fast_mean_stim','lats_pro_slow_mean_stim','lats_pro_fast_mean_stim','std_slow_mean_stim','std_fast_mean_stim']]"
     ],
     "language": "python",
     "metadata": {},
     "outputs": [],
     "prompt_number": 427
    },
    {
     "cell_type": "code",
     "collapsed": false,
     "input": [
      "df = pd.DataFrame({'mean' : data.mean(), 'std' : data.std()}).reset_index()\n",
      "df.columns = ['metric','mean','std']"
     ],
     "language": "python",
     "metadata": {},
     "outputs": [],
     "prompt_number": 436
    },
    {
     "cell_type": "code",
     "collapsed": false,
     "input": [
      "df.to_csv('/home/knight/matar/tmp.csv')"
     ],
     "language": "python",
     "metadata": {},
     "outputs": [],
     "prompt_number": 549
    },
    {
     "cell_type": "code",
     "collapsed": false,
     "input": [],
     "language": "python",
     "metadata": {},
     "outputs": []
    },
    {
     "cell_type": "code",
     "collapsed": false,
     "input": [
      "print df_split.query('pattern == \"D\"')[['max_slow_mean_stim']].mean()[0]\n",
      "print df_split.query('pattern == \"D\"')[['max_fast_mean_stim']].mean()[0]"
     ],
     "language": "python",
     "metadata": {},
     "outputs": [
      {
       "output_type": "stream",
       "stream": "stdout",
       "text": [
        "129.618422998\n",
        "117.484234745\n"
       ]
      }
     ],
     "prompt_number": 615
    },
    {
     "cell_type": "code",
     "collapsed": false,
     "input": [
      "print ' '\n",
      "f, ax = plt.subplots(1, 3, figsize = (12,4))\n",
      "gs = gridspec.GridSpec(1, 14)\n",
      "\n",
      "ax[0] = plt.subplot(gs[:, :4])\n",
      "ax[1] = plt.subplot(gs[:, 5:9])\n",
      "ax[2] = plt.subplot(gs[:,10:])\n",
      "\n",
      "#means with error bars -  MAX duration\n",
      "x = (-0.05, 0.95)\n",
      "y = (df_split.query('pattern == \"D\"')[['max_fast_mean_stim']].mean()[0],df_split.query('pattern == \"D\"')[['max_slow_mean_stim']].mean()[0]) \n",
      "yerr_slow = df_split.query('pattern == \"D\"')[['max_slow_mean_stim']].std()[0]/np.sqrt(len(df_split.query('pattern == \"D\"')[['max_slow_mean_stim']]))\n",
      "yerr_fast = df_split.query('pattern == \"D\"')[['max_fast_mean_stim']].std()[0]/np.sqrt(len(df_split.query('pattern == \"D\"')[['max_fast_mean_stim']]))\n",
      "ax[0].errorbar(x, y, yerr = (yerr_fast, yerr_slow), fmt = '-', linewidth = 2, c = 'black', capsize=5, capthick=2)\n",
      "ax[0].plot(x, y, linestyle=\"solid\", marker=\"o\", linewidth  = 5, color = 'crimson', markersize = 15, markeredgecolor = 'crimson' )\n",
      "\n",
      "#means with error bars - MAX stim\n",
      "x = (0.05, 1.05)\n",
      "y = (df_split.query('pattern == \"S\" or pattern == \"SR\"')[['max_fast_mean_stim']].mean()[0],df_split.query('pattern == \"S\" or pattern == \"SR\"')[['max_slow_mean_stim']].mean()[0]) \n",
      "yerr_slow = df_split.query('pattern == \"S\" or pattern == \"SR\"')[['max_slow_mean_stim']].std()[0]/np.sqrt(len(df_split.query('pattern == \"S\" or pattern == \"SR\"')[['max_slow_mean_stim']]))\n",
      "yerr_fast = df_split.query('pattern == \"S\" or pattern == \"SR\"')[['max_fast_mean_stim']].std()[0]/np.sqrt(len(df_split.query('pattern == \"S\" or pattern == \"SR\"')[['max_fast_mean_stim']]))\n",
      "ax[0].errorbar(x, y, yerr = (yerr_fast, yerr_slow), fmt = '-', linewidth = 2, c = 'black', capsize=5, capthick=2)\n",
      "ax[0].plot(x, y, linestyle=\"solid\", marker=\"o\", linewidth  = 5, color = 'lawngreen', markersize = 15, markeredgecolor = 'lawngreen' )\n",
      "\n",
      "\n",
      "#means with error bars -  LAT duration\n",
      "x = (-0.05, 0.95)\n",
      "y = (df_split.query('pattern == \"D\"')[['lats_fast_mean_stim']].mean()[0],df_split.query('pattern == \"D\"')[['lats_slow_mean_stim']].mean()[0]) \n",
      "yerr_slow = df_split.query('pattern == \"D\"')[['lats_slow_mean_stim']].std()[0]/np.sqrt(len(df_split.query('pattern == \"D\"')[['lats_slow_mean_stim']]))\n",
      "yerr_fast = df_split.query('pattern == \"D\"')[['lats_fast_mean_stim']].std()[0]/np.sqrt(len(df_split.query('pattern == \"D\"')[['lats_fast_mean_stim']]))\n",
      "ax[1].errorbar(x, y, yerr = (yerr_fast, yerr_slow), fmt = '-', linewidth = 2, c = 'black', capsize=5, capthick=2)\n",
      "ax[1].plot(x, y, linestyle=\"solid\", marker=\"o\", linewidth  = 5, color = 'crimson', markersize = 15, markeredgecolor = 'crimson' )\n",
      "\n",
      "#means with error bars - LAT stim\n",
      "x = (0.05, 1.05)\n",
      "y = (df_split.query('pattern == \"S\" or pattern == \"SR\"')[['lats_fast_mean_stim']].mean()[0],df_split.query('pattern == \"S\" or pattern == \"SR\"')[['lats_slow_mean_stim']].mean()[0]) \n",
      "yerr_slow = df_split.query('pattern == \"S\" or pattern == \"SR\"')[['lats_slow_mean_stim']].std()[0]/np.sqrt(len(df_split.query('pattern == \"S\" or pattern == \"SR\"')[['lats_slow_mean_stim']]))\n",
      "yerr_fast = df_split.query('pattern == \"S\" or pattern == \"SR\"')[['lats_fast_mean_stim']].std()[0]/np.sqrt(len(df_split.query('pattern == \"S\" or pattern == \"SR\"')[['lats_fast_mean_stim']]))\n",
      "ax[1].errorbar(x, y, yerr = (yerr_fast, yerr_slow), fmt = '-', linewidth = 2, c = 'black', capsize=5, capthick=2)\n",
      "ax[1].plot(x, y, linestyle=\"solid\", marker=\"o\", linewidth  = 5, color = 'lawngreen', markersize = 15, markeredgecolor = 'lawngreen' )\n",
      "\n",
      "\n",
      "#means with error bars -  STD duration\n",
      "x = (-0.05, 0.95)\n",
      "y = (df_split.query('pattern == \"D\"')[['std_fast_mean_stim']].mean()[0],df_split.query('pattern == \"D\"')[['std_slow_mean_stim']].mean()[0]) \n",
      "yerr_slow = df_split.query('pattern == \"D\"')[['std_slow_mean_stim']].std()[0]/np.sqrt(len(df_split.query('pattern == \"D\"')[['std_slow_mean_stim']]))\n",
      "yerr_fast = df_split.query('pattern == \"D\"')[['std_fast_mean_stim']].std()[0]/np.sqrt(len(df_split.query('pattern == \"D\"')[['std_fast_mean_stim']]))\n",
      "ax[2].errorbar(x, y, yerr = (yerr_fast, yerr_slow), fmt = '-', linewidth = 2, c = 'black', capsize=5, capthick=2)\n",
      "ax[2].plot(x, y, linestyle=\"solid\", marker=\"o\", linewidth  = 5, color = 'crimson', markersize = 15, markeredgecolor = 'crimson' )\n",
      "\n",
      "#means with error bars - STD stim\n",
      "x = (0.05, 1.05)\n",
      "y = (df_split.query('pattern == \"S\" or pattern == \"SR\"')[['std_fast_mean_stim']].mean()[0],df_split.query('pattern == \"S\"')[['std_slow_mean_stim']].mean()[0]) \n",
      "yerr_slow = df_split.query('pattern == \"S\" or pattern == \"SR\"')[['std_slow_mean_stim']].std()[0]/np.sqrt(len(df_split.query('pattern == \"S\" or pattern == \"SR\"')[['std_slow_mean_stim']]))\n",
      "yerr_fast = df_split.query('pattern == \"S\" or pattern == \"SR\"')[['std_fast_mean_stim']].std()[0]/np.sqrt(len(df_split.query('pattern == \"S\" or pattern == \"SR\"')[['std_fast_mean_stim']]))\n",
      "ax[2].errorbar(x, y, yerr = (yerr_fast, yerr_slow), fmt = '-', linewidth = 2, c = 'black', capsize=5, capthick=2)\n",
      "ax[2].plot(x, y, linestyle=\"solid\", marker=\"o\", linewidth  = 5, color = 'lawngreen', markersize = 15, markeredgecolor = 'lawngreen' )\n",
      "\n",
      "\n",
      "titles = ['max','latency', 'std']\n",
      "ind = np.arange(2)\n",
      "width = 0.35  \n",
      "\n",
      "for x, y in enumerate(ax):\n",
      "    ax[x].patch.set_facecolor('white')\n",
      "    ax[x].autoscale(tight=False)\n",
      "    ax[x].spines['top'].set_visible(False)\n",
      "    ax[x].spines['right'].set_visible(False)\n",
      "    ax[x].get_xaxis().tick_bottom()\n",
      "    ax[x].get_yaxis().tick_left()\n",
      "    ax[x].set_title(titles[x])\n",
      "    ax[x].set_xlim([-.5, 1.5])\n",
      "    \n",
      "    xTickMarks = ['fast','slow']\n",
      "    ax[x].set_xticks([0,1])\n",
      "    xtickNames = ax[x].set_xticklabels(xTickMarks, fontsize = 14)\n",
      "    #plt.setp(xtickNames)\n",
      "    \n",
      "\n",
      "filename= os.path.join(SJdir, 'PCA','Stats', 'metrics_plots_3.png')\n",
      "plt.savefig(filename, dpi = 300)"
     ],
     "language": "python",
     "metadata": {},
     "outputs": [
      {
       "output_type": "stream",
       "stream": "stdout",
       "text": [
        " \n"
       ]
      },
      {
       "metadata": {},
       "output_type": "display_data",
       "png": "[encoded data removed]",
       "text": [
        "<matplotlib.figure.Figure at 0x7ffdef783510>"
       ]
      }
     ],
     "prompt_number": 678
    },
    {
     "cell_type": "code",
     "collapsed": false,
     "input": [
      "df_split.columns"
     ],
     "language": "python",
     "metadata": {},
     "outputs": [
      {
       "metadata": {},
       "output_type": "pyout",
       "prompt_number": 682,
       "text": [
        "Index([u'Unnamed: 0', u'subj', u'task', u'cluster', u'pattern', u'mean_slow_mean_stim', u'mean_fast_mean_stim', u'mean_p_stim', u'mean_slow_mean_resp', u'mean_fast_mean_resp', u'mean_p_resp', u'std_slow_mean_stim', u'std_fast_mean_stim', u'std_p_stim', u'std_slow_mean_resp', u'std_fast_mean_resp', u'std_p_resp', u'max_slow_mean_stim', u'max_fast_mean_stim', u'max_p_stim', u'max_slow_mean_resp', u'max_fast_mean_resp', u'max_p_resp', u'sums_slow_mean_stim', u'sums_fast_mean_stim', u'sum_p_stim', u'sums_slow_mean_resp', u'sums_fast_mean_resp', u'sum_p_resp', u'lats_slow_mean_stim', u'lats_fast_mean_stim', u'lat_p_stim', u'lat_p_resp', u'lats_slow_mean_resp', u'lats_fast_mean_resp', u'lats_pro_slow_mean_stim', u'lats_pro_fast_mean_stim', u'lat_pro_p_stim', u'lats_pro_slow_mean_resp', u'lats_pro_fast_mean_resp', u'lat_pro_p_resp', u'lats_pro_slow_std_stim', u'lats_pro_fast_std_stim', u'lats_pro_slow_std_resp', u'lats_pro_fast_std_resp'], dtype='object')"
       ]
      }
     ],
     "prompt_number": 682
    },
    {
     "cell_type": "code",
     "collapsed": false,
     "input": [
      "import scipy.stats as stats"
     ],
     "language": "python",
     "metadata": {},
     "outputs": [],
     "prompt_number": 684
    },
    {
     "cell_type": "code",
     "collapsed": false,
     "input": [
      "a = df_split.query('pattern == \"D\"')[['lats_fast_std_stim']]\n",
      "b = df_split.query('pattern == \"D\"')[['lats_slow_std_stim']]\n",
      "\n",
      "(tstat, pval) = stats.ttest_rel(a,b)\n",
      "print tstat\n",
      "print pval"
     ],
     "language": "python",
     "metadata": {},
     "outputs": [
      {
       "output_type": "stream",
       "stream": "stdout",
       "text": [
        "[-7.94232859]\n",
        "[  2.34079739e-10]\n"
       ]
      }
     ],
     "prompt_number": 691
    },
    {
     "cell_type": "markdown",
     "metadata": {},
     "source": [
      "## single trial correlations for 1 subj 1 block (latencies vs peak)"
     ]
    },
    {
     "cell_type": "code",
     "collapsed": false,
     "input": [
      "subj = 'GP15'\n",
      "task = 'EmoGen'\n",
      "cluster = 'c5'\n",
      "\n",
      "filename = os.path.join(SJdir, 'PCA', 'ShadePlots_hclust', 'significance_windows', '_'.join([subj, task, cluster]))\n",
      "filename = filename + '.p'"
     ],
     "language": "python",
     "metadata": {},
     "outputs": [],
     "prompt_number": 754
    },
    {
     "cell_type": "code",
     "collapsed": false,
     "input": [
      "#load data\n",
      "with open(filename, 'r') as x:\n",
      "    data_dict = pickle.load(x)\n",
      "    x.close()\n",
      "    "
     ],
     "language": "python",
     "metadata": {},
     "outputs": [],
     "prompt_number": 755
    },
    {
     "cell_type": "code",
     "collapsed": false,
     "input": [
      "maxes, lats_stim, lats_resp, RTs = [data_dict.get(k) for k in ['maxes','lats_stim', 'lats_resp', 'RTs']]"
     ],
     "language": "python",
     "metadata": {},
     "outputs": [],
     "prompt_number": 761
    },
    {
     "cell_type": "code",
     "collapsed": false,
     "input": [
      "R, pval = stats.pearsonr(RTs, lats_stim)"
     ],
     "language": "python",
     "metadata": {},
     "outputs": [],
     "prompt_number": 764
    },
    {
     "cell_type": "code",
     "collapsed": false,
     "input": [
      "print R\n",
      "print pval"
     ],
     "language": "python",
     "metadata": {},
     "outputs": [
      {
       "output_type": "stream",
       "stream": "stdout",
       "text": [
        "0.474370851579\n",
        "1.63867994295e-42\n"
       ]
      }
     ],
     "prompt_number": 765
    },
    {
     "cell_type": "code",
     "collapsed": false,
     "input": [
      "x = maxes\n",
      "y = lats"
     ],
     "language": "python",
     "metadata": {},
     "outputs": [],
     "prompt_number": 736
    },
    {
     "cell_type": "code",
     "collapsed": false,
     "input": [
      "X = sm.add_constant(x, prepend=True) #Add a column of ones to allow the calculation of the intercept\n",
      "ols_test = sm.OLS(y, X,missing='drop').fit()\n",
      "X = sm.add_constant(x)"
     ],
     "language": "python",
     "metadata": {},
     "outputs": [],
     "prompt_number": 737
    },
    {
     "cell_type": "code",
     "collapsed": false,
     "input": [
      "intercept, slope = ols_test.params\n",
      "y = intercept + slope * x\n"
     ],
     "language": "python",
     "metadata": {},
     "outputs": [],
     "prompt_number": 738
    },
    {
     "cell_type": "code",
     "collapsed": false,
     "input": [
      "f, ax = plt.subplots()\n",
      "ax.patch.set_facecolor('white')\n",
      "ax.autoscale(tight=False)\n",
      "ax.spines['top'].set_visible(False)\n",
      "ax.spines['right'].set_visible(False)\n",
      "ax.get_xaxis().tick_bottom()\n",
      "ax.get_yaxis().tick_left()\n",
      "ax.set_xlabel('RTs')\n",
      "ax.set_ylabel('HG peak value')\n",
      "\n",
      "ax.set_title((R, pval))\n",
      "plt.plot(tmp.index, tmp.maxes, 'o')\n",
      "plt.plot(x, y, 'r-', linewidth = 3)\n",
      "\n",
      "\n",
      "filename = os.path.join(SJdir, 'PCA','Stats', ''.join([subj, '_', task, '_c', str(cluster), '_max_vs_lats.png']))\n",
      "#plt.savefig(filename, dpi = 300)\n",
      "filename"
     ],
     "language": "python",
     "metadata": {},
     "outputs": [
      {
       "metadata": {},
       "output_type": "pyout",
       "prompt_number": 739,
       "text": [
        "'/home/knight/matar/MATLAB/DATA/Avgusta/PCA/Stats/GP15_EmoGen_cc3_max_vs_lats.png'"
       ]
      },
      {
       "metadata": {},
       "output_type": "display_data",
       "png": "[encoded data removed]",
       "text": [
        "<matplotlib.figure.Figure at 0x7ffdf1273190>"
       ]
      }
     ],
     "prompt_number": 739
    },
    {
     "cell_type": "markdown",
     "metadata": {},
     "source": [
      "## run stats"
     ]
    },
    {
     "cell_type": "code",
     "collapsed": false,
     "input": [
      "import statsmodels.formula.api as smf\n",
      "from statsmodels.graphics.api import interaction_plot, abline_plot\n",
      "from statsmodels.stats.anova import anova_lm"
     ],
     "language": "python",
     "metadata": {},
     "outputs": [],
     "prompt_number": 644
    },
    {
     "cell_type": "code",
     "collapsed": false,
     "input": [
      "df_stats =  (df_split.query('pattern == \"D\" or pattern == \"S\"')[['max_fast_mean_stim','max_slow_mean_stim', 'pattern']]) \n"
     ],
     "language": "python",
     "metadata": {},
     "outputs": [],
     "prompt_number": 624
    },
    {
     "cell_type": "code",
     "collapsed": false,
     "input": [
      "df_stats.columns = ['fast','slow', 'pattern']"
     ],
     "language": "python",
     "metadata": {},
     "outputs": [],
     "prompt_number": 627
    },
    {
     "cell_type": "code",
     "collapsed": false,
     "input": [
      "df_stats = pd.melt(df_stats, id_vars = ['pattern'])"
     ],
     "language": "python",
     "metadata": {},
     "outputs": [],
     "prompt_number": 634
    },
    {
     "cell_type": "code",
     "collapsed": false,
     "input": [
      "df_stats.columns = ['pattern','RT_type','HG_mean']"
     ],
     "language": "python",
     "metadata": {},
     "outputs": [],
     "prompt_number": 637
    },
    {
     "cell_type": "code",
     "collapsed": false,
     "input": [
      "lm = smf.ols('HG_mean ~ C(RT_type) * C(pattern)', data=df_stats).fit()"
     ],
     "language": "python",
     "metadata": {},
     "outputs": [],
     "prompt_number": 653
    },
    {
     "cell_type": "code",
     "collapsed": false,
     "input": [
      "anova_lm(lm)"
     ],
     "language": "python",
     "metadata": {},
     "outputs": [
      {
       "html": [
        "<div style=\"max-height:1000px;max-width:1500px;overflow:auto;\">\n",
        "<table border=\"1\" class=\"dataframe\">\n",
        "  <thead>\n",
        "    <tr style=\"text-align: right;\">\n",
        "      <th></th>\n",
        "      <th>df</th>\n",
        "      <th>sum_sq</th>\n",
        "      <th>mean_sq</th>\n",
        "      <th>F</th>\n",
        "      <th>PR(&gt;F)</th>\n",
        "    </tr>\n",
        "  </thead>\n",
        "  <tbody>\n",
        "    <tr>\n",
        "      <th>C(RT_type)</th>\n",
        "      <td>   1</td>\n",
        "      <td>   2953.898159</td>\n",
        "      <td> 2953.898159</td>\n",
        "      <td> 3.563432</td>\n",
        "      <td> 0.061036</td>\n",
        "    </tr>\n",
        "    <tr>\n",
        "      <th>C(pattern)</th>\n",
        "      <td>   1</td>\n",
        "      <td>    242.189014</td>\n",
        "      <td>  242.189014</td>\n",
        "      <td> 0.292164</td>\n",
        "      <td> 0.589655</td>\n",
        "    </tr>\n",
        "    <tr>\n",
        "      <th>Residual</th>\n",
        "      <td> 147</td>\n",
        "      <td> 121855.281270</td>\n",
        "      <td>  828.947492</td>\n",
        "      <td>      NaN</td>\n",
        "      <td>      NaN</td>\n",
        "    </tr>\n",
        "  </tbody>\n",
        "</table>\n",
        "</div>"
       ],
       "metadata": {},
       "output_type": "pyout",
       "prompt_number": 652,
       "text": [
        "             df         sum_sq      mean_sq         F    PR(>F)\n",
        "C(RT_type)    1    2953.898159  2953.898159  3.563432  0.061036\n",
        "C(pattern)    1     242.189014   242.189014  0.292164  0.589655\n",
        "Residual    147  121855.281270   828.947492       NaN       NaN"
       ]
      }
     ],
     "prompt_number": 652
    },
    {
     "cell_type": "code",
     "collapsed": false,
     "input": [],
     "language": "python",
     "metadata": {},
     "outputs": []
    },
    {
     "cell_type": "code",
     "collapsed": false,
     "input": [],
     "language": "python",
     "metadata": {},
     "outputs": []
    }
   ],
   "metadata": {}
  }
 ]
}