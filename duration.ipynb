{
 "metadata": {
  "name": "",
  "signature": "sha256:d3c08e308ed8f08034b8d950dcd6ae46dec128f2468d308bfd19f5f35f389f38"
 },
 "nbformat": 3,
 "nbformat_minor": 0,
 "worksheets": [
  {
   "cells": [
    {
     "cell_type": "code",
     "collapsed": false,
     "input": [
      "%reset"
     ],
     "language": "python",
     "metadata": {},
     "outputs": [
      {
       "name": "stdout",
       "output_type": "stream",
       "stream": "stdout",
       "text": [
        "Once deleted, variables cannot be recovered. Proceed (y/[n])? y\n"
       ]
      }
     ],
     "prompt_number": 99
    },
    {
     "cell_type": "code",
     "collapsed": false,
     "input": [
      "import pandas as pd\n",
      "import numpy as np\n",
      "import os"
     ],
     "language": "python",
     "metadata": {},
     "outputs": [],
     "prompt_number": 100
    },
    {
     "cell_type": "markdown",
     "metadata": {},
     "source": [
      "## combine the csvs from running duration_calc.duration on SGE"
     ]
    },
    {
     "cell_type": "code",
     "collapsed": false,
     "input": [
      "reconlist = '/home/knight/matar/MATLAB/DATA/Avgusta/PCA/reconlist.xlsx'\n",
      "reconlist = pd.ExcelFile(reconlist).parse('Sheet1')"
     ],
     "language": "python",
     "metadata": {},
     "outputs": [],
     "prompt_number": 57
    },
    {
     "cell_type": "code",
     "collapsed": false,
     "input": [
      "SJdir = '/home/knight/matar/MATLAB/DATA/Avgusta/'\n",
      "datadir = os.path.join(SJdir, 'PCA','duration_dict')"
     ],
     "language": "python",
     "metadata": {},
     "outputs": [],
     "prompt_number": 58
    },
    {
     "cell_type": "code",
     "collapsed": false,
     "input": [
      "dur = pd.DataFrame(columns =  ['R','p','clusters', 'tstat', 'ttest_p','mean','best_onset', 'onset'])"
     ],
     "language": "python",
     "metadata": {},
     "outputs": [],
     "prompt_number": 59
    },
    {
     "cell_type": "code",
     "collapsed": false,
     "input": [
      "for x in reconlist.values:\n",
      "    subj_task, recon, _, _ = x\n",
      "    subj, task = subj_task.split('_')\n",
      "    if not(isinstance(recon, float)): #recon exists\n",
      "        file_path = os.path.join(datadir, ''.join([subj_task, '.csv']))\n",
      "        if os.path.isfile(file_path):\n",
      "            a= pd.read_csv(file_path, parse_dates = False)[['R','clusters','p','tstat','ttest_p','mean','best_onset', 'onset']]\n",
      "            dur = dur.append(a)\n",
      "            "
     ],
     "language": "python",
     "metadata": {},
     "outputs": [],
     "prompt_number": 60
    },
    {
     "cell_type": "code",
     "collapsed": false,
     "input": [
      "dur = dur.reset_index()\n",
      "dur = dur[['clusters','onset','mean','best_onset','R','p']]\n",
      "dur.columns = ['clusters','HGonset', 'mean', 'best_offset','R','p']"
     ],
     "language": "python",
     "metadata": {},
     "outputs": [],
     "prompt_number": 61
    },
    {
     "cell_type": "code",
     "collapsed": false,
     "input": [
      "dur[dur.clusters == 'ST6_SelfAud_c1.mat']"
     ],
     "language": "python",
     "metadata": {},
     "outputs": [
      {
       "html": [
        "<div style=\"max-height:1000px;max-width:1500px;overflow:auto;\">\n",
        "<table border=\"1\" class=\"dataframe\">\n",
        "  <thead>\n",
        "    <tr style=\"text-align: right;\">\n",
        "      <th></th>\n",
        "      <th>clusters</th>\n",
        "      <th>HGonset</th>\n",
        "      <th>mean</th>\n",
        "      <th>best_offset</th>\n",
        "      <th>R</th>\n",
        "      <th>p</th>\n",
        "    </tr>\n",
        "  </thead>\n",
        "  <tbody>\n",
        "    <tr>\n",
        "      <th>103</th>\n",
        "      <td> ST6_SelfAud_c1.mat</td>\n",
        "      <td> 23</td>\n",
        "      <td> 7.204569</td>\n",
        "      <td> -450</td>\n",
        "      <td> 0.2551677</td>\n",
        "      <td> 0.609</td>\n",
        "    </tr>\n",
        "  </tbody>\n",
        "</table>\n",
        "<p>1 rows \u00d7 6 columns</p>\n",
        "</div>"
       ],
       "metadata": {},
       "output_type": "pyout",
       "prompt_number": 62,
       "text": [
        "               clusters HGonset      mean best_offset          R      p\n",
        "103  ST6_SelfAud_c1.mat      23  7.204569        -450  0.2551677  0.609\n",
        "\n",
        "[1 rows x 6 columns]"
       ]
      }
     ],
     "prompt_number": 62
    },
    {
     "cell_type": "code",
     "collapsed": false,
     "input": [
      "filename = os.path.join(SJdir, 'PCA','duration_dict', 'duration_allclusters.csv') #aka in datadir\n",
      "print filename\n",
      "dur.to_csv(filename)"
     ],
     "language": "python",
     "metadata": {},
     "outputs": [
      {
       "output_type": "stream",
       "stream": "stdout",
       "text": [
        "/home/knight/matar/MATLAB/DATA/Avgusta/PCA/duration_dict/duration_allclusters.csv\n"
       ]
      }
     ],
     "prompt_number": 63
    },
    {
     "cell_type": "markdown",
     "metadata": {},
     "source": [
      "## add duration column to groupidx_activeelec"
     ]
    },
    {
     "cell_type": "code",
     "collapsed": false,
     "input": [
      "filename = os.path.join(SJdir, 'PCA','duration_dict', 'duration_allclusters.csv') #aka in datadir\n",
      "df_dur = pd.read_csv(filename)"
     ],
     "language": "python",
     "metadata": {},
     "outputs": [],
     "prompt_number": 72
    },
    {
     "cell_type": "code",
     "collapsed": false,
     "input": [
      "df_dur['subj'] = [x.split('_')[0] for x in list(df_dur.clusters)]\n",
      "df_dur['task'] = [x.split('_')[1] for x in list(df_dur.clusters)]\n",
      "df_dur['group'] = [int(x.split('_')[-1].split('.')[0][1:]) for x in list(df_dur.clusters)]\n"
     ],
     "language": "python",
     "metadata": {},
     "outputs": [],
     "prompt_number": 73
    },
    {
     "cell_type": "code",
     "collapsed": false,
     "input": [
      "#df_dur = df_dur[['subj','task','group','R','p', 'best_onset']]\n",
      "#df_dur.columns = [['subj','task','group','Rvals', 'pvals', 'best_onset']]\n",
      "df_dur = df_dur[['subj','task','group','R','p', 'best_offset','mean', 'HGonset']]\n",
      "df_dur.columns = [['subj','task','group','Rvals', 'pvals', 'best_offset','mean', 'HGonset']]"
     ],
     "language": "python",
     "metadata": {},
     "outputs": [],
     "prompt_number": 74
    },
    {
     "cell_type": "code",
     "collapsed": false,
     "input": [
      "df_active = pd.DataFrame.from_csv(os.path.join(SJdir,'PCA', 'hclust','groupidx_activeclusters_hclust_thresh15.csv'))"
     ],
     "language": "python",
     "metadata": {},
     "outputs": [],
     "prompt_number": 75
    },
    {
     "cell_type": "code",
     "collapsed": false,
     "input": [
      "df_all = pd.merge(df_dur, df_active, how = 'inner') #lose ST1_EmoRep and ST1_FaceGen"
     ],
     "language": "python",
     "metadata": {},
     "outputs": [],
     "prompt_number": 76
    },
    {
     "cell_type": "code",
     "collapsed": false,
     "input": [
      "df_all = df_all[['subj','task', 'group','active_cluster_stim','active_cluster_resp','HGonset','best_offset','Rvals', 'pvals', 'active_elecs','mean']]"
     ],
     "language": "python",
     "metadata": {},
     "outputs": [],
     "prompt_number": 77
    },
    {
     "cell_type": "code",
     "collapsed": false,
     "input": [
      "np.setdiff1d(pd.merge(df_dur, df_active, how = 'outer').subj_task, pd.merge(df_dur, df_active, how = 'inner').subj_task)"
     ],
     "language": "python",
     "metadata": {},
     "outputs": [
      {
       "metadata": {},
       "output_type": "pyout",
       "prompt_number": 78,
       "text": [
        "array(['ST1_EmoRep', 'ST1_FaceGen'], \n",
        "      dtype='|S16')"
       ]
      }
     ],
     "prompt_number": 78
    },
    {
     "cell_type": "code",
     "collapsed": false,
     "input": [
      "df_all.to_csv(os.path.join(SJdir, 'PCA', 'duration_dict', 'groupidx_activeclusters_hclust_withduration_thresh15.csv'))"
     ],
     "language": "python",
     "metadata": {},
     "outputs": [],
     "prompt_number": 79
    },
    {
     "cell_type": "markdown",
     "metadata": {},
     "source": [
      "## calculate peak activity on resp-locked mean traces\n",
      "### and add to groupidx_active_clusters_hclust_withduration_thresh15.csv"
     ]
    },
    {
     "cell_type": "code",
     "collapsed": false,
     "input": [
      "import scipy.io as spio\n",
      "import matplotlib.pyplot as plt\n",
      "import pandas as pd\n",
      "import os\n",
      "from __future__ import division"
     ],
     "language": "python",
     "metadata": {},
     "outputs": [],
     "prompt_number": 1
    },
    {
     "cell_type": "code",
     "collapsed": false,
     "input": [
      "SJdir = '/home/knight/matar/MATLAB/DATA/Avgusta/'\n",
      "df_all = pd.read_csv(os.path.join(SJdir, 'PCA', 'duration_dict', 'groupidx_activeclusters_hclust_withduration_thresh15.csv'))\n",
      "df_all = df_all[['subj','task', 'group','active_cluster_stim','active_cluster_resp','HGonset','best_offset','Rvals', 'pvals', 'active_elecs','mean']]"
     ],
     "language": "python",
     "metadata": {},
     "outputs": [],
     "prompt_number": 2
    },
    {
     "cell_type": "code",
     "collapsed": false,
     "input": [
      "clusters_resp.iloc[-st_tp::].plot(np.arange(0, len(clusters_resp)+st_tp))\n",
      "plt.plot(clusters_resp.iloc[-st_tp::].idxmax().apply(lambda x: (x+st_tp).flatten()[0]).values, clusters_resp.iloc[-st_tp::].max(),'ko')\n"
     ],
     "language": "python",
     "metadata": {},
     "outputs": [
      {
       "metadata": {},
       "output_type": "pyout",
       "prompt_number": 40,
       "text": [
        "[<matplotlib.lines.Line2D at 0x8ea23d0>]"
       ]
      },
      {
       "metadata": {},
       "output_type": "display_data",
       "png": "[encoded data removed]",
       "text": [
        "<matplotlib.figure.Figure at 0x8e61350>"
       ]
      }
     ],
     "prompt_number": 40
    },
    {
     "cell_type": "code",
     "collapsed": false,
     "input": [
      "max_RT= list(); clusters = list(); subjs = list(); tasks = list(); post_RT = list()\n",
      "for subj_task in df_all[['subj','task']].groupby(['subj','task']):\n",
      "    subj, task = subj_task[0]\n",
      "    \n",
      "    filename = os.path.join(SJdir, 'PCA','ShadePlots_hclust_thresh15', '_'.join([subj, task, 'cdata_resp.mat']))\n",
      "    data = spio.loadmat(filename, struct_as_record = True)\n",
      "    params = data['Params'].flatten()\n",
      "    srate = data['srate']\n",
      "    data = data['cdata_resp_all']\n",
      "    st_tp = params['st'][0]/1000*srate\n",
      "    en_tp = params['en'][0]/1000*srate\n",
      "\n",
      "    c = list()\n",
      "    [c.append(str(x[0])) for x in data[:,0]]\n",
      "    c = [x.split('_')[-1].split('.')[0] for x in c]\n",
      "    cdict = dict(zip(c, [x.mean(axis = 0) for x in data[:,1]]))\n",
      "    clusters_resp= pd.DataFrame(cdict)\n",
      "\n",
      "    #sort column indices (important if have >=10 clusters)\n",
      "    cols = [x.split('c') for x in clusters_resp.columns]\n",
      "    cols = [x[-1] for x in cols]\n",
      "    cols = map(str, np.sort(map(int, cols)))\n",
      "\n",
      "    #append c\n",
      "    cols = [''.join(['c', x]) for x in cols]\n",
      "\n",
      "    #reorder columsn\n",
      "    clusters_resp = clusters_resp[cols]\n",
      "\n",
      "    post_RT.extend(clusters_resp.iloc[-st_tp::].idxmax().apply(lambda x: (x+st_tp).flatten()[0]).values)\n",
      "    max_RT.extend(clusters_resp.idxmax().apply(lambda x: (x+st_tp).flatten()[0]).values)\n",
      "    clusters.extend(clusters_resp.idxmax().index)\n",
      "    subjs.extend(np.tile(subj, len(clusters_resp.columns)))\n",
      "    tasks.extend(np.tile(task, len(clusters_resp.columns)))\n",
      "    \n",
      "    filename = os.path.join(SJdir, 'PCA', 'RTlocked_peaks', ''.join([subj, '_', task, '_postRT.png']))\n",
      "    ax = clusters_resp.iloc[-st_tp::].plot(np.arange(0, len(clusters_resp)+st_tp))\n",
      "    ax.plot(clusters_resp.iloc[-st_tp::].idxmax().apply(lambda x: (x+st_tp).flatten()[0]).values, clusters_resp.iloc[-st_tp::].max(),'ko')\n",
      "    ax.set_title(' '.join([subj, task]))\n",
      "    savefig(filename)\n",
      "    plt.close()\n",
      "    \n",
      "    #filename = os.path.join(SJdir, 'PCA', 'RTlocked_peaks', ''.join([subj, '_', task, '.png']))\n",
      "    #ax = clusters_resp.plot(np.arange(st_tp, en_tp+1))\n",
      "    #ax.plot(clusters_resp.idxmax().apply(lambda x: (x+st_tp).flatten()[0]).values, clusters_resp.max() , 'ko', linewidth = 2)\n",
      "    #ax.set_title(' '.join([subj, task]))\n",
      "    #savefig(filename)\n",
      "    #plt.close()\n",
      "    \n",
      "    #print clusters_resp.idxmax().apply(lambda x: x/srate*1000-500) - clusters_resp.idxmax().apply(lambda x: (x+st_tp)/srate*1000)\n"
     ],
     "language": "python",
     "metadata": {},
     "outputs": [],
     "prompt_number": 41
    },
    {
     "cell_type": "code",
     "collapsed": false,
     "input": [
      "clusters = [int(x[1:]) for x in clusters]"
     ],
     "language": "python",
     "metadata": {},
     "outputs": [],
     "prompt_number": 42
    },
    {
     "cell_type": "code",
     "collapsed": false,
     "input": [
      "df = pd.DataFrame({'subj':subjs, 'task': tasks, 'group':clusters, 'max_resplocked':max_RT, 'postRT_max':post_RT})"
     ],
     "language": "python",
     "metadata": {},
     "outputs": [],
     "prompt_number": 43
    },
    {
     "cell_type": "code",
     "collapsed": false,
     "input": [
      "dfnew = pd.merge(df, df_all, how = 'outer') #will include all clusters - but no value for those with no resp locked activity"
     ],
     "language": "python",
     "metadata": {},
     "outputs": [],
     "prompt_number": 44
    },
    {
     "cell_type": "code",
     "collapsed": false,
     "input": [
      "dfnew.columns"
     ],
     "language": "python",
     "metadata": {},
     "outputs": [
      {
       "metadata": {},
       "output_type": "pyout",
       "prompt_number": 45,
       "text": [
        "Index([u'group', u'max_resplocked', u'postRT_max', u'subj', u'task', u'active_cluster_stim', u'active_cluster_resp', u'HGonset', u'best_offset', u'Rvals', u'pvals', u'active_elecs', u'mean'], dtype='object')"
       ]
      }
     ],
     "prompt_number": 45
    },
    {
     "cell_type": "code",
     "collapsed": false,
     "input": [
      "dfnew = dfnew[['subj','task', 'group','active_cluster_stim','active_cluster_resp','HGonset','best_offset','Rvals', 'pvals', 'active_elecs','mean', 'max_resplocked', 'postRT_max']]"
     ],
     "language": "python",
     "metadata": {},
     "outputs": [],
     "prompt_number": 46
    },
    {
     "cell_type": "code",
     "collapsed": false,
     "input": [
      "dfnew.to_csv(os.path.join(SJdir, 'PCA','duration_dict', 'groupidx_activeclusters_hclust_withduration_thresh15_maxRTlocked.csv'))"
     ],
     "language": "python",
     "metadata": {},
     "outputs": [],
     "prompt_number": 47
    },
    {
     "cell_type": "code",
     "collapsed": false,
     "input": [
      "st_tp = -500/1000*srate\n",
      "en_tp = 500/1000*srate\n",
      "clusters_resp.plot(np.arange(st_tp, en_tp+1))\n",
      "plot(clusters_resp.idxmax().apply(lambda x: (x+st_tp).flatten()[0]).values, clusters_resp.max() , 'ko')"
     ],
     "language": "python",
     "metadata": {},
     "outputs": [
      {
       "metadata": {},
       "output_type": "pyout",
       "prompt_number": 89,
       "text": [
        "[<matplotlib.lines.Line2D at 0x10a9cd50>]"
       ]
      },
      {
       "metadata": {},
       "output_type": "display_data",
       "png": "[encoded data removed]",
       "text": [
        "<matplotlib.figure.Figure at 0x10a9cc90>"
       ]
      }
     ],
     "prompt_number": 89
    },
    {
     "cell_type": "code",
     "collapsed": false,
     "input": [
      "clusters_resp.idxmax().apply(lambda x: (x+st_tp).flatten()[0]).values"
     ],
     "language": "python",
     "metadata": {},
     "outputs": [
      {
       "metadata": {},
       "output_type": "pyout",
       "prompt_number": 90,
       "text": [
        "array([-242.62666667,  245.37333333])"
       ]
      }
     ],
     "prompt_number": 90
    },
    {
     "cell_type": "markdown",
     "metadata": {},
     "source": [
      "## this is the code that went into duration_calc.py (duration_calc.duration)"
     ]
    },
    {
     "cell_type": "code",
     "collapsed": false,
     "input": [
      "import pandas as pd\n",
      "import os\n",
      "import scipy.io as spio\n",
      "import scipy.stats as stats\n",
      "from __future__ import division\n",
      "import numpy as np\n",
      "import cPickle as pickle\n",
      "import matplotlib.pyplot as plt"
     ],
     "language": "python",
     "metadata": {},
     "outputs": [],
     "prompt_number": 3
    },
    {
     "cell_type": "code",
     "collapsed": false,
     "input": [
      "SJdir = '/home/knight/matar/MATLAB/DATA/Avgusta/'\n",
      "subj = 'GP15'\n",
      "task = 'FaceEmo'\n",
      "start_time  = 0\n",
      "stop_time_pre = -1000\n",
      "stop_time_post = 525\n",
      "step = 25\n",
      "numiter = 1000\n"
     ],
     "language": "python",
     "metadata": {},
     "outputs": [],
     "prompt_number": 60
    },
    {
     "cell_type": "code",
     "collapsed": false,
     "input": [
      "#load TvD (to know which clusters signficant, and their onsets)\n",
      "filename = os.path.join(SJdir, 'PCA','ShadePlots_hclust_thresh15', '_'.join([subj, task, 'TvD.mat']))\n",
      "data = spio.loadmat(filename)\n",
      "\n",
      "params = data['Params']\n",
      "TvD = data['TvD']\n",
      "srate = data['srate']\n",
      "\n",
      "clusters = list()\n",
      "for i, c  in enumerate(TvD[:,0]):\n",
      "    clusters.append((str(c[0]), TvD[i,3].squeeze()))\n",
      "    \n",
      "#RESP LOCKED\n",
      "filename = os.path.join(SJdir, 'PCA','ShadePlots_hclust_thresh15', '_'.join([subj, task, 'TvD_resp.mat']))\n",
      "data = spio.loadmat(filename)\n",
      "TvD_resp = data['TvD']\n",
      "\n",
      "for i, c  in enumerate(np.setdiff1d(TvD_resp[:,0], TvD[:,0])): #purely resp locked, not stim locked\n",
      "    clusters.append((str(c[0]), np.array(round(250/1000*srate)).reshape(1,1)))\n"
     ],
     "language": "python",
     "metadata": {},
     "outputs": [],
     "prompt_number": 61
    },
    {
     "cell_type": "code",
     "collapsed": false,
     "input": [
      "#load cluster single trial data \n",
      "#for x in clusters:\n",
      "y = 2\n",
      "x = clusters[y]\n",
      "filename = os.path.join(SJdir, 'PCA','SingleTrials_hclust', x[0]) \n",
      "data = spio.loadmat(filename)\n",
      "cdata = data['cdata']\n",
      "RTs = data['RTs_all'].squeeze()\n",
      "srate = data['srate']\n",
      "\n",
      "x"
     ],
     "language": "python",
     "metadata": {},
     "outputs": [
      {
       "metadata": {},
       "output_type": "pyout",
       "prompt_number": 89,
       "text": [
        "('GP15_FaceEmo_c3.mat', array([111, 835], dtype=uint16))"
       ]
      }
     ],
     "prompt_number": 89
    },
    {
     "cell_type": "code",
     "collapsed": false,
     "input": [
      "bl_st = round(int(params['bl_st'])/1000*srate) #baseline offset\n",
      "#onset = TvD[y,3].flatten()[0] #start of significant activity \n",
      "onset = x[1].flatten()[0]\n",
      "\n",
      "#sliding window from onset:resp-stop in steps of stepsize\n",
      "st_tp = round(start_time/1000*srate)#start at st_tp + start\n",
      "stepsize = round(step/1000*srate) #sliding window size\n",
      "\n",
      "onset"
     ],
     "language": "python",
     "metadata": {},
     "outputs": [
      {
       "metadata": {},
       "output_type": "pyout",
       "prompt_number": 90,
       "text": [
        "111"
       ]
      }
     ],
     "prompt_number": 90
    },
    {
     "cell_type": "code",
     "collapsed": false,
     "input": [
      "RTdict = dict()\n",
      "for s in np.arange(stop_time_pre/1000*srate, stop_time_post/1000*srate, step/1000*srate):\n",
      "    RTmtx = np.zeros_like(cdata)\n",
      "    for i in np.arange(RTmtx.shape[0]):\n",
      "        RTmtx[i, abs(bl_st)+onset+st_tp : abs(bl_st)+RTs[i]+s] = 1\n",
      "    if RTmtx.any():\n",
      "        RTdict[str(int(s/srate*1000))] = RTmtx"
     ],
     "language": "python",
     "metadata": {},
     "outputs": [],
     "prompt_number": 91
    },
    {
     "cell_type": "code",
     "collapsed": false,
     "input": [
      "#plt.imshow(RTdict['-200']-RTdict['75'])\n",
      "#plt.subplot(121)\n",
      "#plt.imshow(RTdict['-200'])\n",
      "#plt.subplot(122)\n",
      "plt.imshow(RTdict['74'])"
     ],
     "language": "python",
     "metadata": {},
     "outputs": [
      {
       "metadata": {},
       "output_type": "pyout",
       "prompt_number": 92,
       "text": [
        "<matplotlib.image.AxesImage at 0x807a8c90>"
       ]
      },
      {
       "metadata": {},
       "output_type": "display_data",
       "png": "[encoded data removed]",
       "text": [
        "<matplotlib.figure.Figure at 0x3170c790>"
       ]
      }
     ],
     "prompt_number": 92
    },
    {
     "cell_type": "code",
     "collapsed": false,
     "input": [
      "#find R matrix with highest correlation\n",
      "Rs = list()\n",
      "for r in np.sort(RTdict.keys()):\n",
      "    RTmtx = RTdict[r]\n",
      "    Rs.append(stats.pearsonr(RTmtx.flatten(), cdata.flatten())[0])\n",
      "best = np.sort(RTdict.keys())[np.argmax(Rs)] #design matrix with highest correlation\n",
      "RTmtx = RTdict[best]\n",
      "R = max(Rs)\n",
      "print best"
     ],
     "language": "python",
     "metadata": {},
     "outputs": [
      {
       "output_type": "stream",
       "stream": "stdout",
       "text": [
        "-125\n"
       ]
      }
     ],
     "prompt_number": 93
    },
    {
     "cell_type": "code",
     "collapsed": false,
     "input": [
      "#import matplotlib.cm as cm\n",
      "filename = os.path.join('/home/knight/matar/',''.join([x[0].split('.')[0], '.png']))\n",
      "print filename\n",
      "f,ax = plt.subplots(figsize = (10,10))\n",
      "ax.autoscale(enable = True, tight = True)\n",
      "cax = ax.imshow(cdata, zorder = 0, origin = 'upper')\n",
      "cax.set_clim(vmin=-150,vmax=150)\n",
      "ax.imshow(RTdict[best], alpha = 0.2, cmap = cm.Greys_r, zorder = 1, origin = 'upper')\n",
      "plt.savefig(filename, bbox_inches='tight')"
     ],
     "language": "python",
     "metadata": {},
     "outputs": [
      {
       "output_type": "stream",
       "stream": "stdout",
       "text": [
        "/home/knight/matar/GP15_FaceEmo_c3.png\n"
       ]
      },
      {
       "metadata": {},
       "output_type": "display_data",
       "png": "[encoded data removed]",
       "text": [
        "<matplotlib.figure.Figure at 0x807d0f50>"
       ]
      }
     ],
     "prompt_number": 94
    },
    {
     "cell_type": "code",
     "collapsed": false,
     "input": [
      "#save each matrix as mat file with its corresponding R value (for avgusta)\n",
      "for r, q in enumerate(clusters):\n",
      "    c = q[0]\n",
      "    onset = q[1].flatten()[0]\n",
      "    print onset\n",
      "    print c\n",
      "    RTdict = dict()\n",
      "    Rs = list()\n",
      "    filename = os.path.join(SJdir, 'PCA','SingleTrials_hclust', c) \n",
      "    data = spio.loadmat(filename)\n",
      "    cdata = data['cdata']\n",
      "    RTs = data['RTs_all'].flatten()\n",
      "    for q, s in enumerate(np.arange(stop_time_pre/1000*srate, stop_time_post/1000*srate, step/1000*srate)):\n",
      "        RTmtx = np.zeros_like(cdata)\n",
      "        for i in np.arange(RTmtx.shape[0]):\n",
      "            RTmtx[i, abs(bl_st)+onset+st_tp : abs(bl_st)+RTs[i]+s] = 1\n",
      "        if RTmtx.any():\n",
      "            RTdict['_'.join(['x', str(q) ,str(abs(int(s/srate*1000)))])] = RTmtx\n",
      "            Rs.append((stats.pearsonr(RTmtx.flatten(), cdata.flatten())[0], s))\n",
      "        RTdict['R'] = Rs #zip(Rs, np.arange(stop_time_pre/1000*srate, stop_time_post/1000*srate, step/1000*srate))\n",
      "    print max(Rs)\n",
      "    filename = os.path.join('/home/knight/matar/','_'.join(['RTmtx',c]))\n",
      "    spio.savemat(filename, RTdict)\n",
      "    \n",
      "    "
     ],
     "language": "python",
     "metadata": {},
     "outputs": [
      {
       "output_type": "stream",
       "stream": "stdout",
       "text": [
        "78\n",
        "JH17_SelfAud_c1.mat\n",
        "(0.23899580386031591, -600.0)"
       ]
      },
      {
       "output_type": "stream",
       "stream": "stdout",
       "text": [
        "\n",
        "289"
       ]
      },
      {
       "output_type": "stream",
       "stream": "stdout",
       "text": [
        "\n",
        "JH17_SelfAud_c2.mat\n",
        "(0.193805872604114, -400.0)"
       ]
      },
      {
       "output_type": "stream",
       "stream": "stdout",
       "text": [
        "\n",
        "371"
       ]
      },
      {
       "output_type": "stream",
       "stream": "stdout",
       "text": [
        "\n",
        "JH17_SelfAud_c3.mat\n",
        "(0.14342329930125677, -450.0)"
       ]
      },
      {
       "output_type": "stream",
       "stream": "stdout",
       "text": [
        "\n",
        "458"
       ]
      },
      {
       "output_type": "stream",
       "stream": "stdout",
       "text": [
        "\n",
        "JH17_SelfAud_c5.mat\n",
        "(0.039214936322322556, 75.0)"
       ]
      },
      {
       "output_type": "stream",
       "stream": "stdout",
       "text": [
        "\n",
        "495"
       ]
      },
      {
       "output_type": "stream",
       "stream": "stdout",
       "text": [
        "\n",
        "JH17_SelfAud_c6.mat\n",
        "(0.19271755778791833, 75.0)"
       ]
      },
      {
       "output_type": "stream",
       "stream": "stdout",
       "text": [
        "\n",
        "497"
       ]
      },
      {
       "output_type": "stream",
       "stream": "stdout",
       "text": [
        "\n",
        "JH17_SelfAud_c7.mat\n",
        "(0.12404915470211908, -150.0)"
       ]
      },
      {
       "output_type": "stream",
       "stream": "stdout",
       "text": [
        "\n"
       ]
      }
     ],
     "prompt_number": 1080
    },
    {
     "cell_type": "code",
     "collapsed": false,
     "input": [
      "Rs"
     ],
     "language": "python",
     "metadata": {},
     "outputs": [
      {
       "metadata": {},
       "output_type": "pyout",
       "prompt_number": 948,
       "text": [
        "[(0.1889846139760932, -203.45066666666671),\n",
        " (0.19138203453646951, -178.01933333333338),\n",
        " (0.19365197489225425, -152.58800000000005),\n",
        " (0.19562741179713816, -127.15666666666672),\n",
        " (0.19753204038158961, -101.7253333333334),\n",
        " (0.19933574668947598, -76.294000000000068),\n",
        " (0.2015621836312658, -50.86266666666674),\n",
        " (0.20420161816836396, -25.431333333333413),\n",
        " (0.20677688478673736, -8.5265128291212022e-14),\n",
        " (0.20864408170609158, 25.431333333333242),\n",
        " (0.20976565967513286, 50.86266666666657),\n",
        " (0.21084221563290159, 76.293999999999897)]"
       ]
      }
     ],
     "prompt_number": 948
    },
    {
     "cell_type": "code",
     "collapsed": false,
     "input": [
      "R"
     ],
     "language": "python",
     "metadata": {},
     "outputs": [
      {
       "metadata": {},
       "output_type": "pyout",
       "prompt_number": 609,
       "text": [
        "0.05899455875594966"
       ]
      }
     ],
     "prompt_number": 609
    },
    {
     "cell_type": "code",
     "collapsed": false,
     "input": [
      "cdata[np.logical_not(RTmtx)].mean()"
     ],
     "language": "python",
     "metadata": {},
     "outputs": [
      {
       "metadata": {},
       "output_type": "pyout",
       "prompt_number": 598,
       "text": [
        "9.2297444914782965"
       ]
      }
     ],
     "prompt_number": 598
    },
    {
     "cell_type": "code",
     "collapsed": false,
     "input": [
      "#calculate 1 sample ttest for data\n",
      "[t, ttest_p] = stats.ttest_1samp(cdata[np.logical_not(RTmtx)],0)\n",
      "#print t, ttest_p\n",
      "#stats.ttest_ind(cdata.flatten(), RTmtx.flatten(), equal_var = False)\n"
     ],
     "language": "python",
     "metadata": {},
     "outputs": [
      {
       "output_type": "stream",
       "stream": "stdout",
       "text": [
        "86.0221586327 0.0\n"
       ]
      },
      {
       "metadata": {},
       "output_type": "pyout",
       "prompt_number": 220,
       "text": [
        "(array(297.7874981309117), 0.0)"
       ]
      }
     ],
     "prompt_number": 220
    },
    {
     "cell_type": "code",
     "collapsed": false,
     "input": [
      "np.hstack(RTmtx[idx,:]).shape\n",
      "RTmtx[idx,:].flatten().shape"
     ],
     "language": "python",
     "metadata": {},
     "outputs": [
      {
       "ename": "IndexError",
       "evalue": "index 893 is out of bounds for axis 0 with size 574",
       "output_type": "pyerr",
       "traceback": [
        "\u001b[1;31m---------------------------------------------------------------------------\u001b[0m\n\u001b[1;31mIndexError\u001b[0m                                Traceback (most recent call last)",
        "\u001b[1;32m<ipython-input-302-d5d651af59f7>\u001b[0m in \u001b[0;36m<module>\u001b[1;34m()\u001b[0m\n\u001b[1;32m----> 1\u001b[1;33m \u001b[0mnp\u001b[0m\u001b[1;33m.\u001b[0m\u001b[0mhstack\u001b[0m\u001b[1;33m(\u001b[0m\u001b[0mRTmtx\u001b[0m\u001b[1;33m[\u001b[0m\u001b[0midx\u001b[0m\u001b[1;33m,\u001b[0m\u001b[1;33m:\u001b[0m\u001b[1;33m]\u001b[0m\u001b[1;33m)\u001b[0m\u001b[1;33m.\u001b[0m\u001b[0mshape\u001b[0m\u001b[1;33m\u001b[0m\u001b[0m\n\u001b[0m\u001b[0;32m      2\u001b[0m \u001b[0mRTmtx\u001b[0m\u001b[1;33m[\u001b[0m\u001b[0midx\u001b[0m\u001b[1;33m,\u001b[0m\u001b[1;33m:\u001b[0m\u001b[1;33m]\u001b[0m\u001b[1;33m.\u001b[0m\u001b[0mflatten\u001b[0m\u001b[1;33m(\u001b[0m\u001b[1;33m)\u001b[0m\u001b[1;33m.\u001b[0m\u001b[0mshape\u001b[0m\u001b[1;33m\u001b[0m\u001b[0m\n",
        "\u001b[1;31mIndexError\u001b[0m: index 893 is out of bounds for axis 0 with size 574"
       ]
      }
     ],
     "prompt_number": 302
    },
    {
     "cell_type": "code",
     "collapsed": false,
     "input": [
      "#calculate pvalue for the best design matrix\n",
      "surr = np.zeros(numiter)\n",
      "for j in np.arange(numiter):\n",
      "    idx = np.random.choice(np.arange(RTmtx.shape[0]), size = RTmtx.shape[0], replace = False)\n",
      "    surr[j] = stats.pearsonr(RTmtx[idx,:].flatten(), cdata.flatten())[0]\n",
      "    #surr[j] = stats.pointbiserialr(RTmtx[idx,:].flatten(), cdata.flatten())[0]\n",
      "    if not(j % 50):\n",
      "        print j"
     ],
     "language": "python",
     "metadata": {},
     "outputs": [
      {
       "output_type": "stream",
       "stream": "stdout",
       "text": [
        "0\n",
        "50"
       ]
      },
      {
       "output_type": "stream",
       "stream": "stdout",
       "text": [
        "\n",
        "100"
       ]
      },
      {
       "output_type": "stream",
       "stream": "stdout",
       "text": [
        "\n",
        "150"
       ]
      },
      {
       "output_type": "stream",
       "stream": "stdout",
       "text": [
        "\n",
        "200"
       ]
      },
      {
       "output_type": "stream",
       "stream": "stdout",
       "text": [
        "\n",
        "250"
       ]
      },
      {
       "output_type": "stream",
       "stream": "stdout",
       "text": [
        "\n",
        "300"
       ]
      },
      {
       "output_type": "stream",
       "stream": "stdout",
       "text": [
        "\n",
        "350"
       ]
      },
      {
       "output_type": "stream",
       "stream": "stdout",
       "text": [
        "\n",
        "400"
       ]
      },
      {
       "output_type": "stream",
       "stream": "stdout",
       "text": [
        "\n",
        "450"
       ]
      },
      {
       "output_type": "stream",
       "stream": "stdout",
       "text": [
        "\n",
        "500"
       ]
      },
      {
       "output_type": "stream",
       "stream": "stdout",
       "text": [
        "\n",
        "550"
       ]
      },
      {
       "output_type": "stream",
       "stream": "stdout",
       "text": [
        "\n",
        "600"
       ]
      },
      {
       "output_type": "stream",
       "stream": "stdout",
       "text": [
        "\n",
        "650"
       ]
      },
      {
       "output_type": "stream",
       "stream": "stdout",
       "text": [
        "\n",
        "700"
       ]
      },
      {
       "output_type": "stream",
       "stream": "stdout",
       "text": [
        "\n",
        "750"
       ]
      },
      {
       "output_type": "stream",
       "stream": "stdout",
       "text": [
        "\n",
        "800"
       ]
      },
      {
       "output_type": "stream",
       "stream": "stdout",
       "text": [
        "\n",
        "850"
       ]
      },
      {
       "output_type": "stream",
       "stream": "stdout",
       "text": [
        "\n",
        "900"
       ]
      },
      {
       "output_type": "stream",
       "stream": "stdout",
       "text": [
        "\n",
        "950"
       ]
      },
      {
       "output_type": "stream",
       "stream": "stdout",
       "text": [
        "\n"
       ]
      }
     ],
     "prompt_number": 305
    },
    {
     "cell_type": "code",
     "collapsed": false,
     "input": [
      "print stats.pearsonr(RTmtx[idx,:].flatten(), cdata.flatten())\n",
      "print R\n",
      "plt.imshow(RTmtx[idx,:])"
     ],
     "language": "python",
     "metadata": {},
     "outputs": [
      {
       "output_type": "stream",
       "stream": "stdout",
       "text": [
        "(0.2268972411448564, 0.0)\n",
        "0.240870555217\n"
       ]
      },
      {
       "metadata": {},
       "output_type": "pyout",
       "prompt_number": 322,
       "text": [
        "<matplotlib.image.AxesImage at 0x4a0bc10>"
       ]
      },
      {
       "metadata": {},
       "output_type": "display_data",
       "png": "[encoded data removed]",
       "text": [
        "<matplotlib.figure.Figure at 0x11d3bb90>"
       ]
      }
     ],
     "prompt_number": 322
    },
    {
     "cell_type": "code",
     "collapsed": false,
     "input": [
      "if R>0:\n",
      "    p = sum(surr>R)/numiter\n",
      "else:\n",
      "    p = sum(surr<R)/numiter\n",
      "if p==0:\n",
      "    p = 1/numiter\n",
      "p"
     ],
     "language": "python",
     "metadata": {},
     "outputs": [
      {
       "metadata": {},
       "output_type": "pyout",
       "prompt_number": 484,
       "text": [
        "0.001"
       ]
      }
     ],
     "prompt_number": 484
    },
    {
     "cell_type": "code",
     "collapsed": false,
     "input": [
      "filename = os.path.join(SJdir, 'PCA','duration', ''.join(['_'.join([subj,task]), '.csv']))\n",
      "filename = os.path.join(SJdir, 'PCA','duration',''.join(['_'.join([subj,task]), '.p']))\n",
      "filename"
     ],
     "language": "python",
     "metadata": {},
     "outputs": [
      {
       "metadata": {},
       "output_type": "pyout",
       "prompt_number": 19,
       "text": [
        "'/home/knight/matar/MATLAB/DATA/Avgusta/PCA/duration/GP15_EmoGen.p'"
       ]
      }
     ],
     "prompt_number": 19
    },
    {
     "cell_type": "markdown",
     "metadata": {},
     "source": [
      "###old stuff below"
     ]
    },
    {
     "cell_type": "code",
     "collapsed": false,
     "input": [
      "#OLD RT matrices\n",
      "#create dictionary of design matrices (RTmtx) OLD\n",
      "stopB =  round(stop_time/1000*srate) #end sliding window at RT-stop\n",
      "stopA = cdata.shape[1]-abs(bl_st)-onset\n",
      "\n",
      "RTdict = dict()\n",
      "for s in np.arange(stopB, stopA, stepsize):\n",
      "    RTmtx = np.zeros_like(cdata)\n",
      "    for i in np.arange(RTmtx.shape[0]):\n",
      "        if RTs[i]-stopB > s:\n",
      "            RTmtx[i, abs(bl_st)+onset+st_tp : (abs(bl_st)+RTs[i]-s)]=1\n",
      "    if RTmtx.any():\n",
      "        RTdict[str(int(s/srate*1000))] = RTmtx"
     ],
     "language": "python",
     "metadata": {},
     "outputs": [],
     "prompt_number": 12
    },
    {
     "cell_type": "code",
     "collapsed": false,
     "input": [
      "\"\"\"\n",
      "#create dictionary of design matrices from onset:RT-200 through onset:RT+100\n",
      "stopB = round(stop_time/1000*srate) #end sliding window at RT+stop\n",
      "stopA = round(-200/1000*srate)\n",
      "\n",
      "RTdict = dict()\n",
      "for s in np.arange(stopA, stopB, stepsize):\n",
      "    RTmtx = np.zeros_like(cdata)\n",
      "    for i in np.arange(RTmtx.shape[0]):\n",
      "        RTmtx[i, abs(bl_st)+onset+st_tp : (abs(bl_st)+RTs[i]-s)] = 1\n",
      "    if RTmtx.any():\n",
      "        RTdict[str(int(s/srate*1000))] = RTmtx"
     ],
     "language": "python",
     "metadata": {},
     "outputs": [
      {
       "ename": "SyntaxError",
       "evalue": "EOF while scanning triple-quoted string literal (<ipython-input-815-fe4d2c9fd9f0>, line 12)",
       "output_type": "pyerr",
       "traceback": [
        "\u001b[1;36m  File \u001b[1;32m\"<ipython-input-815-fe4d2c9fd9f0>\"\u001b[1;36m, line \u001b[1;32m12\u001b[0m\n\u001b[1;33m    RTdict[str(int(s/srate*1000))] = RTmtx\u001b[0m\n\u001b[1;37m                                          \n^\u001b[0m\n\u001b[1;31mSyntaxError\u001b[0m\u001b[1;31m:\u001b[0m EOF while scanning triple-quoted string literal\n"
       ]
      }
     ],
     "prompt_number": 815
    },
    {
     "cell_type": "code",
     "collapsed": false,
     "input": [
      "#create original RTmtx\n",
      "RTmtx = np.zeros_like(cdata)\n",
      "for i in np.arange(RTmtx.shape[0]):\n",
      "    RTmtx[i,abs(bl_st)+st_tp:abs(bl_st)+RTs[i]] = 1"
     ],
     "language": "python",
     "metadata": {},
     "outputs": []
    },
    {
     "cell_type": "code",
     "collapsed": false,
     "input": [
      "R = stats.pearsonr(RTmtx.flatten(), cdata.flatten())[0]"
     ],
     "language": "python",
     "metadata": {},
     "outputs": [],
     "prompt_number": 221
    },
    {
     "cell_type": "code",
     "collapsed": false,
     "input": [],
     "language": "python",
     "metadata": {},
     "outputs": [
      {
       "output_type": "stream",
       "stream": "stdout",
       "text": [
        "(0, 0.09998216765591969)\n",
        "(1, 0.093312432537866349)"
       ]
      },
      {
       "output_type": "stream",
       "stream": "stdout",
       "text": [
        "\n",
        "(2, 0.10266346008660968)"
       ]
      },
      {
       "output_type": "stream",
       "stream": "stdout",
       "text": [
        "\n",
        "(3, 0.087578577734091417)"
       ]
      },
      {
       "output_type": "stream",
       "stream": "stdout",
       "text": [
        "\n",
        "(4, 0.10522651302338751)"
       ]
      },
      {
       "output_type": "stream",
       "stream": "stdout",
       "text": [
        "\n",
        "(5, 0.10116983099230355)"
       ]
      },
      {
       "output_type": "stream",
       "stream": "stdout",
       "text": [
        "\n",
        "(6, 0.10040592460495384)"
       ]
      },
      {
       "output_type": "stream",
       "stream": "stdout",
       "text": [
        "\n",
        "(7, 0.10750917062432962)"
       ]
      },
      {
       "output_type": "stream",
       "stream": "stdout",
       "text": [
        "\n",
        "(8, 0.10001665197640143)"
       ]
      },
      {
       "output_type": "stream",
       "stream": "stdout",
       "text": [
        "\n",
        "(9, 0.098541581784452242)"
       ]
      },
      {
       "output_type": "stream",
       "stream": "stdout",
       "text": [
        "\n",
        "(10, 0.1024991275209866)"
       ]
      },
      {
       "output_type": "stream",
       "stream": "stdout",
       "text": [
        "\n",
        "(11, 0.1037291004324937)"
       ]
      },
      {
       "output_type": "stream",
       "stream": "stdout",
       "text": [
        "\n",
        "(12, 0.09323110381454984)"
       ]
      },
      {
       "output_type": "stream",
       "stream": "stdout",
       "text": [
        "\n",
        "(13, 0.11063739123157053)"
       ]
      },
      {
       "output_type": "stream",
       "stream": "stdout",
       "text": [
        "\n",
        "(14, 0.1002946444266825)"
       ]
      },
      {
       "output_type": "stream",
       "stream": "stdout",
       "text": [
        "\n",
        "(15, 0.10297988437519263)"
       ]
      },
      {
       "output_type": "stream",
       "stream": "stdout",
       "text": [
        "\n",
        "(16, 0.098689281852458871)"
       ]
      },
      {
       "output_type": "stream",
       "stream": "stdout",
       "text": [
        "\n",
        "(17, 0.109879334881113)"
       ]
      },
      {
       "output_type": "stream",
       "stream": "stdout",
       "text": [
        "\n",
        "(18, 0.10066349038454425)"
       ]
      },
      {
       "output_type": "stream",
       "stream": "stdout",
       "text": [
        "\n",
        "(19, 0.10062469719176169)"
       ]
      },
      {
       "output_type": "stream",
       "stream": "stdout",
       "text": [
        "\n",
        "(20, 0.10535397209908764)"
       ]
      },
      {
       "output_type": "stream",
       "stream": "stdout",
       "text": [
        "\n",
        "(21, 0.10403093201371176)"
       ]
      },
      {
       "output_type": "stream",
       "stream": "stdout",
       "text": [
        "\n",
        "(22, 0.099812034772540081)"
       ]
      },
      {
       "output_type": "stream",
       "stream": "stdout",
       "text": [
        "\n",
        "(23, 0.1086380642800307)"
       ]
      },
      {
       "output_type": "stream",
       "stream": "stdout",
       "text": [
        "\n",
        "(24, 0.1040205679196532)"
       ]
      },
      {
       "output_type": "stream",
       "stream": "stdout",
       "text": [
        "\n",
        "(25, 0.1031207759942316)"
       ]
      },
      {
       "output_type": "stream",
       "stream": "stdout",
       "text": [
        "\n",
        "(26, 0.10516435854415321)"
       ]
      },
      {
       "output_type": "stream",
       "stream": "stdout",
       "text": [
        "\n",
        "(27, 0.10572352171105015)"
       ]
      },
      {
       "output_type": "stream",
       "stream": "stdout",
       "text": [
        "\n",
        "(28, 0.1098827073972846)"
       ]
      },
      {
       "output_type": "stream",
       "stream": "stdout",
       "text": [
        "\n",
        "(29, 0.0941979346459898)"
       ]
      },
      {
       "output_type": "stream",
       "stream": "stdout",
       "text": [
        "\n",
        "(30, 0.093683429938672694)"
       ]
      },
      {
       "output_type": "stream",
       "stream": "stdout",
       "text": [
        "\n",
        "(31, 0.10784319491643687)"
       ]
      },
      {
       "output_type": "stream",
       "stream": "stdout",
       "text": [
        "\n",
        "(32, 0.10853102056516337)"
       ]
      },
      {
       "output_type": "stream",
       "stream": "stdout",
       "text": [
        "\n",
        "(33, 0.10297184480387141)"
       ]
      },
      {
       "output_type": "stream",
       "stream": "stdout",
       "text": [
        "\n",
        "(34, 0.10805166850758045)"
       ]
      },
      {
       "output_type": "stream",
       "stream": "stdout",
       "text": [
        "\n",
        "(35, 0.10222791128916502)"
       ]
      },
      {
       "output_type": "stream",
       "stream": "stdout",
       "text": [
        "\n",
        "(36, 0.10353489443245335)"
       ]
      },
      {
       "output_type": "stream",
       "stream": "stdout",
       "text": [
        "\n",
        "(37, 0.10483952300460313)"
       ]
      },
      {
       "output_type": "stream",
       "stream": "stdout",
       "text": [
        "\n",
        "(38, 0.10349578304815453)"
       ]
      },
      {
       "output_type": "stream",
       "stream": "stdout",
       "text": [
        "\n",
        "(39, 0.10509027216219802)"
       ]
      },
      {
       "output_type": "stream",
       "stream": "stdout",
       "text": [
        "\n",
        "(40, 0.10514192544034133)"
       ]
      },
      {
       "output_type": "stream",
       "stream": "stdout",
       "text": [
        "\n",
        "(41, 0.089334161320815897)"
       ]
      },
      {
       "output_type": "stream",
       "stream": "stdout",
       "text": [
        "\n",
        "(42, 0.10437507257097492)"
       ]
      },
      {
       "output_type": "stream",
       "stream": "stdout",
       "text": [
        "\n",
        "(43, 0.099663164594075024)"
       ]
      },
      {
       "output_type": "stream",
       "stream": "stdout",
       "text": [
        "\n",
        "(44, 0.1046791580226888)"
       ]
      },
      {
       "output_type": "stream",
       "stream": "stdout",
       "text": [
        "\n",
        "(45, 0.10306890064525079)"
       ]
      },
      {
       "output_type": "stream",
       "stream": "stdout",
       "text": [
        "\n",
        "(46, 0.10436978819089616)"
       ]
      },
      {
       "output_type": "stream",
       "stream": "stdout",
       "text": [
        "\n",
        "(47, 0.10103033091032786)"
       ]
      },
      {
       "output_type": "stream",
       "stream": "stdout",
       "text": [
        "\n",
        "(48, 0.10000151935635092)"
       ]
      },
      {
       "output_type": "stream",
       "stream": "stdout",
       "text": [
        "\n",
        "(49, 0.10905251124415238)"
       ]
      },
      {
       "output_type": "stream",
       "stream": "stdout",
       "text": [
        "\n",
        "(50, 0.093431648362304318)"
       ]
      },
      {
       "output_type": "stream",
       "stream": "stdout",
       "text": [
        "\n",
        "(51, 0.096021853302991719)"
       ]
      },
      {
       "output_type": "stream",
       "stream": "stdout",
       "text": [
        "\n",
        "(52, 0.093095397110836753)"
       ]
      },
      {
       "output_type": "stream",
       "stream": "stdout",
       "text": [
        "\n",
        "(53, 0.10358232436323672)"
       ]
      },
      {
       "output_type": "stream",
       "stream": "stdout",
       "text": [
        "\n",
        "(54, 0.094561466974070363)"
       ]
      },
      {
       "output_type": "stream",
       "stream": "stdout",
       "text": [
        "\n",
        "(55, 0.099816512061999041)"
       ]
      },
      {
       "output_type": "stream",
       "stream": "stdout",
       "text": [
        "\n",
        "(56, 0.10165607069735841)"
       ]
      },
      {
       "output_type": "stream",
       "stream": "stdout",
       "text": [
        "\n",
        "(57, 0.10105732328480869)"
       ]
      },
      {
       "output_type": "stream",
       "stream": "stdout",
       "text": [
        "\n",
        "(58, 0.1061515714183846)"
       ]
      },
      {
       "output_type": "stream",
       "stream": "stdout",
       "text": [
        "\n",
        "(59, 0.094762357678822462)"
       ]
      },
      {
       "output_type": "stream",
       "stream": "stdout",
       "text": [
        "\n",
        "(60, 0.1078456714075238)"
       ]
      },
      {
       "output_type": "stream",
       "stream": "stdout",
       "text": [
        "\n",
        "(61, 0.099387380405920364)"
       ]
      },
      {
       "output_type": "stream",
       "stream": "stdout",
       "text": [
        "\n",
        "(62, 0.10604892075000098)"
       ]
      },
      {
       "output_type": "stream",
       "stream": "stdout",
       "text": [
        "\n",
        "(63, 0.10092438863899132)"
       ]
      },
      {
       "output_type": "stream",
       "stream": "stdout",
       "text": [
        "\n",
        "(64, 0.11262561120187289)"
       ]
      },
      {
       "output_type": "stream",
       "stream": "stdout",
       "text": [
        "\n",
        "(65, 0.10055370352564601)"
       ]
      },
      {
       "output_type": "stream",
       "stream": "stdout",
       "text": [
        "\n",
        "(66, 0.10065970168126087)"
       ]
      },
      {
       "output_type": "stream",
       "stream": "stdout",
       "text": [
        "\n",
        "(67, 0.10062266191593029)"
       ]
      },
      {
       "output_type": "stream",
       "stream": "stdout",
       "text": [
        "\n",
        "(68, 0.10201260683000242)"
       ]
      },
      {
       "output_type": "stream",
       "stream": "stdout",
       "text": [
        "\n",
        "(69, 0.095893597006818682)"
       ]
      },
      {
       "output_type": "stream",
       "stream": "stdout",
       "text": [
        "\n",
        "(70, 0.11074373868334796)"
       ]
      },
      {
       "output_type": "stream",
       "stream": "stdout",
       "text": [
        "\n",
        "(71, 0.10212967498271106)"
       ]
      },
      {
       "output_type": "stream",
       "stream": "stdout",
       "text": [
        "\n",
        "(72, 0.10426895293516956)"
       ]
      },
      {
       "output_type": "stream",
       "stream": "stdout",
       "text": [
        "\n",
        "(73, 0.11394697601539744)"
       ]
      },
      {
       "output_type": "stream",
       "stream": "stdout",
       "text": [
        "\n",
        "(74, 0.10655937813630875)"
       ]
      },
      {
       "output_type": "stream",
       "stream": "stdout",
       "text": [
        "\n",
        "(75, 0.10294663683151187)"
       ]
      },
      {
       "output_type": "stream",
       "stream": "stdout",
       "text": [
        "\n",
        "(76, 0.08989708710269842)"
       ]
      },
      {
       "output_type": "stream",
       "stream": "stdout",
       "text": [
        "\n",
        "(77, 0.10342518929222876)"
       ]
      },
      {
       "output_type": "stream",
       "stream": "stdout",
       "text": [
        "\n",
        "(78, 0.10065370019064358)"
       ]
      },
      {
       "output_type": "stream",
       "stream": "stdout",
       "text": [
        "\n",
        "(79, 0.10359269632976369)"
       ]
      },
      {
       "output_type": "stream",
       "stream": "stdout",
       "text": [
        "\n",
        "(80, 0.11412438362740279)"
       ]
      },
      {
       "output_type": "stream",
       "stream": "stdout",
       "text": [
        "\n",
        "(81, 0.11383155865467152)"
       ]
      },
      {
       "output_type": "stream",
       "stream": "stdout",
       "text": [
        "\n",
        "(82, 0.093441455930049835)"
       ]
      },
      {
       "output_type": "stream",
       "stream": "stdout",
       "text": [
        "\n",
        "(83, 0.094851681144182978)"
       ]
      },
      {
       "output_type": "stream",
       "stream": "stdout",
       "text": [
        "\n",
        "(84, 0.10395972134623974)"
       ]
      },
      {
       "output_type": "stream",
       "stream": "stdout",
       "text": [
        "\n",
        "(85, 0.10060829600011682)"
       ]
      },
      {
       "output_type": "stream",
       "stream": "stdout",
       "text": [
        "\n",
        "(86, 0.10845790434124923)"
       ]
      },
      {
       "output_type": "stream",
       "stream": "stdout",
       "text": [
        "\n",
        "(87, 0.10787163852883493)"
       ]
      },
      {
       "output_type": "stream",
       "stream": "stdout",
       "text": [
        "\n",
        "(88, 0.096257168174496616)"
       ]
      },
      {
       "output_type": "stream",
       "stream": "stdout",
       "text": [
        "\n",
        "(89, 0.1075762151335517)"
       ]
      },
      {
       "output_type": "stream",
       "stream": "stdout",
       "text": [
        "\n",
        "(90, 0.099327060739641246)"
       ]
      },
      {
       "output_type": "stream",
       "stream": "stdout",
       "text": [
        "\n",
        "(91, 0.10607963305964294)"
       ]
      },
      {
       "output_type": "stream",
       "stream": "stdout",
       "text": [
        "\n",
        "(92, 0.10339468419048581)"
       ]
      },
      {
       "output_type": "stream",
       "stream": "stdout",
       "text": [
        "\n",
        "(93, 0.1087688758486437)"
       ]
      },
      {
       "output_type": "stream",
       "stream": "stdout",
       "text": [
        "\n",
        "(94, 0.11088676169079179)"
       ]
      },
      {
       "output_type": "stream",
       "stream": "stdout",
       "text": [
        "\n",
        "(95, 0.12101944188124641)"
       ]
      },
      {
       "output_type": "stream",
       "stream": "stdout",
       "text": [
        "\n",
        "(96, 0.10583871705142738)"
       ]
      },
      {
       "output_type": "stream",
       "stream": "stdout",
       "text": [
        "\n",
        "(97, 0.097829008922752161)"
       ]
      },
      {
       "output_type": "stream",
       "stream": "stdout",
       "text": [
        "\n",
        "(98, 0.10174744552755885)"
       ]
      },
      {
       "output_type": "stream",
       "stream": "stdout",
       "text": [
        "\n",
        "(99, 0.10577994063028071)"
       ]
      },
      {
       "output_type": "stream",
       "stream": "stdout",
       "text": [
        "\n"
       ]
      }
     ],
     "prompt_number": 218
    }
   ],
   "metadata": {}
  }
 ]
}