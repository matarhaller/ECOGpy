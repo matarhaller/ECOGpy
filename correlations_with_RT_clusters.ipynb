{
 "metadata": {
  "name": "",
  "signature": "sha256:23e0da057ba6bb629773afba1fd169e0408e84e41d8ff5cbe68a5702ad53fd8b"
 },
 "nbformat": 3,
 "nbformat_minor": 0,
 "worksheets": [
  {
   "cells": [
    {
     "cell_type": "code",
     "collapsed": false,
     "input": [
      "%reset"
     ],
     "language": "python",
     "metadata": {},
     "outputs": [
      {
       "name": "stdout",
       "output_type": "stream",
       "stream": "stdout",
       "text": [
        "Once deleted, variables cannot be recovered. Proceed (y/[n])? y\n"
       ]
      }
     ],
     "prompt_number": 310
    },
    {
     "cell_type": "code",
     "collapsed": false,
     "input": [
      "import pandas as pd\n",
      "import os\n",
      "from __future__ import division\n",
      "import numpy as np\n",
      "import cPickle as pickle\n",
      "import matplotlib.pyplot as plt\n",
      "from scipy import stats"
     ],
     "language": "python",
     "metadata": {},
     "outputs": [],
     "prompt_number": 1
    },
    {
     "cell_type": "code",
     "collapsed": false,
     "input": [
      "SJdir = '/home/knight/matar/MATLAB/DATA/Avgusta/'"
     ],
     "language": "python",
     "metadata": {},
     "outputs": [],
     "prompt_number": 3
    },
    {
     "cell_type": "code",
     "collapsed": false,
     "input": [
      "filename = os.path.join(SJdir,'PCA','Stats', 'significance_windows_stats.csv')\n",
      "df = pd.read_csv(filename)\n",
      "\n",
      "filename = os.path.join(SJdir,'PCA','RTs','RT_summary_offsets.csv')\n",
      "df_RTs = pd.read_csv(filename)\n",
      "\n",
      "filename = os.path.join(SJdir, 'PCA', 'duration_dict_500_FINAL', 'groupidx_activeclusters_hclust_withduration_maxRTlocked_withcriteria_labeled.csv')\n",
      "df_group = pd.read_csv(filename)\n",
      "\n",
      "filename = os.path.join(SJdir,'PCA','Stats', 'significance_windows_stats_RTsplit.csv')\n",
      "df_split = pd.read_csv(filename)"
     ],
     "language": "python",
     "metadata": {},
     "outputs": [],
     "prompt_number": 4
    },
    {
     "cell_type": "markdown",
     "metadata": {},
     "source": [
      "##RTs with peak vals, means, sum"
     ]
    },
    {
     "cell_type": "code",
     "collapsed": false,
     "input": [
      "df_all = pd.merge(df, df_RTs, on = ['subj','task'], how = 'outer')"
     ],
     "language": "python",
     "metadata": {},
     "outputs": [],
     "prompt_number": 340
    },
    {
     "cell_type": "code",
     "collapsed": false,
     "input": [
      "cols = list(df_all.columns)\n",
      "cols.remove('Unnamed: 0_x')\n",
      "cols.remove('Unnamed: 0_y')"
     ],
     "language": "python",
     "metadata": {},
     "outputs": [],
     "prompt_number": 341
    },
    {
     "cell_type": "code",
     "collapsed": false,
     "input": [
      "df_all = df_all[cols]"
     ],
     "language": "python",
     "metadata": {},
     "outputs": [],
     "prompt_number": 342
    },
    {
     "cell_type": "code",
     "collapsed": false,
     "input": [
      "#combine clusters into means\n",
      "df_all = df_all.groupby(['task','subj','pattern']).mean().query(\"pattern == 'D'\").reset_index()"
     ],
     "language": "python",
     "metadata": {},
     "outputs": [],
     "prompt_number": 343
    },
    {
     "cell_type": "code",
     "collapsed": false,
     "input": [
      "#drop GP27\n",
      "df_all = df_all[df_all.subj != 'GP27']\n",
      "#drop ST28\n",
      "df_all = df_all[df_all.subj != 'ST28']\n"
     ],
     "language": "python",
     "metadata": {},
     "outputs": [],
     "prompt_number": 344
    },
    {
     "cell_type": "code",
     "collapsed": false,
     "input": [
      "print stats.pearsonr(df_all.query('pattern == \"D\"')['max_activity_stim'], df_all.query('pattern == \"D\"')['RTs_mean'])\n",
      "#print stats.pearsonr(df_all.query('pattern == \"S\"')['max_activity_stim'], df_all.query('pattern == \"S\"')['RTs_mean'])\n",
      "#print stats.pearsonr(df_all.query('pattern == \"R\"')['max_activity_resp'], df_all.query('pattern == \"R\"')['RTs_mean'])"
     ],
     "language": "python",
     "metadata": {},
     "outputs": [
      {
       "output_type": "stream",
       "stream": "stdout",
       "text": [
        "(0.5181160412386846, 0.0039886954870909626)\n"
       ]
      }
     ],
     "prompt_number": 345
    },
    {
     "cell_type": "code",
     "collapsed": false,
     "input": [
      "print stats.pearsonr(df_all.query('pattern == \"D\"')['mean_activity_stim'], df_all.query('pattern == \"D\"')['RTs_mean'])\n",
      "#print stats.pearsonr(df_all.query('pattern == \"S\"')['mean_activity_stim'], df_all.query('pattern == \"S\"')['RTs_mean'])\n",
      "#print stats.pearsonr(df_all.query('pattern == \"R\"')['mean_activity_resp'], df_all.query('pattern == \"R\"')['RTs_mean'])"
     ],
     "language": "python",
     "metadata": {},
     "outputs": [
      {
       "output_type": "stream",
       "stream": "stdout",
       "text": [
        "(nan, nan)\n"
       ]
      }
     ],
     "prompt_number": 297
    },
    {
     "cell_type": "code",
     "collapsed": false,
     "input": [
      "print stats.pearsonr(df_all.query('pattern == \"D\"')['sum_activity_stim'], df_all.query('pattern == \"D\"')['RTs_mean'])\n",
      "#print stats.pearsonr(df_all.query('pattern == \"S\"')['sum_activity_stim'], df_all.query('pattern == \"S\"')['RTs_mean'])\n",
      "#print stats.pearsonr(df_all.query('pattern == \"R\"')['sum_activity_resp'], df_all.query('pattern == \"R\"')['RTs_mean'])"
     ],
     "language": "python",
     "metadata": {},
     "outputs": [
      {
       "output_type": "stream",
       "stream": "stdout",
       "text": [
        "(0.71981311670640025, 1.0753341684184705e-05)\n"
       ]
      }
     ],
     "prompt_number": 258
    },
    {
     "cell_type": "code",
     "collapsed": false,
     "input": [
      "R, pval = stats.pearsonr(df_all.query('pattern == \"D\"')['max_activity_stim'], df_all.query('pattern == \"D\"')['RTs_mean'])\n",
      "\n",
      "f, ax = plt.subplots()\n",
      "ax.patch.set_facecolor('white')\n",
      "ax.autoscale(tight=False)\n",
      "ax.spines['top'].set_visible(False)\n",
      "ax.spines['right'].set_visible(False)\n",
      "ax.get_xaxis().tick_bottom()\n",
      "ax.get_yaxis().tick_left()\n",
      "ax.set_xlabel('RT')\n",
      "ax.set_ylabel('HG peak value')\n",
      "\n",
      "left, width = .25, .75\n",
      "bottom, height = .25, .70\n",
      "right = left + width\n",
      "top = bottom + height\n",
      "\n",
      "A = np.vstack([df_all['RTs_mean'],np.ones(len(df_all['RTs_mean']))]).T\n",
      "m,c = np.linalg.lstsq(A,np.array(df_all['max_activity_stim']))[0]\n",
      "\n",
      "#plt.scatter(df_all['RTs_mean'],df_all['max_activity_stim'],marker = 'o', s = 150, edgecolor = 'green', facecolor = 'lawngreen', linewidth = 2.5)\n",
      "plt.scatter(df_all['RTs_mean'],df_all['max_activity_stim'],marker = 'o', s = 150, edgecolor = 'firebrick', facecolor = 'red', linewidth = 2.5)\n",
      "\n",
      "plt.plot(df_all['RTs_mean'],df_all['RTs_mean']*m+c, color = 'k', linewidth = 4) \n",
      "\n",
      "ax.set_title((R, pval))\n",
      "\n",
      "#filename = os.path.join(SJdir, 'PCA','Stats', 'peakvalue_vs_RTs_stimlocked_green.png')\n",
      "filename = os.path.join(SJdir, 'PCA','Stats', 'peakvalue_vs_RTs_duration_red.png')\n",
      "\n",
      "plt.savefig(filename, dpi = 100)"
     ],
     "language": "python",
     "metadata": {},
     "outputs": [
      {
       "metadata": {},
       "output_type": "display_data",
       "png": "[encoded data removed]",
       "text": [
        "<matplotlib.figure.Figure at 0x7f41328f6750>"
       ]
      }
     ],
     "prompt_number": 351
    },
    {
     "cell_type": "code",
     "collapsed": false,
     "input": [
      "R, pval = stats.pearsonr(df_all.query('pattern == \"D\"')['mean_activity_stim'], df_all.query('pattern == \"D\"')['RTs_mean'])\n",
      "\n",
      "f, ax = plt.subplots()\n",
      "ax.patch.set_facecolor('white')\n",
      "ax.autoscale(tight=False)\n",
      "ax.spines['top'].set_visible(False)\n",
      "ax.spines['right'].set_visible(False)\n",
      "ax.get_xaxis().tick_bottom()\n",
      "ax.get_yaxis().tick_left()\n",
      "ax.set_xlabel('RT')\n",
      "ax.set_ylabel('Mean HG')\n",
      "\n",
      "left, width = .25, .75\n",
      "bottom, height = .25, .70\n",
      "right = left + width\n",
      "top = bottom + height\n",
      "\n",
      "A = np.vstack([df_all['RTs_mean'],np.ones(len(df_all['RTs_mean']))]).T\n",
      "m,c = np.linalg.lstsq(A,np.array(df_all['mean_activity_stim']))[0]\n",
      "\n",
      "plt.plot(df_all['RTs_mean'],df_all['mean_activity_stim'],'o', markersize = 10)\n",
      "plt.plot(df_all['RTs_mean'],df_all['RTs_mean']*m+c, color = 'r',linewidth = 5) \n",
      "\n",
      "ax.set_title((R, pval))\n",
      "\n",
      "filename = os.path.join(SJdir, 'PCA','Stats', 'means_vs_RTs.png')\n",
      "plt.savefig(filename, dpi = 100)"
     ],
     "language": "python",
     "metadata": {},
     "outputs": [
      {
       "metadata": {},
       "output_type": "display_data",
       "png": "[encoded data removed]",
       "text": [
        "<matplotlib.figure.Figure at 0x7f412b8c0050>"
       ]
      }
     ],
     "prompt_number": 267
    },
    {
     "cell_type": "markdown",
     "metadata": {},
     "source": [
      "## onset times correlation with RTs\n"
     ]
    },
    {
     "cell_type": "code",
     "collapsed": false,
     "input": [
      "df_group = pd.merge(df_group, df_RTs, on = ['subj','task'], how = 'outer')"
     ],
     "language": "python",
     "metadata": {},
     "outputs": [],
     "prompt_number": 374
    },
    {
     "cell_type": "code",
     "collapsed": false,
     "input": [
      "#fix cue for my subjects (remove cue)\n",
      "df_group.loc[df_group.task =='DecisionAud', 'start_idx'] = df_group.query(\"task == 'DecisionAud'\")[['start_idx']]-600\n",
      "df_group.loc[df_group.task =='DecisionAud', 'end_idx'] = df_group.query(\"task == 'DecisionAud'\")[['end_idx']]-600\n",
      "\n",
      "df_group.loc[df_group.task =='DecisionVis', 'start_idx'] = df_group.query(\"task == 'DecisionVis'\")[['start_idx']]-500\n",
      "df_group.loc[df_group.task =='DecisionVis', 'end_idx'] = df_group.query(\"task == 'DecisionVis'\")[['end_idx']]-500\n"
     ],
     "language": "python",
     "metadata": {},
     "outputs": [],
     "prompt_number": 375
    },
    {
     "cell_type": "code",
     "collapsed": false,
     "input": [
      "#combine clusters into means\n",
      "df_group = df_group.groupby(['task','subj','pattern']).mean().query(\"pattern == 'D'\")"
     ],
     "language": "python",
     "metadata": {},
     "outputs": [],
     "prompt_number": 376
    },
    {
     "cell_type": "code",
     "collapsed": false,
     "input": [
      "df_group = df_group.reset_index()"
     ],
     "language": "python",
     "metadata": {},
     "outputs": [],
     "prompt_number": 377
    },
    {
     "cell_type": "code",
     "collapsed": false,
     "input": [
      "df_RTs = df_RTs.sort(['subj','task'])\n",
      "df_group = df_group.sort(['subj','task'])"
     ],
     "language": "python",
     "metadata": {},
     "outputs": [],
     "prompt_number": 378
    },
    {
     "cell_type": "code",
     "collapsed": false,
     "input": [
      "#drop GP27\n",
      "df_RTs = df_RTs[df_RTs.subj != 'GP27']\n",
      "df_group = df_group[df_group.subj != 'GP27']\n",
      "\n",
      "#drop ST28\n",
      "df_RTs = df_RTs[df_RTs.subj != 'ST28']\n",
      "df_group = df_group[df_group.subj != 'ST28']"
     ],
     "language": "python",
     "metadata": {},
     "outputs": [],
     "prompt_number": 379
    },
    {
     "cell_type": "code",
     "collapsed": false,
     "input": [
      "st_group = ['_'.join([x[0], x[1]]) for x in list(df_group[['subj','task']].values)]\n",
      "st_rt = ['_'.join([x[0], x[1]]) for x in list(df_RTs[['subj','task']].values)]"
     ],
     "language": "python",
     "metadata": {},
     "outputs": [],
     "prompt_number": 380
    },
    {
     "cell_type": "code",
     "collapsed": false,
     "input": [
      "df_RTs = df_RTs.loc[np.in1d(st_rt, st_group)] #drop non duration (or non stim as the case may be) RTs"
     ],
     "language": "python",
     "metadata": {},
     "outputs": [],
     "prompt_number": 381
    },
    {
     "cell_type": "code",
     "collapsed": false,
     "input": [
      "print stats.pearsonr(df_group['start_idx'], df_RTs['RTs_mean'])\n",
      "R, pval =  stats.pearsonr(df_group['start_idx'], df_RTs['RTs_mean'])"
     ],
     "language": "python",
     "metadata": {},
     "outputs": [
      {
       "output_type": "stream",
       "stream": "stdout",
       "text": [
        "(0.66610604927786254, 8.0022675122822353e-05)\n"
       ]
      }
     ],
     "prompt_number": 382
    },
    {
     "cell_type": "code",
     "collapsed": false,
     "input": [
      "f, ax = plt.subplots()\n",
      "ax.patch.set_facecolor('white')\n",
      "ax.autoscale(tight=False)\n",
      "ax.spines['top'].set_visible(False)\n",
      "ax.spines['right'].set_visible(False)\n",
      "ax.get_xaxis().tick_bottom()\n",
      "ax.get_yaxis().tick_left()\n",
      "ax.set_xlabel('RT')\n",
      "ax.set_ylabel('HG onset time')\n",
      "\n",
      "left, width = .25, .75\n",
      "bottom, height = .25, .70\n",
      "right = left + width\n",
      "top = bottom + height\n",
      "\n",
      "A = np.vstack([df_RTs['RTs_mean'],np.ones(len(df_RTs['RTs_mean']))]).T\n",
      "m,c = np.linalg.lstsq(A,np.array(df_group['start_idx']))[0]\n",
      "\n",
      "#plt.scatter(df_RTs['RTs_mean'],df_group['start_idx'],marker = 'o', s = 150, edgecolor = 'green', facecolor = 'lawngreen', linewidth = 2.5)\n",
      "plt.scatter(df_RTs['RTs_mean'],df_group['start_idx'],marker = 'o', s = 150, edgecolor = 'firebrick', facecolor = 'red', linewidth = 2.5)\n",
      "plt.plot(df_RTs['RTs_mean'],df_RTs['RTs_mean']*m+c, color = 'black', linewidth = 4) \n",
      "\n",
      "ax.set_title((R, pval))\n",
      "\n",
      "filename = os.path.join(SJdir, 'PCA','Stats', 'HGonset_vs_RTs_duration_red.png')\n",
      "plt.savefig(filename, dpi = 100)"
     ],
     "language": "python",
     "metadata": {},
     "outputs": [
      {
       "metadata": {},
       "output_type": "display_data",
       "png": "[encoded data removed]",
       "text": [
        "<matplotlib.figure.Figure at 0x7f412baa7c90>"
       ]
      }
     ],
     "prompt_number": 384
    },
    {
     "cell_type": "markdown",
     "metadata": {},
     "source": [
      "## absolute latency correlated with max"
     ]
    },
    {
     "cell_type": "code",
     "collapsed": false,
     "input": [
      "#combine clusters into means\n",
      "df_split = df_split.groupby(['task','subj','pattern']).mean().query(\"pattern == 'D'\")"
     ],
     "language": "python",
     "metadata": {},
     "outputs": [],
     "prompt_number": 26
    },
    {
     "cell_type": "code",
     "collapsed": false,
     "input": [
      "R, pval =  stats.pearsonr(df_split[['max_slow_mean_stim','max_fast_mean_stim']].values.flatten(), df_split[['lats_slow_mean_stim','lats_fast_mean_stim']].values.flatten())\n",
      "print ''\n",
      "print R\n",
      "print pval"
     ],
     "language": "python",
     "metadata": {},
     "outputs": [
      {
       "output_type": "stream",
       "stream": "stdout",
       "text": [
        "\n",
        "0.6033457637\n",
        "2.09975103065e-07\n"
       ]
      }
     ],
     "prompt_number": 29
    },
    {
     "cell_type": "code",
     "collapsed": false,
     "input": [
      "f, ax = plt.subplots()\n",
      "ax.patch.set_facecolor('white')\n",
      "ax.autoscale(tight=False)\n",
      "ax.spines['top'].set_visible(False)\n",
      "ax.spines['right'].set_visible(False)\n",
      "ax.get_xaxis().tick_bottom()\n",
      "ax.get_yaxis().tick_left()\n",
      "ax.set_xlabel('HG peak latency')\n",
      "ax.set_ylabel('HG peak value')\n",
      "\n",
      "left, width = .25, .75\n",
      "bottom, height = .25, .70\n",
      "right = left + width\n",
      "top = bottom + height\n",
      "\n",
      "y = df_split[['max_slow_mean_stim','max_fast_mean_stim']].values.flatten()\n",
      "x = df_split[['lats_slow_mean_stim','lats_fast_mean_stim']].values.flatten()\n",
      "\n",
      "A = np.vstack([x,np.ones(len(x))]).T\n",
      "m,c = np.linalg.lstsq(A,np.array(y))[0]\n",
      "\n",
      "plt.plot(x,y,'o')\n",
      "plt.plot(x,x*m+c, color = 'r', linewidth = 3) \n",
      "\n",
      "\n",
      "ax.set_title((R, pval))\n",
      "\n",
      "#filename = os.path.join(SJdir, 'PCA','Stats', 'HGonset_vs_RTs.pdf')\n",
      "#plt.savefig(filename)"
     ],
     "language": "python",
     "metadata": {},
     "outputs": [
      {
       "metadata": {},
       "output_type": "pyout",
       "prompt_number": 38,
       "text": [
        "<matplotlib.text.Text at 0x7f41329061d0>"
       ]
      },
      {
       "metadata": {},
       "output_type": "display_data",
       "png": "[encoded data removed]",
       "text": [
        "<matplotlib.figure.Figure at 0x7f41329d24d0>"
       ]
      }
     ],
     "prompt_number": 38
    },
    {
     "cell_type": "code",
     "collapsed": false,
     "input": [
      "df_new = pd.merge(df_split, df_RTs, on = ['subj','task'], how = 'outer')"
     ],
     "language": "python",
     "metadata": {},
     "outputs": [],
     "prompt_number": 60
    },
    {
     "cell_type": "code",
     "collapsed": false,
     "input": [
      "#combine clusters into means\n",
      "df_new = df_new.groupby(['task','subj','pattern']).mean().query(\"pattern == 'D'\")"
     ],
     "language": "python",
     "metadata": {},
     "outputs": [],
     "prompt_number": 61
    },
    {
     "cell_type": "code",
     "collapsed": false,
     "input": [
      "y = df_new[['max_slow_mean_stim','max_fast_mean_stim']].values.flatten()\n",
      "x = df_new[['lats_slow_mean_stim','lats_fast_mean_stim']].values.flatten()\n",
      "z = df_new[['RTs_mean', 'RTs_mean']].values.flatten()"
     ],
     "language": "python",
     "metadata": {},
     "outputs": [],
     "prompt_number": 65
    },
    {
     "cell_type": "code",
     "collapsed": false,
     "input": [
      "from mpl_toolkits.mplot3d import Axes3D\n",
      "\n",
      "fig = plt.figure()\n",
      "ax = fig.add_subplot(111, projection='3d')\n",
      "ax.scatter(x, y, z)\n",
      "\n",
      "ax.set_xlabel('latencies')\n",
      "ax.set_ylabel('maxes')\n",
      "ax.set_zlabel('RTs')"
     ],
     "language": "python",
     "metadata": {},
     "outputs": [
      {
       "metadata": {},
       "output_type": "pyout",
       "prompt_number": 70,
       "text": [
        "<matplotlib.text.Text at 0x7f4132618510>"
       ]
      },
      {
       "metadata": {},
       "output_type": "display_data",
       "png": "[encoded data removed]",
       "text": [
        "<matplotlib.figure.Figure at 0x7f41328aef10>"
       ]
      }
     ],
     "prompt_number": 70
    },
    {
     "cell_type": "code",
     "collapsed": false,
     "input": [
      "df_new = pd.merge(df_split, df_RTs, on = ['subj','task'], how = 'outer')"
     ],
     "language": "python",
     "metadata": {},
     "outputs": [],
     "prompt_number": 89
    },
    {
     "cell_type": "code",
     "collapsed": false,
     "input": [
      "df_new.query(\"pattern == 'D'\")[['lats_slow_mean_stim', 'lats_fast_mean_stim']].values.flatten().shape\n",
      "\n",
      "df_new.query(\"pattern == 'R'\")[['lats_slow_mean_stim', 'lats_fast_mean_stim']].values.flatten().shape"
     ],
     "language": "python",
     "metadata": {},
     "outputs": [
      {
       "metadata": {},
       "output_type": "pyout",
       "prompt_number": 92,
       "text": [
        "(177,)"
       ]
      }
     ],
     "prompt_number": 92
    },
    {
     "cell_type": "code",
     "collapsed": false,
     "input": [
      "from sklearn import linear_model\n",
      "from sklearn.cross_validation import train_test_split, LeaveOneOut"
     ],
     "language": "python",
     "metadata": {},
     "outputs": [],
     "prompt_number": 184
    },
    {
     "cell_type": "code",
     "collapsed": false,
     "input": [
      "maxes = df_new.query(\"pattern == 'D'\")[['max_slow_mean_stim','max_fast_mean_stim']].values.flatten()\n",
      "lats = df_new.query(\"pattern == 'D'\")[['lats_slow_mean_stim','lats_fast_mean_stim']].values.flatten()\n",
      "means = df_new.query(\"pattern == 'D'\")[['mean_slow_mean_stim','mean_fast_mean_stim']].values.flatten()\n",
      "sums = df_new.query(\"pattern == 'D'\")[['sums_slow_mean_stim','sums_fast_mean_stim']].values.flatten()\n",
      "std = df_new.query(\"pattern == 'D'\")[['std_slow_mean_stim','std_fast_mean_stim']].values.flatten()\n",
      "\n",
      "X = np.array((maxes, lats, means, sums, std)).T"
     ],
     "language": "python",
     "metadata": {},
     "outputs": [],
     "prompt_number": 170
    },
    {
     "cell_type": "code",
     "collapsed": false,
     "input": [
      "y = df_new.query(\"pattern == 'D'\")[['RTs_mean', 'RTs_mean']].values.flatten()"
     ],
     "language": "python",
     "metadata": {},
     "outputs": [],
     "prompt_number": 171
    },
    {
     "cell_type": "code",
     "collapsed": false,
     "input": [
      "X_train, X_test, y_train, y_test = train_test_split(X, y, test_size=0.25)"
     ],
     "language": "python",
     "metadata": {},
     "outputs": [],
     "prompt_number": 172
    },
    {
     "cell_type": "code",
     "collapsed": false,
     "input": [
      "regr = linear_model.RidgeCV(alphas = [0.1, 0.5, 1.0, 10.0])\n",
      "regr.fit(X_train, y_train)"
     ],
     "language": "python",
     "metadata": {},
     "outputs": [
      {
       "metadata": {},
       "output_type": "pyout",
       "prompt_number": 176,
       "text": [
        "RidgeCV(alphas=[0.1, 0.5, 1.0, 10.0], cv=None, fit_intercept=True,\n",
        "    gcv_mode=None, loss_func=None, normalize=False, score_func=None,\n",
        "    scoring=None, store_cv_values=False)"
       ]
      }
     ],
     "prompt_number": 176
    },
    {
     "cell_type": "code",
     "collapsed": false,
     "input": [
      "print('Coefficients: \\n', regr.coef_)\n",
      "# The mean square error\n",
      "print(\"Residual sum of squares: %.2f\"\n",
      "      % np.mean((regr.predict(X_test) - y_test) ** 2))\n",
      "# Explained variance score: 1 is perfect prediction\n",
      "print('Variance score: %.2f' % regr.score(X_test, y_test))\n"
     ],
     "language": "python",
     "metadata": {},
     "outputs": [
      {
       "output_type": "stream",
       "stream": "stdout",
       "text": [
        "('Coefficients: \\n', array([ -1.25785330e+01,   4.23999759e-01,  -4.63332486e+01,\n",
        "         2.20086190e-02,   7.52981164e+01]))\n",
        "Residual sum of squares: 158093.95\n",
        "Variance score: 0.49\n"
       ]
      }
     ],
     "prompt_number": 177
    },
    {
     "cell_type": "code",
     "collapsed": false,
     "input": [
      "loo = LeaveOneOut(len(y))"
     ],
     "language": "python",
     "metadata": {},
     "outputs": [
      {
       "metadata": {},
       "output_type": "pyout",
       "prompt_number": 183,
       "text": [
        "array([ 0.5318368 , -1.59220013, -0.40990267,  0.42487017,  0.30062226])"
       ]
      }
     ],
     "prompt_number": 183
    },
    {
     "cell_type": "code",
     "collapsed": false,
     "input": [],
     "language": "python",
     "metadata": {},
     "outputs": []
    },
    {
     "cell_type": "markdown",
     "metadata": {},
     "source": [
      "## latency vs RT difference"
     ]
    },
    {
     "cell_type": "code",
     "collapsed": false,
     "input": [
      "subj = 'GP15'\n",
      "task = 'EmoGen'\n",
      "cluster = 4"
     ],
     "language": "python",
     "metadata": {},
     "outputs": [],
     "prompt_number": 187
    },
    {
     "cell_type": "code",
     "collapsed": false,
     "input": [
      "filename = os.path.join(SJdir, 'PCA', 'ShadePlots_hclust', 'significance_windows', ''.join([subj, '_', task, '_c', str(cluster), '.p']))\n"
     ],
     "language": "python",
     "metadata": {},
     "outputs": [],
     "prompt_number": 188
    },
    {
     "cell_type": "code",
     "collapsed": false,
     "input": [
      "\n",
      "#load data\n",
      "with open(filename, 'r') as x:\n",
      "    data_dict = pickle.load(x)\n",
      "    x.close()"
     ],
     "language": "python",
     "metadata": {},
     "outputs": [],
     "prompt_number": 189
    },
    {
     "cell_type": "code",
     "collapsed": false,
     "input": [
      "means, maxes, lats_stim, lats_pro, sums, stds, RTs = [data_dict.get(k) for k in ['means','maxes','lats_stim','lats_pro','sums','stds', 'RTs']]\n"
     ],
     "language": "python",
     "metadata": {},
     "outputs": [],
     "prompt_number": 194
    },
    {
     "cell_type": "code",
     "collapsed": false,
     "input": [
      "plt.plot((RTs - lats_stim),RTs,'.r')"
     ],
     "language": "python",
     "metadata": {},
     "outputs": [
      {
       "metadata": {},
       "output_type": "pyout",
       "prompt_number": 205,
       "text": [
        "[<matplotlib.lines.Line2D at 0x7f412ba9b3d0>]"
       ]
      },
      {
       "metadata": {},
       "output_type": "display_data",
       "png": "[encoded data removed]",
       "text": [
        "<matplotlib.figure.Figure at 0x7f4132750310>"
       ]
      }
     ],
     "prompt_number": 205
    },
    {
     "cell_type": "code",
     "collapsed": false,
     "input": [
      "tmp = pd.DataFrame(lats_stim)"
     ],
     "language": "python",
     "metadata": {},
     "outputs": [],
     "prompt_number": 208
    },
    {
     "cell_type": "code",
     "collapsed": false,
     "input": [
      "idx2 = np.tile(np.arange(1,7), 147)"
     ],
     "language": "python",
     "metadata": {},
     "outputs": [],
     "prompt_number": 239
    },
    {
     "cell_type": "code",
     "collapsed": false,
     "input": [
      "tmp = pd.DataFrame([RTs, lats_stim+695, idx, idx2]).T"
     ],
     "language": "python",
     "metadata": {},
     "outputs": [],
     "prompt_number": 244
    },
    {
     "cell_type": "code",
     "collapsed": false,
     "input": [
      "tmp.columns = ['RTs', 'lats_stim', 'idx','idx2']"
     ],
     "language": "python",
     "metadata": {},
     "outputs": [],
     "prompt_number": 245
    },
    {
     "cell_type": "code",
     "collapsed": false,
     "input": [
      "tmp = tmp.sort('RTs')"
     ],
     "language": "python",
     "metadata": {},
     "outputs": [],
     "prompt_number": 246
    },
    {
     "cell_type": "code",
     "collapsed": false,
     "input": [
      "print RTs.mean()\n",
      "print lats_stim.mean()\n",
      "print (RTs-lats_stim).mean()"
     ],
     "language": "python",
     "metadata": {},
     "outputs": [
      {
       "output_type": "stream",
       "stream": "stdout",
       "text": [
        "2546.08244898\n",
        "1066.25056689\n",
        "1479.83188209\n"
       ]
      }
     ],
     "prompt_number": 204
    }
   ],
   "metadata": {}
  }
 ]
}