{
 "metadata": {
  "name": "",
  "signature": "sha256:7bc25a958dfd7d96f924c721f762b59aa63adcd258508bdb90d11e9b796aaca8"
 },
 "nbformat": 3,
 "nbformat_minor": 0,
 "worksheets": [
  {
   "cells": [
    {
     "cell_type": "code",
     "collapsed": false,
     "input": [
      "from __future__ import division\n",
      "import pandas as pd\n",
      "import os\n",
      "import loadmat\n",
      "import scipy.stats as stats\n",
      "import fdr_correct\n",
      "import glob\n",
      "import cPickle as pickle\n",
      "import matplotlib.pyplot as plt\n",
      "import numpy as np\n",
      "import glob"
     ],
     "language": "python",
     "metadata": {},
     "outputs": [],
     "prompt_number": 2
    },
    {
     "cell_type": "code",
     "collapsed": false,
     "input": [
      "SJdir = '/home/knight/matar/MATLAB/DATA/Avgusta/'\n",
      "reconlist = os.path.join(SJdir, 'PCA', 'reconlist.csv')\n",
      "reconlist = pd.read_csv(reconlist)"
     ],
     "language": "python",
     "metadata": {},
     "outputs": [],
     "prompt_number": 3
    },
    {
     "cell_type": "markdown",
     "metadata": {},
     "source": [
      "## combine output from shadeplots_clusters"
     ]
    },
    {
     "cell_type": "code",
     "collapsed": false,
     "input": [
      "df_stim = pd.DataFrame()\n",
      "df_resp = pd.DataFrame()\n",
      "\n",
      "for x in reconlist.values:\n",
      "    s_t, reconfile, _, _, _ = x\n",
      "    subj, task = s_t.split('_')\n",
      "    \n",
      "    if isinstance(reconfile, float):\n",
      "        continue #no reconfile, blank - skip subj\n",
      "    \n",
      "    #pull out significant clusters - STIMULUS LOCKED\n",
      "    filename = os.path.join(SJdir,'PCA', 'ShadePlots_hclust', ''.join([s_t, '.csv']))\n",
      "    df_st = pd.read_csv(filename)\n",
      "    \n",
      "    df_stim = df_stim.append(df_st)\n",
      "    \n",
      "    #pull out significant clusters - RESPONSE LOCKED\n",
      "    filename = os.path.join(SJdir,'PCA', 'ShadePlots_hclust', 'resplocked_all_thresh5', ''.join([s_t, '.csv']))\n",
      "   \n",
      "    df_st = pd.read_csv(filename)\n",
      "    df_resp = df_resp.append(df_st)"
     ],
     "language": "python",
     "metadata": {},
     "outputs": [],
     "prompt_number": 28
    },
    {
     "cell_type": "code",
     "collapsed": false,
     "input": [
      "filename = os.path.join(SJdir, 'PCA', 'ShadePlots_hclust', 'shadeplots_cluster_stim.csv')\n",
      "df_stim.to_csv(filename)"
     ],
     "language": "python",
     "metadata": {},
     "outputs": [],
     "prompt_number": 20
    },
    {
     "cell_type": "code",
     "collapsed": false,
     "input": [
      "df_stim  = df_stim.drop_duplicates(['subj','task', 'cluster'])"
     ],
     "language": "python",
     "metadata": {},
     "outputs": [],
     "prompt_number": 30
    },
    {
     "cell_type": "code",
     "collapsed": false,
     "input": [
      "filename = os.path.join(SJdir, 'PCA', 'ShadePlots_hclust','resplocked_all_thresh5', 'shadeplots_cluster_resp.csv')\n",
      "df_resp.to_csv(filename)"
     ],
     "language": "python",
     "metadata": {},
     "outputs": [],
     "prompt_number": 25
    },
    {
     "cell_type": "code",
     "collapsed": false,
     "input": [
      "df_resp = df_resp.drop_duplicates(['subj','task', 'cluster'])\n",
      "df_resp = df_resp[['subj','task','cluster','start_idx','end_idx']]\n",
      "df_resp.columns = ['subj','task','cluster','start_idx_resp','end_idx_resp']"
     ],
     "language": "python",
     "metadata": {},
     "outputs": [],
     "prompt_number": 34
    },
    {
     "cell_type": "code",
     "collapsed": false,
     "input": [
      "df_all = pd.merge(df_stim, df_resp, how = 'outer')"
     ],
     "language": "python",
     "metadata": {},
     "outputs": [],
     "prompt_number": 36
    },
    {
     "cell_type": "code",
     "collapsed": false,
     "input": [
      "filename = os.path.join(SJdir, 'PCA', 'duration_dict_500', 'groupidx_activeclusters_hclust_withduration_thresh15_maxRTlocked_withcriteria_ROI.csv')\n",
      "df_full = pd.read_csv(filename)"
     ],
     "language": "python",
     "metadata": {},
     "outputs": [],
     "prompt_number": 37
    },
    {
     "cell_type": "code",
     "collapsed": false,
     "input": [
      "df_full = df_full[['subj','task','group','all_criteria_passed']]\n"
     ],
     "language": "python",
     "metadata": {},
     "outputs": [],
     "prompt_number": 38
    },
    {
     "cell_type": "code",
     "collapsed": false,
     "input": [
      "df_full.columns = ['subj','task','cluster','all_criteria_passed']"
     ],
     "language": "python",
     "metadata": {},
     "outputs": [],
     "prompt_number": 41
    },
    {
     "cell_type": "code",
     "collapsed": false,
     "input": [
      "df = pd.merge(df_all, df_full, on = ['subj','task','cluster'], how = 'outer')"
     ],
     "language": "python",
     "metadata": {},
     "outputs": [],
     "prompt_number": 42
    },
    {
     "cell_type": "code",
     "collapsed": false,
     "input": [
      "df = df.drop_duplicates(['subj','task','cluster'])"
     ],
     "language": "python",
     "metadata": {},
     "outputs": [],
     "prompt_number": 45
    },
    {
     "cell_type": "code",
     "collapsed": false,
     "input": [
      "filename = os.path.join(SJdir, 'PCA','ShadePlots_hclust', 'stim_resp_cluster_windows_withduration.csv')\n",
      "df.to_csv(filename)"
     ],
     "language": "python",
     "metadata": {},
     "outputs": [],
     "prompt_number": 46
    },
    {
     "cell_type": "markdown",
     "metadata": {},
     "source": [
      "##plotting script for output from ShadePlots_clusters.py"
     ]
    },
    {
     "cell_type": "code",
     "collapsed": false,
     "input": [
      "for x in reconlist.values:\n",
      "    subj_task, _, _,_, _ = x\n",
      "    subj, task = subj_task.split('_')\n",
      "    \n",
      "    files = glob.glob(os.path.join(SJdir, 'PCA', 'ShadePlots_hclust', 'data', ''.join([subj, '_', task, '*.p'])))\n",
      "    \n",
      "    for f in files:\n",
      "        clustername = f.split('_')[-1].split('.')[0]\n",
      "        \n",
      "        with open(f, 'r') as x:\n",
      "            data_dict = pickle.load(x)\n",
      "            x.close()\n",
      "    \n",
      "        #map dictionary to variables\n",
      "        cdata, bl_st, srate, start_idx, end_idx, chunksize, black_chunksize, cluster, thresh = [data_dict.get(k) for k in ['cdata','bl_st', 'srate', 'start_idx', 'end_idx', 'chunksize', 'black_chunksize', 'cluster', 'thresh']]\n",
      "        \n",
      "        #plot\n",
      "        f, ax = plt.subplots(figsize = (10,10))\n",
      "        scale_min = cdata.mean(axis = 0).min() - 10\n",
      "        scale_max = cdata.mean(axis = 0).max() + 10\n",
      "        tmp = (np.arange(scale_min, scale_max))\n",
      "\n",
      "        ax.plot(np.arange(bl_st, cdata.shape[1]+bl_st), cdata.mean(axis = 0), zorder = 1, linewidth = 3)\n",
      "        sem = np.std(cdata, axis = 0)/np.sqrt(cdata.shape[0])\n",
      "        ax.fill_between(np.arange(bl_st, cdata.shape[1]+bl_st), cdata.mean(axis = 0)+sem, cdata.mean(axis=0)-sem, alpha = 0.5, zorder = 0, edgecolor = 'None', facecolor = 'slateblue')\n",
      "        ax.plot(np.arange(bl_st, cdata.shape[1]+bl_st), np.zeros(cdata.shape[1]), color = 'k', linewidth = 3) #xaxis\n",
      "        ax.plot(np.zeros(tmp.size), tmp, color = 'k', linewidth = 3) #yaxis\n",
      "        ax.set_ylabel('% change HG')\n",
      "        ax.set_xlabel('time (ms)')\n",
      "        ax.autoscale(tight=True)\n",
      "        ax.spines['top'].set_visible(False)\n",
      "        ax.spines['right'].set_visible(False)\n",
      "        ax.get_xaxis().tick_bottom()\n",
      "        ax.get_yaxis().tick_left()\n",
      "\n",
      "        if start_idx.size>0:\n",
      "            for i, s in enumerate(start_idx):\n",
      "                tmp = np.arange(s, end_idx[i])\n",
      "                ax.plot(tmp, np.zeros(tmp.size), color = 'r', linewidth = 3.5, label = (s, end_idx[i]))\n",
      "                ax.legend()\n",
      "\n",
      "        ax.set_title(' '.join([subj, task, ':', str(clustername), str(np.round(chunksize)), 'chunk', str(np.round(black_chunksize)), 'smoothing', str(thresh), 'threshold. Datapoints']))\n",
      "        plt.savefig(os.path.join(SJdir, 'PCA', 'ShadePlots_hclust','images', ''.join([subj, '_', task, '_', clustername, '.png',])))\n",
      "        plt.close()\n",
      "        "
     ],
     "language": "python",
     "metadata": {},
     "outputs": [],
     "prompt_number": 48
    },
    {
     "cell_type": "markdown",
     "metadata": {},
     "source": [
      "## plotting script for output from ShadePlots_clusters_resp.py"
     ]
    },
    {
     "cell_type": "code",
     "collapsed": false,
     "input": [
      "for x in reconlist.values:\n",
      "    subj_task, _, _,_, _ = x\n",
      "    subj, task = subj_task.split('_')\n",
      "    \n",
      "    files = glob.glob(os.path.join(SJdir, 'PCA', 'ShadePlots_hclust', 'resplocked_all', 'data', ''.join([subj, '_', task, '*.p'])))\n",
      "    \n",
      "    for f in files:\n",
      "        clustername = f.split('_')[-1].split('.')[0]\n",
      "        \n",
      "        with open(f, 'r') as x:\n",
      "            data_dict = pickle.load(x)\n",
      "            x.close()\n",
      "    \n",
      "        #map dictionary to variables\n",
      "        cdata_resp, bl_st, srate, start_idx, end_idx, chunksize, black_chunksize, cluster, thresh, st_resp, en_resp = [data_dict.get(k) for k in ['cdata_resp','bl_st', 'srate', 'start_idx', 'end_idx', 'chunksize', 'black_chunksize', 'cluster', 'thresh', 'st_resp', 'en_resp']]\n",
      "        \n",
      "        #plot\n",
      "        f, ax = plt.subplots(figsize = (10,10))\n",
      "        scale_min = cdata_resp.mean(axis = 0).min() - 10\n",
      "        scale_max = cdata_resp.mean(axis = 0).max() + 10\n",
      "        tmp = (np.arange(scale_min, scale_max))\n",
      "\n",
      "        ax.plot(np.arange(st_resp, en_resp), cdata_resp.mean(axis = 0), zorder = 1, linewidth = 3)\n",
      "        sem = np.std(cdata_resp, axis = 0)/np.sqrt(cdata_resp.shape[0])\n",
      "        ax.fill_between(np.arange(st_resp, en_resp), cdata_resp.mean(axis = 0)+sem, cdata_resp.mean(axis=0)-sem, alpha = 0.5, zorder = 0, edgecolor = 'None', facecolor = 'slateblue')\n",
      "        ax.plot(np.arange(st_resp, en_resp), np.zeros(cdata_resp.shape[1]), color = 'k', linewidth = 3) #xaxis\n",
      "        ax.plot(np.zeros(tmp.size), tmp, color = 'k', linewidth = 3) #yaxis\n",
      "        ax.set_ylabel('% change HG')\n",
      "        ax.set_xlabel('time (ms)')\n",
      "        ax.autoscale(tight=True)\n",
      "        ax.spines['top'].set_visible(False)\n",
      "        ax.spines['right'].set_visible(False)\n",
      "        ax.get_xaxis().tick_bottom()\n",
      "        ax.get_yaxis().tick_left()\n",
      "\n",
      "        if start_idx.size>0:\n",
      "            for i, s in enumerate(start_idx):\n",
      "                tmp = np.arange(s, end_idx[i])\n",
      "                ax.plot(tmp, np.zeros(tmp.size), color = 'r', linewidth = 3.5, label = (s, end_idx[i]))\n",
      "                ax.legend()\n",
      "\n",
      "        ax.set_title(' '.join([subj, task, ':', str(clustername), str(np.round(chunksize)), 'chunk', str(black_chunksize), 'smoothing', str(thresh), 'threshold. Datapoints']))\n",
      "        plt.savefig(os.path.join(SJdir, 'PCA', 'ShadePlots_hclust','resplocked_all_thresh10','images', ''.join([subj, '_', task, '_', clustername, '.png',])))\n",
      "        plt.close()\n",
      "        "
     ],
     "language": "python",
     "metadata": {},
     "outputs": [],
     "prompt_number": 4
    },
    {
     "cell_type": "code",
     "collapsed": false,
     "input": [
      "scalemin"
     ],
     "language": "python",
     "metadata": {},
     "outputs": [
      {
       "metadata": {},
       "output_type": "pyout",
       "prompt_number": 41,
       "text": [
        "-10"
       ]
      }
     ],
     "prompt_number": 41
    },
    {
     "cell_type": "markdown",
     "metadata": {},
     "source": [
      "## this is the code that went into ShadePlots_clusters.py"
     ]
    },
    {
     "cell_type": "code",
     "collapsed": false,
     "input": [
      "subj = 'GP15'\n",
      "task = 'EmoGen'\n",
      "\n",
      "filenames = glob.glob(os.path.join(SJdir, 'PCA', 'SingleTrials_hclust', '_'.join([subj, task, 'c*mat'])))\n",
      "   "
     ],
     "language": "python",
     "metadata": {},
     "outputs": [],
     "prompt_number": 3
    },
    {
     "cell_type": "code",
     "collapsed": false,
     "input": [
      "filename = filenames[0]\n",
      "data = loadmat.loadmat(filename)\n"
     ],
     "language": "python",
     "metadata": {},
     "outputs": [],
     "prompt_number": 4
    },
    {
     "cell_type": "code",
     "collapsed": false,
     "input": [
      "filename.split('_')[-1].split('.')[0][1:]"
     ],
     "language": "python",
     "metadata": {},
     "outputs": [
      {
       "metadata": {},
       "output_type": "pyout",
       "prompt_number": 21,
       "text": [
        "'1'"
       ]
      }
     ],
     "prompt_number": 21
    },
    {
     "cell_type": "code",
     "collapsed": false,
     "input": [
      "cdata = data['cdata']\n",
      "srate = data['srate']"
     ],
     "language": "python",
     "metadata": {},
     "outputs": [],
     "prompt_number": 5
    },
    {
     "cell_type": "code",
     "collapsed": false,
     "input": [
      "chunk_size = 100\n",
      "baseline = -500\n",
      "thresh = 15\n",
      "black_chunksize = 0"
     ],
     "language": "python",
     "metadata": {},
     "outputs": [],
     "prompt_number": 11
    },
    {
     "cell_type": "code",
     "collapsed": false,
     "input": [
      "#convert to srate\n",
      "bl_st = baseline/1000*srate\n",
      "chunksize = chunk_size/1000*srate\n",
      "blackchunksize = black_chunksize/1000*srate\n",
      "\n",
      "if task in ['DecisionAud']:\n",
      "    st_tp = 600/1000*srate\n",
      "elif task in ['DecisionVis']:\n",
      "    st_tp = 500/1000*srate\n",
      "else:\n",
      "    st_tp = 0\n",
      "\n",
      "pvals = list();\n",
      "nozero = np.copy(cdata)\n",
      "nozero[:,nozero.mean(axis=0)<0] = 0 #zero out negative values\n",
      "\n",
      "for t in np.arange(abs(bl_st)+st_tp, cdata.shape[1]):\n",
      "    (t, p) = stats.ttest_1samp(nozero[:,t], 0)\n",
      "    pvals.append(p)\n",
      "\n",
      "thr = fdr_correct.fdr2(pvals, q = 0.05)\n",
      "H = np.array((pvals<thr)).astype('int')\n",
      "\n",
      "start_idx = np.zeros((1,))\n",
      "end_idx = np.zeros((1,))\n",
      "\n",
      "if (thr>0):\n",
      "    #find elecs with window that > chunksize and > threshold (10%)\n",
      "    passed_thresh = cdata[:, abs(bl_st)+st_tp::].mean(axis=0)>thresh\n",
      "    sig_and_thresh = H * passed_thresh\n",
      "    difference = np.diff(sig_and_thresh, n = 1, axis = 0)\n",
      "    start_idx = np.where(difference==1)[0]+1\n",
      "    end_idx = np.where(difference == -1)[0]\n",
      "\n",
      "    if start_idx.size > end_idx.size: #last chunk goes until end\n",
      "        end_idx = np.append(end_idx, int(cdata.shape[1]-abs(bl_st)-st_tp))\n",
      "\n",
      "    elif start_idx.size < end_idx.size:\n",
      "        start_idx = np.append(0, start_idx) #starts immediately significant\n",
      "\n",
      "    if (start_idx.size!=0):\n",
      "        if (start_idx[0] > end_idx[0]): #starts immediately significant\n",
      "            start_idx = np.append(0, start_idx)\n",
      "    if (start_idx.size!=0):\n",
      "        if (end_idx[-1] < start_idx[-1]):#significant until end\n",
      "            end_idx = np.append(end_idx, int(cdata.shape[1]-abs(bl_st)-st_tp))\n",
      "\n",
      "    start_idx = start_idx + st_tp #shift by st_tp\n",
      "    end_idx = end_idx + st_tp\n",
      "    chunk = (end_idx - start_idx) >= chunksize\n",
      "    \n",
      "    if sum(chunk) > 0:\n",
      "        #significant windows on those that passed threshold (10%) (ignoring threshold and chunksize)\n",
      "        difference = np.diff(H, n = 1, axis = 0)\n",
      "        start_idx = np.where(difference==1)[0]+1\n",
      "        end_idx = np.where(difference == -1)[0]\n",
      "\n",
      "        if start_idx.size > end_idx.size: #last chunk goes until end\n",
      "            end_idx = np.append(end_idx, int(cdata.shape[1]-abs(bl_st)-st_tp))\n",
      "\n",
      "        elif start_idx.size < end_idx.size:\n",
      "            start_idx = np.append(0, start_idx) #starts immediately significant\n",
      "\n",
      "        if (start_idx.size!=0):\n",
      "            if (start_idx[0] > end_idx[0]): #starts immediately significant\n",
      "                start_idx = np.append(0, start_idx)\n",
      "        if (start_idx.size!=0):\n",
      "            if (end_idx[-1] < start_idx[-1]):#significant until end\n",
      "                end_idx = np.append(end_idx, int(edata.shape[1]-abs(bl_st)-st_tp))\n",
      "\n",
      "        start_idx = start_idx + st_tp #shift by st_tp\n",
      "        end_idx = end_idx + st_tp\n",
      "\n",
      "        black_chunk = (start_idx[1:] - end_idx[:-1])> black_chunksize #combine window separated by <200ms\n",
      "\n",
      "        tmp = np.append(1,black_chunk).astype('bool')\n",
      "        end_idx = end_idx[np.append(np.where(np.in1d(start_idx, start_idx[tmp]))[0][1:]-1, -1)]\n",
      "        start_idx = start_idx[tmp]           \n",
      "\n",
      "        #drop chunks that <100ms\n",
      "        chunk = (end_idx - start_idx) >= chunksize\n",
      "        start_idx = start_idx[chunk]\n",
      "        end_idx = end_idx[chunk]\n",
      "        \n",
      "    else: #no chunks\n",
      "        start_idx = np.zeros((1,))\n",
      "        end_idx = np.zeros((1,))\n",
      "\n",
      "else: #thr<0\n",
      "    start_idx = np.zeros((1,))\n",
      "    end_idx = np.zeros((1,))\n",
      "\n",
      "#subjs.extend([subj] * len(start_idx))\n",
      "#tasks.extend([task] * len(end_idx))\n",
      "#elecs.extend([e] * len(start_idx))\n",
      "#pthr.extend([thr] * len(end_idx))\n",
      "#starts.extend(start_idx)\n",
      "#ends.extend(end_idx)\n",
      " "
     ],
     "language": "python",
     "metadata": {},
     "outputs": [],
     "prompt_number": 13
    },
    {
     "cell_type": "code",
     "collapsed": false,
     "input": [
      "\n",
      "#plot\n",
      "f, ax = plt.subplots(figsize = (10,10))\n",
      "scale_min = cdata.mean(axis = 0).min() - 10\n",
      "scale_max = cdata.mean(axis = 0).max() + 10\n",
      "tmp = (np.arange(scale_min, scale_max))\n",
      "\n",
      "ax.plot(np.arange(bl_st, cdata.shape[1]+bl_st), cdata.mean(axis = 0), zorder = 1, linewidth = 3)\n",
      "sem = np.std(cdata, axis = 0)/np.sqrt(cdata.shape[0])\n",
      "ax.fill_between(np.arange(bl_st, cdata.shape[1]+bl_st), cdata.mean(axis = 0)+sem, cdata.mean(axis=0)-sem, alpha = 0.5, zorder = 0, edgecolor = 'None', facecolor = 'slateblue')\n",
      "ax.plot(np.arange(bl_st, cdata.shape[1]+bl_st), np.zeros(cdata.shape[1]), color = 'k', linewidth = 3) #xaxis\n",
      "ax.plot(np.zeros(tmp.size), tmp, color = 'k', linewidth = 3) #yaxis\n",
      "ax.set_ylabel('% change HG')\n",
      "ax.set_xlabel('time (ms)')\n",
      "ax.autoscale(tight=True)\n",
      "ax.spines['top'].set_visible(False)\n",
      "ax.spines['right'].set_visible(False)\n",
      "ax.get_xaxis().tick_bottom()\n",
      "ax.get_yaxis().tick_left()\n",
      "\n",
      "if start_idx.size>0:\n",
      "    for i, s in enumerate(start_idx):\n",
      "        tmp = np.arange(s, end_idx[i])\n",
      "        ax.plot(tmp, np.zeros(tmp.size), color = 'r', linewidth = 3.5, label = (start, finish))\n",
      "        ax.legend()\n",
      "\n",
      "#ax.set_title(' '.join([subj, task, ':', 'electrode', str(e)]))\n",
      "#plt.savefig(os.path.join(SJdir, 'PCA', 'ShadePlots_allelecs', ''.join([subj, '_', task, '_e', str(e), '_bigwindow'])))\n",
      "#plt.close()\n"
     ],
     "language": "python",
     "metadata": {},
     "outputs": [
      {
       "metadata": {},
       "output_type": "display_data",
       "png": "[encoded data removed]",
       "text": [
        "<matplotlib.figure.Figure at 0x7f23e8034410>"
       ]
      }
     ],
     "prompt_number": 16
    },
    {
     "cell_type": "code",
     "collapsed": false,
     "input": [],
     "language": "python",
     "metadata": {},
     "outputs": []
    }
   ],
   "metadata": {}
  }
 ]
}