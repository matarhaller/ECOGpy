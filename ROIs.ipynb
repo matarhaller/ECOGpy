{
 "metadata": {
  "name": "",
  "signature": "sha256:f88b82dd1902651b0e63d7ddccd17aa5dacc6afd62d227f7ceca3eb907ddca43"
 },
 "nbformat": 3,
 "nbformat_minor": 0,
 "worksheets": [
  {
   "cells": [
    {
     "cell_type": "code",
     "collapsed": false,
     "input": [
      "import os\n",
      "from loadmat import loadmat\n",
      "import pandas as pd"
     ],
     "language": "python",
     "metadata": {},
     "outputs": [],
     "prompt_number": 13
    },
    {
     "cell_type": "code",
     "collapsed": false,
     "input": [
      "SJdir = '/home/knight/matar/MATLAB/DATA/Avgusta/'\n",
      "datafile = os.path.join(SJdir, 'ROIs' ,'brain_ROI.mat')\n",
      "data = loadmat(datafile)\n",
      "brain_ROI = data['brain_ROI']"
     ],
     "language": "python",
     "metadata": {},
     "outputs": [],
     "prompt_number": 8
    },
    {
     "cell_type": "code",
     "collapsed": false,
     "input": [
      "filename = os.path.join(SJdir, 'PCA', 'duration_dict_500', 'groupidx_activeclusters_hclust_withduration_thresh15_maxRTlocked_withcriteria.csv')\n",
      "df = pd.read_csv(filename)"
     ],
     "language": "python",
     "metadata": {},
     "outputs": [],
     "prompt_number": 16
    },
    {
     "cell_type": "markdown",
     "metadata": {},
     "source": [
      "### create ROI column for groupidx_..._withcriteria.csv dataframe \n",
      "#### (using get_ROI function below) "
     ]
    },
    {
     "cell_type": "code",
     "collapsed": false,
     "input": [
      "#create ROI column for dataframe\n",
      "df['ROI'] = df.apply(lambda row: get_ROI(row['subj'], row['active_elecs'], brain_ROI), axis=1)"
     ],
     "language": "python",
     "metadata": {},
     "outputs": [],
     "prompt_number": 21
    },
    {
     "cell_type": "code",
     "collapsed": false,
     "input": [
      "df.loc[(df.subj=='ST27') & (df.active_elecs==41)].ROI"
     ],
     "language": "python",
     "metadata": {},
     "outputs": [
      {
       "metadata": {},
       "output_type": "pyout",
       "prompt_number": 25,
       "text": [
        "875    Occip\n",
        "Name: ROI, dtype: object"
       ]
      }
     ],
     "prompt_number": 25
    },
    {
     "cell_type": "code",
     "collapsed": false,
     "input": [
      "#save file\n",
      "filename = os.path.join(SJdir, 'PCA', 'duration_dict_500', 'groupidx_activeclusters_hclust_withduration_thresh15_maxRTlocked_withcriteria_ROI.csv')\n",
      "df.to_csv(filename)\n"
     ],
     "language": "python",
     "metadata": {},
     "outputs": [],
     "prompt_number": 27
    },
    {
     "cell_type": "markdown",
     "metadata": {},
     "source": [
      "#### function for pulling ROI given elec number"
     ]
    },
    {
     "cell_type": "code",
     "collapsed": false,
     "input": [
      "def get_ROI(subj, e, brain_ROI):\n",
      "    \"\"\"\n",
      "    given a subj, elec and brain_ROI dictionary will return the ROI associated with the electrode\n",
      "    \"\"\"\n",
      "    try:\n",
      "        rois = brain_ROI[subj]\n",
      "    except:\n",
      "        return None\n",
      "    else:\n",
      "        for roi, elecs in rois.iteritems():\n",
      "            if np.in1d(e, elecs):\n",
      "                return roi"
     ],
     "language": "python",
     "metadata": {},
     "outputs": [],
     "prompt_number": 4
    }
   ],
   "metadata": {}
  }
 ]
}