{
 "metadata": {
  "name": "",
  "signature": "sha256:8aeb9480f11c3a6aa57eb629a46505d43d67ce9b744fa50af1efd61df1f2ed63"
 },
 "nbformat": 3,
 "nbformat_minor": 0,
 "worksheets": [
  {
   "cells": [
    {
     "cell_type": "code",
     "collapsed": false,
     "input": [
      "import os\n",
      "from loadmat import loadmat\n",
      "import pandas as pd"
     ],
     "language": "python",
     "metadata": {},
     "outputs": [],
     "prompt_number": 1
    },
    {
     "cell_type": "code",
     "collapsed": false,
     "input": [
      "SJdir = '/home/knight/matar/MATLAB/DATA/Avgusta/'\n",
      "datafile = os.path.join(SJdir, 'ROIs' ,'brain_ROI.mat')\n",
      "data = loadmat(datafile)\n",
      "brain_ROI = data['brain_ROI']"
     ],
     "language": "python",
     "metadata": {},
     "outputs": [],
     "prompt_number": 2
    },
    {
     "cell_type": "code",
     "collapsed": false,
     "input": [
      "filename = os.path.join(SJdir, 'PCA', 'duration_dict_500', 'groupidx_activeclusters_hclust_withduration_thresh15_maxRTlocked_withcriteria.csv')\n",
      "df = pd.read_csv(filename)"
     ],
     "language": "python",
     "metadata": {},
     "outputs": [],
     "prompt_number": 3
    },
    {
     "cell_type": "markdown",
     "metadata": {},
     "source": [
      "### create ROI column for groupidx_..._withcriteria.csv dataframe \n",
      "#### (using get_ROI function below) "
     ]
    },
    {
     "cell_type": "code",
     "collapsed": false,
     "input": [
      "#create ROI column for dataframe\n",
      "df['ROI'] = df.apply(lambda row: get_ROI(row['subj'], row['active_elecs'], brain_ROI), axis=1)"
     ],
     "language": "python",
     "metadata": {},
     "outputs": [],
     "prompt_number": 6
    },
    {
     "cell_type": "code",
     "collapsed": false,
     "input": [
      "df.loc[(df.subj=='JH5') & (df.active_elecs==10)].ROI"
     ],
     "language": "python",
     "metadata": {},
     "outputs": [
      {
       "metadata": {},
       "output_type": "pyout",
       "prompt_number": 7,
       "text": [
        "777    Broca\n",
        "Name: ROI, dtype: object"
       ]
      }
     ],
     "prompt_number": 7
    },
    {
     "cell_type": "code",
     "collapsed": false,
     "input": [
      "#save file\n",
      "filename = os.path.join(SJdir, 'PCA', 'duration_dict_500', 'groupidx_activeclusters_hclust_withduration_thresh15_maxRTlocked_withcriteria_ROI.csv')\n",
      "df.to_csv(filename)\n"
     ],
     "language": "python",
     "metadata": {},
     "outputs": [],
     "prompt_number": 8
    },
    {
     "cell_type": "markdown",
     "metadata": {},
     "source": [
      "#### function for pulling ROI given elec number"
     ]
    },
    {
     "cell_type": "code",
     "collapsed": false,
     "input": [
      "def get_ROI(subj, e, brain_ROI):\n",
      "    \"\"\"\n",
      "    given a subj, elec and brain_ROI dictionary will return the ROI associated with the electrode\n",
      "    \"\"\"\n",
      "    try:\n",
      "        rois = brain_ROI[subj]\n",
      "    except:\n",
      "        return None\n",
      "    else:\n",
      "        for roi, elecs in rois.iteritems():\n",
      "            if np.in1d(e, elecs):\n",
      "                return roi"
     ],
     "language": "python",
     "metadata": {},
     "outputs": [],
     "prompt_number": 5
    },
    {
     "cell_type": "code",
     "collapsed": false,
     "input": [],
     "language": "python",
     "metadata": {},
     "outputs": []
    }
   ],
   "metadata": {}
  }
 ]
}