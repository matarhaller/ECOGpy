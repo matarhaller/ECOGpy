{
 "metadata": {
  "name": "",
  "signature": "sha256:ac7f91c45dd1d37d9c285c0ec2d9baf58d7256ef842fd1100c839242903a5c96"
 },
 "nbformat": 3,
 "nbformat_minor": 0,
 "worksheets": [
  {
   "cells": [
    {
     "cell_type": "code",
     "collapsed": false,
     "input": [
      "%reset\n",
      "%pylab"
     ],
     "language": "python",
     "metadata": {},
     "outputs": [
      {
       "name": "stdout",
       "output_type": "stream",
       "stream": "stdout",
       "text": [
        "Once deleted, variables cannot be recovered. Proceed (y/[n])? y\n"
       ]
      },
      {
       "output_type": "stream",
       "stream": "stdout",
       "text": [
        "Using matplotlib backend: Qt4Agg\n",
        "Populating the interactive namespace from numpy and matplotlib\n"
       ]
      }
     ],
     "prompt_number": 181
    },
    {
     "cell_type": "markdown",
     "metadata": {},
     "source": [
      "## ridge regression for HG properties for active elecs within duration cluster (vs RT)\n",
      "### run every subj/task separately. different model for each electrode\n",
      "### use cv to find best alpha (median), use that alpha to fit on train, score on test, save out coefs for later pca"
     ]
    },
    {
     "cell_type": "code",
     "collapsed": false,
     "input": [
      "import os\n",
      "import pandas as pd\n",
      "import numpy as np\n",
      "import scipy.io as spio\n",
      "from __future__ import division\n",
      "import glob\n",
      "import cPickle as pickle\n",
      "\n",
      "from sklearn import cross_validation, grid_search\n",
      "from sklearn.linear_model import Ridge, Lasso\n",
      "from sklearn.preprocessing import scale"
     ],
     "language": "python",
     "metadata": {},
     "outputs": [],
     "prompt_number": 182
    },
    {
     "cell_type": "code",
     "collapsed": false,
     "input": [
      "SJdir = '/Users/matar/Documents/MATLAB/DATA/Avgusta/'\n",
      "SJdir = '/home/knight/matar/MATLAB/DATA/Avgusta'"
     ],
     "language": "python",
     "metadata": {},
     "outputs": [],
     "prompt_number": 183
    },
    {
     "cell_type": "code",
     "collapsed": false,
     "input": [
      "subj = 'JH2'\n",
      "task = 'SelfVis'"
     ],
     "language": "python",
     "metadata": {},
     "outputs": [],
     "prompt_number": 184
    },
    {
     "cell_type": "code",
     "collapsed": false,
     "input": [
      "#features = ['maxes','means','stds','sums','lats_pro']\n",
      "features = ['maxes','means','stds', 'lats_pro']\n",
      "predictor = 'RTs'"
     ],
     "language": "python",
     "metadata": {},
     "outputs": [],
     "prompt_number": 185
    },
    {
     "cell_type": "code",
     "collapsed": false,
     "input": [
      "filename = os.path.join(SJdir, 'PCA', 'ShadePlots_hclust', 'elecs', 'significance_windows', 'data', ''.join([subj, '_', task, '.p']))\n",
      "data_dict = pickle.load( open(filename, \"rb\" ) )"
     ],
     "language": "python",
     "metadata": {},
     "outputs": [],
     "prompt_number": 186
    },
    {
     "cell_type": "code",
     "collapsed": false,
     "input": [
      "active_elecs = data_dict['means'].keys()\n",
      "print active_elecs"
     ],
     "language": "python",
     "metadata": {},
     "outputs": [
      {
       "output_type": "stream",
       "stream": "stdout",
       "text": [
        "[2, 3, 4, 133, 134, 7, 132, 12, 14, 15, 131, 20, 22, 24, 25, 26, 27, 28, 5, 32, 40, 48, 31, 84]\n"
       ]
      }
     ],
     "prompt_number": 187
    },
    {
     "cell_type": "code",
     "collapsed": false,
     "input": [
      "elec = active_elecs[1] #jh2 self vis e3 is in dur cluster"
     ],
     "language": "python",
     "metadata": {},
     "outputs": [],
     "prompt_number": 188
    },
    {
     "cell_type": "code",
     "collapsed": false,
     "input": [
      "X = np.array([data_dict[x][elec] for x in features]).T"
     ],
     "language": "python",
     "metadata": {},
     "outputs": [],
     "prompt_number": 189
    },
    {
     "cell_type": "code",
     "collapsed": false,
     "input": [
      "Y = data_dict[predictor][elec]"
     ],
     "language": "python",
     "metadata": {},
     "outputs": [],
     "prompt_number": 190
    },
    {
     "cell_type": "code",
     "collapsed": false,
     "input": [
      "#drop nans\n",
      "mask = np.all(np.isnan(X), axis = 1)\n",
      "X = X[~mask]\n",
      "mask = np.isnan(Y)\n",
      "Y = Y[~mask]"
     ],
     "language": "python",
     "metadata": {},
     "outputs": [],
     "prompt_number": 191
    },
    {
     "cell_type": "code",
     "collapsed": false,
     "input": [
      "#split data into training and test\n",
      "X_train, X_test, y_train, y_test = cross_validation.train_test_split(X, Y, test_size=0.2)"
     ],
     "language": "python",
     "metadata": {},
     "outputs": [],
     "prompt_number": 192
    },
    {
     "cell_type": "code",
     "collapsed": false,
     "input": [
      "#scale training and test data\n",
      "X_train = scale(X_train.astype(float))\n",
      "X_test = scale(X_test.astype(float))\n",
      "y_train = scale(y_train.astype(float))\n",
      "y_test = scale(y_test.astype(float))"
     ],
     "language": "python",
     "metadata": {},
     "outputs": [],
     "prompt_number": 193
    },
    {
     "cell_type": "code",
     "collapsed": false,
     "input": [
      "cvs = cross_validation.ShuffleSplit(len(y_train), n_iter=100, test_size= 0.2)"
     ],
     "language": "python",
     "metadata": {},
     "outputs": [],
     "prompt_number": 194
    },
    {
     "cell_type": "code",
     "collapsed": false,
     "input": [
      "model = Ridge(solver = 'lsqr', normalize=False, fit_intercept=False)\n",
      "#model = Lasso(normalize = True, fit_intercept=True)\n",
      "params_grid = {'alpha': np.logspace(-3, 3, 10)}\n",
      "ridge_grid = grid_search.GridSearchCV(model, params_grid, cv = 10)\n"
     ],
     "language": "python",
     "metadata": {},
     "outputs": [],
     "prompt_number": 195
    },
    {
     "cell_type": "code",
     "collapsed": false,
     "input": [
      "#find the best alpha - get 100 best alphas (10 fold within each CV fold)\n",
      "alphas, models, scores, coefs = [[] for i in range(4)]\n",
      "\n",
      "for train, test in cvs:\n",
      "    ridge_grid.fit(X_train[train],y_train[train])\n",
      "    a = ridge_grid.best_params_.values()[0]\n",
      "    mod = ridge_grid.best_estimator_\n",
      "    score = np.corrcoef(mod.predict(X_train[test]), y_train[test])[1,0]\n",
      "    #coef = mod.coef_\n",
      "    \n",
      "    alphas.append(a)\n",
      "    #models.append(mod)\n",
      "    scores.append(score)\n",
      "    #coefs.append(coef)"
     ],
     "language": "python",
     "metadata": {},
     "outputs": [],
     "prompt_number": 156
    },
    {
     "cell_type": "code",
     "collapsed": false,
     "input": [
      "f, ax = plt.subplots(1,2)\n",
      "ax[0].hist(alphas) \n",
      "ax[1].hist(scores)\n",
      "\n",
      "print ('mean alpha', np.mean(alphas))\n",
      "print ('median alpha', np.median(alphas))\n",
      "print ('mean score', np.mean(scores)) #inflated"
     ],
     "language": "python",
     "metadata": {},
     "outputs": [
      {
       "output_type": "stream",
       "stream": "stdout",
       "text": [
        "('mean alpha', 212.63528731673298)\n",
        "('median alpha', 46.415888336127729)\n",
        "('mean score', 0.33880190977313601)\n"
       ]
      }
     ],
     "prompt_number": 157
    },
    {
     "cell_type": "code",
     "collapsed": false,
     "input": [
      "#define model on all of training with best alpha\n",
      "model = Ridge(solver = 'lsqr', alpha = np.median(alphas), normalize = False, fit_intercept= False)\n",
      "#model = Lasso(alpha = median(alphas), normalize = True, fit_intercept = True)"
     ],
     "language": "python",
     "metadata": {},
     "outputs": [],
     "prompt_number": 164
    },
    {
     "cell_type": "code",
     "collapsed": false,
     "input": [
      "#fit and score model\n",
      "model.fit(X_train, y_train)\n",
      "score = np.corrcoef(model.predict(X_test), y_test)[0,1]"
     ],
     "language": "python",
     "metadata": {},
     "outputs": [],
     "prompt_number": 165
    },
    {
     "cell_type": "code",
     "collapsed": false,
     "input": [
      "print score"
     ],
     "language": "python",
     "metadata": {},
     "outputs": [
      {
       "output_type": "stream",
       "stream": "stdout",
       "text": [
        "0.325779107524\n"
       ]
      }
     ],
     "prompt_number": 166
    },
    {
     "cell_type": "code",
     "collapsed": false,
     "input": [
      "zip(features, mod.coef_)"
     ],
     "language": "python",
     "metadata": {},
     "outputs": [
      {
       "metadata": {},
       "output_type": "pyout",
       "prompt_number": 167,
       "text": [
        "[('maxes', 0.52926412222834551),\n",
        " ('means', -0.37121709032799688),\n",
        " ('stds', 0.0098097858082628678),\n",
        " ('lats_pro', -0.1973425865440098)]"
       ]
      }
     ],
     "prompt_number": 167
    },
    {
     "cell_type": "code",
     "collapsed": false,
     "input": [
      "## test how many cv folds to make for external loop\n",
      "mean_scores = dict()\n",
      "std_scores = dict()\n",
      "#for nfolds in np.arange(10,110,10): #how many cv folds\n",
      "nfolds = 100\n",
      "scores, coefs = [[] for i in range(2)]\n",
      "\n",
      "for n in np.arange(nfolds):\n",
      "    #split data into train and test\n",
      "    X_train, X_test, y_train, y_test = cross_validation.train_test_split(X, Y, test_size=0.2)\n",
      "\n",
      "    #scale training and test data\n",
      "    X_train = scale(X_train.astype(float))\n",
      "    X_test = scale(X_test.astype(float))\n",
      "    y_train = scale(y_train.astype(float))\n",
      "    y_test = scale(y_test.astype(float))\n",
      "\n",
      "    #internal cross validation folds for alpha\n",
      "    cvs = cross_validation.ShuffleSplit(len(y_train), n_iter=10, test_size= 0.2)\n",
      "    model = Ridge(solver = 'lsqr', normalize=False, fit_intercept=False)\n",
      "    params_grid = {'alpha': np.logspace(-3, 3, 10)}\n",
      "    ridge_grid = grid_search.GridSearchCV(model, params_grid, cv = 10)\n",
      "\n",
      "    alphas = list()\n",
      "    for train, test in cvs:\n",
      "        ridge_grid.fit(X_train[train],y_train[train])\n",
      "        a = ridge_grid.best_params_.values()[0]\n",
      "        alphas.append(a)\n",
      "\n",
      "    #model with best alpha\n",
      "    model = Ridge(solver = 'lsqr', alpha = np.mean(alphas), normalize = False, fit_intercept= False) #using median alpha\n",
      "\n",
      "    model.fit(X_train, y_train)\n",
      "    score = np.corrcoef(model.predict(X_test), y_test)[0,1]\n",
      "    scores.append(score)\n",
      "    coefs.append(model.coef_)\n",
      "    \n",
      "#mean_scores[nfolds] = np.mean(scores)\n",
      "#std_scores[nfolds] = np.std(scores)\n",
      "#print (nfolds, mean_scores[nfolds], std_scores[nfolds])"
     ],
     "language": "python",
     "metadata": {},
     "outputs": [],
     "prompt_number": 254
    },
    {
     "cell_type": "code",
     "collapsed": false,
     "input": [
      "print np.mean(coefs, axis = 0)\n",
      "print np.median(coefs, axis = 0)\n",
      "print ''\n",
      "hist(np.array(coefs)[:,0])"
     ],
     "language": "python",
     "metadata": {},
     "outputs": [
      {
       "output_type": "stream",
       "stream": "stdout",
       "text": [
        "[ 0.04633456 -0.02909264  0.02181182 -0.0594879 ]\n",
        "[ 0.03388635 -0.01928304  0.01594399 -0.04567312]\n",
        "\n"
       ]
      },
      {
       "metadata": {},
       "output_type": "pyout",
       "prompt_number": 262,
       "text": [
        "(array([ 33.,  29.,  16.,   8.,   4.,   1.,   3.,   4.,   0.,   2.]),\n",
        " array([ 0.00262008,  0.0224418 ,  0.04226351,  0.06208523,  0.08190695,\n",
        "         0.10172867,  0.12155039,  0.14137211,  0.16119383,  0.18101555,\n",
        "         0.20083727]),\n",
        " <a list of 10 Patch objects>)"
       ]
      }
     ],
     "prompt_number": 262
    },
    {
     "cell_type": "code",
     "collapsed": false,
     "input": [
      "f, ax = plt.subplots()\n",
      "plt.plot(mean_scores.keys(), mean_scores.values(), '.')\n",
      "ax.set_xlim(0, 110)\n",
      "ax.set_ylim(0, 1)\n",
      "ax.set_xlabel('number of external cv folds')\n",
      "ax.set_ylabel('mean prediction score')\n",
      "plt.savefig('/home/knight/matar/MATLAB/DATA/Avgusta/PCA/Stats/Regression/external_cv_JH2_SelfVis_meanalpha.png')"
     ],
     "language": "python",
     "metadata": {},
     "outputs": [],
     "prompt_number": 197
    },
    {
     "cell_type": "code",
     "collapsed": false,
     "input": [
      "hist(scores)\n",
      "print mean(scores)\n",
      "print median(scores)"
     ],
     "language": "python",
     "metadata": {},
     "outputs": [
      {
       "output_type": "stream",
       "stream": "stdout",
       "text": [
        "0.324656823353\n",
        "0.35171638898\n"
       ]
      }
     ],
     "prompt_number": 198
    },
    {
     "cell_type": "code",
     "collapsed": false,
     "input": [
      "#see when alpha levels off\n",
      "#(from the internal cross validation folds for alpha)\n",
      "mean_alphas, std_alphas, median_alphas = [dict() for x in np.arange(3)]\n",
      "for n_iter in np.arange(10, 110, 5):\n",
      "    cvs = cross_validation.ShuffleSplit(len(y_train), n_iter=10, test_size= 0.2)\n",
      "    model = Ridge(solver = 'lsqr', normalize=False, fit_intercept=False)\n",
      "    params_grid = {'alpha': np.logspace(-3, 3, 10)}\n",
      "    ridge_grid = grid_search.GridSearchCV(model, params_grid, cv = 10)\n",
      "\n",
      "    alphas = list()\n",
      "    for train, test in cvs:\n",
      "        ridge_grid.fit(X_train[train],y_train[train])\n",
      "        a = ridge_grid.best_params_.values()[0]\n",
      "        alphas.append(a)\n",
      "    mean_alphas[n_iter] = np.mean(alphas)\n",
      "    median_alphas[n_iter] = np.median(alphas)\n",
      "    std_alphas[n_iter] = np.std(alphas)\n",
      "    print (n_iter, mean_alphas[n_iter], median_alphas[n_iter], std_alphas[n_iter])"
     ],
     "language": "python",
     "metadata": {},
     "outputs": [
      {
       "output_type": "stream",
       "stream": "stdout",
       "text": [
        "(10, 330.40137920293478, 28.207944168063865, 442.41657414963311)\n",
        "(15, 252.73028263425039, 28.207944168063865, 381.67528787680322)"
       ]
      },
      {
       "output_type": "stream",
       "stream": "stdout",
       "text": [
        "\n",
        "(20, 135.25841150555073, 10.0, 294.64990447373469)"
       ]
      },
      {
       "output_type": "stream",
       "stream": "stdout",
       "text": [
        "\n",
        "(25, 117.57109690784787, 10.0, 294.71131647010958)"
       ]
      },
      {
       "output_type": "stream",
       "stream": "stdout",
       "text": [
        "\n",
        "(30, 429.40137920293472, 130.92967866965799, 469.57635374890492)"
       ]
      },
      {
       "output_type": "stream",
       "stream": "stdout",
       "text": [
        "\n",
        "(35, 262.66504913508868, 46.415888336127729, 375.71535037325759)"
       ]
      },
      {
       "output_type": "stream",
       "stream": "stdout",
       "text": [
        "\n",
        "(40, 214.32959355556167, 10.0, 393.12050799807048)"
       ]
      },
      {
       "output_type": "stream",
       "stream": "stdout",
       "text": [
        "\n",
        "(45, 231.18603573393156, 10.0, 389.17868541885133)"
       ]
      },
      {
       "output_type": "stream",
       "stream": "stdout",
       "text": [
        "\n",
        "(50, 515.92476650083836, 523.20794416806382, 484.23957471283262)"
       ]
      },
      {
       "output_type": "stream",
       "stream": "stdout",
       "text": [
        "\n",
        "(55, 57.418287356199322, 10.0, 80.419067556517604)"
       ]
      },
      {
       "output_type": "stream",
       "stream": "stdout",
       "text": [
        "\n",
        "(60, 40.469213401157148, 10.0, 60.8289569811446)"
       ]
      },
      {
       "output_type": "stream",
       "stream": "stdout",
       "text": [
        "\n",
        "(65, 142.12080223476988, 46.415888336127729, 292.10450404242476)"
       ]
      },
      {
       "output_type": "stream",
       "stream": "stdout",
       "text": [
        "\n",
        "(70, 432.82762456754443, 130.92967866965799, 466.6398216857794)"
       ]
      },
      {
       "output_type": "stream",
       "stream": "stdout",
       "text": [
        "\n",
        "(75, 156.58731493686639, 28.207944168063865, 291.95023816564685)"
       ]
      },
      {
       "output_type": "stream",
       "stream": "stdout",
       "text": [
        "\n",
        "(80, 160.05987618981209, 46.415888336127729, 290.41412784622594)"
       ]
      },
      {
       "output_type": "stream",
       "stream": "stdout",
       "text": [
        "\n",
        "(85, 61.228903770479143, 28.207944168063865, 78.87327542446728)"
       ]
      },
      {
       "output_type": "stream",
       "stream": "stdout",
       "text": [
        "\n",
        "(90, 276.91621836818206, 130.92967866965799, 371.08363133330198)"
       ]
      },
      {
       "output_type": "stream",
       "stream": "stdout",
       "text": [
        "\n",
        "(95, 205.7437429357264, 130.92967866965799, 277.68262720822412)"
       ]
      },
      {
       "output_type": "stream",
       "stream": "stdout",
       "text": [
        "\n",
        "(100, 255.4182873561993, 46.415888336127729, 380.138901763033)"
       ]
      },
      {
       "output_type": "stream",
       "stream": "stdout",
       "text": [
        "\n",
        "(105, 184.2458119237437, 46.415888336127729, 284.34141926521789)"
       ]
      },
      {
       "output_type": "stream",
       "stream": "stdout",
       "text": [
        "\n"
       ]
      }
     ],
     "prompt_number": 199
    },
    {
     "cell_type": "code",
     "collapsed": false,
     "input": [
      "f, ax  = plt.subplots(2,1)\n",
      "ax[0].plot(mean_alphas.keys(), mean_alphas.values(),'.')\n",
      "ax[0].set_xlim(0, 110)\n",
      "ax[0].set_ylabel('mean alpha value')\n",
      "\n",
      "ax[1].plot(median_alphas.keys(), median_alphas.values(),'.')\n",
      "ax[1].set_xlim(0, 110)\n",
      "ax[1].set_xlabel('number of cv folds')\n",
      "ax[1].set_ylabel('median alpha value')\n",
      "\n",
      "\n",
      "plt.savefig('/home/knight/matar/MATLAB/DATA/Avgusta/PCA/Stats/Regression/alpha_cv_JH2_SelfVis_alphas.png')"
     ],
     "language": "python",
     "metadata": {},
     "outputs": [],
     "prompt_number": 209
    },
    {
     "cell_type": "code",
     "collapsed": false,
     "input": [
      "x = hist(alphas)\n",
      "x[1][np.argmax(x[0])]\n",
      "print x\n",
      "print alphas"
     ],
     "language": "python",
     "metadata": {},
     "outputs": [
      {
       "output_type": "stream",
       "stream": "stdout",
       "text": [
        "(array([ 6.,  0.,  3.,  0.,  0.,  0.,  0.,  0.,  0.,  1.]), array([  4.64158883e-01,   1.00417743e+02,   2.00371327e+02,\n",
        "         3.00324911e+02,   4.00278495e+02,   5.00232079e+02,\n",
        "         6.00185664e+02,   7.00139248e+02,   8.00092832e+02,\n",
        "         9.00046416e+02,   1.00000000e+03]), <a list of 10 Patch objects>)\n",
        "[46.415888336127729, 46.415888336127729, 0.46415888336127775, 215.44346900318823, 46.415888336127729, 215.44346900318823, 46.415888336127729, 215.44346900318823, 1000.0, 10.0]\n"
       ]
      }
     ],
     "prompt_number": 223
    },
    {
     "cell_type": "code",
     "collapsed": false,
     "input": [],
     "language": "python",
     "metadata": {},
     "outputs": []
    },
    {
     "cell_type": "code",
     "collapsed": false,
     "input": [
      "#old \n",
      "reconlist = os.path.join(SJdir, 'PCA', 'reconlist.xlsx')\n",
      "reconlist = pd.ExcelFile(reconlist).parse('Sheet1')"
     ],
     "language": "python",
     "metadata": {},
     "outputs": []
    },
    {
     "cell_type": "code",
     "collapsed": false,
     "input": [
      "df = pd.DataFrame.from_csv(os.path.join(SJdir, 'PCA', 'duration_dict', 'groupidx_activeclusters_hclust_withduration_thresh15.csv'))\n",
      "df = df.loc[(df.Rvals>0.1) & (df.pvals<0.05) & (df.best_offset>-300)] #only duration clusters (need to tweak criteria)"
     ],
     "language": "python",
     "metadata": {},
     "outputs": [],
     "prompt_number": 6
    },
    {
     "cell_type": "code",
     "collapsed": false,
     "input": [
      "for x in reconlist.values[[0]]:\n",
      "    subj_task, recon, _, _ = x\n",
      "    subj, task = subj_task.split('_')\n",
      "    subj_task = df.loc[(df.subj == subj) & (df.task == task)]\n",
      "\n",
      "    filename = os.path.join(SJdir,'Subjs', subj, task, 'HG_elecMTX_percent.mat')\n",
      "    data = spio.loadmat(filename, struct_as_record = True)\n",
      "    active_elecs = data['active_elecs'].squeeze()\n",
      "    RTs = data['RTs'].squeeze()\n",
      "    srate = data['srate']\n",
      "    data = data['data_percent'] #elecs x trials x time\n",
      "    \n",
      "    idx = np.in1d(active_elecs, subj_task.active_elecs)    \n",
      "    data = data[idx,:,:]\n",
      "    \n",
      "    latencies = pd.DataFrame(np.argmax(data, axis = 2).transpose(), columns = map(lambda x: ''.join(['lat_e', str(x)]), subj_task.active_elecs.values))#trials x elecs \n",
      "    peaks = pd.DataFrame(np.max(data, axis = 2).transpose(), columns = map(lambda x: ''.join(['peak_e', str(x)]), subj_task.active_elecs.values))#trials x elecs \n",
      "    means = pd.DataFrame(np.mean(data, axis = 2).transpose(), columns = map(lambda x: ''.join(['mean_e', str(x)]), subj_task.active_elecs.values))#trials x elecs \n",
      "    sums = pd.DataFrame(np.sum(data, axis = 2).transpose(), columns = map(lambda x: ''.join(['sum_e', str(x)]), subj_task.active_elecs.values))#trials x elecs \n",
      "    \n",
      "    df = pd.concat([latencies, peaks, means, sums], axis = 1)\n",
      "    \n",
      "    #res = pd.ols(y=RTs, x=df) \n",
      "    \n",
      "    #clf = linear_model.RidgeCV(alphas=[0.1, 1.0, 10.0]\n",
      "    #clf.fit([[0, 0], [0, 0], [1, 1]], [0, .1, 1])\n",
      "    \n",
      "    \n",
      "    "
     ],
     "language": "python",
     "metadata": {},
     "outputs": [],
     "prompt_number": 7
    },
    {
     "cell_type": "code",
     "collapsed": false,
     "input": [
      "\n",
      "X = df\n",
      "y = np.array(RTs)\n",
      "y = y.reshape((y.shape[0],-1)) #add dimension\n",
      "X_train, X_test, y_train, y_test = train_test_split(X, y, test_size=0.25)"
     ],
     "language": "python",
     "metadata": {},
     "outputs": [],
     "prompt_number": 68
    },
    {
     "cell_type": "code",
     "collapsed": false,
     "input": [
      "print X.shape\n",
      "print X_train.shape\n",
      "print X_test.shape\n",
      "print y.shape"
     ],
     "language": "python",
     "metadata": {},
     "outputs": [
      {
       "output_type": "stream",
       "stream": "stdout",
       "text": [
        "(138, 56)\n",
        "(103, 56)\n",
        "(35, 56)\n",
        "(138, 1)\n"
       ]
      }
     ],
     "prompt_number": 69
    },
    {
     "cell_type": "code",
     "collapsed": false,
     "input": [
      "#clf = linear_model.RidgeCV(alphas = [0.1, 1, 10])\n",
      "#clf.fit(df, RTs)\n",
      "#clf.best_alpha\n",
      "\n",
      "#clf = linear_model.MultiTaskLassoCV()\n",
      "ridge = linear_model.RidgeCV()\n",
      "y_pred = ridge.fit(X_train, y_train).predict(X_test)\n",
      "\n",
      "print \"r^2 on test data : %f\" % (1 - np.linalg.norm(y_test - y_pred)**2\n",
      "                                      / np.linalg.norm(y_test)**2)\n",
      "print \"R^2 score : %f\" % (ridge.score(X_test, y_test))"
     ],
     "language": "python",
     "metadata": {},
     "outputs": [
      {
       "output_type": "stream",
       "stream": "stdout",
       "text": [
        "r^2 on test data : -1.167184\n",
        "R^2 score : -0.352633\n"
       ]
      }
     ],
     "prompt_number": 106
    },
    {
     "cell_type": "code",
     "collapsed": false,
     "input": [
      "plot(ridge.coef_.flatten(),'.')"
     ],
     "language": "python",
     "metadata": {},
     "outputs": [
      {
       "metadata": {},
       "output_type": "pyout",
       "prompt_number": 96,
       "text": [
        "[<matplotlib.lines.Line2D at 0x84cd510>]"
       ]
      },
      {
       "metadata": {},
       "output_type": "display_data",
       "png": "[encoded data removed]",
       "text": [
        "<matplotlib.figure.Figure at 0x82d7210>"
       ]
      }
     ],
     "prompt_number": 96
    },
    {
     "cell_type": "code",
     "collapsed": false,
     "input": [
      "xaxis = np.arange(df.shape[1])\n",
      "bar(xaxis, ridge.coef_.flatten())\n",
      "#plt.xticks(xaxis, df.columns, rotation = 90)"
     ],
     "language": "python",
     "metadata": {},
     "outputs": [
      {
       "metadata": {},
       "output_type": "pyout",
       "prompt_number": 98,
       "text": [
        "<Container object of 56 artists>"
       ]
      },
      {
       "metadata": {},
       "output_type": "display_data",
       "png": "[encoded data removed]",
       "text": [
        "<matplotlib.figure.Figure at 0x849b890>"
       ]
      }
     ],
     "prompt_number": 98
    },
    {
     "cell_type": "code",
     "collapsed": false,
     "input": [
      "plot(y_pred, y_test,'.')"
     ],
     "language": "python",
     "metadata": {},
     "outputs": [
      {
       "metadata": {},
       "output_type": "pyout",
       "prompt_number": 80,
       "text": [
        "[<matplotlib.lines.Line2D at 0x6827d50>]"
       ]
      },
      {
       "metadata": {},
       "output_type": "display_data",
       "png": "[encoded data removed]",
       "text": [
        "<matplotlib.figure.Figure at 0x6a7f050>"
       ]
      }
     ],
     "prompt_number": 80
    },
    {
     "cell_type": "code",
     "collapsed": false,
     "input": [
      "X = df\n",
      "y = np.array(RTs)\n",
      "y = y.reshape((y.shape[0],-1)) #add dimension\n",
      "clf = linear_model.RidgeCV(alphas = [0.1, 1, 10, 100, 1000])\n",
      "\n",
      "X_train, X_test, y_train, y_test = train_test_split(X, y, test_size=0.25)"
     ],
     "language": "python",
     "metadata": {},
     "outputs": [
      {
       "ename": "NameError",
       "evalue": "name 'train_test_split' is not defined",
       "output_type": "pyerr",
       "traceback": [
        "\u001b[1;31m---------------------------------------------------------------------------\u001b[0m\n\u001b[1;31mNameError\u001b[0m                                 Traceback (most recent call last)",
        "\u001b[1;32m<ipython-input-164-07d9aa1f999a>\u001b[0m in \u001b[0;36m<module>\u001b[1;34m()\u001b[0m\n\u001b[0;32m      4\u001b[0m \u001b[0mclf\u001b[0m \u001b[1;33m=\u001b[0m \u001b[0mlinear_model\u001b[0m\u001b[1;33m.\u001b[0m\u001b[0mRidgeCV\u001b[0m\u001b[1;33m(\u001b[0m\u001b[0malphas\u001b[0m \u001b[1;33m=\u001b[0m \u001b[1;33m[\u001b[0m\u001b[1;36m0.1\u001b[0m\u001b[1;33m,\u001b[0m \u001b[1;36m1\u001b[0m\u001b[1;33m,\u001b[0m \u001b[1;36m10\u001b[0m\u001b[1;33m,\u001b[0m \u001b[1;36m100\u001b[0m\u001b[1;33m,\u001b[0m \u001b[1;36m1000\u001b[0m\u001b[1;33m]\u001b[0m\u001b[1;33m)\u001b[0m\u001b[1;33m\u001b[0m\u001b[0m\n\u001b[0;32m      5\u001b[0m \u001b[1;33m\u001b[0m\u001b[0m\n\u001b[1;32m----> 6\u001b[1;33m \u001b[0mX_train\u001b[0m\u001b[1;33m,\u001b[0m \u001b[0mX_test\u001b[0m\u001b[1;33m,\u001b[0m \u001b[0my_train\u001b[0m\u001b[1;33m,\u001b[0m \u001b[0my_test\u001b[0m \u001b[1;33m=\u001b[0m \u001b[0mtrain_test_split\u001b[0m\u001b[1;33m(\u001b[0m\u001b[0mX\u001b[0m\u001b[1;33m,\u001b[0m \u001b[0my\u001b[0m\u001b[1;33m,\u001b[0m \u001b[0mtest_size\u001b[0m\u001b[1;33m=\u001b[0m\u001b[1;36m0.25\u001b[0m\u001b[1;33m)\u001b[0m\u001b[1;33m\u001b[0m\u001b[0m\n\u001b[0m",
        "\u001b[1;31mNameError\u001b[0m: name 'train_test_split' is not defined"
       ]
      }
     ],
     "prompt_number": 164
    },
    {
     "cell_type": "markdown",
     "metadata": {},
     "source": [
      "###calculate regression for HG properties for each active elec - vs RT (old)"
     ]
    },
    {
     "cell_type": "code",
     "collapsed": false,
     "input": [
      "import os\n",
      "import pandas as pd\n",
      "import numpy as np\n",
      "import scipy.io as spio\n",
      "from __future__ import division\n",
      "import glob\n"
     ],
     "language": "python",
     "metadata": {},
     "outputs": [],
     "prompt_number": 174
    },
    {
     "cell_type": "code",
     "collapsed": false,
     "input": [
      "datafolder = '/Users/matar/Dropbox/PCA_elecs/'\n",
      "SJdir = '/Users/matar/Documents/MATLAB/DATA/Avgusta/'\n",
      "SJdir = '/Users/matar/Documents/MATLAB/DATA/Avgusta/Subjs'\n",
      "savedir = '/Users/matar/Dropbox/PCA_elecs/regression/'"
     ],
     "language": "python",
     "metadata": {},
     "outputs": [],
     "prompt_number": 15
    },
    {
     "cell_type": "code",
     "collapsed": false,
     "input": [
      "#get list of subj_task\n",
      "text_file = open(os.path.join(datafolder, 'test.subjects'),'r')\n",
      "lines = text_file.readlines()\n",
      "text_file.close()\n",
      "lines = [x[0:-1] for x in lines]"
     ],
     "language": "python",
     "metadata": {},
     "outputs": [],
     "prompt_number": 13
    },
    {
     "cell_type": "code",
     "collapsed": false,
     "input": [
      "#for i in np.arange(len(lines)):\n",
      "for i in [37]:\n",
      "    [subj, task] = lines[i].split('_')\n",
      "    \n",
      "    filename = os.path.join(SJdir, subj, task, 'HG_elecMTX_percent.mat')\n",
      "    data = spio.loadmat(filename, struct_as_record = True)\n",
      "    active_elecs = data['active_elecs'].squeeze()\n",
      "    RTs = data['RTs'].squeeze()\n",
      "    srate = data['srate']\n",
      "    HGdata = data['data_percent'] #elecs x trials x time\n",
      "    \n",
      "    for j, a in enumerate(active_elecs):\n",
      "                    \n",
      "        edata = HGdata[j,:,:]\n",
      "        \n",
      "        #take mean of every 4 trials and every 4 RTs\n",
      "        total = edata.shape[0]/4\n",
      "        idx = np.hstack([tile(j,4) for j in np.arange(total)])\n",
      "        edata4 = pd.DataFrame(edata)\n",
      "        edata4 = edata4.groupby(idx[0:edata4.shape[0]]).apply(mean)\n",
      "        \n",
      "        RT4 = pd.DataFrame(RTs)\n",
      "        RT4 = RT4.groupby(idx[0:RT4.shape[0]]).apply(mean).squeeze()\n",
      "\n",
      "        #calculate time to peak, peak value, \n",
      "        latencies = edata4.idxmax(axis = 1)-500 #to account for bl\n",
      "        peaks = edata4.max(axis = 1)\n",
      "        \n",
      "        # fit regression model (using pandas framework)\n",
      "        res = ols(y=RT4, x=latencies) \n",
      "        offset = res.beta.intercept\n",
      "        pval = res.f_stat['p-value']\n",
      "        offset = res.beta.intercept\n",
      "        beta = res.beta['x']\n",
      "        \n",
      "        #plot\n",
      "        figure(figsize=(10, 10), facecolor='w', edgecolor='k')\n",
      "        plt.subplot(221)\n",
      "        \n",
      "        plt.autoscale(enable = True, tight = True)\n",
      "        cax = plt.pcolormesh(np.arange(-500, cdata4.shape[1]-500), np.arange(0, cdata4.shape[0]), np.array(cdata4), zorder = 0)\n",
      "        cbar = plt.colorbar(cax, ticks = [-150, 0 , 150], orientation = 'vertical')\n",
      "        cax.set_clim(vmin=-150,vmax=150)\n",
      "        \n",
      "        for j in np.arange(len(RT4)):\n",
      "            plt.plot((RT4[j], RT4[j]), (j-0.5, j+0.5), 'k', linewidth = 3,zorder = 1)\n",
      "            #plt.plot((latencies[j], latencies[j]), (j-0.5, j+0.5),'b',linewidth = 3, zorder = 1)\n",
      "        title(\"%s %s cluster %i, grouped trials\" %(subj, task, g))\n",
      "        \n",
      "        plt.subplot(222)\n",
      "        plt.autoscale(enable = True, tight = True)\n",
      "        plt.plot(latencies,np.arange(len(RT4)),'g.')\n",
      "        plt.plot(RT4, np.arange(len(RT4)),'ks')\n",
      "        xlabel('time')\n",
      "        ylabel('trials')\n",
      "        title(\"HG peak latencies\")\n",
      "\n",
      "        plt.subplot(223)\n",
      "        iqr = np.percentile(latencies, [25, 75])\n",
      "        iqr = max(iqr)-min(iqr)\n",
      "        binsize = 2 * iqr * (len(latencies)**-1/3) #Freedman\u2013Diaconis rule\n",
      "        nbins = (max(latencies)-min(latencies))/binsize\n",
      "        n, bins, patches = plt.hist(latencies, bins = nbins, normed=0)\n",
      "        h = plt.setp(patches, 'facecolor', 'g', 'alpha', 0.75)\n",
      "        xlabel(\"latencies\")\n",
      "        ylabel(\"count\")\n",
      "        \n",
      "        #y = normpdf( bins, mean(latencies), std(latencies))# add a line showing the expected normal distribution (only works of normed =1)\n",
      "        #l = plt.plot(bins, y, 'r--', linewidth=1.5)\n",
      "        #plt.legend(['normpdf','latencies'])\n",
      "        \n",
      "        plt.subplot(224)\n",
      "        plt.scatter(latencies, RT4,s = 20)\n",
      "        plt.hold(True)\n",
      "        x = np.array([min(latencies), max(latencies)])\n",
      "        y = offset + beta * x\n",
      "        plt.plot(x,y,'r')\n",
      "        title(\"offset %dms, slope %0.2f, pval %f\" %(offset, beta, pval))\n",
      "        xlabel('latencies')\n",
      "        ylabel('RTs')\n",
      "        \n",
      "        filename = os.path.join(savedir, ''.join([lines[i], '_c', str(g+1), '.png']))\n",
      "        plt.savefig(filename)  \n",
      "        plt.close()\n"
     ],
     "language": "python",
     "metadata": {},
     "outputs": []
    },
    {
     "cell_type": "code",
     "collapsed": false,
     "input": [
      "#for i in np.arange(len(lines)):\n",
      "latencies = list(); peaks = list(); elecs = list(); RTs_all = list(); means = list(); sums  =list()\n",
      "for i in [37]:\n",
      "    [subj, task] = lines[i].split('_')\n",
      "    \n",
      "    filename = os.path.join(SJdir, 'Subjs',subj, task, 'time_windows_onsets_stim.mat')\n",
      "    stim_onsets = spio.loadmat(filename, struct_as_record = True)['time_windows_onsets_stim']\n",
      "    filename = os.path.join(SJdir, 'Subjs',subj, task,'time_windows_onsets_resp.mat')\n",
      "    resp_onsets = spio.loadmat(filename, struct_as_record = True)['time_windows_onsets_resp']\n",
      "     \n",
      "    filename = os.path.join(SJdir, 'Subjs', subj, task, 'HG_elecMTX_percent.mat')\n",
      "    data = spio.loadmat(filename, struct_as_record = True)\n",
      "    active_elecs = data['active_elecs'].squeeze()\n",
      "    RTs = data['RTs'].squeeze()\n",
      "    srate = data['srate']\n",
      "    HGdata = data['data_percent'] #elecs x trials x time\n",
      "    \n",
      "    for j, a in enumerate(active_elecs):\n",
      "            \n",
      "        #define onset of HG\n",
      "        onset = int(stim_onsets[a-1]/1000*srate)\n",
      "        if onset<0:\n",
      "            onset = int(resp_onsets[a-1]/1000*srate)\n",
      "        onset = int(np.round(onset + 500/1000*srate))#to account for baseline\n",
      "\n",
      "        edata = HGdata[j,:,onset::] #drop everything before onset of HG\n",
      "        \n",
      "        #take mean of every 4 trials and every 4 RTs\n",
      "        total = edata.shape[0]/4\n",
      "        idx = np.hstack([tile(j,4) for j in np.arange(total)])\n",
      "        edata4 = pd.DataFrame(edata)\n",
      "        edata4 = edata4.groupby(idx[0:edata4.shape[0]]).apply(mean)\n",
      "            \n",
      "        RT4 = pd.DataFrame(RTs)\n",
      "        RT4 = RT4.groupby(idx[0:RT4.shape[0]]).apply(mean).squeeze()\n",
      "\n",
      "        #calculate time to peak, peak value, \n",
      "        latencies.append(edata4.idxmax(axis = 1)) #to account for bl\n",
      "        peaks.append(edata4.max(axis = 1))\n",
      "        elecs.append(tile(a, edata4.shape[0]))\n",
      "        means.append(edata4.mean(axis = 1))\n",
      "        sums.append(sum(edata4, axis = 1))\n",
      "        \n",
      "        #if a == 1:\n",
      "        #    plt.plot(edata4.transpose())\n",
      "        #    plot(edata4.idxmax(axis = 1), edata4.max(axis=1), 'ko')\n",
      "\n",
      "latencies = np.array(latencies).transpose() #trials x elecs\n",
      "peaks = np.array(peaks).transpose() \n",
      "means = np.array(means).transpose() \n",
      "sums = np.array(sums).transpose() "
     ],
     "language": "python",
     "metadata": {},
     "outputs": [],
     "prompt_number": 305
    },
    {
     "cell_type": "code",
     "collapsed": false,
     "input": [
      "from sklearn import linear_model, metrics, cross_validation\n",
      "from sklearn.cross_validation import LeaveOneOut, train_test_split, StratifiedKFold\n",
      "from sklearn.feature_selection import RFECV\n",
      "from sklearn.metrics import zero_one_loss\n"
     ],
     "language": "python",
     "metadata": {},
     "outputs": [],
     "prompt_number": 178
    },
    {
     "cell_type": "code",
     "collapsed": false,
     "input": [
      "betas.shape"
     ],
     "language": "python",
     "metadata": {},
     "outputs": [
      {
       "metadata": {},
       "output_type": "pyout",
       "prompt_number": 330,
       "text": [
        "(24, 64)"
       ]
      }
     ],
     "prompt_number": 330
    },
    {
     "cell_type": "code",
     "collapsed": false,
     "input": [
      "X = hstack([latencies, peaks, means, sums])\n",
      "y = np.array(RT4)\n",
      "y = y.reshape((y.shape[0],-1)) #add dimension\n",
      "clf = linear_model.RidgeCV(alphas = [0.1, 1, 10, 100, 1000])\n",
      "\n",
      "X_train, X_test, y_train, y_test = train_test_split(X, y, test_size=0.25)"
     ],
     "language": "python",
     "metadata": {},
     "outputs": [],
     "prompt_number": 316
    },
    {
     "cell_type": "code",
     "collapsed": false,
     "input": [
      "from sklearn.linear_model import (ElasticNet, LassoCV)\n",
      "from sklearn.metrics import r2_score\n",
      "from sklearn.svm import SVR\n",
      "\n",
      "svr_rbf = SVR(kernel='rbf', C=1e3, gamma=0.1)\n",
      "svr_lin = SVR(kernel='linear', C=1e3)\n",
      "y_rbf = svr_rbf.fit(X, y.squeeze()).predict(X)\n",
      "y_lin = svr_lin.fit(X, y.squeeze()).predict(X)\n",
      "\n",
      "#alpha = 0.1\n",
      "lasso = Lasso(alpha=alpha)\n",
      "\n",
      "y_pred_lasso = lasso.fit(X_train, y_train).predict(X_test)\n",
      "r2_score_lasso = r2_score(y_test, y_pred_lasso)\n",
      "print(lasso)\n",
      "print(\"r^2 on test data : %f\" % r2_score_lasso)\n",
      "\n",
      "enet = ElasticNet(alpha=alpha, l1_ratio=0.7)\n",
      "\n",
      "y_pred_enet = enet.fit(X_train, y_train).predict(X_test)\n",
      "r2_score_enet = r2_score(y_test, y_pred_enet)\n",
      "print(enet)\n",
      "print(\"r^2 on test data : %f\" % r2_score_enet)\n",
      "\n",
      "plot(enet.coef_, label='Elastic net coefficients')\n",
      "plot(lasso.coef_, label='Lasso coefficients')\n",
      "legend(loc='best')\n",
      "title(\"Lasso R^2: %f, Elastic Net R^2: %f\"\n",
      "         % (r2_score_lasso, r2_score_enet))\n"
     ],
     "language": "python",
     "metadata": {},
     "outputs": [
      {
       "output_type": "stream",
       "stream": "stdout",
       "text": [
        "Lasso(alpha=0.1, copy_X=True, fit_intercept=True, max_iter=1000,\n",
        "   normalize=False, positive=False, precompute=auto, tol=0.0001,\n",
        "   warm_start=False)\n",
        "r^2 on test data : -0.816221\n",
        "ElasticNet(alpha=0.1, copy_X=True, fit_intercept=True, l1_ratio=0.7,\n",
        "      max_iter=1000, normalize=False, positive=False, precompute=auto,\n",
        "      rho=None, tol=0.0001, warm_start=False)\n",
        "r^2 on test data : -0.811179\n"
       ]
      },
      {
       "metadata": {},
       "output_type": "pyout",
       "prompt_number": 366,
       "text": [
        "<matplotlib.text.Text at 0x1116d58d0>"
       ]
      },
      {
       "metadata": {},
       "output_type": "display_data",
       "png": "[encoded data removed]",
       "text": [
        "<matplotlib.figure.Figure at 0x111665950>"
       ]
      }
     ],
     "prompt_number": 366
    },
    {
     "cell_type": "code",
     "collapsed": false,
     "input": [
      "#fit regression model (using sklearn)\n",
      "betas = np.zeros((len(y_train),X.shape[1]))\n",
      "for train, test, in LeaveOneOut(len(y_train)): #per trial\n",
      "    xtrain, xtest, ytrain, ytest = X_train[train], X_train[test], y_train[train], y_train[test]\n",
      "    \n",
      "    clf.fit(xtrain, ytrain)\n",
      "    betas[test,:] = (clf.coef_.squeeze())\n",
      "\n",
      "#take mean of betas across all folds (1 weight per elec feature)\n",
      "betas = betas.mean(axis = 0)\n",
      "\n",
      "##calculate R2 on held out test set (X_test) compare to y_test)\n",
      "yhat = clf.predict(xtest)\n"
     ],
     "language": "python",
     "metadata": {},
     "outputs": [],
     "prompt_number": 337
    },
    {
     "cell_type": "code",
     "collapsed": false,
     "input": [],
     "language": "python",
     "metadata": {},
     "outputs": [
      {
       "metadata": {},
       "output_type": "pyout",
       "prompt_number": 339,
       "text": [
        "RidgeCV(alphas=[0.1, 1, 10, 100, 1000], cv=None, fit_intercept=True,\n",
        "    gcv_mode=None, loss_func=None, normalize=False, score_func=None,\n",
        "    scoring=None, store_cv_values=False)"
       ]
      }
     ],
     "prompt_number": 339
    },
    {
     "cell_type": "code",
     "collapsed": false,
     "input": [
      "# fit regression model (pandas framework)\n",
      "df = pd.DataFrame([elecs, peaks, latencies, means, RTs_all]).transpose()\n",
      "df.columns = ['elec','peaks','latencies', 'means','RTs']\n",
      "\n",
      "res = pd.ols(y=df['RTs'], x=df[['peaks','latencies','means']])\n",
      "#offset = res.beta.intercept\n",
      "#pval = res.f_stat['p-value']\n",
      "#offset = res.beta.intercept\n",
      "#beta = res.beta['x']"
     ],
     "language": "python",
     "metadata": {},
     "outputs": []
    },
    {
     "cell_type": "markdown",
     "metadata": {},
     "source": [
      "FUNCTIONS"
     ]
    },
    {
     "cell_type": "code",
     "collapsed": false,
     "input": [
      "def get_ROI(subj, e, brain_ROI):\n",
      "    try:\n",
      "        rois = brain_ROI[subj]\n",
      "    except:\n",
      "        return None\n",
      "    else:\n",
      "        for roi, elecs in rois.iteritems():\n",
      "            if np.in1d(e, elecs):\n",
      "                return roi"
     ],
     "language": "python",
     "metadata": {},
     "outputs": [],
     "prompt_number": 217
    },
    {
     "cell_type": "code",
     "collapsed": false,
     "input": [
      "#get all ROIs\n",
      "import itertools\n",
      "datafile = os.path.join('/Users/matar/Dropbox/PCA_elecs','brain_ROI.mat')\n",
      "data = loadmat(datafile)\n",
      "brain_ROI = data['brain_ROI']\n",
      "\n",
      "ROIs = list()\n",
      "subjs = brain_ROI.keys()\n",
      "ROIs = [ROIs + brain_ROI[s].keys() for s in subjs]\n",
      "ROIs = list(set(itertools.chain(*ROIs))) #merge lists, keep only unique ROIS\n",
      "\n",
      "#make color dict\n",
      "color_dict = dict()\n",
      "\n",
      "#R hemisphere (gray)\n",
      "vals = [x for x in ROIs if 'R_' in x]\n",
      "color_dict.update({key: 'grey' for key in vals})\n",
      "#remove Rhemisphere from ROIs\n",
      "[ROIs.remove(i) for i in vals]\n",
      "\n",
      "#OFC, frontal pole (green)\n",
      "vals = [x for x in ROIs if 'OFC' in x]\n",
      "[vals.append(x) for x in ROIs if 'FrPole' in x]\n",
      "color_dict.update({key: 'green' for key in vals})\n",
      "\n",
      "#IFG and Broca (blue)\n",
      "vals = [x for x in ROIs if 'IFG' in x]\n",
      "[vals.append(x) for x in ROIs if 'Broca' in x]\n",
      "color_dict.update({key: 'blue' for key in vals})\n",
      "\n",
      "#MTG and STG and ITG (orange)\n",
      "vals = [x for x in ROIs if 'MTG' in x]\n",
      "[vals.append(x) for x in ROIs if 'STG' in x]\n",
      "[vals.append(x) for x in ROIs if 'ITG' in x]\n",
      "color_dict.update({key: 'orange' for key in vals})\n",
      "\n",
      "#Visual (purple)\n",
      "vals = [x for x in ROIs if 'Occip' in x]\n",
      "[vals.append(x) for x in ROIs if 'Area_37' in x]\n",
      "[vals.append(x) for x in ROIs if 'InfTemp' in x]\n",
      "color_dict.update({key: 'purple' for key in vals})\n",
      "\n",
      "#Medial (pink)\n",
      "vals = [x for x in ROIs if 'Med' in x]\n",
      "vals = [vals.append(x) for x in ROIs if 'CC' in x]\n",
      "color_dict.update({key: 'pink' for key in vals})\n",
      "\n",
      "#Precentral/Postcentral (cyan)\n",
      "vals = [x for x in ROIs if 'centrl' in x]\n",
      "color_dict.update({key: 'cyan' for key in vals})\n",
      "\n",
      "#MFG and SFG (red)\n",
      "vals = [x for x in ROIs if 'MFG' in x]\n",
      "[vals.append(x) for x in ROIs if 'SFG' in x]\n",
      "color_dict.update({key: 'red' for key in vals})"
     ],
     "language": "python",
     "metadata": {},
     "outputs": [],
     "prompt_number": 218
    },
    {
     "cell_type": "code",
     "collapsed": false,
     "input": [
      "\"\"\"\n",
      "helper function from:\n",
      "http://stackoverflow.com/questions/7008608/scipy-io-loadmat-nested-structures-i-e-dictionaries\n",
      "to pull out nested structures (such as brain_ROI)\n",
      "\"\"\"\n",
      "def loadmat(filename):\n",
      "    \"\"\"\n",
      "    this function should be called instead of direct spio.loadmat\n",
      "    as it cures the problem of not properly recovering python dictionaries\n",
      "    from mat files. It calls the function check keys to cure all entries\n",
      "    which are still mat-objects\n",
      "    \"\"\"\n",
      "    data = spio.loadmat(filename, struct_as_record=False, squeeze_me=True)\n",
      "    return _check_keys(data)\n",
      "\n",
      "def _check_keys(dict):\n",
      "    \"\"\"\n",
      "    checks if entries in dictionary are mat-objects. If yes\n",
      "    todict is called to change them to nested dictionaries\n",
      "    \"\"\"\n",
      "    for key in dict:\n",
      "        if isinstance(dict[key], spio.matlab.mio5_params.mat_struct):\n",
      "            dict[key] = _todict(dict[key])\n",
      "    return dict        \n",
      "\n",
      "def _todict(matobj):\n",
      "    \"\"\"\n",
      "    A recursive function which constructs from matobjects nested dictionaries\n",
      "    \"\"\"\n",
      "    dict = {}\n",
      "    for strg in matobj._fieldnames:\n",
      "        elem = matobj.__dict__[strg]\n",
      "        if isinstance(elem, spio.matlab.mio5_params.mat_struct):\n",
      "            dict[strg] = _todict(elem)\n",
      "        else:\n",
      "            dict[strg] = elem\n",
      "    return dict"
     ],
     "language": "python",
     "metadata": {},
     "outputs": [],
     "prompt_number": 215
    }
   ],
   "metadata": {}
  }
 ]
}