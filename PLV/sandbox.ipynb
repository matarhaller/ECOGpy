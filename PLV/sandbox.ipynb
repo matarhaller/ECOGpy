{
 "cells": [
  {
   "cell_type": "code",
   "execution_count": null,
   "metadata": {
    "collapsed": true
   },
   "outputs": [],
   "source": [
    "%pylab inline"
   ]
  },
  {
   "cell_type": "code",
   "execution_count": null,
   "metadata": {
    "collapsed": true
   },
   "outputs": [],
   "source": [
    "sys.path.insert(0, '/home/knight/matar/PYTHON/ECOGpy/pacpy')\n",
    "sys.path.insert(0, '/home/knight/matar/PYTHON/ECOGpy/ecogtools')\n",
    "sys.path.insert(0, '/home/knight/matar/PYTHON/ECOGpy/')\n"
   ]
  },
  {
   "cell_type": "code",
   "execution_count": null,
   "metadata": {
    "collapsed": true
   },
   "outputs": [],
   "source": [
    "from PAC_func import _phase_amplitude_coupling_edited"
   ]
  },
  {
   "cell_type": "code",
   "execution_count": null,
   "metadata": {
    "collapsed": true
   },
   "outputs": [],
   "source": [
    "#get/format data\n",
    "data = gdat  #this is an elec x time matrix\n",
    "sfreq = srate  #1017.3Hz\n",
    "f_phase = np.array((5,9))\n",
    "f_amp = np.array((70,150))\n",
    "ixs = ixs[0]  #just the first pair\n",
    "ev = onsets_resp.astype('int')  #onset times of response\n",
    "t_inc = 0.01\n",
    "tmin = -.50\n",
    "tmax = tmin+t_inc\n",
    "\n",
    "#original method - filter inside\n",
    "p = []\n",
    "while tmin < 0:\n",
    "\tpac_out = cnn._phase_amplitude_coupling(data, sfreq, f_phase, f_amp, [ix],\n",
    "\t\tpac_func='plv', ev=ev,\n",
    "\t\ttmin=tmin, tmax=tmax,\n",
    "\t\tbaseline=None,\n",
    "\t\tnpad='auto',\n",
    "\t\tconcat_epochs=True,\n",
    "\t\tverbose=False)\n",
    "\tp.append(pac_out)\n",
    "\ttmin+=t_inc\n",
    "\ttmax+=t_inc\n",
    "\n",
    "\n",
    "#edited method - filter outside\n",
    "t_inc = 0.01\n",
    "tmin = -.50\n",
    "tmax = tmin+t_inc\n",
    "p = []\n",
    "\n",
    "ixs = np.array(ixs, ndmin=2)\n",
    "f_phase = np.atleast_2d(f_phase)\n",
    "f_amp = np.atleast_2d(f_amp)\n",
    "\n",
    "#filter data\n",
    "data_ph, data_am, ix_map_ph, ix_map_am = _pre_filter_ph_am(\n",
    "\tdata, sfreq, ixs, f_phase, f_amp, npad='auto', hi_phase='plv')\n",
    "\n",
    "data = [(data_ph, ix_map_ph), (data_am, ix_map_am)]\n",
    "while tmin < 0:\n",
    "\tpac_out = _phase_amplitude_coupling_edited(data, sfreq, f_phase, f_amp, ixs,\n",
    "\t\tpac_func='plv', ev=ev,\n",
    "\t\ttmin=tmin, tmax=tmax,\n",
    "\t\tbaseline=None,\n",
    "\t\tnpad='auto',\n",
    "\t\tconcat_epochs=True,\n",
    "\t\tverbose=None,\n",
    "\t\tto_filter=False, return_data = False)\n",
    "\tp.append(pac_out)\n",
    "\ttmin+=t_inc\n",
    "\ttmax+=t_inc"
   ]
  }
 ],
 "metadata": {
  "kernelspec": {
   "display_name": "Python 2",
   "language": "python",
   "name": "python2"
  },
  "language_info": {
   "codemirror_mode": {
    "name": "ipython",
    "version": 2
   },
   "file_extension": ".py",
   "mimetype": "text/x-python",
   "name": "python",
   "nbconvert_exporter": "python",
   "pygments_lexer": "ipython2",
   "version": "2.7.11"
  }
 },
 "nbformat": 4,
 "nbformat_minor": 0
}
