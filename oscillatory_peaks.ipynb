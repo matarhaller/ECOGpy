{
 "metadata": {
  "name": ""
 },
 "nbformat": 3,
 "nbformat_minor": 0,
 "worksheets": [
  {
   "cells": [
    {
     "cell_type": "code",
     "collapsed": false,
     "input": [
      "import scipy as sp\n",
      "import numpy as np\n",
      "import matplotlib.pyplot as plt\n",
      "\n",
      "import os\n",
      "import scipy.io\n",
      "import scipy.signal\n",
      "from sklearn.metrics import mean_squared_error\n"
     ],
     "language": "python",
     "metadata": {},
     "outputs": [],
     "prompt_number": 1
    },
    {
     "cell_type": "code",
     "collapsed": false,
     "input": [
      "datafolder = '/Users/matar/Documents/MATLAB/DATA/Avgusta/Subjs/GP15/EmoGen/'\n",
      "filename = 'raw_elecMTX.mat'\n",
      "filename = os.path.join(datafolder, filename)\n",
      "full_data = sp.io.loadmat(filename)\n",
      "srate = full_data['srate'] # sampling rate\n",
      "elecs = full_data['elecs'] # electrodes\n",
      "data = full_data['data'] # time series"
     ],
     "language": "python",
     "metadata": {},
     "outputs": [],
     "prompt_number": 3
    },
    {
     "cell_type": "code",
     "collapsed": false,
     "input": [
      "elec_data = data[0,:]"
     ],
     "language": "python",
     "metadata": {},
     "outputs": [
      {
       "metadata": {},
       "output_type": "pyout",
       "prompt_number": 16,
       "text": [
        "(147, 513)"
       ]
      }
     ],
     "prompt_number": 16
    },
    {
     "cell_type": "code",
     "collapsed": false,
     "input": [
      "# Resample\n",
      "newsrate = 1024 # new sampling rate\n",
      "if srate!=newsrate:\n",
      "    elec_data_resampled = sp.signal.resample(elec_data, int(np.floor(len(elec_data)*(newsrate/srate))))\n",
      "    \n",
      "# Calculate trial and mean PSDs for testing range of trials\n",
      "f,psd_trial = sp.signal.welch(elec_data_resampled, fs=newsrate, window='hanning', nperseg=newsrate, noverlap=newsrate/2, nfft=None, detrend='linear', return_onesided=True, scaling='density')\n",
      "psd_mean = psd_trial.mean(0)\n",
      "\n",
      "#Cut PSD according to frequency range of interest (1-50Hz)\n",
      "f = f[1:50]\n",
      "psd_mean = psd_mean[1:50]\n",
      "psd_mean = np.log10(psd_mean)\n",
      "    \n",
      "#Calculate Flatspec (PSDMean - 1/f)\n",
      "slope_params = np.polyfit(f, psd_mean, 2)\n",
      "slopefit = np.polyval(slope_params, f)\n",
      "flatspec = psd_mean-slopefit "
     ],
     "language": "python",
     "metadata": {},
     "outputs": [],
     "prompt_number": 19
    },
    {
     "cell_type": "code",
     "collapsed": false,
     "input": [
      "#Find Peaks\n",
      "window = 25 #width of sliding window\n",
      "peakind = find_peaks(flatspec, window, f)"
     ],
     "language": "python",
     "metadata": {},
     "outputs": [],
     "prompt_number": 45
    },
    {
     "cell_type": "code",
     "collapsed": false,
     "input": [
      "print peakind\n",
      "plt.plot(flatspec)\n",
      "plt.plot(peakind, flatspec[peakind], 'k.')"
     ],
     "language": "python",
     "metadata": {},
     "outputs": [
      {
       "output_type": "stream",
       "stream": "stdout",
       "text": [
        "[ 6 22]\n"
       ]
      },
      {
       "metadata": {},
       "output_type": "pyout",
       "prompt_number": 46,
       "text": [
        "[<matplotlib.lines.Line2D at 0x123998090>]"
       ]
      },
      {
       "metadata": {},
       "output_type": "display_data",
       "png": "[encoded data removed]",
       "text": [
        "<matplotlib.figure.Figure at 0x122b10490>"
       ]
      }
     ],
     "prompt_number": 46
    },
    {
     "cell_type": "markdown",
     "metadata": {},
     "source": [
      "__Norm Function__: Takes in arguments that specify the peak position, peak height and standard deviation of Gaussians. Returns combination of gaussians. "
     ]
    },
    {
     "cell_type": "code",
     "collapsed": false,
     "input": [
      "# build combination of gaussians\n",
      "def norm(x, *args):\n",
      "    number_of_gaussians = int(args[-1]) # number of gaussians from peak detection\n",
      "    fitdat = np.array(0)\n",
      "    for peaki in range(number_of_gaussians):\n",
      "        fitdat = fitdat + args[peaki+(2*number_of_gaussians)]*sp.stats.norm.pdf(x, loc=args[peaki], scale=args[peaki+number_of_gaussians]) # add a bunch of gaussians together\n",
      "    return fitdat"
     ],
     "language": "python",
     "metadata": {},
     "outputs": [],
     "prompt_number": 6
    },
    {
     "cell_type": "markdown",
     "metadata": {},
     "source": [
      "__Find Oscillatory Fit__: Takes in the residual PSD (flatspec), the frequency vector(x-axis), and the indixes of the peaks (peakind). Uses educated guess of standard deviation, (4,8,16,...4xnum_peaks). \n",
      "The optimize_curve_fit function is called here; returns the optimal parameters for the gaussian and the gaussian fit itself. \n",
      "*If peak indices have negative or values more than 50, return a fit that's a horizontal line so rsquared value is low"
     ]
    },
    {
     "cell_type": "code",
     "collapsed": false,
     "input": [
      "def find_fit(flatspec, f, peakind):    \n",
      "    #std.dev of gaussians\n",
      "    p = 4*linspace(1,len(peakind), len(peakind))\n",
      "    \n",
      "    params = list(f[peakind]) + list(p.T) + list(flatspec[peakind]) + [len(peakind)] # initial guess for parameters based on peak detection\n",
      "    \n",
      "    oscillatory_fit_params,_ = sp.optimize.curve_fit(norm, f, flatspec, p0=params) # fitting parameters\n",
      "    if (oscillatory_fit_params[0:len(peakind)].any) <= 0:\n",
      "        oscillatory_fit = ones(50,1)\n",
      "    print('fitted params is' + str(oscillatory_fit_params))\n",
      "    oscillatory_fit = norm(f, *oscillatory_fit_params) # fitting\n",
      "    return (oscillatory_fit, oscillatory_fit_params)\n",
      "    "
     ],
     "language": "python",
     "metadata": {},
     "outputs": [],
     "prompt_number": 7
    },
    {
     "cell_type": "markdown",
     "metadata": {},
     "source": [
      "__Find Peaks__: Takes in residual PSD (flatspec), frequency (x-axis) and width of sliding window. Find peaks every *sliding_window* Hz. Overlap of 2Hz for every window. Returns indices of peaks."
     ]
    },
    {
     "cell_type": "code",
     "collapsed": false,
     "input": [
      "def find_peaks (flatspec, sliding_window, f):\n",
      "    peakind = []\n",
      "    max_width = np.uint32(sliding_window/2) #maximum width for find_peaks\n",
      "    finish = 3 #finish = 3, so starts at 1Hz\n",
      "    while (finish <= len(f)):\n",
      "        start = finish - 2 #buffer for overlapping windows\n",
      "        finish = start+sliding_window\n",
      "        peaks = sp.signal.find_peaks_cwt(flatspec[start:finish], np.arange(0.05,max_width))\n",
      "        peaks = peaks+start*ones(len(peaks)) #adjust for peak index with sliding window start\n",
      "        peakind = np.hstack((peakind, peaks))\n",
      "        finish = finish+sliding_window\n",
      "    \n",
      "    peakind = np.array(peakind)\n",
      "    peakind = [i for i in peakind if i <= 40]\n",
      "    peakind = np.uint32(peakind)\n",
      "    return peakind"
     ],
     "language": "python",
     "metadata": {},
     "outputs": [],
     "prompt_number": 44
    },
    {
     "cell_type": "markdown",
     "metadata": {},
     "source": [
      "__Calc Rsqared__: Calculate the adjusted rsquared value given PSD residual and gaussian fit. "
     ]
    },
    {
     "cell_type": "code",
     "collapsed": false,
     "input": [
      "def calc_rsquared(flatspec, oscillatory_fit):\n",
      "    yresid = flatspec - oscillatory_fit\n",
      "    SSResid = sum(pow(yresid,2))\n",
      "    SSTotal = (len(flatspec)-1)*var(flatspec)\n",
      "    rsq = 1 - (SSResid/SSTotal)\n",
      "    return rsq"
     ],
     "language": "python",
     "metadata": {},
     "outputs": [],
     "prompt_number": 7
    },
    {
     "cell_type": "markdown",
     "metadata": {},
     "source": [
      "__Run Validation__: Runs cross validation on 80% of shuffled trials\n",
      "\n",
      "*start, stop*: trial number where to start and stop the validation set\n",
      "\n",
      "*window*: sliding window parameter\n",
      "\n",
      "*elec_array_shuffle*: shuffled trial indices (1-147) for electrode\n",
      "\n",
      "*electrode number*: electrode to run cross validation on\n",
      "\n",
      "RETURNS:\n",
      "*rsq*: rsquared value of gaussian fit on test set with parameters teruned by the optimized fit\n",
      "\n",
      "*oscillatory_fit_params* optimized parameters for gaussian fit\n"
     ]
    },
    {
     "cell_type": "code",
     "collapsed": false,
     "input": [
      "def run_validation (start, stop, window, elec_array_shuffle, elec_num):\n",
      "    elec_data = data[elec_num, :] \n",
      "    \n",
      "    # Resample\n",
      "    newsrate = 1024 # new sampling rate\n",
      "    if srate!=newsrate:\n",
      "        elec_data_resampled = sp.signal.resample(elec_data, int(np.floor(len(elec_data)*(newsrate/srate))))\n",
      "    \n",
      "    if stop > 146:\n",
      "        stop = (146 - stop)\n",
      "        \n",
      "    # Calculate trial and mean PSDs for testing range of trials\n",
      "    f,psd_trial = sp.signal.welch(elec_data_resampled, fs=newsrate, window='hanning', nperseg=newsrate, noverlap=newsrate/2, nfft=None, detrend='linear', return_onesided=True, scaling='density')\n",
      "    psd_mean = psd_trial[start:stop].mean(0)\n",
      "\n",
      "    #Cut PSD according to frequency range of interest (1-50Hz)\n",
      "    f = f[1:50]\n",
      "    psd_mean = psd_mean[1:50]\n",
      "    psd_mean = np.log10(psd_mean)\n",
      "    \n",
      "    #Calculate Flatspec (PSDMean - 1/f)\n",
      "    slope_params = np.polyfit(f, psd_mean, 2)\n",
      "    slopefit = np.polyval(slope_params, f)\n",
      "    flatspec = psd_mean-slopefit \n",
      "    \n",
      "    #Find Peaks\n",
      "    peakind = find_peaks(flatspec, window, f)\n",
      "    \n",
      "    if (peakind == []):\n",
      "        return 0\n",
      "    else:\n",
      "        try:\n",
      "            #Fit Gaussians\n",
      "            oscillatory_fit, oscillatory_fit_params = find_fit(flatspec, f, peakind)\n",
      "        except Exception:\n",
      "            print(e)\n",
      "            return 0\n",
      "\n",
      "    #Calculate R^2 value\n",
      "    rsq = calc_rsquared(flatspec, oscillatory_fit)\n",
      "    return rsq\n"
     ],
     "language": "python",
     "metadata": {},
     "outputs": [],
     "prompt_number": 40
    },
    {
     "cell_type": "markdown",
     "metadata": {},
     "source": [
      "__Param Pair__: Takes in sliding window parameter, shuffled trials and electrode number. Goes through 80% of data cyclically and calculates average r squared value for specific sliding window parameter"
     ]
    },
    {
     "cell_type": "code",
     "collapsed": false,
     "input": [
      "def param_pair(window, trial_array, elec_num):\n",
      "    rsq_array = []\n",
      "\n",
      "    #print('For first 80%')\n",
      "    start = 0\n",
      "    stop = 118\n",
      "    avg_rsq = run_validation (start, stop, window, trial_array, elec_num)\n",
      "    rsq_array = rsq_array + [avg_rsq]\n",
      "    \n",
      "    #print('For second 80%')\n",
      "    start = 28\n",
      "    stop = 146\n",
      "    avg_rsq = run_validation (start, stop, window, trial_array, elec_num)\n",
      "    rsq_array = rsq_array + [avg_rsq]\n",
      "\n",
      "    #print('For third 80%')\n",
      "    start = 56\n",
      "    stop = start+118\n",
      "    avg_rsq = run_validation (start, stop, window, trial_array, elec_num)\n",
      "    rsq_array = rsq_array + [avg_rsq]\n",
      "\n",
      "    #print('For fourth 80%')\n",
      "    start = 84\n",
      "    stop = start+118 \n",
      "    avg_rsq = run_validation (start, stop, window, trial_array, elec_num)\n",
      "    rsq_array = rsq_array + [avg_rsq]\n",
      "\n",
      "    #print('For fifth 80%')\n",
      "    start = 112\n",
      "    stop = start+118\n",
      "    avg_rsq = run_validation (start, stop, window, trial_array, elec_num)\n",
      "    rsq_array = rsq_array + [avg_rsq]\n",
      "    \n",
      "    return mean(rsq_array)"
     ],
     "language": "python",
     "metadata": {},
     "outputs": [],
     "prompt_number": 56
    },
    {
     "cell_type": "markdown",
     "metadata": {},
     "source": [
      "__Manually Testing Sliding Window Lengths__: Manually runnning cross validation with different sliding window parameters"
     ]
    },
    {
     "cell_type": "code",
     "collapsed": false,
     "input": [
      "trial_array = linspace(0, 146,147)\n",
      "shuffle(trial_array)\n",
      "elec_num = 11\n",
      "\n",
      "print('Sliding Window: 5Hz')\n",
      "window = 5;\n",
      "rsq_p11 = param_pair(window, trial_array, elec_num)\n",
      "\n",
      "print('\\n')\n",
      "print('Sliding Window: 7Hz')\n",
      "window = 7;\n",
      "rsq_p12 = param_pair(window, trial_array, elec_num)\n",
      "\n",
      "print('\\n')\n",
      "print('Sliding Window: 10Hz')\n",
      "window = 10;\n",
      "rsq_p21 = param_pair(window, trial_array, elec_num)\n"
     ],
     "language": "python",
     "metadata": {},
     "outputs": [
      {
       "output_type": "stream",
       "stream": "stdout",
       "text": [
        "Sliding Window: 5Hz\n",
        "fitted params is[ 13.52823712  30.0245189   25.65398568   2.09017671   2.6031712\n",
        "   1.59036029  -1.69767176   0.72734047   0.34230856   3.        ]"
       ]
      },
      {
       "output_type": "stream",
       "stream": "stdout",
       "text": [
        "\n",
        "fitted params is[  9.98701801   6.72761051  12.86049306   7.71602285  26.49803349\n",
        "   1.31831626  18.39992689   0.04567815   2.2205094    5.89264922\n",
        "  -1.7912757  -13.4601672   -0.3750101    5.91603909   4.22342552   5.        ]"
       ]
      },
      {
       "output_type": "stream",
       "stream": "stdout",
       "text": [
        "\n",
        "2.71828182846"
       ]
      },
      {
       "output_type": "stream",
       "stream": "stdout",
       "text": [
        "\n",
        "fitted params is[  8.39692275  13.42301237  25.01961405  28.36826441   0.78085825\n",
        "   2.25541398   0.81952379   2.81738898   0.80439335  -1.9059737\n",
        "   0.30279112   0.99610493   4.        ]"
       ]
      },
      {
       "output_type": "stream",
       "stream": "stdout",
       "text": [
        "\n",
        "2.71828182846"
       ]
      },
      {
       "output_type": "stream",
       "stream": "stdout",
       "text": [
        "\n",
        "\n",
        "\n",
        "Sliding Window: 7Hz\n",
        "2.71828182846"
       ]
      },
      {
       "output_type": "stream",
       "stream": "stdout",
       "text": [
        "\n",
        "2.71828182846"
       ]
      },
      {
       "output_type": "stream",
       "stream": "stdout",
       "text": [
        "\n",
        "fitted params is[  0.06941109   8.73058956   9.78688483  49.90285143  27.7129347\n",
        "   9.78474109  40.2418617   21.03273472   0.30691334   2.40057162\n",
        "   1.60625963   0.30059634   5.23887845   4.21034923   3.20750046\n",
        "   1.69930413 -10.37486884  10.38902767  -3.94803228   3.27999375\n",
        "   1.63114782  -7.27142249  -0.58079524  -0.22794613   8.        ]"
       ]
      },
      {
       "output_type": "stream",
       "stream": "stdout",
       "text": [
        "\n",
        "2.71828182846"
       ]
      },
      {
       "output_type": "stream",
       "stream": "stderr",
       "text": [
        "C:\\Anaconda\\lib\\site-packages\\numpy\\lib\\polynomial.py:585: RankWarning: Polyfit may be poorly conditioned\n",
        "  warnings.warn(msg, RankWarning)\n",
        "C:\\Anaconda\\lib\\site-packages\\numpy\\lib\\polynomial.py:585: RankWarning: Polyfit may be poorly conditioned\n",
        "  warnings.warn(msg, RankWarning)\n"
       ]
      },
      {
       "output_type": "stream",
       "stream": "stdout",
       "text": [
        "\n",
        "2.71828182846"
       ]
      },
      {
       "output_type": "stream",
       "stream": "stdout",
       "text": [
        "\n",
        "\n",
        "\n",
        "Sliding Window: 10Hz\n",
        "fitted params is[  7.1004535    8.27806017  27.95778157   1.76395857   6.25383513\n",
        "   3.62214701   4.80555337  -6.32261458   1.20198067   3.        ]"
       ]
      },
      {
       "output_type": "stream",
       "stream": "stdout",
       "text": [
        "\n",
        "fitted params is[  7.115166    28.5539818    1.12403757   3.15695589   2.1068615\n",
        "   1.07105468   2.        ]"
       ]
      },
      {
       "output_type": "stream",
       "stream": "stdout",
       "text": [
        "\n",
        "2.71828182846"
       ]
      },
      {
       "output_type": "stream",
       "stream": "stdout",
       "text": [
        "\n",
        "fitted params is[  8.39758909  -6.95688946  27.18101518  13.42585854   0.78242676\n",
        "   1.07775956   3.01309263   2.26662541   0.80672836   0.20916944\n",
        "   1.30948495  -1.91244553   4.        ]"
       ]
      },
      {
       "output_type": "stream",
       "stream": "stdout",
       "text": [
        "\n",
        "2.71828182846"
       ]
      },
      {
       "output_type": "stream",
       "stream": "stdout",
       "text": [
        "\n"
       ]
      },
      {
       "output_type": "stream",
       "stream": "stderr",
       "text": [
        "C:\\Anaconda\\lib\\site-packages\\numpy\\lib\\polynomial.py:585: RankWarning: Polyfit may be poorly conditioned\n",
        "  warnings.warn(msg, RankWarning)\n"
       ]
      }
     ],
     "prompt_number": 81
    },
    {
     "cell_type": "markdown",
     "metadata": {},
     "source": [
      "Manually comparing r squared values"
     ]
    },
    {
     "cell_type": "code",
     "collapsed": false,
     "input": [
      "print(rsq_p11)\n",
      "print(rsq_p12)\n",
      "print(rsq_p21)"
     ],
     "language": "python",
     "metadata": {},
     "outputs": [
      {
       "output_type": "stream",
       "stream": "stdout",
       "text": [
        "0.397075796887\n",
        "0.199235636504\n",
        "0.466887022121\n"
       ]
      }
     ],
     "prompt_number": 82
    },
    {
     "cell_type": "markdown",
     "metadata": {},
     "source": [
      "__Choose Sliding Window Parameter with Highest RSQ Value__\n",
      "\n",
      "__Plotting__\n",
      "Use best sliding window and find peaks on entire mean PSD. Then use optimize curve fit to calculate \"best\" peak location, height, and standard deviation.\n",
      "Plot optimal gaussian fit from above parameters, plot optimal peaks from above."
     ]
    },
    {
     "cell_type": "code",
     "collapsed": false,
     "input": [
      "sliding_window = 10"
     ],
     "language": "python",
     "metadata": {},
     "outputs": [],
     "prompt_number": 83
    },
    {
     "cell_type": "code",
     "collapsed": false,
     "input": [
      "elec_data = data[elec_num, :] #electrode\n",
      "# Resample\n",
      "newsrate = 1024 # new sampling rate\n",
      "fwin = [1, 100] # freq range of interest\n",
      "\n",
      "if srate!=newsrate:\n",
      "    elec_data_resampled = sp.signal.resample(elec_data, int(np.floor(len(elec_data)*(newsrate/srate))))\n",
      "    \n",
      "# Calculate trial and mean PSDs\n",
      "f,psd_trial = sp.signal.welch(elec_data_resampled, fs=newsrate, window='hanning', nperseg=newsrate, noverlap=newsrate/2, nfft=None, detrend='linear', return_onesided=True, scaling='density')\n",
      "psd_mean = psd_trial.mean(0)\n",
      "\n",
      "#Cut PSD according to frequency range of interest (2-150)\n",
      "f = f[1:60]\n",
      "psd_mean = psd_mean[1:60]\n",
      "psd_mean = np.log10(psd_mean)\n",
      "\n",
      " # fit the curve of the PSD to isolate the oscillatory components\n",
      "slope_params = np.polyfit(f, psd_mean, 2)\n",
      "slopefit = np.polyval(slope_params, f)\n",
      "\n",
      "#difference of polyfit and psd_mean\n",
      "flatspec = psd_mean-slopefit \n",
      "\n",
      "#Find Peaks through sliding window\n",
      "peakind = find_peaks(flatspec, sliding_window, f)\n",
      "oscillatory_fit, oscillatory_fit_params = find_fit(flatspec, f, peakind)\n",
      "oscillatory_fit = norm(f, *oscillatory_fit_params)\n",
      "rsq = calc_rsquared(flatspec, oscillatory_fit)\n",
      "peaks = oscillatory_fit_params[-1]\n",
      "peakind = np.uint32(oscillatory_fit_params[0:peaks])\n",
      "for i in range(0,len(peakind)):\n",
      "    if peakind[i] < 0:\n",
      "        peakind[i] = 0\n",
      "                    \n",
      "width, height = 10,8\n",
      "fig=plt.figure(figsize=(width,height))\n",
      "plt.plot(f, oscillatory_fit)\n",
      "plot(f,flatspec)\n",
      "plt.plot(f, psd_mean)\n",
      "plt.plot(f, slopefit+oscillatory_fit)\n",
      "plt.plot(f[peakind], flatspec[peakind], 'ks')\n",
      "\n",
      "plt.legend(['fitted residual','flatspec (psd - 1/f)','psd','fitted psd', 'peaks'], loc=1)\n",
      "title('Electrode ' + str(elec_num) + ' RSQ: ' + str(rsq))\n",
      "xlabel('Frequency (Hz)')\n",
      "ylabel('Power')\n",
      "\n",
      "filename = ('C:/Users/Varma/Dropbox/ParomaMATLAB/Electrode' + str(elec_num) + '.png')\n",
      "savefig(filename)"
     ],
     "language": "python",
     "metadata": {},
     "outputs": [
      {
       "output_type": "stream",
       "stream": "stdout",
       "text": [
        "fitted params is[  7.16523537  28.61248078  42.83135506   1.10804455   3.6514716\n",
        "   4.28290943   2.14983996   1.44132196  -1.28204366   3.        ]\n"
       ]
      },
      {
       "metadata": {},
       "output_type": "display_data",
       "png": "[encoded data removed]",
       "text": [
        "<matplotlib.figure.Figure at 0x8d2b390>"
       ]
      }
     ],
     "prompt_number": 84
    },
    {
     "cell_type": "code",
     "collapsed": false,
     "input": [],
     "language": "python",
     "metadata": {},
     "outputs": []
    }
   ],
   "metadata": {}
  }
 ]
}