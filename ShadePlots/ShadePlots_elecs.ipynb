{
 "metadata": {
  "name": "",
  "signature": "sha256:56b420cdd31afb09e6d0aa69b9d5dcf7aa1e34fb4886198c32bbb84da927136e"
 },
 "nbformat": 3,
 "nbformat_minor": 0,
 "worksheets": [
  {
   "cells": [
    {
     "cell_type": "code",
     "collapsed": false,
     "input": [
      "%reset"
     ],
     "language": "python",
     "metadata": {},
     "outputs": [
      {
       "name": "stdout",
       "output_type": "stream",
       "stream": "stdout",
       "text": [
        "Once deleted, variables cannot be recovered. Proceed (y/[n])? y\n"
       ]
      }
     ],
     "prompt_number": 22
    },
    {
     "cell_type": "code",
     "collapsed": false,
     "input": [
      "from __future__ import division\n",
      "import pandas as pd\n",
      "import os\n",
      "import loadmat\n",
      "import scipy.stats as stats\n",
      "import fdr_correct\n",
      "import glob\n",
      "import cPickle as pickle\n",
      "import matplotlib.pyplot as plt\n",
      "import numpy as np"
     ],
     "language": "python",
     "metadata": {},
     "outputs": [],
     "prompt_number": 23
    },
    {
     "cell_type": "markdown",
     "metadata": {},
     "source": [
      "## calculate significane window for each elec within all clusters (both active an inactive)"
     ]
    },
    {
     "cell_type": "code",
     "collapsed": false,
     "input": [
      "SJdir = '/home/knight/matar/MATLAB/DATA/Avgusta/'\n",
      "groupidx = os.path.join(SJdir, 'PCA','hclust', 'groupidx_hclust.csv')\n",
      "df = pd.read_csv(groupidx)"
     ],
     "language": "python",
     "metadata": {},
     "outputs": [],
     "prompt_number": 24
    },
    {
     "cell_type": "code",
     "collapsed": false,
     "input": [
      "reconlist = os.path.join(SJdir, 'PCA', 'reconlist.csv')\n",
      "#reconlist = pd.ExcelFile(reconlist).parse('Sheet1')\n",
      "reconlist = pd.read_csv(reconlist)"
     ],
     "language": "python",
     "metadata": {},
     "outputs": [],
     "prompt_number": 25
    },
    {
     "cell_type": "code",
     "collapsed": false,
     "input": [
      "thresh = 10\n",
      "chunk_size = 100\n",
      "baseline = -500\n",
      "black_chunk_size = 200"
     ],
     "language": "python",
     "metadata": {},
     "outputs": [],
     "prompt_number": 26
    },
    {
     "cell_type": "code",
     "collapsed": false,
     "input": [
      "start_resp = -500\n",
      "end_resp = 500"
     ],
     "language": "python",
     "metadata": {},
     "outputs": [],
     "prompt_number": 27
    },
    {
     "cell_type": "markdown",
     "metadata": {},
     "source": [
      "## implemented in SGE as ShadePlots_allelecs_resp.py\n",
      "without plotting\n",
      "### plot all resplocked - even if don't pass 10% threshold (for duration windows later)\n"
     ]
    },
    {
     "cell_type": "code",
     "collapsed": false,
     "input": [
      "for x in reconlist.values:\n",
      "    subj_task, _, _,_, _m = x\n",
      "    subj, task = subj_task.split('_')\n",
      "    \n",
      "    files = glob.glob(os.path.join(SJdir, 'PCA', 'ShadePlots_allelecs', 'resplocked_all', 'data', ''.join([subj, '_', task, '*.p'])))\n",
      "    \n",
      "    for f in files:\n",
      "        elecname = f.split('_')[-1].split('.')[0]\n",
      "        \n",
      "        with open(f, 'r') as x:\n",
      "            data_dict = pickle.load(x)\n",
      "            x.close()\n",
      "    \n",
      "        #map dictionary to variables\n",
      "        edata_resp, st_resp, en_resp, srate, start_idx, end_idx, chunksize, black_chunksize, thresh = [data_dict.get(k) for k in ['edata_resp','st_resp', 'en_resp', 'srate', 'start_idx', 'end_idx', 'chunksize', 'black_chunksize', 'thresh']]\n",
      "        \n",
      "        #plot\n",
      "        f, ax = plt.subplots(figsize = (10,10))\n",
      "        scale_min = edata_resp.mean(axis = 0).min() - 10\n",
      "        if scale_min > 0:\n",
      "            scale_min = -10\n",
      "        scale_max = edata_resp.mean(axis = 0).max() + 10\n",
      "        tmp = (np.arange(scale_min, scale_max))\n",
      "\n",
      "        ax.plot(np.arange(st_resp, en_resp), edata_resp.mean(axis = 0), zorder = 1, linewidth = 3)\n",
      "        sem = np.std(edata_resp, axis = 0)/np.sqrt(edata_resp.shape[0])\n",
      "        ax.fill_between(np.arange(st_resp, en_resp), edata_resp.mean(axis = 0)+sem, edata_resp.mean(axis=0)-sem, alpha = 0.5, zorder = 0, edgecolor = 'None', facecolor = 'slateblue')\n",
      "        ax.plot(np.arange(st_resp, en_resp), np.zeros(edata_resp.shape[1]), color = 'k', linewidth = 3) #xaxis\n",
      "        ax.plot(np.zeros(tmp.size), tmp, color = 'k', linewidth = 3) #yaxis\n",
      "        ax.set_ylabel('% change HG')\n",
      "        ax.set_xlabel('time (ms)')\n",
      "        ax.autoscale(tight=True)\n",
      "        ax.spines['top'].set_visible(False)\n",
      "        ax.spines['right'].set_visible(False)\n",
      "        ax.get_xaxis().tick_bottom()\n",
      "        ax.get_yaxis().tick_left()\n",
      "\n",
      "        if start_idx.size>0:\n",
      "            for i, s in enumerate(start_idx):\n",
      "                tmp = np.arange(s, end_idx[i])\n",
      "                start = s\n",
      "                finish = end_idx[i]\n",
      "                ax.plot(tmp, np.zeros(tmp.size), color = 'r', linewidth = 3.5, label = (start, finish))\n",
      "                ax.legend()\n",
      "\n",
      "        ax.set_title(' '.join([subj, task, ':', elecname, 'thresh', str(thresh), 'chunksize', str(chunksize), 'smoothing', str(black_chunksize)]))\n",
      "        plt.savefig(os.path.join(SJdir, 'PCA', 'ShadePlots_allelecs','resplocked_all', 'images', ''.join([subj, '_', task, '_', elecname, '_resplocked'])))\n",
      "        plt.close()\n",
      "        "
     ],
     "language": "python",
     "metadata": {},
     "outputs": [],
     "prompt_number": 10
    },
    {
     "cell_type": "markdown",
     "metadata": {},
     "source": [
      "## plot output from SGE for ShadePlots_allelecs.py - implemented in ShadePlots_allelecs_plot.py\n",
      "#### if gap is <= 200ms then combine chunks\n",
      "#### then throw out chunks that < 100ms\n",
      "\n",
      "###plotting script\n",
      "\n"
     ]
    },
    {
     "cell_type": "markdown",
     "metadata": {},
     "source": [
      "## implemented in ShadePlots_allelecs.py for SGE - without plotting\n",
      "### if gap is <=200 ms then combine chunks\n",
      "### not including a 100ms threshold cutoff\n"
     ]
    },
    {
     "cell_type": "markdown",
     "metadata": {},
     "source": [
      "## combine all the shadeplots_elecs csv for each subject "
     ]
    },
    {
     "cell_type": "code",
     "collapsed": false,
     "input": [
      "import os\n",
      "import pandas as pd"
     ],
     "language": "python",
     "metadata": {},
     "outputs": [],
     "prompt_number": 1
    },
    {
     "cell_type": "code",
     "collapsed": false,
     "input": [
      "SJdir = '/home/knight/matar/MATLAB/DATA/Avgusta/'\n",
      "\n",
      "reconlist = os.path.join(SJdir, 'PCA', 'reconlist.csv')\n",
      "reconlist = pd.read_csv(reconlist)"
     ],
     "language": "python",
     "metadata": {},
     "outputs": [],
     "prompt_number": 2
    },
    {
     "cell_type": "code",
     "collapsed": false,
     "input": [
      "dfall_stim = pd.DataFrame()\n",
      "dfall_resp = pd.DataFrame()\n",
      "\n",
      "for i,x in enumerate(reconlist.values):\n",
      "    \n",
      "    subj_task, recon,_,_,_ = x\n",
      "    subj, task = subj_task.split('_')\n",
      "    \n",
      "    if isinstance(recon, float): #recon doesn't exist\n",
      "        continue\n",
      "        \n",
      "    filename = os.path.join(SJdir, 'PCA','ShadePlots_allelecs',  ''.join([subj, '_', task, '_bigwindow.csv'])) #STIM\n",
      "    df = pd.DataFrame.from_csv(filename,index_col = 0)\n",
      "\n",
      "    dfall_stim = dfall_stim.append(df)\n",
      "    \n",
      "    filename = os.path.join(SJdir, 'PCA','ShadePlots_allelecs', 'resplocked_all', ''.join([subj, '_', task, '_bigwindow.csv'])) #RESP\n",
      "    df = pd.DataFrame.from_csv(filename,index_col = 0)\n",
      "\n",
      "    dfall_resp = dfall_resp.append(df)\n",
      "    "
     ],
     "language": "python",
     "metadata": {},
     "outputs": [],
     "prompt_number": 3
    },
    {
     "cell_type": "code",
     "collapsed": false,
     "input": [
      "filename = os.path.join(SJdir, 'PCA', 'ShadePlots_allelecs', 'shadeplots_stim.csv')\n",
      "dfall_stim.to_csv(filename)\n",
      "\n",
      "filename = os.path.join(SJdir, 'PCA', 'ShadePlots_allelecs', 'resplocked_all', 'shadeplots_resp.csv')\n",
      "dfall_resp.to_csv(filename)\n"
     ],
     "language": "python",
     "metadata": {},
     "outputs": [],
     "prompt_number": 5
    },
    {
     "cell_type": "markdown",
     "metadata": {},
     "source": [
      "## add T/F to csv if elec is part of duration cluster"
     ]
    },
    {
     "cell_type": "code",
     "collapsed": false,
     "input": [
      "df_dur = pd.read_csv(os.path.join(SJdir, 'PCA', 'duration_dict_500_FINAL', 'groupidx_activeclusters_hclust_withduration_maxRTlocked_withcriteria_labeled.csv'))\n"
     ],
     "language": "python",
     "metadata": {},
     "outputs": [],
     "prompt_number": 10
    },
    {
     "cell_type": "code",
     "collapsed": false,
     "input": [
      "#STIM\n",
      "print ''\n",
      "df_shade = pd.read_csv(os.path.join(SJdir, 'PCA', 'ShadePlots_allelecs', 'shadeplots_stim.csv'))\n",
      "df_shade = df_shade[['subj','task','elec', 'start_idx','end_idx','pthreshold']]\n",
      "\n",
      "df_dur = df_dur[['subj','task','group','active_elecs', 'all_criteria_passed']]\n",
      "df_dur.columns = ['subj','task','group','elec','all_criteria_passed']\n",
      "\n",
      "df_all = pd.merge(df_shade, df_dur, how = 'outer', on = ['subj','task','elec']) \n",
      "\n",
      "df_all = df_all[['subj','task', 'group','elec','start_idx','end_idx','pthreshold', 'all_criteria_passed']]\n",
      "\n",
      "\n",
      "#dropped subj/blocks:\n",
      "print np.setdiff1d(pd.merge(df_shade, df_dur, how = 'outer').subj, pd.merge(df_shade, df_dur, how = 'inner').subj)\n",
      "#print np.intersect1d(df_dur.loc[(df_dur.subj=='JH10') & (df_dur.task == 'EmoRep')].elec.values, unique(df_shade.loc[(df_shade.subj=='JH10') & (df_shade.task == 'EmoRep')].elec.values))\n",
      "\n",
      "df_all.to_csv(os.path.join(SJdir, 'PCA', 'ShadePlots_allelecs', 'shadeplots_stim_withduration.csv'))\n",
      "\n"
     ],
     "language": "python",
     "metadata": {},
     "outputs": [
      {
       "output_type": "stream",
       "stream": "stdout",
       "text": [
        "\n",
        "[]"
       ]
      },
      {
       "output_type": "stream",
       "stream": "stdout",
       "text": [
        "\n"
       ]
      }
     ],
     "prompt_number": 7
    },
    {
     "cell_type": "code",
     "collapsed": false,
     "input": [
      "#RESP\n",
      "print ''\n",
      "df_shade = pd.read_csv(os.path.join(SJdir, 'PCA', 'ShadePlots_allelecs', 'resplocked_all', 'shadeplots_resp.csv'))\n",
      "df_shade = df_shade[['subj','task','elec', 'start_idx','end_idx','pthreshold']]\n",
      "\n",
      "df_dur = df_dur[['subj','task','group','active_elecs', 'all_criteria_passed']]\n",
      "df_dur.columns = ['subj','task','group','elec','all_criteria_passed']\n",
      "\n",
      "df_all = pd.merge(df_shade, df_dur, how = 'outer', on = ['subj','task','elec']) \n",
      "\n",
      "df_all = df_all[['subj','task', 'group','elec','start_idx','end_idx','pthreshold', 'all_criteria_passed']]\n",
      "\n",
      "\n",
      "#dropped subj/blocks:\n",
      "print np.setdiff1d(pd.merge(df_shade, df_dur, how = 'outer').subj, pd.merge(df_shade, df_dur, how = 'inner').subj)\n",
      "#print np.intersect1d(df_dur.loc[(df_dur.subj=='JH10') & (df_dur.task == 'EmoRep')].elec.values, unique(df_shade.loc[(df_shade.subj=='JH10') & (df_shade.task == 'EmoRep')].elec.values))\n",
      "\n",
      "df_all.to_csv(os.path.join(SJdir, 'PCA', 'ShadePlots_allelecs', 'resplocked_all','shadeplots_resp_withduration.csv'))\n",
      "\n"
     ],
     "language": "python",
     "metadata": {},
     "outputs": [
      {
       "output_type": "stream",
       "stream": "stdout",
       "text": [
        "\n",
        "[]\n"
       ]
      }
     ],
     "prompt_number": 11
    },
    {
     "cell_type": "markdown",
     "metadata": {},
     "source": [
      "## drop all but the first window for elecs with multiple windows"
     ]
    },
    {
     "cell_type": "code",
     "collapsed": false,
     "input": [
      "#STIM\n",
      "filename = os.path.join(SJdir, 'PCA', 'ShadePlots_allelecs', 'shadeplots_stim_withduration.csv')\n",
      "dfall_stim = pd.read_csv(filename)\n",
      "\n",
      "dfall_stim.columns\n",
      "dfall_stim = dfall_stim.drop_duplicates(cols = ['subj','task','group','elec'])\n",
      "\n",
      "filename = os.path.join(SJdir, 'PCA', 'ShadePlots_allelecs', 'shadeplots_stim_wthduration_drop_duplicates.csv')\n",
      "dfall_stim.to_csv(filename)\n",
      "\n"
     ],
     "language": "python",
     "metadata": {},
     "outputs": [
      {
       "output_type": "stream",
       "stream": "stderr",
       "text": [
        "/usr/local/anaconda/lib/python2.7/site-packages/pandas-0.14.0-py2.7-linux-x86_64.egg/pandas/util/decorators.py:53: FutureWarning: cols is deprecated, use subset instead\n",
        "  warnings.warn(msg, FutureWarning)\n"
       ]
      }
     ],
     "prompt_number": 12
    },
    {
     "cell_type": "code",
     "collapsed": false,
     "input": [
      "#RESP\n",
      "filename = os.path.join(SJdir, 'PCA', 'ShadePlots_allelecs', 'resplocked_all', 'shadeplots_resp_withduration.csv')\n",
      "dfall_resp = pd.read_csv(filename)\n",
      "\n",
      "dfall_resp.columns\n",
      "dfall_resp = dfall_resp.drop_duplicates(cols = ['subj','task','elec'])\n",
      "\n",
      "filename = os.path.join(SJdir, 'PCA', 'ShadePlots_allelecs', 'resplocked_all', 'shadeplots_resp_drop_duplicates.csv')\n",
      "dfall_resp.to_csv(filename)"
     ],
     "language": "python",
     "metadata": {},
     "outputs": [],
     "prompt_number": 13
    },
    {
     "cell_type": "code",
     "collapsed": false,
     "input": [
      "#combine STIM and RESP bigwindow with duration csvs\n",
      "filename = os.path.join(SJdir, 'PCA', 'ShadePlots_allelecs', 'resplocked_all', 'shadeplots_resp_drop_duplicates.csv')\n",
      "df_resp = pd.read_csv(filename)\n",
      "\n",
      "df_resp = df_resp[['subj','task', 'group', 'elec', 'start_idx', 'end_idx', 'pthreshold', 'all_criteria_passed']]\n",
      "df_resp.columns = ['subj','task', 'group', 'elec', 'start_idx_resp', 'end_idx_resp', 'pthreshold', 'all_criteria_passed']\n",
      "\n",
      "filename = os.path.join(SJdir, 'PCA', 'ShadePlots_allelecs', 'shadeplots_stim_wthduration_drop_duplicates.csv')\n",
      "df_stim = pd.read_csv(filename)\n",
      "df_stim = df_stim[['subj','task', 'group', 'elec', 'start_idx', 'end_idx', 'pthreshold', 'all_criteria_passed']]"
     ],
     "language": "python",
     "metadata": {},
     "outputs": [],
     "prompt_number": 14
    },
    {
     "cell_type": "code",
     "collapsed": false,
     "input": [
      "df_all = df_stim.merge(df_resp, on = ['subj','task', 'group', 'elec', 'all_criteria_passed'], how = 'outer')\n",
      "\n",
      "df_all = df_all[['subj','task', 'group', 'elec', 'start_idx', 'end_idx', 'start_idx_resp', 'end_idx_resp', 'all_criteria_passed']]\n",
      "\n",
      "\n",
      "filename = os.path.join(SJdir, 'PCA', 'ShadePlots_allelecs', 'shadeplots_stim_resp_withduration_drop_duplicates.csv')\n",
      "df_all.to_csv(filename)\n",
      "\n",
      "print ' '\n",
      "print df_all.shape\n",
      "print df_resp.shape\n",
      "print df_stim.shape"
     ],
     "language": "python",
     "metadata": {},
     "outputs": [
      {
       "output_type": "stream",
       "stream": "stdout",
       "text": [
        " \n",
        "(1035, 9)\n",
        "(1035, 8)\n",
        "(1035, 8)\n"
       ]
      }
     ],
     "prompt_number": 15
    },
    {
     "cell_type": "markdown",
     "metadata": {},
     "source": [
      "# *** OLD ***\n",
      "### calculate significance window for each elec within duration cluster - OLD\n",
      "#### plot and write to csv"
     ]
    },
    {
     "cell_type": "code",
     "collapsed": false,
     "input": [
      "SJdir = '/home/knight/matar/MATLAB/DATA/Avgusta/'\n",
      "groupidx = os.path.join(SJdir, 'PCA','duration_dict', 'groupidx_activeclusters_hclust_withduration_thresh15_maxRTlocked.csv')\n",
      "df = pd.read_csv(groupidx)"
     ],
     "language": "python",
     "metadata": {},
     "outputs": [],
     "prompt_number": 577
    },
    {
     "cell_type": "code",
     "collapsed": false,
     "input": [
      "reconlist = os.path.join(SJdir, 'PCA', 'reconlist.xlsx')\n",
      "reconlist = pd.ExcelFile(reconlist).parse('Sheet1')"
     ],
     "language": "python",
     "metadata": {},
     "outputs": [],
     "prompt_number": 578
    },
    {
     "cell_type": "code",
     "collapsed": false,
     "input": [
      "chunksize = 100\n",
      "baseline = -500"
     ],
     "language": "python",
     "metadata": {},
     "outputs": [],
     "prompt_number": 579
    },
    {
     "cell_type": "code",
     "collapsed": false,
     "input": [
      "print reconlist.values[28]\n"
     ],
     "language": "python",
     "metadata": {},
     "outputs": [
      {
       "output_type": "stream",
       "stream": "stdout",
       "text": [
        "[u'GP15_EmoGen' u'GP15_Lateral_Left_blankelecs.png' nan u'good']\n"
       ]
      }
     ],
     "prompt_number": 583
    },
    {
     "cell_type": "code",
     "collapsed": false,
     "input": [
      "for x in reconlist.values:\n",
      "    subj_task, _, _, _ = x\n",
      "    subj, task = subj_task.split('_')\n",
      "\n",
      "    subj_task = df[(df.subj.isin([subj])) & (df.task.isin([task]))]\n",
      "    subj_task = subj_task.sort('active_elecs')\n",
      "    weights = subj_task[['group', 'active_elecs']] #.loc[(subj_task.best_offset>-300)]\n",
      "\n",
      "    filename = os.path.join(SJdir, 'Subjs', subj, task, 'HG_elecMTX_percent.mat')\n",
      "    data = loadmat.loadmat(filename)\n",
      "    active_elecs = data['active_elecs']\n",
      "    srate = data['srate']\n",
      "    data = data['data_percent']\n",
      "\n",
      "    bl_st = baseline/1000*srate\n",
      "\n",
      "    if task in ['DecisionAud']:\n",
      "        st_tp = 600/1000*srate\n",
      "    elif task in ['DecisionVis']:\n",
      "        st_tp = 500/1000*srate\n",
      "    else:\n",
      "        st_tp = 0\n",
      "\n",
      "    filename = os.path.join(SJdir, 'PCA', 'ShadePlots_elecs', ''.join([subj, '_', task, '.csv']))\n",
      "    subjs = list(); tasks = list(); pthr = list(); groups = list(); elecs = list(); starts = list(); ends = list()\n",
      "\n",
      "    for g in weights.groupby('group'):\n",
      "        cluster_elecs = g[1].active_elecs\n",
      "        idx = np.in1d(active_elecs, cluster_elecs)\n",
      "        cdata = data[idx,:,:]\n",
      "\n",
      "        for i, e in enumerate(cluster_elecs):\n",
      "           \n",
      "            pvals = list(); tstat = list()\n",
      "            edata = cdata[i,:]\n",
      "\n",
      "            for t in np.arange(abs(bl_st)+st_tp, edata.shape[1]):\n",
      "                (t, p) = stats.ttest_1samp(edata[:,t], 0)\n",
      "                pvals.append(p)\n",
      "                #tstat.append(t.flatten())\n",
      "\n",
      "            thr = fdr_correct.fdr2(pvals, q = 0.05)\n",
      "            #H = ((pvals<thr) & (tstat>0)).astype('int')\n",
      "            H = np.array((pvals<thr)).astype('int')\n",
      "            \n",
      "            if (thr>0):\n",
      "                #significant windows that > chunksize (ignoring threshold)\n",
      "                difference = np.diff(H, n = 1, axis = 0)\n",
      "                start_idx = np.where(difference==1)[0]+1\n",
      "                end_idx = np.where(difference == -1)[0]\n",
      "\n",
      "                if start_idx.size > end_idx.size: #last chunk goes until end\n",
      "                    end_idx = np.append(end_idx, int(edata.shape[1]-abs(bl_st)-st_tp))\n",
      "\n",
      "                elif start_idx.size < end_idx.size:\n",
      "                    start_idx = np.append(0, start_idx) #starts immediately significant\n",
      "\n",
      "                if (start_idx.size!=0):\n",
      "                    if (start_idx[0] > end_idx[0]): #starts immediately significant\n",
      "                        start_idx = np.append(0, start_idx)\n",
      "                if (start_idx.size!=0):\n",
      "                    if (end_idx[-1] < start_idx[-1]):#significant until end\n",
      "                        end_idx = np.append(end_idx, int(edata.shape[1]-abs(bl_st)-st_tp))\n",
      "\n",
      "\n",
      "                start_idx = start_idx + st_tp #shift by st_tp\n",
      "                end_idx = end_idx + st_tp\n",
      "\n",
      "                chunks = (end_idx - start_idx) >= chunksize\n",
      "\n",
      "                start_idx = start_idx[chunks]\n",
      "                end_idx = end_idx[chunks]\n",
      "            else:\n",
      "                start_idx = np.array(())\n",
      "                end_idx = np.array(())\n",
      "\n",
      "            subjs.extend([subj] * len(start_idx))\n",
      "            tasks.extend([task] * len(end_idx))\n",
      "            groups.extend([int(g[0])] * len(end_idx))\n",
      "            elecs.extend([e] * len(end_idx))\n",
      "            pthr.extend([thr] * len(end_idx))\n",
      "            starts.extend(start_idx)\n",
      "            ends.extend(end_idx)\n",
      "\n",
      "            #plot\n",
      "            f, ax = plt.subplots(figsize = (10,10))\n",
      "            scale_min = edata.mean(axis = 0).min() - 10\n",
      "            scale_max = edata.mean(axis = 0).max() + 10\n",
      "            tmp = (np.arange(scale_min, scale_max))\n",
      "\n",
      "            ax.plot(np.arange(bl_st, edata.shape[1]+bl_st), edata.mean(axis = 0), zorder = 1, linewidth = 3)\n",
      "            sem = np.std(edata, axis = 0)/np.sqrt(edata.shape[0])\n",
      "            ax.fill_between(np.arange(bl_st, edata.shape[1]+bl_st), edata.mean(axis = 0)+sem, edata.mean(axis=0)-sem, alpha = 0.5, zorder = 0, edgecolor = 'None', facecolor = 'slateblue')\n",
      "            ax.plot(np.arange(bl_st, edata.shape[1]+bl_st), np.zeros(edata.shape[1]), color = 'k', linewidth = 3) #xaxis\n",
      "            ax.plot(np.zeros(tmp.size), tmp, color = 'k', linewidth = 3) #yaxis\n",
      "            ax.set_ylabel('% change HG')\n",
      "            ax.set_xlabel('time (ms)')\n",
      "            ax.autoscale(tight=True)\n",
      "            ax.spines['top'].set_visible(False)\n",
      "            ax.spines['right'].set_visible(False)\n",
      "            ax.get_xaxis().tick_bottom()\n",
      "            ax.get_yaxis().tick_left()\n",
      "\n",
      "            if start_idx.size>0:\n",
      "                for i, s in enumerate(start_idx):\n",
      "                    tmp = np.arange(s, end_idx[i])\n",
      "                    start = int(s/srate*1000)\n",
      "                    finish = int(end_idx[i]/srate*1000)\n",
      "                    ax.plot(tmp, np.zeros(tmp.size), color = 'r', linewidth = 3.5, label = (start, finish))\n",
      "                ax.legend()\n",
      "\n",
      "            ax.set_title(' '.join([subj, task, ':', 'electrode', str(e), '-', 'cluster', str(int(g[0]))]))\n",
      "            savefig(os.path.join(SJdir, 'PCA', 'ShadePlots_elecs', ''.join([subj, '_', task,'_c', str(int(g[0])),'_e', str(e)])))\n",
      "            plt.close()\n",
      "\n",
      "    sig_windows = pd.DataFrame({'subj':subjs, 'task':tasks, 'group':groups, 'elec':elecs, 'pthreshold':pthr, 'start_idx':starts, 'end_idx':ends})\n",
      "    sig_windows = sig_windows[['subj','task', 'group','elec', 'start_idx','end_idx','pthreshold']]\n",
      "    sig_windows.to_csv(filename)\n",
      "    "
     ],
     "language": "python",
     "metadata": {},
     "outputs": [],
     "prompt_number": 581
    },
    {
     "cell_type": "code",
     "collapsed": false,
     "input": [],
     "language": "python",
     "metadata": {},
     "outputs": [],
     "prompt_number": 574
    },
    {
     "cell_type": "code",
     "collapsed": false,
     "input": [],
     "language": "python",
     "metadata": {},
     "outputs": []
    },
    {
     "cell_type": "code",
     "collapsed": false,
     "input": [
      "## FOR 1 SUBJ/CLUSTER\n",
      "\n",
      "for x in reconlist.values[[28]]:\n",
      "    subj_task, _, _, _ = x\n",
      "    subj, task = subj_task.split('_')\n",
      "\n",
      "    subj_task = df[(df.subj.isin([subj])) & (df.task.isin([task]))]\n",
      "    subj_task = subj_task.sort('active_elecs')\n",
      "    weights = subj_task[['group', 'active_elecs']] #.loc[(subj_task.best_offset>-300)]\n",
      "\n",
      "    filename = os.path.join(SJdir, 'Subjs', subj, task, 'HG_elecMTX_percent.mat')\n",
      "    data = loadmat.loadmat(filename)\n",
      "    active_elecs = data['active_elecs']\n",
      "    srate = data['srate']\n",
      "    data = data['data_percent']\n",
      "\n",
      "    bl_st = baseline/1000*srate\n",
      "\n",
      "    if task in ['DecisionAud']:\n",
      "        st_tp = 600/1000*srate\n",
      "    elif task in ['DecisionVis']:\n",
      "        st_tp = 500/1000*srate\n",
      "    else:\n",
      "        st_tp = 0\n",
      "\n",
      "    filename = os.path.join(SJdir, 'PCA', 'ShadePlots_elecs', ''.join([subj, '_', task, '.csv']))\n",
      "    subjs = list(); tasks = list(); pthr = list(); groups = list(); elecs = list(); starts = list(); ends = list()\n",
      "\n",
      "    for g in weights.groupby('group'):\n",
      "       \n",
      "        if int(g[0]) != 1:\n",
      "            continue\n",
      "        cluster_elecs = g[1].active_elecs\n",
      "        idx = np.in1d(active_elecs, cluster_elecs)\n",
      "        cdata = data[idx,:,:]\n",
      "\n",
      "        for i, e in enumerate(cluster_elecs):\n",
      "            if e != 2:\n",
      "                continue\n",
      "           \n",
      "            pvals = list(); tstat = list()\n",
      "            edata = cdata[i,:]\n",
      "\n",
      "            for t in np.arange(abs(bl_st)+st_tp, edata.shape[1]):\n",
      "                (t, p) = stats.ttest_1samp(edata[:,t], 0)\n",
      "                pvals.append(p)\n",
      "                #tstat.append(t.flatten())\n",
      "\n",
      "            thr = fdr_correct.fdr2(pvals, q = 0.05)\n",
      "            #H = ((pvals<thr) & (tstat>0)).astype('int')\n",
      "            H = np.array((pvals<thr)).astype('int')\n",
      "            \n",
      "            if (thr>0):\n",
      "                #significant windows that > chunksize (ignoring threshold)\n",
      "                difference = np.diff(H, n = 1, axis = 0)\n",
      "                start_idx = np.where(difference==1)[0]+1\n",
      "                end_idx = np.where(difference == -1)[0]\n",
      "\n",
      "                if start_idx.size > end_idx.size: #last chunk goes until end\n",
      "                    end_idx = np.append(end_idx, int(edata.shape[1]-abs(bl_st)-st_tp))\n",
      "\n",
      "                elif start_idx.size < end_idx.size:\n",
      "                    start_idx = np.append(0, start_idx) #starts immediately significant\n",
      "\n",
      "                if (start_idx.size!=0):\n",
      "                    if (start_idx[0] > end_idx[0]): #starts immediately significant\n",
      "                        start_idx = np.append(0, start_idx)\n",
      "                if (start_idx.size!=0):\n",
      "                    if (end_idx[-1] < start_idx[-1]):#significant until end\n",
      "                        end_idx = np.append(end_idx, int(edata.shape[1]-abs(bl_st)-st_tp))\n",
      "\n",
      "\n",
      "                start_idx = start_idx + st_tp #shift by st_tp\n",
      "                end_idx = end_idx + st_tp\n",
      "\n",
      "                chunks = (end_idx - start_idx) >= chunksize\n",
      "\n",
      "                start_idx = start_idx[chunks]\n",
      "                end_idx = end_idx[chunks]\n",
      "            else:\n",
      "                start_idx = np.array(())\n",
      "                end_idx = np.array(())\n",
      "\n",
      "            subjs.extend([subj] * len(start_idx))\n",
      "            tasks.extend([task] * len(end_idx))\n",
      "            groups.extend([int(g[0])] * len(end_idx))\n",
      "            elecs.extend([e] * len(end_idx))\n",
      "            pthr.extend([thr] * len(end_idx))\n",
      "            starts.extend(start_idx)\n",
      "            ends.extend(end_idx)\n",
      "\n",
      "            #plot\n",
      "            f, ax = plt.subplots(figsize = (10,10))\n",
      "            scale_min = edata.mean(axis = 0).min() - 10\n",
      "            scale_max = edata.mean(axis = 0).max() + 10\n",
      "            tmp = (np.arange(scale_min, scale_max))\n",
      "\n",
      "            ax.plot(np.arange(bl_st, edata.shape[1]+bl_st), edata.mean(axis = 0), zorder = 1, linewidth = 3)\n",
      "            sem = np.std(edata, axis = 0)/np.sqrt(edata.shape[0])\n",
      "            ax.fill_between(np.arange(bl_st, edata.shape[1]+bl_st), edata.mean(axis = 0)+sem, edata.mean(axis=0)-sem, alpha = 0.5, zorder = 0, edgecolor = 'None', facecolor = 'slateblue')\n",
      "            ax.plot(np.arange(bl_st, edata.shape[1]+bl_st), np.zeros(edata.shape[1]), color = 'k', linewidth = 3) #xaxis\n",
      "            ax.plot(np.zeros(tmp.size), tmp, color = 'k', linewidth = 3) #yaxis\n",
      "            ax.set_ylabel('% change HG')\n",
      "            ax.set_xlabel('time (ms)')\n",
      "            ax.autoscale(tight=True)\n",
      "            ax.spines['top'].set_visible(False)\n",
      "            ax.spines['right'].set_visible(False)\n",
      "            ax.get_xaxis().tick_bottom()\n",
      "            ax.get_yaxis().tick_left()\n",
      "\n",
      "            if start_idx.size>0:\n",
      "                for i, s in enumerate(start_idx):\n",
      "                    tmp = np.arange(s, end_idx[i])\n",
      "                    start = int(s/srate*1000)\n",
      "                    finish = int(end_idx[i]/srate*1000)\n",
      "                    ax.plot(tmp, np.zeros(tmp.size), color = 'r', linewidth = 3.5, label = (start, finish))\n",
      "                ax.legend()\n",
      "\n",
      "    "
     ],
     "language": "python",
     "metadata": {},
     "outputs": [
      {
       "metadata": {},
       "output_type": "display_data",
       "png": "[encoded data removed]",
       "text": [
        "<matplotlib.figure.Figure at 0x14a04f710>"
       ]
      }
     ],
     "prompt_number": 585
    },
    {
     "cell_type": "code",
     "collapsed": false,
     "input": [
      "plot(pvals)\n",
      "plot(np.arange(len(pvals)), np.tile(pthr, len(pvals)), 'r')"
     ],
     "language": "python",
     "metadata": {},
     "outputs": [
      {
       "metadata": {},
       "output_type": "pyout",
       "prompt_number": 593,
       "text": [
        "[<matplotlib.lines.Line2D at 0x4020e0d0>]"
       ]
      },
      {
       "metadata": {},
       "output_type": "display_data",
       "png": "[encoded data removed]",
       "text": [
        "<matplotlib.figure.Figure at 0x4020eb10>"
       ]
      }
     ],
     "prompt_number": 593
    }
   ],
   "metadata": {}
  }
 ]
}