{
 "metadata": {
  "name": ""
 },
 "nbformat": 3,
 "nbformat_minor": 0,
 "worksheets": [
  {
   "cells": [
    {
     "cell_type": "code",
     "collapsed": false,
     "input": [
      "import os\n",
      "import pandas as pd\n",
      "import numpy as np\n",
      "import scipy.cluster.hierarchy as hc\n",
      "from scipy.spatial.distance import pdist, squareform\n",
      "import loadmat"
     ],
     "language": "python",
     "metadata": {},
     "outputs": [],
     "prompt_number": 1
    },
    {
     "cell_type": "code",
     "collapsed": false,
     "input": [
      "SJdir = '/home/knight/matar/MATLAB/DATA/Avgusta'\n",
      "#get list of subjects/task (those with recons)\n",
      "reconlist = '/home/knight/matar/MATLAB/DATA/Avgusta/PCA/reconlist.csv'\n",
      "reconlist = pd.read_csv(reconlist)"
     ],
     "language": "python",
     "metadata": {},
     "outputs": [],
     "prompt_number": 2
    },
    {
     "cell_type": "code",
     "collapsed": false,
     "input": [
      "datadir = os.path.join(SJdir, 'PCA','plots')"
     ],
     "language": "python",
     "metadata": {},
     "outputs": [],
     "prompt_number": 3
    },
    {
     "cell_type": "code",
     "collapsed": false,
     "input": [
      "savedir = os.path.join(SJdir, 'PCA','hclust')\n"
     ],
     "language": "python",
     "metadata": {},
     "outputs": [],
     "prompt_number": 4
    },
    {
     "cell_type": "code",
     "collapsed": false,
     "input": [
      "reconlist.values[[43, 44, 45, 46, 47, 48]]"
     ],
     "language": "python",
     "metadata": {},
     "outputs": [
      {
       "metadata": {},
       "output_type": "pyout",
       "prompt_number": 5,
       "text": [
        "array([['ST27_DecisionVis', 'ST27_recon_grouped_labeled.png', nan, 1000.0,\n",
        "        'good, has medial activity'],\n",
        "       ['ST28_DecisionVis', 'ST28_recon.png', nan, 1000.0, nan],\n",
        "       ['GP44_DecisionAud', 'GP44_recon.png', nan, 1000.0, nan],\n",
        "       ['CP7_DecisionAud', 'CP7_recon.png', nan, 1000.0, nan],\n",
        "       ['CP9_DecisionAud', 'CP9_recon.png', nan, 1000.0, 'r hemisphere'],\n",
        "       ['ST32_DecisionVis', 'ST32_recon.png', nan, 1000.0, nan]], dtype=object)"
       ]
      }
     ],
     "prompt_number": 5
    },
    {
     "cell_type": "code",
     "collapsed": false,
     "input": [
      "#add active_elecs as index\n",
      "for i, x in enumerate(reconlist.values[[43, 44, 45, 46, 47, 48]]):\n",
      "    subj_task, recon, xycoords,srate, _ = x\n",
      "    subj, task = subj_task.split('_') \n",
      "    \n",
      "    if isinstance(recon, float): #recon doesn't exists\n",
      "        continue\n",
      "        \n",
      "    filename = os.path.join(SJdir, 'Subjs',subj, task, 'HG_elecMTX_percent.mat')\n",
      "    data = loadmat.loadmat(filename)\n",
      "    active_elecs = data['active_elecs']\n",
      "    \n",
      "    filename = os.path.join(datadir, '_'.join([subj, task, 'loadings.csv']))\n",
      "    df = pd.DataFrame.from_csv(filename).set_index(active_elecs)\n",
      "    \n",
      "    df.to_csv(filename)"
     ],
     "language": "python",
     "metadata": {},
     "outputs": [],
     "prompt_number": 6
    },
    {
     "cell_type": "code",
     "collapsed": false,
     "input": [
      "dfall = pd.DataFrame()\n",
      "for i,x in enumerate(reconlist.values):\n",
      "\n",
      "    subj_task, recon, xycoords,srate, _ = x\n",
      "    subj, task = subj_task.split('_')\n",
      "    \n",
      "    if isinstance(recon, float): #recon doesn't exists\n",
      "        continue\n",
      "    \n",
      "    \n",
      "    print (subj, task)\n",
      "    \n",
      "    filename = os.path.join(datadir, '_'.join([subj, task, 'loadings.csv']))\n",
      "    df = pd.DataFrame.from_csv(filename,index_col = 0)\n",
      "    tmp = df.pop('fit.communality') #remove column\n",
      "    \n",
      "    distance = pdist(df, 'correlation') #distance matrix\n",
      "    Z = hc.linkage(distance, method = 'complete') #linkage matrix\n",
      "    \n",
      "    if any(Z<0): #ST6 SelfAud\n",
      "        print(' '.join([subj, 'negative linkage:', str(Z[Z<0])]))\n",
      "        Z[Z<0]=0 #reset to zero\n",
      "    \n",
      "    incon = hc.inconsistent(Z) #inconsistency\n",
      "    filename = os.path.join(savedir, '_'.join([subj, task, 'inconsistent.csv']))\n",
      "    pd.DataFrame(incon).to_csv(filename)\n",
      "    \n",
      "    coph = squareform(hc.cophenet(Z)) #cophenet\n",
      "    filename = os.path.join(savedir, '_'.join([subj, task, 'cophenet.csv']))\n",
      "    pd.DataFrame(coph).to_csv(filename)\n",
      "\n",
      "    #cutoff = .7*max(Z[:,2]) #same as matlab's default (70% of maximum distance\n",
      "    cutoff = median(incon[:,-1])\n",
      "    dend = hc.dendrogram(Z, labels = df.index, color_threshold=cutoff)\n",
      "    title(' '.join([subj, task, '- cutoff: median inconsistency']))\n",
      "    \n",
      "    filename = os.path.join(savedir, '_'.join([subj, task, 'hclust.png']))\n",
      "    plt.savefig(filename)  \n",
      "    plt.close()\n",
      "    \n",
      "    cluster = hc.fcluster(Z, cutoff, criterion = 'distance')\n",
      "    \n",
      "    df2 = pd.DataFrame({'subj': subj, 'task':task}, index = np.arange(len(df.index)))    \n",
      "    dfgroup = pd.DataFrame(df2,pd.Series(cluster)).reset_index().set_index(df.index).reset_index()\n",
      "    dfgroup.columns = ['active_elec','group','subj','task']\n",
      "    dfgroup = dfgroup[['subj','task','active_elec','group']]\n",
      "    dfall = dfall.append(dfgroup)\n",
      "    \n",
      "filename = os.path.join(savedir, 'groupidx_hclust.csv')\n",
      "dfall = dfall[['subj','task','active_elec','group']] #reorder columns\n",
      "#dfall.to_csv(filename, index = False)\n"
     ],
     "language": "python",
     "metadata": {},
     "outputs": [
      {
       "output_type": "stream",
       "stream": "stdout",
       "text": [
        "('JH10', 'EmoRep')\n",
        "('JH10', 'SelfAud')"
       ]
      },
      {
       "output_type": "stream",
       "stream": "stdout",
       "text": [
        "\n",
        "('JH17', 'EmoRep')"
       ]
      },
      {
       "output_type": "stream",
       "stream": "stdout",
       "text": [
        "\n",
        "('JH17', 'SelfAud')"
       ]
      },
      {
       "output_type": "stream",
       "stream": "stdout",
       "text": [
        "\n",
        "('JH17', 'SelfVis')"
       ]
      },
      {
       "output_type": "stream",
       "stream": "stdout",
       "text": [
        "\n",
        "('JH2', 'EmoGen')"
       ]
      },
      {
       "output_type": "stream",
       "stream": "stdout",
       "text": [
        "\n",
        "('JH2', 'FaceEmo')"
       ]
      },
      {
       "output_type": "stream",
       "stream": "stdout",
       "text": [
        "\n",
        "('JH2', 'SelfAud')"
       ]
      },
      {
       "output_type": "stream",
       "stream": "stdout",
       "text": [
        "\n",
        "('JH2', 'SelfVis')"
       ]
      },
      {
       "output_type": "stream",
       "stream": "stdout",
       "text": [
        "\n",
        "('JH5', 'EmoRep')"
       ]
      },
      {
       "output_type": "stream",
       "stream": "stdout",
       "text": [
        "\n",
        "('JH6', 'FaceEmo')"
       ]
      },
      {
       "output_type": "stream",
       "stream": "stdout",
       "text": [
        "\n",
        "('JH6', 'SelfAud')"
       ]
      },
      {
       "output_type": "stream",
       "stream": "stdout",
       "text": [
        "\n",
        "('ST1', 'EmoGen')"
       ]
      },
      {
       "output_type": "stream",
       "stream": "stdout",
       "text": [
        "\n",
        "('ST1', 'SelfAud')"
       ]
      },
      {
       "output_type": "stream",
       "stream": "stdout",
       "text": [
        "\n",
        "('ST15', 'SelfAud')"
       ]
      },
      {
       "output_type": "stream",
       "stream": "stdout",
       "text": [
        "\n",
        "('ST15', 'EmoRep')"
       ]
      },
      {
       "output_type": "stream",
       "stream": "stdout",
       "text": [
        "\n",
        "('ST4', 'SelfAud')"
       ]
      },
      {
       "output_type": "stream",
       "stream": "stdout",
       "text": [
        "\n",
        "('ST4', 'EmoRep')"
       ]
      },
      {
       "output_type": "stream",
       "stream": "stdout",
       "text": [
        "\n",
        "('ST6', 'EmoRep')"
       ]
      },
      {
       "output_type": "stream",
       "stream": "stdout",
       "text": [
        "\n",
        "('ST6', 'SelfAud')"
       ]
      },
      {
       "output_type": "stream",
       "stream": "stdout",
       "text": [
        "\n",
        "ST6 negative linkage: [ -2.22044605e-16]\n",
        "('ST6', 'SelfVis')"
       ]
      },
      {
       "output_type": "stream",
       "stream": "stdout",
       "text": [
        "\n",
        "('GP15', 'EmoGen')"
       ]
      },
      {
       "output_type": "stream",
       "stream": "stdout",
       "text": [
        "\n",
        "('GP15', 'EmoRep')"
       ]
      },
      {
       "output_type": "stream",
       "stream": "stdout",
       "text": [
        "\n",
        "('GP15', 'SelfAud')"
       ]
      },
      {
       "output_type": "stream",
       "stream": "stdout",
       "text": [
        "\n",
        "('GP15', 'SelfVis')"
       ]
      },
      {
       "output_type": "stream",
       "stream": "stdout",
       "text": [
        "\n",
        "('GP15', 'FaceEmo')"
       ]
      },
      {
       "output_type": "stream",
       "stream": "stdout",
       "text": [
        "\n",
        "('GP15', 'FaceGen')"
       ]
      },
      {
       "output_type": "stream",
       "stream": "stdout",
       "text": [
        "\n",
        "('GP27', 'EmoRep')"
       ]
      },
      {
       "output_type": "stream",
       "stream": "stdout",
       "text": [
        "\n",
        "('GP27', 'SelfAud')"
       ]
      },
      {
       "output_type": "stream",
       "stream": "stdout",
       "text": [
        "\n",
        "('GP28', 'SelfAud')"
       ]
      },
      {
       "output_type": "stream",
       "stream": "stdout",
       "text": [
        "\n",
        "('GP28', 'SelfVis')"
       ]
      },
      {
       "output_type": "stream",
       "stream": "stdout",
       "text": [
        "\n",
        "('GP35', 'EmoGen')"
       ]
      },
      {
       "output_type": "stream",
       "stream": "stdout",
       "text": [
        "\n",
        "('GP35', 'EmoRep')"
       ]
      },
      {
       "output_type": "stream",
       "stream": "stdout",
       "text": [
        "\n",
        "('GP35', 'FaceEmo')"
       ]
      },
      {
       "output_type": "stream",
       "stream": "stdout",
       "text": [
        "\n",
        "('GP35', 'FaceGen')"
       ]
      },
      {
       "output_type": "stream",
       "stream": "stdout",
       "text": [
        "\n",
        "('ST27', 'DecisionVis')"
       ]
      },
      {
       "output_type": "stream",
       "stream": "stdout",
       "text": [
        "\n",
        "('ST28', 'DecisionVis')"
       ]
      },
      {
       "output_type": "stream",
       "stream": "stdout",
       "text": [
        "\n",
        "('GP44', 'DecisionAud')"
       ]
      },
      {
       "output_type": "stream",
       "stream": "stdout",
       "text": [
        "\n",
        "('CP7', 'DecisionAud')"
       ]
      },
      {
       "output_type": "stream",
       "stream": "stdout",
       "text": [
        "\n",
        "('CP9', 'DecisionAud')"
       ]
      },
      {
       "output_type": "stream",
       "stream": "stdout",
       "text": [
        "\n",
        "('ST32', 'DecisionVis')"
       ]
      },
      {
       "output_type": "stream",
       "stream": "stdout",
       "text": [
        "\n",
        "ST32 negative linkage: [ -2.22044605e-16  -2.22044605e-16  -2.22044605e-16  -2.22044605e-16\n",
        "  -2.22044605e-16  -2.22044605e-16  -2.22044605e-16  -2.22044605e-16\n",
        "  -2.22044605e-16]\n"
       ]
      }
     ],
     "prompt_number": 8
    },
    {
     "cell_type": "code",
     "collapsed": false,
     "input": [
      "dfall.to_csv(os.path.join(SJdir, 'PCA', 'hclust', 'groupidx_hclust_2.csv'))"
     ],
     "language": "python",
     "metadata": {},
     "outputs": [],
     "prompt_number": 10
    },
    {
     "cell_type": "code",
     "collapsed": false,
     "input": [
      "plot(incon[:,-1],'.')"
     ],
     "language": "python",
     "metadata": {},
     "outputs": [
      {
       "metadata": {},
       "output_type": "pyout",
       "prompt_number": 406,
       "text": [
        "[<matplotlib.lines.Line2D at 0x59028d0>]"
       ]
      },
      {
       "metadata": {},
       "output_type": "display_data",
       "png": "[encoded data removed]",
       "text": [
        "<matplotlib.figure.Figure at 0xaa9ba90>"
       ]
      }
     ],
     "prompt_number": 406
    },
    {
     "cell_type": "code",
     "collapsed": false,
     "input": [
      "plot(incon[:,0],'.')"
     ],
     "language": "python",
     "metadata": {},
     "outputs": [
      {
       "metadata": {},
       "output_type": "pyout",
       "prompt_number": 410,
       "text": [
        "[<matplotlib.lines.Line2D at 0x8ae6690>]"
       ]
      },
      {
       "metadata": {},
       "output_type": "display_data",
       "png": "[encoded data removed]",
       "text": [
        "<matplotlib.figure.Figure at 0x58f9990>"
       ]
      }
     ],
     "prompt_number": 410
    },
    {
     "cell_type": "code",
     "collapsed": false,
     "input": [
      "fig, ax = plt.subplots()\n",
      "pcolor(squareform(distance), cmap = matplotlib.cm.jet)\n",
      "plt.colorbar()\n"
     ],
     "language": "python",
     "metadata": {},
     "outputs": [
      {
       "metadata": {},
       "output_type": "pyout",
       "prompt_number": 420,
       "text": [
        "<matplotlib.colorbar.Colorbar instance at 0x581cfc8>"
       ]
      },
      {
       "metadata": {},
       "output_type": "display_data",
       "png": "[encoded data removed]",
       "text": [
        "<matplotlib.figure.Figure at 0x73255d0>"
       ]
      }
     ],
     "prompt_number": 420
    },
    {
     "cell_type": "code",
     "collapsed": false,
     "input": [
      "fig, ax = plt.subplots()\n",
      "leaves = dfgroup.active_elec[dend['leaves']]\n",
      "\n",
      "tmp = squareform(distance)\n",
      "tmp2 = tmp[np.asarray(dend['leaves']), np.asarray(dend['leaves'])]\n",
      "\n",
      "plt.pcolor(tmp[:, dend['leaves']][dend['leaves']])\n",
      "plt.colorbar()"
     ],
     "language": "python",
     "metadata": {},
     "outputs": [
      {
       "metadata": {},
       "output_type": "pyout",
       "prompt_number": 463,
       "text": [
        "<matplotlib.colorbar.Colorbar instance at 0x68c10e0>"
       ]
      },
      {
       "metadata": {},
       "output_type": "display_data",
       "png": "[encoded data removed]",
       "text": [
        "<matplotlib.figure.Figure at 0x5a63f50>"
       ]
      }
     ],
     "prompt_number": 463
    },
    {
     "cell_type": "code",
     "collapsed": false,
     "input": [
      "    \n",
      "filename = os.path.join(datadir, '_'.join([subj, task, 'loadings.csv']))\n",
      "df = pd.DataFrame.from_csv(filename,index_col = 0)\n",
      "tmp = df.pop('fit.communality') #remove column\n",
      "\n",
      "distance = pdist(df, 'correlation') #distance matrix\n",
      "Z = hc.linkage(distance, method = 'complete') #linkage matrix\n",
      "cutoff = .7*max(Z[:,2]) #same as matlab's default\n",
      "    "
     ],
     "language": "python",
     "metadata": {},
     "outputs": [],
     "prompt_number": 305
    },
    {
     "cell_type": "code",
     "collapsed": false,
     "input": [
      "subj = 'GP15'\n",
      "task = 'EmoGen'\n",
      "filename = os.path.join(datadir, '_'.join([subj, task, 'loadings.csv']))\n",
      "df = pd.DataFrame.from_csv(filename).reset_index()\n",
      "df"
     ],
     "language": "python",
     "metadata": {},
     "outputs": [
      {
       "html": [
        "<div style=\"max-height:1000px;max-width:1500px;overflow:auto;\">\n",
        "<table border=\"1\" class=\"dataframe\">\n",
        "  <thead>\n",
        "    <tr style=\"text-align: right;\">\n",
        "      <th></th>\n",
        "      <th>RC2</th>\n",
        "      <th>RC3</th>\n",
        "      <th>RC1</th>\n",
        "      <th>RC4</th>\n",
        "      <th>fit.communality</th>\n",
        "    </tr>\n",
        "  </thead>\n",
        "  <tbody>\n",
        "    <tr>\n",
        "      <th>0 </th>\n",
        "      <td> 0.458364</td>\n",
        "      <td>-0.065870</td>\n",
        "      <td> 0.461900</td>\n",
        "      <td> 0.140301</td>\n",
        "      <td> 0.447472</td>\n",
        "    </tr>\n",
        "    <tr>\n",
        "      <th>1 </th>\n",
        "      <td> 0.116817</td>\n",
        "      <td> 0.329555</td>\n",
        "      <td> 0.671640</td>\n",
        "      <td>-0.387305</td>\n",
        "      <td> 0.723359</td>\n",
        "    </tr>\n",
        "    <tr>\n",
        "      <th>2 </th>\n",
        "      <td>-0.695266</td>\n",
        "      <td> 0.321996</td>\n",
        "      <td> 0.179323</td>\n",
        "      <td>-0.087918</td>\n",
        "      <td> 0.626962</td>\n",
        "    </tr>\n",
        "    <tr>\n",
        "      <th>3 </th>\n",
        "      <td>-0.062927</td>\n",
        "      <td> 0.363435</td>\n",
        "      <td> 0.716741</td>\n",
        "      <td>-0.245937</td>\n",
        "      <td> 0.710247</td>\n",
        "    </tr>\n",
        "    <tr>\n",
        "      <th>4 </th>\n",
        "      <td> 0.692802</td>\n",
        "      <td> 0.320071</td>\n",
        "      <td> 0.447031</td>\n",
        "      <td>-0.264542</td>\n",
        "      <td> 0.852239</td>\n",
        "    </tr>\n",
        "    <tr>\n",
        "      <th>5 </th>\n",
        "      <td> 0.422105</td>\n",
        "      <td> 0.325292</td>\n",
        "      <td> 0.736892</td>\n",
        "      <td>-0.312116</td>\n",
        "      <td> 0.924413</td>\n",
        "    </tr>\n",
        "    <tr>\n",
        "      <th>6 </th>\n",
        "      <td> 0.886412</td>\n",
        "      <td>-0.001774</td>\n",
        "      <td>-0.109850</td>\n",
        "      <td> 0.059644</td>\n",
        "      <td> 0.801354</td>\n",
        "    </tr>\n",
        "    <tr>\n",
        "      <th>7 </th>\n",
        "      <td> 0.450578</td>\n",
        "      <td> 0.377951</td>\n",
        "      <td> 0.674473</td>\n",
        "      <td>-0.321851</td>\n",
        "      <td> 0.904369</td>\n",
        "    </tr>\n",
        "    <tr>\n",
        "      <th>8 </th>\n",
        "      <td> 0.624398</td>\n",
        "      <td> 0.538187</td>\n",
        "      <td> 0.321446</td>\n",
        "      <td> 0.397058</td>\n",
        "      <td> 0.940500</td>\n",
        "    </tr>\n",
        "    <tr>\n",
        "      <th>9 </th>\n",
        "      <td> 0.854362</td>\n",
        "      <td> 0.142521</td>\n",
        "      <td> 0.258935</td>\n",
        "      <td>-0.082067</td>\n",
        "      <td> 0.824030</td>\n",
        "    </tr>\n",
        "    <tr>\n",
        "      <th>10</th>\n",
        "      <td> 0.180312</td>\n",
        "      <td> 0.298713</td>\n",
        "      <td> 0.678076</td>\n",
        "      <td>-0.373690</td>\n",
        "      <td> 0.721173</td>\n",
        "    </tr>\n",
        "    <tr>\n",
        "      <th>11</th>\n",
        "      <td> 0.756023</td>\n",
        "      <td> 0.439502</td>\n",
        "      <td> 0.357027</td>\n",
        "      <td>-0.055359</td>\n",
        "      <td> 0.895265</td>\n",
        "    </tr>\n",
        "    <tr>\n",
        "      <th>12</th>\n",
        "      <td> 0.514502</td>\n",
        "      <td> 0.399203</td>\n",
        "      <td> 0.379998</td>\n",
        "      <td> 0.067044</td>\n",
        "      <td> 0.572969</td>\n",
        "    </tr>\n",
        "    <tr>\n",
        "      <th>13</th>\n",
        "      <td> 0.291693</td>\n",
        "      <td> 0.722766</td>\n",
        "      <td> 0.348480</td>\n",
        "      <td>-0.118368</td>\n",
        "      <td> 0.742925</td>\n",
        "    </tr>\n",
        "    <tr>\n",
        "      <th>14</th>\n",
        "      <td> 0.148268</td>\n",
        "      <td> 0.762311</td>\n",
        "      <td> 0.461188</td>\n",
        "      <td>-0.328479</td>\n",
        "      <td> 0.923695</td>\n",
        "    </tr>\n",
        "    <tr>\n",
        "      <th>15</th>\n",
        "      <td> 0.758681</td>\n",
        "      <td> 0.409186</td>\n",
        "      <td>-0.067728</td>\n",
        "      <td> 0.018586</td>\n",
        "      <td> 0.747963</td>\n",
        "    </tr>\n",
        "    <tr>\n",
        "      <th>16</th>\n",
        "      <td> 0.010079</td>\n",
        "      <td> 0.185643</td>\n",
        "      <td> 0.767560</td>\n",
        "      <td>-0.163746</td>\n",
        "      <td> 0.650526</td>\n",
        "    </tr>\n",
        "    <tr>\n",
        "      <th>17</th>\n",
        "      <td> 0.148018</td>\n",
        "      <td> 0.903788</td>\n",
        "      <td> 0.250262</td>\n",
        "      <td> 0.167743</td>\n",
        "      <td> 0.929511</td>\n",
        "    </tr>\n",
        "    <tr>\n",
        "      <th>18</th>\n",
        "      <td> 0.225976</td>\n",
        "      <td> 0.731844</td>\n",
        "      <td> 0.361354</td>\n",
        "      <td>-0.003412</td>\n",
        "      <td> 0.717249</td>\n",
        "    </tr>\n",
        "    <tr>\n",
        "      <th>19</th>\n",
        "      <td> 0.175678</td>\n",
        "      <td> 0.809955</td>\n",
        "      <td> 0.455010</td>\n",
        "      <td>-0.218747</td>\n",
        "      <td> 0.941774</td>\n",
        "    </tr>\n",
        "    <tr>\n",
        "      <th>20</th>\n",
        "      <td> 0.084959</td>\n",
        "      <td> 0.848328</td>\n",
        "      <td> 0.056498</td>\n",
        "      <td>-0.287567</td>\n",
        "      <td> 0.812765</td>\n",
        "    </tr>\n",
        "    <tr>\n",
        "      <th>21</th>\n",
        "      <td>-0.091271</td>\n",
        "      <td> 0.825830</td>\n",
        "      <td>-0.034515</td>\n",
        "      <td> 0.102335</td>\n",
        "      <td> 0.701990</td>\n",
        "    </tr>\n",
        "    <tr>\n",
        "      <th>22</th>\n",
        "      <td>-0.165954</td>\n",
        "      <td> 0.593502</td>\n",
        "      <td> 0.067843</td>\n",
        "      <td>-0.675481</td>\n",
        "      <td> 0.840662</td>\n",
        "    </tr>\n",
        "    <tr>\n",
        "      <th>23</th>\n",
        "      <td> 0.696484</td>\n",
        "      <td>-0.022923</td>\n",
        "      <td>-0.405449</td>\n",
        "      <td> 0.175244</td>\n",
        "      <td> 0.680714</td>\n",
        "    </tr>\n",
        "    <tr>\n",
        "      <th>24</th>\n",
        "      <td> 0.328352</td>\n",
        "      <td> 0.007408</td>\n",
        "      <td>-0.252380</td>\n",
        "      <td> 0.873435</td>\n",
        "      <td> 0.934454</td>\n",
        "    </tr>\n",
        "    <tr>\n",
        "      <th>25</th>\n",
        "      <td> 0.268177</td>\n",
        "      <td> 0.057398</td>\n",
        "      <td>-0.373604</td>\n",
        "      <td> 0.848785</td>\n",
        "      <td> 0.935230</td>\n",
        "    </tr>\n",
        "    <tr>\n",
        "      <th>26</th>\n",
        "      <td> 0.895436</td>\n",
        "      <td> 0.234852</td>\n",
        "      <td> 0.151246</td>\n",
        "      <td> 0.292407</td>\n",
        "      <td> 0.965339</td>\n",
        "    </tr>\n",
        "    <tr>\n",
        "      <th>27</th>\n",
        "      <td> 0.251311</td>\n",
        "      <td>-0.023146</td>\n",
        "      <td>-0.357278</td>\n",
        "      <td> 0.880865</td>\n",
        "      <td> 0.967263</td>\n",
        "    </tr>\n",
        "    <tr>\n",
        "      <th>28</th>\n",
        "      <td> 0.854389</td>\n",
        "      <td> 0.128607</td>\n",
        "      <td> 0.164941</td>\n",
        "      <td> 0.415340</td>\n",
        "      <td> 0.946234</td>\n",
        "    </tr>\n",
        "    <tr>\n",
        "      <th>29</th>\n",
        "      <td>-0.255073</td>\n",
        "      <td>-0.192466</td>\n",
        "      <td>-0.306805</td>\n",
        "      <td> 0.771412</td>\n",
        "      <td> 0.791311</td>\n",
        "    </tr>\n",
        "    <tr>\n",
        "      <th>30</th>\n",
        "      <td>-0.810626</td>\n",
        "      <td>-0.031389</td>\n",
        "      <td>-0.141090</td>\n",
        "      <td> 0.046212</td>\n",
        "      <td> 0.680141</td>\n",
        "    </tr>\n",
        "    <tr>\n",
        "      <th>31</th>\n",
        "      <td>-0.408569</td>\n",
        "      <td> 0.160538</td>\n",
        "      <td> 0.733701</td>\n",
        "      <td>-0.266205</td>\n",
        "      <td> 0.801885</td>\n",
        "    </tr>\n",
        "    <tr>\n",
        "      <th>32</th>\n",
        "      <td> 0.692307</td>\n",
        "      <td> 0.034707</td>\n",
        "      <td> 0.559358</td>\n",
        "      <td>-0.260645</td>\n",
        "      <td> 0.861310</td>\n",
        "    </tr>\n",
        "    <tr>\n",
        "      <th>33</th>\n",
        "      <td> 0.908612</td>\n",
        "      <td> 0.150471</td>\n",
        "      <td>-0.010386</td>\n",
        "      <td> 0.227622</td>\n",
        "      <td> 0.900138</td>\n",
        "    </tr>\n",
        "  </tbody>\n",
        "</table>\n",
        "<p>34 rows \u00d7 5 columns</p>\n",
        "</div>"
       ],
       "metadata": {},
       "output_type": "pyout",
       "prompt_number": 320,
       "text": [
        "         RC2       RC3       RC1       RC4  fit.communality\n",
        "0   0.458364 -0.065870  0.461900  0.140301         0.447472\n",
        "1   0.116817  0.329555  0.671640 -0.387305         0.723359\n",
        "2  -0.695266  0.321996  0.179323 -0.087918         0.626962\n",
        "3  -0.062927  0.363435  0.716741 -0.245937         0.710247\n",
        "4   0.692802  0.320071  0.447031 -0.264542         0.852239\n",
        "5   0.422105  0.325292  0.736892 -0.312116         0.924413\n",
        "6   0.886412 -0.001774 -0.109850  0.059644         0.801354\n",
        "7   0.450578  0.377951  0.674473 -0.321851         0.904369\n",
        "8   0.624398  0.538187  0.321446  0.397058         0.940500\n",
        "9   0.854362  0.142521  0.258935 -0.082067         0.824030\n",
        "10  0.180312  0.298713  0.678076 -0.373690         0.721173\n",
        "11  0.756023  0.439502  0.357027 -0.055359         0.895265\n",
        "12  0.514502  0.399203  0.379998  0.067044         0.572969\n",
        "13  0.291693  0.722766  0.348480 -0.118368         0.742925\n",
        "14  0.148268  0.762311  0.461188 -0.328479         0.923695\n",
        "15  0.758681  0.409186 -0.067728  0.018586         0.747963\n",
        "16  0.010079  0.185643  0.767560 -0.163746         0.650526\n",
        "17  0.148018  0.903788  0.250262  0.167743         0.929511\n",
        "18  0.225976  0.731844  0.361354 -0.003412         0.717249\n",
        "19  0.175678  0.809955  0.455010 -0.218747         0.941774\n",
        "20  0.084959  0.848328  0.056498 -0.287567         0.812765\n",
        "21 -0.091271  0.825830 -0.034515  0.102335         0.701990\n",
        "22 -0.165954  0.593502  0.067843 -0.675481         0.840662\n",
        "23  0.696484 -0.022923 -0.405449  0.175244         0.680714\n",
        "24  0.328352  0.007408 -0.252380  0.873435         0.934454\n",
        "25  0.268177  0.057398 -0.373604  0.848785         0.935230\n",
        "26  0.895436  0.234852  0.151246  0.292407         0.965339\n",
        "27  0.251311 -0.023146 -0.357278  0.880865         0.967263\n",
        "28  0.854389  0.128607  0.164941  0.415340         0.946234\n",
        "29 -0.255073 -0.192466 -0.306805  0.771412         0.791311\n",
        "30 -0.810626 -0.031389 -0.141090  0.046212         0.680141\n",
        "31 -0.408569  0.160538  0.733701 -0.266205         0.801885\n",
        "32  0.692307  0.034707  0.559358 -0.260645         0.861310\n",
        "33  0.908612  0.150471 -0.010386  0.227622         0.900138\n",
        "\n",
        "[34 rows x 5 columns]"
       ]
      }
     ],
     "prompt_number": 320
    },
    {
     "cell_type": "code",
     "collapsed": false,
     "input": [],
     "language": "python",
     "metadata": {},
     "outputs": [
      {
       "metadata": {},
       "output_type": "pyout",
       "prompt_number": 294,
       "text": [
        "array([[  1.40000000e+01,   1.80000000e+01,  -2.22044605e-16,\n",
        "          2.00000000e+00],\n",
        "       [  1.10000000e+01,   1.30000000e+01,  -2.22044605e-16,\n",
        "          2.00000000e+00],\n",
        "       [  1.00000000e+01,   1.60000000e+01,  -2.22044605e-16,\n",
        "          2.00000000e+00],\n",
        "       [  6.00000000e+00,   2.20000000e+01,  -2.22044605e-16,\n",
        "          3.00000000e+00],\n",
        "       [  5.00000000e+00,   1.20000000e+01,  -2.22044605e-16,\n",
        "          2.00000000e+00],\n",
        "       [  3.00000000e+00,   2.40000000e+01,  -2.22044605e-16,\n",
        "          3.00000000e+00],\n",
        "       [  1.00000000e+00,   2.70000000e+01,  -2.22044605e-16,\n",
        "          4.00000000e+00],\n",
        "       [  0.00000000e+00,   2.00000000e+00,  -2.22044605e-16,\n",
        "          2.00000000e+00],\n",
        "       [  2.80000000e+01,   2.90000000e+01,   0.00000000e+00,\n",
        "          6.00000000e+00],\n",
        "       [  2.50000000e+01,   2.60000000e+01,   0.00000000e+00,\n",
        "          5.00000000e+00],\n",
        "       [  2.30000000e+01,   3.10000000e+01,   0.00000000e+00,\n",
        "          7.00000000e+00],\n",
        "       [  2.00000000e+01,   3.00000000e+01,   0.00000000e+00,\n",
        "          7.00000000e+00],\n",
        "       [  1.70000000e+01,   2.10000000e+01,   0.00000000e+00,\n",
        "          2.00000000e+00],\n",
        "       [  1.50000000e+01,   3.40000000e+01,   0.00000000e+00,\n",
        "          3.00000000e+00],\n",
        "       [  8.00000000e+00,   1.90000000e+01,   0.00000000e+00,\n",
        "          2.00000000e+00],\n",
        "       [  7.00000000e+00,   3.50000000e+01,   0.00000000e+00,\n",
        "          4.00000000e+00],\n",
        "       [  4.00000000e+00,   3.70000000e+01,   1.11022302e-16,\n",
        "          5.00000000e+00],\n",
        "       [  3.30000000e+01,   3.80000000e+01,   2.22044605e-16,\n",
        "          1.20000000e+01],\n",
        "       [  3.20000000e+01,   3.60000000e+01,   2.22044605e-16,\n",
        "          9.00000000e+00],\n",
        "       [  9.00000000e+00,   4.00000000e+01,   2.22044605e-16,\n",
        "          1.00000000e+01],\n",
        "       [  3.90000000e+01,   4.10000000e+01,   2.00000000e+00,\n",
        "          2.20000000e+01]])"
       ]
      }
     ],
     "prompt_number": 294
    },
    {
     "cell_type": "code",
     "collapsed": false,
     "input": [
      "dfgroup"
     ],
     "language": "python",
     "metadata": {},
     "outputs": [
      {
       "html": [
        "<div style=\"max-height:1000px;max-width:1500px;overflow:auto;\">\n",
        "<table border=\"1\" class=\"dataframe\">\n",
        "  <thead>\n",
        "    <tr style=\"text-align: right;\">\n",
        "      <th></th>\n",
        "      <th>subj</th>\n",
        "      <th>task</th>\n",
        "      <th>active_elec</th>\n",
        "      <th>group</th>\n",
        "    </tr>\n",
        "  </thead>\n",
        "  <tbody>\n",
        "    <tr>\n",
        "      <th>0 </th>\n",
        "      <td> JH10</td>\n",
        "      <td> SelfAud</td>\n",
        "      <td>  2</td>\n",
        "      <td> 4</td>\n",
        "    </tr>\n",
        "    <tr>\n",
        "      <th>1 </th>\n",
        "      <td> JH10</td>\n",
        "      <td> SelfAud</td>\n",
        "      <td>  3</td>\n",
        "      <td> 4</td>\n",
        "    </tr>\n",
        "    <tr>\n",
        "      <th>2 </th>\n",
        "      <td> JH10</td>\n",
        "      <td> SelfAud</td>\n",
        "      <td>  4</td>\n",
        "      <td> 4</td>\n",
        "    </tr>\n",
        "    <tr>\n",
        "      <th>3 </th>\n",
        "      <td> JH10</td>\n",
        "      <td> SelfAud</td>\n",
        "      <td>  5</td>\n",
        "      <td> 1</td>\n",
        "    </tr>\n",
        "    <tr>\n",
        "      <th>4 </th>\n",
        "      <td> JH10</td>\n",
        "      <td> SelfAud</td>\n",
        "      <td>  7</td>\n",
        "      <td> 3</td>\n",
        "    </tr>\n",
        "    <tr>\n",
        "      <th>5 </th>\n",
        "      <td> JH10</td>\n",
        "      <td> SelfAud</td>\n",
        "      <td>  9</td>\n",
        "      <td> 2</td>\n",
        "    </tr>\n",
        "    <tr>\n",
        "      <th>6 </th>\n",
        "      <td> JH10</td>\n",
        "      <td> SelfAud</td>\n",
        "      <td> 11</td>\n",
        "      <td> 2</td>\n",
        "    </tr>\n",
        "    <tr>\n",
        "      <th>7 </th>\n",
        "      <td> JH10</td>\n",
        "      <td> SelfAud</td>\n",
        "      <td> 25</td>\n",
        "      <td> 2</td>\n",
        "    </tr>\n",
        "    <tr>\n",
        "      <th>8 </th>\n",
        "      <td> JH10</td>\n",
        "      <td> SelfAud</td>\n",
        "      <td> 33</td>\n",
        "      <td> 1</td>\n",
        "    </tr>\n",
        "    <tr>\n",
        "      <th>9 </th>\n",
        "      <td> JH10</td>\n",
        "      <td> SelfAud</td>\n",
        "      <td> 34</td>\n",
        "      <td> 1</td>\n",
        "    </tr>\n",
        "    <tr>\n",
        "      <th>10</th>\n",
        "      <td> JH10</td>\n",
        "      <td> SelfAud</td>\n",
        "      <td> 41</td>\n",
        "      <td> 1</td>\n",
        "    </tr>\n",
        "    <tr>\n",
        "      <th>11</th>\n",
        "      <td> JH10</td>\n",
        "      <td> SelfAud</td>\n",
        "      <td> 42</td>\n",
        "      <td> 1</td>\n",
        "    </tr>\n",
        "    <tr>\n",
        "      <th>12</th>\n",
        "      <td> JH10</td>\n",
        "      <td> SelfAud</td>\n",
        "      <td> 43</td>\n",
        "      <td> 2</td>\n",
        "    </tr>\n",
        "    <tr>\n",
        "      <th>13</th>\n",
        "      <td> JH10</td>\n",
        "      <td> SelfAud</td>\n",
        "      <td> 51</td>\n",
        "      <td> 3</td>\n",
        "    </tr>\n",
        "    <tr>\n",
        "      <th>14</th>\n",
        "      <td> JH10</td>\n",
        "      <td> SelfAud</td>\n",
        "      <td> 57</td>\n",
        "      <td> 3</td>\n",
        "    </tr>\n",
        "    <tr>\n",
        "      <th>15</th>\n",
        "      <td> JH10</td>\n",
        "      <td> SelfAud</td>\n",
        "      <td> 58</td>\n",
        "      <td> 3</td>\n",
        "    </tr>\n",
        "    <tr>\n",
        "      <th>16</th>\n",
        "      <td> JH10</td>\n",
        "      <td> SelfAud</td>\n",
        "      <td> 59</td>\n",
        "      <td> 3</td>\n",
        "    </tr>\n",
        "    <tr>\n",
        "      <th>17</th>\n",
        "      <td> JH10</td>\n",
        "      <td> SelfAud</td>\n",
        "      <td> 81</td>\n",
        "      <td> 4</td>\n",
        "    </tr>\n",
        "    <tr>\n",
        "      <th>18</th>\n",
        "      <td> JH10</td>\n",
        "      <td> SelfAud</td>\n",
        "      <td> 82</td>\n",
        "      <td> 1</td>\n",
        "    </tr>\n",
        "    <tr>\n",
        "      <th>19</th>\n",
        "      <td> JH10</td>\n",
        "      <td> SelfAud</td>\n",
        "      <td> 84</td>\n",
        "      <td> 4</td>\n",
        "    </tr>\n",
        "    <tr>\n",
        "      <th>20</th>\n",
        "      <td> JH10</td>\n",
        "      <td> SelfAud</td>\n",
        "      <td> 88</td>\n",
        "      <td> 2</td>\n",
        "    </tr>\n",
        "    <tr>\n",
        "      <th>21</th>\n",
        "      <td> JH10</td>\n",
        "      <td> SelfAud</td>\n",
        "      <td> 89</td>\n",
        "      <td> 2</td>\n",
        "    </tr>\n",
        "    <tr>\n",
        "      <th>22</th>\n",
        "      <td> JH10</td>\n",
        "      <td> SelfAud</td>\n",
        "      <td> 93</td>\n",
        "      <td> 2</td>\n",
        "    </tr>\n",
        "  </tbody>\n",
        "</table>\n",
        "<p>23 rows \u00d7 4 columns</p>\n",
        "</div>"
       ],
       "metadata": {},
       "output_type": "pyout",
       "prompt_number": 275,
       "text": [
        "    subj     task  active_elec  group\n",
        "0   JH10  SelfAud            2      4\n",
        "1   JH10  SelfAud            3      4\n",
        "2   JH10  SelfAud            4      4\n",
        "3   JH10  SelfAud            5      1\n",
        "4   JH10  SelfAud            7      3\n",
        "5   JH10  SelfAud            9      2\n",
        "6   JH10  SelfAud           11      2\n",
        "7   JH10  SelfAud           25      2\n",
        "8   JH10  SelfAud           33      1\n",
        "9   JH10  SelfAud           34      1\n",
        "10  JH10  SelfAud           41      1\n",
        "11  JH10  SelfAud           42      1\n",
        "12  JH10  SelfAud           43      2\n",
        "13  JH10  SelfAud           51      3\n",
        "14  JH10  SelfAud           57      3\n",
        "15  JH10  SelfAud           58      3\n",
        "16  JH10  SelfAud           59      3\n",
        "17  JH10  SelfAud           81      4\n",
        "18  JH10  SelfAud           82      1\n",
        "19  JH10  SelfAud           84      4\n",
        "20  JH10  SelfAud           88      2\n",
        "21  JH10  SelfAud           89      2\n",
        "22  JH10  SelfAud           93      2\n",
        "\n",
        "[23 rows x 4 columns]"
       ]
      }
     ],
     "prompt_number": 275
    },
    {
     "cell_type": "code",
     "collapsed": false,
     "input": [
      "I = hc.inconsistent(Z)"
     ],
     "language": "python",
     "metadata": {},
     "outputs": [],
     "prompt_number": 100
    },
    {
     "cell_type": "code",
     "collapsed": false,
     "input": [
      "coph = hc.cophenet(Z, distance)"
     ],
     "language": "python",
     "metadata": {},
     "outputs": [],
     "prompt_number": 101
    },
    {
     "cell_type": "code",
     "collapsed": false,
     "input": [],
     "language": "python",
     "metadata": {},
     "outputs": []
    }
   ],
   "metadata": {}
  }
 ]
}