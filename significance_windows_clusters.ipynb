{
 "metadata": {
  "name": "",
  "signature": "sha256:f7833266644b1cfd1caf56b80fc4dd5f417fc8a2e018fcba3d6c440557dfa7ca"
 },
 "nbformat": 3,
 "nbformat_minor": 0,
 "worksheets": [
  {
   "cells": [
    {
     "cell_type": "markdown",
     "metadata": {},
     "source": [
      "###calculate mean and peak activity in a significance window"
     ]
    },
    {
     "cell_type": "code",
     "collapsed": false,
     "input": [
      "%reset"
     ],
     "language": "python",
     "metadata": {},
     "outputs": [
      {
       "name": "stdout",
       "output_type": "stream",
       "stream": "stdout",
       "text": [
        "Once deleted, variables cannot be recovered. Proceed (y/[n])? y\n"
       ]
      }
     ],
     "prompt_number": 154
    },
    {
     "cell_type": "code",
     "collapsed": false,
     "input": [
      "import pandas as pd\n",
      "import os\n",
      "import scipy.stats as stats\n",
      "from __future__ import division\n",
      "import numpy as np\n",
      "import loadmat\n",
      "#loadmat = reload(loadmat)\n",
      "import matplotlib.pyplot as plt"
     ],
     "language": "python",
     "metadata": {},
     "outputs": [],
     "prompt_number": 9
    },
    {
     "cell_type": "code",
     "collapsed": false,
     "input": [
      "SJdir = '/home/knight/matar/MATLAB/DATA/Avgusta/'\n",
      "\n",
      "#get list of subjects/task (those with recons)\n",
      "reconlist = os.path.join(SJdir, 'PCA', 'reconlist.xlsx')\n",
      "reconlist = pd.ExcelFile(reconlist).parse('Sheet1')"
     ],
     "language": "python",
     "metadata": {},
     "outputs": [],
     "prompt_number": 10
    },
    {
     "cell_type": "code",
     "collapsed": false,
     "input": [
      "subjs = list()\n",
      "tasks = list()\n",
      "clusts = list()\n",
      "mean_activity = list(); std_activity = list()\n",
      "mean_baseline = list(); std_baseline = list()\n",
      "max_activity = list()"
     ],
     "language": "python",
     "metadata": {},
     "outputs": [],
     "prompt_number": 11
    },
    {
     "cell_type": "code",
     "collapsed": false,
     "input": [
      "for n,m in enumerate(reconlist.values):\n",
      "    subj_task, recon, xycoords, _ = m\n",
      "    subj, task = subj_task.split('_')\n",
      "    \n",
      "    #load TvD_full (load onset of red window for both significant and insignificant)\n",
      "    filename = os.path.join(SJdir, 'PCA','ShadePlots_hclust_thresh15', '_'.join([subj, task, 'TvD.mat']))\n",
      "    data = loadmat.loadmat(filename)\n",
      "    \n",
      "    params = data['Params']\n",
      "    TvD_all = data['TvD_all']\n",
      "    \n",
      "    clusters = list()\n",
      "    for c in TvD_all[:,0]:\n",
      "        clusters.append(str(c))\n",
      "    \n",
      "    for i, x in enumerate(clusters):\n",
      "        filename = os.path.join(SJdir, 'PCA','SingleTrials_hclust', x) \n",
      "        data = loadmat.loadmat(filename)\n",
      "        cdata = data['cdata']\n",
      "        srate = data['srate']\n",
      "        \n",
      "        bl_st = round(int(params['bl_st'])/1000*srate) #baseline offset\n",
      "        st_tp = TvD_all[i,3]+abs(bl_st) #all significant windows plus baseline offset\n",
      "        \n",
      "        time_points = list() #significant timepoints\n",
      "        if st_tp.size == 0:\n",
      "            continue\n",
      "        elif len(st_tp.shape)>1:\n",
      "            for j in np.arange(st_tp.shape[0]):\n",
      "                time_points.extend(np.arange(st_tp[j,0], st_tp[j,1]))\n",
      "        else:\n",
      "            time_points.extend(np.arange(st_tp[0], st_tp[1]))\n",
      "            \n",
      "        mean_activity.append(cdata[:, time_points].mean())\n",
      "        std_activity.append(cdata[:, time_points].mean(axis = 0).std())\n",
      "        mean_baseline.append(cdata[:, np.arange(0, abs(int(bl_st)))].mean())\n",
      "        std_baseline.append(cdata[:, np.arange(0, abs(int(bl_st)))].mean(axis = 0).std())\n",
      "        max_activity.append(cdata[:,time_points].mean(axis = 0).max())\n",
      "        \n",
      "        [s, t, clust] = x.split('_')\n",
      "        subjs.append(s)\n",
      "        tasks.append(t)\n",
      "        clusts.append(int(clust.split('.')[0][1:]))\n"
     ],
     "language": "python",
     "metadata": {},
     "outputs": [],
     "prompt_number": 280
    },
    {
     "cell_type": "code",
     "collapsed": false,
     "input": [
      "mean_activity = {'subj' : subjs, 'task' : tasks, 'cluster' : clusts, 'mean_activity' : mean_activity, 'std_activity' : std_activity, 'mean_baseline' : mean_baseline, 'std_baseline' : std_baseline, 'max_activity': max_activity}"
     ],
     "language": "python",
     "metadata": {},
     "outputs": [],
     "prompt_number": 281
    },
    {
     "cell_type": "code",
     "collapsed": false,
     "input": [
      "df = pd.DataFrame(mean_activity)"
     ],
     "language": "python",
     "metadata": {},
     "outputs": [],
     "prompt_number": 282
    },
    {
     "cell_type": "code",
     "collapsed": false,
     "input": [
      "filename = os.path.join(SJdir, 'PCA','ShadePlots_hclust_thresh15', 'mean_activity_stats.csv')\n",
      "df.to_csv(filename)\n",
      "filename"
     ],
     "language": "python",
     "metadata": {},
     "outputs": [
      {
       "metadata": {},
       "output_type": "pyout",
       "prompt_number": 283,
       "text": [
        "'/home/knight/matar/MATLAB/DATA/Avgusta/PCA/ShadePlots_hclust_thresh15/mean_activity_stats.csv'"
       ]
      }
     ],
     "prompt_number": 283
    },
    {
     "cell_type": "markdown",
     "metadata": {},
     "source": [
      "### csv file with activity windows for each cluster"
     ]
    },
    {
     "cell_type": "code",
     "collapsed": false,
     "input": [
      "subjs = list()\n",
      "tasks = list()\n",
      "start_window = list()\n",
      "end_window = list()\n",
      "clusts = list()"
     ],
     "language": "python",
     "metadata": {},
     "outputs": [],
     "prompt_number": 171
    },
    {
     "cell_type": "code",
     "collapsed": false,
     "input": [
      "for n,m in enumerate(reconlist.values[[np.arange(18, 49)]]):\n",
      "#for n,m in enumerate(reconlist.values):\n",
      "    subj_task, recon, xycoords, _ = m\n",
      "    subj, task = subj_task.split('_')\n",
      "    \n",
      "    #load TvD_full (load onset of red window for both significant and insignificant)\n",
      "    filename = os.path.join(SJdir, 'PCA','ShadePlots_hclust_thresh15', '_'.join([subj, task, 'TvD.mat']))\n",
      "    data = loadmat.loadmat(filename)\n",
      "    \n",
      "    params = data['Params']\n",
      "    TvD = data['TvD']\n",
      "    if len(TvD.shape) == 1:\n",
      "        TvD = TvD.reshape(1, TvD.size)\n",
      "        \n",
      "    clusters = list()\n",
      "    for c in TvD[:,0]:\n",
      "        clusters.append(str(c))\n",
      "\n",
      "    for i, x in enumerate(clusters):\n",
      "        st_tp = TvD[i,3] #all significant windows\n",
      "        \n",
      "        if len(st_tp.shape) ==1:\n",
      "            st_tp = st_tp.reshape(1, st_tp.size)\n",
      "            \n",
      "        for j in np.arange(st_tp.shape[0]):\n",
      "            start_window.append(st_tp[j-1,0])\n",
      "            end_window.append(st_tp[j-1,1])\n",
      "            subjs.append(subj)\n",
      "            tasks.append(task)\n",
      "            clusts.append(int(x.split('_')[-1].split('.')[0][1:]))\n",
      "       "
     ],
     "language": "python",
     "metadata": {},
     "outputs": [],
     "prompt_number": 174
    },
    {
     "cell_type": "code",
     "collapsed": false,
     "input": [
      "activity_windows = {'subj' : subjs, 'task' : tasks, 'cluster' : clusts, 'start' : start_window, 'end' : end_window}"
     ],
     "language": "python",
     "metadata": {},
     "outputs": [],
     "prompt_number": 179
    },
    {
     "cell_type": "code",
     "collapsed": false,
     "input": [
      "df = pd.DataFrame(activity_windows)"
     ],
     "language": "python",
     "metadata": {},
     "outputs": [],
     "prompt_number": 180
    },
    {
     "cell_type": "code",
     "collapsed": false,
     "input": [
      "df = df[['subj','task','cluster','start','end']]"
     ],
     "language": "python",
     "metadata": {},
     "outputs": [],
     "prompt_number": 182
    },
    {
     "cell_type": "code",
     "collapsed": false,
     "input": [
      "df = df.sort(['subj','task','cluster','start'])"
     ],
     "language": "python",
     "metadata": {},
     "outputs": [],
     "prompt_number": 187
    },
    {
     "cell_type": "code",
     "collapsed": false,
     "input": [
      "filename = os.path.join(SJdir,'PCA','ShadePlots_hclust_thresh15', 'activity_windows.csv')\n",
      "filename"
     ],
     "language": "python",
     "metadata": {},
     "outputs": [
      {
       "metadata": {},
       "output_type": "pyout",
       "prompt_number": 195,
       "text": [
        "'/home/knight/matar/MATLAB/DATA/Avgusta/PCA/ShadePlots_hclust_thresh15/activity_windows.csv'"
       ]
      }
     ],
     "prompt_number": 195
    },
    {
     "cell_type": "code",
     "collapsed": false,
     "input": [
      "df.to_csv(filename)"
     ],
     "language": "python",
     "metadata": {},
     "outputs": [],
     "prompt_number": 196
    }
   ],
   "metadata": {}
  }
 ]
}