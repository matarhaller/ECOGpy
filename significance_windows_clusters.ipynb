{
 "metadata": {
  "name": "",
  "signature": "sha256:3aea2e64ef886b37c0e02d36b65f3f62b6fe4d2766f251938c49ab5e8db0bd2a"
 },
 "nbformat": 3,
 "nbformat_minor": 0,
 "worksheets": [
  {
   "cells": [
    {
     "cell_type": "markdown",
     "metadata": {},
     "source": [
      "###calculate mean and peak activity in a significance window"
     ]
    },
    {
     "cell_type": "code",
     "collapsed": false,
     "input": [
      "%reset"
     ],
     "language": "python",
     "metadata": {},
     "outputs": [
      {
       "name": "stdout",
       "output_type": "stream",
       "stream": "stdout",
       "text": [
        "Once deleted, variables cannot be recovered. Proceed (y/[n])? y\n"
       ]
      }
     ],
     "prompt_number": 34
    },
    {
     "cell_type": "code",
     "collapsed": false,
     "input": [
      "import pandas as pd\n",
      "import os\n",
      "import scipy.stats as stats\n",
      "from __future__ import division\n",
      "import numpy as np\n",
      "import loadmat\n",
      "#loadmat = reload(loadmat)\n",
      "import matplotlib.pyplot as plt"
     ],
     "language": "python",
     "metadata": {},
     "outputs": [],
     "prompt_number": 2
    },
    {
     "cell_type": "code",
     "collapsed": false,
     "input": [
      "SJdir = '/home/knight/matar/MATLAB/DATA/Avgusta/'\n",
      "\n",
      "#get list of subjects/task (those with recons)\n",
      "reconlist = os.path.join(SJdir, 'PCA', 'reconlist.csv')\n",
      "reconlist = pd.read_csv(reconlist)"
     ],
     "language": "python",
     "metadata": {},
     "outputs": [],
     "prompt_number": 3
    },
    {
     "cell_type": "markdown",
     "metadata": {},
     "source": [
      "### csv file with activity windows for each cluster (STIM)"
     ]
    },
    {
     "cell_type": "code",
     "collapsed": false,
     "input": [
      "subjs = list()\n",
      "tasks = list()\n",
      "start_window = list(); start_window_ms = list()\n",
      "end_window = list(); end_window_ms = list()\n",
      "clusts = list()\n",
      "\n",
      "for n,m in enumerate(reconlist.values):\n",
      "    subj_task, recon, _, srate, _ = m\n",
      "    if isinstance(recon, float):\n",
      "        continue\n",
      "    subj, task = subj_task.split('_')\n",
      "    \n",
      "    #load TvD_full (load onset of red window for both significant and insignificant)\n",
      "    filename = os.path.join(SJdir, 'PCA','ShadePlots_hclust_thresh15', '_'.join([subj, task, 'TvD.mat']))\n",
      "    data = loadmat.loadmat(filename)\n",
      "    \n",
      "    params = data['Params']\n",
      "    TvD = data['TvD']\n",
      "    if len(TvD.shape) == 1:\n",
      "        TvD = TvD.reshape(1, TvD.size)\n",
      "        \n",
      "    clusters = list()\n",
      "    for c in TvD[:,0]:\n",
      "        clusters.append(str(c))\n",
      "\n",
      "    for i, x in enumerate(clusters):\n",
      "        st_tp = TvD[i,3] #all significant windows\n",
      "        \n",
      "        if len(st_tp.shape) ==1:\n",
      "            st_tp = st_tp.reshape(1, st_tp.size)\n",
      "        \n",
      "        st_tp_ms = np.round(st_tp/srate*1000)\n",
      "        \n",
      "        for j in np.arange(st_tp.shape[0]):\n",
      "            start_window.append(st_tp[j-1,0])\n",
      "            end_window.append(st_tp[j-1,1])\n",
      "            subjs.append(subj)\n",
      "            tasks.append(task)\n",
      "            clusts.append(int(x.split('_')[-1].split('.')[0][1:]))\n",
      "            start_window_ms.append(st_tp_ms[j-1,0])\n",
      "            end_window_ms.append(st_tp_ms[j-1,1])\n",
      "       \n",
      "activity_windows = {'subj' : subjs, 'task' : tasks, 'cluster' : clusts, 'start' : start_window, 'end' : end_window, 'start_ms':start_window_ms, 'end_ms': end_window_ms}\n",
      "df = pd.DataFrame(activity_windows)\n",
      "df = df[['subj','task','cluster','start','end', 'start_ms', 'end_ms']]\n",
      "df = df.sort(['subj','task','cluster','start'])\n",
      "filename = os.path.join(SJdir,'PCA','ShadePlots_hclust_thresh15', 'activity_windows.csv')\n",
      "filename\n",
      "df.to_csv(filename)"
     ],
     "language": "python",
     "metadata": {},
     "outputs": [],
     "prompt_number": 297
    },
    {
     "cell_type": "markdown",
     "metadata": {},
     "source": [
      "### csv file with activity windows for each cluster (RESP)"
     ]
    },
    {
     "cell_type": "code",
     "collapsed": false,
     "input": [
      "subjs = list()\n",
      "tasks = list()\n",
      "start_window = list(); start_window_ms = list()\n",
      "end_window = list(); end_window_ms = list()\n",
      "clusts = list()\n",
      "\n",
      "for n,m in enumerate(reconlist.values):\n",
      "    subj_task, recon, _, srate, _ = m\n",
      "    if isinstance(recon, float):\n",
      "        continue\n",
      "    subj, task = subj_task.split('_')\n",
      "    \n",
      "    #load TvD_full (load onset of red window for both significant and insignificant)\n",
      "    filename = os.path.join(SJdir, 'PCA','ShadePlots_hclust', '_'.join([subj, task, 'TvD_resp.mat']))\n",
      "    data = loadmat.loadmat(filename)\n",
      "    \n",
      "    params = data['Params']\n",
      "    TvD = data['TvD']\n",
      "    if len(TvD.shape) == 1:\n",
      "        TvD = TvD.reshape(1, TvD.size)\n",
      "        \n",
      "    clusters = list()\n",
      "    for c in TvD[:,0]:\n",
      "        clusters.append(str(c))\n",
      "\n",
      "    for i, x in enumerate(clusters):\n",
      "        st_tp = TvD[i,3] #all significant windows\n",
      "        \n",
      "        if len(st_tp.shape) ==1:\n",
      "            st_tp = st_tp.reshape(1, st_tp.size)\n",
      "        \n",
      "        st_tp_ms = np.round(st_tp/srate*1000)\n",
      "        \n",
      "        for j in np.arange(st_tp.shape[0]):\n",
      "            start_window.append(st_tp[j-1,0])\n",
      "            end_window.append(st_tp[j-1,1])\n",
      "            subjs.append(subj)\n",
      "            tasks.append(task)\n",
      "            clusts.append(int(x.split('_')[-1].split('.')[0][1:]))\n",
      "            start_window_ms.append(st_tp_ms[j-1,0])\n",
      "            end_window_ms.append(st_tp_ms[j-1,1])\n",
      "       \n",
      "activity_windows = {'subj' : subjs, 'task' : tasks, 'cluster' : clusts, 'start' : start_window, 'end' : end_window, 'start_ms':start_window_ms, 'end_ms': end_window_ms}\n",
      "df = pd.DataFrame(activity_windows)\n",
      "df = df[['subj','task','cluster','start','end', 'start_ms', 'end_ms']]\n",
      "df = df.sort(['subj','task','cluster','start'])\n",
      "filename = os.path.join(SJdir,'PCA','ShadePlots_hclust', 'activity_windows_resp.csv')\n",
      "filename\n"
     ],
     "language": "python",
     "metadata": {},
     "outputs": [
      {
       "metadata": {},
       "output_type": "pyout",
       "prompt_number": 298,
       "text": [
        "'/home/knight/matar/MATLAB/DATA/Avgusta/PCA/ShadePlots_hclust/activity_windows_resp.csv'"
       ]
      }
     ],
     "prompt_number": 298
    },
    {
     "cell_type": "code",
     "collapsed": false,
     "input": [
      "df.to_csv(filename)"
     ],
     "language": "python",
     "metadata": {},
     "outputs": [],
     "prompt_number": 300
    },
    {
     "cell_type": "markdown",
     "metadata": {},
     "source": [
      "## combine stim and resp into 1 csv"
     ]
    },
    {
     "cell_type": "code",
     "collapsed": false,
     "input": [
      "#combine STIM and RESP bigwindow with duration csvs\n",
      "filename = os.path.join(SJdir,'PCA','ShadePlots_hclust', 'activity_windows_resp.csv')\n",
      "df_resp = pd.read_csv(filename)\n",
      "df_resp = df_resp[['subj','task','cluster','start','end', 'start_ms', 'end_ms']]\n",
      "df_resp.columns = ['subj','task', 'cluster', 'start_resp', 'end_resp', 'start_ms_resp', 'end_ms_resp']\n",
      "\n",
      "filename = os.path.join(SJdir,'PCA','ShadePlots_hclust_thresh15', 'activity_windows.csv')\n",
      "df_stim = pd.read_csv(filename)\n",
      "df_stim = df_stim[['subj','task','cluster','start','end', 'start_ms', 'end_ms']]\n"
     ],
     "language": "python",
     "metadata": {},
     "outputs": [
      {
       "metadata": {},
       "output_type": "pyout",
       "prompt_number": 13,
       "text": [
        "Index([u'subj', u'task', u'cluster', u'start', u'end', u'start_ms', u'end_ms'], dtype='object')"
       ]
      }
     ],
     "prompt_number": 13
    },
    {
     "cell_type": "code",
     "collapsed": false,
     "input": [
      "df_all = df_stim.merge(df_resp, on = ['subj','task', 'cluster'], how = 'outer')\n",
      "\n",
      "df_all = df_all[['subj','task','cluster', 'start_ms','end_ms','start_ms_resp','end_ms_resp','start','end', 'start_resp','end_resp']]\n",
      "\n",
      "filename = os.path.join(SJdir, 'PCA', 'ShadePlots_hclust_thresh15', 'activity_windows_stim_resp.csv')\n",
      "df_all.to_csv(filename)\n",
      "\n",
      "print df_all.shape\n",
      "print df_resp.shape\n",
      "print df_stim.shape"
     ],
     "language": "python",
     "metadata": {},
     "outputs": [
      {
       "output_type": "stream",
       "stream": "stdout",
       "text": [
        "(540, 11)\n",
        "(409, 7)\n",
        "(227, 7)\n"
       ]
      }
     ],
     "prompt_number": 16
    },
    {
     "cell_type": "markdown",
     "metadata": {},
     "source": [
      "## stats within activity windows - from activity_windows.csv"
     ]
    },
    {
     "cell_type": "markdown",
     "metadata": {},
     "source": [
      "###STIM"
     ]
    },
    {
     "cell_type": "code",
     "collapsed": false,
     "input": [
      "subjs = list()\n",
      "tasks = list()\n",
      "clusts = list()\n",
      "mean_activity = list(); std_activity = list()\n",
      "mean_baseline = list(); std_baseline = list()\n",
      "max_activity = list()\n",
      "starts = list(); ends = list()"
     ],
     "language": "python",
     "metadata": {},
     "outputs": [],
     "prompt_number": 252
    },
    {
     "cell_type": "code",
     "collapsed": false,
     "input": [
      "filename = os.path.join(SJdir,'PCA','ShadePlots_hclust_thresh15', 'activity_windows.csv')\n",
      "df = pd.read_csv(filename)\n",
      "df.columns"
     ],
     "language": "python",
     "metadata": {},
     "outputs": [
      {
       "metadata": {},
       "output_type": "pyout",
       "prompt_number": 253,
       "text": [
        "Index([u'Unnamed: 0', u'subj', u'task', u'cluster', u'start', u'end', u'start_ms', u'end_ms'], dtype='object')"
       ]
      }
     ],
     "prompt_number": 253
    },
    {
     "cell_type": "code",
     "collapsed": false,
     "input": [
      "for r in df.itertuples():\n",
      "    i, _, subj, task, cluster, start, end, start_ms, end_ms = r\n",
      "    filename = os.path.join(SJdir, 'PCA','SingleTrials_hclust', ''.join([subj, '_', task, '_c', str(cluster), '.mat']))\n",
      "    data = loadmat.loadmat(filename)\n",
      "    cdata = data['cdata']\n",
      "    srate = data['srate']\n",
      "    filename = os.path.join(SJdir, 'PCA','ShadePlots_hclust_thresh15', '_'.join([subj,task, 'TvD.mat']))\n",
      "    data = loadmat.loadmat(filename)\n",
      "    params = data['Params']\n",
      "    \n",
      "    bl_st = round(int(params['bl_st'])/1000*srate) #baseline offset\n",
      "    start = start + abs(bl_st) #all significant windows plus baseline offset\n",
      "    end = end+abs(bl_st)\n",
      "    \n",
      "    mean_activity.append(cdata[:, start:end].mean())\n",
      "    std_activity.append(cdata[:, start:end].mean(axis = 0).std())\n",
      "    mean_baseline.append(cdata[:, np.arange(0, abs(int(bl_st)))].mean())\n",
      "    std_baseline.append(cdata[:, np.arange(0, abs(int(bl_st)))].mean(axis = 0).std())\n",
      "    max_activity.append(cdata[:,start:end].mean(axis = 0).max())\n",
      "    \n",
      "    subjs.append(subj)\n",
      "    tasks.append(task)\n",
      "    clusts.append(cluster)\n",
      "    starts.append(start-abs(bl_st))\n",
      "    ends.append(end- abs(bl_st))\n",
      "    "
     ],
     "language": "python",
     "metadata": {},
     "outputs": [],
     "prompt_number": 254
    },
    {
     "cell_type": "code",
     "collapsed": false,
     "input": [
      "activity_stats = {'subj' : subjs, 'task' : tasks, 'cluster' : clusts, 'start' : starts, 'end' : ends, 'mean_activity' : mean_activity, 'std_activity' : std_activity, 'mean_baseline' : mean_baseline, 'std_baseline' : std_baseline, 'max_activity': max_activity}"
     ],
     "language": "python",
     "metadata": {},
     "outputs": [],
     "prompt_number": 255
    },
    {
     "cell_type": "code",
     "collapsed": false,
     "input": [
      "print len(mean_baseline)\n",
      "print len(subjs)"
     ],
     "language": "python",
     "metadata": {},
     "outputs": [
      {
       "output_type": "stream",
       "stream": "stdout",
       "text": [
        "227\n",
        "227\n"
       ]
      }
     ],
     "prompt_number": 256
    },
    {
     "cell_type": "code",
     "collapsed": false,
     "input": [
      "df_stats = pd.DataFrame(activity_stats)"
     ],
     "language": "python",
     "metadata": {},
     "outputs": [],
     "prompt_number": 257
    },
    {
     "cell_type": "code",
     "collapsed": false,
     "input": [
      "df_all = pd.merge(df_stats, df, how = 'outer', on = ['subj','task','cluster', 'start', 'end'])\n",
      "df_all = df_all[['subj','task', 'cluster', 'start_ms', 'end_ms', 'mean_activity', 'std_activity', 'max_activity', 'mean_baseline', 'std_baseline', 'start','end']]"
     ],
     "language": "python",
     "metadata": {},
     "outputs": [],
     "prompt_number": 261
    },
    {
     "cell_type": "code",
     "collapsed": false,
     "input": [
      "filename = os.path.join(SJdir,'PCA','ShadePlots_hclust_thresh15', 'activity_windows_stats.csv')\n",
      "df_all.to_csv(filename)"
     ],
     "language": "python",
     "metadata": {},
     "outputs": [],
     "prompt_number": 263
    },
    {
     "cell_type": "markdown",
     "metadata": {},
     "source": [
      "## add ROIs to cluster"
     ]
    },
    {
     "cell_type": "code",
     "collapsed": false,
     "input": [
      "filename = os.path.join(SJdir, 'PCA', 'duration_dict_500', 'groupidx_activeclusters_hclust_withduration_thresh15_maxRTlocked_withcriteria_ROI.csv')\n",
      "df = pd.read_csv(filename)\n",
      "df = df[list(df.columns[3:])] #drop weird rows\n",
      "df.rename(columns={'group':'cluster'}, inplace=True)"
     ],
     "language": "python",
     "metadata": {},
     "outputs": [],
     "prompt_number": 281
    },
    {
     "cell_type": "code",
     "collapsed": false,
     "input": [
      "df_all_stats = pd.merge(df[['subj','task','cluster','active_elecs', 'all_criteria_passed', 'ROI']], df_all, how = 'outer', on = ['subj','task','cluster'])"
     ],
     "language": "python",
     "metadata": {},
     "outputs": [],
     "prompt_number": 282
    },
    {
     "cell_type": "code",
     "collapsed": false,
     "input": [
      "filename = os.path.join(SJdir, 'PCA', 'duration_dict_500', 'groupidx_activeclusters_hclust_withduration_thresh15_maxRTlocked_withcriteria_ROI_shadeplot.csv')\n",
      "df_all_stats.to_csv(filename)"
     ],
     "language": "python",
     "metadata": {},
     "outputs": [],
     "prompt_number": 283
    },
    {
     "cell_type": "code",
     "collapsed": false,
     "input": [
      "#drop duplicates\n",
      "filename = os.path.join(SJdir, 'PCA', 'duration_dict_500', 'groupidx_activeclusters_hclust_withduration_thresh15_maxRTlocked_withcriteria_ROI_shadeplot.csv')\n",
      "df_all_stats = pd.read_csv(filename)\n",
      "\n",
      "df_all_stats.columns\n",
      "df_all_stats = df_all_stats.drop_duplicates(cols = ['subj','task','cluster','active_elecs'])\n",
      "\n",
      "df_all_stats = df_all_stats.sort(['subj','task','cluster', 'active_elecs'])\n",
      "\n",
      "filename = os.path.join(SJdir, 'PCA', 'duration_dict_500', 'groupidx_activeclusters_hclust_withduration_thresh15_maxRTlocked_withcriteria_ROI_shadeplot_dropduplicates.csv')\n",
      "df_all_stats.to_csv(filename)"
     ],
     "language": "python",
     "metadata": {},
     "outputs": [],
     "prompt_number": 292
    },
    {
     "cell_type": "code",
     "collapsed": false,
     "input": [],
     "language": "python",
     "metadata": {},
     "outputs": []
    }
   ],
   "metadata": {}
  }
 ]
}