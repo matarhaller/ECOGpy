{
 "metadata": {
  "name": "",
  "signature": "sha256:f01696553a7def6ae1d1975ae9c3d5d7b64fddec792e6306dece781c6f21e31a"
 },
 "nbformat": 3,
 "nbformat_minor": 0,
 "worksheets": [
  {
   "cells": [
    {
     "cell_type": "code",
     "collapsed": false,
     "input": [
      "import os\n",
      "import pandas as pd"
     ],
     "language": "python",
     "metadata": {},
     "outputs": [],
     "prompt_number": 2
    },
    {
     "cell_type": "code",
     "collapsed": false,
     "input": [
      "subj = 'GP15'\n",
      "task = 'EmoRep'\n",
      "k = 'lats_pro'\n",
      "\n",
      "#load data\n",
      "filename = os.path.join(SJdir, 'PCA', 'ShadePlots_hclust', 'elecs', 'significance_windows', 'data', ''.join([subj, '_', task, '.p']))\n",
      "data_dict = pickle.load( open(filename, \"rb\" ) )\n",
      "    \n",
      "\n",
      "data = pd.DataFrame(data_dict[k])"
     ],
     "language": "python",
     "metadata": {},
     "outputs": [],
     "prompt_number": 171
    },
    {
     "cell_type": "code",
     "collapsed": false,
     "input": [
      "filename = os.path.join(SJdir, 'PCA', 'ShadePlots_hclust', 'elecs', 'significance_windows', 'csv_files', '_'.join([subj, task, k]) + '.csv')\n",
      "df = pd.read_csv(filename)\n"
     ],
     "language": "python",
     "metadata": {},
     "outputs": [],
     "prompt_number": 172
    },
    {
     "cell_type": "code",
     "collapsed": false,
     "input": [
      "print data[9].shape \n",
      "print df['9'].shape"
     ],
     "language": "python",
     "metadata": {},
     "outputs": [
      {
       "output_type": "stream",
       "stream": "stdout",
       "text": [
        "(114,)\n",
        "(114,)\n"
       ]
      }
     ],
     "prompt_number": 174
    },
    {
     "cell_type": "code",
     "collapsed": false,
     "input": [
      "data[9].hist()\n",
      "plt.savefig('/home/knight/matar/GP15_EmoRep_lats_pro_alltrials.png')"
     ],
     "language": "python",
     "metadata": {},
     "outputs": [
      {
       "metadata": {},
       "output_type": "display_data",
       "png": "[encoded data removed]",
       "text": [
        "<matplotlib.figure.Figure at 0x7f45c8214690>"
       ]
      }
     ],
     "prompt_number": 176
    },
    {
     "cell_type": "code",
     "collapsed": false,
     "input": [
      "df['9'].hist()\n",
      "plt.savefig('/home/knight/matar/GP15_EmoRep_lats_pro_droppedtrials.png')"
     ],
     "language": "python",
     "metadata": {},
     "outputs": [
      {
       "metadata": {},
       "output_type": "display_data",
       "png": "[encoded data removed]",
       "text": [
        "<matplotlib.figure.Figure at 0x7f45c5446590>"
       ]
      }
     ],
     "prompt_number": 177
    },
    {
     "cell_type": "code",
     "collapsed": false,
     "input": [
      "SJdir = '/home/knight/matar/MATLAB/DATA/Avgusta'\n",
      "df_pattern = pd.read_csv(os.path.join(SJdir, 'PCA','Stats', 'single_electrode_windows_withdesignation_EDITED_dropped.csv'))\n",
      "\n",
      "subj_task = df_pattern[['subj', 'task']].drop_duplicates()\n",
      "\n",
      "df_all = pd.DataFrame({'maxes':[], 'means':[], 'stds':[], 'lats_pro':[], 'pred_score':[], 'pval_predscore':[], 'alpha':[]})\n",
      "\n",
      "for s_t in subj_task.itertuples():\n",
      "    _, subj, task = s_t\n",
      "    filename = os.path.join(SJdir, 'PCA','Stats','Regression', '_'.join([subj, task,'coefs.csv']))\n",
      "    df = pd.read_csv(filename)\n",
      "    df.columns = ['elec','maxes','means','stds','lats_pro','pred_score','pval_predscore','alpha']\n",
      "    df['subj'] = [subj] * len(df)\n",
      "    df['task'] = [task] * len(df)\n",
      "    df_all = df_all.append(df)"
     ],
     "language": "python",
     "metadata": {},
     "outputs": [],
     "prompt_number": 45
    },
    {
     "cell_type": "code",
     "collapsed": false,
     "input": [
      "df"
     ],
     "language": "python",
     "metadata": {},
     "outputs": [
      {
       "html": [
        "<div style=\"max-height:1000px;max-width:1500px;overflow:auto;\">\n",
        "<table border=\"1\" class=\"dataframe\">\n",
        "  <thead>\n",
        "    <tr style=\"text-align: right;\">\n",
        "      <th></th>\n",
        "      <th>elec</th>\n",
        "      <th>maxes</th>\n",
        "      <th>means</th>\n",
        "      <th>stds</th>\n",
        "      <th>lats_pro</th>\n",
        "      <th>pred_score</th>\n",
        "      <th>pval_predscore</th>\n",
        "      <th>alpha</th>\n",
        "      <th>subj</th>\n",
        "      <th>task</th>\n",
        "    </tr>\n",
        "  </thead>\n",
        "  <tbody>\n",
        "    <tr>\n",
        "      <th>0</th>\n",
        "      <td>  2</td>\n",
        "      <td>-0.037020</td>\n",
        "      <td>-0.007843</td>\n",
        "      <td> 0.024914</td>\n",
        "      <td> 0.009771</td>\n",
        "      <td>-0.169137</td>\n",
        "      <td> 0.311</td>\n",
        "      <td> 10000.000000</td>\n",
        "      <td> ST6</td>\n",
        "      <td> SelfAud</td>\n",
        "    </tr>\n",
        "    <tr>\n",
        "      <th>1</th>\n",
        "      <td> 40</td>\n",
        "      <td> 0.013288</td>\n",
        "      <td> 0.086749</td>\n",
        "      <td>-0.072279</td>\n",
        "      <td>-0.046129</td>\n",
        "      <td> 0.084742</td>\n",
        "      <td> 0.422</td>\n",
        "      <td>  1291.549665</td>\n",
        "      <td> ST6</td>\n",
        "      <td> SelfAud</td>\n",
        "    </tr>\n",
        "    <tr>\n",
        "      <th>2</th>\n",
        "      <td> 12</td>\n",
        "      <td> 0.016134</td>\n",
        "      <td> 0.007507</td>\n",
        "      <td>-0.024289</td>\n",
        "      <td> 0.006676</td>\n",
        "      <td>-0.281628</td>\n",
        "      <td> 0.223</td>\n",
        "      <td> 10000.000000</td>\n",
        "      <td> ST6</td>\n",
        "      <td> SelfAud</td>\n",
        "    </tr>\n",
        "    <tr>\n",
        "      <th>3</th>\n",
        "      <td> 49</td>\n",
        "      <td>-0.077263</td>\n",
        "      <td> 0.036782</td>\n",
        "      <td> 0.031832</td>\n",
        "      <td> 0.017145</td>\n",
        "      <td>-0.117798</td>\n",
        "      <td> 0.353</td>\n",
        "      <td> 10000.000000</td>\n",
        "      <td> ST6</td>\n",
        "      <td> SelfAud</td>\n",
        "    </tr>\n",
        "    <tr>\n",
        "      <th>4</th>\n",
        "      <td> 50</td>\n",
        "      <td> 0.121506</td>\n",
        "      <td>-0.048598</td>\n",
        "      <td>-0.072812</td>\n",
        "      <td>-0.006201</td>\n",
        "      <td>-0.301977</td>\n",
        "      <td> 0.210</td>\n",
        "      <td> 10000.000000</td>\n",
        "      <td> ST6</td>\n",
        "      <td> SelfAud</td>\n",
        "    </tr>\n",
        "    <tr>\n",
        "      <th>5</th>\n",
        "      <td> 51</td>\n",
        "      <td>-0.025639</td>\n",
        "      <td> 0.002162</td>\n",
        "      <td> 0.008722</td>\n",
        "      <td>-0.007283</td>\n",
        "      <td>-0.213866</td>\n",
        "      <td> 0.291</td>\n",
        "      <td> 10000.000000</td>\n",
        "      <td> ST6</td>\n",
        "      <td> SelfAud</td>\n",
        "    </tr>\n",
        "  </tbody>\n",
        "</table>\n",
        "</div>"
       ],
       "metadata": {},
       "output_type": "pyout",
       "prompt_number": 46,
       "text": [
        "   elec     maxes     means      stds  lats_pro  pred_score  pval_predscore  \\\n",
        "0     2 -0.037020 -0.007843  0.024914  0.009771   -0.169137           0.311   \n",
        "1    40  0.013288  0.086749 -0.072279 -0.046129    0.084742           0.422   \n",
        "2    12  0.016134  0.007507 -0.024289  0.006676   -0.281628           0.223   \n",
        "3    49 -0.077263  0.036782  0.031832  0.017145   -0.117798           0.353   \n",
        "4    50  0.121506 -0.048598 -0.072812 -0.006201   -0.301977           0.210   \n",
        "5    51 -0.025639  0.002162  0.008722 -0.007283   -0.213866           0.291   \n",
        "\n",
        "          alpha subj     task  \n",
        "0  10000.000000  ST6  SelfAud  \n",
        "1   1291.549665  ST6  SelfAud  \n",
        "2  10000.000000  ST6  SelfAud  \n",
        "3  10000.000000  ST6  SelfAud  \n",
        "4  10000.000000  ST6  SelfAud  \n",
        "5  10000.000000  ST6  SelfAud  "
       ]
      }
     ],
     "prompt_number": 46
    },
    {
     "cell_type": "code",
     "collapsed": false,
     "input": [
      "df_all = pd.merge(df_all, df_pattern[['subj','task','elec', 'pattern']], how = 'outer')"
     ],
     "language": "python",
     "metadata": {},
     "outputs": [],
     "prompt_number": 51
    },
    {
     "cell_type": "code",
     "collapsed": false,
     "input": [
      "df_all.columns"
     ],
     "language": "python",
     "metadata": {},
     "outputs": [
      {
       "metadata": {},
       "output_type": "pyout",
       "prompt_number": 52,
       "text": [
        "Index([u'alpha', u'elec', u'lats_pro', u'maxes', u'means', u'pred_score', u'pval_predscore', u'stds', u'subj', u'task', u'pattern'], dtype='object')"
       ]
      }
     ],
     "prompt_number": 52
    },
    {
     "cell_type": "code",
     "collapsed": false,
     "input": [
      "df_all = df_all[['subj','task','elec','pattern','maxes','means','stds','lats_pro','pred_score','pval_predscore','alpha']]"
     ],
     "language": "python",
     "metadata": {},
     "outputs": [],
     "prompt_number": 53
    },
    {
     "cell_type": "code",
     "collapsed": false,
     "input": [
      "filename = os.path.join(SJdir, 'PCA','Stats','Regression', 'all_coefs_withpatterns.csv')\n",
      "df_all.to_csv(filename)"
     ],
     "language": "python",
     "metadata": {},
     "outputs": [],
     "prompt_number": 57
    },
    {
     "cell_type": "code",
     "collapsed": false,
     "input": [
      "import os\n",
      "import pandas as pd\n",
      "import numpy as np\n",
      "import scipy.cluster.hierarchy as hc\n",
      "from scipy.spatial.distance import pdist, squareform\n",
      "import loadmat"
     ],
     "language": "python",
     "metadata": {},
     "outputs": [],
     "prompt_number": 4
    },
    {
     "cell_type": "code",
     "collapsed": false,
     "input": [
      "subj = 'GP15'\n",
      "task = 'EmoGen'\n",
      "datadir = '/home/knight/matar/MATLAB/DATA/Avgusta/PCA/Stats/PCA_means/'\n",
      "\n",
      "filename = os.path.join(datadir, '_'.join([subj, task, 'loadings.csv']))\n",
      "df = pd.DataFrame.from_csv(filename)\n",
      "tmp = df.pop('fit.communality') #remove column\n",
      "    \n",
      "distance = pdist(df, 'correlation') #distance matrix\n",
      "Z = hc.linkage(distance, method = 'complete') #linkage matrix"
     ],
     "language": "python",
     "metadata": {},
     "outputs": [],
     "prompt_number": 12
    },
    {
     "cell_type": "code",
     "collapsed": false,
     "input": [
      "f, ax = plt.subplots(figsize = (20, 5))\n",
      "incon = hc.inconsistent(Z) #inconsistency\n",
      "cutoff = median(incon[:,-1])\n",
      "dend = hc.dendrogram(Z, labels = df.index, color_threshold=cutoff)\n",
      "title(' '.join([subj, task, '- cutoff: median inconsistency']))"
     ],
     "language": "python",
     "metadata": {},
     "outputs": [
      {
       "metadata": {},
       "output_type": "pyout",
       "prompt_number": 15,
       "text": [
        "<matplotlib.text.Text at 0x7f45cd599d90>"
       ]
      },
      {
       "metadata": {},
       "output_type": "display_data",
       "png": "[encoded data removed]",
       "text": [
        "<matplotlib.figure.Figure at 0x7f45cd6ae050>"
       ]
      }
     ],
     "prompt_number": 15
    },
    {
     "cell_type": "code",
     "collapsed": false,
     "input": [
      "SJdir = '/home/knight/matar/MATLAB/DATA/Avgusta'\n"
     ],
     "language": "python",
     "metadata": {},
     "outputs": [],
     "prompt_number": 18
    },
    {
     "cell_type": "code",
     "collapsed": false,
     "input": [
      "filename = os.path.join(SJdir, 'PCA', 'Stats', 'PCA_means', '_'.join([subj, task]) + '_loadings.csv')\n",
      "df = pd.read_csv(filename)"
     ],
     "language": "python",
     "metadata": {},
     "outputs": [],
     "prompt_number": 23
    },
    {
     "cell_type": "code",
     "collapsed": false,
     "input": [
      "df.columns = ['elecs','PC1','PC2','PC3','PC4','fit']"
     ],
     "language": "python",
     "metadata": {},
     "outputs": [],
     "prompt_number": 25
    },
    {
     "cell_type": "code",
     "collapsed": false,
     "input": [
      "df = df.set_index('elecs')\n",
      "df.pop('fit')"
     ],
     "language": "python",
     "metadata": {},
     "outputs": [],
     "prompt_number": 28
    },
    {
     "cell_type": "code",
     "collapsed": false,
     "input": [
      "df.hist()"
     ],
     "language": "python",
     "metadata": {},
     "outputs": [
      {
       "metadata": {},
       "output_type": "pyout",
       "prompt_number": 35,
       "text": [
        "array([[<matplotlib.axes.AxesSubplot object at 0x7f45cd2f9790>,\n",
        "        <matplotlib.axes.AxesSubplot object at 0x7f45cd0bda50>],\n",
        "       [<matplotlib.axes.AxesSubplot object at 0x7f45cd2cd910>,\n",
        "        <matplotlib.axes.AxesSubplot object at 0x7f45cd0746d0>]], dtype=object)"
       ]
      },
      {
       "metadata": {},
       "output_type": "display_data",
       "png": "[encoded data removed]",
       "text": [
        "<matplotlib.figure.Figure at 0x7f45cd50a390>"
       ]
      }
     ],
     "prompt_number": 35
    },
    {
     "cell_type": "code",
     "collapsed": false,
     "input": [
      "df.mean()"
     ],
     "language": "python",
     "metadata": {},
     "outputs": [
      {
       "metadata": {},
       "output_type": "pyout",
       "prompt_number": 45,
       "text": [
        "PC1    0.359063\n",
        "PC2    0.039413\n",
        "PC3    0.054578\n",
        "PC4    0.011189\n",
        "dtype: float64"
       ]
      }
     ],
     "prompt_number": 45
    },
    {
     "cell_type": "code",
     "collapsed": false,
     "input": [
      "df.median()"
     ],
     "language": "python",
     "metadata": {},
     "outputs": [
      {
       "metadata": {},
       "output_type": "pyout",
       "prompt_number": 44,
       "text": [
        "PC1    0.343441\n",
        "PC2   -0.005931\n",
        "PC3   -0.005650\n",
        "PC4   -0.016606\n",
        "dtype: float64"
       ]
      }
     ],
     "prompt_number": 44
    },
    {
     "cell_type": "code",
     "collapsed": false,
     "input": [
      "features = ['maxes','means','lats_pro','stds', 'maxes_rel','medians']\n",
      "predictor = 'RTs'"
     ],
     "language": "python",
     "metadata": {},
     "outputs": [],
     "prompt_number": 241
    },
    {
     "cell_type": "code",
     "collapsed": false,
     "input": [
      "data_dict = dict()\n",
      "for j, f in enumerate(features):\n",
      "    filename = os.path.join(SJdir, 'PCA', 'Stats', 'outliers', '_'.join([subj, task, f]) + '.csv')\n",
      "    df = pd.read_csv(filename)\n",
      "    df.columns = [int(x) for x in df.columns]\n",
      "    data_dict[f] = dict(df)\n",
      "\n",
      "filename = os.path.join(SJdir, 'PCA', 'Stats', 'outliers', '_'.join([subj, task, predictor]) + '.csv')\n",
      "df = pd.read_csv(filename)\n",
      "df.columns = [int(x) for x in df.columns]\n",
      "data_dict[predictor] = dict(df)    \n"
     ],
     "language": "python",
     "metadata": {},
     "outputs": [],
     "prompt_number": 242
    },
    {
     "cell_type": "code",
     "collapsed": false,
     "input": [
      "filename = os.path.join(SJdir, 'PCA', 'ShadePlots_hclust', 'elecs', 'significance_windows', 'data',  '_'.join([subj, task]) + '.p')\n",
      "data_dict_p = pickle.load(open(filename, 'rb'))\n"
     ],
     "language": "python",
     "metadata": {},
     "outputs": [],
     "prompt_number": 213
    },
    {
     "cell_type": "code",
     "collapsed": false,
     "input": [
      "data_dict['medians'][13].shape"
     ],
     "language": "python",
     "metadata": {},
     "outputs": [
      {
       "metadata": {},
       "output_type": "pyout",
       "prompt_number": 236,
       "text": [
        "(111,)"
       ]
      }
     ],
     "prompt_number": 236
    },
    {
     "cell_type": "code",
     "collapsed": false,
     "input": [
      "data_dict_p['medians'][13].shape"
     ],
     "language": "python",
     "metadata": {},
     "outputs": [
      {
       "metadata": {},
       "output_type": "pyout",
       "prompt_number": 224,
       "text": [
        "(114,)"
       ]
      }
     ],
     "prompt_number": 224
    },
    {
     "cell_type": "code",
     "collapsed": false,
     "input": [
      "#plot beta relationships"
     ],
     "language": "python",
     "metadata": {},
     "outputs": []
    },
    {
     "cell_type": "code",
     "collapsed": false,
     "input": [
      "filename = os.path.join(SJdir, 'PCA', 'Stats', 'Regression', 'all_coefs_withpatterns.csv')\n",
      "df = pd.read_csv(filename)\n"
     ],
     "language": "python",
     "metadata": {},
     "outputs": [],
     "prompt_number": 243
    },
    {
     "cell_type": "code",
     "collapsed": false,
     "input": [
      "df.columns"
     ],
     "language": "python",
     "metadata": {},
     "outputs": [
      {
       "metadata": {},
       "output_type": "pyout",
       "prompt_number": 248,
       "text": [
        "Index([u'Unnamed: 0', u'subj', u'task', u'elec', u'pattern', u'maxes_rel', u'medians', u'stds', u'lats_pro', u'pred_score', u'pval_predscore', u'alpha'], dtype='object')"
       ]
      }
     ],
     "prompt_number": 248
    },
    {
     "cell_type": "code",
     "collapsed": false,
     "input": [
      "#plt.plot(df[df.pattern == 'D'].maxes_rel, df[df.pattern == 'D'].medians,'.')\n",
      "\n",
      "plt.plot(df.query(\"pattern == 'D' & pred_score > 0.3 & pval_predscore < 0.05\").maxes_rel, df.query(\"pattern == 'D' & pred_score > 0.3 & pval_predscore < 0.05\").medians,'r.')\n",
      "plt.plot(df.query(\"pattern == 'D' & pred_score > 0.3 & pval_predscore < 0.05\").maxes_rel, df.query(\"pattern == 'D' & pred_score > 0.3 & pval_predscore < 0.05\").lats_pro,'r.')\n"
     ],
     "language": "python",
     "metadata": {},
     "outputs": [
      {
       "metadata": {},
       "output_type": "pyout",
       "prompt_number": 259,
       "text": [
        "[<matplotlib.lines.Line2D at 0x7f45c49e9d90>]"
       ]
      },
      {
       "metadata": {},
       "output_type": "display_data",
       "png": "[encoded data removed]",
       "text": [
        "<matplotlib.figure.Figure at 0x7f45c5343d10>"
       ]
      }
     ],
     "prompt_number": 259
    },
    {
     "cell_type": "code",
     "collapsed": false,
     "input": [
      "filename = os.path.join(SJdir, 'PCA','Stats', 'Regression', 'GP15_EmoGen.p')\n",
      "data_dict = pickle.load(open(filename, 'rb'))"
     ],
     "language": "python",
     "metadata": {},
     "outputs": [],
     "prompt_number": 386
    },
    {
     "cell_type": "code",
     "collapsed": false,
     "input": [
      "from scipy import stats"
     ],
     "language": "python",
     "metadata": {},
     "outputs": [],
     "prompt_number": 338
    },
    {
     "cell_type": "code",
     "collapsed": false,
     "input": [
      "zcoefs = np.array(data_dict['zcoefs'])[0,:]\n",
      "coefs = np.array(data_dict['coefs'][0])[:,0]"
     ],
     "language": "python",
     "metadata": {},
     "outputs": [],
     "prompt_number": 373
    },
    {
     "cell_type": "code",
     "collapsed": false,
     "input": [
      "zcoefs"
     ],
     "language": "python",
     "metadata": {},
     "outputs": [
      {
       "metadata": {},
       "output_type": "pyout",
       "prompt_number": 374,
       "text": [
        "array([ 0.62201529, -0.07065392, -0.38317978, -0.03846038])"
       ]
      }
     ],
     "prompt_number": 374
    },
    {
     "cell_type": "code",
     "collapsed": false,
     "input": [
      "plt.hist(coefs)"
     ],
     "language": "python",
     "metadata": {},
     "outputs": [
      {
       "metadata": {},
       "output_type": "pyout",
       "prompt_number": 365,
       "text": [
        "(array([  12.,   27.,    0.,   22.,  155.,   12.,  154.,  434.,  155.,   29.]),\n",
        " array([ 0.00319434,  0.09527871,  0.18736308,  0.27944744,  0.37153181,\n",
        "         0.46361618,  0.55570055,  0.64778491,  0.73986928,  0.83195365,\n",
        "         0.92403802]),\n",
        " <a list of 10 Patch objects>)"
       ]
      },
      {
       "metadata": {},
       "output_type": "display_data",
       "png": "[encoded data removed]",
       "text": [
        "<matplotlib.figure.Figure at 0x7f45c470d290>"
       ]
      }
     ],
     "prompt_number": 365
    },
    {
     "cell_type": "code",
     "collapsed": false,
     "input": [
      "zcoefs = stats.zscore(coefs, axis = 0)\n",
      "plt.hist(zcoefs)\n",
      "print np.mean(zcoefs, axis = 0)\n",
      "\n",
      "#coefs.sort()\n",
      "#print(coefs[50], coefs[950])"
     ],
     "language": "python",
     "metadata": {},
     "outputs": [
      {
       "output_type": "stream",
       "stream": "stdout",
       "text": [
        "1.20270460258e-15\n"
       ]
      },
      {
       "metadata": {},
       "output_type": "display_data",
       "png": "[encoded data removed]",
       "text": [
        "<matplotlib.figure.Figure at 0x7f45bcab8350>"
       ]
      }
     ],
     "prompt_number": 368
    },
    {
     "cell_type": "code",
     "collapsed": false,
     "input": [
      "from __future__ import division\n",
      "import os\n",
      "import numpy as np\n",
      "import cPickle as pickle\n",
      "import sys\n",
      "import pandas as pd\n",
      "from sklearn import cross_validation, grid_search\n",
      "from sklearn.linear_model import Ridge\n",
      "from sklearn.preprocessing import scale\n",
      "from collections import Counter\n",
      "from scipy import stats\n",
      "import matplotlib.pyplot as plt"
     ],
     "language": "python",
     "metadata": {},
     "outputs": [],
     "prompt_number": 396
    },
    {
     "cell_type": "code",
     "collapsed": false,
     "input": [
      "features = ['maxes_rel','medians','stds','lats_pro']\n",
      "predictor = 'RTs'\n",
      "subj ='GP15'\n",
      "task = 'EmoGen'\n",
      "\n",
      "data_dict = dict()\n",
      "for j, f in enumerate(features):\n",
      "    filename = os.path.join(SJdir, 'PCA', 'Stats', 'outliers', '_'.join([subj, task, f]) + '.csv') #run on cleaned trials (outliers dropped)\n",
      "    df = pd.read_csv(filename)\n",
      "    df.columns = [int(x) for x in df.columns]\n",
      "    data_dict[f] = dict(df)"
     ],
     "language": "python",
     "metadata": {},
     "outputs": [],
     "prompt_number": 390
    },
    {
     "cell_type": "code",
     "collapsed": false,
     "input": [
      "filename = os.path.join(SJdir, 'PCA', 'Stats', 'outliers', '_'.join([subj, task, predictor]) + '.csv')\n",
      "df = pd.read_csv(filename)\n",
      "df.columns = [int(x) for x in df.columns]\n",
      "data_dict[predictor] = dict(df)    \n",
      "\n",
      "all_alphas, all_models, all_scores, all_coefs, all_scores_null, all_pval, all_zcoefs = [[] for i in range(7)]\n",
      "elecs = data_dict['medians'].keys()"
     ],
     "language": "python",
     "metadata": {},
     "outputs": [],
     "prompt_number": 393
    },
    {
     "cell_type": "code",
     "collapsed": false,
     "input": [
      "elec = 5 \n",
      "\n",
      "#define data\n",
      "X = np.array([data_dict[x][elec] for x in features]).T\n",
      "Y = data_dict[predictor][elec]\n",
      "\n",
      "#drop nans from data\n",
      "mask = np.all(np.isnan(X), axis = 1)\n",
      "X = X[~mask]\n",
      "mask = np.isnan(Y)\n",
      "Y = Y[~mask]        \n",
      "\n",
      "#split data into training and test sets for the number of CV folds\n",
      "cvs = cross_validation.ShuffleSplit(len(Y), n_iter = 100, test_size = 0.2)\n",
      "\n",
      "alphas, models, scores, coefs, scores_null = [[] for i in range(5)]"
     ],
     "language": "python",
     "metadata": {},
     "outputs": [],
     "prompt_number": 416
    },
    {
     "cell_type": "code",
     "collapsed": false,
     "input": [
      "for train, test in cvs:\n",
      "    #scale training and test data\n",
      "    X_train = scale(X[train].astype(float))\n",
      "    X_test = scale(X[test].astype(float))\n",
      "    y_train = scale(Y[train].astype(float))\n",
      "    y_test = scale(Y[test].astype(float))\n",
      "\n",
      "    #define model (search over 10 alphas)\n",
      "    model = Ridge(solver = 'lsqr', normalize=False, fit_intercept=False)\n",
      "    params_grid = {'alpha': np.logspace(-4, 4, 10)}\n",
      "    ridge_grid = grid_search.GridSearchCV(model, params_grid, cv = 10)\n",
      "\n",
      "    #fit and find best model\n",
      "    ridge_grid.fit(X_train, y_train)\n",
      "    mod = ridge_grid.best_estimator_\n",
      "    score = np.corrcoef(mod.predict(X_test), y_test)[1,0]\n",
      "    coef = mod.coef_\n",
      "    a = mod.alpha\n",
      "\n",
      "    #calculate permuted score\n",
      "    idx = np.random.permutation(len(y_test))\n",
      "    null_score = np.corrcoef(mod.predict(X_test), y_test[idx])[1,0] #predict on shuffled test set\n",
      "\n",
      "    #add to list\n",
      "    alphas.append(a)\n",
      "    models.append(mod)\n",
      "    scores.append(score)\n",
      "    coefs.append(coef)\n",
      "    scores_null.append(null_score)"
     ],
     "language": "python",
     "metadata": {},
     "outputs": [],
     "prompt_number": 417
    },
    {
     "cell_type": "code",
     "collapsed": false,
     "input": [
      "if np.median(scores)>0:\n",
      "    pval = 1 - (sum(np.median(scores) > scores_null)/ len(scores_null))\n",
      "elif np.median(scores)<0:\n",
      "    pval = 1 - (sum(np.median(scores) < scores_null) / len(scores_null))\n",
      "else:\n",
      "    pval = 1"
     ],
     "language": "python",
     "metadata": {},
     "outputs": [],
     "prompt_number": 421
    },
    {
     "cell_type": "code",
     "collapsed": false,
     "input": [
      "plt.hist(scores_null)\n",
      "plt.hist(scores)"
     ],
     "language": "python",
     "metadata": {},
     "outputs": [
      {
       "metadata": {},
       "output_type": "pyout",
       "prompt_number": 435,
       "text": [
        "(array([  3.,   3.,   2.,   7.,  12.,  17.,  22.,  19.,   9.,   6.]),\n",
        " array([-0.120768  , -0.03385985,  0.05304831,  0.13995647,  0.22686463,\n",
        "         0.31377279,  0.40068095,  0.48758911,  0.57449726,  0.66140542,\n",
        "         0.74831358]),\n",
        " <a list of 10 Patch objects>)"
       ]
      },
      {
       "metadata": {},
       "output_type": "display_data",
       "png": "[encoded data removed]",
       "text": [
        "<matplotlib.figure.Figure at 0x7f45bc0e3950>"
       ]
      }
     ],
     "prompt_number": 435
    },
    {
     "cell_type": "code",
     "collapsed": false,
     "input": [
      "#zscore coefficients, take mean\n",
      "zcoefs = stats.zscore(coefs, axis = 0)"
     ],
     "language": "python",
     "metadata": {},
     "outputs": [],
     "prompt_number": 466
    },
    {
     "cell_type": "code",
     "collapsed": false,
     "input": [
      "stats.zscore(np.array(coefs)[:,0], axis = 0) == zcoefs[:,0]"
     ],
     "language": "python",
     "metadata": {},
     "outputs": [
      {
       "metadata": {},
       "output_type": "pyout",
       "prompt_number": 479,
       "text": [
        "array([ True,  True,  True,  True,  True,  True,  True,  True,  True,\n",
        "        True,  True,  True,  True,  True,  True,  True,  True,  True,\n",
        "        True,  True,  True,  True,  True,  True,  True,  True,  True,\n",
        "        True,  True,  True,  True,  True,  True,  True,  True,  True,\n",
        "        True,  True,  True,  True,  True,  True,  True,  True,  True,\n",
        "        True,  True,  True,  True,  True,  True,  True,  True,  True,\n",
        "        True,  True,  True,  True,  True,  True,  True,  True,  True,\n",
        "        True,  True,  True,  True,  True,  True,  True,  True,  True,\n",
        "        True,  True,  True,  True,  True,  True,  True,  True,  True,\n",
        "        True,  True,  True,  True,  True,  True,  True,  True,  True,\n",
        "        True,  True,  True,  True,  True,  True,  True,  True,  True,  True], dtype=bool)"
       ]
      }
     ],
     "prompt_number": 479
    },
    {
     "cell_type": "code",
     "collapsed": false,
     "input": [
      "plt.hist(np.array(coefs)[:,0])\n",
      "print np.array(coefs)[:,0].mean()"
     ],
     "language": "python",
     "metadata": {},
     "outputs": [
      {
       "output_type": "stream",
       "stream": "stdout",
       "text": [
        "0.63402771653\n"
       ]
      },
      {
       "metadata": {},
       "output_type": "display_data",
       "png": "[encoded data removed]",
       "text": [
        "<matplotlib.figure.Figure at 0x7f45bc3c20d0>"
       ]
      }
     ],
     "prompt_number": 492
    },
    {
     "cell_type": "code",
     "collapsed": false,
     "input": [
      "plt.hist(zcoefs[:,0])\n",
      "print mean(zcoefs,axis = 0)\n",
      "print mean(coefs, axis = 0)"
     ],
     "language": "python",
     "metadata": {},
     "outputs": [
      {
       "output_type": "stream",
       "stream": "stdout",
       "text": [
        "[ -5.47339951e-16   2.46469511e-16  -2.64788191e-16  -1.95399252e-16]\n",
        "[ 0.63402772 -0.0689188  -0.38848014 -0.04102806]\n"
       ]
      },
      {
       "metadata": {},
       "output_type": "display_data",
       "png": "[encoded data removed]",
       "text": [
        "<matplotlib.figure.Figure at 0x7f45b7d6e810>"
       ]
      }
     ],
     "prompt_number": 488
    },
    {
     "cell_type": "code",
     "collapsed": false,
     "input": [
      "all_alphas.append(alphas)\n",
      "all_models.append(models)\n",
      "all_scores.append(scores)\n",
      "all_coefs.append(coefs)\n",
      "all_scores_null.append(scores_null)\n",
      "all_pval.append(pval)\n",
      "all_zcoefs.append(zcoefs)"
     ],
     "language": "python",
     "metadata": {},
     "outputs": [
      {
       "metadata": {},
       "output_type": "pyout",
       "prompt_number": 354,
       "text": [
        "([array([ 0.,  0.,  0.,  2.,  9.,  1.,  5.,  7.,  4.,  1.]),\n",
        "  array([  0.,   0.,   0.,  15.,  14.,   0.,   0.,   0.,   0.,   0.]),\n",
        "  array([  5.,   5.,   4.,   4.,  11.,   0.,   0.,   0.,   0.,   0.]),\n",
        "  array([  0.,   0.,   0.,   2.,  20.,   7.,   0.,   0.,   0.,   0.])],\n",
        " array([-0.73114042, -0.56123113, -0.39132185, -0.22141256, -0.05150328,\n",
        "         0.11840601,  0.2883153 ,  0.45822458,  0.62813387,  0.79804316,\n",
        "         0.96795244]),\n",
        " <a list of 4 Lists of Patches objects>)"
       ]
      },
      {
       "metadata": {},
       "output_type": "display_data",
       "png": "[encoded data removed]",
       "text": [
        "<matplotlib.figure.Figure at 0x7f45bdd07690>"
       ]
      }
     ],
     "prompt_number": 354
    },
    {
     "cell_type": "code",
     "collapsed": false,
     "input": [],
     "language": "python",
     "metadata": {},
     "outputs": []
    },
    {
     "cell_type": "code",
     "collapsed": false,
     "input": [],
     "language": "python",
     "metadata": {},
     "outputs": []
    },
    {
     "cell_type": "code",
     "collapsed": false,
     "input": [
      "df = pd.read_csv(os.path.join(SJdir, 'PCA','Stats','Regression','all_coefs_withpatterns_withROIs.csv'))\n",
      "filename = os.path.join(SJdir, 'Subjs', 'subj_task.csv')\n",
      "df.drop_duplicates(['subj','task']).sort('subj')[['subj','task']].to_csv(filename)"
     ],
     "language": "python",
     "metadata": {},
     "outputs": [],
     "prompt_number": 335
    }
   ],
   "metadata": {}
  }
 ]
}