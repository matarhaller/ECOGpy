{
 "metadata": {
  "name": ""
 },
 "nbformat": 3,
 "nbformat_minor": 0,
 "worksheets": [
  {
   "cells": [
    {
     "cell_type": "code",
     "collapsed": false,
     "input": [
      "import os\n",
      "import scipy.io as spio\n",
      "import numpy as np\n",
      "from sklearn import svm\n",
      "from sklearn import preprocessing\n",
      "import matplotlib.pyplot as plt"
     ],
     "language": "python",
     "metadata": {},
     "outputs": [],
     "prompt_number": 319
    },
    {
     "cell_type": "code",
     "collapsed": false,
     "input": [
      "DATADIR = '/Users/matar/Desktop/'\n",
      "datafile = os.path.join(DATADIR, 'GP15_EmoGen_TrainingGrouping.mat')\n",
      "data = spio.loadmat(datafile, struct_as_record = True)"
     ],
     "language": "python",
     "metadata": {},
     "outputs": [],
     "prompt_number": 348
    },
    {
     "cell_type": "code",
     "collapsed": false,
     "input": [
      "labels = data.pop('Grouping').squeeze()\n",
      "features = data.pop('Training')\n",
      "frequency_indices = data.pop('frequency_indices')\n",
      "\n",
      "power_spectrum = features[np.logical_and(labels,1),:]"
     ],
     "language": "python",
     "metadata": {},
     "outputs": [],
     "prompt_number": 349
    },
    {
     "cell_type": "code",
     "collapsed": false,
     "input": [
      "#unit standard deviation\n",
      "#features = preprocessing.scale(features)"
     ],
     "language": "python",
     "metadata": {},
     "outputs": [],
     "prompt_number": 340
    },
    {
     "cell_type": "code",
     "collapsed": false,
     "input": [
      "features.mean(axis =0) #zero mean\n",
      "features.std(axis=0) #unit std"
     ],
     "language": "python",
     "metadata": {},
     "outputs": [
      {
       "metadata": {},
       "output_type": "pyout",
       "prompt_number": 350,
       "text": [
        "array([ 1.40123554,  1.40122162,  1.39710617, ...,  0.69675552,\n",
        "        0.6966255 ,  0.69679137])"
       ]
      }
     ],
     "prompt_number": 350
    },
    {
     "cell_type": "code",
     "collapsed": false,
     "input": [
      "fcut = 40\n",
      "cutidx = np.argmin(np.abs(frequency_indices - fcut))"
     ],
     "language": "python",
     "metadata": {},
     "outputs": [],
     "prompt_number": 351
    },
    {
     "cell_type": "code",
     "collapsed": false,
     "input": [
      "plt.plot(frequency_indices.squeeze()[5:cutidx], power_spectrum.mean(0)[5:cutidx])"
     ],
     "language": "python",
     "metadata": {},
     "outputs": [
      {
       "metadata": {},
       "output_type": "pyout",
       "prompt_number": 352,
       "text": [
        "[<matplotlib.lines.Line2D at 0x11ecf0950>]"
       ]
      },
      {
       "metadata": {},
       "output_type": "display_data",
       "png": "[encoded data removed]",
       "text": [
        "<matplotlib.figure.Figure at 0x1219882d0>"
       ]
      }
     ],
     "prompt_number": 352
    },
    {
     "cell_type": "code",
     "collapsed": false,
     "input": [
      "plot(frequency_indices.squeeze()[5:cutidx],features[np.logical_and(labels,1),:].mean(0)[5:cutidx])\n",
      "plot(frequency_indices.squeeze()[5:cutidx],features[np.logical_xor(labels,1),:].mean(0)[5:cutidx])\n",
      "features[np.logical_and(labels,1),:].mean(0)[5:cutidx].shape\n",
      "#frequency_indices.squeeze()[0:cutidx],features[np.logical_and(labels,1),:].mean(0).shape"
     ],
     "language": "python",
     "metadata": {},
     "outputs": [
      {
       "metadata": {},
       "output_type": "pyout",
       "prompt_number": 359,
       "text": [
        "(155,)"
       ]
      },
      {
       "metadata": {},
       "output_type": "display_data",
       "png": "[encoded data removed]",
       "text": [
        "<matplotlib.figure.Figure at 0x121a60490>"
       ]
      }
     ],
     "prompt_number": 359
    },
    {
     "cell_type": "code",
     "collapsed": false,
     "input": [
      "svc = svm.SVC(kernel= 'linear')\n",
      "svc.fit(features[:,5:cutidx],labels) #only up to 40Hz"
     ],
     "language": "python",
     "metadata": {},
     "outputs": [
      {
       "metadata": {},
       "output_type": "pyout",
       "prompt_number": 361,
       "text": [
        "SVC(C=1.0, cache_size=200, class_weight=None, coef0=0.0, degree=3, gamma=0.0,\n",
        "  kernel='linear', max_iter=-1, probability=False, random_state=None,\n",
        "  shrinking=True, tol=0.001, verbose=False)"
       ]
      }
     ],
     "prompt_number": 361
    },
    {
     "cell_type": "code",
     "collapsed": false,
     "input": [
      "weights = abs(svc.coef_.squeeze())\n",
      "weights.shape"
     ],
     "language": "python",
     "metadata": {},
     "outputs": [
      {
       "metadata": {},
       "output_type": "pyout",
       "prompt_number": 372,
       "text": [
        "(155,)"
       ]
      }
     ],
     "prompt_number": 372
    },
    {
     "cell_type": "code",
     "collapsed": false,
     "input": [
      "plt.plot(frequency_indices.squeeze()[5:cutidx],weights)"
     ],
     "language": "python",
     "metadata": {},
     "outputs": [
      {
       "metadata": {},
       "output_type": "pyout",
       "prompt_number": 374,
       "text": [
        "[<matplotlib.lines.Line2D at 0x121ce8990>]"
       ]
      },
      {
       "metadata": {},
       "output_type": "display_data",
       "png": "[encoded data removed]",
       "text": [
        "<matplotlib.figure.Figure at 0x121bb7550>"
       ]
      }
     ],
     "prompt_number": 374
    },
    {
     "cell_type": "code",
     "collapsed": false,
     "input": [
      "sorted_idx =(-np.array(weights)).argsort() #sort absolute value of weights in descending order"
     ],
     "language": "python",
     "metadata": {},
     "outputs": [],
     "prompt_number": 383
    },
    {
     "cell_type": "code",
     "collapsed": false,
     "input": [
      "imp_idx = sorted_idx[0:len(weights)*.25]\n",
      "frequency_indices.squeeze()[imp_idx]"
     ],
     "language": "python",
     "metadata": {},
     "outputs": [
      {
       "metadata": {},
       "output_type": "pyout",
       "prompt_number": 386,
       "text": [
        "array([  2.00000655,   1.75000573,   5.00001638,   2.25000737,\n",
        "         2.50000819,   6.75002212,  20.25006636,   1.50000492,\n",
        "         7.50002458,  20.00006554,   7.00002294,   4.75001556,\n",
        "        20.50006717,  23.500077  ,   7.25002376,  19.75006472,\n",
        "        23.00007537,   7.7500254 ,   8.00002621,  23.75007782,\n",
        "         5.50001802,   5.75001884,  23.25007619,   4.50001475,\n",
        "         6.5000213 ,   1.2500041 ,   4.25001393,  25.00008192,\n",
        "        22.75007455,   6.25002048,   4.00001311,  19.5000639 ,\n",
        "         3.00000983,  26.25008602,   2.75000901,  35.75011715,\n",
        "         6.00001966,  21.00006881])"
       ]
      }
     ],
     "prompt_number": 386
    },
    {
     "cell_type": "code",
     "collapsed": false,
     "input": [
      " from sklearn.datasets import make_friedman1\n",
      "from sklearn.feature_selection import RFECV\n",
      "from sklearn.svm import SVR\n"
     ],
     "language": "python",
     "metadata": {},
     "outputs": [],
     "prompt_number": 150
    },
    {
     "cell_type": "code",
     "collapsed": false,
     "input": [
      "X, y = make_friedman1(n_samples=50, n_features=10, random_state=0)\n",
      "y.shape"
     ],
     "language": "python",
     "metadata": {},
     "outputs": [
      {
       "metadata": {},
       "output_type": "pyout",
       "prompt_number": 155,
       "text": [
        "(50,)"
       ]
      }
     ],
     "prompt_number": 155
    },
    {
     "cell_type": "code",
     "collapsed": false,
     "input": [
      "estimator = SVR(kernel=\"linear\")\n",
      "selector = RFECV(estimator, step=1, cv=5)\n",
      "selector = selector.fit(X, y)\n",
      "selector.support_ \n",
      "\n",
      "selector.ranking_\n"
     ],
     "language": "python",
     "metadata": {},
     "outputs": []
    }
   ],
   "metadata": {}
  }
 ]
}