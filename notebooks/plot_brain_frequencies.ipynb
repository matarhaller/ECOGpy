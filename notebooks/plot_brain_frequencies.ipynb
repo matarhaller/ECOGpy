{
 "cells": [
  {
   "cell_type": "code",
   "execution_count": null,
   "metadata": {
    "collapsed": false
   },
   "outputs": [],
   "source": [
    "%reset"
   ]
  },
  {
   "cell_type": "code",
   "execution_count": 1,
   "metadata": {
    "collapsed": false
   },
   "outputs": [
    {
     "name": "stdout",
     "output_type": "stream",
     "text": [
      "Populating the interactive namespace from numpy and matplotlib\n"
     ]
    }
   ],
   "source": [
    "%pylab inline"
   ]
  },
  {
   "cell_type": "code",
   "execution_count": null,
   "metadata": {
    "collapsed": false
   },
   "outputs": [],
   "source": [
    "# import colormaps as cmaps\n",
    "# plt.register_cmap(name='viridis', cmap=cmaps.viridis)\n",
    "# plt.set_cmap(cmaps.viridis)"
   ]
  },
  {
   "cell_type": "code",
   "execution_count": 54,
   "metadata": {
    "collapsed": true
   },
   "outputs": [],
   "source": [
    "import brain_clusters\n",
    "import os\n",
    "import pandas as pd\n",
    "import numpy as np\n",
    "import pandas as pd\n",
    "import scipy.io as spio\n",
    "\n",
    "import cPickle as pickle\n",
    "import scipy.stats as stats\n",
    "import matplotlib.pyplot as plt\n",
    "import statsmodels.api as sm\n",
    "import statsmodels.formula.api as smf\n",
    "from statsmodels.stats.multicomp import MultiComparison\n",
    "import glob\n",
    "\n",
    "from scipy import stats\n",
    "from fdr_correct import fdr2\n",
    "import seaborn as sns"
   ]
  },
  {
   "cell_type": "code",
   "execution_count": null,
   "metadata": {
    "collapsed": true
   },
   "outputs": [],
   "source": [
    "sns.set(style='white',context ='paper')\n"
   ]
  },
  {
   "cell_type": "code",
   "execution_count": 55,
   "metadata": {
    "collapsed": true
   },
   "outputs": [],
   "source": [
    "def get_ROI(subj, e, brain_ROI):\n",
    "    \"\"\"\n",
    "    given a subj, elec and brain_ROI dictionary will return the ROI associated with the electrode\n",
    "    \"\"\"\n",
    "    try:\n",
    "        rois = brain_ROI[subj]\n",
    "    except:\n",
    "        return None\n",
    "    else:\n",
    "        for roi, elecs in rois.iteritems():\n",
    "            if np.in1d(e, elecs):\n",
    "                return roi"
   ]
  },
  {
   "cell_type": "code",
   "execution_count": 58,
   "metadata": {
    "collapsed": false
   },
   "outputs": [],
   "source": [
    "from loadmat import loadmat\n",
    "#datafile = os.path.join('/Users/matar/Documents/PYTHON/brain_ROI.mat')\n",
    "datafile = '/home/knight/matar/MATLAB/DATA/Avgusta/ROIs/brain_ROI.mat'\n",
    "data = loadmat(datafile)\n",
    "brain_ROI = data['brain_ROI']"
   ]
  },
  {
   "cell_type": "code",
   "execution_count": 59,
   "metadata": {
    "collapsed": false
   },
   "outputs": [],
   "source": [
    "#reconlist = os.path.join('/Users/matar/Documents/PYTHON/reconlist.csv')\n",
    "reconlist = '/home/knight/matar/MATLAB/DATA/Avgusta/PCA/reconlist.csv'\n",
    "reconlist = pd.read_csv(reconlist)"
   ]
  },
  {
   "cell_type": "markdown",
   "metadata": {},
   "source": [
    "# anova, hsd in loop"
   ]
  },
  {
   "cell_type": "markdown",
   "metadata": {},
   "source": [
    "## per each dataset"
   ]
  },
  {
   "cell_type": "code",
   "execution_count": 261,
   "metadata": {
    "collapsed": false,
    "scrolled": true
   },
   "outputs": [
    {
     "name": "stdout",
     "output_type": "stream",
     "text": [
      "skipping JH10 EmoRep - not enough elecs for ANOVA\n",
      "skipping JH10 SelfAud - not enough elecs for ANOVA\n",
      "skipping HSD plot JH17 EmoRep\n",
      "skipping HSD plot JH17 SelfAud\n",
      "skipping JH17 SelfVis - not enough elecs for ANOVA\n",
      "skipping HSD plot JH2 FaceEmo\n",
      "skipping HSD plot JH6 FaceEmo\n",
      "skipping ST1 EmoRep - not enough elecs for ANOVA\n",
      "skipping ST1 SelfAud - not enough elecs for ANOVA\n",
      "skipping ST6 SelfAud - not enough elecs for ANOVA\n",
      "skipping ST6 SelfVis - not enough elecs for ANOVA\n"
     ]
    },
    {
     "data": {
      "image/png": "[encoded data removed]",
      "text/plain": [
       "<matplotlib.figure.Figure at 0x156e69250>"
      ]
     },
     "metadata": {},
     "output_type": "display_data"
    },
    {
     "data": {
      "image/png": "[encoded data removed]",
      "text/plain": [
       "<matplotlib.figure.Figure at 0x158ccf310>"
      ]
     },
     "metadata": {},
     "output_type": "display_data"
    },
    {
     "data": {
      "image/png": "[encoded data removed]",
      "text/plain": [
       "<matplotlib.figure.Figure at 0x161039250>"
      ]
     },
     "metadata": {},
     "output_type": "display_data"
    },
    {
     "data": {
      "image/png": "[encoded data removed]",
      "text/plain": [
       "<matplotlib.figure.Figure at 0x10cc2ed10>"
      ]
     },
     "metadata": {},
     "output_type": "display_data"
    }
   ],
   "source": [
    "subj_task_list = reconlist.subj_task.apply(lambda x: x.split('_')).values\n",
    "f1, f2 = (6, 12)\n",
    "vmin, vmax = (-3, 3)\n",
    "\n",
    "for i in subj_task_list:\n",
    "    subj, task = i\n",
    "    filename = '/Users/matar/Google Drive UCB/SpectralFitting/ECOG (1)/ECOG_rebinned/{0}_{1}/params_binned.csv'.format(subj, task)\n",
    "    if not(os.path.isfile(filename)):\n",
    "        filename = '/Users/matar/Google Drive UCB/SpectralFitting/ECOG (1)/ECOG_rebinned/{0}_{1}/params.csv'.format(subj, task)\n",
    "        if not(os.path.isfile(filename)):\n",
    "            continue\n",
    "    df_all = pd.read_csv(filename)\n",
    "\n",
    "    #filter frequencies\n",
    "    df_freq = df_all[(df_all.CF>f1) & (df_all.CF<f2)].groupby('Elec').mean().CF\n",
    "\n",
    "    #add ROI\n",
    "    if (subj == 'GP35'):\n",
    "        if 'Face' in task:\n",
    "            roi = df_freq.reset_index().apply(lambda row: get_ROI('GP35_face', row.Elec, brain_ROI), axis = 1)\n",
    "        else:\n",
    "            roi = df_freq.reset_index().apply(lambda row: get_ROI('GP35_words', row.Elec, brain_ROI), axis = 1)\n",
    "    else:\n",
    "        roi = df_freq.reset_index().apply(lambda row: get_ROI(subj, row.Elec, brain_ROI), axis = 1)\n",
    "    roi.name = 'ROI'\n",
    "    df_freq = df_freq.reset_index().join(roi)\n",
    "\n",
    "    #filter ROIs\n",
    "    f = {'Elec':['count'], 'CF':['mean','sem']}\n",
    "    df_summ = df_freq.groupby('ROI').agg(f)\n",
    "    #ROIs = (df_summ.Elec>5).index.tolist()\n",
    "    ROIs = df_summ[(df_summ.Elec>5)['count']].index.tolist() #drop those with <5 elecs\n",
    "\n",
    "    ROIs_of_interest = ['ATL','MTG', 'MFG', 'Broca', 'Pre_centrl', 'Post_centrl', 'STG', 'R_ATL','R_MTG', 'R_MFG', 'R_Broca', 'R_Pre_centrl', 'R_Post_centrl', 'R_STG']\n",
    "    ROIs = np.intersect1d(ROIs, ROIs_of_interest)\n",
    "    dfROI = df_freq[df_freq.ROI.isin(ROIs)]\n",
    "    if len(dfROI) == 0: #not enough elecs in any ROI\n",
    "        continue\n",
    "\n",
    "    #ANOVA\n",
    "    try:\n",
    "        dfROI_lm= smf.ols('CF ~ ROI', data=dfROI).fit() #Specify C for Categorical\n",
    "        df = pd.DataFrame(sm.stats.anova_lm(dfROI_lm, typ=2))\n",
    "    except:\n",
    "        print 'skipping {0} {1} - not enough elecs for ANOVA'.format(subj, task)\n",
    "        continue\n",
    "\n",
    "    filename = '/Users/matar/Google Drive UCB/SpectralFitting/Figures/{0}_{1}_{2}-{3}Hz_ROIanova.csv'.format(subj, task, f1, f2)\n",
    "    df.to_csv(filename)\n",
    "        \n",
    "    #plot\n",
    "    #zscore cfs\n",
    "    weights = df_freq[['Elec','CF']].set_index('Elec').CF\n",
    "    weights.name = 'group'\n",
    "    zweights = weights.apply(lambda x: (x-weights.mean())/weights.std())\n",
    "    \n",
    "    #xycoords\n",
    "    xycoords = reconlist[reconlist.subj_task == '_'.join([subj, task])].xyfile.iloc[0]\n",
    "    if isinstance(xycoords, float): #no explicit xycoord path\n",
    "        xycoords = 'xycoords.p'\n",
    "    xyfilepath = '/Users/matar/Documents/PYTHON/Subjs/{0}/{1}'.format(subj, xycoords)\n",
    "    with open(xyfilepath, 'r') as f:\n",
    "        xycoords = pickle.load(f)\n",
    "        f.close()\n",
    "    xycoords = pd.DataFrame(np.array(xycoords.values()), columns=['x_2d', 'y_2d'], index=np.array(xycoords.keys())+1)\n",
    "        \n",
    "    #recon\n",
    "    reconfile = reconlist[reconlist.subj_task == '_'.join([subj, task])].reconfile.iloc[0]\n",
    "    recon_filepath = '/Users/matar/Documents/PYTHON/Subjs/{0}/{1}'.format(subj, reconfile)\n",
    "    \n",
    "    #plot\n",
    "    f, ax1 = plt.subplots(figsize = (10,10))\n",
    "    brain_clusters.plot_xy_map(zweights, locs = xycoords.loc[zweights.index], ax = ax1, szmult=200,\n",
    "                               im_path = recon_filepath, cbar = True, cmap=plt.get_cmap('bwr'),\n",
    "                               vaxes = [vmin, vmax])\n",
    "    \n",
    "    ax1.set_title('{0} {1} - zscored {2}-{3}Hz (mean peak {4:.2f}Hz)'.format(subj, task, f1, f2, weights.mean()))\n",
    "\n",
    "    filename = '/Users/matar/Google Drive UCB/SpectralFitting/Figures/{0}_{1}_zscored_{2}-{3}Hz.png'.format(subj, task, f1, f2)\n",
    "    plt.savefig(filename)\n",
    "    plt.close()\n",
    "    \n",
    "    #Tukey HSD + plot\n",
    "    data = MultiComparison(dfROI.CF, dfROI.ROI)\n",
    "    results = data.tukeyhsd(alpha=0.05)\n",
    "    \n",
    "    try:\n",
    "        results.plot_simultaneous()\n",
    "    except:\n",
    "        print 'skipping HSD plot {0} {1}'.format(subj, task)\n",
    "        continue\n",
    "        \n",
    "    filename = '/Users/matar/Google Drive UCB/SpectralFitting/Figures/{0}_{1}_{2}-{3}Hz_ROI_HSD.png'.format(subj, task, f1, f2)\n",
    "    plt.savefig(filename)\n",
    "    plt.close()\n",
    "\n",
    "    filename = '/Users/matar/Google Drive UCB/SpectralFitting/Figures/{0}_{1}_{2}-{3}Hz_ROI_HSD.csv'.format(subj, task, f1, f2)\n",
    "    resultsdf = pd.DataFrame(results.summary().data[1:], columns = results.summary().data[0])\n",
    "    resultsdf.to_csv(filename, index = False)\n"
   ]
  },
  {
   "cell_type": "markdown",
   "metadata": {},
   "source": [
    "### group PFC elecs and temporal elecs \n",
    "#### mann whitney u test"
   ]
  },
  {
   "cell_type": "code",
   "execution_count": 342,
   "metadata": {
    "collapsed": false
   },
   "outputs": [
    {
     "name": "stdout",
     "output_type": "stream",
     "text": [
      "0.028149072868\n"
     ]
    }
   ],
   "source": [
    "subj_task_list = reconlist.subj_task.apply(lambda x: x.split('_')).values\n",
    "f1, f2 = (6, 12)\n",
    "vmin, vmax = (-3, 3)\n",
    "\n",
    "temporal = ['ATL', 'STG',  'MTG', 'R_ATL', 'R_STG', 'R_MTG']\n",
    "PFC = ['Broca', 'MFG', 'SFG', 'OFC', 'R_Broca', 'R_MFG', 'R_SFG', 'R_OFC']\n",
    "\n",
    "dfU = pd.DataFrame()\n",
    "\n",
    "for i in subj_task_list:\n",
    "    subj, task = i\n",
    "    filename = '/Users/matar/Google Drive UCB/SpectralFitting/ECOG (1)/ECOG_rebinned/{0}_{1}/params_binned.csv'.format(subj, task)\n",
    "    if not(os.path.isfile(filename)):\n",
    "        filename = '/Users/matar/Google Drive UCB/SpectralFitting/ECOG (1)/ECOG_rebinned/{0}_{1}/params.csv'.format(subj, task)\n",
    "        if not(os.path.isfile(filename)):\n",
    "            continue\n",
    "    df_all = pd.read_csv(filename)\n",
    "\n",
    "    #filter frequencies\n",
    "    df_freq = df_all[(df_all.CF>f1) & (df_all.CF<f2)].groupby('Elec').mean().CF\n",
    "\n",
    "    #add ROI\n",
    "    if (subj == 'GP35'):\n",
    "        if 'Face' in task:\n",
    "            roi = df_freq.reset_index().apply(lambda row: get_ROI('GP35_face', row.Elec, brain_ROI), axis = 1)\n",
    "        else:\n",
    "            roi = df_freq.reset_index().apply(lambda row: get_ROI('GP35_words', row.Elec, brain_ROI), axis = 1)\n",
    "    else:\n",
    "        roi = df_freq.reset_index().apply(lambda row: get_ROI(subj, row.Elec, brain_ROI), axis = 1)\n",
    "    roi.name = 'ROI'\n",
    "    df_freq = df_freq.reset_index().join(roi)\n",
    "\n",
    "    #filter ROIs\n",
    "    if subj == 'JH2':\n",
    "        df_freq = df_freq[df_freq.ROI != 'ATL'] #drop ATL from JH2 (epileptic)\n",
    "\n",
    "    df_freq.ROI = df_freq.ROI.apply(lambda x: 'temporal' if x in temporal else x)\n",
    "    df_freq.ROI = df_freq.ROI.apply(lambda x: 'PFC' if x in PFC else x)\n",
    "    df_freq = df_freq[df_freq.ROI.isin(['PFC','temporal'])]\n",
    "\n",
    "    f = {'Elec':['count'], 'CF':['mean','sem']}\n",
    "    df_summ = df_freq.groupby('ROI').agg(f)\n",
    "    ROIs = (df_summ.Elec>5).index.tolist()\n",
    "\n",
    "    dfROI = df_freq[df_freq.ROI.isin(ROIs)]\n",
    "    \n",
    "    if len(ROIs)<2: #not enough in either PFC or temporal (need both)\n",
    "        continue\n",
    "    \n",
    "    #Mann Whitney U\n",
    "    U, p = stats.mannwhitneyu(dfROI[dfROI.ROI == 'PFC'].CF.values, dfROI[dfROI.ROI=='temporal'].CF.values)\n",
    "    dfU = dfU.append(pd.DataFrame({'subj': subj, 'task': task, 'U':U, 'p': p}, index = range(1)))\n",
    "\n",
    "dfU = dfU[['subj','task','U','p']]\n",
    "\n",
    "q = fdr2(dfU.p)\n",
    "print q\n",
    "dfU['fdr'] = dfU.apply(lambda x: True if x.p<q else False, axis = 1)\n",
    "\n",
    "filename = '/Users/matar/Google Drive UCB/SpectralFitting/Figures/PFC_vs_temporal/allsubjs_{0}-{1}Hz_PFC_vs_temporal_Utest_noJH2ATL.csv'.format(f1, f2)\n",
    "dfU.to_csv(filename, index = False)"
   ]
  },
  {
   "cell_type": "markdown",
   "metadata": {},
   "source": [
    "## table with mean CF for temporal lobe vs. PFC\n",
    "* looks like temporal > frontal is true for most subjects (except JH2)\n",
    "* temporal (ATL, STG, and MTG) and PFC ​(Broca and MFG, SFG, OFC)"
   ]
  },
  {
   "cell_type": "code",
   "execution_count": 210,
   "metadata": {
    "collapsed": false
   },
   "outputs": [
    {
     "name": "stderr",
     "output_type": "stream",
     "text": [
      "/Users/matar/anaconda/lib/python2.7/site-packages/ipykernel/__main__.py:37: SettingWithCopyWarning: \n",
      "A value is trying to be set on a copy of a slice from a DataFrame.\n",
      "Try using .loc[row_indexer,col_indexer] = value instead\n",
      "\n",
      "See the caveats in the documentation: http://pandas.pydata.org/pandas-docs/stable/indexing.html#indexing-view-versus-copy\n",
      "/Users/matar/anaconda/lib/python2.7/site-packages/ipykernel/__main__.py:38: SettingWithCopyWarning: \n",
      "A value is trying to be set on a copy of a slice from a DataFrame.\n",
      "Try using .loc[row_indexer,col_indexer] = value instead\n",
      "\n",
      "See the caveats in the documentation: http://pandas.pydata.org/pandas-docs/stable/indexing.html#indexing-view-versus-copy\n"
     ]
    }
   ],
   "source": [
    "subj_task_list = reconlist.subj_task.apply(lambda x: x.split('_')).values\n",
    "f1, f2 = (6, 12)\n",
    "\n",
    "dfall = pd.DataFrame()\n",
    "for i in subj_task_list:\n",
    "    subj, task = i\n",
    "    filename = '/Users/matar/Google Drive UCB/SpectralFitting/ECOG (1)/ECOG_rebinned/{0}_{1}/params_binned.csv'.format(subj, task)\n",
    "    if not(os.path.isfile(filename)):\n",
    "        filename = '/Users/matar/Google Drive UCB/SpectralFitting/ECOG (1)/ECOG_rebinned/{0}_{1}/params.csv'.format(subj, task)\n",
    "        if not(os.path.isfile(filename)):\n",
    "            continue\n",
    "    df_all = pd.read_csv(filename)\n",
    "\n",
    "    #filter frequencies\n",
    "    df_freq = df_all[(df_all.CF>f1) & (df_all.CF<f2)].groupby('Elec').mean().CF\n",
    "\n",
    "    #add ROI\n",
    "    if (subj == 'GP35'):\n",
    "        if 'Face' in task:\n",
    "            roi = df_freq.reset_index().apply(lambda row: get_ROI('GP35_face', row.Elec, brain_ROI), axis = 1)\n",
    "        else:\n",
    "            roi = df_freq.reset_index().apply(lambda row: get_ROI('GP35_words', row.Elec, brain_ROI), axis = 1)\n",
    "    else:\n",
    "        roi = df_freq.reset_index().apply(lambda row: get_ROI(subj, row.Elec, brain_ROI), axis = 1)\n",
    "    roi.name = 'ROI'\n",
    "    df_freq = df_freq.reset_index().join(roi)\n",
    "\n",
    "    #filter ROIs\n",
    "    f = {'Elec':['count'], 'CF':['mean','sem']}\n",
    "    df_summ = df_freq.groupby('ROI').agg(f)\n",
    "    ROIs = (df_summ.Elec>5).index.tolist()\n",
    "\n",
    "    ROIs_of_interest = ['ATL','MTG', 'MFG', 'Broca', 'Pre_centrl', 'Post_centrl', 'STG', 'R_ATL','R_MTG', 'R_MFG', 'R_Broca', 'R_Pre_centrl', 'R_Post_centrl', 'R_STG']\n",
    "    ROIs = np.intersect1d(ROIs, ROIs_of_interest)\n",
    "    dfROI = df_freq[df_freq.ROI.isin(ROIs)]\n",
    "    \n",
    "    dfROI['subj'] = subj\n",
    "    dfROI['task'] = task\n",
    "    \n",
    "    if len(dfROI) == 0: #not enough elecs in any ROI\n",
    "        continue\n",
    "    dfall = dfall.append(dfROI)"
   ]
  },
  {
   "cell_type": "code",
   "execution_count": 116,
   "metadata": {
    "collapsed": false
   },
   "outputs": [],
   "source": [
    "#filter ROIs\n",
    "f = {'Elec':['count'], 'CF':['mean','sem']}\n",
    "dfsumm = dfall.groupby(['subj','task','ROI']).agg(f)\n",
    "filename = '/Users/matar/Google Drive UCB/SpectralFitting/Figures/alldatasets_cf_byROI.csv'\n",
    "dfsumm.to_csv(filename)\n"
   ]
  },
  {
   "cell_type": "code",
   "execution_count": 215,
   "metadata": {
    "collapsed": false
   },
   "outputs": [
    {
     "data": {
      "text/html": [
       "<div>\n",
       "<table border=\"1\" class=\"dataframe\">\n",
       "  <thead>\n",
       "    <tr>\n",
       "      <th></th>\n",
       "      <th></th>\n",
       "      <th></th>\n",
       "      <th>Elec</th>\n",
       "      <th colspan=\"2\" halign=\"left\">CF</th>\n",
       "    </tr>\n",
       "    <tr>\n",
       "      <th></th>\n",
       "      <th></th>\n",
       "      <th></th>\n",
       "      <th>count</th>\n",
       "      <th>mean</th>\n",
       "      <th>sem</th>\n",
       "    </tr>\n",
       "    <tr>\n",
       "      <th>subj</th>\n",
       "      <th>task</th>\n",
       "      <th>ROI</th>\n",
       "      <th></th>\n",
       "      <th></th>\n",
       "      <th></th>\n",
       "    </tr>\n",
       "  </thead>\n",
       "  <tbody>\n",
       "    <tr>\n",
       "      <th rowspan=\"12\" valign=\"top\">GP15</th>\n",
       "      <th rowspan=\"2\" valign=\"top\">EmoGen</th>\n",
       "      <th>PFC</th>\n",
       "      <td>19</td>\n",
       "      <td>7.325810</td>\n",
       "      <td>0.188373</td>\n",
       "    </tr>\n",
       "    <tr>\n",
       "      <th>temporal</th>\n",
       "      <td>19</td>\n",
       "      <td>8.175672</td>\n",
       "      <td>0.286000</td>\n",
       "    </tr>\n",
       "    <tr>\n",
       "      <th rowspan=\"2\" valign=\"top\">EmoRep</th>\n",
       "      <th>PFC</th>\n",
       "      <td>19</td>\n",
       "      <td>7.364045</td>\n",
       "      <td>0.205110</td>\n",
       "    </tr>\n",
       "    <tr>\n",
       "      <th>temporal</th>\n",
       "      <td>19</td>\n",
       "      <td>9.018902</td>\n",
       "      <td>0.253613</td>\n",
       "    </tr>\n",
       "    <tr>\n",
       "      <th rowspan=\"2\" valign=\"top\">FaceEmo</th>\n",
       "      <th>PFC</th>\n",
       "      <td>13</td>\n",
       "      <td>7.762581</td>\n",
       "      <td>0.342929</td>\n",
       "    </tr>\n",
       "    <tr>\n",
       "      <th>temporal</th>\n",
       "      <td>19</td>\n",
       "      <td>8.937597</td>\n",
       "      <td>0.063435</td>\n",
       "    </tr>\n",
       "    <tr>\n",
       "      <th rowspan=\"2\" valign=\"top\">FaceGen</th>\n",
       "      <th>PFC</th>\n",
       "      <td>11</td>\n",
       "      <td>7.461652</td>\n",
       "      <td>0.316910</td>\n",
       "    </tr>\n",
       "    <tr>\n",
       "      <th>temporal</th>\n",
       "      <td>19</td>\n",
       "      <td>8.980200</td>\n",
       "      <td>0.085384</td>\n",
       "    </tr>\n",
       "    <tr>\n",
       "      <th rowspan=\"2\" valign=\"top\">SelfAud</th>\n",
       "      <th>PFC</th>\n",
       "      <td>19</td>\n",
       "      <td>6.992208</td>\n",
       "      <td>0.235522</td>\n",
       "    </tr>\n",
       "    <tr>\n",
       "      <th>temporal</th>\n",
       "      <td>19</td>\n",
       "      <td>9.104362</td>\n",
       "      <td>0.273923</td>\n",
       "    </tr>\n",
       "    <tr>\n",
       "      <th rowspan=\"2\" valign=\"top\">SelfVis</th>\n",
       "      <th>PFC</th>\n",
       "      <td>19</td>\n",
       "      <td>8.324941</td>\n",
       "      <td>0.229472</td>\n",
       "    </tr>\n",
       "    <tr>\n",
       "      <th>temporal</th>\n",
       "      <td>18</td>\n",
       "      <td>9.171044</td>\n",
       "      <td>0.126998</td>\n",
       "    </tr>\n",
       "    <tr>\n",
       "      <th rowspan=\"4\" valign=\"top\">GP28</th>\n",
       "      <th rowspan=\"2\" valign=\"top\">SelfAud</th>\n",
       "      <th>PFC</th>\n",
       "      <td>7</td>\n",
       "      <td>6.277024</td>\n",
       "      <td>0.015327</td>\n",
       "    </tr>\n",
       "    <tr>\n",
       "      <th>temporal</th>\n",
       "      <td>21</td>\n",
       "      <td>9.559181</td>\n",
       "      <td>0.241936</td>\n",
       "    </tr>\n",
       "    <tr>\n",
       "      <th rowspan=\"2\" valign=\"top\">SelfVis</th>\n",
       "      <th>PFC</th>\n",
       "      <td>6</td>\n",
       "      <td>6.600860</td>\n",
       "      <td>0.093869</td>\n",
       "    </tr>\n",
       "    <tr>\n",
       "      <th>temporal</th>\n",
       "      <td>21</td>\n",
       "      <td>9.377016</td>\n",
       "      <td>0.210243</td>\n",
       "    </tr>\n",
       "    <tr>\n",
       "      <th rowspan=\"8\" valign=\"top\">GP35</th>\n",
       "      <th rowspan=\"2\" valign=\"top\">EmoGen</th>\n",
       "      <th>PFC</th>\n",
       "      <td>10</td>\n",
       "      <td>9.248734</td>\n",
       "      <td>0.413377</td>\n",
       "    </tr>\n",
       "    <tr>\n",
       "      <th>temporal</th>\n",
       "      <td>24</td>\n",
       "      <td>10.000395</td>\n",
       "      <td>0.120093</td>\n",
       "    </tr>\n",
       "    <tr>\n",
       "      <th rowspan=\"2\" valign=\"top\">EmoRep</th>\n",
       "      <th>PFC</th>\n",
       "      <td>11</td>\n",
       "      <td>7.966458</td>\n",
       "      <td>0.496992</td>\n",
       "    </tr>\n",
       "    <tr>\n",
       "      <th>temporal</th>\n",
       "      <td>24</td>\n",
       "      <td>9.883586</td>\n",
       "      <td>0.137001</td>\n",
       "    </tr>\n",
       "    <tr>\n",
       "      <th rowspan=\"2\" valign=\"top\">FaceEmo</th>\n",
       "      <th>PFC</th>\n",
       "      <td>17</td>\n",
       "      <td>7.684589</td>\n",
       "      <td>0.201783</td>\n",
       "    </tr>\n",
       "    <tr>\n",
       "      <th>temporal</th>\n",
       "      <td>24</td>\n",
       "      <td>10.181137</td>\n",
       "      <td>0.127961</td>\n",
       "    </tr>\n",
       "    <tr>\n",
       "      <th rowspan=\"2\" valign=\"top\">FaceGen</th>\n",
       "      <th>PFC</th>\n",
       "      <td>16</td>\n",
       "      <td>7.430865</td>\n",
       "      <td>0.230353</td>\n",
       "    </tr>\n",
       "    <tr>\n",
       "      <th>temporal</th>\n",
       "      <td>23</td>\n",
       "      <td>9.926398</td>\n",
       "      <td>0.138775</td>\n",
       "    </tr>\n",
       "    <tr>\n",
       "      <th rowspan=\"4\" valign=\"top\">JH10</th>\n",
       "      <th rowspan=\"2\" valign=\"top\">EmoRep</th>\n",
       "      <th>PFC</th>\n",
       "      <td>10</td>\n",
       "      <td>6.259283</td>\n",
       "      <td>0.041815</td>\n",
       "    </tr>\n",
       "    <tr>\n",
       "      <th>temporal</th>\n",
       "      <td>4</td>\n",
       "      <td>7.111759</td>\n",
       "      <td>0.088791</td>\n",
       "    </tr>\n",
       "    <tr>\n",
       "      <th rowspan=\"2\" valign=\"top\">SelfAud</th>\n",
       "      <th>PFC</th>\n",
       "      <td>10</td>\n",
       "      <td>6.305160</td>\n",
       "      <td>0.055548</td>\n",
       "    </tr>\n",
       "    <tr>\n",
       "      <th>temporal</th>\n",
       "      <td>4</td>\n",
       "      <td>7.414695</td>\n",
       "      <td>0.304205</td>\n",
       "    </tr>\n",
       "    <tr>\n",
       "      <th rowspan=\"6\" valign=\"top\">JH17</th>\n",
       "      <th rowspan=\"2\" valign=\"top\">EmoRep</th>\n",
       "      <th>PFC</th>\n",
       "      <td>2</td>\n",
       "      <td>8.530670</td>\n",
       "      <td>0.632784</td>\n",
       "    </tr>\n",
       "    <tr>\n",
       "      <th>temporal</th>\n",
       "      <td>24</td>\n",
       "      <td>9.545345</td>\n",
       "      <td>0.237741</td>\n",
       "    </tr>\n",
       "    <tr>\n",
       "      <th rowspan=\"2\" valign=\"top\">SelfAud</th>\n",
       "      <th>PFC</th>\n",
       "      <td>2</td>\n",
       "      <td>10.218292</td>\n",
       "      <td>1.033847</td>\n",
       "    </tr>\n",
       "    <tr>\n",
       "      <th>temporal</th>\n",
       "      <td>23</td>\n",
       "      <td>9.816383</td>\n",
       "      <td>0.208227</td>\n",
       "    </tr>\n",
       "    <tr>\n",
       "      <th rowspan=\"2\" valign=\"top\">SelfVis</th>\n",
       "      <th>PFC</th>\n",
       "      <td>2</td>\n",
       "      <td>8.221242</td>\n",
       "      <td>1.682358</td>\n",
       "    </tr>\n",
       "    <tr>\n",
       "      <th>temporal</th>\n",
       "      <td>20</td>\n",
       "      <td>10.459351</td>\n",
       "      <td>0.198605</td>\n",
       "    </tr>\n",
       "    <tr>\n",
       "      <th rowspan=\"8\" valign=\"top\">JH2</th>\n",
       "      <th rowspan=\"2\" valign=\"top\">EmoGen</th>\n",
       "      <th>PFC</th>\n",
       "      <td>14</td>\n",
       "      <td>8.251103</td>\n",
       "      <td>0.322276</td>\n",
       "    </tr>\n",
       "    <tr>\n",
       "      <th>temporal</th>\n",
       "      <td>14</td>\n",
       "      <td>8.374459</td>\n",
       "      <td>0.467203</td>\n",
       "    </tr>\n",
       "    <tr>\n",
       "      <th rowspan=\"2\" valign=\"top\">FaceEmo</th>\n",
       "      <th>PFC</th>\n",
       "      <td>14</td>\n",
       "      <td>7.256672</td>\n",
       "      <td>0.210721</td>\n",
       "    </tr>\n",
       "    <tr>\n",
       "      <th>temporal</th>\n",
       "      <td>20</td>\n",
       "      <td>8.186997</td>\n",
       "      <td>0.341730</td>\n",
       "    </tr>\n",
       "    <tr>\n",
       "      <th rowspan=\"2\" valign=\"top\">SelfAud</th>\n",
       "      <th>PFC</th>\n",
       "      <td>13</td>\n",
       "      <td>7.544145</td>\n",
       "      <td>0.114959</td>\n",
       "    </tr>\n",
       "    <tr>\n",
       "      <th>temporal</th>\n",
       "      <td>22</td>\n",
       "      <td>8.462844</td>\n",
       "      <td>0.299938</td>\n",
       "    </tr>\n",
       "    <tr>\n",
       "      <th rowspan=\"2\" valign=\"top\">SelfVis</th>\n",
       "      <th>PFC</th>\n",
       "      <td>12</td>\n",
       "      <td>8.280724</td>\n",
       "      <td>0.300303</td>\n",
       "    </tr>\n",
       "    <tr>\n",
       "      <th>temporal</th>\n",
       "      <td>18</td>\n",
       "      <td>9.104629</td>\n",
       "      <td>0.483056</td>\n",
       "    </tr>\n",
       "    <tr>\n",
       "      <th rowspan=\"4\" valign=\"top\">JH6</th>\n",
       "      <th rowspan=\"2\" valign=\"top\">FaceEmo</th>\n",
       "      <th>PFC</th>\n",
       "      <td>5</td>\n",
       "      <td>7.223992</td>\n",
       "      <td>0.031517</td>\n",
       "    </tr>\n",
       "    <tr>\n",
       "      <th>temporal</th>\n",
       "      <td>12</td>\n",
       "      <td>7.231891</td>\n",
       "      <td>0.059865</td>\n",
       "    </tr>\n",
       "    <tr>\n",
       "      <th rowspan=\"2\" valign=\"top\">SelfAud</th>\n",
       "      <th>PFC</th>\n",
       "      <td>5</td>\n",
       "      <td>7.683617</td>\n",
       "      <td>0.108440</td>\n",
       "    </tr>\n",
       "    <tr>\n",
       "      <th>temporal</th>\n",
       "      <td>2</td>\n",
       "      <td>6.829930</td>\n",
       "      <td>0.000590</td>\n",
       "    </tr>\n",
       "    <tr>\n",
       "      <th rowspan=\"5\" valign=\"top\">ST1</th>\n",
       "      <th rowspan=\"2\" valign=\"top\">EmoGen</th>\n",
       "      <th>PFC</th>\n",
       "      <td>5</td>\n",
       "      <td>10.946100</td>\n",
       "      <td>0.344751</td>\n",
       "    </tr>\n",
       "    <tr>\n",
       "      <th>temporal</th>\n",
       "      <td>1</td>\n",
       "      <td>11.728699</td>\n",
       "      <td>NaN</td>\n",
       "    </tr>\n",
       "    <tr>\n",
       "      <th>EmoRep</th>\n",
       "      <th>PFC</th>\n",
       "      <td>17</td>\n",
       "      <td>9.384399</td>\n",
       "      <td>0.341565</td>\n",
       "    </tr>\n",
       "    <tr>\n",
       "      <th>FaceEmo</th>\n",
       "      <th>PFC</th>\n",
       "      <td>4</td>\n",
       "      <td>10.859074</td>\n",
       "      <td>0.354854</td>\n",
       "    </tr>\n",
       "    <tr>\n",
       "      <th>SelfAud</th>\n",
       "      <th>PFC</th>\n",
       "      <td>10</td>\n",
       "      <td>10.303222</td>\n",
       "      <td>0.449817</td>\n",
       "    </tr>\n",
       "    <tr>\n",
       "      <th rowspan=\"4\" valign=\"top\">ST15</th>\n",
       "      <th rowspan=\"2\" valign=\"top\">EmoRep</th>\n",
       "      <th>PFC</th>\n",
       "      <td>28</td>\n",
       "      <td>6.891890</td>\n",
       "      <td>0.108088</td>\n",
       "    </tr>\n",
       "    <tr>\n",
       "      <th>temporal</th>\n",
       "      <td>5</td>\n",
       "      <td>10.046183</td>\n",
       "      <td>0.101217</td>\n",
       "    </tr>\n",
       "    <tr>\n",
       "      <th rowspan=\"2\" valign=\"top\">SelfAud</th>\n",
       "      <th>PFC</th>\n",
       "      <td>32</td>\n",
       "      <td>7.088590</td>\n",
       "      <td>0.162272</td>\n",
       "    </tr>\n",
       "    <tr>\n",
       "      <th>temporal</th>\n",
       "      <td>5</td>\n",
       "      <td>9.885103</td>\n",
       "      <td>0.187383</td>\n",
       "    </tr>\n",
       "    <tr>\n",
       "      <th>ST27</th>\n",
       "      <th>DecisionVis</th>\n",
       "      <th>PFC</th>\n",
       "      <td>2</td>\n",
       "      <td>7.414922</td>\n",
       "      <td>0.010964</td>\n",
       "    </tr>\n",
       "    <tr>\n",
       "      <th>ST4</th>\n",
       "      <th>SelfAud</th>\n",
       "      <th>temporal</th>\n",
       "      <td>1</td>\n",
       "      <td>6.106901</td>\n",
       "      <td>NaN</td>\n",
       "    </tr>\n",
       "    <tr>\n",
       "      <th rowspan=\"2\" valign=\"top\">ST6</th>\n",
       "      <th>SelfAud</th>\n",
       "      <th>temporal</th>\n",
       "      <td>5</td>\n",
       "      <td>9.964783</td>\n",
       "      <td>0.393825</td>\n",
       "    </tr>\n",
       "    <tr>\n",
       "      <th>SelfVis</th>\n",
       "      <th>temporal</th>\n",
       "      <td>5</td>\n",
       "      <td>10.421418</td>\n",
       "      <td>0.194437</td>\n",
       "    </tr>\n",
       "  </tbody>\n",
       "</table>\n",
       "</div>"
      ],
      "text/plain": [
       "                           Elec         CF          \n",
       "                          count       mean       sem\n",
       "subj task        ROI                                \n",
       "GP15 EmoGen      PFC         19   7.325810  0.188373\n",
       "                 temporal    19   8.175672  0.286000\n",
       "     EmoRep      PFC         19   7.364045  0.205110\n",
       "                 temporal    19   9.018902  0.253613\n",
       "     FaceEmo     PFC         13   7.762581  0.342929\n",
       "                 temporal    19   8.937597  0.063435\n",
       "     FaceGen     PFC         11   7.461652  0.316910\n",
       "                 temporal    19   8.980200  0.085384\n",
       "     SelfAud     PFC         19   6.992208  0.235522\n",
       "                 temporal    19   9.104362  0.273923\n",
       "     SelfVis     PFC         19   8.324941  0.229472\n",
       "                 temporal    18   9.171044  0.126998\n",
       "GP28 SelfAud     PFC          7   6.277024  0.015327\n",
       "                 temporal    21   9.559181  0.241936\n",
       "     SelfVis     PFC          6   6.600860  0.093869\n",
       "                 temporal    21   9.377016  0.210243\n",
       "GP35 EmoGen      PFC         10   9.248734  0.413377\n",
       "                 temporal    24  10.000395  0.120093\n",
       "     EmoRep      PFC         11   7.966458  0.496992\n",
       "                 temporal    24   9.883586  0.137001\n",
       "     FaceEmo     PFC         17   7.684589  0.201783\n",
       "                 temporal    24  10.181137  0.127961\n",
       "     FaceGen     PFC         16   7.430865  0.230353\n",
       "                 temporal    23   9.926398  0.138775\n",
       "JH10 EmoRep      PFC         10   6.259283  0.041815\n",
       "                 temporal     4   7.111759  0.088791\n",
       "     SelfAud     PFC         10   6.305160  0.055548\n",
       "                 temporal     4   7.414695  0.304205\n",
       "JH17 EmoRep      PFC          2   8.530670  0.632784\n",
       "                 temporal    24   9.545345  0.237741\n",
       "     SelfAud     PFC          2  10.218292  1.033847\n",
       "                 temporal    23   9.816383  0.208227\n",
       "     SelfVis     PFC          2   8.221242  1.682358\n",
       "                 temporal    20  10.459351  0.198605\n",
       "JH2  EmoGen      PFC         14   8.251103  0.322276\n",
       "                 temporal    14   8.374459  0.467203\n",
       "     FaceEmo     PFC         14   7.256672  0.210721\n",
       "                 temporal    20   8.186997  0.341730\n",
       "     SelfAud     PFC         13   7.544145  0.114959\n",
       "                 temporal    22   8.462844  0.299938\n",
       "     SelfVis     PFC         12   8.280724  0.300303\n",
       "                 temporal    18   9.104629  0.483056\n",
       "JH6  FaceEmo     PFC          5   7.223992  0.031517\n",
       "                 temporal    12   7.231891  0.059865\n",
       "     SelfAud     PFC          5   7.683617  0.108440\n",
       "                 temporal     2   6.829930  0.000590\n",
       "ST1  EmoGen      PFC          5  10.946100  0.344751\n",
       "                 temporal     1  11.728699       NaN\n",
       "     EmoRep      PFC         17   9.384399  0.341565\n",
       "     FaceEmo     PFC          4  10.859074  0.354854\n",
       "     SelfAud     PFC         10  10.303222  0.449817\n",
       "ST15 EmoRep      PFC         28   6.891890  0.108088\n",
       "                 temporal     5  10.046183  0.101217\n",
       "     SelfAud     PFC         32   7.088590  0.162272\n",
       "                 temporal     5   9.885103  0.187383\n",
       "ST27 DecisionVis PFC          2   7.414922  0.010964\n",
       "ST4  SelfAud     temporal     1   6.106901       NaN\n",
       "ST6  SelfAud     temporal     5   9.964783  0.393825\n",
       "     SelfVis     temporal     5  10.421418  0.194437"
      ]
     },
     "execution_count": 215,
     "metadata": {},
     "output_type": "execute_result"
    }
   ],
   "source": [
    "#do for frontal vs temporal\n",
    "temporal = ['ATL', 'STG',  'MTG', 'R_ATL', 'R_STG', 'R_MTG']\n",
    "PFC = ['Broca', 'MFG', 'SFG', 'OFC', 'R_Broca', 'R_MFG', 'R_SFG', 'R_OFC']\n",
    "\n",
    "\n",
    "dfall.ROI = dfall.ROI.apply(lambda x: 'temporal' if x in temporal else x)\n",
    "dfall.ROI = dfall.ROI.apply(lambda x: 'PFC' if x in PFC else x)\n",
    "\n",
    "dfall = dfall[dfall.ROI.isin(['PFC','temporal'])]\n",
    "\n",
    "f = {'Elec':['count'], 'CF':['mean','sem']}\n",
    "dfsumm = dfall.groupby(['subj','task','ROI']).agg(f)\n",
    "filename = '/Users/matar/Google Drive UCB/SpectralFitting/Figures/alldatasets_cf_temporal_vs_PFC.csv'\n",
    "dfsumm.to_csv(filename)\n",
    "\n",
    "dfsumm"
   ]
  },
  {
   "cell_type": "markdown",
   "metadata": {},
   "source": [
    "## combine tukey csvs\n",
    "### to pull out which ROIs have significant differences"
   ]
  },
  {
   "cell_type": "code",
   "execution_count": 262,
   "metadata": {
    "collapsed": false
   },
   "outputs": [],
   "source": [
    "subj_task_list = reconlist.subj_task.apply(lambda x: x.split('_')).values\n",
    "f1, f2 = (6, 12)\n",
    "vmin, vmax = (-3, 3)\n",
    "\n",
    "df = pd.DataFrame()\n",
    "    \n",
    "for i in subj_task_list:\n",
    "    subj, task = i\n",
    "\n",
    "    filename = '/Users/matar/Google Drive UCB/SpectralFitting/Figures/{0}_{1}_{2}-{3}Hz_ROIanova.csv'.format(subj, task, f1, f2)\n",
    "    if os.path.isfile(filename):\n",
    "        dfanova = pd.read_csv(filename)\n",
    "    else:\n",
    "        continue\n",
    "    \n",
    "    p = dfanova['PR(>F)'].ix[0]\n",
    "    \n",
    "    if p < 0.05:\n",
    "\n",
    "        hsdfiles = glob.glob('/Users/matar/Google Drive UCB/SpectralFitting/Figures/{0}_*_{1}-{2}Hz_ROI_HSD.csv'.format(subj, f1, f2))\n",
    "        for filename in hsdfiles:\n",
    "            task = os.path.split(filename)[1].split('_')[1]\n",
    "            dfhsd = pd.read_csv(filename)\n",
    "            dfhsd['task'] = task\n",
    "            dfhsd['subj'] = subj\n",
    "            df = df.append(dfhsd)\n",
    "        "
   ]
  },
  {
   "cell_type": "code",
   "execution_count": 263,
   "metadata": {
    "collapsed": false
   },
   "outputs": [],
   "source": [
    "dfhsd = df[df.reject == True]\n",
    "dfhsd = dfhsd[['subj','task','group1','group2','meandiff','lower','upper']]\n",
    "filename = '/Users/matar/Google Drive UCB/SpectralFitting/Figures/alldatasets_hsd_byROI.csv'\n",
    "dfhsd.to_csv(filename)"
   ]
  },
  {
   "cell_type": "markdown",
   "metadata": {},
   "source": [
    "# Plot mean PSD \n",
    "For each subject/tasks with >= 5 elecs:\n",
    "\n",
    "1. average of all PSDs within PFC\n",
    "2. average of all PSDs within temporal \n",
    "3. average of all PSDs for PFC and temporal electrodes (don't average 1 and 2, but rather actual PSDs of electrodes in these two regions)"
   ]
  },
  {
   "cell_type": "code",
   "execution_count": 52,
   "metadata": {
    "collapsed": false
   },
   "outputs": [],
   "source": [
    "subj, task = ('GP15','EmoGen')\n",
    "i = 1\n",
    "filename = os.path.join('/home/knight/matar/F2M/paroma_peak_SGE/ECOG/', subj, task, 'elec'+str(i), 'psd_mean.npy')\n",
    "psd = np.load(filename)"
   ]
  },
  {
   "cell_type": "code",
   "execution_count": 150,
   "metadata": {
    "collapsed": false
   },
   "outputs": [],
   "source": [
    "subj_task_list = reconlist.subj_task.apply(lambda x: x.split('_')).values\n",
    "f1, f2 = (6, 12)\n",
    "\n",
    "temporal = ['ATL', 'STG',  'MTG', 'R_ATL', 'R_STG', 'R_MTG']\n",
    "PFC = ['Broca', 'MFG', 'SFG', 'OFC', 'R_Broca', 'R_MFG', 'R_SFG', 'R_OFC']\n",
    "\n",
    "for i in subj_task_list:\n",
    "    subj, task = i\n",
    "#     filename = '/Users/matar/Google Drive UCB/SpectralFitting/ECOG (1)/ECOG_rebinned/{0}_{1}/params_binned.csv'.format(subj, task)\n",
    "#     if not(os.path.isfile(filename)):\n",
    "#         filename = '/Users/matar/Google Drive UCB/SpectralFitting/ECOG (1)/ECOG_rebinned/{0}_{1}/params.csv'.format(subj, task)\n",
    "#         if not(os.path.isfile(filename)):\n",
    "#             continue\n",
    "\n",
    "    filename = '/home/knight/matar/F2M/paroma_peak_SGE/ECOG/ECOG_rebinned/{0}_{1}/params_binned.csv'.format(subj, task)\n",
    "    if not(os.path.isfile(filename)):\n",
    "        filename = '/home/knight/matar/F2M/paroma_peak_SGE/ECOG/ECOG_rebinned/{0}_{1}/params.csv'.format(subj, task)\n",
    "        if not(os.path.isfile(filename)):\n",
    "            continue\n",
    "    df_all = pd.read_csv(filename)\n",
    "\n",
    "    #filter frequencies\n",
    "    df_freq = df_all[(df_all.CF>f1) & (df_all.CF<f2)].groupby('Elec').mean().CF\n",
    "\n",
    "    #add ROI\n",
    "    if (subj == 'GP35'):\n",
    "        if 'Face' in task:\n",
    "            roi = df_freq.reset_index().apply(lambda row: get_ROI('GP35_face', row.Elec, brain_ROI), axis = 1)\n",
    "        else:\n",
    "            roi = df_freq.reset_index().apply(lambda row: get_ROI('GP35_words', row.Elec, brain_ROI), axis = 1)\n",
    "    else:\n",
    "        roi = df_freq.reset_index().apply(lambda row: get_ROI(subj, row.Elec, brain_ROI), axis = 1)\n",
    "    roi.name = 'ROI'\n",
    "    df_freq = df_freq.reset_index().join(roi)\n",
    "\n",
    "    #filter ROIs\n",
    "    if subj == 'JH2':\n",
    "        df_freq = df_freq[df_freq.ROI != 'ATL'] #drop ATL from JH2 (epileptic)\n",
    "\n",
    "    df_freq.ROI = df_freq.ROI.apply(lambda x: 'temporal' if x in temporal else x)\n",
    "    df_freq.ROI = df_freq.ROI.apply(lambda x: 'PFC' if x in PFC else x)\n",
    "    df_freq = df_freq[df_freq.ROI.isin(['PFC','temporal'])]\n",
    "\n",
    "    f = {'Elec':['count'], 'CF':['mean','sem']}\n",
    "    df_summ = df_freq.groupby('ROI').agg(f)\n",
    "    ROIs = (df_summ.Elec>5).index.tolist()\n",
    "\n",
    "    dfROI = df_freq[df_freq.ROI.isin(ROIs)]\n",
    "    \n",
    "    if len(ROIs)<2: #not enough in either PFC or temporal (need both)\n",
    "        continue\n",
    "    \n",
    "    temporal_elecs = dfROI[dfROI.ROI == 'temporal'].Elec.values\n",
    "    PFC_elecs = dfROI[dfROI.ROI == 'PFC'].Elec.values\n",
    "    both_elecs = np.concatenate([temporal_elecs, PFC_elecs])\n",
    "    \n",
    "    dfPSD = pd.DataFrame()\n",
    "    filename = os.path.join('/home/knight/matar/F2M/paroma_peak_SGE/ECOG/', subj, task, 'elec'+str(temporal_elecs[0]), 'freq_vector.npy')\n",
    "    freq = np.load(filename)\n",
    "    \n",
    "    for e in temporal_elecs:\n",
    "        filename = os.path.join('/home/knight/matar/F2M/paroma_peak_SGE/ECOG/', subj, task, 'elec'+str(e), 'psd_mean.npy')\n",
    "        psd = np.load(filename)\n",
    "        dfPSD = dfPSD.append(pd.Series(psd, index = freq, name = e))\n",
    "    temporalPSD = dfPSD.mean(0)\n",
    "    \n",
    "    dfPSD = pd.DataFrame()\n",
    "    for e in PFC_elecs:\n",
    "        filename = os.path.join('/home/knight/matar/F2M/paroma_peak_SGE/ECOG/', subj, task, 'elec'+str(e), 'psd_mean.npy')\n",
    "        psd = np.load(filename)\n",
    "        dfPSD = dfPSD.append(pd.Series(psd, index = freq, name = e))\n",
    "    PFCPSD = dfPSD.mean(0)\n",
    "\n",
    "    dfPSD = pd.DataFrame()\n",
    "    for e in both_elecs:\n",
    "        filename = os.path.join('/home/knight/matar/F2M/paroma_peak_SGE/ECOG/', subj, task, 'elec'+str(e), 'psd_mean.npy')\n",
    "        psd = np.load(filename)\n",
    "        dfPSD = dfPSD.append(pd.Series(psd, index = freq, name = e))\n",
    "    bothPSD = dfPSD.mean(0)\n",
    "    \n",
    "    f, ax = plt.subplots()\n",
    "    temporalPSD[:20].plot(label = 'temporal, n={0}'.format(len(temporal_elecs)), lw = 2)\n",
    "    PFCPSD[:20].plot(label = 'PFC, n={0}'.format(len(PFC_elecs)), lw = 2)\n",
    "    bothPSD[:20].plot(label = 'both, n={0}'.format(len(both_elecs)), lw = 2)\n",
    "    ax.legend(fontsize = 12)\n",
    "    ax.set_title('{0} {1}'.format(subj, task), fontsize = 12)\n",
    "    filename = '/home/knight/matar/MATLAB/DATA/Avgusta/PSD/byROI/{0}_{1}_PFC_vs_temporal.png'.format(subj, task)\n",
    "    plt.savefig(filename)\n",
    "    plt.close()"
   ]
  },
  {
   "cell_type": "markdown",
   "metadata": {},
   "source": [
    "# PAC for custom vs canonical peaks"
   ]
  },
  {
   "cell_type": "code",
   "execution_count": 19,
   "metadata": {
    "collapsed": true
   },
   "outputs": [],
   "source": [
    "import loadmat\n",
    "import mne\n",
    "from scipy.signal import hilbert"
   ]
  },
  {
   "cell_type": "code",
   "execution_count": 4,
   "metadata": {
    "collapsed": true
   },
   "outputs": [],
   "source": [
    "subj, task = ('GP15','EmoGen')"
   ]
  },
  {
   "cell_type": "code",
   "execution_count": 7,
   "metadata": {
    "collapsed": false
   },
   "outputs": [],
   "source": [
    "filename = os.path.join('/home/knight/matar/MATLAB/DATA/Avgusta', 'Subjs', subj ,task, 'gdat_notch')\n",
    "data_dict = loadmat.loadmat(filename)\n",
    "gdat = data_dict['gdat']"
   ]
  },
  {
   "cell_type": "code",
   "execution_count": 17,
   "metadata": {
    "collapsed": false
   },
   "outputs": [],
   "source": [
    "filename = os.path.join('/home/knight/matar/MATLAB/DATA/Avgusta', 'Subjs', subj ,task, 'subj_globals')\n",
    "data_dict = loadmat.loadmat(filename)\n",
    "srate = data_dict['srate']"
   ]
  },
  {
   "cell_type": "code",
   "execution_count": 29,
   "metadata": {
    "collapsed": false
   },
   "outputs": [
    {
     "data": {
      "text/plain": [
       "(147,)"
      ]
     },
     "execution_count": 29,
     "metadata": {},
     "output_type": "execute_result"
    }
   ],
   "source": [
    "filename = os.path.join('/home/knight/matar/MATLAB/DATA/Avgusta', 'Subjs', subj ,task, 'onsets_word_corr_g.mat')\n",
    "data_dict = loadmat.loadmat(filename)\n",
    "stim_onsets = data_dict['onsets_word_corr_g']\n",
    "stim_onsets.shape"
   ]
  },
  {
   "cell_type": "code",
   "execution_count": 13,
   "metadata": {
    "collapsed": false
   },
   "outputs": [],
   "source": [
    "e = 0\n",
    "band = gdat[e,:]"
   ]
  },
  {
   "cell_type": "code",
   "execution_count": 14,
   "metadata": {
    "collapsed": true
   },
   "outputs": [],
   "source": [
    "next_pow2 = int(np.ceil(np.log2(len(band))))\n",
    "lfband = (4, 8)\n",
    "hfband = (70, 150)"
   ]
  },
  {
   "cell_type": "code",
   "execution_count": 20,
   "metadata": {
    "collapsed": false
   },
   "outputs": [],
   "source": [
    "# Slow phase time series\n",
    "phs_bp = mne.filter.band_pass_filter(band, srate, *lfband)\n",
    "phs_ang = np.angle(hilbert(phs_bp, N = 2**next_pow2))"
   ]
  },
  {
   "cell_type": "code",
   "execution_count": 21,
   "metadata": {
    "collapsed": true
   },
   "outputs": [],
   "source": [
    "# Fast phase time series\n",
    "amp_bp = mne.filter.band_pass_filter(band, srate, *hfband)\n",
    "amp_env = np.abs(hilbert(amp_bp, N = 2**next_pow2))"
   ]
  },
  {
   "cell_type": "code",
   "execution_count": 22,
   "metadata": {
    "collapsed": true
   },
   "outputs": [],
   "source": [
    "amp_env_bp = mne.filter.band_pass_filter(amp_env, srate, *lfband)\n",
    "amp_env_ang = np.angle(hilbert(amp_env_bp, N = 2**next_pow2))"
   ]
  },
  {
   "cell_type": "markdown",
   "metadata": {},
   "source": [
    "\n",
    "# old"
   ]
  },
  {
   "cell_type": "code",
   "execution_count": null,
   "metadata": {
    "collapsed": true
   },
   "outputs": [],
   "source": [
    "#within a task per ROI\n",
    "subj_task_list = reconlist.subj_task.apply(lambda x: x.split('_')).values\n",
    "subjs = np.unique([x[0] for x in subj_task_list])\n",
    "\n",
    "subj_task_list = reconlist.subj_task.apply(lambda x: x.split('_')).values\n",
    "f1, f2 = (6, 12)\n",
    "vmin, vmax = (-3, 3)\n",
    "\n",
    "for subj in subjs:\n",
    "    files = glob.glob('/Users/matar/Google Drive UCB/SpectralFitting/ECOG (1)/ECOG_rebinned/{0}_*/params*.csv'.format(subj))\n",
    "    \n",
    "    df = pd.DataFrame()\n",
    "    for f in files:\n",
    "        df_all = pd.read_csv(f)\n",
    "        task = os.path.split(f)[0].split('_')[-1]\n",
    "        df_freq = df_all[(df_all.CF>f1) & (df_all.CF<f2)].groupby('Elec').mean().CF\n",
    "\n",
    "        weights = df_freq\n",
    "        weights.name = 'group'\n",
    "\n",
    "        zweights = weights.apply(lambda x: (x-weights.mean())/weights.std())\n",
    "\n",
    "        roi = df_freq.reset_index().apply(lambda row: get_ROI(subj, row.Elec, brain_ROI), axis = 1)\n",
    "        roi.name = 'ROI'\n",
    "        df_freq = df_freq.reset_index().join(roi)\n",
    "        df_freq['task'] = task\n",
    "\n",
    "        df = df.append(df_freq)\n",
    "\n",
    "    df_freq = df    \n",
    "    f = {'Elec':['count'], 'group':['mean','sem']}\n",
    "    df_summ = df_freq.groupby('ROI').agg(f)\n",
    "    #ROIs = (df_summ.Elec>5).index.tolist()\n",
    "    ROIs = df_summ[(df_summ.Elec>5)['count']].index.tolist() #drop those with <5 elecs\n",
    "\n",
    "    #BY ROI\n",
    "    ROIs_of_interest = ['ATL','MTG', 'MFG', 'Broca', 'Pre_centrl', 'Post_centrl', 'STG', 'R_ATL','R_MTG', 'R_MFG', 'R_Broca', 'R_Pre_centrl', 'R_Post_centrl', 'R_STG']\n",
    "    ROIs = np.intersect1d(ROIs, ROIs_of_interest)\n",
    "\n",
    "    for ROI in ROIs:\n",
    "        dfROI = df_freq[df_freq.ROI == ROI]\n",
    "\n",
    "        #ANOVA\n",
    "        dfROI_lm= smf.ols('group ~ task', data=dfROI).fit() #Specify C for Categorical\n",
    "        dfanova = pd.DataFrame(sm.stats.anova_lm(dfROI_lm, typ=2))\n",
    "\n",
    "        filename = '/Users/matar/Google Drive UCB/SpectralFitting/Figures/bytask/{0}_{1}_{2}-{3}Hz_task_anova.csv'.format(subj, ROI, f1, f2)\n",
    "        #dfanova.to_csv(filename)\n",
    "        print filename\n",
    "\n",
    "        #Tukey HSD + plot\n",
    "        data = MultiComparison(dfROI.group, dfROI.task)\n",
    "        results = data.tukeyhsd(alpha=0.05)\n",
    "\n",
    "        try:\n",
    "            results.plot_simultaneous()\n",
    "        except:\n",
    "            print 'skipping HSD plot {0} {1}'.format(subj, task)\n",
    "            continue\n",
    "\n",
    "        filename = '/Users/matar/Google Drive UCB/SpectralFitting/Figures/bytask/{0}_{1}_{2}-{3}Hz_task_HSD.png'.format(subj, ROI, f1, f2)\n",
    "        plt.savefig(filename)\n",
    "        plt.close()\n",
    "\n",
    "        filename = '/Users/matar/Google Drive UCB/SpectralFitting/Figures/bytask/{0}_{1}_{2}-{3}Hz_task_HSD.csv'.format(subj, ROI, f1, f2)\n",
    "        resultsdf = pd.DataFrame(results.summary().data[1:], columns = results.summary().data[0])\n",
    "        resultsdf.to_csv(filename, index = False)\n",
    "\n",
    "\n",
    "        #plot\n",
    "        #zscore cfs\n",
    "        weights = df_freq[['Elec','group']].set_index('Elec').group\n",
    "        weights.name = 'group'\n",
    "        zweights = weights.apply(lambda x: (x-weights.mean())/weights.std())\n",
    "\n",
    "        #xycoords\n",
    "        xycoords = reconlist[reconlist.subj_task == '_'.join([subj, task])].xyfile.iloc[0]\n",
    "        if isinstance(xycoords, float): #no explicit xycoord path\n",
    "            xycoords = 'xycoords.p'\n",
    "        xyfilepath = '/Users/matar/Documents/PYTHON/Subjs/{0}/{1}'.format(subj, xycoords)\n",
    "        with open(xyfilepath, 'r') as f:\n",
    "            xycoords = pickle.load(f)\n",
    "            f.close()\n",
    "        xycoords = pd.DataFrame(np.array(xycoords.values()), columns=['x_2d', 'y_2d'], index=np.array(xycoords.keys())+1)\n",
    "\n",
    "        #recon\n",
    "        reconfile = reconlist[reconlist.subj_task == '_'.join([subj, task])].reconfile.iloc[0]\n",
    "        recon_filepath = '/Users/matar/Documents/PYTHON/Subjs/{0}/{1}'.format(subj, reconfile)\n",
    "\n",
    "        #plot\n",
    "        f, ax1 = plt.subplots(figsize = (10,10))\n",
    "        brain_clusters.plot_xy_map(zweights, locs = xycoords.loc[zweights.index], ax = ax1, szmult=200,\n",
    "                                   im_path = recon_filepath, cbar = True, cmap=plt.get_cmap('bwr'),\n",
    "                                   vaxes = [vmin, vmax])\n",
    "\n",
    "        ax1.set_title('{0} {1} - zscored {2}-{3}Hz (mean peak {4:.2f}Hz)'.format(subj, ROI, f1, f2, weights.mean()))\n",
    "\n",
    "        filename = '/Users/matar/Google Drive UCB/SpectralFitting/Figures/bytask/{0}_{1}_zscored_{2}-{3}Hz.png'.format(subj, ROI, f1, f2)\n",
    "        plt.savefig(filename)\n",
    "        plt.close()\n"
   ]
  },
  {
   "cell_type": "code",
   "execution_count": null,
   "metadata": {
    "collapsed": false
   },
   "outputs": [],
   "source": [
    "f1, f2 = (4, 14)\n",
    "\n",
    "subj, task = ('GP15','EmoGen')\n",
    "filename = '/Users/matar/Google Drive UCB/SpectralFitting/ECOG (1)/ECOG_rebinned/{0}_{1}/params_binned.csv'.format(subj, task)\n",
    "df_all = pd.read_csv(filename)\n",
    "df_Gen = df_all[(df_all.CF>f1) & (df_all.CF<f2)].groupby('Elec').first().CF\n",
    "df_Gen_z = df_Gen.apply(lambda x: (x-df_Gen.mean())/df_Gen.std())\n",
    "\n",
    "\n",
    "subj, task = ('GP15','EmoRep')\n",
    "filename = '/Users/matar/Google Drive UCB/SpectralFitting/ECOG (1)/ECOG_rebinned/{0}_{1}/params_binned.csv'.format(subj, task)\n",
    "df_all = pd.read_csv(filename)\n",
    "df_Rep = df_all[(df_all.CF>f1) & (df_all.CF<f2)].groupby('Elec').first().CF\n",
    "df_Rep_z = df_Rep.apply(lambda x: (x-df_Rep.mean())/df_Rep.std())\n",
    "\n",
    "df_freq_z = df_Gen_z - df_Rep_z"
   ]
  },
  {
   "cell_type": "code",
   "execution_count": null,
   "metadata": {
    "collapsed": false
   },
   "outputs": [],
   "source": [
    "weights = df_freq_z\n",
    "weights.name = 'group'\n",
    "\n",
    "(df_freq.min(), df_freq.max())"
   ]
  },
  {
   "cell_type": "code",
   "execution_count": null,
   "metadata": {
    "collapsed": false
   },
   "outputs": [],
   "source": [
    "(weights.min(), weights.max())"
   ]
  },
  {
   "cell_type": "code",
   "execution_count": null,
   "metadata": {
    "collapsed": false
   },
   "outputs": [],
   "source": [
    "f, ax1 = plt.subplots(figsize = (10,10))\n",
    "vmin, vmax = (-5, 5)\n",
    "brain_clusters.plot_xy_map(weights, locs = xycoords.loc[weights.index], ax = ax1, szmult=200, im_path = recon_filepath, cbar = True, cmap=plt.get_cmap('bwr'), vaxes = [-3, 3])\n",
    "#ax1.set_title('{0} {1} : {2} - {3}Hz'.format(subj, task, f1, f2))\n",
    "#ax1.set_title('{0} EmoGen - EmoRep : {1} - {2}Hz (mean in window)'.format(subj, f1, f2))\n",
    "ax1.set_title('{0} EmoGen - EmoRep : zscore difference (mean in window)'.format(subj))"
   ]
  },
  {
   "cell_type": "code",
   "execution_count": null,
   "metadata": {
    "collapsed": false
   },
   "outputs": [],
   "source": [
    "f, ax1 = plt.subplots(figsize = (10,10))\n",
    "vmin, vmax = (-5, 5)\n",
    "brain_clusters.plot_xy_map(weights, locs = xycoords.loc[weights.index], ax = ax1, szmult=200, im_path = recon_filepath, cbar = True, cmap=plt.get_cmap('bwr'), vaxes = [-4, 4])\n",
    "#ax1.set_title('{0} {1} : {2} - {3}Hz'.format(subj, task, f1, f2))\n",
    "ax1.set_title('{0} EmoGen - EmoRep : {1} - {2}Hz (first peak in window)'.format(subj, f1, f2))"
   ]
  },
  {
   "cell_type": "code",
   "execution_count": null,
   "metadata": {
    "collapsed": false
   },
   "outputs": [],
   "source": [
    "f, ax1 = plt.subplots(figsize = (10,10))\n",
    "vmin, vmax = (-5, 5)\n",
    "brain_clusters.plot_xy_map(weights, locs = xycoords.loc[weights.index], ax = ax1, szmult=200, im_path = recon_filepath, cbar = True, cmap=plt.get_cmap('bwr'), vaxes = [-4, 4])\n",
    "#ax1.set_title('{0} {1} : {2} - {3}Hz'.format(subj, task, f1, f2))\n",
    "ax1.set_title('{0} EmoGen - EmoRep : {1} - {2}Hz (last peak in window)'.format(subj, f1, f2))"
   ]
  },
  {
   "cell_type": "code",
   "execution_count": null,
   "metadata": {
    "collapsed": false
   },
   "outputs": [],
   "source": []
  },
  {
   "cell_type": "code",
   "execution_count": null,
   "metadata": {
    "collapsed": true
   },
   "outputs": [],
   "source": []
  },
  {
   "cell_type": "code",
   "execution_count": null,
   "metadata": {
    "collapsed": true
   },
   "outputs": [],
   "source": []
  }
 ],
 "metadata": {
  "kernelspec": {
   "display_name": "Python 2",
   "language": "python",
   "name": "python2"
  },
  "language_info": {
   "codemirror_mode": {
    "name": "ipython",
    "version": 2
   },
   "file_extension": ".py",
   "mimetype": "text/x-python",
   "name": "python",
   "nbconvert_exporter": "python",
   "pygments_lexer": "ipython2",
   "version": "2.7.11"
  }
 },
 "nbformat": 4,
 "nbformat_minor": 0
}
