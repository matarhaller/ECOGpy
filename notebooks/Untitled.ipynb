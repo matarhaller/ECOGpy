{
 "cells": [
  {
   "cell_type": "code",
   "execution_count": null,
   "metadata": {
    "collapsed": true
   },
   "outputs": [],
   "source": [
    "%pylab inline"
   ]
  },
  {
   "cell_type": "code",
   "execution_count": null,
   "metadata": {
    "collapsed": true
   },
   "outputs": [],
   "source": [
    "import scipy as sp\n",
    "import scipy.io as scio\n",
    "import tables\n",
    "import pandas as pd\n",
    "import os\n",
    "import numpy as np\n",
    "import mne\n",
    "\n",
    "import sys\n",
    "from sklearn.preprocessing import scale\n",
    "import h5io"
   ]
  },
  {
   "cell_type": "code",
   "execution_count": 76,
   "metadata": {
    "collapsed": false
   },
   "outputs": [],
   "source": [
    "import loadmat\n",
    "import os\n",
    "import mne\n",
    "import numpy as np"
   ]
  },
  {
   "cell_type": "code",
   "execution_count": 5,
   "metadata": {
    "collapsed": true
   },
   "outputs": [],
   "source": [
    "SJdir = '/home/knight/matar/MATLAB/DATA/Avgusta'"
   ]
  },
  {
   "cell_type": "code",
   "execution_count": 11,
   "metadata": {
    "collapsed": false
   },
   "outputs": [],
   "source": [
    "filename = os.path.join(SJdir, 'Subjs', 'ST27', 'DecisionVis', 'gdat_notch.mat')\n",
    "data_dict = loadmat.loadmat(filename)\n",
    "gdat = data_dict['gdat']"
   ]
  },
  {
   "cell_type": "code",
   "execution_count": 31,
   "metadata": {
    "collapsed": false
   },
   "outputs": [],
   "source": [
    "filename = os.path.join(SJdir, 'Subjs', 'ST27', 'DecisionVis', 'subj_globals.mat')\n",
    "data_dict = loadmat.loadmat(filename)\n",
    "elecs = data_dict['elecs']\n",
    "srate = data_dict['srate']"
   ]
  },
  {
   "cell_type": "code",
   "execution_count": 32,
   "metadata": {
    "collapsed": true
   },
   "outputs": [],
   "source": [
    "filename = os.path.join(SJdir, 'Subjs', 'ST27', 'DecisionVis', 'onsets_stim.mat')\n",
    "data_dict = loadmat.loadmat(filename)\n",
    "onsets_stim = data_dict['onsets_stim']\n",
    "\n",
    "filename = os.path.join(SJdir, 'Subjs', 'ST27', 'DecisionVis', 'onsets_resp.mat')\n",
    "data_dict = loadmat.loadmat(filename)\n",
    "onsets_resp = data_dict['onsets_resp']\n",
    "\n"
   ]
  },
  {
   "cell_type": "code",
   "execution_count": 57,
   "metadata": {
    "collapsed": false
   },
   "outputs": [
    {
     "name": "stdout",
     "output_type": "stream",
     "text": [
      "Creating RawArray with float64 data, n_channels=81, n_times=1672000\n",
      "    Range : 0 ... 1671999 =      0.000 ...  1671.999 secs\n",
      "Ready.\n"
     ]
    }
   ],
   "source": [
    "info = mne.create_info([str(e) for e in (elecs-1)], srate)\n",
    "data = mne.io.RawArray(gdat[elecs-1,:], info)"
   ]
  },
  {
   "cell_type": "code",
   "execution_count": 64,
   "metadata": {
    "collapsed": false,
    "scrolled": true
   },
   "outputs": [
    {
     "name": "stdout",
     "output_type": "stream",
     "text": [
      "Writing /home/knight/matar/MATLAB/DATA/Avgusta/Subjs/ST27/DecisionVis/gdat_notch.fif\n",
      "Writing ...\n",
      "Writing ...\n",
      "Writing ...\n",
      "Writing ...\n",
      "Writing ...\n",
      "Writing ...\n",
      "Writing ...\n",
      "Writing ...\n",
      "Writing ...\n",
      "Writing ...\n",
      "Writing ...\n",
      "Writing ...\n",
      "Writing ...\n",
      "Writing ...\n",
      "Writing ...\n",
      "Writing ...\n",
      "Writing ...\n",
      "Writing ...\n",
      "Writing ...\n",
      "Writing ...\n",
      "Writing ...\n",
      "Writing ...\n",
      "Writing ...\n",
      "Writing ...\n",
      "Writing ...\n",
      "Writing ...\n",
      "Writing ...\n",
      "Writing ...\n",
      "Writing ...\n",
      "Writing ...\n",
      "Writing ...\n",
      "Writing ...\n",
      "Writing ...\n",
      "Writing ...\n",
      "Writing ...\n",
      "Writing ...\n",
      "Writing ...\n",
      "Writing ...\n",
      "Writing ...\n",
      "Writing ...\n",
      "Writing ...\n",
      "Writing ...\n",
      "Writing ...\n",
      "Writing ...\n",
      "Writing ...\n",
      "Writing ...\n",
      "Writing ...\n",
      "Writing ...\n",
      "Writing ...\n",
      "Writing ...\n",
      "Writing ...\n",
      "Writing ...\n",
      "Writing ...\n",
      "Writing ...\n",
      "Writing ...\n",
      "Writing ...\n",
      "Writing ...\n",
      "Writing ...\n",
      "Writing ...\n",
      "Writing ...\n",
      "Writing ...\n",
      "Writing ...\n",
      "Writing ...\n",
      "Writing ...\n",
      "Writing ...\n",
      "Writing ...\n",
      "Writing ...\n",
      "Writing ...\n",
      "Writing ...\n",
      "Writing ...\n",
      "Writing ...\n",
      "Writing ...\n",
      "Writing ...\n",
      "Writing ...\n",
      "Writing ...\n",
      "Writing ...\n",
      "Writing ...\n",
      "Writing ...\n",
      "Writing ...\n",
      "Writing ...\n",
      "Writing ...\n",
      "Writing ...\n",
      "Writing ...\n",
      "Writing ...\n",
      "Writing ...\n",
      "Writing ...\n",
      "Writing ...\n",
      "Writing ...\n",
      "Writing ...\n",
      "Writing ...\n",
      "Writing ...\n",
      "Writing ...\n",
      "Writing ...\n",
      "Writing ...\n",
      "Writing ...\n",
      "Writing ...\n",
      "Writing ...\n",
      "Writing ...\n",
      "Writing ...\n",
      "Writing ...\n",
      "Writing ...\n",
      "Writing ...\n",
      "Writing ...\n",
      "Writing ...\n",
      "Writing ...\n",
      "Writing ...\n",
      "Writing ...\n",
      "Writing ...\n",
      "Writing ...\n",
      "Writing ...\n",
      "Writing ...\n",
      "Writing ...\n",
      "Writing ...\n",
      "Writing ...\n",
      "Writing ...\n",
      "Writing ...\n",
      "Writing ...\n",
      "Writing ...\n",
      "Writing ...\n",
      "Writing ...\n",
      "Writing ...\n",
      "Writing ...\n",
      "Writing ...\n",
      "Writing ...\n",
      "Writing ...\n",
      "Writing ...\n",
      "Writing ...\n",
      "Writing ...\n",
      "Writing ...\n",
      "Writing ...\n",
      "Writing ...\n",
      "Writing ...\n",
      "Writing ...\n",
      "Writing ...\n",
      "Writing ...\n",
      "Writing ...\n",
      "Writing ...\n",
      "Writing ...\n",
      "Writing ...\n",
      "Writing ...\n",
      "Writing ...\n",
      "Writing ...\n",
      "Writing ...\n",
      "Writing ...\n",
      "Writing ...\n",
      "Writing ...\n",
      "Writing ...\n",
      "Writing ...\n",
      "Writing ...\n",
      "Writing ...\n",
      "Writing ...\n",
      "Writing ...\n",
      "Writing ...\n",
      "Writing ...\n",
      "Writing ...\n",
      "Writing ...\n",
      "Writing ...\n",
      "Writing ...\n",
      "Writing ...\n",
      "Writing ...\n",
      "Writing ...\n",
      "Writing ...\n",
      "Writing ...\n",
      "Writing ...\n",
      "Writing ...\n",
      "Writing ...\n",
      "Writing ...\n",
      "Writing ...\n",
      "Closing /home/knight/matar/MATLAB/DATA/Avgusta/Subjs/ST27/DecisionVis/gdat_notch.fif [done]\n"
     ]
    },
    {
     "name": "stderr",
     "output_type": "stream",
     "text": [
      "/home/knight/matar/.local/lib/python2.7/site-packages/mne/utils.py:258: UserWarning: This filename (/home/knight/matar/MATLAB/DATA/Avgusta/Subjs/ST27/DecisionVis/gdat_notch.fif) does not conform to MNE naming conventions. All raw files should end with raw.fif, raw_sss.fif, raw_tsss.fif, raw.fif.gz, raw_sss.fif.gz or raw_tsss.fif.gz\n",
      "  '%s' % (fname, filetype, print_endings))\n"
     ]
    }
   ],
   "source": [
    "filename = os.path.join(SJdir, 'Subjs','ST27','DecisionVis', 'gdat_notch.fif')\n",
    "data.save(filename, overwrite=True)"
   ]
  },
  {
   "cell_type": "code",
   "execution_count": 90,
   "metadata": {
    "collapsed": false
   },
   "outputs": [
    {
     "name": "stdout",
     "output_type": "stream",
     "text": [
      "Opening raw data file /home/knight/matar/MATLAB/DATA/Avgusta/Subjs/ST27/DecisionVis/gdat_notch.fif...\n",
      "Isotrak not found\n",
      "    Range : 0 ... 1671999 =      0.000 ...  1671.999 secs\n",
      "Ready.\n",
      "Reading 0 ... 1671999  =      0.000 ...  1671.999 secs...\n",
      "[done]\n",
      "Creating RawArray with float64 data, n_channels=81, n_times=1672000\n",
      "    Range : 0 ... 1671999 =      0.000 ...  1671.999 secs\n",
      "Ready.\n"
     ]
    }
   ],
   "source": [
    "# Load data\n",
    "ecog = mne.io.Raw(filename, preload=True, add_eeg_ref=False)\n",
    "ecog = mne.io.RawArray(ecog._data, ecog.info)"
   ]
  },
  {
   "cell_type": "code",
   "execution_count": 91,
   "metadata": {
    "collapsed": false
   },
   "outputs": [
    {
     "data": {
      "text/plain": [
       "<Raw  |  n_channels x n_times : 81 x 1672000>"
      ]
     },
     "execution_count": 91,
     "metadata": {},
     "output_type": "execute_result"
    }
   ],
   "source": []
  },
  {
   "cell_type": "code",
   "execution_count": 70,
   "metadata": {
    "collapsed": true
   },
   "outputs": [],
   "source": [
    "band_type = 'one'"
   ]
  },
  {
   "cell_type": "code",
   "execution_count": 71,
   "metadata": {
    "collapsed": false
   },
   "outputs": [],
   "source": [
    "if band_type == 'multi':\n",
    "    fmin, fmax = (75, 140)\n",
    "    win_base = 5\n",
    "    freqs = np.logspace(np.log10(fmin), np.log10(fmax), 14)\n",
    "    fwins = win_base * (2 ** (freqs / fmin))\n",
    "elif band_type == 'one':\n",
    "    fmin, fmax = (70, 150)\n",
    "    frange = fmax - fmin\n",
    "    freqs = [fmin + frange/2]\n",
    "    freq = freqs[0]\n",
    "    fwin = frange\n",
    "n_jobs = 1"
   ]
  },
  {
   "cell_type": "code",
   "execution_count": 77,
   "metadata": {
    "collapsed": false
   },
   "outputs": [
    {
     "ename": "RuntimeError",
     "evalue": "Could not find any valid channels for your Raw object. Please contact the MNE-Python developers.",
     "output_type": "error",
     "traceback": [
      "\u001b[1;31m---------------------------------------------------------------------------\u001b[0m",
      "\u001b[1;31mRuntimeError\u001b[0m                              Traceback (most recent call last)",
      "\u001b[1;32m<ipython-input-77-9d7fd1b586a0>\u001b[0m in \u001b[0;36m<module>\u001b[1;34m()\u001b[0m\n\u001b[0;32m     23\u001b[0m \u001b[1;32melse\u001b[0m\u001b[1;33m:\u001b[0m\u001b[1;33m\u001b[0m\u001b[0m\n\u001b[0;32m     24\u001b[0m     \u001b[1;31m# Don't need to worry about frequency scaling etc.\u001b[0m\u001b[1;33m\u001b[0m\u001b[1;33m\u001b[0m\u001b[0m\n\u001b[1;32m---> 25\u001b[1;33m     \u001b[0mecog\u001b[0m\u001b[1;33m.\u001b[0m\u001b[0mfilter\u001b[0m\u001b[1;33m(\u001b[0m\u001b[0mfreq\u001b[0m\u001b[1;33m-\u001b[0m\u001b[0mfwin\u001b[0m\u001b[1;33m/\u001b[0m\u001b[1;36m2\u001b[0m\u001b[1;33m,\u001b[0m \u001b[0mfreq\u001b[0m\u001b[1;33m+\u001b[0m\u001b[0mfwin\u001b[0m\u001b[1;33m/\u001b[0m\u001b[1;36m2\u001b[0m\u001b[1;33m,\u001b[0m \u001b[0mn_jobs\u001b[0m\u001b[1;33m=\u001b[0m\u001b[0mn_jobs\u001b[0m\u001b[1;33m)\u001b[0m\u001b[1;33m\u001b[0m\u001b[0m\n\u001b[0m\u001b[0;32m     26\u001b[0m     ecog.apply_hilbert(range(len(ecog.ch_names)), envelope=True,\n\u001b[0;32m     27\u001b[0m                             n_jobs=n_jobs, n_fft=new_len)\n",
      "\u001b[1;32m/home/knight/matar/.local/lib/python2.7/site-packages/mne/io/base.pyc\u001b[0m in \u001b[0;36mfilter\u001b[1;34m(self, l_freq, h_freq, picks, filter_length, l_trans_bandwidth, h_trans_bandwidth, n_jobs, method, iir_params, verbose)\u001b[0m\n",
      "\u001b[1;32m/home/knight/matar/.local/lib/python2.7/site-packages/mne/utils.pyc\u001b[0m in \u001b[0;36mverbose\u001b[1;34m(function, *args, **kwargs)\u001b[0m\n\u001b[0;32m    539\u001b[0m         \u001b[1;32mfinally\u001b[0m\u001b[1;33m:\u001b[0m\u001b[1;33m\u001b[0m\u001b[0m\n\u001b[0;32m    540\u001b[0m             \u001b[0mset_log_level\u001b[0m\u001b[1;33m(\u001b[0m\u001b[0mold_level\u001b[0m\u001b[1;33m)\u001b[0m\u001b[1;33m\u001b[0m\u001b[0m\n\u001b[1;32m--> 541\u001b[1;33m     \u001b[1;32mreturn\u001b[0m \u001b[0mfunction\u001b[0m\u001b[1;33m(\u001b[0m\u001b[1;33m*\u001b[0m\u001b[0margs\u001b[0m\u001b[1;33m,\u001b[0m \u001b[1;33m**\u001b[0m\u001b[0mkwargs\u001b[0m\u001b[1;33m)\u001b[0m\u001b[1;33m\u001b[0m\u001b[0m\n\u001b[0m\u001b[0;32m    542\u001b[0m \u001b[1;33m\u001b[0m\u001b[0m\n\u001b[0;32m    543\u001b[0m \u001b[1;33m\u001b[0m\u001b[0m\n",
      "\u001b[1;32m/home/knight/matar/.local/lib/python2.7/site-packages/mne/io/base.pyc\u001b[0m in \u001b[0;36mfilter\u001b[1;34m(self, l_freq, h_freq, picks, filter_length, l_trans_bandwidth, h_trans_bandwidth, n_jobs, method, iir_params, verbose)\u001b[0m\n\u001b[0;32m    651\u001b[0m             \u001b[1;31m# let's be safe.\u001b[0m\u001b[1;33m\u001b[0m\u001b[1;33m\u001b[0m\u001b[0m\n\u001b[0;32m    652\u001b[0m             \u001b[1;32mif\u001b[0m \u001b[0mlen\u001b[0m\u001b[1;33m(\u001b[0m\u001b[0mpicks\u001b[0m\u001b[1;33m)\u001b[0m \u001b[1;33m<\u001b[0m \u001b[1;36m1\u001b[0m\u001b[1;33m:\u001b[0m\u001b[1;33m\u001b[0m\u001b[0m\n\u001b[1;32m--> 653\u001b[1;33m                 raise RuntimeError('Could not find any valid channels for '\n\u001b[0m\u001b[0;32m    654\u001b[0m                                    \u001b[1;34m'your Raw object. Please contact the '\u001b[0m\u001b[1;33m\u001b[0m\u001b[0m\n\u001b[0;32m    655\u001b[0m                                    'MNE-Python developers.')\n",
      "\u001b[1;31mRuntimeError\u001b[0m: Could not find any valid channels for your Raw object. Please contact the MNE-Python developers."
     ]
    }
   ],
   "source": [
    "# Make length a pow of 2\n",
    "orig_times = ecog.n_times\n",
    "new_len = int(2**np.ceil(np.log2(orig_times)))\n",
    "\n",
    "# Filter for HG and extract amplitude\n",
    "ecog_bands = np.zeros([len(freqs), len(ecog.ch_names), ecog.n_times])\n",
    "if len(freqs) > 1:\n",
    "    for i, (freq, fwin) in enumerate(zip(freqs, fwins)):\n",
    "        # Extract a range of frequency bands for averaging later\n",
    "        ecog_band = ecog.copy()\n",
    "        ecog_band.filter(freq-fwin/2, freq+fwin/2, n_jobs=n_jobs)\n",
    "        ecog_band.apply_hilbert(range(len(ecog_band.ch_names)), envelope=True,\n",
    "                                n_jobs=n_jobs, n_fft=new_len)\n",
    "        \n",
    "        if normalize is True:\n",
    "            # Scale frequency band so that the ratios of all are the same\n",
    "            ecog_band_mn = ecog_band._data.mean(1)[:, None]\n",
    "            ecog_band._data /= ecog_band_mn\n",
    "        ecog_bands[i] = ecog_band._data.copy()\n",
    "\n",
    "    # Now overwrite the data and save\n",
    "    ecog._data = ecog_bands.mean(0)\n",
    "else:\n",
    "    # Don't need to worry about frequency scaling etc.\n",
    "    ecog.filter(freq-fwin/2, freq+fwin/2, n_jobs=n_jobs)\n",
    "    ecog.apply_hilbert(range(len(ecog.ch_names)), envelope=True,\n",
    "                            n_jobs=n_jobs, n_fft=new_len)"
   ]
  },
  {
   "cell_type": "code",
   "execution_count": null,
   "metadata": {
    "collapsed": true
   },
   "outputs": [],
   "source": []
  },
  {
   "cell_type": "code",
   "execution_count": 62,
   "metadata": {
    "collapsed": false
   },
   "outputs": [],
   "source": [
    "filename = os.path.join(SJdir, 'Subjs','ST27','DecisionVis', 'data.h5')\n",
    "dset = h5py.File(filename, 'w')\n",
    "dset.create_dataset('gdat', data = gdat)"
   ]
  },
  {
   "cell_type": "code",
   "execution_count": 63,
   "metadata": {
    "collapsed": false
   },
   "outputs": [
    {
     "data": {
      "text/plain": [
       "<Closed HDF5 file>"
      ]
     },
     "execution_count": 63,
     "metadata": {},
     "output_type": "execute_result"
    }
   ],
   "source": []
  }
 ],
 "metadata": {
  "kernelspec": {
   "display_name": "Python 2",
   "language": "python",
   "name": "python2"
  },
  "language_info": {
   "codemirror_mode": {
    "name": "ipython",
    "version": 2
   },
   "file_extension": ".py",
   "mimetype": "text/x-python",
   "name": "python",
   "nbconvert_exporter": "python",
   "pygments_lexer": "ipython2",
   "version": "2.7.10"
  }
 },
 "nbformat": 4,
 "nbformat_minor": 0
}
