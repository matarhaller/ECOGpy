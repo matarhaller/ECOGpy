{
 "cells": [
  {
   "cell_type": "code",
   "execution_count": 2,
   "metadata": {
    "collapsed": false
   },
   "outputs": [
    {
     "name": "stdout",
     "output_type": "stream",
     "text": [
      "Once deleted, variables cannot be recovered. Proceed (y/[n])? y\n",
      "Populating the interactive namespace from numpy and matplotlib\n"
     ]
    }
   ],
   "source": [
    "%reset\n",
    "%pylab inline"
   ]
  },
  {
   "cell_type": "code",
   "execution_count": 3,
   "metadata": {
    "collapsed": true
   },
   "outputs": [],
   "source": [
    "sys.path.insert(0, '/home/knight/matar/PYTHON/ECOGpy/')\n"
   ]
  },
  {
   "cell_type": "code",
   "execution_count": 4,
   "metadata": {
    "collapsed": false
   },
   "outputs": [],
   "source": [
    "from utils import loadmat\n",
    "import brewer2mpl\n",
    "from __future__ import division\n",
    "import os\n",
    "import pandas as pd\n",
    "import glob\n",
    "import numpy as np\n",
    "from scipy import stats\n",
    "import matplotlib.pyplot as plt\n",
    "from matplotlib.ticker import MultipleLocator, FormatStrFormatter\n",
    "from matplotlib.transforms import blended_transform_factory"
   ]
  },
  {
   "cell_type": "code",
   "execution_count": 5,
   "metadata": {
    "collapsed": true
   },
   "outputs": [],
   "source": [
    "SJdir = '/home/knight/matar/MATLAB/DATA/Avgusta/'\n",
    "reconlist = os.path.join(SJdir, 'PCA', 'reconlist_pruned.csv')\n",
    "reconlist = pd.read_csv(reconlist)"
   ]
  },
  {
   "cell_type": "code",
   "execution_count": 6,
   "metadata": {
    "collapsed": true
   },
   "outputs": [],
   "source": [
    "filename = os.path.join(SJdir,'PCA', 'RTs','RT_summary_offsets.csv')\n",
    "dfRT = pd.read_csv(filename)"
   ]
  },
  {
   "cell_type": "code",
   "execution_count": 7,
   "metadata": {
    "collapsed": false
   },
   "outputs": [
    {
     "name": "stderr",
     "output_type": "stream",
     "text": [
      "/srv/local/anaconda-2.4.0/lib/python2.7/site-packages/ipykernel/__main__.py:1: FutureWarning: sort(columns=....) is deprecated, use sort_values(by=.....)\n",
      "  if __name__ == '__main__':\n"
     ]
    },
    {
     "data": {
      "text/plain": [
       "task\n",
       "FaceGen         326.972271\n",
       "FaceEmo         343.521582\n",
       "DecisionVis     362.477948\n",
       "EmoRep          450.391355\n",
       "DecisionAud     970.304267\n",
       "SelfAud        1005.175139\n",
       "SelfVis        1060.270927\n",
       "EmoGen         1408.861925\n",
       "Name: RTs_mean, dtype: float64"
      ]
     },
     "execution_count": 7,
     "metadata": {},
     "output_type": "execute_result"
    }
   ],
   "source": [
    "tmp = dfRT.groupby('task').mean().sort('RTs_mean')\n",
    "tmp['RTs_mean']"
   ]
  },
  {
   "cell_type": "code",
   "execution_count": 8,
   "metadata": {
    "collapsed": true
   },
   "outputs": [],
   "source": [
    "stim_dur_dict = {'DecisionAud':600, 'DecisionVis':500, 'FaceEmo':300, 'FaceGen':300, 'SelfVis':400}\n",
    "#from offset\n",
    "dfall = pd.DataFrame()\n",
    "df = pd.DataFrame()\n",
    "for x in reconlist.values:\n",
    "    subj_task, recon, _,srate, _ = x\n",
    "    \n",
    "    if (isinstance(recon, float)): #no recon\n",
    "        continue\n",
    "        \n",
    "    subj, task = subj_task.split('_')\n",
    "\n",
    "    #load onsets_stim and onsets_resp\n",
    "    filenames = glob.glob(os.path.join(SJdir, 'Subjs', subj, task, 'onsets*.mat'))\n",
    "    filenames = [s for s in filenames if 'empty' not in s]\n",
    "    \n",
    "    data_dict = dict()\n",
    "    for f in filenames:\n",
    "        data_dict.update(loadmat.loadmat(f))\n",
    "        \n",
    "    varnames = [x.split('/')[-1].split('.')[0] for x in filenames]\n",
    "    varnames.remove('onsets_cue') if 'onsets_cue' in varnames else 1 #drop onsets_cue for my data\n",
    "    \n",
    "    #assign onsets_stim and _resp to correct variables (hacky because of weird naming structure in orig data)\n",
    "    idx = ['resp' in x for x in varnames]\n",
    "    idx_resp = [i for i, elem in enumerate(idx) if elem][0]\n",
    "    idx_stim = [i for i, elem in enumerate(idx) if not(elem)][0]\n",
    "\n",
    "    tmp = [data_dict.get(k) for k in varnames]\n",
    "    onsets_resp = tmp[idx_resp]\n",
    "    onsets_stim = tmp[idx_stim]\n",
    "    \n",
    "    RTs = onsets_resp - onsets_stim\n",
    "    goodidx = (RTs > (RTs.mean() - 3 * RTs.std())) & (RTs < RTs.mean() + 3 * RTs.std())\n",
    "    onsets_resp = onsets_resp[goodidx]\n",
    "    onsets_stim = onsets_stim[goodidx]\n",
    "        \n",
    "    onsets_resp = onsets_resp/srate*1000\n",
    "    onsets_stim = onsets_stim/srate*1000\n",
    "    \n",
    "    #load stimulus duration for auditory tasks with variable durations\n",
    "    if (task == 'SelfAud') | (task == 'EmoRep') | (task == 'EmoGen'):\n",
    "        filename = os.path.join(SJdir, 'Subjs', subj, task, 'stim_dur.mat')\n",
    "        data_dict = loadmat.loadmat(filename)\n",
    "        stim_dur = data_dict['stim_dur']\n",
    "        stim_dur = stim_dur[goodidx]\n",
    "    else:\n",
    "        stim_dur = np.tile(stim_dur_dict[task], onsets_stim.size)\n",
    "\n",
    "    \n",
    "    RT_offsets = onsets_resp - (onsets_stim + stim_dur)\n",
    "    \n",
    "    df = pd.DataFrame({'subj': np.tile(subj, RT_offsets.shape), 'task':np.tile(task, RT_offsets.shape), 'RTs':RT_offsets})\n",
    "    dfall = dfall.append(df)"
   ]
  },
  {
   "cell_type": "code",
   "execution_count": 9,
   "metadata": {
    "collapsed": false
   },
   "outputs": [
    {
     "data": {
      "text/plain": [
       "array(['CP7', 'CP9', 'GP15', 'GP28', 'GP35', 'JH10', 'JH17', 'JH2', 'JH5',\n",
       "       'JH6', 'ST1', 'ST15', 'ST27', 'ST32', 'ST4', 'ST6'], dtype=object)"
      ]
     },
     "execution_count": 9,
     "metadata": {},
     "output_type": "execute_result"
    }
   ],
   "source": [
    "np.unique(dfall.subj)"
   ]
  },
  {
   "cell_type": "code",
   "execution_count": 10,
   "metadata": {
    "collapsed": true
   },
   "outputs": [],
   "source": [
    "#create dataframe\n",
    "RTs_n = list(); RTs_mean = list(); RTs_std = list(); RTs_range = list(); RTs_skew = list(); subjs = list(); tasks = list()\n",
    "\n",
    "for r in dfall.groupby(['subj','task']):\n",
    "    s, t = r[0]\n",
    "    RTs = r[1]['RTs']\n",
    "    RTs_mean.append(RTs.mean())\n",
    "    RTs_std.append(RTs.std())\n",
    "    RTs_range.append((max(RTs)-min(RTs)))\n",
    "    RTs_skew.append(stats.kurtosis(RTs))\n",
    "    RTs_n.append(len(RTs))\n",
    "    subjs.append(s)\n",
    "    tasks.append(t)\n",
    "\n",
    "df = pd.DataFrame()\n",
    "df['subj'] = subjs\n",
    "df['task'] = tasks\n",
    "df['RTs_mean'] = RTs_mean\n",
    "df['RTs_std'] = RTs_std\n",
    "df['RTs_range'] = RTs_range\n",
    "df['RTs_skew'] = RTs_skew\n",
    "\n"
   ]
  },
  {
   "cell_type": "code",
   "execution_count": 11,
   "metadata": {
    "collapsed": false
   },
   "outputs": [
    {
     "name": "stderr",
     "output_type": "stream",
     "text": [
      "/srv/local/anaconda-2.4.0/lib/python2.7/site-packages/ipykernel/__main__.py:1: FutureWarning: sort(columns=....) is deprecated, use sort_values(by=.....)\n",
      "  if __name__ == '__main__':\n"
     ]
    },
    {
     "data": {
      "text/plain": [
       "task\n",
       "DecisionVis     265.509809\n",
       "FaceGen         326.972271\n",
       "FaceEmo         343.521582\n",
       "EmoRep          474.901550\n",
       "DecisionAud     954.727233\n",
       "SelfAud        1044.463068\n",
       "SelfVis        1060.270927\n",
       "EmoGen         1408.861925\n",
       "Name: RTs_mean, dtype: float64"
      ]
     },
     "execution_count": 11,
     "metadata": {},
     "output_type": "execute_result"
    }
   ],
   "source": [
    "tmp = df.groupby('task').mean().sort('RTs_mean')\n",
    "tmp['RTs_mean']"
   ]
  },
  {
   "cell_type": "code",
   "execution_count": 12,
   "metadata": {
    "collapsed": false
   },
   "outputs": [
    {
     "data": {
      "text/plain": [
       "954.72723325062043"
      ]
     },
     "execution_count": 12,
     "metadata": {},
     "output_type": "execute_result"
    }
   ],
   "source": [
    "df.groupby('task').mean().loc['DecisionAud']['RTs_mean']"
   ]
  },
  {
   "cell_type": "code",
   "execution_count": 13,
   "metadata": {
    "collapsed": false
   },
   "outputs": [
    {
     "data": {
      "text/plain": [
       "task\n",
       "DecisionAud     2\n",
       "DecisionVis     2\n",
       "EmoGen          4\n",
       "EmoRep          8\n",
       "FaceEmo         4\n",
       "FaceGen         2\n",
       "SelfAud        10\n",
       "SelfVis         5\n",
       "Name: subj, dtype: int64"
      ]
     },
     "execution_count": 13,
     "metadata": {},
     "output_type": "execute_result"
    }
   ],
   "source": [
    "df.groupby('task').count().subj"
   ]
  },
  {
   "cell_type": "code",
   "execution_count": 14,
   "metadata": {
    "collapsed": false
   },
   "outputs": [
    {
     "data": {
      "text/plain": [
       "16"
      ]
     },
     "execution_count": 14,
     "metadata": {},
     "output_type": "execute_result"
    }
   ],
   "source": [
    "len(df.groupby('subj').count().index)"
   ]
  },
  {
   "cell_type": "code",
   "execution_count": 15,
   "metadata": {
    "collapsed": false
   },
   "outputs": [
    {
     "data": {
      "text/plain": [
       "8"
      ]
     },
     "execution_count": 15,
     "metadata": {},
     "output_type": "execute_result"
    }
   ],
   "source": [
    "num_tasks = len(df.groupby('task').count().index)\n",
    "num_tasks"
   ]
  },
  {
   "cell_type": "code",
   "execution_count": 18,
   "metadata": {
    "collapsed": true
   },
   "outputs": [],
   "source": [
    "names_dict = {'DecisionAud' : 'Auditory\\nCategorization', \\\n",
    "              'DecisionVis' : 'Visual\\nCategorization', \\\n",
    "             'EmoGen' : 'Antonym\\nGeneration', \\\n",
    "             'EmoRep' : 'Word\\nRepetition', \\\n",
    "             'FaceEmo' :'Face Emotion\\nCategorization', \\\n",
    "             'FaceGen' : 'Face Gender\\nCategorization', \\\n",
    "             'SelfAud' : 'Auditory\\nSelf Referential\\nCategorization', \\\n",
    "             'SelfVis' : 'Visual\\nSelf Referential\\nCategorization'}"
   ]
  },
  {
   "cell_type": "code",
   "execution_count": 21,
   "metadata": {
    "collapsed": false
   },
   "outputs": [
    {
     "data": {
      "image/png": "[encoded data removed]",
      "text/plain": [
       "<matplotlib.figure.Figure at 0x7efebe6e3150>"
      ]
     },
     "metadata": {},
     "output_type": "display_data"
    }
   ],
   "source": [
    "set2 = brewer2mpl.get_map('Dark2', 'Qualitative', num_tasks).mpl_colors\n",
    "fig, ax = plt.subplots(num_tasks,sharex=True, figsize = (8, 20),subplot_kw=dict(axisbg='#EEEEEE'))\n",
    "plt.tight_layout\n",
    "\n",
    "left, width = .25, .75\n",
    "bottom, height = .25, .70\n",
    "right = left + width\n",
    "top = bottom + height\n",
    "\n",
    "\n",
    "for i, t in enumerate(tmp.index):\n",
    "    ax[i].patch.set_facecolor('white')\n",
    "\n",
    "    ax[i].autoscale(tight=True)\n",
    "    ax[i].spines['top'].set_visible(False)\n",
    "    ax[i].spines['right'].set_visible(False)\n",
    "    ax[i].get_xaxis().tick_bottom()\n",
    "    ax[i].get_yaxis().tick_left()\n",
    "    ax[i].yaxis.set_tick_params(labelsize = 18, width = 0)\n",
    "    ax[i].xaxis.set_tick_params(labelsize = 18, width = 0)\n",
    "    #majorLocator   = MultipleLocator(5)\n",
    "    #majorFormatter = FormatStrFormatter('%d')\n",
    "    \n",
    "    #ax[i].yaxis.set_major_locator(majorLocator)\n",
    "    #ax[i].yaxis.set_major_formatter(majorFormatter)\n",
    "\n",
    "#     ax[i].text(right, top, names_dict[t],\n",
    "#             horizontalalignment='right',\n",
    "#             verticalalignment='top',\n",
    "#             transform=ax[i].transAxes, fontsize = 24, weight = 'bold')    \n",
    "    \n",
    "    #ax[i].set_ylabel('Trials', fontsize = 24, weight = 'bold')\n",
    "    \n",
    "    \n",
    "for i, task in enumerate(tmp.index): #ordered by increasing mean\n",
    "    data = dfall.loc[dfall['task'] == task].dropna()\n",
    "    \n",
    "    for s in data.groupby('subj'):\n",
    "        data = s[1]['RTs']\n",
    "        binwidth = 50\n",
    "        ax[i].hist(data, bins=np.arange(min(data), max(data) + binwidth, binwidth), color = set2[i], alpha = 0.5, edgecolor = 'white')\n",
    "        #x = s[1]['RTs'].hist(ax = ax[i], alpha = 0.5, grid = False, xlabelsize= 20, ylabelsize = 16, edgecolor = 'white', label = s[0])\n",
    "        #x.legend()\n",
    "        ax[i].xaxis.set_tick_params(labelsize = 18, length = 3, width = 2)\n",
    "        ax[i].set_xticks(np.arange(0, 4500, 500))    \n",
    "        plt.setp(ax[i].get_xticklabels()[1::2], visible=False)\n",
    "\n",
    "#         mn = df.groupby('task').mean().loc[task]['RTs_mean']\n",
    "#         sd = df.groupby('task').mean().loc[task]['RTs_std']\n",
    "#         label = 'MN=%.2f\\nSD=%.2f' %(mn, sd)\n",
    "        \n",
    "        tform = blended_transform_factory(ax[i].transData, ax[i].transAxes)\n",
    "        ax[i].annotate(names_dict[task], xy=(3500, 0), xycoords=tform, \n",
    "            xytext=(3500, 0.8), textcoords=tform, fontsize=18,\n",
    "            ha='center', va='center')\n",
    "                \n",
    "plt.savefig(os.path.join(SJdir, 'PCA', 'Figures','RT_hists_alpha_offset_withlabel_withticks.png'), transparent = True)        "
   ]
  },
  {
   "cell_type": "code",
   "execution_count": null,
   "metadata": {
    "collapsed": true
   },
   "outputs": [],
   "source": []
  },
  {
   "cell_type": "markdown",
   "metadata": {},
   "source": [
    "# from onset (not used)"
   ]
  },
  {
   "cell_type": "code",
   "execution_count": 19,
   "metadata": {
    "collapsed": false,
    "scrolled": true
   },
   "outputs": [
    {
     "ename": "KeyboardInterrupt",
     "evalue": "",
     "output_type": "error",
     "traceback": [
      "\u001b[0;31m---------------------------------------------------------------------------\u001b[0m",
      "\u001b[0;31mKeyboardInterrupt\u001b[0m                         Traceback (most recent call last)",
      "\u001b[0;32m<ipython-input-19-5ea617c57222>\u001b[0m in \u001b[0;36m<module>\u001b[0;34m()\u001b[0m\n\u001b[1;32m     10\u001b[0m \u001b[0;34m\u001b[0m\u001b[0m\n\u001b[1;32m     11\u001b[0m     \u001b[0mfilename\u001b[0m \u001b[0;34m=\u001b[0m \u001b[0mos\u001b[0m\u001b[0;34m.\u001b[0m\u001b[0mpath\u001b[0m\u001b[0;34m.\u001b[0m\u001b[0mjoin\u001b[0m\u001b[0;34m(\u001b[0m\u001b[0mSJdir\u001b[0m\u001b[0;34m,\u001b[0m \u001b[0;34m'Subjs'\u001b[0m\u001b[0;34m,\u001b[0m \u001b[0msubj\u001b[0m\u001b[0;34m,\u001b[0m \u001b[0mtask\u001b[0m\u001b[0;34m,\u001b[0m \u001b[0;34m'HG_elecMTX_percent.mat'\u001b[0m\u001b[0;34m)\u001b[0m\u001b[0;34m\u001b[0m\u001b[0m\n\u001b[0;32m---> 12\u001b[0;31m     \u001b[0mdata\u001b[0m \u001b[0;34m=\u001b[0m \u001b[0mloadmat\u001b[0m\u001b[0;34m.\u001b[0m\u001b[0mloadmat\u001b[0m\u001b[0;34m(\u001b[0m\u001b[0mfilename\u001b[0m\u001b[0;34m)\u001b[0m\u001b[0;34m\u001b[0m\u001b[0m\n\u001b[0m\u001b[1;32m     13\u001b[0m     \u001b[0msrate\u001b[0m \u001b[0;34m=\u001b[0m \u001b[0mdata\u001b[0m\u001b[0;34m[\u001b[0m\u001b[0;34m'srate'\u001b[0m\u001b[0;34m]\u001b[0m\u001b[0;34m\u001b[0m\u001b[0m\n\u001b[1;32m     14\u001b[0m     \u001b[0mRT\u001b[0m \u001b[0;34m=\u001b[0m \u001b[0mdata\u001b[0m\u001b[0;34m[\u001b[0m\u001b[0;34m'RTs'\u001b[0m\u001b[0;34m]\u001b[0m\u001b[0;34m.\u001b[0m\u001b[0mflatten\u001b[0m\u001b[0;34m(\u001b[0m\u001b[0;34m)\u001b[0m\u001b[0;34m/\u001b[0m\u001b[0msrate\u001b[0m\u001b[0;34m*\u001b[0m\u001b[0;36m1000\u001b[0m \u001b[0;31m#convert to ms\u001b[0m\u001b[0;34m\u001b[0m\u001b[0m\n",
      "\u001b[0;32m/home/knight/matar/PYTHON/ECOGpy/utils/loadmat.pyc\u001b[0m in \u001b[0;36mloadmat\u001b[0;34m(filename)\u001b[0m\n\u001b[1;32m     13\u001b[0m     \u001b[0mwhich\u001b[0m \u001b[0mare\u001b[0m \u001b[0mstill\u001b[0m \u001b[0mmat\u001b[0m\u001b[0;34m-\u001b[0m\u001b[0mobjects\u001b[0m\u001b[0;34m\u001b[0m\u001b[0m\n\u001b[1;32m     14\u001b[0m     \"\"\"\n\u001b[0;32m---> 15\u001b[0;31m     \u001b[0mdata\u001b[0m \u001b[0;34m=\u001b[0m \u001b[0mspio\u001b[0m\u001b[0;34m.\u001b[0m\u001b[0mloadmat\u001b[0m\u001b[0;34m(\u001b[0m\u001b[0mfilename\u001b[0m\u001b[0;34m,\u001b[0m \u001b[0mstruct_as_record\u001b[0m\u001b[0;34m=\u001b[0m\u001b[0mFalse\u001b[0m\u001b[0;34m,\u001b[0m \u001b[0msqueeze_me\u001b[0m\u001b[0;34m=\u001b[0m\u001b[0mTrue\u001b[0m\u001b[0;34m)\u001b[0m\u001b[0;34m\u001b[0m\u001b[0m\n\u001b[0m\u001b[1;32m     16\u001b[0m     \u001b[0;32mreturn\u001b[0m \u001b[0m_check_keys\u001b[0m\u001b[0;34m(\u001b[0m\u001b[0mdata\u001b[0m\u001b[0;34m)\u001b[0m\u001b[0;34m\u001b[0m\u001b[0m\n\u001b[1;32m     17\u001b[0m \u001b[0;34m\u001b[0m\u001b[0m\n",
      "\u001b[0;32m/usr/local/anaconda-2.4.0/lib/python2.7/site-packages/scipy/io/matlab/mio.pyc\u001b[0m in \u001b[0;36mloadmat\u001b[0;34m(file_name, mdict, appendmat, **kwargs)\u001b[0m\n\u001b[1;32m    134\u001b[0m     \u001b[0mvariable_names\u001b[0m \u001b[0;34m=\u001b[0m \u001b[0mkwargs\u001b[0m\u001b[0;34m.\u001b[0m\u001b[0mpop\u001b[0m\u001b[0;34m(\u001b[0m\u001b[0;34m'variable_names'\u001b[0m\u001b[0;34m,\u001b[0m \u001b[0mNone\u001b[0m\u001b[0;34m)\u001b[0m\u001b[0;34m\u001b[0m\u001b[0m\n\u001b[1;32m    135\u001b[0m     \u001b[0mMR\u001b[0m \u001b[0;34m=\u001b[0m \u001b[0mmat_reader_factory\u001b[0m\u001b[0;34m(\u001b[0m\u001b[0mfile_name\u001b[0m\u001b[0;34m,\u001b[0m \u001b[0mappendmat\u001b[0m\u001b[0;34m,\u001b[0m \u001b[0;34m**\u001b[0m\u001b[0mkwargs\u001b[0m\u001b[0;34m)\u001b[0m\u001b[0;34m\u001b[0m\u001b[0m\n\u001b[0;32m--> 136\u001b[0;31m     \u001b[0mmatfile_dict\u001b[0m \u001b[0;34m=\u001b[0m \u001b[0mMR\u001b[0m\u001b[0;34m.\u001b[0m\u001b[0mget_variables\u001b[0m\u001b[0;34m(\u001b[0m\u001b[0mvariable_names\u001b[0m\u001b[0;34m)\u001b[0m\u001b[0;34m\u001b[0m\u001b[0m\n\u001b[0m\u001b[1;32m    137\u001b[0m     \u001b[0;32mif\u001b[0m \u001b[0mmdict\u001b[0m \u001b[0;32mis\u001b[0m \u001b[0;32mnot\u001b[0m \u001b[0mNone\u001b[0m\u001b[0;34m:\u001b[0m\u001b[0;34m\u001b[0m\u001b[0m\n\u001b[1;32m    138\u001b[0m         \u001b[0mmdict\u001b[0m\u001b[0;34m.\u001b[0m\u001b[0mupdate\u001b[0m\u001b[0;34m(\u001b[0m\u001b[0mmatfile_dict\u001b[0m\u001b[0;34m)\u001b[0m\u001b[0;34m\u001b[0m\u001b[0m\n",
      "\u001b[0;32m/usr/local/anaconda-2.4.0/lib/python2.7/site-packages/scipy/io/matlab/mio5.pyc\u001b[0m in \u001b[0;36mget_variables\u001b[0;34m(self, variable_names)\u001b[0m\n\u001b[1;32m    290\u001b[0m                 \u001b[0;32mcontinue\u001b[0m\u001b[0;34m\u001b[0m\u001b[0m\n\u001b[1;32m    291\u001b[0m             \u001b[0;32mtry\u001b[0m\u001b[0;34m:\u001b[0m\u001b[0;34m\u001b[0m\u001b[0m\n\u001b[0;32m--> 292\u001b[0;31m                 \u001b[0mres\u001b[0m \u001b[0;34m=\u001b[0m \u001b[0mself\u001b[0m\u001b[0;34m.\u001b[0m\u001b[0mread_var_array\u001b[0m\u001b[0;34m(\u001b[0m\u001b[0mhdr\u001b[0m\u001b[0;34m,\u001b[0m \u001b[0mprocess\u001b[0m\u001b[0;34m)\u001b[0m\u001b[0;34m\u001b[0m\u001b[0m\n\u001b[0m\u001b[1;32m    293\u001b[0m             \u001b[0;32mexcept\u001b[0m \u001b[0mMatReadError\u001b[0m \u001b[0;32mas\u001b[0m \u001b[0merr\u001b[0m\u001b[0;34m:\u001b[0m\u001b[0;34m\u001b[0m\u001b[0m\n\u001b[1;32m    294\u001b[0m                 warnings.warn(\n",
      "\u001b[0;32m/usr/local/anaconda-2.4.0/lib/python2.7/site-packages/scipy/io/matlab/mio5.pyc\u001b[0m in \u001b[0;36mread_var_array\u001b[0;34m(self, header, process)\u001b[0m\n\u001b[1;32m    250\u001b[0m            \u001b[0;34m`\u001b[0m\u001b[0mprocess\u001b[0m\u001b[0;34m`\u001b[0m\u001b[0;34m.\u001b[0m\u001b[0;34m\u001b[0m\u001b[0m\n\u001b[1;32m    251\u001b[0m         '''\n\u001b[0;32m--> 252\u001b[0;31m         \u001b[0;32mreturn\u001b[0m \u001b[0mself\u001b[0m\u001b[0;34m.\u001b[0m\u001b[0m_matrix_reader\u001b[0m\u001b[0;34m.\u001b[0m\u001b[0marray_from_header\u001b[0m\u001b[0;34m(\u001b[0m\u001b[0mheader\u001b[0m\u001b[0;34m,\u001b[0m \u001b[0mprocess\u001b[0m\u001b[0;34m)\u001b[0m\u001b[0;34m\u001b[0m\u001b[0m\n\u001b[0m\u001b[1;32m    253\u001b[0m \u001b[0;34m\u001b[0m\u001b[0m\n\u001b[1;32m    254\u001b[0m     \u001b[0;32mdef\u001b[0m \u001b[0mget_variables\u001b[0m\u001b[0;34m(\u001b[0m\u001b[0mself\u001b[0m\u001b[0;34m,\u001b[0m \u001b[0mvariable_names\u001b[0m\u001b[0;34m=\u001b[0m\u001b[0mNone\u001b[0m\u001b[0;34m)\u001b[0m\u001b[0;34m:\u001b[0m\u001b[0;34m\u001b[0m\u001b[0m\n",
      "\u001b[0;32mscipy/io/matlab/mio5_utils.pyx\u001b[0m in \u001b[0;36mscipy.io.matlab.mio5_utils.VarReader5.array_from_header (scipy/io/matlab/mio5_utils.c:7087)\u001b[0;34m()\u001b[0m\n",
      "\u001b[0;32mscipy/io/matlab/mio5_utils.pyx\u001b[0m in \u001b[0;36mscipy.io.matlab.mio5_utils.VarReader5.array_from_header (scipy/io/matlab/mio5_utils.c:6935)\u001b[0;34m()\u001b[0m\n",
      "\u001b[0;32mscipy/io/matlab/mio_utils.pyx\u001b[0m in \u001b[0;36mscipy.io.matlab.mio_utils.squeeze_element (scipy/io/matlab/mio_utils.c:1420)\u001b[0;34m()\u001b[0m\n",
      "\u001b[0;32mscipy/io/matlab/mio_utils.pyx\u001b[0m in \u001b[0;36mscipy.io.matlab.mio_utils.squeeze_element (scipy/io/matlab/mio_utils.c:1270)\u001b[0;34m()\u001b[0m\n",
      "\u001b[0;32m/usr/local/anaconda-2.4.0/lib/python2.7/site-packages/numpy/core/fromnumeric.pyc\u001b[0m in \u001b[0;36msqueeze\u001b[0;34m(a, axis)\u001b[0m\n\u001b[1;32m   1160\u001b[0m \u001b[0;34m\u001b[0m\u001b[0m\n\u001b[1;32m   1161\u001b[0m \u001b[0;34m\u001b[0m\u001b[0m\n\u001b[0;32m-> 1162\u001b[0;31m \u001b[0;32mdef\u001b[0m \u001b[0msqueeze\u001b[0m\u001b[0;34m(\u001b[0m\u001b[0ma\u001b[0m\u001b[0;34m,\u001b[0m \u001b[0maxis\u001b[0m\u001b[0;34m=\u001b[0m\u001b[0mNone\u001b[0m\u001b[0;34m)\u001b[0m\u001b[0;34m:\u001b[0m\u001b[0;34m\u001b[0m\u001b[0m\n\u001b[0m\u001b[1;32m   1163\u001b[0m     \"\"\"\n\u001b[1;32m   1164\u001b[0m     \u001b[0mRemove\u001b[0m \u001b[0msingle\u001b[0m\u001b[0;34m-\u001b[0m\u001b[0mdimensional\u001b[0m \u001b[0mentries\u001b[0m \u001b[0;32mfrom\u001b[0m \u001b[0mthe\u001b[0m \u001b[0mshape\u001b[0m \u001b[0mof\u001b[0m \u001b[0man\u001b[0m \u001b[0marray\u001b[0m\u001b[0;34m.\u001b[0m\u001b[0;34m\u001b[0m\u001b[0m\n",
      "\u001b[0;31mKeyboardInterrupt\u001b[0m: "
     ]
    }
   ],
   "source": [
    "dfall = pd.DataFrame()\n",
    "df = pd.DataFrame()\n",
    "for x in reconlist.values:\n",
    "    subj_task, recon, _, _, _ = x\n",
    "    if (isinstance(recon, float)): #no recon\n",
    "        continue\n",
    "    subj, task = subj_task.split('_')\n",
    "\n",
    "    filename = os.path.join(SJdir, 'Subjs', subj, task, 'HG_elecMTX_percent.mat')\n",
    "    data = loadmat.loadmat(filename)\n",
    "    srate = data['srate']\n",
    "    RT = data['RTs'].flatten()/srate*1000 #convert to ms\n",
    "    \n",
    "    if task == 'DecisionAud': #shift by cue (HGmtx includes cue in RT for plotting)\n",
    "        RT = RT - 600\n",
    "    if task == 'DecisionVis':\n",
    "        RT = RT - 500\n",
    "    \n",
    "    df = pd.DataFrame({'subj': np.tile(subj, RT.shape), 'task':np.tile(task, RT.shape), 'RTs':RT})\n",
    "    dfall = dfall.append(df)"
   ]
  },
  {
   "cell_type": "code",
   "execution_count": 20,
   "metadata": {
    "collapsed": false
   },
   "outputs": [
    {
     "data": {
      "text/html": [
       "<div>\n",
       "<table border=\"1\" class=\"dataframe\">\n",
       "  <thead>\n",
       "    <tr style=\"text-align: right;\">\n",
       "      <th></th>\n",
       "      <th>RTs</th>\n",
       "      <th>subj</th>\n",
       "    </tr>\n",
       "    <tr>\n",
       "      <th>task</th>\n",
       "      <th></th>\n",
       "      <th></th>\n",
       "    </tr>\n",
       "  </thead>\n",
       "  <tbody>\n",
       "    <tr>\n",
       "      <th>EmoGen</th>\n",
       "      <td>4</td>\n",
       "      <td>4</td>\n",
       "    </tr>\n",
       "    <tr>\n",
       "      <th>EmoRep</th>\n",
       "      <td>8</td>\n",
       "      <td>8</td>\n",
       "    </tr>\n",
       "    <tr>\n",
       "      <th>FaceEmo</th>\n",
       "      <td>4</td>\n",
       "      <td>4</td>\n",
       "    </tr>\n",
       "    <tr>\n",
       "      <th>FaceGen</th>\n",
       "      <td>2</td>\n",
       "      <td>2</td>\n",
       "    </tr>\n",
       "    <tr>\n",
       "      <th>SelfAud</th>\n",
       "      <td>10</td>\n",
       "      <td>10</td>\n",
       "    </tr>\n",
       "    <tr>\n",
       "      <th>SelfVis</th>\n",
       "      <td>5</td>\n",
       "      <td>5</td>\n",
       "    </tr>\n",
       "  </tbody>\n",
       "</table>\n",
       "</div>"
      ],
      "text/plain": [
       "         RTs  subj\n",
       "task              \n",
       "EmoGen     4     4\n",
       "EmoRep     8     8\n",
       "FaceEmo    4     4\n",
       "FaceGen    2     2\n",
       "SelfAud   10    10\n",
       "SelfVis    5     5"
      ]
     },
     "execution_count": 20,
     "metadata": {},
     "output_type": "execute_result"
    }
   ],
   "source": [
    "tmp_n = dfall\n",
    "tmp_n.drop_duplicates(['subj','task']).groupby('task').count()"
   ]
  },
  {
   "cell_type": "code",
   "execution_count": 21,
   "metadata": {
    "collapsed": true
   },
   "outputs": [],
   "source": [
    "#create dataframe\n",
    "RTs_n = list(); RTs_mean = list(); RTs_std = list(); RTs_range = list(); RTs_skew = list(); subjs = list(); tasks = list()\n",
    "\n",
    "for r in dfall.groupby(['subj','task']):\n",
    "    s, t = r[0]\n",
    "    RTs = r[1]['RTs']\n",
    "    RTs_mean.append(RTs.mean())\n",
    "    RTs_std.append(RTs.std())\n",
    "    RTs_range.append((max(RTs)-min(RTs)))\n",
    "    RTs_skew.append(stats.kurtosis(RTs))\n",
    "    RTs_n.append(len(RTs))\n",
    "    subjs.append(s)\n",
    "    tasks.append(t)\n",
    "\n",
    "df = pd.DataFrame()\n",
    "df['subj'] = subjs\n",
    "df['task'] = tasks\n",
    "df['RTs_mean'] = RTs_mean\n",
    "df['RTs_std'] = RTs_std\n",
    "df['RTs_range'] = RTs_range\n",
    "df['RTs_skew'] = RTs_skew\n",
    "\n"
   ]
  },
  {
   "cell_type": "code",
   "execution_count": 24,
   "metadata": {
    "collapsed": false
   },
   "outputs": [
    {
     "data": {
      "text/html": [
       "<div>\n",
       "<table border=\"1\" class=\"dataframe\">\n",
       "  <thead>\n",
       "    <tr style=\"text-align: right;\">\n",
       "      <th></th>\n",
       "      <th>subj</th>\n",
       "      <th>task</th>\n",
       "      <th>RTs_mean</th>\n",
       "      <th>RTs_std</th>\n",
       "      <th>RTs_range</th>\n",
       "      <th>RTs_skew</th>\n",
       "    </tr>\n",
       "  </thead>\n",
       "  <tbody>\n",
       "    <tr>\n",
       "      <th>0</th>\n",
       "      <td>CP7</td>\n",
       "      <td>DecisionAud</td>\n",
       "      <td>1464.096774</td>\n",
       "      <td>599.955519</td>\n",
       "      <td>2508.0</td>\n",
       "      <td>0.217661</td>\n",
       "    </tr>\n",
       "    <tr>\n",
       "      <th>1</th>\n",
       "      <td>CP9</td>\n",
       "      <td>DecisionAud</td>\n",
       "      <td>1645.357692</td>\n",
       "      <td>142.832971</td>\n",
       "      <td>812.0</td>\n",
       "      <td>0.464390</td>\n",
       "    </tr>\n",
       "    <tr>\n",
       "      <th>2</th>\n",
       "      <td>GP15</td>\n",
       "      <td>EmoGen</td>\n",
       "      <td>2002.870748</td>\n",
       "      <td>696.685826</td>\n",
       "      <td>2852.0</td>\n",
       "      <td>-0.805875</td>\n",
       "    </tr>\n",
       "    <tr>\n",
       "      <th>3</th>\n",
       "      <td>GP15</td>\n",
       "      <td>EmoRep</td>\n",
       "      <td>1003.201754</td>\n",
       "      <td>129.039143</td>\n",
       "      <td>592.0</td>\n",
       "      <td>0.630239</td>\n",
       "    </tr>\n",
       "    <tr>\n",
       "      <th>4</th>\n",
       "      <td>GP15</td>\n",
       "      <td>FaceEmo</td>\n",
       "      <td>750.923664</td>\n",
       "      <td>155.035213</td>\n",
       "      <td>755.0</td>\n",
       "      <td>0.749593</td>\n",
       "    </tr>\n",
       "    <tr>\n",
       "      <th>5</th>\n",
       "      <td>GP15</td>\n",
       "      <td>FaceGen</td>\n",
       "      <td>717.862595</td>\n",
       "      <td>140.601661</td>\n",
       "      <td>747.0</td>\n",
       "      <td>0.353890</td>\n",
       "    </tr>\n",
       "    <tr>\n",
       "      <th>6</th>\n",
       "      <td>GP15</td>\n",
       "      <td>SelfAud</td>\n",
       "      <td>1657.036585</td>\n",
       "      <td>520.818550</td>\n",
       "      <td>2265.0</td>\n",
       "      <td>0.696949</td>\n",
       "    </tr>\n",
       "    <tr>\n",
       "      <th>7</th>\n",
       "      <td>GP15</td>\n",
       "      <td>SelfVis</td>\n",
       "      <td>1068.064935</td>\n",
       "      <td>315.981109</td>\n",
       "      <td>1203.0</td>\n",
       "      <td>0.303051</td>\n",
       "    </tr>\n",
       "    <tr>\n",
       "      <th>8</th>\n",
       "      <td>GP28</td>\n",
       "      <td>SelfAud</td>\n",
       "      <td>1291.513514</td>\n",
       "      <td>429.634960</td>\n",
       "      <td>1865.0</td>\n",
       "      <td>0.759580</td>\n",
       "    </tr>\n",
       "    <tr>\n",
       "      <th>9</th>\n",
       "      <td>GP28</td>\n",
       "      <td>SelfVis</td>\n",
       "      <td>1666.059524</td>\n",
       "      <td>572.704435</td>\n",
       "      <td>2635.0</td>\n",
       "      <td>0.261422</td>\n",
       "    </tr>\n",
       "    <tr>\n",
       "      <th>10</th>\n",
       "      <td>GP35</td>\n",
       "      <td>EmoGen</td>\n",
       "      <td>1373.911111</td>\n",
       "      <td>431.988000</td>\n",
       "      <td>1902.0</td>\n",
       "      <td>0.199185</td>\n",
       "    </tr>\n",
       "    <tr>\n",
       "      <th>11</th>\n",
       "      <td>GP35</td>\n",
       "      <td>EmoRep</td>\n",
       "      <td>903.058824</td>\n",
       "      <td>155.763966</td>\n",
       "      <td>698.0</td>\n",
       "      <td>0.146320</td>\n",
       "    </tr>\n",
       "    <tr>\n",
       "      <th>12</th>\n",
       "      <td>GP35</td>\n",
       "      <td>FaceEmo</td>\n",
       "      <td>600.115385</td>\n",
       "      <td>169.020095</td>\n",
       "      <td>800.0</td>\n",
       "      <td>0.100200</td>\n",
       "    </tr>\n",
       "    <tr>\n",
       "      <th>13</th>\n",
       "      <td>GP35</td>\n",
       "      <td>FaceGen</td>\n",
       "      <td>536.036145</td>\n",
       "      <td>162.082894</td>\n",
       "      <td>604.0</td>\n",
       "      <td>-0.669204</td>\n",
       "    </tr>\n",
       "    <tr>\n",
       "      <th>14</th>\n",
       "      <td>JH10</td>\n",
       "      <td>EmoRep</td>\n",
       "      <td>1310.550725</td>\n",
       "      <td>232.989053</td>\n",
       "      <td>1073.0</td>\n",
       "      <td>0.138339</td>\n",
       "    </tr>\n",
       "    <tr>\n",
       "      <th>15</th>\n",
       "      <td>JH10</td>\n",
       "      <td>SelfAud</td>\n",
       "      <td>1811.819672</td>\n",
       "      <td>390.022884</td>\n",
       "      <td>1750.0</td>\n",
       "      <td>0.142862</td>\n",
       "    </tr>\n",
       "    <tr>\n",
       "      <th>16</th>\n",
       "      <td>JH17</td>\n",
       "      <td>EmoRep</td>\n",
       "      <td>1170.040000</td>\n",
       "      <td>111.239943</td>\n",
       "      <td>466.0</td>\n",
       "      <td>-0.118301</td>\n",
       "    </tr>\n",
       "    <tr>\n",
       "      <th>17</th>\n",
       "      <td>JH17</td>\n",
       "      <td>SelfAud</td>\n",
       "      <td>1592.688525</td>\n",
       "      <td>435.118472</td>\n",
       "      <td>1854.0</td>\n",
       "      <td>0.038835</td>\n",
       "    </tr>\n",
       "    <tr>\n",
       "      <th>18</th>\n",
       "      <td>JH17</td>\n",
       "      <td>SelfVis</td>\n",
       "      <td>1297.609375</td>\n",
       "      <td>332.183714</td>\n",
       "      <td>1329.0</td>\n",
       "      <td>-0.312502</td>\n",
       "    </tr>\n",
       "    <tr>\n",
       "      <th>19</th>\n",
       "      <td>JH2</td>\n",
       "      <td>EmoGen</td>\n",
       "      <td>1983.095238</td>\n",
       "      <td>642.149583</td>\n",
       "      <td>2901.0</td>\n",
       "      <td>-0.323852</td>\n",
       "    </tr>\n",
       "    <tr>\n",
       "      <th>20</th>\n",
       "      <td>JH2</td>\n",
       "      <td>FaceEmo</td>\n",
       "      <td>690.902655</td>\n",
       "      <td>134.271378</td>\n",
       "      <td>684.0</td>\n",
       "      <td>0.216012</td>\n",
       "    </tr>\n",
       "    <tr>\n",
       "      <th>21</th>\n",
       "      <td>JH2</td>\n",
       "      <td>SelfAud</td>\n",
       "      <td>1597.421053</td>\n",
       "      <td>333.110286</td>\n",
       "      <td>1154.0</td>\n",
       "      <td>-1.149905</td>\n",
       "    </tr>\n",
       "    <tr>\n",
       "      <th>22</th>\n",
       "      <td>JH2</td>\n",
       "      <td>SelfVis</td>\n",
       "      <td>1642.440000</td>\n",
       "      <td>468.329082</td>\n",
       "      <td>2154.0</td>\n",
       "      <td>-0.188063</td>\n",
       "    </tr>\n",
       "    <tr>\n",
       "      <th>23</th>\n",
       "      <td>JH5</td>\n",
       "      <td>EmoRep</td>\n",
       "      <td>1086.176471</td>\n",
       "      <td>184.932856</td>\n",
       "      <td>919.0</td>\n",
       "      <td>0.471905</td>\n",
       "    </tr>\n",
       "    <tr>\n",
       "      <th>24</th>\n",
       "      <td>JH6</td>\n",
       "      <td>FaceEmo</td>\n",
       "      <td>532.116071</td>\n",
       "      <td>122.593795</td>\n",
       "      <td>528.0</td>\n",
       "      <td>0.142910</td>\n",
       "    </tr>\n",
       "    <tr>\n",
       "      <th>25</th>\n",
       "      <td>JH6</td>\n",
       "      <td>SelfAud</td>\n",
       "      <td>2113.944444</td>\n",
       "      <td>749.845653</td>\n",
       "      <td>2950.0</td>\n",
       "      <td>-0.042114</td>\n",
       "    </tr>\n",
       "    <tr>\n",
       "      <th>26</th>\n",
       "      <td>ST1</td>\n",
       "      <td>EmoGen</td>\n",
       "      <td>2841.180451</td>\n",
       "      <td>1042.596561</td>\n",
       "      <td>3993.0</td>\n",
       "      <td>-0.890020</td>\n",
       "    </tr>\n",
       "    <tr>\n",
       "      <th>27</th>\n",
       "      <td>ST1</td>\n",
       "      <td>SelfAud</td>\n",
       "      <td>2028.337079</td>\n",
       "      <td>653.286655</td>\n",
       "      <td>2679.0</td>\n",
       "      <td>-0.639802</td>\n",
       "    </tr>\n",
       "    <tr>\n",
       "      <th>28</th>\n",
       "      <td>ST15</td>\n",
       "      <td>EmoRep</td>\n",
       "      <td>1376.837838</td>\n",
       "      <td>274.659492</td>\n",
       "      <td>1362.0</td>\n",
       "      <td>0.284259</td>\n",
       "    </tr>\n",
       "    <tr>\n",
       "      <th>29</th>\n",
       "      <td>ST15</td>\n",
       "      <td>SelfAud</td>\n",
       "      <td>1752.056818</td>\n",
       "      <td>426.786263</td>\n",
       "      <td>1850.0</td>\n",
       "      <td>-0.247254</td>\n",
       "    </tr>\n",
       "    <tr>\n",
       "      <th>30</th>\n",
       "      <td>ST27</td>\n",
       "      <td>DecisionVis</td>\n",
       "      <td>896.276029</td>\n",
       "      <td>193.294876</td>\n",
       "      <td>1053.0</td>\n",
       "      <td>0.535507</td>\n",
       "    </tr>\n",
       "    <tr>\n",
       "      <th>31</th>\n",
       "      <td>ST32</td>\n",
       "      <td>DecisionVis</td>\n",
       "      <td>634.743590</td>\n",
       "      <td>116.957069</td>\n",
       "      <td>698.0</td>\n",
       "      <td>0.922198</td>\n",
       "    </tr>\n",
       "    <tr>\n",
       "      <th>32</th>\n",
       "      <td>ST4</td>\n",
       "      <td>EmoRep</td>\n",
       "      <td>946.540741</td>\n",
       "      <td>134.704528</td>\n",
       "      <td>669.0</td>\n",
       "      <td>0.345509</td>\n",
       "    </tr>\n",
       "    <tr>\n",
       "      <th>33</th>\n",
       "      <td>ST4</td>\n",
       "      <td>SelfAud</td>\n",
       "      <td>1665.192308</td>\n",
       "      <td>603.320166</td>\n",
       "      <td>2327.0</td>\n",
       "      <td>0.120550</td>\n",
       "    </tr>\n",
       "    <tr>\n",
       "      <th>34</th>\n",
       "      <td>ST6</td>\n",
       "      <td>EmoRep</td>\n",
       "      <td>1145.159722</td>\n",
       "      <td>137.286575</td>\n",
       "      <td>805.0</td>\n",
       "      <td>1.730310</td>\n",
       "    </tr>\n",
       "    <tr>\n",
       "      <th>35</th>\n",
       "      <td>ST6</td>\n",
       "      <td>SelfAud</td>\n",
       "      <td>1688.139535</td>\n",
       "      <td>808.050493</td>\n",
       "      <td>2808.0</td>\n",
       "      <td>0.735986</td>\n",
       "    </tr>\n",
       "    <tr>\n",
       "      <th>36</th>\n",
       "      <td>ST6</td>\n",
       "      <td>SelfVis</td>\n",
       "      <td>1627.046154</td>\n",
       "      <td>458.097473</td>\n",
       "      <td>2068.0</td>\n",
       "      <td>0.826434</td>\n",
       "    </tr>\n",
       "  </tbody>\n",
       "</table>\n",
       "</div>"
      ],
      "text/plain": [
       "    subj         task     RTs_mean      RTs_std  RTs_range  RTs_skew\n",
       "0    CP7  DecisionAud  1464.096774   599.955519     2508.0  0.217661\n",
       "1    CP9  DecisionAud  1645.357692   142.832971      812.0  0.464390\n",
       "2   GP15       EmoGen  2002.870748   696.685826     2852.0 -0.805875\n",
       "3   GP15       EmoRep  1003.201754   129.039143      592.0  0.630239\n",
       "4   GP15      FaceEmo   750.923664   155.035213      755.0  0.749593\n",
       "5   GP15      FaceGen   717.862595   140.601661      747.0  0.353890\n",
       "6   GP15      SelfAud  1657.036585   520.818550     2265.0  0.696949\n",
       "7   GP15      SelfVis  1068.064935   315.981109     1203.0  0.303051\n",
       "8   GP28      SelfAud  1291.513514   429.634960     1865.0  0.759580\n",
       "9   GP28      SelfVis  1666.059524   572.704435     2635.0  0.261422\n",
       "10  GP35       EmoGen  1373.911111   431.988000     1902.0  0.199185\n",
       "11  GP35       EmoRep   903.058824   155.763966      698.0  0.146320\n",
       "12  GP35      FaceEmo   600.115385   169.020095      800.0  0.100200\n",
       "13  GP35      FaceGen   536.036145   162.082894      604.0 -0.669204\n",
       "14  JH10       EmoRep  1310.550725   232.989053     1073.0  0.138339\n",
       "15  JH10      SelfAud  1811.819672   390.022884     1750.0  0.142862\n",
       "16  JH17       EmoRep  1170.040000   111.239943      466.0 -0.118301\n",
       "17  JH17      SelfAud  1592.688525   435.118472     1854.0  0.038835\n",
       "18  JH17      SelfVis  1297.609375   332.183714     1329.0 -0.312502\n",
       "19   JH2       EmoGen  1983.095238   642.149583     2901.0 -0.323852\n",
       "20   JH2      FaceEmo   690.902655   134.271378      684.0  0.216012\n",
       "21   JH2      SelfAud  1597.421053   333.110286     1154.0 -1.149905\n",
       "22   JH2      SelfVis  1642.440000   468.329082     2154.0 -0.188063\n",
       "23   JH5       EmoRep  1086.176471   184.932856      919.0  0.471905\n",
       "24   JH6      FaceEmo   532.116071   122.593795      528.0  0.142910\n",
       "25   JH6      SelfAud  2113.944444   749.845653     2950.0 -0.042114\n",
       "26   ST1       EmoGen  2841.180451  1042.596561     3993.0 -0.890020\n",
       "27   ST1      SelfAud  2028.337079   653.286655     2679.0 -0.639802\n",
       "28  ST15       EmoRep  1376.837838   274.659492     1362.0  0.284259\n",
       "29  ST15      SelfAud  1752.056818   426.786263     1850.0 -0.247254\n",
       "30  ST27  DecisionVis   896.276029   193.294876     1053.0  0.535507\n",
       "31  ST32  DecisionVis   634.743590   116.957069      698.0  0.922198\n",
       "32   ST4       EmoRep   946.540741   134.704528      669.0  0.345509\n",
       "33   ST4      SelfAud  1665.192308   603.320166     2327.0  0.120550\n",
       "34   ST6       EmoRep  1145.159722   137.286575      805.0  1.730310\n",
       "35   ST6      SelfAud  1688.139535   808.050493     2808.0  0.735986\n",
       "36   ST6      SelfVis  1627.046154   458.097473     2068.0  0.826434"
      ]
     },
     "execution_count": 24,
     "metadata": {},
     "output_type": "execute_result"
    }
   ],
   "source": [
    "df"
   ]
  },
  {
   "cell_type": "code",
   "execution_count": 22,
   "metadata": {
    "collapsed": false
   },
   "outputs": [
    {
     "name": "stderr",
     "output_type": "stream",
     "text": [
      "/srv/local/anaconda-2.4.0/lib/python2.7/site-packages/ipykernel/__main__.py:1: FutureWarning: sort(columns=....) is deprecated, use sort_values(by=.....)\n",
      "  if __name__ == '__main__':\n"
     ]
    },
    {
     "data": {
      "text/plain": [
       "task\n",
       "FaceGen     626.949370\n",
       "FaceEmo     643.514444\n",
       "EmoRep     1117.695759\n",
       "SelfVis    1460.243998\n",
       "SelfAud    1719.814953\n",
       "EmoGen     2050.264387\n",
       "Name: RTs_mean, dtype: float64"
      ]
     },
     "execution_count": 22,
     "metadata": {},
     "output_type": "execute_result"
    }
   ],
   "source": [
    "tmp = df.groupby('task').mean().sort('RTs_mean')\n",
    "tmp['RTs_mean']"
   ]
  },
  {
   "cell_type": "code",
   "execution_count": 22,
   "metadata": {
    "collapsed": false
   },
   "outputs": [
    {
     "name": "stderr",
     "output_type": "stream",
     "text": [
      "/srv/local/anaconda-2.4.0/lib/python2.7/site-packages/ipykernel/__main__.py:1: FutureWarning: sort(columns=....) is deprecated, use sort_values(by=.....)\n",
      "  if __name__ == '__main__':\n"
     ]
    },
    {
     "data": {
      "text/plain": [
       "task\n",
       "FaceGen         626.949370\n",
       "FaceEmo         643.514444\n",
       "DecisionVis     765.509809\n",
       "EmoRep         1117.695759\n",
       "SelfVis        1460.243998\n",
       "DecisionAud    1554.727233\n",
       "SelfAud        1719.814953\n",
       "EmoGen         2050.264387\n",
       "Name: RTs_mean, dtype: float64"
      ]
     },
     "execution_count": 22,
     "metadata": {},
     "output_type": "execute_result"
    }
   ],
   "source": [
    "tmp = df.groupby('task').mean().sort('RTs_mean')\n",
    "tmp['RTs_mean']"
   ]
  },
  {
   "cell_type": "code",
   "execution_count": 1,
   "metadata": {
    "collapsed": false
   },
   "outputs": [
    {
     "ename": "NameError",
     "evalue": "name 'brewer2mpl' is not defined",
     "output_type": "error",
     "traceback": [
      "\u001b[0;31m---------------------------------------------------------------------------\u001b[0m",
      "\u001b[0;31mNameError\u001b[0m                                 Traceback (most recent call last)",
      "\u001b[0;32m<ipython-input-1-6e4395e5b736>\u001b[0m in \u001b[0;36m<module>\u001b[0;34m()\u001b[0m\n\u001b[0;32m----> 1\u001b[0;31m \u001b[0mset2\u001b[0m \u001b[0;34m=\u001b[0m \u001b[0mbrewer2mpl\u001b[0m\u001b[0;34m.\u001b[0m\u001b[0mget_map\u001b[0m\u001b[0;34m(\u001b[0m\u001b[0;34m'Dark2'\u001b[0m\u001b[0;34m,\u001b[0m \u001b[0;34m'Qualitative'\u001b[0m\u001b[0;34m,\u001b[0m \u001b[0mnum_tasks\u001b[0m\u001b[0;34m)\u001b[0m\u001b[0;34m.\u001b[0m\u001b[0mmpl_colors\u001b[0m\u001b[0;34m\u001b[0m\u001b[0m\n\u001b[0m\u001b[1;32m      2\u001b[0m \u001b[0mfig\u001b[0m\u001b[0;34m,\u001b[0m \u001b[0max\u001b[0m \u001b[0;34m=\u001b[0m \u001b[0mplt\u001b[0m\u001b[0;34m.\u001b[0m\u001b[0msubplots\u001b[0m\u001b[0;34m(\u001b[0m\u001b[0mnum_tasks\u001b[0m\u001b[0;34m,\u001b[0m\u001b[0msharex\u001b[0m\u001b[0;34m=\u001b[0m\u001b[0mTrue\u001b[0m\u001b[0;34m,\u001b[0m \u001b[0mfigsize\u001b[0m \u001b[0;34m=\u001b[0m \u001b[0;34m(\u001b[0m\u001b[0;36m8\u001b[0m\u001b[0;34m,\u001b[0m \u001b[0;36m20\u001b[0m\u001b[0;34m)\u001b[0m\u001b[0;34m,\u001b[0m\u001b[0msubplot_kw\u001b[0m\u001b[0;34m=\u001b[0m\u001b[0mdict\u001b[0m\u001b[0;34m(\u001b[0m\u001b[0maxisbg\u001b[0m\u001b[0;34m=\u001b[0m\u001b[0;34m'#EEEEEE'\u001b[0m\u001b[0;34m)\u001b[0m\u001b[0;34m)\u001b[0m\u001b[0;34m\u001b[0m\u001b[0m\n\u001b[1;32m      3\u001b[0m \u001b[0mplt\u001b[0m\u001b[0;34m.\u001b[0m\u001b[0mtight_layout\u001b[0m\u001b[0;34m\u001b[0m\u001b[0m\n\u001b[1;32m      4\u001b[0m \u001b[0;34m\u001b[0m\u001b[0m\n\u001b[1;32m      5\u001b[0m \u001b[0mleft\u001b[0m\u001b[0;34m,\u001b[0m \u001b[0mwidth\u001b[0m \u001b[0;34m=\u001b[0m \u001b[0;36m.25\u001b[0m\u001b[0;34m,\u001b[0m \u001b[0;36m.75\u001b[0m\u001b[0;34m\u001b[0m\u001b[0m\n",
      "\u001b[0;31mNameError\u001b[0m: name 'brewer2mpl' is not defined"
     ]
    }
   ],
   "source": [
    "set2 = brewer2mpl.get_map('Dark2', 'Qualitative', num_tasks).mpl_colors\n",
    "fig, ax = plt.subplots(num_tasks,sharex=True, figsize = (8, 20),subplot_kw=dict(axisbg='#EEEEEE'))\n",
    "plt.tight_layout\n",
    "\n",
    "left, width = .25, .75\n",
    "bottom, height = .25, .70\n",
    "right = left + width\n",
    "top = bottom + height\n",
    "\n",
    "\n",
    "for i, t in enumerate(tmp.index):\n",
    "    ax[i].patch.set_facecolor('white')\n",
    "\n",
    "    ax[i].autoscale(tight=True)\n",
    "    ax[i].spines['top'].set_visible(False)\n",
    "    ax[i].spines['right'].set_visible(False)\n",
    "    ax[i].get_xaxis().tick_bottom()\n",
    "    ax[i].get_yaxis().tick_left()\n",
    "    ax[i].yaxis.set_tick_params(labelsize = 18, width = 0)\n",
    "    ax[i].xaxis.set_tick_params(labelsize = 18, width = 0)\n",
    "    #majorLocator   = MultipleLocator(5)\n",
    "    #majorFormatter = FormatStrFormatter('%d')\n",
    "    \n",
    "    #ax[i].yaxis.set_major_locator(majorLocator)\n",
    "    #ax[i].yaxis.set_major_formatter(majorFormatter)\n",
    "\n",
    "#     ax[i].text(right, top, names_dict[t],\n",
    "#             horizontalalignment='right',\n",
    "#             verticalalignment='top',\n",
    "#             transform=ax[i].transAxes, fontsize = 24, weight = 'bold')    \n",
    "    \n",
    "    ax[i].set_ylabel('Trials', fontsize = 18)\n",
    "    \n",
    "    \n",
    "for i, task in enumerate(tmp.index): #ordered by increasing mean\n",
    "    data = dfall.loc[dfall['task'] == task].dropna()\n",
    "    \n",
    "    for s in data.groupby('subj'):\n",
    "        data = s[1]['RTs']\n",
    "        binwidth = 50\n",
    "        ax[i].hist(data, bins=np.arange(min(data), max(data) + binwidth, binwidth), color = set2[i], alpha = 0.5, edgecolor = 'white')\n",
    "        #x = s[1]['RTs'].hist(ax = ax[i], alpha = 0.5, grid = False, xlabelsize= 20, ylabelsize = 16, edgecolor = 'white', label = s[0])\n",
    "        #x.legend()\n",
    "        mn = df.groupby('task').mean().loc[task]['RTs_mean']\n",
    "        sd = df.groupby('task').mean().loc[task]['RTs_std']\n",
    "        label = 'MN=%.2f\\nSD=%.2f' %(mn, sd)\n",
    "        \n",
    "        tform = blended_transform_factory(ax[i].transData, ax[i].transAxes)\n",
    "        ax[i].annotate(names_dict[task], xy=(3500, 0), xycoords=tform, \n",
    "           xytext=(3750, 0.8), textcoords=tform, fontsize=18,\n",
    "           ha='center', va='center')\n",
    "        \n",
    "        #ax[i].annotate(label, xy=(3500, 0), xycoords=tform, \n",
    "        #    xytext=(3500, 0.8), textcoords=tform, fontsize=18,\n",
    "        #    ha='center', va='center')\n",
    "ax[i].set_xlabel('RTs (ms)', fontsize = 18)      \n",
    "#plt.savefig(os.path.join(SJdir, 'PCA', 'RTs','RT_hists_alpha_onset_tasklabel.pdf'), transparent = True)        "
   ]
  },
  {
   "cell_type": "code",
   "execution_count": null,
   "metadata": {
    "collapsed": true
   },
   "outputs": [],
   "source": []
  }
 ],
 "metadata": {
  "kernelspec": {
   "display_name": "Python [default]",
   "language": "python",
   "name": "python2"
  },
  "language_info": {
   "codemirror_mode": {
    "name": "ipython",
    "version": 2
   },
   "file_extension": ".py",
   "mimetype": "text/x-python",
   "name": "python",
   "nbconvert_exporter": "python",
   "pygments_lexer": "ipython2",
   "version": "2.7.12"
  }
 },
 "nbformat": 4,
 "nbformat_minor": 0
}
