{
 "cells": [
  {
   "cell_type": "code",
   "execution_count": 1,
   "metadata": {
    "collapsed": false
   },
   "outputs": [
    {
     "name": "stdout",
     "output_type": "stream",
     "text": [
      "Once deleted, variables cannot be recovered. Proceed (y/[n])? n\n",
      "Nothing done.\n"
     ]
    }
   ],
   "source": [
    "%reset"
   ]
  },
  {
   "cell_type": "code",
   "execution_count": 2,
   "metadata": {
    "collapsed": false
   },
   "outputs": [
    {
     "name": "stdout",
     "output_type": "stream",
     "text": [
      "Populating the interactive namespace from numpy and matplotlib\n"
     ]
    }
   ],
   "source": [
    "%pylab inline"
   ]
  },
  {
   "cell_type": "code",
   "execution_count": 3,
   "metadata": {
    "collapsed": true
   },
   "outputs": [],
   "source": [
    "from __future__ import division"
   ]
  },
  {
   "cell_type": "code",
   "execution_count": 4,
   "metadata": {
    "collapsed": false
   },
   "outputs": [],
   "source": [
    "%load_ext autoreload\n",
    "%autoreload 2"
   ]
  },
  {
   "cell_type": "code",
   "execution_count": 5,
   "metadata": {
    "collapsed": true
   },
   "outputs": [],
   "source": [
    "import sys\n",
    "sys.path.insert(0, '/home/knight/matar/PYTHON/ECOGpy/pacpy')\n",
    "#sys.path.insert(0, '/home/knight/matar/PYTHON/ECOGpy/ecogtools')\n",
    "sys.path.insert(0, '/home/knight/matar/PYTHON/ECOGpy/')\n"
   ]
  },
  {
   "cell_type": "code",
   "execution_count": 6,
   "metadata": {
    "collapsed": false
   },
   "outputs": [],
   "source": [
    "import os\n",
    "import pandas as pd\n",
    "from utils.loadmat import loadmat\n",
    "from glob import glob\n",
    "from collections import defaultdict"
   ]
  },
  {
   "cell_type": "code",
   "execution_count": 7,
   "metadata": {
    "collapsed": true
   },
   "outputs": [],
   "source": [
    "base = '/home/knight/matar/MATLAB/DATA/Avgusta/'\n"
   ]
  },
  {
   "cell_type": "markdown",
   "metadata": {},
   "source": [
    "## figure out dropped clusters"
   ]
  },
  {
   "cell_type": "code",
   "execution_count": 42,
   "metadata": {
    "collapsed": false
   },
   "outputs": [
    {
     "data": {
      "text/plain": [
       "(151, 24)"
      ]
     },
     "execution_count": 42,
     "metadata": {},
     "output_type": "execute_result"
    }
   ],
   "source": [
    "filename = os.path.join(base, 'PCA', 'duration_dict_500_FINAL', 'groupidx_activeclusters_hclust_withduration_maxRTlocked_withcriteria_labeled_ROI.csv')\n",
    "df = pd.read_csv(filename)\n",
    "#print df.groupby(['subj','task','group']).count().shape #177 analyzed clusters including subsequently dropped subjects\n",
    "df = df[df.subj.apply(lambda x: x not in ['GP44','ST28','GP27'])]\n",
    "df[(df.pattern == 'S+sustained') | (df.pattern == 'sustained')].shape\n",
    "df.groupby(['subj','task','group']).count().shape \n",
    "#151 analyzed clusters without GP44, ST28 and GP27\n"
   ]
  },
  {
   "cell_type": "code",
   "execution_count": 43,
   "metadata": {
    "collapsed": false
   },
   "outputs": [
    {
     "name": "stdout",
     "output_type": "stream",
     "text": [
      "(151, 9)\n"
     ]
    }
   ],
   "source": [
    "#cluster and pattern designations\n",
    "filename = os.path.join(base, 'PCA', 'csvs_FINAL', 'old', 'single_electrode_windows_withdesignation_EDITED.csv')\n",
    "df = pd.read_csv(filename)\n",
    "df = df[df.subj.apply(lambda x: x not in ['GP44','ST28','GP27'])]\n",
    "print df.groupby(['subj','task','cluster']).count().shape "
   ]
  },
  {
   "cell_type": "code",
   "execution_count": 48,
   "metadata": {
    "collapsed": false
   },
   "outputs": [
    {
     "name": "stdout",
     "output_type": "stream",
     "text": [
      "(181, 6)\n"
     ]
    },
    {
     "data": {
      "text/plain": [
       "(153, 6)"
      ]
     },
     "execution_count": 48,
     "metadata": {},
     "output_type": "execute_result"
    }
   ],
   "source": [
    "filename = os.path.join(base, 'PCA', 'hclust', 'groupidx_activeclusters_hclust_thresh15_forbothstimandresp.csv')\n",
    "df = pd.read_csv(filename)\n",
    "df = df[df.subj.apply(lambda x: x not in ['GP44','ST28','GP27'])]\n",
    "print df.groupby(['subj','task','group']).count().shape\n",
    "df[(df['active_cluster_stim'] == True) | (df['active_cluster_resp'] == True)].groupby(['subj','task','group']).count().shape\n",
    "#df[(df['active_cluster_stim'] == True)].groupby(['subj','task','group']).count().shape\n"
   ]
  },
  {
   "cell_type": "code",
   "execution_count": 45,
   "metadata": {
    "collapsed": false
   },
   "outputs": [
    {
     "data": {
      "text/plain": [
       "(152, 5)"
      ]
     },
     "execution_count": 45,
     "metadata": {},
     "output_type": "execute_result"
    }
   ],
   "source": [
    "filename = os.path.join(base, 'PCA', 'hclust', 'groupidx_activeclusters_hclust_thresh15stim_thresh10resp.csv')\n",
    "df = pd.read_csv(filename)\n",
    "df = df[df.subj.apply(lambda x: x not in ['GP44','ST28','GP27'])]\n",
    "df[(df['active_cluster_stim'] == True) | (df['active_cluster_resp'] == True)].groupby(['subj','task','group']).count().shape\n"
   ]
  },
  {
   "cell_type": "code",
   "execution_count": 46,
   "metadata": {
    "collapsed": true
   },
   "outputs": [],
   "source": [
    "filename = os.path.join(base, 'PCA', 'csvs_FINAL', 'mean_traces_all_subjs_dropSR.csv')\n",
    "df = pd.read_csv(filename)"
   ]
  },
  {
   "cell_type": "code",
   "execution_count": 47,
   "metadata": {
    "collapsed": false
   },
   "outputs": [
    {
     "data": {
      "text/plain": [
       "(145, 15)"
      ]
     },
     "execution_count": 47,
     "metadata": {},
     "output_type": "execute_result"
    }
   ],
   "source": [
    "df.groupby(['subj','task','cluster']).count().shape #145 analyzed clusters"
   ]
  },
  {
   "cell_type": "code",
   "execution_count": null,
   "metadata": {
    "collapsed": true
   },
   "outputs": [],
   "source": [
    "outlier_dict = defaultdict(list)\n",
    "for j in df[['subj','task']].drop_duplicates().values:\n",
    "    subj, task = j\n",
    "    \n",
    "    #load variables\n",
    "    onsets_dict = {}\n",
    "    subj_globals = glob(os.path.join(base, 'Subjs',subj, task, 'subj_globals*mat'))\n",
    "    data_dict = loadmat(subj_globals[0])\n",
    "    srate = data_dict['srate']\n",
    "    \n",
    "    onsetfiles = glob(os.path.join(base, 'Subjs',subj, task, 'onset*mat'))\n",
    "    for f in onsetfiles:\n",
    "        varname = os.path.basename(f).split('.mat')[0]\n",
    "        data_dict = loadmat(f)\n",
    "        onsets_dict[varname] = data_dict[varname]\n",
    "        for key in onsets_dict.keys():\n",
    "            if 'resp' in key:\n",
    "                onsets_resp = onsets_dict[key]/srate*1000\n",
    "            elif ('cue' not in key) and ('empty' not in key):\n",
    "                onsets_stim = onsets_dict[key]/srate*1000\n",
    "                \n",
    "                \n",
    "    # calculate RTs\n",
    "    RTs = onsets_resp - onsets_stim;\n",
    "    \n",
    "    # remove outliers (mean +/- 3SDs)\n",
    "    goodidx = (RTs < (np.mean(RTs) + 3 * np.std(RTs))) * (RTs > (np.mean(RTs) - 3 * np.std(RTs)))\n",
    "    if not(all(goodidx)):\n",
    "        outlier_dict['subj'].append(subj)\n",
    "        outlier_dict['task'].append(task)\n",
    "        outlier_dict['total'].append(len(RTs))\n",
    "        outlier_dict['dropped'].append(sum(~goodidx))\n",
    "        outlier_dict['percent'].append(sum(~goodidx)/len(RTs)*100)\n",
    "        print (subj, task, (sum(~goodidx)/len(RTs)))"
   ]
  },
  {
   "cell_type": "code",
   "execution_count": 86,
   "metadata": {
    "collapsed": false
   },
   "outputs": [],
   "source": [
    "filename = '/home/knight/matar/MATLAB/DATA/Avgusta/PCA/csvs_FINAL/RTs_dropped.csv'\n",
    "pd.DataFrame(outlier_dict).to_csv(filename)"
   ]
  },
  {
   "cell_type": "code",
   "execution_count": 87,
   "metadata": {
    "collapsed": false
   },
   "outputs": [
    {
     "data": {
      "text/html": [
       "<div>\n",
       "<table border=\"1\" class=\"dataframe\">\n",
       "  <thead>\n",
       "    <tr style=\"text-align: right;\">\n",
       "      <th></th>\n",
       "      <th>dropped</th>\n",
       "      <th>percent</th>\n",
       "      <th>subj</th>\n",
       "      <th>task</th>\n",
       "      <th>total</th>\n",
       "    </tr>\n",
       "  </thead>\n",
       "  <tbody>\n",
       "    <tr>\n",
       "      <th>0</th>\n",
       "      <td>1</td>\n",
       "      <td>0.800000</td>\n",
       "      <td>CP7</td>\n",
       "      <td>DecisionAud</td>\n",
       "      <td>125</td>\n",
       "    </tr>\n",
       "    <tr>\n",
       "      <th>1</th>\n",
       "      <td>4</td>\n",
       "      <td>1.515152</td>\n",
       "      <td>CP9</td>\n",
       "      <td>DecisionAud</td>\n",
       "      <td>264</td>\n",
       "    </tr>\n",
       "    <tr>\n",
       "      <th>2</th>\n",
       "      <td>1</td>\n",
       "      <td>0.869565</td>\n",
       "      <td>GP15</td>\n",
       "      <td>EmoRep</td>\n",
       "      <td>115</td>\n",
       "    </tr>\n",
       "    <tr>\n",
       "      <th>3</th>\n",
       "      <td>1</td>\n",
       "      <td>0.757576</td>\n",
       "      <td>GP15</td>\n",
       "      <td>FaceEmo</td>\n",
       "      <td>132</td>\n",
       "    </tr>\n",
       "    <tr>\n",
       "      <th>4</th>\n",
       "      <td>2</td>\n",
       "      <td>1.503759</td>\n",
       "      <td>GP15</td>\n",
       "      <td>FaceGen</td>\n",
       "      <td>133</td>\n",
       "    </tr>\n",
       "    <tr>\n",
       "      <th>5</th>\n",
       "      <td>1</td>\n",
       "      <td>1.333333</td>\n",
       "      <td>GP28</td>\n",
       "      <td>SelfAud</td>\n",
       "      <td>75</td>\n",
       "    </tr>\n",
       "    <tr>\n",
       "      <th>6</th>\n",
       "      <td>1</td>\n",
       "      <td>1.098901</td>\n",
       "      <td>GP35</td>\n",
       "      <td>EmoGen</td>\n",
       "      <td>91</td>\n",
       "    </tr>\n",
       "    <tr>\n",
       "      <th>7</th>\n",
       "      <td>2</td>\n",
       "      <td>2.298851</td>\n",
       "      <td>GP35</td>\n",
       "      <td>EmoRep</td>\n",
       "      <td>87</td>\n",
       "    </tr>\n",
       "    <tr>\n",
       "      <th>8</th>\n",
       "      <td>1</td>\n",
       "      <td>0.952381</td>\n",
       "      <td>GP35</td>\n",
       "      <td>FaceEmo</td>\n",
       "      <td>105</td>\n",
       "    </tr>\n",
       "    <tr>\n",
       "      <th>9</th>\n",
       "      <td>1</td>\n",
       "      <td>0.719424</td>\n",
       "      <td>JH10</td>\n",
       "      <td>EmoRep</td>\n",
       "      <td>139</td>\n",
       "    </tr>\n",
       "    <tr>\n",
       "      <th>10</th>\n",
       "      <td>1</td>\n",
       "      <td>1.960784</td>\n",
       "      <td>JH17</td>\n",
       "      <td>EmoRep</td>\n",
       "      <td>51</td>\n",
       "    </tr>\n",
       "    <tr>\n",
       "      <th>11</th>\n",
       "      <td>2</td>\n",
       "      <td>1.739130</td>\n",
       "      <td>JH2</td>\n",
       "      <td>FaceEmo</td>\n",
       "      <td>115</td>\n",
       "    </tr>\n",
       "    <tr>\n",
       "      <th>12</th>\n",
       "      <td>2</td>\n",
       "      <td>1.449275</td>\n",
       "      <td>JH5</td>\n",
       "      <td>EmoRep</td>\n",
       "      <td>138</td>\n",
       "    </tr>\n",
       "    <tr>\n",
       "      <th>13</th>\n",
       "      <td>1</td>\n",
       "      <td>1.123596</td>\n",
       "      <td>ST15</td>\n",
       "      <td>SelfAud</td>\n",
       "      <td>89</td>\n",
       "    </tr>\n",
       "    <tr>\n",
       "      <th>14</th>\n",
       "      <td>5</td>\n",
       "      <td>1.196172</td>\n",
       "      <td>ST27</td>\n",
       "      <td>DecisionVis</td>\n",
       "      <td>418</td>\n",
       "    </tr>\n",
       "    <tr>\n",
       "      <th>15</th>\n",
       "      <td>2</td>\n",
       "      <td>0.727273</td>\n",
       "      <td>ST32</td>\n",
       "      <td>DecisionVis</td>\n",
       "      <td>275</td>\n",
       "    </tr>\n",
       "    <tr>\n",
       "      <th>16</th>\n",
       "      <td>2</td>\n",
       "      <td>1.459854</td>\n",
       "      <td>ST4</td>\n",
       "      <td>EmoRep</td>\n",
       "      <td>137</td>\n",
       "    </tr>\n",
       "    <tr>\n",
       "      <th>17</th>\n",
       "      <td>1</td>\n",
       "      <td>1.265823</td>\n",
       "      <td>ST4</td>\n",
       "      <td>SelfAud</td>\n",
       "      <td>79</td>\n",
       "    </tr>\n",
       "    <tr>\n",
       "      <th>18</th>\n",
       "      <td>3</td>\n",
       "      <td>2.040816</td>\n",
       "      <td>ST6</td>\n",
       "      <td>EmoRep</td>\n",
       "      <td>147</td>\n",
       "    </tr>\n",
       "  </tbody>\n",
       "</table>\n",
       "</div>"
      ],
      "text/plain": [
       "    dropped   percent  subj         task  total\n",
       "0         1  0.800000   CP7  DecisionAud    125\n",
       "1         4  1.515152   CP9  DecisionAud    264\n",
       "2         1  0.869565  GP15       EmoRep    115\n",
       "3         1  0.757576  GP15      FaceEmo    132\n",
       "4         2  1.503759  GP15      FaceGen    133\n",
       "5         1  1.333333  GP28      SelfAud     75\n",
       "6         1  1.098901  GP35       EmoGen     91\n",
       "7         2  2.298851  GP35       EmoRep     87\n",
       "8         1  0.952381  GP35      FaceEmo    105\n",
       "9         1  0.719424  JH10       EmoRep    139\n",
       "10        1  1.960784  JH17       EmoRep     51\n",
       "11        2  1.739130   JH2      FaceEmo    115\n",
       "12        2  1.449275   JH5       EmoRep    138\n",
       "13        1  1.123596  ST15      SelfAud     89\n",
       "14        5  1.196172  ST27  DecisionVis    418\n",
       "15        2  0.727273  ST32  DecisionVis    275\n",
       "16        2  1.459854   ST4       EmoRep    137\n",
       "17        1  1.265823   ST4      SelfAud     79\n",
       "18        3  2.040816   ST6       EmoRep    147"
      ]
     },
     "execution_count": 87,
     "metadata": {},
     "output_type": "execute_result"
    }
   ],
   "source": [
    "pd.DataFrame(outlier_dict)"
   ]
  },
  {
   "cell_type": "code",
   "execution_count": 79,
   "metadata": {
    "collapsed": false
   },
   "outputs": [
    {
     "data": {
      "text/plain": [
       "defaultdict(list,\n",
       "            {'dropped': [1,\n",
       "              4,\n",
       "              1,\n",
       "              1,\n",
       "              2,\n",
       "              1,\n",
       "              1,\n",
       "              2,\n",
       "              1,\n",
       "              1,\n",
       "              1,\n",
       "              2,\n",
       "              2,\n",
       "              1,\n",
       "              5,\n",
       "              2,\n",
       "              2,\n",
       "              1,\n",
       "              3],\n",
       "             'percent': [0.0080000000000000002,\n",
       "              0.015151515151515152,\n",
       "              0.0086956521739130436,\n",
       "              0.007575757575757576,\n",
       "              0.015037593984962405,\n",
       "              0.013333333333333334,\n",
       "              0.01098901098901099,\n",
       "              0.022988505747126436,\n",
       "              0.0095238095238095247,\n",
       "              0.0071942446043165471,\n",
       "              0.019607843137254902,\n",
       "              0.017391304347826087,\n",
       "              0.014492753623188406,\n",
       "              0.011235955056179775,\n",
       "              0.011961722488038277,\n",
       "              0.0072727272727272727,\n",
       "              0.014598540145985401,\n",
       "              0.012658227848101266,\n",
       "              0.020408163265306121],\n",
       "             'subj': ['CP7',\n",
       "              'CP9',\n",
       "              'GP15',\n",
       "              'GP15',\n",
       "              'GP15',\n",
       "              'GP28',\n",
       "              'GP35',\n",
       "              'GP35',\n",
       "              'GP35',\n",
       "              'JH10',\n",
       "              'JH17',\n",
       "              'JH2',\n",
       "              'JH5',\n",
       "              'ST15',\n",
       "              'ST27',\n",
       "              'ST32',\n",
       "              'ST4',\n",
       "              'ST4',\n",
       "              'ST6'],\n",
       "             'task': ['DecisionAud',\n",
       "              'DecisionAud',\n",
       "              'EmoRep',\n",
       "              'FaceEmo',\n",
       "              'FaceGen',\n",
       "              'SelfAud',\n",
       "              'EmoGen',\n",
       "              'EmoRep',\n",
       "              'FaceEmo',\n",
       "              'EmoRep',\n",
       "              'EmoRep',\n",
       "              'FaceEmo',\n",
       "              'EmoRep',\n",
       "              'SelfAud',\n",
       "              'DecisionVis',\n",
       "              'DecisionVis',\n",
       "              'EmoRep',\n",
       "              'SelfAud',\n",
       "              'EmoRep'],\n",
       "             'total': [125,\n",
       "              264,\n",
       "              115,\n",
       "              132,\n",
       "              133,\n",
       "              75,\n",
       "              91,\n",
       "              87,\n",
       "              105,\n",
       "              139,\n",
       "              51,\n",
       "              115,\n",
       "              138,\n",
       "              89,\n",
       "              418,\n",
       "              275,\n",
       "              137,\n",
       "              79,\n",
       "              147]})"
      ]
     },
     "execution_count": 79,
     "metadata": {},
     "output_type": "execute_result"
    }
   ],
   "source": []
  }
 ],
 "metadata": {
  "anaconda-cloud": {},
  "kernelspec": {
   "display_name": "Python [conda root]",
   "language": "python",
   "name": "conda-root-py"
  },
  "language_info": {
   "codemirror_mode": {
    "name": "ipython",
    "version": 2
   },
   "file_extension": ".py",
   "mimetype": "text/x-python",
   "name": "python",
   "nbconvert_exporter": "python",
   "pygments_lexer": "ipython2",
   "version": "2.7.12"
  }
 },
 "nbformat": 4,
 "nbformat_minor": 1
}
