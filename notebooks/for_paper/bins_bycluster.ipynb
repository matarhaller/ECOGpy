{
 "cells": [
  {
   "cell_type": "code",
   "execution_count": 1,
   "metadata": {
    "collapsed": false
   },
   "outputs": [
    {
     "name": "stdout",
     "output_type": "stream",
     "text": [
      "/home/knight/matar/PYTHON/ECOGpy\n"
     ]
    }
   ],
   "source": [
    "cd ~/PYTHON/ECOGpy/"
   ]
  },
  {
   "cell_type": "code",
   "execution_count": 2,
   "metadata": {
    "collapsed": false
   },
   "outputs": [
    {
     "name": "stdout",
     "output_type": "stream",
     "text": [
      "Populating the interactive namespace from numpy and matplotlib\n"
     ]
    }
   ],
   "source": [
    "%pylab inline"
   ]
  },
  {
   "cell_type": "code",
   "execution_count": 3,
   "metadata": {
    "collapsed": true
   },
   "outputs": [],
   "source": [
    "import pandas as pd\n",
    "import os\n",
    "from scipy import stats\n",
    "from utils.loadmat import loadmat\n",
    "from utils.fdr_correct import fdr2\n",
    "import scipy.io as spio\n",
    "import numpy as np"
   ]
  },
  {
   "cell_type": "code",
   "execution_count": 4,
   "metadata": {
    "collapsed": false
   },
   "outputs": [
    {
     "data": {
      "text/plain": [
       "'/home/knight/matar/MATLAB/DATA/Avgusta/PCA/bins/bycluster'"
      ]
     },
     "execution_count": 4,
     "metadata": {},
     "output_type": "execute_result"
    }
   ],
   "source": [
    "base = '/home/knight/matar/MATLAB/DATA/Avgusta/'\n",
    "savedir = os.path.join(base, 'PCA', 'bins', 'bycluster')\n",
    "savedir"
   ]
  },
  {
   "cell_type": "code",
   "execution_count": 5,
   "metadata": {
    "collapsed": true
   },
   "outputs": [],
   "source": [
    "filename = os.path.join(base, 'PCA', 'csvs_FINAL', 'mean_traces_all_subjs_dropSR.csv')\n",
    "df = pd.read_csv(filename)"
   ]
  },
  {
   "cell_type": "code",
   "execution_count": 170,
   "metadata": {
    "collapsed": false
   },
   "outputs": [
    {
     "name": "stdout",
     "output_type": "stream",
     "text": [
      "4\n",
      "5\n",
      "6\n",
      "3\n",
      "1\n"
     ]
    }
   ],
   "source": [
    "subj, task = 'GP15', 'EmoGen'\n",
    "\n",
    "filename = os.path.join(base, 'Subjs', subj, task, 'HG_elecMTX_zscore.mat')\n",
    "data_dict = loadmat(filename)\n",
    "data = data_dict['data_zscore']\n",
    "active_elecs = data_dict['active_elecs']\n",
    "RTs = data_dict['RTs']\n",
    "\n",
    "for c in df[(df.subj == subj) & (df.task == task)].cluster.unique():\n",
    "    print c\n",
    "    #get elecs in cluster\n",
    "    elecs = df[(df.subj == subj) & (df.task == task)].groupby('cluster').get_group(c).elec.values\n",
    "    eidx = np.in1d(active_elecs, elecs)\n",
    "   \n",
    "    #get cluster trials, sorted by rt\n",
    "    cdata = np.vstack(data[eidx,:,:])\n",
    "    RTs_tile = np.tile(RTs, sum(eidx))\n",
    "    ridx = np.argsort(RTs_tile)\n",
    "    cdata = cdata[ridx,:]\n",
    "\n",
    "    #take average across elecs\n",
    "    cdata = pd.DataFrame(cdata, index = np.repeat(range(data.shape[1]), sum(eidx)))\n",
    "    cdata = cdata.groupby(cdata.index).mean()\n",
    "\n",
    "    filename = os.path.join(savedir, 'trace_data', 'trace_data_c%i.mat' %(c))\n",
    "    spio.savemat(filename, {'cdata': np.array(cdata), 'RTs': RTs[RTs.argsort()]})\n"
   ]
  },
  {
   "cell_type": "code",
   "execution_count": 169,
   "metadata": {
    "collapsed": false
   },
   "outputs": [
    {
     "data": {
      "text/plain": [
       "'/home/knight/matar/MATLAB/DATA/Avgusta/PCA/bins/bycluster/trace_data/trace_data_c1.mat'"
      ]
     },
     "execution_count": 169,
     "metadata": {},
     "output_type": "execute_result"
    }
   ],
   "source": [
    "filename"
   ]
  },
  {
   "cell_type": "code",
   "execution_count": null,
   "metadata": {
    "collapsed": true
   },
   "outputs": [],
   "source": []
  }
 ],
 "metadata": {
  "kernelspec": {
   "display_name": "Python 2",
   "language": "python",
   "name": "python2"
  },
  "language_info": {
   "codemirror_mode": {
    "name": "ipython",
    "version": 2
   },
   "file_extension": ".py",
   "mimetype": "text/x-python",
   "name": "python",
   "nbconvert_exporter": "python",
   "pygments_lexer": "ipython2",
   "version": "2.7.11"
  }
 },
 "nbformat": 4,
 "nbformat_minor": 0
}
