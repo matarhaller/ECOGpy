{
 "metadata": {
  "name": "",
  "signature": "sha256:6d5e50137d9dd1d528966cf176858caec2963f99b4afaf17bc8b89f3091fdc7b"
 },
 "nbformat": 3,
 "nbformat_minor": 0,
 "worksheets": [
  {
   "cells": [
    {
     "cell_type": "code",
     "collapsed": false,
     "input": [
      "import os\n",
      "from loadmat import loadmat\n",
      "import pandas as pd"
     ],
     "language": "python",
     "metadata": {},
     "outputs": [],
     "prompt_number": 18
    },
    {
     "cell_type": "code",
     "collapsed": false,
     "input": [
      "SJdir = '/home/knight/matar/MATLAB/DATA/Avgusta/'\n",
      "datafile = os.path.join(SJdir, 'ROIs' ,'brain_ROI.mat')\n",
      "data = loadmat(datafile)\n",
      "brain_ROI = data['brain_ROI']"
     ],
     "language": "python",
     "metadata": {},
     "outputs": [],
     "prompt_number": 19
    },
    {
     "cell_type": "code",
     "collapsed": false,
     "input": [
      "filename = os.path.join(SJdir, 'PCA', 'duration_dict_500_FINAL', 'groupidx_activeclusters_hclust_withduration_maxRTlocked_withcriteria_labeled.csv')\n",
      "df = pd.read_csv(filename)"
     ],
     "language": "python",
     "metadata": {},
     "outputs": [],
     "prompt_number": 20
    },
    {
     "cell_type": "markdown",
     "metadata": {},
     "source": [
      "### create ROI column for groupidx_..._withcriteria.csv dataframe \n",
      "#### (using get_ROI function below) "
     ]
    },
    {
     "cell_type": "code",
     "collapsed": false,
     "input": [
      "df['subj_for_ROI'] = df['subj']\n",
      "df.loc[(df.subj_for_ROI == 'GP35') & (df.task == 'EmoGen'), 'subj_for_ROI'] = 'GP35_words'\n",
      "df.loc[(df.subj_for_ROI == 'GP35') & (df.task == 'EmoRep'), 'subj_for_ROI'] = 'GP35_words'\n",
      "df.loc[(df.subj_for_ROI == 'GP35') & (df.task == 'FaceEmo'), 'subj_for_ROI'] = 'GP35_face'\n",
      "df.loc[(df.subj_for_ROI == 'GP35') & (df.task == 'FaceGen'), 'subj_for_ROI'] = 'GP35_face'"
     ],
     "language": "python",
     "metadata": {},
     "outputs": [],
     "prompt_number": 21
    },
    {
     "cell_type": "code",
     "collapsed": false,
     "input": [
      "#create ROI column for dataframe\n",
      "df['ROI'] = df.apply(lambda row: get_ROI(row['subj_for_ROI'], row['active_elecs'], brain_ROI), axis=1)"
     ],
     "language": "python",
     "metadata": {},
     "outputs": [],
     "prompt_number": 22
    },
    {
     "cell_type": "code",
     "collapsed": false,
     "input": [
      "cols = list(df.columns)\n",
      "cols.remove('subj_for_ROI')\n",
      "#cols.remove('Unnamed: 0') \n",
      "#cols.remove('Unnamed: 0.1')\n",
      "df = df[cols]"
     ],
     "language": "python",
     "metadata": {},
     "outputs": [],
     "prompt_number": 24
    },
    {
     "cell_type": "code",
     "collapsed": false,
     "input": [
      "#save file\n",
      "filename = os.path.join(SJdir, 'PCA', 'duration_dict_500_FINAL', 'groupidx_activeclusters_hclust_withduration_maxRTlocked_withcriteria_labeled_ROI.csv')\n",
      "df.to_csv(filename)\n"
     ],
     "language": "python",
     "metadata": {},
     "outputs": [],
     "prompt_number": 25
    },
    {
     "cell_type": "code",
     "collapsed": false,
     "input": [
      "brain_ROI['GP35_face']['STG']"
     ],
     "language": "python",
     "metadata": {},
     "outputs": [
      {
       "metadata": {},
       "output_type": "pyout",
       "prompt_number": 26,
       "text": [
        "array([15, 20, 21, 22, 23, 28], dtype=uint8)"
       ]
      }
     ],
     "prompt_number": 26
    },
    {
     "cell_type": "markdown",
     "metadata": {},
     "source": [
      "#### ROI stats"
     ]
    },
    {
     "cell_type": "code",
     "collapsed": false,
     "input": [
      "##for elecs in active clusters\n",
      "filename = os.path.join(SJdir, 'PCA', 'duration_dict_500', 'groupidx_activeclusters_hclust_withduration_thresh15_maxRTlocked_withcriteria_ROI.csv')\n",
      "df = pd.read_csv(filename)"
     ],
     "language": "python",
     "metadata": {},
     "outputs": [],
     "prompt_number": 28
    },
    {
     "cell_type": "code",
     "collapsed": false,
     "input": [
      "df_ROI = df.groupby(['subj','task', 'ROI']).count('active_elecs')['active_elecs']"
     ],
     "language": "python",
     "metadata": {},
     "outputs": [],
     "prompt_number": 29
    },
    {
     "cell_type": "code",
     "collapsed": false,
     "input": [
      "filename = os.path.join(SJdir, 'PCA', 'ROIs', 'ROI_summary_active_clusters.csv')\n",
      "df_ROI.to_csv(filename)"
     ],
     "language": "python",
     "metadata": {},
     "outputs": [],
     "prompt_number": 30
    },
    {
     "cell_type": "code",
     "collapsed": false,
     "input": [
      "##for all active elecs\n",
      "filename = os.path.join(SJdir, 'PCA', 'hclust', 'groupidx_hclust.csv')\n",
      "df = pd.read_csv(filename)"
     ],
     "language": "python",
     "metadata": {},
     "outputs": [],
     "prompt_number": 31
    },
    {
     "cell_type": "code",
     "collapsed": false,
     "input": [
      "df['subj_for_ROI'] = df['subj']\n",
      "df.loc[(df.subj_for_ROI == 'GP35') & (df.task == 'EmoGen'), 'subj_for_ROI'] = 'GP35_words'\n",
      "df.loc[(df.subj_for_ROI == 'GP35') & (df.task == 'EmoRep'), 'subj_for_ROI'] = 'GP35_words'\n",
      "df.loc[(df.subj_for_ROI == 'GP35') & (df.task == 'FaceEmo'), 'subj_for_ROI'] = 'GP35_face'\n",
      "df.loc[(df.subj_for_ROI == 'GP35') & (df.task == 'FaceGen'), 'subj_for_ROI'] = 'GP35_face'"
     ],
     "language": "python",
     "metadata": {},
     "outputs": [],
     "prompt_number": 32
    },
    {
     "cell_type": "code",
     "collapsed": false,
     "input": [
      "#create ROI column for dataframe\n",
      "df['ROI'] = df.apply(lambda row: get_ROI(row['subj_for_ROI'], row['active_elec'], brain_ROI), axis=1)"
     ],
     "language": "python",
     "metadata": {},
     "outputs": [],
     "prompt_number": 33
    },
    {
     "cell_type": "code",
     "collapsed": false,
     "input": [
      "cols = list(df.columns)\n",
      "cols.remove('subj_for_ROI')\n",
      "cols.remove('Unnamed: 0') \n",
      "df = df[cols]"
     ],
     "language": "python",
     "metadata": {},
     "outputs": [],
     "prompt_number": 34
    },
    {
     "cell_type": "code",
     "collapsed": false,
     "input": [
      "df_ROI = df.groupby(['subj','task', 'ROI']).count('active_elec')['active_elec']"
     ],
     "language": "python",
     "metadata": {},
     "outputs": [],
     "prompt_number": 35
    },
    {
     "cell_type": "code",
     "collapsed": false,
     "input": [
      "filename = os.path.join(SJdir, 'PCA', 'ROIs', 'ROI_summary_all_active_elecs.csv')\n",
      "df_ROI.to_csv(filename)"
     ],
     "language": "python",
     "metadata": {},
     "outputs": [],
     "prompt_number": 36
    },
    {
     "cell_type": "markdown",
     "metadata": {},
     "source": [
      "### pull all electrodes recorded (active and inactive, for coverage) from brain_ROI.mat"
     ]
    },
    {
     "cell_type": "code",
     "collapsed": false,
     "input": [
      "ROIs = list(); elecs = list(); subjs = list()\n",
      "\n",
      "for subj in brain_ROI.keys():\n",
      "    for ROI in  brain_ROI[subj].keys():    \n",
      "        e = brain_ROI[subj][ROI]\n",
      "        elecs = np.append(elecs, e)\n",
      "        try:\n",
      "            len(e)\n",
      "        except:\n",
      "            e = reshape(e,1)           \n",
      "        ROIs.extend([ROI] * len(e))\n",
      "        subjs.extend([subj] * len(e))\n"
     ],
     "language": "python",
     "metadata": {},
     "outputs": [],
     "prompt_number": 129
    },
    {
     "cell_type": "code",
     "collapsed": false,
     "input": [
      "roi_dict = {'subj':subjs, 'ROI':ROIs, 'elec':elecs}"
     ],
     "language": "python",
     "metadata": {},
     "outputs": [],
     "prompt_number": 131
    },
    {
     "cell_type": "code",
     "collapsed": false,
     "input": [
      "df = pd.DataFrame(roi_dict)\n",
      "df = df[['subj','ROI', 'elec']]\n",
      "df = df.sort(['subj','ROI', 'elec'])"
     ],
     "language": "python",
     "metadata": {},
     "outputs": [],
     "prompt_number": 138
    },
    {
     "cell_type": "code",
     "collapsed": false,
     "input": [
      "filename = os.path.join(SJdir, 'Subjs', 'coverage_allelecs.csv')\n",
      "df.to_csv(filename)"
     ],
     "language": "python",
     "metadata": {},
     "outputs": [],
     "prompt_number": 139
    },
    {
     "cell_type": "markdown",
     "metadata": {},
     "source": [
      "#### function for pulling ROI given elec number"
     ]
    },
    {
     "cell_type": "code",
     "collapsed": false,
     "input": [
      "def get_ROI(subj, e, brain_ROI):\n",
      "    \"\"\"\n",
      "    given a subj, elec and brain_ROI dictionary will return the ROI associated with the electrode\n",
      "    \"\"\"\n",
      "    try:\n",
      "        rois = brain_ROI[subj]\n",
      "    except:\n",
      "        return None\n",
      "    else:\n",
      "        for roi, elecs in rois.iteritems():\n",
      "            if np.in1d(e, elecs):\n",
      "                return roi"
     ],
     "language": "python",
     "metadata": {},
     "outputs": [],
     "prompt_number": 7
    },
    {
     "cell_type": "code",
     "collapsed": false,
     "input": [],
     "language": "python",
     "metadata": {},
     "outputs": []
    }
   ],
   "metadata": {}
  }
 ]
}