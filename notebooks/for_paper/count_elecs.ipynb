{
 "cells": [
  {
   "cell_type": "code",
   "execution_count": null,
   "metadata": {
    "collapsed": true
   },
   "outputs": [],
   "source": [
    "%pylab inline"
   ]
  },
  {
   "cell_type": "code",
   "execution_count": null,
   "metadata": {
    "collapsed": true
   },
   "outputs": [],
   "source": [
    "sys.path.insert(0, '/home/knight/matar/PYTHON/ECOGpy/pacpy')\n",
    "sys.path.insert(0, '/home/knight/matar/PYTHON/ECOGpy/ecogtools')\n",
    "sys.path.insert(0, '/home/knight/matar/PYTHON/ECOGpy/')\n"
   ]
  },
  {
   "cell_type": "code",
   "execution_count": null,
   "metadata": {
    "collapsed": true
   },
   "outputs": [],
   "source": [
    "import pandas as pd\n",
    "import os\n",
    "from scipy import stats\n",
    "from utils import loadmat\n",
    "import scipy.io as spio\n",
    "import matplotlib.gridspec as gridspec\n",
    "from __future__ import division\n",
    "from utils.get_ROI import get_ROI"
   ]
  },
  {
   "cell_type": "code",
   "execution_count": null,
   "metadata": {
    "collapsed": true
   },
   "outputs": [],
   "source": [
    "base ='/home/knight/matar/MATLAB/DATA/Avgusta/'\n"
   ]
  },
  {
   "cell_type": "code",
   "execution_count": null,
   "metadata": {
    "collapsed": true
   },
   "outputs": [],
   "source": [
    "#calculate percentages (also L vs R)"
   ]
  },
  {
   "cell_type": "code",
   "execution_count": null,
   "metadata": {
    "collapsed": true
   },
   "outputs": [],
   "source": [
    "# calculate percentages\n",
    "filename = os.path.join(SJdir, 'PCA', 'csvs_FINAL', 'mean_traces_all_subjs_dropSR.csv')\n",
    "df = pd.read_csv(filename)\n",
    "print 'R %.2f percent of active elecs' %(sum(df.pattern == 'R')/df.shape[0] * 100)\n",
    "print 'D %.2f percent of active elecs' %(sum(df.pattern == 'D')/df.shape[0] * 100)\n",
    "print 'S %.2f percent of active elecs' %(sum(df.pattern == 'S')/df.shape[0] * 100)\n",
    "print 'SR %.2f percent of active elecs' %(sum(df.pattern == 'SR')/df.shape[0] * 100)\n",
    "print 'sustained %.2f percent of active elecs' %(sum(df.pattern == 'sustained')/df.shape[0] * 100)"
   ]
  },
  {
   "cell_type": "code",
   "execution_count": null,
   "metadata": {
    "collapsed": true
   },
   "outputs": [],
   "source": [
    "# calculate percentage of active elecs in L vs R\n",
    "filename = os.path.join(SJdir, 'PCA', 'csvs_FINAL', 'mean_traces_all_subjs_dropSR.csv')\n",
    "df = pd.read_csv(filename)\n",
    "ROIs = np.unique(df.ROI)\n",
    "right = [roi for roi in ROIs if roi[0] == 'R']\n",
    "left = [roi for roi in ROIs if roi not in right]\n",
    "\n",
    "print '% of active elecs in R hemisphere : {0}'.format((sum(df.ROI.isin(right))/df.ROI.shape))\n",
    "print '% of active elecs in L hemisphere : {0}'.format((sum(df.ROI.isin(left))/df.ROI.shape))\n"
   ]
  },
  {
   "cell_type": "code",
   "execution_count": null,
   "metadata": {
    "collapsed": true
   },
   "outputs": [],
   "source": [
    "print df.ROI.isin(right).sum()\n",
    "print df.ROI.isin(left).sum()"
   ]
  },
  {
   "cell_type": "code",
   "execution_count": null,
   "metadata": {
    "collapsed": true
   },
   "outputs": [],
   "source": [
    "#full coverage (all recorded)\n",
    "df = pd.read_csv(os.path.join(SJdir, 'Subjs','coverage_allelecs.csv'))\n",
    "tmp = df[~(df.subj.isin(['GP44','ST28','GP27', 'ST13', 'GP35_face']))]\n",
    "print tmp.shape"
   ]
  },
  {
   "cell_type": "code",
   "execution_count": null,
   "metadata": {
    "collapsed": true
   },
   "outputs": [],
   "source": [
    "data_dict = loadmat.loadmat('/home/knight/matar/MATLAB/DATA/Avgusta/ROIs/brain_ROI.mat')\n",
    "brain_ROI = data_dict['brain_ROI']"
   ]
  },
  {
   "cell_type": "code",
   "execution_count": null,
   "metadata": {
    "collapsed": true
   },
   "outputs": [],
   "source": [
    "subjs = list(df.subj.unique())\n",
    "subjs.remove('GP35')\n",
    "subjs.extend(['GP35_face', 'GP35_words'])\n",
    "subjs"
   ]
  },
  {
   "cell_type": "code",
   "execution_count": null,
   "metadata": {
    "collapsed": true
   },
   "outputs": [],
   "source": [
    "#look at dropped subjects"
   ]
  },
  {
   "cell_type": "code",
   "execution_count": null,
   "metadata": {
    "collapsed": true
   },
   "outputs": [],
   "source": [
    "reconlist = pd.read_csv(os.path.join(base, 'PCA','reconlist.csv'))\n",
    "reconlist_pruned = pd.read_csv(os.path.join(base, 'PCA','reconlist_pruned.csv'))"
   ]
  },
  {
   "cell_type": "code",
   "execution_count": null,
   "metadata": {
    "collapsed": true
   },
   "outputs": [],
   "source": [
    "np.setdiff1d(reconlist.subj_task, reconlist_pruned.subj_task)"
   ]
  },
  {
   "cell_type": "code",
   "execution_count": null,
   "metadata": {
    "collapsed": true
   },
   "outputs": [],
   "source": [
    "for r in df.groupby(['subj','task']).mean().index:\n",
    "    s, t = r\n",
    "    if '_'.join([s,t]) not in reconlist_pruned.subj_task.values:\n",
    "        print (s,t)\n",
    "        \n",
    "for r in reconlist_pruned.subj_task.values:\n",
    "    s, t = r.split('_')\n",
    "    tmp = df[(df.subj == s) & (df.task == t)]\n",
    "    if len(tmp) == 0:\n",
    "        print (s, t)\n",
    "[]        "
   ]
  },
  {
   "cell_type": "code",
   "execution_count": null,
   "metadata": {
    "collapsed": true
   },
   "outputs": [],
   "source": [
    "elec_dict = {}\n",
    "for r in reconlist_pruned.subj_task.values:\n",
    "    subj, task = r.split('_')\n",
    "    if subj in ['ST27','ST32','CP9','CP7']:\n",
    "        num_elecs = 0\n",
    "        filename = os.path.join(SJdir, 'Subjs', subj, task, 'subj_globals.mat')\n",
    "        data_dict = spio.loadmat(filename)\n",
    "        num_elecs = data_dict['elecs'].shape[0]\n",
    "    else:\n",
    "        filename = os.path.join(SJdir, 'Subjs', subj, task, 'gdat_notch.mat')\n",
    "        data_dict = spio.loadmat(filename)\n",
    "        gdat = data_dict['gdat']\n",
    "\n",
    "        num_elecs = sum(gdat[:,1]!=0)\n",
    "    elec_dict['_'.join([subj, task])] = num_elecs\n",
    "    print (subj, task, num_elecs)"
   ]
  }
 ],
 "metadata": {
  "anaconda-cloud": {},
  "kernelspec": {
   "display_name": "Python [default]",
   "language": "python",
   "name": "python2"
  },
  "language_info": {
   "codemirror_mode": {
    "name": "ipython",
    "version": 2
   },
   "file_extension": ".py",
   "mimetype": "text/x-python",
   "name": "python",
   "nbconvert_exporter": "python",
   "pygments_lexer": "ipython2",
   "version": "2.7.12"
  }
 },
 "nbformat": 4,
 "nbformat_minor": 0
}
