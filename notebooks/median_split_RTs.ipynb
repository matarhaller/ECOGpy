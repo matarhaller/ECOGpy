{
 "metadata": {
  "name": "",
  "signature": "sha256:eab403cb470d46f72e096748d22e3f28a1144b3addf937bd9ad8347cb76fd4c8"
 },
 "nbformat": 3,
 "nbformat_minor": 0,
 "worksheets": [
  {
   "cells": [
    {
     "cell_type": "code",
     "collapsed": false,
     "input": [
      "%reset"
     ],
     "language": "python",
     "metadata": {},
     "outputs": [
      {
       "name": "stdout",
       "output_type": "stream",
       "stream": "stdout",
       "text": [
        "Once deleted, variables cannot be recovered. Proceed (y/[n])? y\n"
       ]
      }
     ],
     "prompt_number": 372
    },
    {
     "cell_type": "code",
     "collapsed": false,
     "input": [
      "import pandas as pd\n",
      "import os\n",
      "from __future__ import division\n",
      "import numpy as np\n",
      "import cPickle as pickle\n",
      "import matplotlib.pyplot as plt\n",
      "from scipy import stats\n",
      "import loadmat"
     ],
     "language": "python",
     "metadata": {},
     "outputs": [],
     "prompt_number": 2
    },
    {
     "cell_type": "code",
     "collapsed": false,
     "input": [
      "SJdir = '/home/knight/matar/MATLAB/DATA/Avgusta/'"
     ],
     "language": "python",
     "metadata": {},
     "outputs": [],
     "prompt_number": 3
    },
    {
     "cell_type": "markdown",
     "metadata": {},
     "source": [
      "## Calculates distributions for short versus long trials\n",
      "Long trials take points the same length as short trials\n",
      "\n",
      "This code went into RTs_median_split.py"
     ]
    },
    {
     "cell_type": "code",
     "collapsed": false,
     "input": [
      "filename = os.path.join(SJdir,'PCA', 'Stats', 'single_electrode_windows_withdesignation_EDITED_dropped_withROI.csv')\n",
      "df = pd.read_csv(filename)"
     ],
     "language": "python",
     "metadata": {},
     "outputs": [],
     "prompt_number": 577
    },
    {
     "cell_type": "code",
     "collapsed": false,
     "input": [
      "#for s_t in df.groupby(['subj','task']):\n",
      "#    subj, task = s_t[0]\n",
      "\n",
      "subj, task = ('JH10','SelfAud')\n",
      "\n",
      "#load data\n",
      "filename = os.path.join(SJdir, 'Subjs', subj, task, 'HG_elecMTX_percent_unsmoothed.mat')\n",
      "data_dict = loadmat.loadmat(filename)\n",
      "Params, srate, data_percent, active_elecs, RT = [data_dict.get(k) for k in ['Params', 'srate', 'data_percent', 'active_elecs', 'RTs']]\n",
      "bl_st = Params['bl_st']\n",
      "bl_st = bl_st/1000*srate\n",
      "\n",
      "#load RTs csv file   \n",
      "filename = os.path.join(SJdir, 'PCA', 'ShadePlots_hclust', 'elecs', 'significance_windows', 'csv_files', '_'.join([subj, task, 'RTs']) + '.csv')\n",
      "data = pd.read_csv(filename)\n",
      "RTs = np.round(np.array(data)[:,0])\n",
      "#RTs = RTs-abs(bl_st) #don't remove baseline - \n",
      "#want RT to include baseline so can index properly (here they already include baseline from Shadeplots_elecs_stats.py)        \n",
      "\n",
      "#sort trials by RTs\n",
      "idx = np.argsort(RTs)\n",
      "data_percent = data_percent[:, idx, :]\n",
      "RTs = RTs[idx]\n",
      "\n",
      "median_idx = np.floor(data_percent.shape[1]/2) #index of median split for this subject\n",
      "df_subj = df[(df.subj == subj) & (df.task == task)][['elec','start_idx','end_idx','start_idx_resp','end_idx_resp', 'pattern']]\n"
     ],
     "language": "python",
     "metadata": {},
     "outputs": [],
     "prompt_number": 581
    },
    {
     "cell_type": "code",
     "collapsed": false,
     "input": [
      "#iterate on electrodes\n",
      "for row in df_subj.itertuples():\n",
      "\n",
      "    _, elec, start_idx, end_idx, start_idx_resp, end_idx_resp, pattern = row\n",
      "\n",
      "    #row = df_subj.loc[2]\n",
      "    #elec, start_idx, end_idx, start_idx_resp, end_idx_resp, pattern = row\n",
      "\n",
      "\n",
      "    eidx = np.where(elec == active_elecs)[0][0]\n",
      "    \n",
      "    skews, kurts, means, medians, means_l, means_s = [[] for i in range(6)]    \n",
      "    skews_surr, kurts_surr, means_surr, medians_surr, means_l_surr, means_s_surr = [[] for i in range(6)]\n",
      "\n",
      "    if (pattern == 'S') | (pattern == 'SR'):\n",
      "        start_idx = start_idx + abs(bl_st)\n",
      "        end_idx = end_idx + abs(bl_st)\n",
      "\n",
      "        shorttrials, longtrials, trial_lengths = [[] for i in range(3)]\n",
      "        for i, r in enumerate(RTs):\n",
      "            if i < median_idx:\n",
      "                shorttrials.extend(data_percent[eidx, i, start_idx:end_idx])\n",
      "                trial_lengths.append(int(end_idx-start_idx)) #length of each short trial so can use for long trial indexing\n",
      "            elif i > median_idx: #might only work with odd num of trials\n",
      "                longtrials.extend(data_percent[eidx, i, start_idx:end_idx])\n",
      "                \n",
      "    if (pattern == 'R'):\n",
      "        start_idx = start_idx_resp\n",
      "        end_idx = end_idx_resp\n",
      "\n",
      "        shorttrials, longtrials, trial_lengths = [[] for i in range(3)]\n",
      "        for i, r in enumerate(RTs):\n",
      "            if i < median_idx:\n",
      "                shorttrials.extend(data_percent[eidx, i, int(r)+start_idx:int(r)+end_idx])\n",
      "                trial_lengths.append(int(end_idx-start_idx+1)) #length of each short trial so can use for long trial indexing\n",
      "            elif i > median_idx: #might only work with odd num of trials\n",
      "                longtrials.extend(data_percent[eidx, i, int(r)+start_idx:int(r)+end_idx])\n",
      "            \n",
      "    if pattern == 'D':\n",
      "        start_idx = start_idx + abs(bl_st)\n",
      "        end_idx = end_idx_resp\n",
      "\n",
      "        #create data vectors for long and short trials\n",
      "        shorttrials, longtrials, trial_lengths = [[] for i in range(3)]\n",
      "        for i, r in enumerate(RTs):\n",
      "            if i < median_idx:\n",
      "                shorttrials.extend(data_percent[eidx, i, start_idx:int(r)+end_idx])\n",
      "                trial_lengths.append(int(r+end_idx-start_idx+1)) #length of each short trial so can use for long trial indexing\n",
      "            elif i > median_idx: #might only work with odd num of trials\n",
      "                longtrials.extend(data_percent[eidx, i, start_idx:int(r)+end_idx])\n",
      "\n",
      "        #bootstrap from long distribution, calculate stats\n",
      "        for j in range(1000):\n",
      "            randidx = np.random.permutation(len(longtrials))[0:len(shorttrials)]\n",
      "            longsample = np.array(longtrials)[randidx]\n",
      "\n",
      "            #calculate stats\n",
      "            skews.append(stats.skew(longsample) - stats.skew(shorttrials))\n",
      "            kurts.append(stats.kurtosis(longsample) - stats.kurtosis(shorttrials))\n",
      "            means.append(np.mean(longsample) - np.mean(shorttrials))\n",
      "            medians.append(np.median(longsample) - np.median(shorttrials))\n",
      "            means_l.append(np.mean(longsample))\n",
      "            means_s.append(np.mean(shorttrials))\n",
      "\n",
      "            #calculate long and short trials\n",
      "            #shorttrials_surr, longtrials_surr = [[] for i in range(2)]\n",
      "            #for i, r in enumerate(RTs):\n",
      "            #    if i < median_idx:\n",
      "            #        shorttrials_surr.extend(data_surr[i, start_idx:int(r)+end_idx])\n",
      "            #    elif i > median_idx:\n",
      "            #        longtrials_surr.extend(data_surr[i, start_idx:int(r)+end_idx])                \n",
      "            #subsample long trials\n",
      "            #randidx = np.random.permutation(len(longtrials_surr))[0:len(shorttrials_surr)]\n",
      "            #longsample_surr = np.array(longtrials_surr)[randidx]\n",
      "\n",
      "    else: #for nonduration no need to subsample long sample\n",
      "        longsample = longtrials\n",
      "        skews.append(stats.skew(longsample) - stats.skew(shorttrials))\n",
      "        kurts.append(stats.kurtosis(longsample) - stats.kurtosis(shorttrials))\n",
      "        means.append(np.mean(longsample) - np.mean(shorttrials))\n",
      "        medians.append(np.median(longsample) - np.median(shorttrials)) \n",
      "        \n",
      "    #create permuted difference distribution\n",
      "    for j in range(1000):\n",
      "        randidx = np.random.permutation(len(shorttrials)*2) #no overlap between 'short' and 'long' datapoints\n",
      "        randidx_short = randidx[0:len(randidx)/2] \n",
      "        randidx_long = randidx[len(randidx)/2+1::]\n",
      "        shorttrials_surr = data_percent[eidx,:,:].flatten()[randidx_short]\n",
      "        longsample_surr = data_percent[eidx,:,:].flatten()[randidx_long]\n",
      "\n",
      "        #calculate stats\n",
      "        skews_surr.append(stats.skew(longsample_surr) - stats.skew(shorttrials_surr))\n",
      "        kurts_surr.append(stats.kurtosis(longsample_surr) - stats.kurtosis(shorttrials_surr))\n",
      "        means_surr.append(np.mean(longsample_surr) - np.mean(shorttrials_surr))\n",
      "        medians_surr.append(np.median(longsample_surr) - np.median(shorttrials_surr))\n",
      "        means_l_surr.append(np.mean(longsample_surr))\n",
      "        means_s_surr.append(np.mean(shorttrials_surr))                \n",
      "  \n",
      "    #save\n",
      "    data_dict = {'skew':skews, 'kurtosis':kurts, 'mean':means, 'median':medians, 'means_s':means_s, 'means_l':means_l, 'shorttrials':shorttrials, 'longtrials':longtrials, 'longsample':longsample, 'skew_surr':skews_surr, 'kurtosis_surr':kurts_surr, 'mean_surr':means_surr, 'median_surr':medians_surr}\n",
      "    filename = os.path.join(SJdir, 'PCA', 'Stats', 'RT_median_split', '%s_%s_e%i_distributions.p' %(subj, task, elec))\n",
      "    pickle.dump(data_dict, open(filename, \"wb\"))\n"
     ],
     "language": "python",
     "metadata": {},
     "outputs": [
      {
       "ename": "TypeError",
       "evalue": "'numpy.bool_' object is not iterable",
       "output_type": "pyerr",
       "traceback": [
        "\u001b[1;31m---------------------------------------------------------------------------\u001b[0m\n\u001b[1;31mTypeError\u001b[0m                                 Traceback (most recent call last)",
        "\u001b[1;32m<ipython-input-379-aec1da6804be>\u001b[0m in \u001b[0;36m<module>\u001b[1;34m()\u001b[0m\n\u001b[0;32m    218\u001b[0m             \u001b[0mp\u001b[0m \u001b[1;33m=\u001b[0m \u001b[0msum\u001b[0m\u001b[1;33m(\u001b[0m\u001b[0mmeans_surr\u001b[0m\u001b[1;33m<\u001b[0m\u001b[0mmeans\u001b[0m\u001b[1;33m)\u001b[0m\u001b[1;33m/\u001b[0m\u001b[0mlen\u001b[0m\u001b[1;33m(\u001b[0m\u001b[0mmeans_surr\u001b[0m\u001b[1;33m)\u001b[0m\u001b[1;33m\u001b[0m\u001b[0m\n\u001b[0;32m    219\u001b[0m         \u001b[1;32melse\u001b[0m\u001b[1;33m:\u001b[0m\u001b[1;33m\u001b[0m\u001b[0m\n\u001b[1;32m--> 220\u001b[1;33m             \u001b[0mp\u001b[0m \u001b[1;33m=\u001b[0m \u001b[0msum\u001b[0m\u001b[1;33m(\u001b[0m\u001b[0mmeans_surr\u001b[0m\u001b[1;33m>\u001b[0m\u001b[0mmeans\u001b[0m\u001b[1;33m)\u001b[0m\u001b[1;33m/\u001b[0m\u001b[0mlen\u001b[0m\u001b[1;33m(\u001b[0m\u001b[0mmeans_surr\u001b[0m\u001b[1;33m)\u001b[0m\u001b[1;33m\u001b[0m\u001b[0m\n\u001b[0m\u001b[0;32m    221\u001b[0m         \u001b[0max\u001b[0m\u001b[1;33m[\u001b[0m\u001b[1;36m0\u001b[0m\u001b[1;33m]\u001b[0m\u001b[1;33m.\u001b[0m\u001b[0mset_title\u001b[0m\u001b[1;33m(\u001b[0m\u001b[1;34m'means, p=%.2f'\u001b[0m \u001b[1;33m%\u001b[0m\u001b[1;33m(\u001b[0m\u001b[0mp\u001b[0m\u001b[1;33m)\u001b[0m\u001b[1;33m)\u001b[0m\u001b[1;33m\u001b[0m\u001b[0m\n\u001b[0;32m    222\u001b[0m         \u001b[0max\u001b[0m\u001b[1;33m[\u001b[0m\u001b[1;36m0\u001b[0m\u001b[1;33m]\u001b[0m\u001b[1;33m.\u001b[0m\u001b[0mlegend\u001b[0m\u001b[1;33m(\u001b[0m\u001b[1;33m)\u001b[0m\u001b[1;33m\u001b[0m\u001b[0m\n",
        "\u001b[1;31mTypeError\u001b[0m: 'numpy.bool_' object is not iterable"
       ]
      },
      {
       "metadata": {},
       "output_type": "display_data",
       "png": "[encoded data removed]",
       "text": [
        "<matplotlib.figure.Figure at 0x7f36e29a8bd0>"
       ]
      }
     ],
     "prompt_number": 379
    },
    {
     "cell_type": "markdown",
     "metadata": {},
     "source": [
      "##Plot"
     ]
    },
    {
     "cell_type": "code",
     "collapsed": false,
     "input": [
      "df[df.pattern == 'D'].shape"
     ],
     "language": "python",
     "metadata": {},
     "outputs": [
      {
       "metadata": {},
       "output_type": "pyout",
       "prompt_number": 716,
       "text": [
        "(283, 11)"
       ]
      }
     ],
     "prompt_number": 716
    },
    {
     "cell_type": "code",
     "collapsed": false,
     "input": [
      "filename = os.path.join(SJdir,'PCA', 'Stats', 'single_electrode_windows_withdesignation_EDITED_dropped_withROI.csv')\n",
      "df = pd.read_csv(filename)\n",
      "\n",
      "for row in df.groupby(['subj','task']):\n",
      "    subj, task = row[0]\n",
      "    elecs = row[1].elec\n",
      "    for elec in elecs:\n",
      "        RT_median_split.RT_median_split_plot(subj, task, elec)"
     ],
     "language": "python",
     "metadata": {},
     "outputs": [],
     "prompt_number": 717
    },
    {
     "cell_type": "markdown",
     "metadata": {},
     "source": [
      "## make csv"
     ]
    },
    {
     "cell_type": "code",
     "collapsed": true,
     "input": [
      "filename = os.path.join(SJdir,'PCA', 'Stats', 'single_electrode_windows_withdesignation_EDITED_dropped_withROI.csv')\n",
      "df = pd.read_csv(filename)\n",
      "\n",
      "all_features, all_names = [[] for i in range(2)]\n",
      "\n",
      "#loads in all pickle files\n",
      "\n",
      "for row in df.groupby(['subj','task']):\n",
      "    subj, task = row[0]\n",
      "    elecs = row[1].elec\n",
      "    for elec in elecs:\n",
      "        filename = os.path.join(SJdir, 'PCA', 'Stats', 'RT_median_split', '%s_%s_e%i_distributions.p' %(subj, task, elec))\n",
      "        data_dict = pickle.load(open(filename, \"rb\" ) )        \n",
      "        kurts_surr, kurts, kurts_l, kurts_s, longsample, longtrials, mean_surr, means, means_l, means_s, median_surr, medians, medians_l, medians_s, p_kurt, p_mean, p_median, p_skew, pattern, shorttrials, skew_surr, skews, skews_l, skews_s = [data_dict[k] for k in np.sort(data_dict.keys())]\n",
      "    \n",
      "        feature_list = [means_s, means_l, p_mean, kurts_s, kurts_l, p_kurt, medians_s, medians_l, p_median, skews_s, skews_l, p_skew]\n",
      "        feature_names = ['means_s', 'means_l', 'p_mean', 'kurts_s', 'kurts_l', 'p_kurt', 'medians_s', 'medians_l', 'p_median', 'skews_s', 'skews_l', 'p_skew']\n",
      "        means_s, means_l, p_mean, kurts_s, kurts_l, p_kurt, medians_s, medians_l, p_median, skews_s, skews_l, p_skew = [np.mean(f) for f in feature_list]\n",
      "        feature_list = [means_s, means_l, p_mean, kurts_s, kurts_l, p_kurt, medians_s, medians_l, p_median, skews_s, skews_l, p_skew]\n",
      "\n",
      "        feature_names.extend(['subj','task','elec', 'pattern'])\n",
      "        feature_list.extend([subj, task, elec, pattern])\n",
      "\n",
      "        all_features.extend(feature_list)\n",
      "        all_names.extend(feature_names)"
     ],
     "language": "python",
     "metadata": {},
     "outputs": [],
     "prompt_number": 4
    },
    {
     "cell_type": "code",
     "collapsed": false,
     "input": [
      "#creates and saves csv\n",
      "\n",
      "means_s, means_l, p_mean, kurts_s, kurts_l, p_kurt, medians_s, medians_l, p_median, skews_s, skews_l, p_skew, subjs, tasks, elecs, pattern = [np.array(all_features)[np.arange(i,len(all_features), 16)] for i in range(16)]\n",
      "\n",
      "df_vals = pd.DataFrame({'elec':elecs, 'subj':subjs, 'task':tasks, 'kurts_l':kurts_l, 'kurts_s':kurts_s, 'means_l':means_l, 'means_s':means_s, 'medians_l':medians_l, 'medians_s':medians_s, 'pattern':pattern, 'skews_l':skews_l, 'skews_s':skews_s, 'p_kurt': p_kurt, 'p_mean' : p_mean, 'p_median' : p_median, 'p_skew' : p_skew})\n",
      "cols = ['subj','task','elec','pattern','means_s', 'means_l', 'p_mean', 'medians_s', 'medians_l', 'p_median', 'kurts_s', 'kurts_l', 'p_kurt', 'skews_s', 'skews_l', 'p_skew']\n",
      "df_vals = df_vals[cols]\n",
      "\n",
      "filename = os.path.join(SJdir, 'PCA','Stats','RT_median_split', 'median_split_values.csv')\n",
      "df_vals.to_csv(filename)"
     ],
     "language": "python",
     "metadata": {},
     "outputs": [],
     "prompt_number": 5
    },
    {
     "cell_type": "code",
     "collapsed": false,
     "input": [
      "## add ROIs\n",
      "filename = 'brain_ROI.mat'\n",
      "filename = os.path.join(SJdir, 'ROIs', 'brain_ROI.mat')\n",
      "data = loadmat.loadmat(filename)\n",
      "brain_ROI = data['brain_ROI']"
     ],
     "language": "python",
     "metadata": {},
     "outputs": [],
     "prompt_number": 6
    },
    {
     "cell_type": "code",
     "collapsed": false,
     "input": [
      "def get_ROI(subj, e, brain_ROI, task = None):\n",
      "    '''\n",
      "    Returns an ROI for a given subj and elec.\n",
      "    If subject is GP35 then must give a task argument so knows which ROIs to pull\n",
      "    '''\n",
      "    \n",
      "    if (subj == 'GP35') & ((task == 'EmoRep') | (task == 'EmoGen')):\n",
      "        subj = 'GP35_words'\n",
      "    elif (subj == 'GP35') & ((task == 'FaceEmo') | (task == 'FaceGen')):\n",
      "        subj = 'GP35_face'\n",
      "    \n",
      "    try:\n",
      "        rois = brain_ROI[subj]\n",
      "    except:\n",
      "        return None\n",
      "    else:\n",
      "        for roi, elecs in rois.iteritems():\n",
      "            if np.in1d(e, elecs):\n",
      "                return roi"
     ],
     "language": "python",
     "metadata": {},
     "outputs": [],
     "prompt_number": 7
    },
    {
     "cell_type": "code",
     "collapsed": false,
     "input": [
      "df_vals['ROI'] = df_vals.apply(lambda x:get_ROI(x.subj, int(x.elec), brain_ROI, task = x.task), axis = 1)"
     ],
     "language": "python",
     "metadata": {},
     "outputs": [],
     "prompt_number": 26
    },
    {
     "cell_type": "code",
     "collapsed": false,
     "input": [
      "filename = os.path.join(SJdir, 'PCA','Stats','RT_median_split', 'median_split_values.csv')\n",
      "df_vals.to_csv(filename)"
     ],
     "language": "python",
     "metadata": {},
     "outputs": [],
     "prompt_number": 30
    },
    {
     "cell_type": "markdown",
     "metadata": {},
     "source": [
      "##Difference between tails of distributions (max)\n",
      "* code is in RT_median_split.tail_comparison\n",
      " * saves out .p file for each subj/task and plots\n",
      "* make csv with results from RT_median_split.tail_comparison()"
     ]
    },
    {
     "cell_type": "code",
     "collapsed": false,
     "input": [
      "filename = os.path.join(SJdir,'PCA', 'Stats', 'RT_median_split', 'median_split_dist_tails.p')\n",
      "data_dict = pickle.load(open(filename, \"rb\" ))        \n",
      "\n",
      "data_dict.keys()\n"
     ],
     "language": "python",
     "metadata": {},
     "outputs": [
      {
       "metadata": {},
       "output_type": "pyout",
       "prompt_number": 31,
       "text": [
        "['p_mean',\n",
        " 'mean_all',\n",
        " 'kurt_all',\n",
        " 'skew_all',\n",
        " 'p_kurt',\n",
        " 'pattern',\n",
        " 'p_median',\n",
        " 'task',\n",
        " 'elec',\n",
        " 'p_skew',\n",
        " 'median_all',\n",
        " 'p_tail',\n",
        " 'subj']"
       ]
      }
     ],
     "prompt_number": 31
    },
    {
     "cell_type": "code",
     "collapsed": false,
     "input": [
      "#make CSV\n",
      "data_dict = {'subj':subjs, 'task':tasks, 'elec':elecs, 'pattern':patterns, 'p_kurt':p_kurts, 'p_mean': p_means, 'p_median': p_medians, 'p_skew': p_skews, 'p_tail':tails}\n",
      "df = pd.DataFrame(data_dict)\n",
      "\n",
      "filename = os.path.join(SJdir, 'PCA', 'Stats', 'RT_median_split', '%s_%s_dist_pvalus.csv' %(subj, task))\n",
      "df.to_csv(filename)"
     ],
     "language": "python",
     "metadata": {},
     "outputs": [],
     "prompt_number": 561
    }
   ],
   "metadata": {}
  }
 ]
}