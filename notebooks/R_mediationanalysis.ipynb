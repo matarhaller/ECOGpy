{
 "metadata": {
  "name": "",
  "signature": "sha256:1d264b6b2525e461ad71cc27c033e3fd13b23d85d4b1d7f65e1e5cce7a8fc090"
 },
 "nbformat": 3,
 "nbformat_minor": 0,
 "worksheets": [
  {
   "cells": [
    {
     "cell_type": "code",
     "collapsed": false,
     "input": [
      "%pylab inline"
     ],
     "language": "python",
     "metadata": {},
     "outputs": [
      {
       "output_type": "stream",
       "stream": "stdout",
       "text": [
        "Populating the interactive namespace from numpy and matplotlib\n"
       ]
      }
     ],
     "prompt_number": 1
    },
    {
     "cell_type": "code",
     "collapsed": false,
     "input": [
      "import pandas as pd\n",
      "import os"
     ],
     "language": "python",
     "metadata": {},
     "outputs": [],
     "prompt_number": 13
    },
    {
     "cell_type": "code",
     "collapsed": false,
     "input": [
      "%load_ext rmagic"
     ],
     "language": "python",
     "metadata": {},
     "outputs": [],
     "prompt_number": 4
    },
    {
     "cell_type": "code",
     "collapsed": false,
     "input": [
      "%R library(lavaan)"
     ],
     "language": "python",
     "metadata": {},
     "outputs": [
      {
       "metadata": {},
       "output_type": "display_data",
       "text": [
        "This is lavaan 0.5-17\n",
        "lavaan is BETA software! Please report any bugs.\n"
       ]
      }
     ],
     "prompt_number": 7
    },
    {
     "cell_type": "code",
     "collapsed": false,
     "input": [
      "%R library (semPlot)"
     ],
     "language": "python",
     "metadata": {},
     "outputs": [
      {
       "output_type": "stream",
       "stream": "stdout",
       "text": [
        "Error in library(semPlot) : there is no package called \u2018semPlot\u2019\n"
       ]
      }
     ],
     "prompt_number": 6
    },
    {
     "cell_type": "code",
     "collapsed": false,
     "input": [
      "# load data\n",
      "SJdir = '/home/knight/matar/MATLAB/DATA/Avgusta/'\n",
      "filename = os.path.join(SJdir, 'PCA', 'ShadePlots_hclust', 'elecs', 'significance_windows', 'smoothed', 'mean_traces', 'csv_files', 'mean_traces_all_subjs.csv')\n",
      "df = pd.read_csv(filename)\n",
      "#drop irrelevant elecs and subjects\n",
      "df = df.query(\"subj not in ['GP27', 'ST28', 'GP44']\")\n",
      "idx = df[(df.pattern == 'R') & (df.start_idx == 0)].index\n",
      "df = df.drop(idx)\n",
      "#adjust onset times for my task (so from stim, not cue)\n",
      "idx = df.task.isin(['DecisionAud'])\n",
      "df.loc[idx,'start_idx'] = df.loc[idx].start_idx - 600\n",
      "idx = df.task.isin(['DecisionVis'])\n",
      "df.loc[idx,'start_idx'] = df.loc[idx].start_idx - 500\n",
      "\n",
      "rts = df.groupby(['subj','task']).RTs_median.mean()\n",
      "dur_onset = df[df.pattern == 'D'].groupby(['subj','task'])['start_idx'].mean()\n",
      "resp_onset = df[df.pattern == 'R'].groupby(['subj','task'])['start_idx'].mean()\n",
      "stim_onset = df[(df.pattern == 'S')|(df.pattern == 'SR')].groupby(['subj','task'])['start_idx'].mean()\n",
      "\n",
      "df = pd.concat([resp_onset, stim_onset, dur_onset, rts], axis = 1)\n",
      "df.columns = ['resp_onset','stim_onset','dur_onset', 'RTs_median']\n",
      "\n",
      "data = pd.DataFrame({'Y': df.RTs_median, 'X': df.resp_onset, 'M':dur_onset})\n",
      "\n",
      "#drop if doesn't have both X and M\n",
      "idx = data[(np.isnan(data.X)) | (np.isnan(data.M))].index\n",
      "data = data.drop(idx)"
     ],
     "language": "python",
     "metadata": {},
     "outputs": [],
     "prompt_number": 63
    },
    {
     "cell_type": "code",
     "collapsed": false,
     "input": [
      "model = \\\n",
      "\"\"\"\n",
      "#direct effect\n",
      "Y ~ c*X\n",
      "#mediator\n",
      "M ~ a*X\n",
      "Y ~ b*M\n",
      "#indirect effect\n",
      "ab := a*b\n",
      "#total effect\n",
      "total := c + (a*b) \n",
      "\"\"\""
     ],
     "language": "python",
     "metadata": {},
     "outputs": [],
     "prompt_number": 53
    },
    {
     "cell_type": "code",
     "collapsed": false,
     "input": [
      "#load data and model into R\n",
      "%R -i model,data"
     ],
     "language": "python",
     "metadata": {},
     "outputs": [],
     "prompt_number": 54
    },
    {
     "cell_type": "code",
     "collapsed": false,
     "input": [
      "%%R\n",
      "fit <- sem(model, data = data, se = 'bootstrap')"
     ],
     "language": "python",
     "metadata": {},
     "outputs": [],
     "prompt_number": 55
    },
    {
     "cell_type": "code",
     "collapsed": false,
     "input": [
      "%%R\n",
      "summary(fit)\n",
      "mediation_params <- parameterEstimates(fit)"
     ],
     "language": "python",
     "metadata": {},
     "outputs": [
      {
       "metadata": {},
       "output_type": "display_data",
       "text": [
        "lavaan (0.5-17) converged normally after  16 iterations\n",
        "\n",
        "  Number of observations                            24\n",
        "\n",
        "  Estimator                                         ML\n",
        "  Minimum Function Test Statistic                0.000\n",
        "  Degrees of freedom                                 0\n",
        "\n",
        "Parameter estimates:\n",
        "\n",
        "  Information                                 Observed\n",
        "  Standard Errors                            Bootstrap\n",
        "  Number of requested bootstrap draws             1000\n",
        "  Number of successful bootstrap draws             996\n",
        "\n",
        "                   Estimate  Std.err  Z-value  P(>|z|)\n",
        "Regressions:\n",
        "  Y ~\n",
        "    X         (c)     0.551    0.229    2.404    0.016\n",
        "  M ~\n",
        "    X         (a)     0.317    0.075    4.239    0.000\n",
        "  Y ~\n",
        "    M         (b)     1.088    0.540    2.014    0.044\n",
        "\n",
        "Variances:\n",
        "    Y             57982.487 15919.253\n",
        "    M             18713.802 5439.338\n",
        "\n",
        "Defined parameters:\n",
        "    ab                0.345    0.204    1.694    0.090\n",
        "    total             0.896    0.126    7.095    0.000\n",
        "\n"
       ]
      }
     ],
     "prompt_number": 57
    },
    {
     "cell_type": "code",
     "collapsed": false,
     "input": [
      "%Rpull -d mediation_params\n",
      "\n",
      "df = pd.DataFrame(mediation_params)"
     ],
     "language": "python",
     "metadata": {},
     "outputs": [],
     "prompt_number": 59
    },
    {
     "cell_type": "code",
     "collapsed": false,
     "input": [
      "df.to_csv('/home/knight/matar/mediation_params.csv')"
     ],
     "language": "python",
     "metadata": {},
     "outputs": [],
     "prompt_number": 62
    }
   ],
   "metadata": {}
  }
 ]
}