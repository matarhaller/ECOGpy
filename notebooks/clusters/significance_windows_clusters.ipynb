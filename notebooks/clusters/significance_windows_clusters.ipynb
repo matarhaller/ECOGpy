{
 "metadata": {
  "name": "",
  "signature": "sha256:9b60f04e78d79742625b4b91daea4e40e07098820d55121b34e4c6117f93512f"
 },
 "nbformat": 3,
 "nbformat_minor": 0,
 "worksheets": [
  {
   "cells": [
    {
     "cell_type": "markdown",
     "metadata": {},
     "source": [
      "## stats within activity window - code went into ShadePlots_clusters_stats.py"
     ]
    },
    {
     "cell_type": "code",
     "collapsed": false,
     "input": [
      "%reset"
     ],
     "language": "python",
     "metadata": {},
     "outputs": [
      {
       "name": "stdout",
       "output_type": "stream",
       "stream": "stdout",
       "text": [
        "Once deleted, variables cannot be recovered. Proceed (y/[n])? y\n"
       ]
      }
     ],
     "prompt_number": 361
    },
    {
     "cell_type": "markdown",
     "metadata": {},
     "source": [
      "###calculate mean, peak, sum, latency, proportion latency activity in a significance window"
     ]
    },
    {
     "cell_type": "code",
     "collapsed": false,
     "input": [
      "import pandas as pd\n",
      "import os\n",
      "from __future__ import division\n",
      "import numpy as np\n",
      "import cPickle as pickle\n",
      "import matplotlib.pyplot as plt"
     ],
     "language": "python",
     "metadata": {},
     "outputs": [],
     "prompt_number": 654
    },
    {
     "cell_type": "code",
     "collapsed": false,
     "input": [
      "SJdir = '/home/knight/matar/MATLAB/DATA/Avgusta/'"
     ],
     "language": "python",
     "metadata": {},
     "outputs": [],
     "prompt_number": 655
    },
    {
     "cell_type": "code",
     "collapsed": false,
     "input": [
      "filename = os.path.join(SJdir,'PCA','duration_dict_500_FINAL', 'stim_resp_cluster_windows_withduration_EDITED.xlsx')\n",
      "df = pd.ExcelFile(filename)\n",
      "df = df.parse('stim_resp_cluster_windows_withd')"
     ],
     "language": "python",
     "metadata": {},
     "outputs": [],
     "prompt_number": 656
    },
    {
     "cell_type": "code",
     "collapsed": false,
     "input": [
      "filename"
     ],
     "language": "python",
     "metadata": {},
     "outputs": [
      {
       "metadata": {},
       "output_type": "pyout",
       "prompt_number": 365,
       "text": [
        "'/home/knight/matar/MATLAB/DATA/Avgusta/PCA/duration_dict_500_FINAL/stim_resp_cluster_windows_withduration_EDITED.xlsx'"
       ]
      }
     ],
     "prompt_number": 365
    },
    {
     "cell_type": "code",
     "collapsed": false,
     "input": [
      "subjs = list(); tasks = list()\n",
      "clusts = list();  patterns = list()\n",
      "mean_activity_stim = list(); mean_activity_resp = list(); \n",
      "std_activity_stim = list(); std_activity_resp = list()\n",
      "max_activity_stim = list(); max_activity_resp = list(); \n",
      "sum_activity_stim = list(); sum_activity_resp = list()\n",
      "lat_activity_stim = list(); lat_activity_resp = list()\n",
      "lat_pro_activity_stim = list(); lat_pro_activity_resp = list()\n"
     ],
     "language": "python",
     "metadata": {},
     "outputs": [],
     "prompt_number": 632
    },
    {
     "cell_type": "code",
     "collapsed": false,
     "input": [
      "df.loc[(df.subj == 'GP15') & (df.task == 'EmoGen') & (df.cluster == 6)]"
     ],
     "language": "python",
     "metadata": {},
     "outputs": [
      {
       "html": [
        "<div style=\"max-height:1000px;max-width:1500px;overflow:auto;\">\n",
        "<table border=\"1\" class=\"dataframe\">\n",
        "  <thead>\n",
        "    <tr style=\"text-align: right;\">\n",
        "      <th></th>\n",
        "      <th>subj</th>\n",
        "      <th>task</th>\n",
        "      <th>cluster</th>\n",
        "      <th>pattern</th>\n",
        "      <th>start_idx</th>\n",
        "      <th>end_idx</th>\n",
        "      <th>start_idx_resp</th>\n",
        "      <th>end_idx_resp</th>\n",
        "      <th>all_criteria_passed</th>\n",
        "    </tr>\n",
        "  </thead>\n",
        "  <tbody>\n",
        "    <tr>\n",
        "      <th>3</th>\n",
        "      <td> GP15</td>\n",
        "      <td> EmoGen</td>\n",
        "      <td> 6</td>\n",
        "      <td> D</td>\n",
        "      <td> 94</td>\n",
        "      <td>NaN</td>\n",
        "      <td>NaN</td>\n",
        "      <td> 506</td>\n",
        "      <td> True</td>\n",
        "    </tr>\n",
        "  </tbody>\n",
        "</table>\n",
        "</div>"
       ],
       "metadata": {},
       "output_type": "pyout",
       "prompt_number": 483,
       "text": [
        "   subj    task  cluster pattern  start_idx  end_idx  start_idx_resp  \\\n",
        "3  GP15  EmoGen        6       D         94      NaN             NaN   \n",
        "\n",
        "   end_idx_resp all_criteria_passed  \n",
        "3           506                True  "
       ]
      }
     ],
     "prompt_number": 483
    },
    {
     "cell_type": "code",
     "collapsed": false,
     "input": [
      "df.loc[df.pattern == 'D'].iloc[32]"
     ],
     "language": "python",
     "metadata": {},
     "outputs": [
      {
       "metadata": {},
       "output_type": "pyout",
       "prompt_number": 644,
       "text": [
        "subj                       JH2\n",
        "task                   SelfAud\n",
        "cluster                      4\n",
        "pattern                      D\n",
        "start_idx                  173\n",
        "end_idx                    NaN\n",
        "start_idx_resp             NaN\n",
        "end_idx_resp               -71\n",
        "all_criteria_passed       True\n",
        "Name: 32, dtype: object"
       ]
      }
     ],
     "prompt_number": 644
    },
    {
     "cell_type": "code",
     "collapsed": false,
     "input": [
      "keys = ['subj','task','cluster','pattern','mean_activity_stim','mean_activity_resp','std_activity_stim','std_activity_resp','max_activity_stim','max_activity_resp','sum_activity_stim','sum_activity_resp','lat_activity_stim','lat_activity_resp', 'lat_pro_activity_stim', 'lat_pro_activity_resp']\n",
      "values = [subjs, tasks, clusts, patterns, mean_activity_stim, mean_activity_resp, std_activity_stim, std_activity_resp, max_activity_stim, max_activity_resp, sum_activity_stim, sum_activity_resp, lat_activity_stim, lat_activity_resp, lat_pro_activity_stim, lat_pro_activity_resp]\n",
      "activity_stats = dict(zip(keys, values))\n",
      "\n",
      "    "
     ],
     "language": "python",
     "metadata": {},
     "outputs": [],
     "prompt_number": 605
    },
    {
     "cell_type": "code",
     "collapsed": false,
     "input": [
      "activity_stats['lat_pro_activity_stim']"
     ],
     "language": "python",
     "metadata": {},
     "outputs": [
      {
       "metadata": {},
       "output_type": "pyout",
       "prompt_number": 652,
       "text": [
        "[0.39487716227633934,\n",
        " 0.39487716227633934,\n",
        " 0.41516215491825265,\n",
        " 0.3966616654163545,\n",
        " nan,\n",
        " 0.31964626882434477]"
       ]
      }
     ],
     "prompt_number": 652
    },
    {
     "cell_type": "code",
     "collapsed": false,
     "input": [],
     "language": "python",
     "metadata": {},
     "outputs": [],
     "prompt_number": 647
    },
    {
     "cell_type": "code",
     "collapsed": false,
     "input": [
      "df_stats = pd.DataFrame(activity_stats)"
     ],
     "language": "python",
     "metadata": {},
     "outputs": [],
     "prompt_number": 407
    },
    {
     "cell_type": "code",
     "collapsed": false,
     "input": [
      "df_stats.columns"
     ],
     "language": "python",
     "metadata": {},
     "outputs": [
      {
       "metadata": {},
       "output_type": "pyout",
       "prompt_number": 409,
       "text": [
        "Index([u'cluster', u'lat_activity_resp', u'lat_activity_stim', u'max_activity_resp', u'max_activity_stim', u'mean_activity_resp', u'mean_activity_stim', u'pattern', u'std_activity_resp', u'std_activity_stim', u'subj', u'sum_activity_resp', u'sum_activity_stim', u'task'], dtype='object')"
       ]
      }
     ],
     "prompt_number": 409
    },
    {
     "cell_type": "code",
     "collapsed": false,
     "input": [
      "df_stats = df_stats[keys]"
     ],
     "language": "python",
     "metadata": {},
     "outputs": [],
     "prompt_number": 410
    },
    {
     "cell_type": "code",
     "collapsed": false,
     "input": [
      "df_stats"
     ],
     "language": "python",
     "metadata": {},
     "outputs": [
      {
       "html": [
        "<div style=\"max-height:1000px;max-width:1500px;overflow:auto;\">\n",
        "<table border=\"1\" class=\"dataframe\">\n",
        "  <thead>\n",
        "    <tr style=\"text-align: right;\">\n",
        "      <th></th>\n",
        "      <th>subj</th>\n",
        "      <th>task</th>\n",
        "      <th>cluster</th>\n",
        "      <th>pattern</th>\n",
        "      <th>mean_activity_stim</th>\n",
        "      <th>mean_activity_resp</th>\n",
        "      <th>std_activity_stim</th>\n",
        "      <th>std_activity_resp</th>\n",
        "      <th>max_activity_stim</th>\n",
        "      <th>max_activity_resp</th>\n",
        "      <th>sum_activity_stim</th>\n",
        "      <th>sum_activity_resp</th>\n",
        "      <th>lat_activity_stim</th>\n",
        "      <th>lat_activity_resp</th>\n",
        "    </tr>\n",
        "  </thead>\n",
        "  <tbody>\n",
        "    <tr>\n",
        "      <th>0</th>\n",
        "      <td> GP15</td>\n",
        "      <td>     SelfAud</td>\n",
        "      <td> 1</td>\n",
        "      <td> S+sustained</td>\n",
        "      <td> 13.174147</td>\n",
        "      <td>NaN</td>\n",
        "      <td> 35.903786</td>\n",
        "      <td>NaN</td>\n",
        "      <td> 124.514879</td>\n",
        "      <td>NaN</td>\n",
        "      <td> 34252.782013</td>\n",
        "      <td>NaN</td>\n",
        "      <td> 1079.421603</td>\n",
        "      <td>         NaN</td>\n",
        "    </tr>\n",
        "    <tr>\n",
        "      <th>1</th>\n",
        "      <td> ST27</td>\n",
        "      <td> DecisionVis</td>\n",
        "      <td> 4</td>\n",
        "      <td>           D</td>\n",
        "      <td> 11.720021</td>\n",
        "      <td>NaN</td>\n",
        "      <td> 36.357345</td>\n",
        "      <td>NaN</td>\n",
        "      <td> 120.074367</td>\n",
        "      <td>NaN</td>\n",
        "      <td> 22578.154627</td>\n",
        "      <td>NaN</td>\n",
        "      <td>  774.759526</td>\n",
        "      <td> 2410.483497</td>\n",
        "    </tr>\n",
        "  </tbody>\n",
        "</table>\n",
        "</div>"
       ],
       "metadata": {},
       "output_type": "pyout",
       "prompt_number": 411,
       "text": [
        "   subj         task  cluster      pattern  mean_activity_stim  \\\n",
        "0  GP15      SelfAud        1  S+sustained           13.174147   \n",
        "1  ST27  DecisionVis        4            D           11.720021   \n",
        "\n",
        "   mean_activity_resp  std_activity_stim  std_activity_resp  \\\n",
        "0                 NaN          35.903786                NaN   \n",
        "1                 NaN          36.357345                NaN   \n",
        "\n",
        "   max_activity_stim  max_activity_resp  sum_activity_stim  sum_activity_resp  \\\n",
        "0         124.514879                NaN       34252.782013                NaN   \n",
        "1         120.074367                NaN       22578.154627                NaN   \n",
        "\n",
        "   lat_activity_stim  lat_activity_resp  \n",
        "0        1079.421603                NaN  \n",
        "1         774.759526        2410.483497  "
       ]
      }
     ],
     "prompt_number": 411
    },
    {
     "cell_type": "code",
     "collapsed": false,
     "input": [
      "f,ax = plt.subplots()\n",
      "ax.autoscale(enable = True, tight = True)\n",
      "cax = ax.pcolormesh(cdata_dur_stim, zorder = 0)\n",
      "cbar = f.colorbar(cax, ticks = [-150, 0 , 150], orientation = 'vertical')\n",
      "cax.set_clim(vmin=-150,vmax=150)\n",
      "\n",
      "for j in np.arange(len(RTs)):\n",
      "    ax.plot((RTs[j], RTs[j]), (j-0.5, j+0.5), 'k', linewidth = 3,zorder = 1)\n",
      "\n",
      "plt.savefig('/home/knight/matar/stimlocked_nanpad.png')"
     ],
     "language": "python",
     "metadata": {},
     "outputs": [
      {
       "metadata": {},
       "output_type": "display_data",
       "png": "[encoded data removed]",
       "text": [
        "<matplotlib.figure.Figure at 0x7fcfc13f1050>"
       ]
      }
     ],
     "prompt_number": 488
    },
    {
     "cell_type": "markdown",
     "metadata": {},
     "source": [
      "## calculate ttest between fast and slow RT trials for the different metrics (use median split)\n",
      "## shadeplots_clust_stats_RTsplit.py has code"
     ]
    },
    {
     "cell_type": "code",
     "collapsed": false,
     "input": [
      "%reset"
     ],
     "language": "python",
     "metadata": {},
     "outputs": [
      {
       "name": "stdout",
       "output_type": "stream",
       "stream": "stdout",
       "text": [
        "Once deleted, variables cannot be recovered. Proceed (y/[n])? y\n"
       ]
      }
     ],
     "prompt_number": 653
    },
    {
     "cell_type": "code",
     "collapsed": false,
     "input": [
      "from scipy import stats"
     ],
     "language": "python",
     "metadata": {},
     "outputs": [],
     "prompt_number": 661
    },
    {
     "cell_type": "code",
     "collapsed": false,
     "input": [
      "mean_p_stim = list()\n",
      "std_p_stim = list()\n",
      "max_p_stim = list()\n",
      "lat_p_stim = list()\n",
      "sum_p_stim = list()\n",
      "mean_p_resp = list()\n",
      "std_p_resp = list()\n",
      "max_p_resp = list()\n",
      "sum_p_resp = list()\n",
      "lat_p_resp = list()\n",
      "lat_pro_p_stim = list()\n",
      "lat_pro_p_resp = list()\n",
      "subjs = list(); tasks = list(); clusts = list(); patterns = list()"
     ],
     "language": "python",
     "metadata": {},
     "outputs": [],
     "prompt_number": 678
    },
    {
     "cell_type": "code",
     "collapsed": false,
     "input": [
      "mean_slow_mean_stim = list(); mean_fast_mean_stim = list()\n",
      "std_fast_mean_stim = list(); std_slow_mean_stim = list()\n",
      "max_slow_mean_stim = list(); max_fast_mean_stim = list()\n",
      "lat_slow_mean_stim = list(); lat_fast_mean_stim = list()\n",
      "sum_slow_mean_stim = list(); sum_fast_mean_stim = list()\n",
      "lat_pro_slow_mean_stim = list(); lat_pro_fast_mean_stim = list()\n",
      "\n",
      "mean_slow_mean_resp = list(); mean_fast_mean_resp = list()\n",
      "std_fast_mean_resp = list(); std_slow_mean_resp = list()\n",
      "max_slow_mean_resp = list(); max_fast_mean_resp = list()\n",
      "lat_slow_mean_resp = list(); lat_fast_mean_resp = list()\n",
      "sum_slow_mean_resp = list(); sum_fast_mean_resp = list()\n",
      "lat_pro_slow_mean_resp = list(); lat_pro_fast_mean_resp = list()"
     ],
     "language": "python",
     "metadata": {},
     "outputs": [],
     "prompt_number": 679
    },
    {
     "cell_type": "code",
     "collapsed": false,
     "input": [
      "df.loc[df.pattern == 'SR'].iloc[1]"
     ],
     "language": "python",
     "metadata": {},
     "outputs": [
      {
       "metadata": {},
       "output_type": "pyout",
       "prompt_number": 707,
       "text": [
        "subj                           CP9\n",
        "task                   DecisionAud\n",
        "cluster                          2\n",
        "pattern                         SR\n",
        "start_idx                      713\n",
        "end_idx                       1391\n",
        "start_idx_resp                  79\n",
        "end_idx_resp                   500\n",
        "all_criteria_passed          False\n",
        "Name: 131, dtype: object"
       ]
      }
     ],
     "prompt_number": 707
    },
    {
     "cell_type": "code",
     "collapsed": false,
     "input": [
      "keys = ['subj','task','cluster','pattern','mean_p_stim','mean_p_resp','std_p_stim','std_p_resp','max_p_stim','max_p_resp','sum_p_stim','sum_p_resp','lat_p_stim','lat_p_resp','lat_pro_p_stim','lat_pro_p_resp']\n",
      "values = [subjs, tasks, clusts, patterns, mean_p_stim, mean_p_resp, std_p_stim, std_p_resp, max_p_stim, max_p_resp, sum_p_stim, sum_p_resp, lat_p_stim, lat_p_resp, lat_pro_p_stim, lat_pro_p_resp]\n",
      "activity_stats = dict(zip(keys, values))\n"
     ],
     "language": "python",
     "metadata": {},
     "outputs": [],
     "prompt_number": 709
    },
    {
     "cell_type": "code",
     "collapsed": false,
     "input": [
      "for k in activity_stats.keys():\n",
      "    print k\n",
      "    print len(activity_stats[k])"
     ],
     "language": "python",
     "metadata": {},
     "outputs": [
      {
       "output_type": "stream",
       "stream": "stdout",
       "text": [
        "std_p_stim\n",
        "6\n",
        "std_p_resp\n",
        "6\n",
        "task\n",
        "6\n",
        "lat_pro_p_stim\n",
        "6\n",
        "pattern\n",
        "6\n",
        "sum_p_stim\n",
        "6\n",
        "lat_p_stim\n",
        "6\n",
        "max_p_resp\n",
        "6\n",
        "sum_p_resp\n",
        "6\n",
        "cluster\n",
        "6\n",
        "max_p_stim\n",
        "6\n",
        "lat_p_resp\n",
        "6\n",
        "mean_p_resp\n",
        "6\n",
        "mean_p_stim\n",
        "6\n",
        "subj\n",
        "6\n",
        "lat_pro_p_resp\n",
        "6\n"
       ]
      }
     ],
     "prompt_number": 710
    },
    {
     "cell_type": "code",
     "collapsed": false,
     "input": [
      "df_stats = pd.DataFrame(activity_stats)"
     ],
     "language": "python",
     "metadata": {},
     "outputs": [],
     "prompt_number": 711
    },
    {
     "cell_type": "code",
     "collapsed": false,
     "input": [
      "df_stats = df_stats[keys]"
     ],
     "language": "python",
     "metadata": {},
     "outputs": [],
     "prompt_number": 712
    },
    {
     "cell_type": "markdown",
     "metadata": {},
     "source": [
      "## plot traces for fast vs slow trials for each duration cluster"
     ]
    },
    {
     "cell_type": "code",
     "collapsed": false,
     "input": [
      "import os\n",
      "import cPickle as pickle\n",
      "import pandas as pd\n",
      "import matplotlib.pyplot as plt"
     ],
     "language": "python",
     "metadata": {},
     "outputs": [],
     "prompt_number": 1
    },
    {
     "cell_type": "code",
     "collapsed": false,
     "input": [
      "SJdir = '/home/knight/matar/MATLAB/DATA/Avgusta/'\n",
      "\n",
      "filename = os.path.join(SJdir,'PCA','duration_dict_500_FINAL', 'stim_resp_cluster_windows_withduration_EDITED.xlsx')\n",
      "df = pd.ExcelFile(filename)\n",
      "df = df.parse('stim_resp_cluster_windows_withd')"
     ],
     "language": "python",
     "metadata": {},
     "outputs": [],
     "prompt_number": 2
    },
    {
     "cell_type": "code",
     "collapsed": false,
     "input": [
      "df.query(\"subj == 'GP15' and task == 'EmoGen'\")"
     ],
     "language": "python",
     "metadata": {},
     "outputs": [
      {
       "html": [
        "<div style=\"max-height:1000px;max-width:1500px;overflow:auto;\">\n",
        "<table border=\"1\" class=\"dataframe\">\n",
        "  <thead>\n",
        "    <tr style=\"text-align: right;\">\n",
        "      <th></th>\n",
        "      <th>subj</th>\n",
        "      <th>task</th>\n",
        "      <th>cluster</th>\n",
        "      <th>pattern</th>\n",
        "      <th>start_idx</th>\n",
        "      <th>end_idx</th>\n",
        "      <th>start_idx_resp</th>\n",
        "      <th>end_idx_resp</th>\n",
        "      <th>all_criteria_passed</th>\n",
        "    </tr>\n",
        "  </thead>\n",
        "  <tbody>\n",
        "    <tr>\n",
        "      <th>1  </th>\n",
        "      <td> GP15</td>\n",
        "      <td> EmoGen</td>\n",
        "      <td> 4</td>\n",
        "      <td>  D</td>\n",
        "      <td> 695</td>\n",
        "      <td> NaN</td>\n",
        "      <td> NaN</td>\n",
        "      <td> 481</td>\n",
        "      <td>  True</td>\n",
        "    </tr>\n",
        "    <tr>\n",
        "      <th>2  </th>\n",
        "      <td> GP15</td>\n",
        "      <td> EmoGen</td>\n",
        "      <td> 5</td>\n",
        "      <td>  D</td>\n",
        "      <td> 427</td>\n",
        "      <td> NaN</td>\n",
        "      <td> NaN</td>\n",
        "      <td> 506</td>\n",
        "      <td>  True</td>\n",
        "    </tr>\n",
        "    <tr>\n",
        "      <th>3  </th>\n",
        "      <td> GP15</td>\n",
        "      <td> EmoGen</td>\n",
        "      <td> 6</td>\n",
        "      <td>  D</td>\n",
        "      <td>  94</td>\n",
        "      <td> NaN</td>\n",
        "      <td> NaN</td>\n",
        "      <td> 506</td>\n",
        "      <td>  True</td>\n",
        "    </tr>\n",
        "    <tr>\n",
        "      <th>51 </th>\n",
        "      <td> GP15</td>\n",
        "      <td> EmoGen</td>\n",
        "      <td> 3</td>\n",
        "      <td>  R</td>\n",
        "      <td> NaN</td>\n",
        "      <td> NaN</td>\n",
        "      <td>-507</td>\n",
        "      <td> 508</td>\n",
        "      <td> False</td>\n",
        "    </tr>\n",
        "    <tr>\n",
        "      <th>137</th>\n",
        "      <td> GP15</td>\n",
        "      <td> EmoGen</td>\n",
        "      <td> 1</td>\n",
        "      <td> SR</td>\n",
        "      <td>  24</td>\n",
        "      <td> 946</td>\n",
        "      <td>  40</td>\n",
        "      <td> 508</td>\n",
        "      <td> False</td>\n",
        "    </tr>\n",
        "  </tbody>\n",
        "</table>\n",
        "</div>"
       ],
       "metadata": {},
       "output_type": "pyout",
       "prompt_number": 3,
       "text": [
        "     subj    task  cluster pattern  start_idx  end_idx  start_idx_resp  \\\n",
        "1    GP15  EmoGen        4       D        695      NaN             NaN   \n",
        "2    GP15  EmoGen        5       D        427      NaN             NaN   \n",
        "3    GP15  EmoGen        6       D         94      NaN             NaN   \n",
        "51   GP15  EmoGen        3       R        NaN      NaN            -507   \n",
        "137  GP15  EmoGen        1      SR         24      946              40   \n",
        "\n",
        "     end_idx_resp all_criteria_passed  \n",
        "1             481                True  \n",
        "2             506                True  \n",
        "3             506                True  \n",
        "51            508               False  \n",
        "137           508               False  "
       ]
      }
     ],
     "prompt_number": 3
    },
    {
     "cell_type": "code",
     "collapsed": false,
     "input": [
      "subj = 'GP15'\n",
      "task = 'EmoGen'\n",
      "cluster = 3\n",
      "\n",
      "filename = os.path.join(SJdir, 'PCA','ShadePlots_hclust', 'data', ''.join([subj, '_', task, '_c', str(cluster), '.p']))\n",
      "with open(filename, 'r') as x:\n",
      "    data_dict = pickle.load(x)\n",
      "    x.close()\n",
      "\n",
      "cdata, bl_st, srate, RTs = [data_dict.get(k) for k in ['cdata','bl_st', 'srate','RTs']]\n",
      "\n",
      "#calculate median RT to split trials\n",
      "slowidx = np.where(RTs > np.median(RTs))[0]\n",
      "fastidx = np.where(RTs < np.median(RTs))[0]"
     ],
     "language": "python",
     "metadata": {},
     "outputs": [],
     "prompt_number": 7
    },
    {
     "cell_type": "code",
     "collapsed": false,
     "input": [],
     "language": "python",
     "metadata": {},
     "outputs": [
      {
       "metadata": {},
       "output_type": "pyout",
       "prompt_number": 10,
       "text": [
        "2410.6266666666666"
       ]
      }
     ],
     "prompt_number": 10
    },
    {
     "cell_type": "code",
     "collapsed": false,
     "input": [
      "print (RTs[slowidx]-abs(bl_st)).mean() \n",
      "print (RTs[fastidx]-abs(bl_st)).mean() "
     ],
     "language": "python",
     "metadata": {},
     "outputs": [
      {
       "output_type": "stream",
       "stream": "stdout",
       "text": [
        "2652.68055556\n",
        "1434.36986301\n"
       ]
      }
     ],
     "prompt_number": 15
    },
    {
     "cell_type": "code",
     "collapsed": false,
     "input": [
      "for row in df.itertuples():\n",
      "    i, subj, task, cluster, pattern, start_idx, end_idx, start_idx_resp, end_idx_resp, _ = row\n",
      "    \n",
      "    if pattern == 'D':\n",
      "        #load data (stim)\n",
      "        filename = os.path.join(SJdir, 'PCA','ShadePlots_hclust', 'data', ''.join([subj, '_', task, '_c', str(cluster), '.p']))\n",
      "        with open(filename, 'r') as x:\n",
      "            data_dict = pickle.load(x)\n",
      "            x.close()\n",
      "\n",
      "        cdata, bl_st, srate, RTs = [data_dict.get(k) for k in ['cdata','bl_st', 'srate','RTs']]\n",
      "\n",
      "        #calculate median RT to split trials\n",
      "        slowidx = np.where(RTs > np.median(RTs))[0]\n",
      "        fastidx = np.where(RTs < np.median(RTs))[0]\n",
      "\n",
      "        #if slowidx.shape > fastidx.shape:\n",
      "        #    slowidx = slowidx[0:len(fastidx)]\n",
      "        #if slowidx.shape < fastidx.shape:\n",
      "        #    fastidx = fastidx[0:len(slowidx)]\n",
      "        \n",
      "        cdata_slow = cdata[slowidx,:].mean(axis = 0)\n",
      "        cdata_fast = cdata[fastidx,:].mean(axis= 0)\n",
      "        \n",
      "        sem_slow = np.std(cdata[slowidx,:], axis = 0)/np.sqrt(len(slowidx))\n",
      "        sem_fast = np.std(cdata[fastidx,:], axis = 0)/np.sqrt(len(fastidx))\n",
      "\n",
      "        #plot\n",
      "        f, ax = plt.subplots(figsize = (10,10))\n",
      "        scale_min = min(cdata_slow.min(), cdata_fast.min()) - 10\n",
      "        scale_max = min(cdata_slow.max(), cdata_fast.max()) + 10\n",
      "        tmp = (np.arange(scale_min, scale_max))\n",
      "\n",
      "        ax.plot(np.arange(bl_st, len(cdata_slow)+bl_st), cdata_slow, zorder = 1, linewidth = 3, label = 'slow')\n",
      "        ax.fill_between(np.arange(bl_st, len(cdata_slow)+bl_st), cdata_slow+sem_slow, cdata_slow-sem_slow, alpha = 0.5, zorder = 0, edgecolor = 'None', facecolor = 'slateblue')\n",
      "        ax.plot(np.arange(bl_st, len(cdata_slow)+bl_st), np.zeros(len(cdata_slow)), color = 'k', linewidth = 3) #xaxis\n",
      "        ax.plot(np.zeros(tmp.size), tmp, color = 'k', linewidth = 3) #yaxis\n",
      "        \n",
      "        ax.plot(np.arange(bl_st, len(cdata_fast)+bl_st), cdata_fast, zorder = 1, linewidth = 3, label = 'fast')\n",
      "        ax.fill_between(np.arange(bl_st, len(cdata_fast)+bl_st), cdata_fast+sem_fast, cdata_fast-sem_fast, alpha = 0.5, zorder = 0, edgecolor = 'None', facecolor = 'green')\n",
      "        ax.plot(np.arange(bl_st, len(cdata_fast)+bl_st), np.zeros(len(cdata_fast)), color = 'k', linewidth = 3) #xaxis\n",
      "        ax.plot(np.zeros(tmp.size), tmp, color = 'k', linewidth = 3) #yaxis\n",
      "        \n",
      "        ax.legend()\n",
      "        \n",
      "        ax.set_ylabel('% change HG')\n",
      "        ax.set_xlabel('time (ms)')\n",
      "        ax.autoscale(tight=True)\n",
      "        ax.spines['top'].set_visible(False)\n",
      "        ax.spines['right'].set_visible(False)\n",
      "        ax.get_xaxis().tick_bottom()\n",
      "        ax.get_yaxis().tick_left()\n",
      "\n",
      "        ax.set_title(' '.join([subj, task, ': c', str(cluster)]))\n",
      "        plt.savefig(os.path.join(SJdir, 'PCA', 'ShadePlots_hclust','RTsplit', ''.join([subj, '_', task, '_', str(cluster), '_fast_vs_slow.png'])))\n",
      "        plt.close()\n"
     ],
     "language": "python",
     "metadata": {},
     "outputs": [],
     "prompt_number": 6
    },
    {
     "cell_type": "code",
     "collapsed": false,
     "input": [
      "min(cdata_slow.min(), cdata_fast.min()) - 10"
     ],
     "language": "python",
     "metadata": {},
     "outputs": [
      {
       "metadata": {},
       "output_type": "pyout",
       "prompt_number": 15,
       "text": [
        "-18.222945773640124"
       ]
      }
     ],
     "prompt_number": 15
    },
    {
     "cell_type": "code",
     "collapsed": false,
     "input": [],
     "language": "python",
     "metadata": {},
     "outputs": []
    },
    {
     "cell_type": "markdown",
     "metadata": {},
     "source": []
    },
    {
     "cell_type": "markdown",
     "metadata": {},
     "source": [
      "#OLD"
     ]
    },
    {
     "cell_type": "code",
     "collapsed": false,
     "input": [
      "f,ax = plt.subplots()\n",
      "ax.autoscale(enable = True, tight = True)\n",
      "cax = ax.pcolormesh(data_dict['cdata'], zorder = 0)\n",
      "cbar = f.colorbar(cax, ticks = [-150, 0 , 150], orientation = 'vertical')\n",
      "cax.set_clim(vmin=-150,vmax=150)\n",
      "\n",
      "for j in np.arange(len(data_dict['RTs'])):\n",
      "    ax.plot((data_dict['RTs'][j]-500, data_dict['RTs'][j]-500), (j-0.5, j+0.5), 'k', linewidth = 3,zorder = 1)\n",
      "print (subj, task, cluster)"
     ],
     "language": "python",
     "metadata": {},
     "outputs": [
      {
       "output_type": "stream",
       "stream": "stdout",
       "text": [
        "(u'ST6', u'SelfVis', 2)\n"
       ]
      },
      {
       "metadata": {},
       "output_type": "display_data",
       "png": "[encoded data removed]",
       "text": [
        "<matplotlib.figure.Figure at 0x7fcfdcd6e950>"
       ]
      }
     ],
     "prompt_number": 426
    },
    {
     "cell_type": "markdown",
     "metadata": {},
     "source": [
      "### csv file with activity windows for each cluster (STIM)"
     ]
    },
    {
     "cell_type": "code",
     "collapsed": false,
     "input": [
      "subjs = list()\n",
      "tasks = list()\n",
      "start_window = list(); start_window_ms = list()\n",
      "end_window = list(); end_window_ms = list()\n",
      "clusts = list()\n",
      "\n",
      "for n,m in enumerate(reconlist.values):\n",
      "    subj_task, recon, _, srate, _ = m\n",
      "    if isinstance(recon, float):\n",
      "        continue\n",
      "    subj, task = subj_task.split('_')\n",
      "    \n",
      "    #load TvD_full (load onset of red window for both significant and insignificant)\n",
      "    filename = os.path.join(SJdir, 'PCA','ShadePlots_hclust_thresh15', '_'.join([subj, task, 'TvD.mat']))\n",
      "    data = loadmat.loadmat(filename)\n",
      "    \n",
      "    params = data['Params']\n",
      "    TvD = data['TvD']\n",
      "    if len(TvD.shape) == 1:\n",
      "        TvD = TvD.reshape(1, TvD.size)\n",
      "        \n",
      "    clusters = list()\n",
      "    for c in TvD[:,0]:\n",
      "        clusters.append(str(c))\n",
      "\n",
      "    for i, x in enumerate(clusters):\n",
      "        st_tp = TvD[i,3] #all significant windows\n",
      "        \n",
      "        if len(st_tp.shape) ==1:\n",
      "            st_tp = st_tp.reshape(1, st_tp.size)\n",
      "        \n",
      "        st_tp_ms = np.round(st_tp/srate*1000)\n",
      "        \n",
      "        for j in np.arange(st_tp.shape[0]):\n",
      "            start_window.append(st_tp[j-1,0])\n",
      "            end_window.append(st_tp[j-1,1])\n",
      "            subjs.append(subj)\n",
      "            tasks.append(task)\n",
      "            clusts.append(int(x.split('_')[-1].split('.')[0][1:]))\n",
      "            start_window_ms.append(st_tp_ms[j-1,0])\n",
      "            end_window_ms.append(st_tp_ms[j-1,1])\n",
      "       \n",
      "activity_windows = {'subj' : subjs, 'task' : tasks, 'cluster' : clusts, 'start' : start_window, 'end' : end_window, 'start_ms':start_window_ms, 'end_ms': end_window_ms}\n",
      "df = pd.DataFrame(activity_windows)\n",
      "df = df[['subj','task','cluster','start','end', 'start_ms', 'end_ms']]\n",
      "df = df.sort(['subj','task','cluster','start'])\n",
      "filename = os.path.join(SJdir,'PCA','ShadePlots_hclust_thresh15', 'activity_windows.csv')\n",
      "filename\n",
      "df.to_csv(filename)"
     ],
     "language": "python",
     "metadata": {},
     "outputs": [],
     "prompt_number": 297
    },
    {
     "cell_type": "markdown",
     "metadata": {},
     "source": [
      "### csv file with activity windows for each cluster (RESP)"
     ]
    },
    {
     "cell_type": "code",
     "collapsed": false,
     "input": [
      "subjs = list()\n",
      "tasks = list()\n",
      "start_window = list(); start_window_ms = list()\n",
      "end_window = list(); end_window_ms = list()\n",
      "clusts = list()\n",
      "\n",
      "for n,m in enumerate(reconlist.values):\n",
      "    subj_task, recon, _, srate, _ = m\n",
      "    if isinstance(recon, float):\n",
      "        continue\n",
      "    subj, task = subj_task.split('_')\n",
      "    \n",
      "    #load TvD_full (load onset of red window for both significant and insignificant)\n",
      "    filename = os.path.join(SJdir, 'PCA','ShadePlots_hclust', '_'.join([subj, task, 'TvD_resp.mat']))\n",
      "    data = loadmat.loadmat(filename)\n",
      "    \n",
      "    params = data['Params']\n",
      "    TvD = data['TvD']\n",
      "    if len(TvD.shape) == 1:\n",
      "        TvD = TvD.reshape(1, TvD.size)\n",
      "        \n",
      "    clusters = list()\n",
      "    for c in TvD[:,0]:\n",
      "        clusters.append(str(c))\n",
      "\n",
      "    for i, x in enumerate(clusters):\n",
      "        st_tp = TvD[i,3] #all significant windows\n",
      "        \n",
      "        if len(st_tp.shape) ==1:\n",
      "            st_tp = st_tp.reshape(1, st_tp.size)\n",
      "        \n",
      "        st_tp_ms = np.round(st_tp/srate*1000)\n",
      "        \n",
      "        for j in np.arange(st_tp.shape[0]):\n",
      "            start_window.append(st_tp[j-1,0])\n",
      "            end_window.append(st_tp[j-1,1])\n",
      "            subjs.append(subj)\n",
      "            tasks.append(task)\n",
      "            clusts.append(int(x.split('_')[-1].split('.')[0][1:]))\n",
      "            start_window_ms.append(st_tp_ms[j-1,0])\n",
      "            end_window_ms.append(st_tp_ms[j-1,1])\n",
      "       \n",
      "activity_windows = {'subj' : subjs, 'task' : tasks, 'cluster' : clusts, 'start' : start_window, 'end' : end_window, 'start_ms':start_window_ms, 'end_ms': end_window_ms}\n",
      "df = pd.DataFrame(activity_windows)\n",
      "df = df[['subj','task','cluster','start','end', 'start_ms', 'end_ms']]\n",
      "df = df.sort(['subj','task','cluster','start'])\n",
      "filename = os.path.join(SJdir,'PCA','ShadePlots_hclust', 'activity_windows_resp.csv')\n",
      "filename\n"
     ],
     "language": "python",
     "metadata": {},
     "outputs": [
      {
       "metadata": {},
       "output_type": "pyout",
       "prompt_number": 298,
       "text": [
        "'/home/knight/matar/MATLAB/DATA/Avgusta/PCA/ShadePlots_hclust/activity_windows_resp.csv'"
       ]
      }
     ],
     "prompt_number": 298
    },
    {
     "cell_type": "code",
     "collapsed": false,
     "input": [
      "df.to_csv(filename)"
     ],
     "language": "python",
     "metadata": {},
     "outputs": [],
     "prompt_number": 300
    },
    {
     "cell_type": "markdown",
     "metadata": {},
     "source": [
      "## combine stim and resp into 1 csv"
     ]
    },
    {
     "cell_type": "code",
     "collapsed": false,
     "input": [
      "#combine STIM and RESP bigwindow with duration csvs\n",
      "filename = os.path.join(SJdir,'PCA','ShadePlots_hclust', 'activity_windows_resp.csv')\n",
      "df_resp = pd.read_csv(filename)\n",
      "df_resp = df_resp[['subj','task','cluster','start','end', 'start_ms', 'end_ms']]\n",
      "df_resp.columns = ['subj','task', 'cluster', 'start_resp', 'end_resp', 'start_ms_resp', 'end_ms_resp']\n",
      "df_resp = df_resp.drop_duplicates(cols = ['subj','task','cluster'])\n",
      "\n",
      "filename = os.path.join(SJdir,'PCA','ShadePlots_hclust_thresh15', 'activity_windows.csv')\n",
      "df_stim = pd.read_csv(filename)\n",
      "df_stim = df_stim[['subj','task','cluster','start','end', 'start_ms', 'end_ms']]\n",
      "df_stim = df_stim.drop_duplicates(cols = ['subj','task','cluster'])\n"
     ],
     "language": "python",
     "metadata": {},
     "outputs": [
      {
       "output_type": "stream",
       "stream": "stderr",
       "text": [
        "/usr/local/anaconda/lib/python2.7/site-packages/pandas-0.14.0-py2.7-linux-x86_64.egg/pandas/util/decorators.py:53: FutureWarning: cols is deprecated, use subset instead\n",
        "  warnings.warn(msg, FutureWarning)\n"
       ]
      }
     ],
     "prompt_number": 23
    },
    {
     "cell_type": "code",
     "collapsed": false,
     "input": [
      "df_all = df_stim.merge(df_resp, on = ['subj','task', 'cluster'], how = 'outer')\n",
      "\n",
      "df_all = df_all[['subj','task','cluster', 'start_ms','end_ms','start_ms_resp','end_ms_resp','start','end', 'start_resp','end_resp']]\n",
      "df_all = df_all.drop_duplicates(cols = ['subj','task','cluster'])\n",
      "filename = os.path.join(SJdir, 'PCA', 'ShadePlots_hclust_thresh15', 'activity_windows_stim_resp.csv')\n",
      "df_all.to_csv(filename)\n",
      "\n",
      "print df_all.shape\n",
      "print df_resp.shape\n",
      "print df_stim.shape"
     ],
     "language": "python",
     "metadata": {},
     "outputs": [
      {
       "output_type": "stream",
       "stream": "stdout",
       "text": [
        "(210, 11)\n",
        "(205, 7)\n",
        "(167, 7)\n"
       ]
      }
     ],
     "prompt_number": 40
    },
    {
     "cell_type": "markdown",
     "metadata": {},
     "source": [
      "##combine with info from groupidx"
     ]
    },
    {
     "cell_type": "code",
     "collapsed": false,
     "input": [
      "filename = os.path.join(SJdir, 'PCA', 'ShadePlots_hclust_thresh15', 'activity_windows_stim_resp.csv')\n",
      "df_shade = pd.read_csv(filename)\n",
      "df_shade = df_shade[['subj','task','cluster','start','end','start_resp','end_resp']]"
     ],
     "language": "python",
     "metadata": {},
     "outputs": [],
     "prompt_number": 78
    },
    {
     "cell_type": "code",
     "collapsed": false,
     "input": [
      "filename = os.path.join(SJdir, 'PCA', 'duration_dict_500', 'groupidx_activeclusters_hclust_withduration_thresh15_maxRTlocked_withcriteria_ROI.csv')\n",
      "df = pd.read_csv(filename)\n",
      "df = df[list(df.columns[3:])] #drop weird rows\n",
      "df.rename(columns={'group':'cluster'}, inplace=True)"
     ],
     "language": "python",
     "metadata": {},
     "outputs": [],
     "prompt_number": 79
    },
    {
     "cell_type": "code",
     "collapsed": false,
     "input": [
      "df.columns"
     ],
     "language": "python",
     "metadata": {},
     "outputs": [
      {
       "metadata": {},
       "output_type": "pyout",
       "prompt_number": 80,
       "text": [
        "Index([u'subj', u'task', u'cluster', u'active_cluster_stim', u'active_cluster_resp', u'HGonset', u'best_offset', u'Rvals', u'pvals', u'active_elecs', u'mean', u'max_resplocked', u'postRT_max', u'Rvals_passed', u'pvals_passed', u'best_offset_passed', u'max_resplocked_passed', u'postRT_max_passed', u'all_criteria_passed', u'best_offset_less-300', u'max_resplocked_more-50', u'ROI'], dtype='object')"
       ]
      }
     ],
     "prompt_number": 80
    },
    {
     "cell_type": "code",
     "collapsed": false,
     "input": [
      "df_all = pd.merge(df[['subj','task','cluster','postRT_max', 'best_offset_less-300','max_resplocked_more-50', 'all_criteria_passed']], df_shade, how = 'outer', on = ['subj','task','cluster'])"
     ],
     "language": "python",
     "metadata": {},
     "outputs": [],
     "prompt_number": 81
    },
    {
     "cell_type": "code",
     "collapsed": false,
     "input": [
      "#cols = list(df_all.columns)\n",
      "#cols.remove('Unnamed: 0')\n",
      "#df_all = df_all[cols]\n",
      "\n",
      "df_all = df_all.drop_duplicates(cols = ['subj','task','cluster'])\n",
      "df_all = df_all.sort(['subj','task','cluster'])\n",
      "\n",
      "df_all = df_all[['subj','task','cluster','start','end', 'start_resp','end_resp','postRT_max', 'best_offset_less-300','max_resplocked_more-50', 'all_criteria_passed' ]]"
     ],
     "language": "python",
     "metadata": {},
     "outputs": [],
     "prompt_number": 82
    },
    {
     "cell_type": "code",
     "collapsed": false,
     "input": [
      "filename = os.path.join(SJdir, 'PCA', 'ShadePlots_hclust_thresh15', 'activity_windows_stim_resp_withcriteria.csv')\n",
      "df_all.to_csv(filename)"
     ],
     "language": "python",
     "metadata": {},
     "outputs": [],
     "prompt_number": 83
    },
    {
     "cell_type": "markdown",
     "metadata": {},
     "source": [
      "## add ROIs to cluster"
     ]
    },
    {
     "cell_type": "code",
     "collapsed": false,
     "input": [
      "filename = os.path.join(SJdir, 'PCA', 'duration_dict_500', 'groupidx_activeclusters_hclust_withduration_thresh15_maxRTlocked_withcriteria_ROI.csv')\n",
      "df = pd.read_csv(filename)\n",
      "df = df[list(df.columns[3:])] #drop weird rows\n",
      "df.rename(columns={'group':'cluster'}, inplace=True)"
     ],
     "language": "python",
     "metadata": {},
     "outputs": [],
     "prompt_number": 281
    },
    {
     "cell_type": "code",
     "collapsed": false,
     "input": [
      "df_all_stats = pd.merge(df[['subj','task','cluster','active_elecs', 'all_criteria_passed', 'ROI']], df_all, how = 'outer', on = ['subj','task','cluster'])"
     ],
     "language": "python",
     "metadata": {},
     "outputs": [],
     "prompt_number": 282
    },
    {
     "cell_type": "code",
     "collapsed": false,
     "input": [
      "filename = os.path.join(SJdir, 'PCA', 'duration_dict_500', 'groupidx_activeclusters_hclust_withduration_thresh15_maxRTlocked_withcriteria_ROI_shadeplot.csv')\n",
      "df_all_stats.to_csv(filename)"
     ],
     "language": "python",
     "metadata": {},
     "outputs": [],
     "prompt_number": 283
    },
    {
     "cell_type": "code",
     "collapsed": false,
     "input": [
      "#drop duplicates\n",
      "filename = os.path.join(SJdir, 'PCA', 'duration_dict_500', 'groupidx_activeclusters_hclust_withduration_thresh15_maxRTlocked_withcriteria_ROI_shadeplot.csv')\n",
      "df_all_stats = pd.read_csv(filename)\n",
      "\n",
      "df_all_stats.columns\n",
      "df_all_stats = df_all_stats.drop_duplicates(cols = ['subj','task','cluster','active_elecs'])\n",
      "\n",
      "df_all_stats = df_all_stats.sort(['subj','task','cluster', 'active_elecs'])\n",
      "\n",
      "filename = os.path.join(SJdir, 'PCA', 'duration_dict_500', 'groupidx_activeclusters_hclust_withduration_thresh15_maxRTlocked_withcriteria_ROI_shadeplot_dropduplicates.csv')\n",
      "df_all_stats.to_csv(filename)"
     ],
     "language": "python",
     "metadata": {},
     "outputs": [],
     "prompt_number": 292
    },
    {
     "cell_type": "code",
     "collapsed": false,
     "input": [],
     "language": "python",
     "metadata": {},
     "outputs": []
    }
   ],
   "metadata": {}
  }
 ]
}